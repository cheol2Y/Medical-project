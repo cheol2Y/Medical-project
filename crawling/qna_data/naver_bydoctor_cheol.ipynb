{
 "cells": [
  {
   "cell_type": "markdown",
   "metadata": {},
   "source": [
    "# 필수 모듈 임포트"
   ]
  },
  {
   "cell_type": "code",
   "execution_count": 1,
   "metadata": {},
   "outputs": [
    {
     "name": "stderr",
     "output_type": "stream",
     "text": [
      "C:\\Users\\user\\AppData\\Local\\Temp\\ipykernel_24176\\1814035643.py:7: DeprecationWarning: \n",
      "Pyarrow will become a required dependency of pandas in the next major release of pandas (pandas 3.0),\n",
      "(to allow more performant data types, such as the Arrow string type, and better interoperability with other libraries)\n",
      "but was not found to be installed on your system.\n",
      "If this would cause problems for you,\n",
      "please provide us feedback at https://github.com/pandas-dev/pandas/issues/54466\n",
      "        \n",
      "  import pandas as pd\n"
     ]
    }
   ],
   "source": [
    "# 필수 모듈 임포트\n",
    "import requests\n",
    "import re\n",
    "from tqdm import tqdm\n",
    "import requests\n",
    "from bs4 import BeautifulSoup\n",
    "import pandas as pd\n",
    "import time\n",
    "import random\n",
    "import json"
   ]
  },
  {
   "cell_type": "markdown",
   "metadata": {},
   "source": [
    "# 크롤링 함수 정의"
   ]
  },
  {
   "cell_type": "markdown",
   "metadata": {},
   "source": [
    "## json 저장 및 로드 함수"
   ]
  },
  {
   "cell_type": "code",
   "execution_count": 11,
   "metadata": {},
   "outputs": [],
   "source": [
    "def save_to_json(data, filename):\n",
    "    with open(filename, 'w', encoding='utf-8') as f:\n",
    "        json.dump(data, f, ensure_ascii=False, indent=4)\n",
    "        \n",
    "def read_from_json(filename):\n",
    "    with open(filename, 'r', encoding='utf-8') as file:\n",
    "        return json.load(file)"
   ]
  },
  {
   "cell_type": "markdown",
   "metadata": {},
   "source": [
    "## 인덱스 호출 함수"
   ]
  },
  {
   "cell_type": "code",
   "execution_count": 12,
   "metadata": {},
   "outputs": [],
   "source": [
    "def load_last_index(filename):\n",
    "    try:\n",
    "        with open(filename, 'r') as file:\n",
    "            data = json.load(file)\n",
    "            return data.get('last_completed_page') or data.get('last_processed_index')\n",
    "    except FileNotFoundError:\n",
    "        return 0  # 파일이 없을 경우 0부터 시작"
   ]
  },
  {
   "cell_type": "markdown",
   "metadata": {},
   "source": [
    "## - 의사 정보 크롤링"
   ]
  },
  {
   "cell_type": "code",
   "execution_count": 13,
   "metadata": {},
   "outputs": [],
   "source": [
    "def scrape_doctor_profiles(max_pages, start_page=0):\n",
    "    base_url = 'https://kin.naver.com/people/expert/index.naver?type=DOCTOR&page={}'\n",
    "    doctor_info = []\n",
    "\n",
    "    for page in tqdm(range(start_page, max_pages + 1)):\n",
    "        url = base_url.format(page)\n",
    "        response = requests.get(url)\n",
    "        soup = BeautifulSoup(response.text, 'html.parser')\n",
    "\n",
    "        # 각 의사의 상세 페이지 링크와 정보를 찾아 리스트에 추가\n",
    "        for item in soup.select('.pro_list li'):\n",
    "            doctor_link_tag = item.find('h5').find('a')\n",
    "            if doctor_link_tag:\n",
    "                doctor_name = doctor_link_tag.text.strip()  # 닥터 이름 추출\n",
    "                doctor_id = doctor_link_tag['href'].split('u=')[1]  # 사용자 ID 추출\n",
    "                specialty_tag = item.find('h6')\n",
    "                specialty = specialty_tag.text.strip() if specialty_tag else '정보 없음' # 전문과목 추출\n",
    "                affiliation_tag = item.find('th', string='소속기관')\n",
    "                affiliation = affiliation_tag.find_next('td').text.strip() if affiliation_tag else '정보 없음' # 소속기관 추출\n",
    "                answer_count_tag = item.find('th', string='총 답변')\n",
    "                answer_count = int(answer_count_tag.find_next('td').text.strip().replace(',', '')) if answer_count_tag else 0 # 총 답변 수 추출\n",
    "\n",
    "                # 의사 정보를 딕셔너리로 저장\n",
    "                doctor_info.append({\n",
    "                    'doctor_id': doctor_id,\n",
    "                    'doctor_name': doctor_name,\n",
    "                    'specialty': specialty,\n",
    "                    'total_answers': answer_count,\n",
    "                    'affiliation': affiliation\n",
    "                })\n",
    "        save_to_json({'last_completed_page': page}, 'last_page.json')\n",
    "\n",
    "    return doctor_info"
   ]
  },
  {
   "cell_type": "code",
   "execution_count": 5,
   "metadata": {},
   "outputs": [
    {
     "name": "stderr",
     "output_type": "stream",
     "text": [
      "100%|██████████| 2/2 [00:00<00:00,  2.64it/s]\n"
     ]
    },
    {
     "data": {
      "text/plain": [
       "{'doctor_id': 'OnBDJZV4kCt9ZeKxepFuNfUzZhlGzWcwpGWftWgpkvE%3D',\n",
       " 'doctor_name': '정현화',\n",
       " 'specialty': '늘행복요양병원',\n",
       " 'total_answers': 84856,\n",
       " 'affiliation': '대한의사협회'}"
      ]
     },
     "execution_count": 5,
     "metadata": {},
     "output_type": "execute_result"
    }
   ],
   "source": [
    "# # 결과값 예시\n",
    "# doctor_profiles = scrape_doctor_profiles(1)\n",
    "# doctor_profiles[0]"
   ]
  },
  {
   "cell_type": "markdown",
   "metadata": {},
   "source": [
    "## - 질문 id 크롤링(의사별)"
   ]
  },
  {
   "cell_type": "code",
   "execution_count": 22,
   "metadata": {},
   "outputs": [],
   "source": [
    "## cheol(0209): print(page) 넣어둠\n",
    "\n",
    "def scrape_info(doctor_id, total_answers):\n",
    "    max_pages = total_answers // 20 + 1 if total_answers % 20 else total_answers // 20\n",
    "    base_url = 'https://kin.naver.com/userinfo/expert/answerList.naver?u={user_id}&page={page}'\n",
    "    all_info = {}\n",
    "\n",
    "    for page in tqdm(range(1, max_pages + 1), desc=f\"Scraping {doctor_id}\"):\n",
    "        url = base_url.format(user_id=doctor_id, page=page)\n",
    "        response = requests.get(url)\n",
    "        soup = BeautifulSoup(response.text, 'html.parser')\n",
    "        # 원하는 정보를 추출하는 정규 표현식 패턴 정의\n",
    "        pattern = r'<a href=\"/qna/detail\\.naver\\?d1id=\\d+&dirId=\\d+&docId=(\\d+)\"'\n",
    "        # 정규 표현식으로 링크 찾기\n",
    "        matches = re.findall(pattern, response.text)\n",
    "        # 날짜 데이터를 추출하여 리스트로 저장\n",
    "        dates = [date.text.strip() for date in soup.select('.t_num.tc')]\n",
    "        # 찾아진 링크와 날짜를 all_info에 추가\n",
    "        \n",
    "        print(page)\n",
    "        \n",
    "        for i in range(len(matches)):\n",
    "            doc_id = matches[i]\n",
    "            date = dates[i] if i < len(dates) else '날짜 없음'\n",
    "            if doctor_id not in all_info:\n",
    "                all_info[doctor_id] = []\n",
    "            all_info[doctor_id].append({'doc_id': doc_id, 'date': date})\n",
    "    return all_info\n"
   ]
  },
  {
   "cell_type": "code",
   "execution_count": 7,
   "metadata": {},
   "outputs": [],
   "source": [
    "# doc_ids = scrape_info(doctor_profiles[0]['doctor_id'],doctor_profiles[0][\"total_answers\"])\n",
    "# doc_ids"
   ]
  },
  {
   "cell_type": "markdown",
   "metadata": {},
   "source": [
    "## 모든 doc_id 추출 함수"
   ]
  },
  {
   "cell_type": "code",
   "execution_count": 35,
   "metadata": {},
   "outputs": [],
   "source": [
    "## cheol: i 2005일때 break 시켰고 last_index.json 2000으로 해뒀음\n",
    "\n",
    "def scrape_doc_ids(doctor_profiles, start_index=0):\n",
    "    try:\n",
    "        last_processed_index = read_from_json('last_index.json')['last_processed_index']\n",
    "    except FileNotFoundError:\n",
    "        last_processed_index = start_index\n",
    "        \n",
    "    doc_ids_data = {}\n",
    "    for i, profile in tqdm(enumerate(doctor_profiles[start_index:], start=start_index), total=len(doctor_profiles[start_index:])):\n",
    "        doctor_id = profile['doctor_id']\n",
    "        doc_ids = scrape_info(doctor_id, profile['total_answers'])\n",
    "        doc_ids_data[doctor_id] = doc_ids\n",
    "        save_to_json({'last_processed_index': i, 'doc_ids_data': doc_ids_data}, 'doc_ids_data_cheol.json')\n",
    "        print('내가',i)\n",
    "        if i == 2005:\n",
    "            break\n",
    "    return doc_ids_data"
   ]
  },
  {
   "cell_type": "code",
   "execution_count": 9,
   "metadata": {},
   "outputs": [],
   "source": [
    "# doc_ids = scrape_doc_ids(doctor_profiles)\n",
    "# doc_ids"
   ]
  },
  {
   "cell_type": "markdown",
   "metadata": {},
   "source": [
    "## 질문 답변 크롤링"
   ]
  },
  {
   "cell_type": "code",
   "execution_count": 113,
   "metadata": {},
   "outputs": [],
   "source": [
    "# 스크래핑 함수 정의\n",
    "\n",
    "## cheol: time.sleep 주석처리함 2개다 주석함\n",
    "## 추가로 doc_id['doc_id'] 이부분 걍 doc_id로함 ( doc_ids는 doc_id만 있는 리스트로 해둠 ㅋ)\n",
    "\n",
    "def scrape_details(doc_ids):\n",
    "    base_url = 'https://kin.naver.com/qna/detail.naver?d1id=7&dirId=70201&docId={}'\n",
    "    head = {\n",
    "    'Accept': 'text/html,application/xhtml+xml,application/xml;q=0.9,image/avif,image/webp,image/apng,*/*;q=0.8,application/signed-exchange;v=b3;q=0.7',\n",
    "    'Accept-Encoding': 'gzip, deflate, br',\n",
    "    'Accept-Language': 'ko-KR,ko;q=0.9,en-US;q=0.8,en;q=0.7,ja;q=0.6',\n",
    "    'Cache-Control': 'max-age=0',\n",
    "    'User-Agent': 'Mozilla/5.0 (Macintosh; Intel Mac OS X 10_15_7) AppleWebKit/537.36 (KHTML, like Gecko) Chrome/121.0.0.0 Safari/537.36',\n",
    "    'Upgrade-Insecure-Requests': '1',}\n",
    "    retry_delays = [5, 10, 20]\n",
    "    \n",
    "    # 데이터를 저장할 빈 리스트 생성\n",
    "    title_list = []\n",
    "    question_list = []\n",
    "    answer_list = []\n",
    "\n",
    "    # tqdm을 사용하여 진행 상황을 시각화\n",
    "    for doc_id in tqdm(doc_ids):\n",
    "        attempt = 0\n",
    "        while attempt <= len(retry_delays):\n",
    "            try:\n",
    "                url = base_url.format(doc_id)\n",
    "                r = requests.get(url, headers=head)\n",
    "                r.raise_for_status()\n",
    "                bs = BeautifulSoup(r.text, 'html.parser')\n",
    "\n",
    "                title_data = bs.select_one('.title') # 질문 제목\n",
    "                title = title_data.text.strip() if title_data else None\n",
    "                \n",
    "                question_data = bs.select_one('.c-heading__content') # 질문 내용\n",
    "                question = question_data.text.strip() if question_data else None\n",
    "                \n",
    "                answer_data = bs.select_one('.se-main-container') # 답변\n",
    "                answer = answer_data.text.strip() if answer_data else None\n",
    "\n",
    "                title_list.append(title)\n",
    "                question_list.append(question)\n",
    "                answer_list.append(answer)\n",
    "                break\n",
    "\n",
    "            except requests.exceptions.HTTPError as e:\n",
    "                if e.response.status_code == 429:  # Too Many Requests\n",
    "                    if attempt == len(retry_delays):\n",
    "                        tqdm.write(f\"Failed to scrape doc_id {doc_id} after multiple attempts.\")\n",
    "                        break  # 최대 재시도 횟수에 도달하면 실패로 간주\n",
    "                    tqdm.write(f\"Rate limit reached. Retrying in 1 seconds...\")\n",
    "                    #time.sleep(1)  # 지정된 시간만큼 대기\n",
    "                    attempt += 1\n",
    "                else:\n",
    "                    tqdm.write(f\"Failed to scrape doc_id {doc_id['doc_id']}: {e}\")\n",
    "                    break  # 다른 유형의 HTTP 에러는 재시도하지 않음\n",
    "            except requests.exceptions.RequestException as e:\n",
    "                tqdm.write(f\"Failed to scrape doc_id {doc_id['doc_id']}: {e}\")\n",
    "                break  # 네트워크 문제 등 다른 예외에 대한 처리\n",
    "            #time.sleep(1)  # 다음 요청까지의 기본 지연 시간\n",
    "\n",
    "\n",
    "    data = {'title': title_list, 'question': question_list, 'answer': answer_list}\n",
    "    return pd.DataFrame(data)"
   ]
  },
  {
   "cell_type": "markdown",
   "metadata": {},
   "source": [
    "# ⭐️모든 doc_id 추출⭐️"
   ]
  },
  {
   "cell_type": "code",
   "execution_count": 11,
   "metadata": {},
   "outputs": [
    {
     "name": "stderr",
     "output_type": "stream",
     "text": [
      "100%|██████████| 526/526 [02:56<00:00,  2.98it/s]"
     ]
    },
    {
     "name": "stdout",
     "output_type": "stream",
     "text": [
      "Data saved to all_doctor_profiles.json\n"
     ]
    },
    {
     "name": "stderr",
     "output_type": "stream",
     "text": [
      "\n"
     ]
    }
   ],
   "source": [
    "# all_doctor_profiles 추출\n",
    "max_pages = 526\n",
    "last_page = load_last_index('last_page.json')\n",
    "doctor_profiles = scrape_doctor_profiles(max_pages, start_page=last_page)\n",
    "\n",
    "# json 저장\n",
    "doctor_profiles_filename = \"all_doctor_profiles.json\"\n",
    "save_to_json(doctor_profiles, doctor_profiles_filename)\n",
    "print(f\"Data saved to {doctor_profiles_filename}\")"
   ]
  },
  {
   "cell_type": "code",
   "execution_count": 36,
   "metadata": {},
   "outputs": [
    {
     "name": "stderr",
     "output_type": "stream",
     "text": [
      "  0%|          | 0/3259 [00:00<?, ?it/s]"
     ]
    },
    {
     "name": "stderr",
     "output_type": "stream",
     "text": [
      "Scraping ukc8l8SA5jqtLV7IARW7hB0vYWRb6jsHZ7mIMvZciwE%3D: 100%|██████████| 1/1 [00:00<00:00,  1.16it/s]\n",
      "  0%|          | 1/3259 [00:00<47:02,  1.15it/s]"
     ]
    },
    {
     "name": "stdout",
     "output_type": "stream",
     "text": [
      "1\n",
      "내가 2000\n"
     ]
    },
    {
     "name": "stderr",
     "output_type": "stream",
     "text": []
    },
    {
     "name": "stdout",
     "output_type": "stream",
     "text": [
      "1\n"
     ]
    },
    {
     "name": "stderr",
     "output_type": "stream",
     "text": []
    },
    {
     "name": "stdout",
     "output_type": "stream",
     "text": [
      "2\n"
     ]
    },
    {
     "name": "stderr",
     "output_type": "stream",
     "text": []
    },
    {
     "name": "stdout",
     "output_type": "stream",
     "text": [
      "3\n"
     ]
    },
    {
     "name": "stderr",
     "output_type": "stream",
     "text": [
      "Scraping sXuO90R1onUkyCrzWSecA7Q%2F34MpE%2FRUOCrJQYQla3Q%3D: 100%|██████████| 4/4 [00:03<00:00,  1.25it/s]\n",
      "  0%|          | 2/3259 [00:04<2:01:46,  2.24s/it]"
     ]
    },
    {
     "name": "stdout",
     "output_type": "stream",
     "text": [
      "4\n",
      "내가 2001\n"
     ]
    },
    {
     "name": "stderr",
     "output_type": "stream",
     "text": [
      "Scraping MCbR4upqf1PTOOu43sZF6%2FoHpkQp2e6H4QVFrgzHNE0%3D: 100%|██████████| 1/1 [00:00<00:00,  1.25it/s]\n",
      "  0%|          | 3/3259 [00:04<1:26:05,  1.59s/it]"
     ]
    },
    {
     "name": "stdout",
     "output_type": "stream",
     "text": [
      "1\n",
      "내가 2002\n"
     ]
    },
    {
     "name": "stderr",
     "output_type": "stream",
     "text": []
    },
    {
     "name": "stdout",
     "output_type": "stream",
     "text": [
      "1\n"
     ]
    },
    {
     "name": "stderr",
     "output_type": "stream",
     "text": []
    },
    {
     "name": "stdout",
     "output_type": "stream",
     "text": [
      "2\n"
     ]
    },
    {
     "name": "stderr",
     "output_type": "stream",
     "text": [
      "Scraping 03MxF5iWnloYE%2B81WRr5oOrDhuoJddROzZ4g5Wpv%2BWc%3D: 100%|██████████| 3/3 [00:02<00:00,  1.21it/s]\n",
      "  0%|          | 4/3259 [00:07<1:45:26,  1.94s/it]"
     ]
    },
    {
     "name": "stdout",
     "output_type": "stream",
     "text": [
      "3\n",
      "내가 2003\n"
     ]
    },
    {
     "name": "stderr",
     "output_type": "stream",
     "text": []
    },
    {
     "name": "stdout",
     "output_type": "stream",
     "text": [
      "1\n"
     ]
    },
    {
     "name": "stderr",
     "output_type": "stream",
     "text": []
    },
    {
     "name": "stdout",
     "output_type": "stream",
     "text": [
      "2\n"
     ]
    },
    {
     "name": "stderr",
     "output_type": "stream",
     "text": []
    },
    {
     "name": "stdout",
     "output_type": "stream",
     "text": [
      "3\n"
     ]
    },
    {
     "name": "stderr",
     "output_type": "stream",
     "text": []
    },
    {
     "name": "stdout",
     "output_type": "stream",
     "text": [
      "4\n"
     ]
    },
    {
     "name": "stderr",
     "output_type": "stream",
     "text": []
    },
    {
     "name": "stdout",
     "output_type": "stream",
     "text": [
      "5\n"
     ]
    },
    {
     "name": "stderr",
     "output_type": "stream",
     "text": []
    },
    {
     "name": "stdout",
     "output_type": "stream",
     "text": [
      "6\n"
     ]
    },
    {
     "name": "stderr",
     "output_type": "stream",
     "text": []
    },
    {
     "name": "stdout",
     "output_type": "stream",
     "text": [
      "7\n"
     ]
    },
    {
     "name": "stderr",
     "output_type": "stream",
     "text": []
    },
    {
     "name": "stdout",
     "output_type": "stream",
     "text": [
      "8\n"
     ]
    },
    {
     "name": "stderr",
     "output_type": "stream",
     "text": []
    },
    {
     "name": "stdout",
     "output_type": "stream",
     "text": [
      "9\n"
     ]
    },
    {
     "name": "stderr",
     "output_type": "stream",
     "text": []
    },
    {
     "name": "stdout",
     "output_type": "stream",
     "text": [
      "10\n"
     ]
    },
    {
     "name": "stderr",
     "output_type": "stream",
     "text": []
    },
    {
     "name": "stdout",
     "output_type": "stream",
     "text": [
      "11\n"
     ]
    },
    {
     "name": "stderr",
     "output_type": "stream",
     "text": []
    },
    {
     "name": "stdout",
     "output_type": "stream",
     "text": [
      "12\n"
     ]
    },
    {
     "name": "stderr",
     "output_type": "stream",
     "text": []
    },
    {
     "name": "stdout",
     "output_type": "stream",
     "text": [
      "13\n"
     ]
    },
    {
     "name": "stderr",
     "output_type": "stream",
     "text": []
    },
    {
     "name": "stdout",
     "output_type": "stream",
     "text": [
      "14\n"
     ]
    },
    {
     "name": "stderr",
     "output_type": "stream",
     "text": [
      "Scraping wrsbBa%2Ftyp0ncYDJqG%2BpjmFzz2DvMYfyBQkvihb4Svo%3D: 100%|██████████| 15/15 [00:11<00:00,  1.25it/s]\n",
      "  0%|          | 5/3259 [00:19<5:01:22,  5.56s/it]"
     ]
    },
    {
     "name": "stdout",
     "output_type": "stream",
     "text": [
      "15\n",
      "내가 2004\n"
     ]
    },
    {
     "name": "stderr",
     "output_type": "stream",
     "text": []
    },
    {
     "name": "stdout",
     "output_type": "stream",
     "text": [
      "1\n"
     ]
    },
    {
     "name": "stderr",
     "output_type": "stream",
     "text": []
    },
    {
     "name": "stdout",
     "output_type": "stream",
     "text": [
      "2\n"
     ]
    },
    {
     "name": "stderr",
     "output_type": "stream",
     "text": []
    },
    {
     "name": "stdout",
     "output_type": "stream",
     "text": [
      "3\n"
     ]
    },
    {
     "name": "stderr",
     "output_type": "stream",
     "text": []
    },
    {
     "name": "stdout",
     "output_type": "stream",
     "text": [
      "4\n"
     ]
    },
    {
     "name": "stderr",
     "output_type": "stream",
     "text": []
    },
    {
     "name": "stdout",
     "output_type": "stream",
     "text": [
      "5\n"
     ]
    },
    {
     "name": "stderr",
     "output_type": "stream",
     "text": []
    },
    {
     "name": "stdout",
     "output_type": "stream",
     "text": [
      "6\n"
     ]
    },
    {
     "name": "stderr",
     "output_type": "stream",
     "text": []
    },
    {
     "name": "stdout",
     "output_type": "stream",
     "text": [
      "7\n"
     ]
    },
    {
     "name": "stderr",
     "output_type": "stream",
     "text": []
    },
    {
     "name": "stdout",
     "output_type": "stream",
     "text": [
      "8\n"
     ]
    },
    {
     "name": "stderr",
     "output_type": "stream",
     "text": []
    },
    {
     "name": "stdout",
     "output_type": "stream",
     "text": [
      "9\n"
     ]
    },
    {
     "name": "stderr",
     "output_type": "stream",
     "text": []
    },
    {
     "name": "stdout",
     "output_type": "stream",
     "text": [
      "10\n"
     ]
    },
    {
     "name": "stderr",
     "output_type": "stream",
     "text": []
    },
    {
     "name": "stdout",
     "output_type": "stream",
     "text": [
      "11\n"
     ]
    },
    {
     "name": "stderr",
     "output_type": "stream",
     "text": []
    },
    {
     "name": "stdout",
     "output_type": "stream",
     "text": [
      "12\n"
     ]
    },
    {
     "name": "stderr",
     "output_type": "stream",
     "text": []
    },
    {
     "name": "stdout",
     "output_type": "stream",
     "text": [
      "13\n"
     ]
    },
    {
     "name": "stderr",
     "output_type": "stream",
     "text": []
    },
    {
     "name": "stdout",
     "output_type": "stream",
     "text": [
      "14\n"
     ]
    },
    {
     "name": "stderr",
     "output_type": "stream",
     "text": []
    },
    {
     "name": "stdout",
     "output_type": "stream",
     "text": [
      "15\n"
     ]
    },
    {
     "name": "stderr",
     "output_type": "stream",
     "text": []
    },
    {
     "name": "stdout",
     "output_type": "stream",
     "text": [
      "16\n"
     ]
    },
    {
     "name": "stderr",
     "output_type": "stream",
     "text": []
    },
    {
     "name": "stdout",
     "output_type": "stream",
     "text": [
      "17\n"
     ]
    },
    {
     "name": "stderr",
     "output_type": "stream",
     "text": []
    },
    {
     "name": "stdout",
     "output_type": "stream",
     "text": [
      "18\n"
     ]
    },
    {
     "name": "stderr",
     "output_type": "stream",
     "text": []
    },
    {
     "name": "stdout",
     "output_type": "stream",
     "text": [
      "19\n"
     ]
    },
    {
     "name": "stderr",
     "output_type": "stream",
     "text": []
    },
    {
     "name": "stdout",
     "output_type": "stream",
     "text": [
      "20\n"
     ]
    },
    {
     "name": "stderr",
     "output_type": "stream",
     "text": []
    },
    {
     "name": "stdout",
     "output_type": "stream",
     "text": [
      "21\n"
     ]
    },
    {
     "name": "stderr",
     "output_type": "stream",
     "text": []
    },
    {
     "name": "stdout",
     "output_type": "stream",
     "text": [
      "22\n"
     ]
    },
    {
     "name": "stderr",
     "output_type": "stream",
     "text": []
    },
    {
     "name": "stdout",
     "output_type": "stream",
     "text": [
      "23\n"
     ]
    },
    {
     "name": "stderr",
     "output_type": "stream",
     "text": []
    },
    {
     "name": "stdout",
     "output_type": "stream",
     "text": [
      "24\n"
     ]
    },
    {
     "name": "stderr",
     "output_type": "stream",
     "text": []
    },
    {
     "name": "stdout",
     "output_type": "stream",
     "text": [
      "25\n"
     ]
    },
    {
     "name": "stderr",
     "output_type": "stream",
     "text": []
    },
    {
     "name": "stdout",
     "output_type": "stream",
     "text": [
      "26\n"
     ]
    },
    {
     "name": "stderr",
     "output_type": "stream",
     "text": []
    },
    {
     "name": "stdout",
     "output_type": "stream",
     "text": [
      "27\n"
     ]
    },
    {
     "name": "stderr",
     "output_type": "stream",
     "text": []
    },
    {
     "name": "stdout",
     "output_type": "stream",
     "text": [
      "28\n"
     ]
    },
    {
     "name": "stderr",
     "output_type": "stream",
     "text": []
    },
    {
     "name": "stdout",
     "output_type": "stream",
     "text": [
      "29\n"
     ]
    },
    {
     "name": "stderr",
     "output_type": "stream",
     "text": []
    },
    {
     "name": "stdout",
     "output_type": "stream",
     "text": [
      "30\n"
     ]
    },
    {
     "name": "stderr",
     "output_type": "stream",
     "text": []
    },
    {
     "name": "stdout",
     "output_type": "stream",
     "text": [
      "31\n"
     ]
    },
    {
     "name": "stderr",
     "output_type": "stream",
     "text": []
    },
    {
     "name": "stdout",
     "output_type": "stream",
     "text": [
      "32\n"
     ]
    },
    {
     "name": "stderr",
     "output_type": "stream",
     "text": []
    },
    {
     "name": "stdout",
     "output_type": "stream",
     "text": [
      "33\n"
     ]
    },
    {
     "name": "stderr",
     "output_type": "stream",
     "text": []
    },
    {
     "name": "stdout",
     "output_type": "stream",
     "text": [
      "34\n"
     ]
    },
    {
     "name": "stderr",
     "output_type": "stream",
     "text": []
    },
    {
     "name": "stdout",
     "output_type": "stream",
     "text": [
      "35\n"
     ]
    },
    {
     "name": "stderr",
     "output_type": "stream",
     "text": []
    },
    {
     "name": "stdout",
     "output_type": "stream",
     "text": [
      "36\n"
     ]
    },
    {
     "name": "stderr",
     "output_type": "stream",
     "text": []
    },
    {
     "name": "stdout",
     "output_type": "stream",
     "text": [
      "37\n"
     ]
    },
    {
     "name": "stderr",
     "output_type": "stream",
     "text": [
      "Scraping u5pVm9ZblZ3h87jlDUOfq2ZciGzXqqHqVs3x1k8rfgs%3D: 100%|██████████| 38/38 [00:30<00:00,  1.25it/s]\n",
      "  0%|          | 5/3259 [00:49<8:58:17,  9.93s/it]"
     ]
    },
    {
     "name": "stdout",
     "output_type": "stream",
     "text": [
      "38\n",
      "내가 2005\n",
      "Data saved to doc_ids_data.json\n"
     ]
    },
    {
     "name": "stderr",
     "output_type": "stream",
     "text": [
      "\n"
     ]
    }
   ],
   "source": [
    "# doc_ids 추출\n",
    "last_index = load_last_index('last_index.json')\n",
    "doctor_profiles = read_from_json(\"all_doctor_profiles.json\")\n",
    "doc_ids_data = scrape_doc_ids(doctor_profiles, start_index=last_index) # json 저장\n",
    "\n",
    "print(f\"Data saved to doc_ids_data.json\")"
   ]
  },
  {
   "cell_type": "code",
   "execution_count": 111,
   "metadata": {},
   "outputs": [],
   "source": [
    "# doc_id['doc_id']\n",
    "doc_ids=[]\n",
    "for i in doc_ids_data:\n",
    "    for j in doc_ids_data[i]:\n",
    "        for k in doc_ids_data[i][j]:\n",
    "            \n",
    "            doc_ids.append(k['doc_id'])\n",
    "            \n",
    "            \n",
    "        \n",
    "            \n",
    "            "
   ]
  },
  {
   "cell_type": "code",
   "execution_count": 114,
   "metadata": {},
   "outputs": [
    {
     "name": "stderr",
     "output_type": "stream",
     "text": [
      "100%|██████████| 860/860 [10:02<00:00,  1.43it/s]\n"
     ]
    },
    {
     "data": {
      "text/html": [
       "<div>\n",
       "<style scoped>\n",
       "    .dataframe tbody tr th:only-of-type {\n",
       "        vertical-align: middle;\n",
       "    }\n",
       "\n",
       "    .dataframe tbody tr th {\n",
       "        vertical-align: top;\n",
       "    }\n",
       "\n",
       "    .dataframe thead th {\n",
       "        text-align: right;\n",
       "    }\n",
       "</style>\n",
       "<table border=\"1\" class=\"dataframe\">\n",
       "  <thead>\n",
       "    <tr style=\"text-align: right;\">\n",
       "      <th></th>\n",
       "      <th>title</th>\n",
       "      <th>question</th>\n",
       "      <th>answer</th>\n",
       "    </tr>\n",
       "  </thead>\n",
       "  <tbody>\n",
       "    <tr>\n",
       "      <th>0</th>\n",
       "      <td>척추층만증 치료 될까요?</td>\n",
       "      <td>제가 경찰 희망하는 16살 남자입니다 제가 5개월전쯤 왼쪽으로 5도 앞쪽으로 5에서...</td>\n",
       "      <td>안녕하세요. 대한의사협회·네이버 지식iN 상담의사 조남익 입니다.​현재 나이가 16...</td>\n",
       "    </tr>\n",
       "    <tr>\n",
       "      <th>1</th>\n",
       "      <td>축구하다가 접질렸습니다. 축구하다가 상대방이 몸으로 밀다가 같이 넘어지면서 발목이 ...</td>\n",
       "      <td>축구하다가 접질렸습니다.축구하다가 상대방이 몸으로 밀다가 같이 넘어지면서 발목이 안...</td>\n",
       "      <td>안녕하세요. 대한의사협회·네이버 지식iN 상담의사 조남익 입니다.발목을 접질린 후 ...</td>\n",
       "    </tr>\n",
       "    <tr>\n",
       "      <th>2</th>\n",
       "      <td>손에 힘이 안들어가요</td>\n",
       "      <td>한 3일정도됬나? 자고일어나면 손에 힘이 안들어가면서 안구부러지는데 굳은건지한쪽손은...</td>\n",
       "      <td>안녕하세요. 대한의사협회·네이버 지식iN 상담의사 조남익 입니다.​자고 일어나신후 ...</td>\n",
       "    </tr>\n",
       "    <tr>\n",
       "      <th>3</th>\n",
       "      <td>신경 염증으로 꽤 오래 치료받았는데 낫지가 않네요..</td>\n",
       "      <td>약 6개월정도 목에 염증이 있어서 신경치료를 받았습니다. 탁구를 좀 무리하게 친 게...</td>\n",
       "      <td>안녕하세요. 대한의사협회·네이버 지식iN 상담의사 조남익 입니다.​현재 증상은 목 ...</td>\n",
       "    </tr>\n",
       "    <tr>\n",
       "      <th>4</th>\n",
       "      <td>의학적으로 목길이가 짧아 질수도 있나요?</td>\n",
       "      <td>목이 두꺼워져서 짧아 보인다거나 거북목이라 목이 휘어서 짧아 보일순 잇어도의학적으로...</td>\n",
       "      <td>안녕하세요. 대한의사협회·네이버 지식iN 상담의사 조남익 입니다.​나이가 들면서 목...</td>\n",
       "    </tr>\n",
       "    <tr>\n",
       "      <th>...</th>\n",
       "      <td>...</td>\n",
       "      <td>...</td>\n",
       "      <td>...</td>\n",
       "    </tr>\n",
       "    <tr>\n",
       "      <th>855</th>\n",
       "      <td>유럽여행 요도염</td>\n",
       "      <td>요도염 증상 ) 진물나고 소변 볼 때 타는 느낌이 나는데 여행은 시작한지 얼마 안됐...</td>\n",
       "      <td>안녕하세요. 하이닥-네이버 지식iN 상담의 장창식 입니다.​여행 중에 요도염으로 고...</td>\n",
       "    </tr>\n",
       "    <tr>\n",
       "      <th>856</th>\n",
       "      <td>고추에서 분비물같은게나와요</td>\n",
       "      <td>자다가인나면 속옷에뭍어있어요 노란색으로 진물인가요????사람들이 요도염같다는데 요도...</td>\n",
       "      <td>안녕하세요. 하이닥-네이버 지식iN 상담의 장창식 입니다.​검사를 진행하지 않고 질...</td>\n",
       "    </tr>\n",
       "    <tr>\n",
       "      <th>857</th>\n",
       "      <td>포경수술 운동</td>\n",
       "      <td>포경수술을12월 9일에 했습니다.근데 제가 24일에 무조건 해야만하는 축구 시합이 ...</td>\n",
       "      <td>안녕하세요. 하이닥-네이버 지식iN 상담의 장창식 입니다.​포경수술 후 축구와 같은...</td>\n",
       "    </tr>\n",
       "    <tr>\n",
       "      <th>858</th>\n",
       "      <td>정관수술 ?은지 4개월정도 지났는데 해외출장 관계로성관계를 한번도 하지않았습니다병원...</td>\n",
       "      <td>None</td>\n",
       "      <td>안녕하세요. 하이닥-네이버 지식iN 상담의 장창식 입니다.​정관 수술 후 15회 이...</td>\n",
       "    </tr>\n",
       "    <tr>\n",
       "      <th>859</th>\n",
       "      <td>남자 관계후 출혈</td>\n",
       "      <td>제가 여자와 관계할때콘돔을 끼고했는데요 사정을했는데 성기끝에서 피가좀 나더라구요 계...</td>\n",
       "      <td>안녕하세요. 하이닥-네이버 지식iN 상담의 장창식 입니다.​직접 환부를 볼 수 없어...</td>\n",
       "    </tr>\n",
       "  </tbody>\n",
       "</table>\n",
       "<p>860 rows × 3 columns</p>\n",
       "</div>"
      ],
      "text/plain": [
       "                                                 title  \\\n",
       "0                                        척추층만증 치료 될까요?   \n",
       "1    축구하다가 접질렸습니다. 축구하다가 상대방이 몸으로 밀다가 같이 넘어지면서 발목이 ...   \n",
       "2                                          손에 힘이 안들어가요   \n",
       "3                        신경 염증으로 꽤 오래 치료받았는데 낫지가 않네요..   \n",
       "4                               의학적으로 목길이가 짧아 질수도 있나요?   \n",
       "..                                                 ...   \n",
       "855                                           유럽여행 요도염   \n",
       "856                                     고추에서 분비물같은게나와요   \n",
       "857                                            포경수술 운동   \n",
       "858  정관수술 ?은지 4개월정도 지났는데 해외출장 관계로성관계를 한번도 하지않았습니다병원...   \n",
       "859                                          남자 관계후 출혈   \n",
       "\n",
       "                                              question  \\\n",
       "0    제가 경찰 희망하는 16살 남자입니다 제가 5개월전쯤 왼쪽으로 5도 앞쪽으로 5에서...   \n",
       "1    축구하다가 접질렸습니다.축구하다가 상대방이 몸으로 밀다가 같이 넘어지면서 발목이 안...   \n",
       "2    한 3일정도됬나? 자고일어나면 손에 힘이 안들어가면서 안구부러지는데 굳은건지한쪽손은...   \n",
       "3    약 6개월정도 목에 염증이 있어서 신경치료를 받았습니다. 탁구를 좀 무리하게 친 게...   \n",
       "4    목이 두꺼워져서 짧아 보인다거나 거북목이라 목이 휘어서 짧아 보일순 잇어도의학적으로...   \n",
       "..                                                 ...   \n",
       "855  요도염 증상 ) 진물나고 소변 볼 때 타는 느낌이 나는데 여행은 시작한지 얼마 안됐...   \n",
       "856  자다가인나면 속옷에뭍어있어요 노란색으로 진물인가요????사람들이 요도염같다는데 요도...   \n",
       "857  포경수술을12월 9일에 했습니다.근데 제가 24일에 무조건 해야만하는 축구 시합이 ...   \n",
       "858                                               None   \n",
       "859  제가 여자와 관계할때콘돔을 끼고했는데요 사정을했는데 성기끝에서 피가좀 나더라구요 계...   \n",
       "\n",
       "                                                answer  \n",
       "0    안녕하세요. 대한의사협회·네이버 지식iN 상담의사 조남익 입니다.​현재 나이가 16...  \n",
       "1    안녕하세요. 대한의사협회·네이버 지식iN 상담의사 조남익 입니다.발목을 접질린 후 ...  \n",
       "2    안녕하세요. 대한의사협회·네이버 지식iN 상담의사 조남익 입니다.​자고 일어나신후 ...  \n",
       "3    안녕하세요. 대한의사협회·네이버 지식iN 상담의사 조남익 입니다.​현재 증상은 목 ...  \n",
       "4    안녕하세요. 대한의사협회·네이버 지식iN 상담의사 조남익 입니다.​나이가 들면서 목...  \n",
       "..                                                 ...  \n",
       "855  안녕하세요. 하이닥-네이버 지식iN 상담의 장창식 입니다.​여행 중에 요도염으로 고...  \n",
       "856  안녕하세요. 하이닥-네이버 지식iN 상담의 장창식 입니다.​검사를 진행하지 않고 질...  \n",
       "857  안녕하세요. 하이닥-네이버 지식iN 상담의 장창식 입니다.​포경수술 후 축구와 같은...  \n",
       "858  안녕하세요. 하이닥-네이버 지식iN 상담의 장창식 입니다.​정관 수술 후 15회 이...  \n",
       "859  안녕하세요. 하이닥-네이버 지식iN 상담의 장창식 입니다.​직접 환부를 볼 수 없어...  \n",
       "\n",
       "[860 rows x 3 columns]"
      ]
     },
     "execution_count": 114,
     "metadata": {},
     "output_type": "execute_result"
    }
   ],
   "source": [
    "# 개당 0.693초\n",
    "scrape_details(doc_ids)"
   ]
  },
  {
   "cell_type": "code",
   "execution_count": null,
   "metadata": {},
   "outputs": [],
   "source": [
    "if os.path.isdir(\"./output_data\") == False:\n",
    "    os.mkdir(\"./output_data\")\n",
    "\n",
    "\n",
    "head = { 'User-Agent':\n",
    "        \"Mozilla/5.0 (Windows NT 10.0; Win64; x64) AppleWebKit/537.36 (KHTML, like Gecko) Chrome/58.0.3029.110 Safari/537.3\"}\n",
    "\n",
    "for dirId in detailed_category:\n",
    "  data_dict= {}\n",
    "\n",
    "  for doc_id in detailed_category[dirId]:\n",
    "      url = \"https://kin.naver.com/qna/detail.naver?d1id=7&dirId=7010101&docId={}\".format(doc_id)\n",
    "      r = requests.get(url, headers=head)\n",
    "      bs = BeautifulSoup(r.text, 'html.parser')\n",
    "\n",
    "      tmp_dict={}\n",
    "\n",
    "      title_data = bs.select('.title')\n",
    "      title = title_data[0].text.strip()\n",
    "      tmp_dict['title']= title\n",
    "\n",
    "      date = bs.select('.c-userinfo__info')\n",
    "      date_ = date[0].text.replace(\"작성일\", \"\")\n",
    "      tmp_dict['date_']= date_\n",
    "\n",
    "      question_data = bs.select('.c-heading__content')\n",
    "      question = question_data[0].text.strip()\n",
    "      tmp_dict['question']= question\n",
    "\n",
    "      answer_data = bs.select('.se-main-container')\n",
    "      answer = answer_data[0].text.strip()\n",
    "      tmp_dict['answer']= answer\n",
    "\n",
    "      data_dict[doc_id]=tmp_dict\n",
    "\n",
    "\n",
    "  # dirId별로 json 파일로 저장\n",
    "  data_json = json.dumps(data_dict)\n",
    "  with open(f'./output_data/data_{dirId}.json', 'w') as json_file:\n",
    "    json_file.write(data_json)\n"
   ]
  },
  {
   "cell_type": "markdown",
   "metadata": {},
   "source": [
    "## 의사 1명에 대한 샘플 추출"
   ]
  },
  {
   "cell_type": "code",
   "execution_count": null,
   "metadata": {},
   "outputs": [],
   "source": [
    "doctor_profiles = scrape_doctor_profiles(1)\n",
    "doctor_profiles[0], doctor_profiles"
   ]
  },
  {
   "cell_type": "code",
   "execution_count": null,
   "metadata": {},
   "outputs": [],
   "source": [
    "doc_ids_info = scrape_info(doctor_profiles[0]['doctor_id'],doctor_profiles[0]['total_answers'])\n",
    "doc_ids_info, doc_ids_info[doctor_profiles[0]['doctor_id']]"
   ]
  },
  {
   "cell_type": "code",
   "execution_count": null,
   "metadata": {},
   "outputs": [],
   "source": [
    "df = scrape_details(doc_ids_info[doctor_profiles[0]['doctor_id']])"
   ]
  },
  {
   "cell_type": "code",
   "execution_count": null,
   "metadata": {},
   "outputs": [],
   "source": [
    "for doctor in doctor_profiles:\n",
    "    doctor_id = doctor['doctor_id']\n",
    "    total_answers = doctor['total_answers']\n",
    "    doc_ids_info = scrape_info(doctor_id, total_answers)\n",
    "    if doctor_id in doc_ids_info:\n",
    "        df = scrape_details(doc_ids_info[doctor_id])\n",
    "        # 파일명에 의사 ID를 포함하여 각 의사별로 고유한 JSON 파일 생성\n",
    "        filename = f'doctor_data_{doctor_id}.json'\n",
    "        df.to_json(filename, orient='records', force_ascii=False, lines=True)\n",
    "        break"
   ]
  }
 ],
 "metadata": {
  "kernelspec": {
   "display_name": "base",
   "language": "python",
   "name": "python3"
  },
  "language_info": {
   "codemirror_mode": {
    "name": "ipython",
    "version": 3
   },
   "file_extension": ".py",
   "mimetype": "text/x-python",
   "name": "python",
   "nbconvert_exporter": "python",
   "pygments_lexer": "ipython3",
   "version": "3.11.5"
  }
 },
 "nbformat": 4,
 "nbformat_minor": 2
}
