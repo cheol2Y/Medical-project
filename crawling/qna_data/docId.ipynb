{
 "cells": [
  {
   "cell_type": "code",
   "execution_count": 1,
   "metadata": {},
   "outputs": [],
   "source": [
    "from tqdm import tqdm\n",
    "from bs4 import BeautifulSoup\n",
    "import requests\n",
    "import time\n",
    "import random\n",
    "import re"
   ]
  },
  {
   "cell_type": "code",
   "execution_count": 2,
   "metadata": {},
   "outputs": [
    {
     "name": "stdout",
     "output_type": "stream",
     "text": [
      "{'701': ['70101', '70102', '70103', '70104', '70105', '70106', '70107', '70108', '70109', '70110', '70111', '70112', '70113', '70114', '70115', '70116', '70117', '70118', '70119', '70120', '70121', '70122', '70123', '70124', '70125', '70126', '70127'], '702': ['70201', '70202', '70203', '70204', '70205'], '703': ['70301', '70302', '70303', '70304', '70305', '70306', '70307', '70308', '70309', '70310'], '704': ['70401', '70402', '70403', '70404'], '705': ['705'], '706': ['70601', '70602', '8030401'], '707': ['70701', '70702', '70703', '8030402'], '708': ['708'], '709': ['401030302', '401030201'], '710': ['710'], '711': ['71101', '71102', '71103', '71104', '71105']}\n"
     ]
    }
   ],
   "source": [
    "import json\n",
    "\n",
    "# JSON 파일에서 데이터 읽기\n",
    "with open('dirId.json', 'r', encoding='utf-8') as json_file:\n",
    "    # JSON 형식의 문자열을 딕셔너리로 변환\n",
    "    detailed_category = json.load(json_file)\n",
    "\n",
    "# 로드된 데이터 확인\n",
    "print(detailed_category)"
   ]
  },
  {
   "cell_type": "code",
   "execution_count": 3,
   "metadata": {},
   "outputs": [
    {
     "name": "stderr",
     "output_type": "stream",
     "text": [
      "  0%|          | 0/99 [00:00<?, ?it/s]"
     ]
    },
    {
     "name": "stderr",
     "output_type": "stream",
     "text": [
      "100%|██████████| 99/99 [02:59<00:00,  1.81s/it]\n",
      "100%|██████████| 99/99 [02:46<00:00,  1.68s/it]\n",
      " 43%|████▎     | 43/99 [01:11<01:38,  1.76s/it]"
     ]
    }
   ],
   "source": [
    "head = { 'User-Agent':\n",
    "        \"Mozilla/5.0 (Windows NT 10.0; Win64; x64) AppleWebKit/537.36 (KHTML, like Gecko) Chrome/58.0.3029.110 Safari/537.3\"}\n",
    "link_dict={}\n",
    "for lst in detailed_category:\n",
    "  for category in detailed_category[lst]:\n",
    "      url = f\"https://kin.naver.com/qna/expertAnswerList.naver?dirId={category}&queryTime=2024-02-07%2016%3A52%3A49&page=1\"\n",
    "      link_list2 = []\n",
    "      for page in tqdm(range(1,100)):\n",
    "              r = requests.get(url.format(page), headers=head)\n",
    "              bs = BeautifulSoup(r.text)\n",
    "              data = bs.find(\"div\", class_=\"qna_list_expertAnswer\").find_all(\"a\")\n",
    "              pattern = r'docId=(\\d+)'\n",
    "              for tag in data:\n",
    "                      tag_str = str(tag)  # 태그 객체를 문자열로 변환\n",
    "                      match = re.search(pattern, tag_str)\n",
    "                      if match:\n",
    "                              link = match.group(1)\n",
    "                              link_list2.append(link)\n",
    "              sleep_time = random.uniform(0,1)\n",
    "              time.sleep(sleep_time)\n",
    "      link_dict[category]=link_list2"
   ]
  },
  {
   "cell_type": "code",
   "execution_count": null,
   "metadata": {},
   "outputs": [],
   "source": [
    "# 딕셔너리를 JSON 형식의 문자열로 변환\n",
    "json_data = json.dumps(link_dict)\n",
    "\n",
    "# JSON 파일로 저장\n",
    "with open('docId.json', 'w') as json_file:\n",
    "    json_file.write(json_data)"
   ]
  },
  {
   "cell_type": "code",
   "execution_count": null,
   "metadata": {},
   "outputs": [
    {
     "data": {
      "text/plain": [
       "1980"
      ]
     },
     "execution_count": 23,
     "metadata": {},
     "output_type": "execute_result"
    }
   ],
   "source": [
    "len(link_dict[lst[3]])"
   ]
  },
  {
   "cell_type": "code",
   "execution_count": null,
   "metadata": {},
   "outputs": [],
   "source": [
    "# test = link_dict[lst[0]][-1]"
   ]
  },
  {
   "cell_type": "code",
   "execution_count": null,
   "metadata": {},
   "outputs": [],
   "source": [
    "# head = { 'User-Agent':\n",
    "#         \"Mozilla/5.0 (Macintosh; Intel Mac OS X 10_15_7) AppleWebKit/537.36 (KHTML, like Gecko) Chrome/121.0.0.0 Safari/537.36\"}\n",
    "# url = f'https://kin.naver.com/qna/detail.naver?d1id=7&dirId=7010101&docId={test}'\n",
    "# r = requests.get(url, headers=head)\n",
    "# bs = BeautifulSoup(r.text, 'html.parser')\n",
    "# title_data = bs.select('.title')\n",
    "# title = title_data[0].text.strip()\n",
    "# question_data = bs.select('.c-heading__content')\n",
    "# question = question_data[0].text.strip()\n",
    "# answer_data = bs.select('.se-main-container')\n",
    "# answer = answer_data[0].text.strip()\n",
    "# date = bs.select('.c-userinfo__info')\n",
    "# date_ = date[0].text.replace(\"작성일\", \"\")\n",
    "# data = {'title': [title], 'question': [question], 'answer' : [answer], 'write_date' : [date_]}"
   ]
  },
  {
   "cell_type": "code",
   "execution_count": null,
   "metadata": {},
   "outputs": [
    {
     "data": {
      "text/plain": [
       "{'title': ['아기 요거트 성분'],\n",
       " 'question': ['곧 9개월 아기 요거트 먹이려고 하는데마트에 아기용 요거트는 없고 이 요거트가 있더라구요.성분보니까 사진처럼 원유랑 유산균만 있던데아기 먹여도 될까요???'],\n",
       " 'answer': ['안녕하세요, 닥톡-네이버 지식iN 상담영양사 성실희입니다.\\u200b아기 요거트를 선택할 때는 단순히 성분만을 보는 것이 아니라, 아기의 연령, 알레르기 반응, 또한 소화능력 등을 고려해야 합니다. 일반적으로 9개월 된 아기에게 요거트를 소개하기 시작할 수 있으나, 특히 첫 번째로 주는 경우라면 당류나 첨가물이 없는 것을 선택하는 것이 좋습니다.\\u200b하지만 사진에 있는 요거트가 아기에게 적합한지 여부는 소아과 의사나 영양사와 상담하는 것이 가장 안전합니다. 아기가 특정 성분에 알레르기 반응을 보일 수도 있고, 아기의 현재 건강 상태나 발달 단계에 따라 적합한 요거트가 달라질 수 있으니 이점 참고해주시기 바랍니다.\\u200b특별히 9개월 아기들은 대개 분유량이 줄고 이유식을 늘리는 시기이죠.해당 시기에 두뇌발달을 포함한 아기의 성장 및 영양 보충을 충분하게 하시려면 아기에게 DHA와 ALA를 공급해주셔야 합니다. 실제로 100명 아기 중 93명이나 DHA와 ALA 성분이 부족한 상태인데요.\\u200b이유식만으로는 해당 성분을 충분히 공급하기에는 한계가 있다는 것이 요인이라고 할 수 있습니다.그래서 발빠른 엄마들은 두뇌 영양제를 아기에게 챙겨주고 있습니다. \\u200b              \"한국 영유아 10명 중 9명 DHA섭취 부족\" 【서울=뉴시스】백영미 기자 = 한국 영유아 10명 중 9명이 엄마 뱃속에서 잉태될 때부터 출생 이후 2살이 될 때까지 권장량에 못 미치는 DHA를 섭취하고 있다는 연구 결과가 나왔다. DHA는 오메가3지방산의 일종으 n.news.naver.com            \\u200b아기 발달에 관하여 첨언드렸습니다. 조금이나마 도움되시길 바랍니다.감사합니다.'],\n",
       " 'write_date': ['2024.02.01']}"
      ]
     },
     "execution_count": 31,
     "metadata": {},
     "output_type": "execute_result"
    }
   ],
   "source": [
    "# data"
   ]
  }
 ],
 "metadata": {
  "kernelspec": {
   "display_name": ".venv",
   "language": "python",
   "name": "python3"
  },
  "language_info": {
   "codemirror_mode": {
    "name": "ipython",
    "version": 3
   },
   "file_extension": ".py",
   "mimetype": "text/x-python",
   "name": "python",
   "nbconvert_exporter": "python",
   "pygments_lexer": "ipython3",
   "version": "3.11.5"
  }
 },
 "nbformat": 4,
 "nbformat_minor": 2
}
