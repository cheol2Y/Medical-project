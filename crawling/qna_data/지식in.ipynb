{
 "cells": [
  {
   "cell_type": "code",
   "execution_count": 1,
   "metadata": {},
   "outputs": [],
   "source": [
    "import requests\n",
    "from bs4 import BeautifulSoup"
   ]
  },
  {
   "cell_type": "code",
   "execution_count": 2,
   "metadata": {},
   "outputs": [],
   "source": [
    "import re"
   ]
  },
  {
   "cell_type": "code",
   "execution_count": 39,
   "metadata": {},
   "outputs": [],
   "source": [
    "head = { 'User-Agent': \n",
    "        \"Mozilla/5.0 (Macintosh; Intel Mac OS X 10_15_7) AppleWebKit/537.36 (KHTML, like Gecko) Chrome/121.0.0.0 Safari/537.36\"}\n",
    "\n",
    "url = \"https://kin.naver.com/search/list.naver?query=%EA%B0%90%EA%B8%B0&page=32\""
   ]
  },
  {
   "cell_type": "code",
   "execution_count": 40,
   "metadata": {},
   "outputs": [
    {
     "ename": "KeyboardInterrupt",
     "evalue": "",
     "output_type": "error",
     "traceback": [
      "\u001b[0;31m---------------------------------------------------------------------------\u001b[0m",
      "\u001b[0;31mKeyboardInterrupt\u001b[0m                         Traceback (most recent call last)",
      "Cell \u001b[0;32mIn[40], line 1\u001b[0m\n\u001b[0;32m----> 1\u001b[0m r \u001b[38;5;241m=\u001b[39m \u001b[43mrequests\u001b[49m\u001b[38;5;241;43m.\u001b[39;49m\u001b[43mget\u001b[49m\u001b[43m(\u001b[49m\u001b[43murl\u001b[49m\u001b[43m,\u001b[49m\u001b[43m \u001b[49m\u001b[43mheaders\u001b[49m\u001b[38;5;241;43m=\u001b[39;49m\u001b[43mhead\u001b[49m\u001b[43m)\u001b[49m\n\u001b[1;32m      2\u001b[0m bs \u001b[38;5;241m=\u001b[39m BeautifulSoup(r\u001b[38;5;241m.\u001b[39mtext)\n",
      "File \u001b[0;32m~/프로그래머스_python/.venv/lib/python3.11/site-packages/requests/api.py:73\u001b[0m, in \u001b[0;36mget\u001b[0;34m(url, params, **kwargs)\u001b[0m\n\u001b[1;32m     62\u001b[0m \u001b[38;5;28;01mdef\u001b[39;00m \u001b[38;5;21mget\u001b[39m(url, params\u001b[38;5;241m=\u001b[39m\u001b[38;5;28;01mNone\u001b[39;00m, \u001b[38;5;241m*\u001b[39m\u001b[38;5;241m*\u001b[39mkwargs):\n\u001b[1;32m     63\u001b[0m \u001b[38;5;250m    \u001b[39m\u001b[38;5;124mr\u001b[39m\u001b[38;5;124;03m\"\"\"Sends a GET request.\u001b[39;00m\n\u001b[1;32m     64\u001b[0m \n\u001b[1;32m     65\u001b[0m \u001b[38;5;124;03m    :param url: URL for the new :class:`Request` object.\u001b[39;00m\n\u001b[0;32m   (...)\u001b[0m\n\u001b[1;32m     70\u001b[0m \u001b[38;5;124;03m    :rtype: requests.Response\u001b[39;00m\n\u001b[1;32m     71\u001b[0m \u001b[38;5;124;03m    \"\"\"\u001b[39;00m\n\u001b[0;32m---> 73\u001b[0m     \u001b[38;5;28;01mreturn\u001b[39;00m \u001b[43mrequest\u001b[49m\u001b[43m(\u001b[49m\u001b[38;5;124;43m\"\u001b[39;49m\u001b[38;5;124;43mget\u001b[39;49m\u001b[38;5;124;43m\"\u001b[39;49m\u001b[43m,\u001b[49m\u001b[43m \u001b[49m\u001b[43murl\u001b[49m\u001b[43m,\u001b[49m\u001b[43m \u001b[49m\u001b[43mparams\u001b[49m\u001b[38;5;241;43m=\u001b[39;49m\u001b[43mparams\u001b[49m\u001b[43m,\u001b[49m\u001b[43m \u001b[49m\u001b[38;5;241;43m*\u001b[39;49m\u001b[38;5;241;43m*\u001b[39;49m\u001b[43mkwargs\u001b[49m\u001b[43m)\u001b[49m\n",
      "File \u001b[0;32m~/프로그래머스_python/.venv/lib/python3.11/site-packages/requests/api.py:59\u001b[0m, in \u001b[0;36mrequest\u001b[0;34m(method, url, **kwargs)\u001b[0m\n\u001b[1;32m     55\u001b[0m \u001b[38;5;66;03m# By using the 'with' statement we are sure the session is closed, thus we\u001b[39;00m\n\u001b[1;32m     56\u001b[0m \u001b[38;5;66;03m# avoid leaving sockets open which can trigger a ResourceWarning in some\u001b[39;00m\n\u001b[1;32m     57\u001b[0m \u001b[38;5;66;03m# cases, and look like a memory leak in others.\u001b[39;00m\n\u001b[1;32m     58\u001b[0m \u001b[38;5;28;01mwith\u001b[39;00m sessions\u001b[38;5;241m.\u001b[39mSession() \u001b[38;5;28;01mas\u001b[39;00m session:\n\u001b[0;32m---> 59\u001b[0m     \u001b[38;5;28;01mreturn\u001b[39;00m \u001b[43msession\u001b[49m\u001b[38;5;241;43m.\u001b[39;49m\u001b[43mrequest\u001b[49m\u001b[43m(\u001b[49m\u001b[43mmethod\u001b[49m\u001b[38;5;241;43m=\u001b[39;49m\u001b[43mmethod\u001b[49m\u001b[43m,\u001b[49m\u001b[43m \u001b[49m\u001b[43murl\u001b[49m\u001b[38;5;241;43m=\u001b[39;49m\u001b[43murl\u001b[49m\u001b[43m,\u001b[49m\u001b[43m \u001b[49m\u001b[38;5;241;43m*\u001b[39;49m\u001b[38;5;241;43m*\u001b[39;49m\u001b[43mkwargs\u001b[49m\u001b[43m)\u001b[49m\n",
      "File \u001b[0;32m~/프로그래머스_python/.venv/lib/python3.11/site-packages/requests/sessions.py:589\u001b[0m, in \u001b[0;36mSession.request\u001b[0;34m(self, method, url, params, data, headers, cookies, files, auth, timeout, allow_redirects, proxies, hooks, stream, verify, cert, json)\u001b[0m\n\u001b[1;32m    584\u001b[0m send_kwargs \u001b[38;5;241m=\u001b[39m {\n\u001b[1;32m    585\u001b[0m     \u001b[38;5;124m\"\u001b[39m\u001b[38;5;124mtimeout\u001b[39m\u001b[38;5;124m\"\u001b[39m: timeout,\n\u001b[1;32m    586\u001b[0m     \u001b[38;5;124m\"\u001b[39m\u001b[38;5;124mallow_redirects\u001b[39m\u001b[38;5;124m\"\u001b[39m: allow_redirects,\n\u001b[1;32m    587\u001b[0m }\n\u001b[1;32m    588\u001b[0m send_kwargs\u001b[38;5;241m.\u001b[39mupdate(settings)\n\u001b[0;32m--> 589\u001b[0m resp \u001b[38;5;241m=\u001b[39m \u001b[38;5;28;43mself\u001b[39;49m\u001b[38;5;241;43m.\u001b[39;49m\u001b[43msend\u001b[49m\u001b[43m(\u001b[49m\u001b[43mprep\u001b[49m\u001b[43m,\u001b[49m\u001b[43m \u001b[49m\u001b[38;5;241;43m*\u001b[39;49m\u001b[38;5;241;43m*\u001b[39;49m\u001b[43msend_kwargs\u001b[49m\u001b[43m)\u001b[49m\n\u001b[1;32m    591\u001b[0m \u001b[38;5;28;01mreturn\u001b[39;00m resp\n",
      "File \u001b[0;32m~/프로그래머스_python/.venv/lib/python3.11/site-packages/requests/sessions.py:703\u001b[0m, in \u001b[0;36mSession.send\u001b[0;34m(self, request, **kwargs)\u001b[0m\n\u001b[1;32m    700\u001b[0m start \u001b[38;5;241m=\u001b[39m preferred_clock()\n\u001b[1;32m    702\u001b[0m \u001b[38;5;66;03m# Send the request\u001b[39;00m\n\u001b[0;32m--> 703\u001b[0m r \u001b[38;5;241m=\u001b[39m \u001b[43madapter\u001b[49m\u001b[38;5;241;43m.\u001b[39;49m\u001b[43msend\u001b[49m\u001b[43m(\u001b[49m\u001b[43mrequest\u001b[49m\u001b[43m,\u001b[49m\u001b[43m \u001b[49m\u001b[38;5;241;43m*\u001b[39;49m\u001b[38;5;241;43m*\u001b[39;49m\u001b[43mkwargs\u001b[49m\u001b[43m)\u001b[49m\n\u001b[1;32m    705\u001b[0m \u001b[38;5;66;03m# Total elapsed time of the request (approximately)\u001b[39;00m\n\u001b[1;32m    706\u001b[0m elapsed \u001b[38;5;241m=\u001b[39m preferred_clock() \u001b[38;5;241m-\u001b[39m start\n",
      "File \u001b[0;32m~/프로그래머스_python/.venv/lib/python3.11/site-packages/requests/adapters.py:486\u001b[0m, in \u001b[0;36mHTTPAdapter.send\u001b[0;34m(self, request, stream, timeout, verify, cert, proxies)\u001b[0m\n\u001b[1;32m    483\u001b[0m     timeout \u001b[38;5;241m=\u001b[39m TimeoutSauce(connect\u001b[38;5;241m=\u001b[39mtimeout, read\u001b[38;5;241m=\u001b[39mtimeout)\n\u001b[1;32m    485\u001b[0m \u001b[38;5;28;01mtry\u001b[39;00m:\n\u001b[0;32m--> 486\u001b[0m     resp \u001b[38;5;241m=\u001b[39m \u001b[43mconn\u001b[49m\u001b[38;5;241;43m.\u001b[39;49m\u001b[43murlopen\u001b[49m\u001b[43m(\u001b[49m\n\u001b[1;32m    487\u001b[0m \u001b[43m        \u001b[49m\u001b[43mmethod\u001b[49m\u001b[38;5;241;43m=\u001b[39;49m\u001b[43mrequest\u001b[49m\u001b[38;5;241;43m.\u001b[39;49m\u001b[43mmethod\u001b[49m\u001b[43m,\u001b[49m\n\u001b[1;32m    488\u001b[0m \u001b[43m        \u001b[49m\u001b[43murl\u001b[49m\u001b[38;5;241;43m=\u001b[39;49m\u001b[43murl\u001b[49m\u001b[43m,\u001b[49m\n\u001b[1;32m    489\u001b[0m \u001b[43m        \u001b[49m\u001b[43mbody\u001b[49m\u001b[38;5;241;43m=\u001b[39;49m\u001b[43mrequest\u001b[49m\u001b[38;5;241;43m.\u001b[39;49m\u001b[43mbody\u001b[49m\u001b[43m,\u001b[49m\n\u001b[1;32m    490\u001b[0m \u001b[43m        \u001b[49m\u001b[43mheaders\u001b[49m\u001b[38;5;241;43m=\u001b[39;49m\u001b[43mrequest\u001b[49m\u001b[38;5;241;43m.\u001b[39;49m\u001b[43mheaders\u001b[49m\u001b[43m,\u001b[49m\n\u001b[1;32m    491\u001b[0m \u001b[43m        \u001b[49m\u001b[43mredirect\u001b[49m\u001b[38;5;241;43m=\u001b[39;49m\u001b[38;5;28;43;01mFalse\u001b[39;49;00m\u001b[43m,\u001b[49m\n\u001b[1;32m    492\u001b[0m \u001b[43m        \u001b[49m\u001b[43massert_same_host\u001b[49m\u001b[38;5;241;43m=\u001b[39;49m\u001b[38;5;28;43;01mFalse\u001b[39;49;00m\u001b[43m,\u001b[49m\n\u001b[1;32m    493\u001b[0m \u001b[43m        \u001b[49m\u001b[43mpreload_content\u001b[49m\u001b[38;5;241;43m=\u001b[39;49m\u001b[38;5;28;43;01mFalse\u001b[39;49;00m\u001b[43m,\u001b[49m\n\u001b[1;32m    494\u001b[0m \u001b[43m        \u001b[49m\u001b[43mdecode_content\u001b[49m\u001b[38;5;241;43m=\u001b[39;49m\u001b[38;5;28;43;01mFalse\u001b[39;49;00m\u001b[43m,\u001b[49m\n\u001b[1;32m    495\u001b[0m \u001b[43m        \u001b[49m\u001b[43mretries\u001b[49m\u001b[38;5;241;43m=\u001b[39;49m\u001b[38;5;28;43mself\u001b[39;49m\u001b[38;5;241;43m.\u001b[39;49m\u001b[43mmax_retries\u001b[49m\u001b[43m,\u001b[49m\n\u001b[1;32m    496\u001b[0m \u001b[43m        \u001b[49m\u001b[43mtimeout\u001b[49m\u001b[38;5;241;43m=\u001b[39;49m\u001b[43mtimeout\u001b[49m\u001b[43m,\u001b[49m\n\u001b[1;32m    497\u001b[0m \u001b[43m        \u001b[49m\u001b[43mchunked\u001b[49m\u001b[38;5;241;43m=\u001b[39;49m\u001b[43mchunked\u001b[49m\u001b[43m,\u001b[49m\n\u001b[1;32m    498\u001b[0m \u001b[43m    \u001b[49m\u001b[43m)\u001b[49m\n\u001b[1;32m    500\u001b[0m \u001b[38;5;28;01mexcept\u001b[39;00m (ProtocolError, \u001b[38;5;167;01mOSError\u001b[39;00m) \u001b[38;5;28;01mas\u001b[39;00m err:\n\u001b[1;32m    501\u001b[0m     \u001b[38;5;28;01mraise\u001b[39;00m \u001b[38;5;167;01mConnectionError\u001b[39;00m(err, request\u001b[38;5;241m=\u001b[39mrequest)\n",
      "File \u001b[0;32m~/프로그래머스_python/.venv/lib/python3.11/site-packages/urllib3/connectionpool.py:793\u001b[0m, in \u001b[0;36mHTTPConnectionPool.urlopen\u001b[0;34m(self, method, url, body, headers, retries, redirect, assert_same_host, timeout, pool_timeout, release_conn, chunked, body_pos, preload_content, decode_content, **response_kw)\u001b[0m\n\u001b[1;32m    790\u001b[0m response_conn \u001b[38;5;241m=\u001b[39m conn \u001b[38;5;28;01mif\u001b[39;00m \u001b[38;5;129;01mnot\u001b[39;00m release_conn \u001b[38;5;28;01melse\u001b[39;00m \u001b[38;5;28;01mNone\u001b[39;00m\n\u001b[1;32m    792\u001b[0m \u001b[38;5;66;03m# Make the request on the HTTPConnection object\u001b[39;00m\n\u001b[0;32m--> 793\u001b[0m response \u001b[38;5;241m=\u001b[39m \u001b[38;5;28;43mself\u001b[39;49m\u001b[38;5;241;43m.\u001b[39;49m\u001b[43m_make_request\u001b[49m\u001b[43m(\u001b[49m\n\u001b[1;32m    794\u001b[0m \u001b[43m    \u001b[49m\u001b[43mconn\u001b[49m\u001b[43m,\u001b[49m\n\u001b[1;32m    795\u001b[0m \u001b[43m    \u001b[49m\u001b[43mmethod\u001b[49m\u001b[43m,\u001b[49m\n\u001b[1;32m    796\u001b[0m \u001b[43m    \u001b[49m\u001b[43murl\u001b[49m\u001b[43m,\u001b[49m\n\u001b[1;32m    797\u001b[0m \u001b[43m    \u001b[49m\u001b[43mtimeout\u001b[49m\u001b[38;5;241;43m=\u001b[39;49m\u001b[43mtimeout_obj\u001b[49m\u001b[43m,\u001b[49m\n\u001b[1;32m    798\u001b[0m \u001b[43m    \u001b[49m\u001b[43mbody\u001b[49m\u001b[38;5;241;43m=\u001b[39;49m\u001b[43mbody\u001b[49m\u001b[43m,\u001b[49m\n\u001b[1;32m    799\u001b[0m \u001b[43m    \u001b[49m\u001b[43mheaders\u001b[49m\u001b[38;5;241;43m=\u001b[39;49m\u001b[43mheaders\u001b[49m\u001b[43m,\u001b[49m\n\u001b[1;32m    800\u001b[0m \u001b[43m    \u001b[49m\u001b[43mchunked\u001b[49m\u001b[38;5;241;43m=\u001b[39;49m\u001b[43mchunked\u001b[49m\u001b[43m,\u001b[49m\n\u001b[1;32m    801\u001b[0m \u001b[43m    \u001b[49m\u001b[43mretries\u001b[49m\u001b[38;5;241;43m=\u001b[39;49m\u001b[43mretries\u001b[49m\u001b[43m,\u001b[49m\n\u001b[1;32m    802\u001b[0m \u001b[43m    \u001b[49m\u001b[43mresponse_conn\u001b[49m\u001b[38;5;241;43m=\u001b[39;49m\u001b[43mresponse_conn\u001b[49m\u001b[43m,\u001b[49m\n\u001b[1;32m    803\u001b[0m \u001b[43m    \u001b[49m\u001b[43mpreload_content\u001b[49m\u001b[38;5;241;43m=\u001b[39;49m\u001b[43mpreload_content\u001b[49m\u001b[43m,\u001b[49m\n\u001b[1;32m    804\u001b[0m \u001b[43m    \u001b[49m\u001b[43mdecode_content\u001b[49m\u001b[38;5;241;43m=\u001b[39;49m\u001b[43mdecode_content\u001b[49m\u001b[43m,\u001b[49m\n\u001b[1;32m    805\u001b[0m \u001b[43m    \u001b[49m\u001b[38;5;241;43m*\u001b[39;49m\u001b[38;5;241;43m*\u001b[39;49m\u001b[43mresponse_kw\u001b[49m\u001b[43m,\u001b[49m\n\u001b[1;32m    806\u001b[0m \u001b[43m\u001b[49m\u001b[43m)\u001b[49m\n\u001b[1;32m    808\u001b[0m \u001b[38;5;66;03m# Everything went great!\u001b[39;00m\n\u001b[1;32m    809\u001b[0m clean_exit \u001b[38;5;241m=\u001b[39m \u001b[38;5;28;01mTrue\u001b[39;00m\n",
      "File \u001b[0;32m~/프로그래머스_python/.venv/lib/python3.11/site-packages/urllib3/connectionpool.py:537\u001b[0m, in \u001b[0;36mHTTPConnectionPool._make_request\u001b[0;34m(self, conn, method, url, body, headers, retries, timeout, chunked, response_conn, preload_content, decode_content, enforce_content_length)\u001b[0m\n\u001b[1;32m    535\u001b[0m \u001b[38;5;66;03m# Receive the response from the server\u001b[39;00m\n\u001b[1;32m    536\u001b[0m \u001b[38;5;28;01mtry\u001b[39;00m:\n\u001b[0;32m--> 537\u001b[0m     response \u001b[38;5;241m=\u001b[39m \u001b[43mconn\u001b[49m\u001b[38;5;241;43m.\u001b[39;49m\u001b[43mgetresponse\u001b[49m\u001b[43m(\u001b[49m\u001b[43m)\u001b[49m\n\u001b[1;32m    538\u001b[0m \u001b[38;5;28;01mexcept\u001b[39;00m (BaseSSLError, \u001b[38;5;167;01mOSError\u001b[39;00m) \u001b[38;5;28;01mas\u001b[39;00m e:\n\u001b[1;32m    539\u001b[0m     \u001b[38;5;28mself\u001b[39m\u001b[38;5;241m.\u001b[39m_raise_timeout(err\u001b[38;5;241m=\u001b[39me, url\u001b[38;5;241m=\u001b[39murl, timeout_value\u001b[38;5;241m=\u001b[39mread_timeout)\n",
      "File \u001b[0;32m~/프로그래머스_python/.venv/lib/python3.11/site-packages/urllib3/connection.py:466\u001b[0m, in \u001b[0;36mHTTPConnection.getresponse\u001b[0;34m(self)\u001b[0m\n\u001b[1;32m    463\u001b[0m \u001b[38;5;28;01mfrom\u001b[39;00m \u001b[38;5;21;01m.\u001b[39;00m\u001b[38;5;21;01mresponse\u001b[39;00m \u001b[38;5;28;01mimport\u001b[39;00m HTTPResponse\n\u001b[1;32m    465\u001b[0m \u001b[38;5;66;03m# Get the response from http.client.HTTPConnection\u001b[39;00m\n\u001b[0;32m--> 466\u001b[0m httplib_response \u001b[38;5;241m=\u001b[39m \u001b[38;5;28;43msuper\u001b[39;49m\u001b[43m(\u001b[49m\u001b[43m)\u001b[49m\u001b[38;5;241;43m.\u001b[39;49m\u001b[43mgetresponse\u001b[49m\u001b[43m(\u001b[49m\u001b[43m)\u001b[49m\n\u001b[1;32m    468\u001b[0m \u001b[38;5;28;01mtry\u001b[39;00m:\n\u001b[1;32m    469\u001b[0m     assert_header_parsing(httplib_response\u001b[38;5;241m.\u001b[39mmsg)\n",
      "File \u001b[0;32m/opt/homebrew/Cellar/python@3.11/3.11.7_1/Frameworks/Python.framework/Versions/3.11/lib/python3.11/http/client.py:1386\u001b[0m, in \u001b[0;36mHTTPConnection.getresponse\u001b[0;34m(self)\u001b[0m\n\u001b[1;32m   1384\u001b[0m \u001b[38;5;28;01mtry\u001b[39;00m:\n\u001b[1;32m   1385\u001b[0m     \u001b[38;5;28;01mtry\u001b[39;00m:\n\u001b[0;32m-> 1386\u001b[0m         \u001b[43mresponse\u001b[49m\u001b[38;5;241;43m.\u001b[39;49m\u001b[43mbegin\u001b[49m\u001b[43m(\u001b[49m\u001b[43m)\u001b[49m\n\u001b[1;32m   1387\u001b[0m     \u001b[38;5;28;01mexcept\u001b[39;00m \u001b[38;5;167;01mConnectionError\u001b[39;00m:\n\u001b[1;32m   1388\u001b[0m         \u001b[38;5;28mself\u001b[39m\u001b[38;5;241m.\u001b[39mclose()\n",
      "File \u001b[0;32m/opt/homebrew/Cellar/python@3.11/3.11.7_1/Frameworks/Python.framework/Versions/3.11/lib/python3.11/http/client.py:325\u001b[0m, in \u001b[0;36mHTTPResponse.begin\u001b[0;34m(self)\u001b[0m\n\u001b[1;32m    323\u001b[0m \u001b[38;5;66;03m# read until we get a non-100 response\u001b[39;00m\n\u001b[1;32m    324\u001b[0m \u001b[38;5;28;01mwhile\u001b[39;00m \u001b[38;5;28;01mTrue\u001b[39;00m:\n\u001b[0;32m--> 325\u001b[0m     version, status, reason \u001b[38;5;241m=\u001b[39m \u001b[38;5;28;43mself\u001b[39;49m\u001b[38;5;241;43m.\u001b[39;49m\u001b[43m_read_status\u001b[49m\u001b[43m(\u001b[49m\u001b[43m)\u001b[49m\n\u001b[1;32m    326\u001b[0m     \u001b[38;5;28;01mif\u001b[39;00m status \u001b[38;5;241m!=\u001b[39m CONTINUE:\n\u001b[1;32m    327\u001b[0m         \u001b[38;5;28;01mbreak\u001b[39;00m\n",
      "File \u001b[0;32m/opt/homebrew/Cellar/python@3.11/3.11.7_1/Frameworks/Python.framework/Versions/3.11/lib/python3.11/http/client.py:286\u001b[0m, in \u001b[0;36mHTTPResponse._read_status\u001b[0;34m(self)\u001b[0m\n\u001b[1;32m    285\u001b[0m \u001b[38;5;28;01mdef\u001b[39;00m \u001b[38;5;21m_read_status\u001b[39m(\u001b[38;5;28mself\u001b[39m):\n\u001b[0;32m--> 286\u001b[0m     line \u001b[38;5;241m=\u001b[39m \u001b[38;5;28mstr\u001b[39m(\u001b[38;5;28mself\u001b[39m\u001b[38;5;241m.\u001b[39mfp\u001b[38;5;241m.\u001b[39mreadline(_MAXLINE \u001b[38;5;241m+\u001b[39m \u001b[38;5;241m1\u001b[39m), \u001b[38;5;124m\"\u001b[39m\u001b[38;5;124miso-8859-1\u001b[39m\u001b[38;5;124m\"\u001b[39m)\n\u001b[1;32m    287\u001b[0m     \u001b[38;5;28;01mif\u001b[39;00m \u001b[38;5;28mlen\u001b[39m(line) \u001b[38;5;241m>\u001b[39m _MAXLINE:\n\u001b[1;32m    288\u001b[0m         \u001b[38;5;28;01mraise\u001b[39;00m LineTooLong(\u001b[38;5;124m\"\u001b[39m\u001b[38;5;124mstatus line\u001b[39m\u001b[38;5;124m\"\u001b[39m)\n",
      "File \u001b[0;32m/opt/homebrew/Cellar/python@3.11/3.11.7_1/Frameworks/Python.framework/Versions/3.11/lib/python3.11/socket.py:706\u001b[0m, in \u001b[0;36mSocketIO.readinto\u001b[0;34m(self, b)\u001b[0m\n\u001b[1;32m    704\u001b[0m \u001b[38;5;28;01mwhile\u001b[39;00m \u001b[38;5;28;01mTrue\u001b[39;00m:\n\u001b[1;32m    705\u001b[0m     \u001b[38;5;28;01mtry\u001b[39;00m:\n\u001b[0;32m--> 706\u001b[0m         \u001b[38;5;28;01mreturn\u001b[39;00m \u001b[38;5;28;43mself\u001b[39;49m\u001b[38;5;241;43m.\u001b[39;49m\u001b[43m_sock\u001b[49m\u001b[38;5;241;43m.\u001b[39;49m\u001b[43mrecv_into\u001b[49m\u001b[43m(\u001b[49m\u001b[43mb\u001b[49m\u001b[43m)\u001b[49m\n\u001b[1;32m    707\u001b[0m     \u001b[38;5;28;01mexcept\u001b[39;00m timeout:\n\u001b[1;32m    708\u001b[0m         \u001b[38;5;28mself\u001b[39m\u001b[38;5;241m.\u001b[39m_timeout_occurred \u001b[38;5;241m=\u001b[39m \u001b[38;5;28;01mTrue\u001b[39;00m\n",
      "File \u001b[0;32m/opt/homebrew/Cellar/python@3.11/3.11.7_1/Frameworks/Python.framework/Versions/3.11/lib/python3.11/ssl.py:1315\u001b[0m, in \u001b[0;36mSSLSocket.recv_into\u001b[0;34m(self, buffer, nbytes, flags)\u001b[0m\n\u001b[1;32m   1311\u001b[0m     \u001b[38;5;28;01mif\u001b[39;00m flags \u001b[38;5;241m!=\u001b[39m \u001b[38;5;241m0\u001b[39m:\n\u001b[1;32m   1312\u001b[0m         \u001b[38;5;28;01mraise\u001b[39;00m \u001b[38;5;167;01mValueError\u001b[39;00m(\n\u001b[1;32m   1313\u001b[0m           \u001b[38;5;124m\"\u001b[39m\u001b[38;5;124mnon-zero flags not allowed in calls to recv_into() on \u001b[39m\u001b[38;5;132;01m%s\u001b[39;00m\u001b[38;5;124m\"\u001b[39m \u001b[38;5;241m%\u001b[39m\n\u001b[1;32m   1314\u001b[0m           \u001b[38;5;28mself\u001b[39m\u001b[38;5;241m.\u001b[39m\u001b[38;5;18m__class__\u001b[39m)\n\u001b[0;32m-> 1315\u001b[0m     \u001b[38;5;28;01mreturn\u001b[39;00m \u001b[38;5;28;43mself\u001b[39;49m\u001b[38;5;241;43m.\u001b[39;49m\u001b[43mread\u001b[49m\u001b[43m(\u001b[49m\u001b[43mnbytes\u001b[49m\u001b[43m,\u001b[49m\u001b[43m \u001b[49m\u001b[43mbuffer\u001b[49m\u001b[43m)\u001b[49m\n\u001b[1;32m   1316\u001b[0m \u001b[38;5;28;01melse\u001b[39;00m:\n\u001b[1;32m   1317\u001b[0m     \u001b[38;5;28;01mreturn\u001b[39;00m \u001b[38;5;28msuper\u001b[39m()\u001b[38;5;241m.\u001b[39mrecv_into(buffer, nbytes, flags)\n",
      "File \u001b[0;32m/opt/homebrew/Cellar/python@3.11/3.11.7_1/Frameworks/Python.framework/Versions/3.11/lib/python3.11/ssl.py:1167\u001b[0m, in \u001b[0;36mSSLSocket.read\u001b[0;34m(self, len, buffer)\u001b[0m\n\u001b[1;32m   1165\u001b[0m \u001b[38;5;28;01mtry\u001b[39;00m:\n\u001b[1;32m   1166\u001b[0m     \u001b[38;5;28;01mif\u001b[39;00m buffer \u001b[38;5;129;01mis\u001b[39;00m \u001b[38;5;129;01mnot\u001b[39;00m \u001b[38;5;28;01mNone\u001b[39;00m:\n\u001b[0;32m-> 1167\u001b[0m         \u001b[38;5;28;01mreturn\u001b[39;00m \u001b[38;5;28;43mself\u001b[39;49m\u001b[38;5;241;43m.\u001b[39;49m\u001b[43m_sslobj\u001b[49m\u001b[38;5;241;43m.\u001b[39;49m\u001b[43mread\u001b[49m\u001b[43m(\u001b[49m\u001b[38;5;28;43mlen\u001b[39;49m\u001b[43m,\u001b[49m\u001b[43m \u001b[49m\u001b[43mbuffer\u001b[49m\u001b[43m)\u001b[49m\n\u001b[1;32m   1168\u001b[0m     \u001b[38;5;28;01melse\u001b[39;00m:\n\u001b[1;32m   1169\u001b[0m         \u001b[38;5;28;01mreturn\u001b[39;00m \u001b[38;5;28mself\u001b[39m\u001b[38;5;241m.\u001b[39m_sslobj\u001b[38;5;241m.\u001b[39mread(\u001b[38;5;28mlen\u001b[39m)\n",
      "\u001b[0;31mKeyboardInterrupt\u001b[0m: "
     ]
    }
   ],
   "source": [
    "r = requests.get(url, headers=head)\n",
    "bs = BeautifulSoup(r.text)"
   ]
  },
  {
   "cell_type": "code",
   "execution_count": null,
   "metadata": {},
   "outputs": [],
   "source": [
    "# data = bs.find(\"div\", class_=\"section\").find_all(\"a\")\n",
    "data = bs.find(\"ul\", class_=\"basic1\").find_all(\"a\")"
   ]
  },
  {
   "cell_type": "code",
   "execution_count": null,
   "metadata": {},
   "outputs": [
    {
     "data": {
      "text/plain": [
       "[<a class=\"_nclicks:kin.txt _searchListTitleAnchor\" href=\"https://kin.naver.com/qna/detail.naver?d1id=7&amp;dirId=701&amp;docId=460565180&amp;qb=6rCQ6riw&amp;enc=utf8§ion=kin&amp;rank=311&amp;search_sort=0&amp;spq=0\" target=\"_blank\"><b>감기</b>걸린애랑 빨대</a>,\n",
       " <a class=\"em _nclicks:kin.tag\" href=\"/tag/tagDetail.naver?tag=%EA%B0%90%EA%B8%B0&amp;listType=answer\">#감기</a>,\n",
       " <a class=\"_nclicks:kin.tag\" href=\"/tag/tagDetail.naver?tag=%EA%B0%90%EA%B8%B0%EB%AA%B8%EC%82%B4&amp;listType=answer\">#감기몸살</a>,\n",
       " <a class=\"txt_g1 _nclicks:kin.cat1\" href=\"/search/list.naver?query=%EA%B0%90%EA%B8%B0§ion=qna\">Q&amp;A</a>,\n",
       " <a class=\"txt_g1 _nclicks:kin.cat2\" href=\"/search/list.naver?query=%EA%B0%90%EA%B8%B0§ion=qna&amp;dirId=701\">건강상담</a>,\n",
       " <a class=\"_nclicks:kin.txt _searchListTitleAnchor\" href=\"https://kin.naver.com/qna/detail.naver?d1id=7&amp;dirId=7010107&amp;docId=458999174&amp;qb=6rCQ6riw&amp;enc=utf8§ion=kin&amp;rank=312&amp;search_sort=0&amp;spq=0\" target=\"_blank\"><b>감기</b> 안옮는법</a>,\n",
       " <a class=\"em _nclicks:kin.tag\" href=\"/tag/tagDetail.naver?tag=%EA%B0%90%EA%B8%B0&amp;listType=answer\">#감기</a>,\n",
       " <a class=\"txt_g1 _nclicks:kin.cat1\" href=\"/search/list.naver?query=%EA%B0%90%EA%B8%B0§ion=qna\">Q&amp;A</a>,\n",
       " <a class=\"txt_g1 _nclicks:kin.cat2\" href=\"/search/list.naver?query=%EA%B0%90%EA%B8%B0§ion=qna&amp;dirId=7010107\">감염내과</a>,\n",
       " <a class=\"_nclicks:kin.txt _searchListTitleAnchor\" href=\"https://kin.naver.com/qna/detail.naver?d1id=7&amp;dirId=70125&amp;docId=458504034&amp;qb=6rCQ6riw&amp;enc=utf8§ion=kin&amp;rank=313&amp;search_sort=0&amp;spq=0\" target=\"_blank\"><b>감기</b>에 걸린건지 코맹맹이</a>,\n",
       " <a class=\"txt_g1 _nclicks:kin.cat1\" href=\"/search/list.naver?query=%EA%B0%90%EA%B8%B0§ion=qna\">Q&amp;A</a>,\n",
       " <a class=\"txt_g1 _nclicks:kin.cat2\" href=\"/search/list.naver?query=%EA%B0%90%EA%B8%B0§ion=qna&amp;dirId=70125\">기타</a>,\n",
       " <a class=\"_nclicks:kin.txt _searchListTitleAnchor\" href=\"https://kin.naver.com/qna/detail.naver?d1id=7&amp;dirId=70102&amp;docId=461685770&amp;qb=6rCQ6riw&amp;enc=utf8§ion=kin&amp;rank=314&amp;search_sort=0&amp;spq=0\" target=\"_blank\">숙취? 목<b>감기</b>에서 코<b>감기</b>?</a>,\n",
       " <a class=\"_nclicks:kin.tag\" href=\"/tag/tagDetail.naver?tag=%EB%AA%A9%EA%B0%90%EA%B8%B0&amp;listType=answer\">#목감기</a>,\n",
       " <a class=\"_nclicks:kin.tag\" href=\"/tag/tagDetail.naver?tag=%EC%BD%94%EA%B0%90%EA%B8%B0&amp;listType=answer\">#코감기</a>,\n",
       " <a class=\"_nclicks:kin.tag\" href=\"/tag/tagDetail.naver?tag=%EB%B9%84%EC%97%BC&amp;listType=answer\">#비염</a>,\n",
       " <a class=\"_nclicks:kin.tag\" href=\"/tag/tagDetail.naver?tag=%EC%88%A0&amp;listType=answer\">#술</a>,\n",
       " <a class=\"_nclicks:kin.tag\" href=\"/tag/tagDetail.naver?tag=%EC%88%99%EC%B7%A8&amp;listType=answer\">#숙취</a>,\n",
       " <a class=\"txt_g1 _nclicks:kin.cat1\" href=\"/search/list.naver?query=%EA%B0%90%EA%B8%B0§ion=qna\">Q&amp;A</a>,\n",
       " <a class=\"txt_g1 _nclicks:kin.cat2\" href=\"/search/list.naver?query=%EA%B0%90%EA%B8%B0§ion=qna&amp;dirId=70102\">이비인후과</a>,\n",
       " <a class=\"_nclicks:kin.txt _searchListTitleAnchor\" href=\"https://kin.naver.com/qna/detail.naver?d1id=7&amp;dirId=7010101&amp;docId=458416680&amp;qb=6rCQ6riw&amp;enc=utf8§ion=kin&amp;rank=315&amp;search_sort=0&amp;spq=0\" target=\"_blank\">그냥 <b>감기</b>인가요</a>,\n",
       " <a class=\"em _nclicks:kin.tag\" href=\"/tag/tagDetail.naver?tag=%EA%B0%90%EA%B8%B0&amp;listType=answer\">#감기</a>,\n",
       " <a class=\"txt_g1 _nclicks:kin.cat1\" href=\"/search/list.naver?query=%EA%B0%90%EA%B8%B0§ion=qna\">Q&amp;A</a>,\n",
       " <a class=\"txt_g1 _nclicks:kin.cat2\" href=\"/search/list.naver?query=%EA%B0%90%EA%B8%B0§ion=qna&amp;dirId=7010101\">호흡기내과</a>,\n",
       " <a class=\"_nclicks:kin.txt _searchListTitleAnchor\" href=\"https://kin.naver.com/qna/detail.naver?d1id=7&amp;dirId=7010101&amp;docId=455038563&amp;qb=6rCQ6riw&amp;enc=utf8§ion=kin&amp;rank=316&amp;search_sort=0&amp;spq=0\" target=\"_blank\"><b>감기</b> 빨리 낫는법</a>,\n",
       " <a class=\"txt_g1 _nclicks:kin.cat1\" href=\"/search/list.naver?query=%EA%B0%90%EA%B8%B0§ion=qna\">Q&amp;A</a>,\n",
       " <a class=\"txt_g1 _nclicks:kin.cat2\" href=\"/search/list.naver?query=%EA%B0%90%EA%B8%B0§ion=qna&amp;dirId=7010101\">호흡기내과</a>,\n",
       " <a class=\"_nclicks:kin.txt _searchListTitleAnchor\" href=\"https://kin.naver.com/qna/detail.naver?d1id=5&amp;dirId=50801&amp;docId=461999482&amp;qb=6rCQ6riw&amp;enc=utf8§ion=kin&amp;rank=317&amp;search_sort=0&amp;spq=0\" target=\"_blank\">보톡스 맞고 <b>감기</b></a>,\n",
       " <a class=\"txt_g1 _nclicks:kin.cat1\" href=\"/search/list.naver?query=%EA%B0%90%EA%B8%B0§ion=qna\">Q&amp;A</a>,\n",
       " <a class=\"txt_g1 _nclicks:kin.cat2\" href=\"/search/list.naver?query=%EA%B0%90%EA%B8%B0§ion=qna&amp;dirId=50801\">건강식품, 의약외품</a>,\n",
       " <a class=\"_nclicks:kin.txt _searchListTitleAnchor\" href=\"https://kin.naver.com/qna/detail.naver?d1id=8&amp;dirId=80511&amp;docId=459651872&amp;qb=6rCQ6riw&amp;enc=utf8§ion=kin&amp;rank=318&amp;search_sort=0&amp;spq=0\" target=\"_blank\">새끼고양이 <b>감기</b> 전염</a>,\n",
       " <a class=\"_nclicks:kin.tag\" href=\"/tag/tagDetail.naver?tag=%EC%83%88%EB%81%BC%EA%B3%A0%EC%96%91%EC%9D%B4%EA%B0%90%EA%B8%B0&amp;listType=answer\">#새끼고양이감기</a>,\n",
       " <a class=\"txt_g1 _nclicks:kin.cat1\" href=\"/search/list.naver?query=%EA%B0%90%EA%B8%B0§ion=qna\">Q&amp;A</a>,\n",
       " <a class=\"txt_g1 _nclicks:kin.cat2\" href=\"/search/list.naver?query=%EA%B0%90%EA%B8%B0§ion=qna&amp;dirId=80511\">동물의료상담</a>,\n",
       " <a class=\"_nclicks:kin.txt _searchListTitleAnchor\" href=\"https://kin.naver.com/qna/detail.naver?d1id=7&amp;dirId=70102&amp;docId=456318545&amp;qb=6rCQ6riw&amp;enc=utf8§ion=kin&amp;rank=319&amp;search_sort=0&amp;spq=0\" target=\"_blank\">몸살<b>감기</b> 약</a>,\n",
       " <a class=\"_nclicks:kin.tag\" href=\"/tag/tagDetail.naver?tag=%EC%95%BD%ED%92%88&amp;listType=answer\">#약품</a>,\n",
       " <a class=\"txt_g1 _nclicks:kin.cat1\" href=\"/search/list.naver?query=%EA%B0%90%EA%B8%B0§ion=qna\">Q&amp;A</a>,\n",
       " <a class=\"txt_g1 _nclicks:kin.cat2\" href=\"/search/list.naver?query=%EA%B0%90%EA%B8%B0§ion=qna&amp;dirId=70102\">이비인후과</a>,\n",
       " <a class=\"_nclicks:kin.txt _searchListTitleAnchor\" href=\"https://kin.naver.com/qna/detail.naver?d1id=7&amp;dirId=70102&amp;docId=461218525&amp;qb=6rCQ6riw&amp;enc=utf8§ion=kin&amp;rank=320&amp;search_sort=0&amp;spq=0\" target=\"_blank\">코<b>감기</b> 증상</a>,\n",
       " <a class=\"_nclicks:kin.tag\" href=\"/tag/tagDetail.naver?tag=%EC%BD%94%EA%B0%90%EA%B8%B0&amp;listType=answer\">#코감기</a>,\n",
       " <a class=\"txt_g1 _nclicks:kin.cat1\" href=\"/search/list.naver?query=%EA%B0%90%EA%B8%B0§ion=qna\">Q&amp;A</a>,\n",
       " <a class=\"txt_g1 _nclicks:kin.cat2\" href=\"/search/list.naver?query=%EA%B0%90%EA%B8%B0§ion=qna&amp;dirId=70102\">이비인후과</a>]"
      ]
     },
     "execution_count": 25,
     "metadata": {},
     "output_type": "execute_result"
    }
   ],
   "source": [
    "data"
   ]
  },
  {
   "cell_type": "code",
   "execution_count": null,
   "metadata": {},
   "outputs": [],
   "source": [
    "link_list = []\n",
    "pattern = r'href=\"(https://kin\\.naver\\.com[^\"]+)\"'\n",
    "for tag in data:\n",
    "    tag_str = str(tag)  # 태그 객체를 문자열로 변환\n",
    "    match = re.search(pattern, tag_str)\n",
    "    if match:\n",
    "        link = match.group(1)\n",
    "        link_list.append(link)"
   ]
  },
  {
   "cell_type": "code",
   "execution_count": null,
   "metadata": {},
   "outputs": [
    {
     "data": {
      "text/plain": [
       "10"
      ]
     },
     "execution_count": 27,
     "metadata": {},
     "output_type": "execute_result"
    }
   ],
   "source": [
    "len(link_list)"
   ]
  },
  {
   "cell_type": "code",
   "execution_count": null,
   "metadata": {},
   "outputs": [
    {
     "data": {
      "text/plain": [
       "['https://kin.naver.com/qna/detail.naver?d1id=7&amp;dirId=701&amp;docId=460565180&amp;qb=6rCQ6riw&amp;enc=utf8§ion=kin&amp;rank=311&amp;search_sort=0&amp;spq=0',\n",
       " 'https://kin.naver.com/qna/detail.naver?d1id=7&amp;dirId=7010107&amp;docId=458999174&amp;qb=6rCQ6riw&amp;enc=utf8§ion=kin&amp;rank=312&amp;search_sort=0&amp;spq=0',\n",
       " 'https://kin.naver.com/qna/detail.naver?d1id=7&amp;dirId=70125&amp;docId=458504034&amp;qb=6rCQ6riw&amp;enc=utf8§ion=kin&amp;rank=313&amp;search_sort=0&amp;spq=0',\n",
       " 'https://kin.naver.com/qna/detail.naver?d1id=7&amp;dirId=70102&amp;docId=461685770&amp;qb=6rCQ6riw&amp;enc=utf8§ion=kin&amp;rank=314&amp;search_sort=0&amp;spq=0',\n",
       " 'https://kin.naver.com/qna/detail.naver?d1id=7&amp;dirId=7010101&amp;docId=458416680&amp;qb=6rCQ6riw&amp;enc=utf8§ion=kin&amp;rank=315&amp;search_sort=0&amp;spq=0',\n",
       " 'https://kin.naver.com/qna/detail.naver?d1id=7&amp;dirId=7010101&amp;docId=455038563&amp;qb=6rCQ6riw&amp;enc=utf8§ion=kin&amp;rank=316&amp;search_sort=0&amp;spq=0',\n",
       " 'https://kin.naver.com/qna/detail.naver?d1id=5&amp;dirId=50801&amp;docId=461999482&amp;qb=6rCQ6riw&amp;enc=utf8§ion=kin&amp;rank=317&amp;search_sort=0&amp;spq=0',\n",
       " 'https://kin.naver.com/qna/detail.naver?d1id=8&amp;dirId=80511&amp;docId=459651872&amp;qb=6rCQ6riw&amp;enc=utf8§ion=kin&amp;rank=318&amp;search_sort=0&amp;spq=0',\n",
       " 'https://kin.naver.com/qna/detail.naver?d1id=7&amp;dirId=70102&amp;docId=456318545&amp;qb=6rCQ6riw&amp;enc=utf8§ion=kin&amp;rank=319&amp;search_sort=0&amp;spq=0',\n",
       " 'https://kin.naver.com/qna/detail.naver?d1id=7&amp;dirId=70102&amp;docId=461218525&amp;qb=6rCQ6riw&amp;enc=utf8§ion=kin&amp;rank=320&amp;search_sort=0&amp;spq=0']"
      ]
     },
     "execution_count": 28,
     "metadata": {},
     "output_type": "execute_result"
    }
   ],
   "source": [
    "link_list"
   ]
  },
  {
   "cell_type": "code",
   "execution_count": null,
   "metadata": {},
   "outputs": [],
   "source": [
    "from tqdm import tqdm"
   ]
  },
  {
   "cell_type": "code",
   "execution_count": null,
   "metadata": {},
   "outputs": [],
   "source": [
    "import time"
   ]
  },
  {
   "cell_type": "code",
   "execution_count": 61,
   "metadata": {},
   "outputs": [],
   "source": []
  },
  {
   "cell_type": "code",
   "execution_count": 71,
   "metadata": {},
   "outputs": [
    {
     "data": {
      "text/plain": [
       "0.007727110984415003"
      ]
     },
     "execution_count": 71,
     "metadata": {},
     "output_type": "execute_result"
    }
   ],
   "source": [
    "import random\n",
    "sleep_time = random.uniform(0,0.01)\n",
    "sleep_time"
   ]
  },
  {
   "cell_type": "markdown",
   "metadata": {},
   "source": [
    "## 감기 키워드 qna 링크 크롤링\n"
   ]
  },
  {
   "cell_type": "code",
   "execution_count": 75,
   "metadata": {},
   "outputs": [
    {
     "name": "stderr",
     "output_type": "stream",
     "text": [
      "100%|██████████| 199/199 [02:16<00:00,  1.46it/s]\n"
     ]
    }
   ],
   "source": [
    "head = { 'User-Agent': \n",
    "        \"Mozilla/5.0 (Windows NT 10.0; Win64; x64) AppleWebKit/537.36 (KHTML, like Gecko) Chrome/58.0.3029.110 Safari/537.3\"}\n",
    "\n",
    "\n",
    "url = \"https://kin.naver.com/search/list.naver?query=%EA%B0%90%EA%B8%B0&page=1\"\n",
    "link_list = []\n",
    "for page in tqdm(range(1,200)):\n",
    "\n",
    "        r = requests.get(url.format(page), headers=head)\n",
    "        bs = BeautifulSoup(r.text)\n",
    "        data = bs.find(\"div\", class_=\"section\").find_all(\"a\")\n",
    "\n",
    "        pattern = r'href=\"(https://kin\\.naver\\.com[^\"]+)\"'\n",
    "        for tag in data:\n",
    "                tag_str = str(tag)  # 태그 객체를 문자열로 변환\n",
    "                match = re.search(pattern, tag_str)\n",
    "                if match:\n",
    "                        link = match.group(1)\n",
    "                        link_list.append(link)\n",
    "        sleep_time = random.uniform(0,1)\n",
    "        time.sleep(sleep_time)"
   ]
  },
  {
   "cell_type": "markdown",
   "metadata": {},
   "source": [
    "## 건강상담 > 내과 > 호흡기내과 크롤링"
   ]
  },
  {
   "cell_type": "code",
   "execution_count": null,
   "metadata": {},
   "outputs": [
    {
     "name": "stderr",
     "output_type": "stream",
     "text": [
      "100%|██████████| 99/99 [01:27<00:00,  1.13it/s]\n"
     ]
    }
   ],
   "source": [
    "head = { 'User-Agent': \n",
    "        \"Mozilla/5.0 (Windows NT 10.0; Win64; x64) AppleWebKit/537.36 (KHTML, like Gecko) Chrome/58.0.3029.110 Safari/537.3\"}\n",
    "\n",
    "\n",
    "url = \"https://kin.naver.com/qna/expertAnswerList.naver?dirId=7010101&queryTime=2024-02-08%2018%3A00%3A58&page=1\"\n",
    "link_list2 = []\n",
    "for page in tqdm(range(1,100)):\n",
    "        try : \n",
    "                r = requests.get(url.format(page), headers=head)\n",
    "                bs = BeautifulSoup(r.text)\n",
    "                data = bs.find(\"div\", class_=\"qna_list_expertAnswer\").find_all(\"a\")\n",
    "\n",
    "                pattern = r'href=\"(/qna/detail\\.naver[^\"]+)\"'\n",
    "                for tag in data:\n",
    "                        tag_str = str(tag)  # 태그 객체를 문자열로 변환\n",
    "                        match = re.search(pattern, tag_str)\n",
    "                        if match:\n",
    "                                link = match.group(1)\n",
    "                                link_list2.append(link)\n",
    "                sleep_time = random.uniform(0,1)\n",
    "                time.sleep(sleep_time)\n",
    "        except:\n",
    "                print(\"없는 페이지\")"
   ]
  },
  {
   "cell_type": "code",
   "execution_count": 87,
   "metadata": {},
   "outputs": [
    {
     "data": {
      "text/plain": [
       "1980"
      ]
     },
     "execution_count": 87,
     "metadata": {},
     "output_type": "execute_result"
    }
   ],
   "source": [
    "len(link_list2)"
   ]
  },
  {
   "cell_type": "code",
   "execution_count": 47,
   "metadata": {},
   "outputs": [],
   "source": [
    "r1= requests.get(link_list[0], headers=head)\n",
    "bs = BeautifulSoup(r.text)"
   ]
  },
  {
   "cell_type": "code",
   "execution_count": 56,
   "metadata": {},
   "outputs": [
    {
     "data": {
      "text/plain": [
       "\"감기 검색결과 : 지식iN\\n\\n\\n\\n\\n\\n\\n\\n\\n\\n메인 메뉴 바로가기\\n본문 바로가기\\n\\n\\n\\n권장 브라우저 업데이트 안내\\n\\n\\n권장 브라우저 안내\\n\\n\\n혹시 아직 인터넷 익스플로러 9.0 미만 버전을 사용하고 계신가요?\\n새롭게 바뀐 지식iN Q&A 페이지는 IE 9.0 이상의 브라우저에 최적화되어 있습니다. 원활한 이용을 위해 꼭 업데이트 해주세요! 업데이트하기 \\n\\n\\n\\n\\n\\n\\n\\n\\nNAVER\\n\\n\\n\\n지식iN\\n\\n검색영역\\n\\n\\n지식인 검색\\n\\n\\n\\n자동완성 열기\\n\\n\\n\\n\\n지식iN 검색\\n\\n\\n\\n\\n\\n\\n\\n\\n\\neXpert\\n\\n\\n\\n\\n\\n\\n\\n\\n\\n\\n실시간 공지사항\\n\\n\\n\\n새소식\\n지식iN은 누구나 엑스퍼트\\n\\n\\n\\n\\n\\n\\n\\n\\n\\n\\n메인 메뉴\\n\\n\\n홈\\n\\n\\nQ&A\\n\\n교육, 학문\\n컴퓨터통신\\n게임\\n엔터테인먼트, 예술\\n생활\\n건강\\n사회, 정치\\n경제\\n여행\\n스포츠, 레저\\n쇼핑\\n쥬니버Q&A\\n지역&플레이스\\n고민Q&A\\n오픈사전\\n\\n\\n\\n답변하기\\n\\n\\n지식기부\\n\\n\\n사람들\\n\\n\\n베스트\\n\\n\\n명예의전당\\n\\n\\n|\\n프로필\\n\\n\\n파트너센터\\n\\n\\n룰렛\\n\\n\\n질문하기\\n\\n\\n\\n\\n\\n\\n\\n\\n'감기' 에 대한 검색결과입니다.\\n\\t\\n\\t\\n\\t\\n\\n\\n\\n\\n\\n\\n\\n전체\\nQ&A\\n오픈백과\\n답변을 기다리는 질문\\n\\n\\n\\n\\n\\n\\n생명은 소중합니다.! 지금,희망을 클릭하세요.\\n\\n\\n\\n전화상담\\n\\n자살예방상담전화 109\\n정신건강상담전화 1577-0199\\n청소년 HelpCall 1388\\n한국생명의전화 1588-9191\\n한마음한몸자살예방센터 1577-0199\\n\\n\\n\\n온라인상담\\n\\n한국생명의전화\\n청소년사이버상담센터\\n\\n\\n\\n지식iN도 여러분을 돕습니다.\\n\\n의사에게질문하기\\n여성가족부. 한국청소년상담복지개발원\\n경기도청소년상담복지센터\\n마음상담\\n|허그맘\\n\\n\\n\\n\\n\\n\\n\\n\\n\\n(1-10/2,296,793)\\n\\n\\n\\n정확도\\n최신순\\n추천순\\n\\n\\n\\n\\n\\n\\n\\n\\n\\n\\n\\n기간 전체\\n최근 1주\\n최근 1달\\n기간 입력\\n\\n\\n\\n\\n\\n\\n\\n\\n\\n\\n\\n\\n\\n\\n검색결과\\n\\n\\n\\n\\n감기 걸렸을때만 이명 들림\\n\\n\\n2024.01.09.\\n... 뒤로 감기에 걸리면 이명이 생깁니다. 몸이 아프거나 피곤해서가 아니라, '감기'에 걸려야 이명이 생깁니다. 장염... 또한 감기의 일종임에도)에 걸렸을때도 안 들리던 이명이... \\n\\n\\n\\nQ&A\\n\\t\\t\\t\\t\\t\\t\\t\\t\\n\\t\\t\\t\\t\\t\\t\\t\\t\\t > 이비인후과\\n|\\n답변수 1\\n\\t\\t\\t\\t\\t\\t\\t\\n\\t\\t\\t\\t\\t\\t\\t\\xa0추천수 0\\n\\t\\t\\t\\t\\t\\t\\t\\n\\t\\t\\t\\t\\t\\t\\t\\n\\n\\n\\n\\n\\n6세 감기가 오래가요(평촌 감기)\\n\\n\\n2024.01.24.\\n평촌 소아/여 감기 6세 여자 아이인데 감기가 오래가요. 이사와서 아는 곳도 없고... 유치원을 옮기고 더 그런것 같기도 한데 올해 한달이 멀다하고 계속 감기라 콧물 기침을 달고... \\n\\n#비염치료\\n#비염한의원\\n#어린이한의원\\n#알레르기비염치료\\n#평촌감기\\n\\n\\nQ&A\\n\\t\\t\\t\\t\\t\\t\\t\\t\\n\\t\\t\\t\\t\\t\\t\\t\\t\\t > 한방소아청소년과\\n|\\n답변수 1\\n\\t\\t\\t\\t\\t\\t\\t\\n\\t\\t\\t\\t\\t\\t\\t\\xa0추천수 0\\n\\t\\t\\t\\t\\t\\t\\t\\n\\t\\t\\t\\t\\t\\t\\t\\n\\n\\n\\n\\n\\n감기 한달 째(전주 한방상비약)\\n\\n\\n2024.01.01.\\n... 한달동안 감기가 떨어지질 않아서 문의드립니다. 양약을... 한달째 지속 되는 감기는 면역력 때문일까요?? 꼭 한약을 복용 해야 하는지, 아니면 감기약도 처방 받을 수 있다고... \\n\\n#한방소아청소년과\\n\\n\\nQ&A\\n\\t\\t\\t\\t\\t\\t\\t\\t\\n\\t\\t\\t\\t\\t\\t\\t\\t\\t > 한방소아청소년과\\n|\\n답변수 1\\n\\t\\t\\t\\t\\t\\t\\t\\n\\t\\t\\t\\t\\t\\t\\t\\xa0추천수 0\\n\\t\\t\\t\\t\\t\\t\\t\\n\\t\\t\\t\\t\\t\\t\\t\\n\\n\\n\\n\\n\\n감기걸렸을때 먹어도되는 음식\\n\\n\\n2024.01.25.\\n감기걸렸을때 먹어도되는 움식이나 먹으면 안되는음식이있나요?  감기에 걸렸을 때는 면역력을 강화하고 회복을... 다음은 감기에 걸렸을 때 먹어도 되는 음식과 피해야 할... \\n\\n\\n\\nQ&A\\n\\t\\t\\t\\t\\t\\t\\t\\t\\n\\t\\t\\t\\t\\t\\t\\t\\t\\t > 건강에좋은음식\\n|\\n답변수 1\\n\\t\\t\\t\\t\\t\\t\\t\\n\\t\\t\\t\\t\\t\\t\\t\\xa0추천수 0\\n\\t\\t\\t\\t\\t\\t\\t\\n\\t\\t\\t\\t\\t\\t\\t\\n\\n\\n\\n\\n\\n목감기에 좋은 차\\n\\n\\n2024.02.05.\\n목감기가 오래가네요 ㅠ 목감기에 좋은 차 먹으면 좀 괜찮아질까용?  안녕하세요... 페퍼민트 차를 마시면 목을 진정시키고 감기 증상을 완화시킬 수 있습니다. 카모마일은... \\n\\n\\n\\nQ&A\\n\\t\\t\\t\\t\\t\\t\\t\\t\\n\\t\\t\\t\\t\\t\\t\\t\\t\\t > 성인영양\\n|\\n답변수 1\\n\\t\\t\\t\\t\\t\\t\\t\\n\\t\\t\\t\\t\\t\\t\\t\\xa0추천수 0\\n\\t\\t\\t\\t\\t\\t\\t\\n\\t\\t\\t\\t\\t\\t\\t\\n\\n\\n\\n\\n\\n감기 증상\\n\\n\\n2024.01.08.\\n감기에 걸린것 같은데 기침도 계속 나오고 가끔씩 피도... 그냥 감기인걸까요?  안녕하세요! 닥톡-네이버지식in... 기침+출혈흔적/후각둔화,복통,설사 등의 증상으로 감기인지... \\n\\n\\n\\nQ&A\\n\\t\\t\\t\\t\\t\\t\\t\\t\\n\\t\\t\\t\\t\\t\\t\\t\\t\\t > 한방 안과, 이비인후과\\n|\\n답변수 1\\n\\t\\t\\t\\t\\t\\t\\t\\n\\t\\t\\t\\t\\t\\t\\t\\xa0추천수 0\\n\\t\\t\\t\\t\\t\\t\\t\\n\\t\\t\\t\\t\\t\\t\\t\\n\\n\\n\\n\\n\\n감기 병원\\n\\n\\n2024.01.10.\\n감기 걸렸을 때 내과 가도 되나여?  안녕하세요. 인터엠디(InterMD) x... 주세요.)}] 감기의 여러 가지 증상으로 인해 많이 불편하시겠습니다. 말씀하신 대로 감기 진료를 위해 내과... \\n\\n\\n\\nQ&A\\n\\t\\t\\t\\t\\t\\t\\t\\t\\n\\t\\t\\t\\t\\t\\t\\t\\t\\t > 호흡기내과\\n|\\n답변수 1\\n\\t\\t\\t\\t\\t\\t\\t\\n\\t\\t\\t\\t\\t\\t\\t\\xa0추천수 0\\n\\t\\t\\t\\t\\t\\t\\t\\n\\t\\t\\t\\t\\t\\t\\t\\n\\n\\n\\n\\n\\n임신초기 감기몸살????\\n\\n2024.01.14.\\n... 5일전인데 감기몸살이 와서 임신초기증상인가 해서요..(미열,오한,기침,콧물,인후통... 자세히 답변해주시면 내공드림 또 임신초기 감기몸살은 그냥 감기몸살과 같나요? 1.... \\n\\n#생리\\n#임테기\\n#임신초기\\n\\n\\nQ&A\\n\\t\\t\\t\\t\\t\\t\\t\\t\\n\\t\\t\\t\\t\\t\\t\\t\\t\\t > 임신\\n|\\n답변수 1\\n\\t\\t\\t\\t\\t\\t\\t\\n\\t\\t\\t\\t\\t\\t\\t\\xa0추천수 2\\n\\t\\t\\t\\t\\t\\t\\t\\n\\t\\t\\t\\t\\t\\t\\t\\t|\\n\\t\\t\\t\\t\\t\\t\\t\\t\\n\\t\\t\\t\\t\\t\\t\\t\\t\\n\\t\\t\\t\\t\\t\\t\\t\\t\\t답변 \\n\\t\\t\\t\\t\\t\\t\\t\\t\\n\\t\\t\\t\\t\\t\\t\\t\\t\\n\\t\\t\\t\\t\\t\\t\\t\\t\\t\\n\\t\\t\\t\\t\\t\\t\\t\\t\\t\\n\\t\\t\\t\\t\\t\\t\\t\\t\\t\\n\\t\\t\\t\\t\\t\\t\\t\\t\\t\\n\\t\\t\\t\\t\\t\\t\\t\\t\\t\\n\\t\\t\\t\\t\\t\\t\\t\\t\\t\\n\\t\\t\\t\\t\\t\\t\\t\\t\\t\\t\\n\\t\\t\\t\\t\\t\\t\\t\\t\\t\\n\\t\\t\\t\\t\\t\\t\\t\\t\\n\\t\\t\\t\\t\\t\\t\\t\\t\\n\\t\\t\\t\\t\\t\\t\\t\\t\\t필재선생(ytnh****)\\n\\t\\t\\t\\t\\t\\t\\t\\t\\n\\t\\t\\t\\t\\t\\t\\t\\t\\n\\t\\t\\t\\t\\t\\t\\t\\n\\t\\t\\t\\t\\t\\t\\t\\n\\n\\n\\n\\n\\n감기 오래걸렸다가 나으면\\n\\n\\n2024.01.13.\\n감기 오래 걸려서 기침을 거의 한달가까이 하면 다 나아도... 저는 1년에 한번씩은 꼭 감기걸리는데 항상 기침이... 감기 후에 축농증 같은 합병증이 생겼거나 일시적으로... \\n\\n\\n\\nQ&A\\n\\t\\t\\t\\t\\t\\t\\t\\t\\n\\t\\t\\t\\t\\t\\t\\t\\t\\t > 호흡기내과\\n|\\n답변수 1\\n\\t\\t\\t\\t\\t\\t\\t\\n\\t\\t\\t\\t\\t\\t\\t\\xa0추천수 0\\n\\t\\t\\t\\t\\t\\t\\t\\n\\t\\t\\t\\t\\t\\t\\t\\n\\n\\n\\n\\n\\n감기 주사 실비 청구\\n\\n2024.01.03.\\n12월 31일에 감기주사 맞았습니다. 실비 청구 할 수 있다... 많이 추운데 감기 조심하시고 건강하세요. 실비보험은... 감기도 청구는 할 수 있는 질병은 맞으나... 의원의 최소... \\n\\n\\n\\nQ&A\\n\\t\\t\\t\\t\\t\\t\\t\\t\\n\\t\\t\\t\\t\\t\\t\\t\\t\\t > 의료기관, 의료인\\n|\\n답변수 4\\n\\t\\t\\t\\t\\t\\t\\t\\n\\t\\t\\t\\t\\t\\t\\t\\xa0추천수 0\\n\\t\\t\\t\\t\\t\\t\\t\\n\\t\\t\\t\\t\\t\\t\\t\\t|\\n\\t\\t\\t\\t\\t\\t\\t\\t\\n\\t\\t\\t\\t\\t\\t\\t\\t\\n\\t\\t\\t\\t\\t\\t\\t\\t\\t답변 \\n\\t\\t\\t\\t\\t\\t\\t\\t\\n\\t\\t\\t\\t\\t\\t\\t\\t\\n\\t\\t\\t\\t\\t\\t\\t\\t\\n\\t\\t\\t\\t\\t\\t\\t\\t\\t설계사 최팀장(witg****)\\n\\t\\t\\t\\t\\t\\t\\t\\t\\n\\t\\t\\t\\t\\t\\t\\t\\t\\n\\t\\t\\t\\t\\t\\t\\t\\n\\t\\t\\t\\t\\t\\t\\t\\n\\n\\n\\n\\n1\\n2\\n3\\n4\\n5\\n6\\n7\\n8\\n9\\n10\\n다음페이지\\n\\n\\n\\n\\n'감기' 에 대한 궁금증을 해결하지 못하셨다면 직접 질문해보세요!\\n\\t\\t\\t\\t내 궁금증에 맞는 더 정확한 답변을 받을 수 있습니다.\\n\\t\\t\\t\\n\\n\\n\\n\\n\\n\\n\\n\\n\\n\\n\\n연관검색어\\n\\n\\n\\n감기 빨리 낫는법\\n감기 병원\\n감기 증상\\n요즘 감기\\n영화 감기\\n감기 유행\\n감기 영어로\\n감기 바이러스\\n감기 열\\n감기 독감\\n코로나 감기\\n감기 노래\\n감기 영어\\n유행하는 감기\\n최근 감기\\n최근 감기 증상\\n목감기\\n감기몸살\\n기침감기\\n콧물감기\\n\\n\\n연관검색어 도움말연관검색어 더보기 열기\\n\\n\\n\\n관련 디렉토리\\n\\n\\n\\n\\n소아청소년과\\n\\nQ&A>건강>건강상담>소아청소년과\\n\\n\\n\\n이비인후과\\n\\nQ&A>건강>건강상담>이비인후과\\n\\n\\n\\n내과\\n\\nQ&A>건강>건강상담>내과\\n\\n\\n\\n호흡기내과\\n\\nQ&A>건강>건강상담>내과>호흡기내과\\n\\n\\n\\n\\n\\n\\n\\n\\n아하!그렇구나\\n\\n\\n\\n아시안컵에 왜 호주가..?\\n단어 부양 뜻\\n스포츠에서 코치와 감독의...\\n명태는 종류가 많은데요\\nmbti f t 차이\\n\\n\\n더보기\\n\\n\\n\\n\\n\\n\\n\\n\\n\\n하위영역\\n\\n네이버 이용약관\\n|\\n지식iN 서비스 운영정책\\n|\\n개인정보처리방침\\n|\\n게시중단요청서비스\\n|\\n지식iN 고객센터\\n\\nNAVERCopyright © NAVER Corp. All Rights Reserved.\""
      ]
     },
     "execution_count": 56,
     "metadata": {},
     "output_type": "execute_result"
    }
   ],
   "source": [
    "data = bs.find(\"div\", class_=\"\")"
   ]
  },
  {
   "cell_type": "code",
   "execution_count": 6,
   "metadata": {},
   "outputs": [
    {
     "name": "stderr",
     "output_type": "stream",
     "text": [
      "100%|██████████| 5/5 [00:11<00:00,  2.35s/it]"
     ]
    },
    {
     "name": "stdout",
     "output_type": "stream",
     "text": [
      "['view/C0000715405', 'view/C0000715488', 'view/C0000715494', 'view/C0000715499', 'view/C0000715522', 'view/C0000715535', 'view/C0000715543', 'view/C0000715347', 'view/C0000715405', 'view/C0000715344', 'view/C0000715347', 'view/C0000715167', 'view/C0000714328', 'view/C0000715030', 'view/C0000714862', 'view/C0000715030', 'view/C0000714931', 'view/C0000714754', 'view/C0000714553', 'view/C0000714754', 'view/C0000714769', 'view/C0000714691', 'view/C0000714622', 'view/C0000714754', 'view/C0000714691', 'view/C0000714704', 'view/C0000714714', 'view/C0000714622', 'view/C0000714563', 'view/C0000714343', 'view/C0000714349', 'view/C0000711426', 'view/C0000712538', 'view/C0000713488', 'view/C0000713579']\n"
     ]
    },
    {
     "name": "stderr",
     "output_type": "stream",
     "text": [
      "\n"
     ]
    }
   ],
   "source": [
    "import requests\n",
    "from bs4 import BeautifulSoup\n",
    "import re\n",
    "import random\n",
    "import pandas as pd\n",
    "import time\n",
    "from tqdm import tqdm\n",
    "\n",
    "head = {\n",
    "    'User-Agent': \"Mozilla/5.0 (Macintosh; Intel Mac OS X 10_15_7) AppleWebKit/537.36 (KHTML, like Gecko) Chrome/121.0.0.0 Safari/537.36\"}\n",
    "\n",
    "link_list = []\n",
    "\n",
    "for page_num in tqdm(range(1000, 1005)):  # 페이지를 1부터 6450까지 반복\n",
    "    url = f\"https://mobile.hidoc.co.kr/healthqna/part/list?code=PF000&page={page_num}&title=가정의학과\"\n",
    "    r = requests.get(url, headers=head)\n",
    "    bs = BeautifulSoup(r.text, 'html.parser')  # 'html.parser'를 명시적으로 지정\n",
    "    data = bs.find_all('div', class_='box_type1 qna_main')\n",
    "\n",
    "    pattern = r'href=\"(view[^\"]+)\"'\n",
    "    for tag in data:\n",
    "        tag_str = str(tag)  # 태그 객체를 문자열로 변환\n",
    "        match = re.search(pattern, tag_str)\n",
    "        if match:\n",
    "            link = match.group(1)\n",
    "            link_list.append(link)\n",
    "\n",
    "print(link_list)"
   ]
  },
  {
   "cell_type": "code",
   "execution_count": 9,
   "metadata": {},
   "outputs": [
    {
     "data": {
      "text/plain": [
       "28"
      ]
     },
     "execution_count": 9,
     "metadata": {},
     "output_type": "execute_result"
    }
   ],
   "source": [
    "len(set(link_list))"
   ]
  },
  {
   "cell_type": "code",
   "execution_count": null,
   "metadata": {},
   "outputs": [],
   "source": []
  }
 ],
 "metadata": {
  "kernelspec": {
   "display_name": ".venv",
   "language": "python",
   "name": "python3"
  },
  "language_info": {
   "codemirror_mode": {
    "name": "ipython",
    "version": 3
   },
   "file_extension": ".py",
   "mimetype": "text/x-python",
   "name": "python",
   "nbconvert_exporter": "python",
   "pygments_lexer": "ipython3",
   "version": "3.11.7"
  }
 },
 "nbformat": 4,
 "nbformat_minor": 2
}
