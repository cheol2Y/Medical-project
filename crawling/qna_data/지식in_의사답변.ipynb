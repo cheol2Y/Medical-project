{
 "cells": [
  {
   "cell_type": "code",
   "execution_count": 106,
   "metadata": {},
   "outputs": [
    {
     "name": "stderr",
     "output_type": "stream",
     "text": [
      "/var/folders/xt/nrdqgvqd1jv0kcb4nmwtdsxm0000gn/T/ipykernel_19115/3896297249.py:4: DeprecationWarning: \n",
      "Pyarrow will become a required dependency of pandas in the next major release of pandas (pandas 3.0),\n",
      "(to allow more performant data types, such as the Arrow string type, and better interoperability with other libraries)\n",
      "but was not found to be installed on your system.\n",
      "If this would cause problems for you,\n",
      "please provide us feedback at https://github.com/pandas-dev/pandas/issues/54466\n",
      "        \n",
      "  import pandas as pd\n"
     ]
    }
   ],
   "source": [
    "import requests\n",
    "from bs4 import BeautifulSoup\n",
    "import re\n",
    "\n",
    "import pandas as pd"
   ]
  },
  {
   "cell_type": "code",
   "execution_count": 148,
   "metadata": {},
   "outputs": [
    {
     "data": {
      "text/plain": [
       "0.07405704024536491"
      ]
     },
     "execution_count": 148,
     "metadata": {},
     "output_type": "execute_result"
    }
   ],
   "source": [
    "import random\n",
    "sleep_time = random.uniform(0,0.1)\n",
    "sleep_time"
   ]
  },
  {
   "cell_type": "code",
   "execution_count": 161,
   "metadata": {},
   "outputs": [],
   "source": [
    "head = { 'User-Agent': \n",
    "        \"Mozilla/5.0 (Macintosh; Intel Mac OS X 10_15_7) AppleWebKit/537.36 (KHTML, like Gecko) Chrome/121.0.0.0 Safari/537.36\"}\n",
    "\n",
    "url = 'https://kin.naver.com/qna/detail.naver?d1id=7&dirId=7010101&docId=463839635'"
   ]
  },
  {
   "cell_type": "code",
   "execution_count": 162,
   "metadata": {},
   "outputs": [],
   "source": [
    "r = requests.get(url, headers=head)\n",
    "bs = BeautifulSoup(r.text, 'html.parser')"
   ]
  },
  {
   "cell_type": "code",
   "execution_count": 163,
   "metadata": {},
   "outputs": [
    {
     "data": {
      "text/plain": [
       "\n",
       "<!DOCTYPE html>\n",
       "\n",
       "<html lang=\"ko\">\n",
       "<head>\n",
       "<meta contents=\"always\" name=\"referrer\"/>\n",
       "<meta content=\"width=1024\" name=\"viewport\"/>\n",
       "<meta content=\"text/html; charset=utf-8\" http-equiv=\"Content-Type\"/>\n",
       "<meta content=\"IE=edge\" http-equiv=\"X-UA-Compatible\"/>\n",
       "<meta content=\"none\" name=\"msapplication-config\">\n",
       "<meta content=\"index,nofollow\" name=\"robots\">\n",
       "<meta content=\"아침에 갈색가래(더러움 주의)\" property=\"og:title\">\n",
       "<meta content=\"https://kin.naver.com/qna/detail.nhn?d1id=7&amp;dirId=7010101&amp;docId=463839635\" property=\"og:url\">\n",
       "<meta content=\"https://kin-phinf.pstatic.net/20240207_140/17072807668281SGCB_JPEG/1707280766704.jpg?type=w750\" property=\"og:image\"/>\n",
       "<meta content=\"최근한달동안 소량의 피가래가 계속나오고 있습니다.처음에 감기증상과 진한 녹색 콧물 및 가래와 함께 피가 조금씩 나왔습니다. 대학 병원 폐 ct검사 및 이비인후과에서 코와 목 내시경...\" property=\"og:description\"/>\n",
       "<meta content=\"네이버 지식iN\" property=\"og:article:author\"/>\n",
       "<meta content=\"https://kin.naver.com\" property=\"og:article:author:url\"/>\n",
       "<title>\n",
       "\t\t아침에 갈색가래(더러움 주의) : 지식iN\n",
       "\t</title>\n",
       "<link href=\"/favicon.ico?v=2.4\" rel=\"shortcut icon\" type=\"image/x-icon\"/>\n",
       "<link href=\"https://ssl.pstatic.net/static.kin/static/kin-web-pc/2401311625/css/min/common.css\" rel=\"stylesheet\" type=\"text/css\">\n",
       "<link href=\"https://ssl.pstatic.net/static.kin/static/kin-web-pc/2401311625/css/min/components.css\" rel=\"stylesheet\" type=\"text/css\"/>\n",
       "<link href=\"https://ssl.pstatic.net/static.kin/static/kin-web-pc/2401311625/css/min/end.css\" rel=\"stylesheet\" type=\"text/css\"/>\n",
       "<link href=\"https://ssl.pstatic.net/static.kin/static/kin-web-pc/2401311625/css/min/answer_write.css\" rel=\"stylesheet\" type=\"text/css\"/>\n",
       "<link href=\"https://ssl.pstatic.net/static.kin/static/kin-web-pc/2401311625/css/min/powerlink.css\" rel=\"stylesheet\" type=\"text/css\"/>\n",
       "<script>\n",
       "\t\n",
       "\tvar pcDomain = \"kin.naver.com\";\n",
       "\tvar pcDomainWithProtocol = \"https://kin.naver.com\";\n",
       "\tvar pcKinServiceProtocol = \"https\";\n",
       "\n",
       "\tvar mobileDomain = \"m.kin.naver.com\";\n",
       "\tvar mobileDomainWithProtocol = \"https://m.kin.naver.com\";\n",
       "\tvar mobileKinServiceProtocol = \"https\";\n",
       "\n",
       "\tvar uploadDomain = \"upload.kin.naver.com\";\n",
       "\tvar uploadDomainWithProtocol = \"https://upload.kin.naver.com\";\n",
       "\tvar uploadKinServiceProtocol = \"https\";\n",
       "</script>\n",
       "<script src=\"https://ssl.pstatic.net/static.kin/static/kin-web-pc/2401311625/js/min/naver.kin.pc.base.js\" type=\"text/javascript\"></script>\n",
       "<script type=\"text/javascript\">\n",
       "\t\twindow.naver = window.naver || {};\n",
       "\t\tnaver.isLogin = false;\n",
       "\t\tnaver.isJunior = (\"N\"==\"Y\");\n",
       "\t\tnaver.isKinUser = false;\n",
       "\t\tnaver.isPortableDevice = false;\n",
       "\t\tnaver.jsDir = \"https://ssl.pstatic.net/static.kin/static/kin-web-pc/2401311625/js/min\";\n",
       "\t\tif(!window.console) { window.console = {}; console.log = function() {}; console.warn = function() {}; console.error = function() {}; }\n",
       "\n",
       "\t\tvar g_ssc = (\"kin.endpage\" == \"\") ? \"kin.temp\" : \"kin.endpage\";\n",
       "\t\tvar ccsrv = \"cc.naver.com\";\n",
       "\t\tvar kinRos = {\n",
       "\t\t\tisActionNoticeDisplay : (\"false\" == \"\" || \"false\" == \"false\") ? false : true\n",
       "\t\t\t\n",
       "\t\t};\n",
       "\n",
       "\t\t\n",
       "\n",
       "\t\t\n",
       "\n",
       "\t\t\n",
       "\t\tvar standardReportPopupUrl = \"https://srp2.naver.com/report\";\n",
       "\n",
       "\t\t\n",
       "\t\tvar baUserKey = \"__UNKNOWN__\";\n",
       "\t\tvar baLogEndpoint = \"https://scv-kin.io.naver.com/jackpotlog/v1/logs\";\n",
       "\t\tvar baAdMediaRequestId = \"09243606-8913-40cf-af63-f6a689371959\";\n",
       "\t</script>\n",
       "<link href=\"//editor-static.pstatic.net/v/kinreply.viewer/1.1.11/css/se.viewer.css\" rel=\"stylesheet\" type=\"text/css\"/>\n",
       "<script src=\"https://ssl.pstatic.net/tveta/libs/glad/prod/gfp-core.js\"></script>\n",
       "<script type=\"text/javascript\">\n",
       "\t\twindow.gladsdk = window.gladsdk || {cmd: []};\n",
       "\n",
       "\t\t\n",
       "\t\t\n",
       "\t\t\n",
       "\t\t\n",
       "\n",
       "\t\twindow.gladsdk.cmd.push(function () {\n",
       "\t\t\tvar adSlotInfo = {\n",
       "\t\t\t\tadUnitId: \"PC_KIN_QNA\",\n",
       "\t\t\t\tadSlotElementId: \"pc_da_kin\",\n",
       "\t\t\t\tcustomParam: {\n",
       "\t\t\t\t\t\n",
       "\t\t\t\t}\n",
       "\t\t\t}\n",
       "\t\t\tvar adSlot = window.gladsdk.defineAdSlot(adSlotInfo);\n",
       "\n",
       "\t\t\tif (document.referrer.match(/search.naver.com/)) {\n",
       "\t\t\t\tadSlot.setCustomParam('trackingCode', 'naver_search');\n",
       "\t\t\t}\n",
       "\t\t});\n",
       "\t\t\n",
       "\t\t\n",
       "\n",
       "\t\t\n",
       "\t\t\n",
       "\t\t\n",
       "\t\t\n",
       "\t\t\n",
       "\t\t\n",
       "\t\t\n",
       "\t\t\n",
       "\t\t\n",
       "\t\t\n",
       "\t\t\n",
       "\t\t\n",
       "\t\t\n",
       "\n",
       "\t\twindow.gladsdk.cmd.push(function () {\n",
       "\t\t\tvar adSlotInfo = {\n",
       "\t\t\t\tadUnitId: \"pc_kin_bottom\",\n",
       "\t\t\t\tadSlotElementId: \"powerlink_kin\",\n",
       "\t\t\t\tyob: \"1988\",\n",
       "\t\t\t\tgender: \"O\",\n",
       "\t\t\t\tuct: 'KR',\n",
       "\t\t\t\tcustomParam: {\n",
       "\t\t\t\t\tdirId: 7010101,\n",
       "\t\t\t\t\tdocId: 463839635,\n",
       "\t\t\t\t\t\n",
       "\t\t\t\t\tsessionId: \"\",\n",
       "\t\t\t\t\tstyleDefault: \"#222222\",\n",
       "\t\t\t\t\tstyleHighlight: \"#3867E8\"\n",
       "\t\t\t\t}\n",
       "\t\t\t}\n",
       "\t\t\tvar adSlot = window.gladsdk.defineAdSlot(adSlotInfo);\n",
       "\n",
       "\t\t\tif (document.referrer.match(/search.naver.com/)) {\n",
       "\t\t\t\tadSlot.setCustomParam('trackingCode', 'naver_search');\n",
       "\t\t\t}\n",
       "\t\t});\n",
       "\n",
       "\t\t\n",
       "\t\t\n",
       "\n",
       "\t\t\n",
       "\t\t\n",
       "\t\twindow.gladsdk.cmd.push(function () {\n",
       "\t\t\tvar adSlotInfo = {\n",
       "\t\t\t\tadUnitId: \"pc_kin_end_flt\",\n",
       "\t\t\t\tadSlotElementId: \"floatingda_home\",\n",
       "\t\t\t}\n",
       "\t\t\twindow.gladsdk.defineAdSlot(adSlotInfo);\n",
       "\t\t});\n",
       "\t\t\n",
       "\t\t\n",
       "\n",
       "\t\t\n",
       "\t\twindow.gladsdk.cmd.push(function () {\n",
       "\n",
       "\t\t\t// 유효노출\n",
       "\t\t\twindow.gladsdk.addEventListener(window.gladsdk.event.AD_IMPRESSED, function (ad) {\n",
       "\t\t\t\tvar oBaExtra = {\n",
       "\t\t\t\t\tdir_id: 7010101,\n",
       "\t\t\t\t\tdoc_id: 463839635,\n",
       "\t\t\t\t\tanswer_cnt: 1,\n",
       "\t\t\t\t\tad_provider: ad.slot.getAdProviderName(),\n",
       "\t\t\t\t\tmedia_request_id: baAdMediaRequestId\n",
       "\t\t\t\t};\n",
       "\t\t\t\t\n",
       "\t\t\t\tif (document.referrer) {\n",
       "\t\t\t\t\toBaExtra.referer = document.referrer;\n",
       "\t\t\t\t\tif (document.referrer.match(/search.naver.com/)) {\n",
       "\t\t\t\t\t\toBaExtra.tracking_code = 'naver_search';\n",
       "\t\t\t\t\t}\n",
       "\t\t\t\t}\n",
       "\n",
       "\t\t\t\tvar sAdUnitId = ad.slot.getAdUnitId();\n",
       "\t\t\t\tif (sAdUnitId === \"PC_KIN_QNA\") {\n",
       "\t\t\t\t\tsendBaLog(BaPcEventType.QNA_DETAIL_5298, oBaExtra);\n",
       "\t\t\t\t} else if (sAdUnitId === \"pc_kin_bottom\") {\n",
       "\t\t\t\t\tsendBaLog(BaPcEventType.QNA_DETAIL_5295, oBaExtra);\n",
       "\t\t\t\t}\n",
       "\t\t\t});\n",
       "\n",
       "\t\t\t// 클릭\n",
       "\t\t\twindow.gladsdk.addEventListener(window.gladsdk.event.AD_CLICKED, function (ad) {\n",
       "\t\t\t\tvar oBaExtra = {\n",
       "\t\t\t\t\tdir_id: 7010101,\n",
       "\t\t\t\t\tdoc_id: 463839635,\n",
       "\t\t\t\t\tanswer_cnt: 1,\n",
       "\t\t\t\t\tad_provider: ad.slot.getAdProviderName(),\n",
       "\t\t\t\t\tmedia_request_id: baAdMediaRequestId\n",
       "\t\t\t\t};\n",
       "\t\t\t\t\n",
       "\t\t\t\tif (document.referrer) {\n",
       "\t\t\t\t\toBaExtra.referer = document.referrer;\n",
       "\t\t\t\t\tif (document.referrer.match(/search.naver.com/)) {\n",
       "\t\t\t\t\t\toBaExtra.tracking_code = 'naver_search';\n",
       "\t\t\t\t\t}\n",
       "\t\t\t\t}\n",
       "\n",
       "\t\t\t\tvar sAdUnitId = ad.slot.getAdUnitId();\n",
       "\t\t\t\tif (sAdUnitId === \"PC_KIN_QNA\") {\n",
       "\t\t\t\t\tsendBaLog(BaPcEventType.QNA_DETAIL_5299, oBaExtra);\n",
       "\t\t\t\t} else if (sAdUnitId === \"pc_kin_bottom\") {\n",
       "\t\t\t\t\tsendBaLog(BaPcEventType.QNA_DETAIL_5296, oBaExtra);\n",
       "\t\t\t\t}\n",
       "\t\t\t});\n",
       "\t\t});\n",
       "\t\t\n",
       "\t</script>\n",
       "</link></meta></meta></meta></meta></head>\n",
       "<body class=\"__se-scroll-target\">\n",
       "<div id=\"loadingIndicator\" style=\"display:none;width:100%;height:100%;position:fixed;top:0px;left:0px;background-color:transparent;z-index:10000;\">\n",
       "<img alt=\"데이터 요청 응답 대기중\" height=\"21\" src=\"https://ssl.pstatic.net/static/kin/m/ico_lod2.gif\" style=\"position:absolute;top:49%;left:49%;\" width=\"21\"/>\n",
       "</div>\n",
       "<div class=\"wrap wrap_end\" id=\"wrap\">\n",
       "<div class=\"skip_nav header_gnb_inner\">\n",
       "<a class=\"skip\" href=\"#gnb\" onclick=\"naver.kin.pc.common.skipNavigation('au_lnb_home');return false;\">메인 메뉴 바로가기</a>\n",
       "<a class=\"skip\" href=\"#content\" onclick=\"naver.kin.pc.common.skipNavigation('content');return false;\">본문 바로가기</a>\n",
       "</div>\n",
       "<div class=\"header_wrap\">\n",
       "<div aria-labelledby=\"ieUpdateBannerTitle\" class=\"popup popup--header_notice\" id=\"ieUpdateBanner\" role=\"dialog\" style=\"display: none;\">\n",
       "<h1 class=\"blind\" id=\"ieUpdateBannerTitle\" tabindex=\"0\">권장 브라우저 업데이트 안내</h1>\n",
       "<div class=\"popup__content\">\n",
       "<div class=\"popup__title\">\n",
       "<p class=\"popup__title_text\"><span class=\"ico_alert sp_common\"></span>권장 브라우저 안내</p>\n",
       "</div>\n",
       "<div class=\"popup__maintext\">\n",
       "<p class=\"popup__text\">혹시 아직 인터넷 익스플로러 9.0 미만 버전을 사용하고 계신가요?</p>\n",
       "<p class=\"popup__subtext\">새롭게 바뀐 지식iN Q&amp;A 페이지는 IE 9.0 이상의 브라우저에 최적화되어 있습니다. 원활한 이용을 위해 꼭 업데이트 해주세요! <a class=\"popup__link\" href=\"https://support.microsoft.com/ko-kr/help/17621/internet-explorer-downloads\" target=\"_blank\">업데이트하기 <span class=\"sp_common ico_arr_lnk\"></span></a></p>\n",
       "</div>\n",
       "</div>\n",
       "</div>\n",
       "<div aria-labelledby=\"ieUpdateBannerTitle\" class=\"popup popup--header_notice\" id=\"ieUpdateBannerIE9\" role=\"dialog\" style=\"display: none;\">\n",
       "<h1 class=\"blind\" id=\"ieUpdateBannerIE9Title\" tabindex=\"0\">권장 브라우저 업데이트 안내</h1>\n",
       "<div class=\"popup__content\">\n",
       "<div class=\"popup__title\">\n",
       "<p class=\"popup__title_text\"><span class=\"ico_alert sp_common\"></span>권장 브라우저 안내</p>\n",
       "</div>\n",
       "<div class=\"popup__maintext\">\n",
       "<p class=\"popup__text\">새로운 에디터는 일부 하위버전 브라우저에서 사용이 어려울 수 있습니다.</p>\n",
       "<p class=\"popup__subtext\">원활한 사용을 위해 IE 10 이상, 혹은 Chrome 이나 Whale 최신버전을 사용해주세요. .\n",
       "\t\t\t\t<a class=\"popup__link\" href=\"https://www.google.com/intl/ko_ALL/chrome/\" target=\"_blank\">Chrome 다운로드 <span class=\"sp_common ico_arr_lnk\"></span></a>..\n",
       "\t\t\t\t<a class=\"popup__link\" href=\"https://whale.naver.com/ko/\" target=\"_blank\">Whale 다운로드 <span class=\"sp_common ico_arr_lnk\"></span></a>..\n",
       "\t\t\t\t<a class=\"popup__link\" href=\"https://support.microsoft.com/ko-kr/help/17621/internet-explorer-downloads\" target=\"_blank\">IE 업데이트 <span class=\"sp_common ico_arr_lnk\"></span></a>..\n",
       "\t\t\t</p>\n",
       "</div>\n",
       "</div>\n",
       "</div>\n",
       "<script type=\"text/javascript\">\n",
       "\t\n",
       "\t\n",
       "\tvar userAgent = navigator.userAgent;\n",
       "\tvar isIe = (userAgent.indexOf(\"MSIE\") > -1) || (userAgent.indexOf(\"Trident\") > -1);\n",
       "\n",
       "\tif (isIe) {\n",
       "\t\tvar version = -1;\n",
       "\n",
       "\t\tvar versionIndex;\n",
       "\t\tvar versionTokenIndex;\n",
       "\t\t\n",
       "\t\tvar versionRegexResult = (new RegExp(\"(MSIE|rv)\", \"i\")).exec(userAgent);\n",
       "\n",
       "\t\tversionTokenIndex = versionRegexResult.index;\n",
       "\t\tversionToken = versionRegexResult[0];\n",
       "\t\tif (versionTokenIndex > -1) {\n",
       "\t\t\tversionIndex = versionTokenIndex + versionToken.length + 1;\n",
       "\t\t\tversion = userAgent.substring(versionIndex)\n",
       "\t\t\t\t\t.split(\" \")[0]\n",
       "\t\t\t\t\t.replace(/_/g, \".\")\n",
       "\t\t\t\t\t.replace(/\\;|\\)/g, \"\");\n",
       "\t\t}\n",
       "\n",
       "\t\tversion = parseInt(version, 10);\n",
       "\n",
       "\t\tif (version > 6 && version < 9) {\n",
       "\t\t\tdocument.getElementById(\"ieUpdateBannerArea\").style.display = \"block\";\n",
       "\t\t}\n",
       "\t}\n",
       "</script>\n",
       "<div class=\"header_gnb\">\n",
       "<div class=\"header_gnb_inner\">\n",
       "<div class=\"header_gnb__cell\">\n",
       "<h1 class=\"header_logo\">\n",
       "<a class=\"logo_naver\" href=\"http://www.naver.com\" onclick=\"naver.kin.pc.common.nClicks('STA.naverlogo', '', '', event);\" title=\"나의 경쟁력, 네이버\"><span class=\"sp_gnb icon_logo_naver\">NAVER</span></a>\n",
       "</h1>\n",
       "<div class=\"header_search\">\n",
       "<h2 class=\"logo_wrap\">\n",
       "<a class=\"sp_gnb icon_logo_kin\" href=\"/\" onclick=\"naver.kin.pc.common.nClicks('STA.kin', '', '', event);\">지식iN</a>\n",
       "</h2>\n",
       "<h3 class=\"blind\">검색영역</h3>\n",
       "<form action=\"/search/list.naver\" id=\"topSearch\" method=\"get\" name=\"topSearch\" onsubmit=\"return checkQuery();\">\n",
       "<fieldset>\n",
       "<legend>지식인 검색</legend>\n",
       "<div class=\"search_area\">\n",
       "<input accesskey=\"s\" aria-autocomplete=\"list\" aria-controls=\"atcmpList\" aria-expanded=\"false\" aria-haspopup=\"listbox\" autocomplete=\"off\" class=\"search_input _searchInput\" id=\"nx_query\" maxlength=\"255\" name=\"query\" onclick=\"naver.kin.pc.common.nClicks('STA.search', '', '', event);\" role=\"combobox\" title=\"검색어 입력\" type=\"text\" value=\"\"/>\n",
       "<a class=\"search_auto _searchBoxStartBtn\" href=\"#\">\n",
       "<span class=\"sp_gnb icon_arrow\" id=\"triangleBtn\">자동완성 열기</span>\n",
       "</a>\n",
       "<div class=\"auto_complete_box on _autoCompleteArea\"></div>\n",
       "<a class=\"search_btn\" href=\"#\" onclick=\"return checkQuery();\"><span class=\"sp_gnb icon_search\">지식iN 검색</span></a>\n",
       "</div>\n",
       "</fieldset>\n",
       "</form>\n",
       "</div>\n",
       "</div>\n",
       "<div class=\"header_gnb__cell\">\n",
       "<div class=\"gnb_wrap\">\n",
       "<div class=\"gnb_eXpertLogo\">\n",
       "<a aria-controls=\"bannerExpert\" aria-expanded=\"true\" aria-haspopup=\"true\" class=\"link\" href=\"https://expert.naver.com\" id=\"bannerLink\">\n",
       "<span class=\"logo\"><span class=\"blind\">eXpert</span></span>\n",
       "</a>\n",
       "</div>\n",
       "<div class=\"gnb_common_area\">\n",
       "<div id=\"gnb\">\n",
       "<script type=\"text/javascript\">\n",
       "\t\t\t\t\t\t\t\t\n",
       "\t\t\t\t\t\t\t\tvar gnb_service = \"kin\";\n",
       "\t\t\t\t\t\t\t\t\n",
       "\t\t\t\t\t\t\t\tvar gnb_logout = encodeURIComponent(\"https://nid.naver.com/nidlogin.logout\");\n",
       "\t\t\t\t\t\t\t\t\n",
       "\t\t\t\t\t\t\t\tvar gnb_login = encodeURIComponent(location.href || 'https://kin.naver.com');\n",
       "\t\t\t\t\t\t\t\t\n",
       "\t\t\t\t\t\t\t\tvar gnb_template = \"gnb_utf8\";\n",
       "\t\t\t\t\t\t\t\t\n",
       "\t\t\t\t\t\t\t\tvar gnb_item_hide_option = 0;\n",
       "\t\t\t\t\t\t\t\t\n",
       "\t\t\t\t\t\t\t\t\n",
       "\t\t\t\t\t\t\t\t\n",
       "\t\t\t\t\t\t\t\t\n",
       "\t\t\t\t\t\t\t</script>\n",
       "<script charset=\"utf-8\" src=\"https://ssl.pstatic.net/static.gn/templates/gnb_utf8.nhn?2024020717\" type=\"text/javascript\"></script>\n",
       "</div>\n",
       "</div>\n",
       "</div>\n",
       "<div class=\"header__rolling rolling-notice\">\n",
       "<i class=\"icon_speaker\"><span class=\"blind\">실시간 공지사항</span></i>\n",
       "<ul class=\"rolling-notice__list _rolling_banner\" id=\"listNotice\">\n",
       "<li class=\"rolling-notice__item _rollingItem\" data-start-time=\"2023-07-03 00:00:00\" style=\"display:none;\">\n",
       "<a class=\"rolling-notice__link\" href=\"https://m.expert.naver.com/mobile/expert/account/join/hub\" onclick=\"naver.kin.pc.common.nClicks('STA.event', '', '', event);\">\n",
       "<i class=\"icon_new_red _newMark\" style=\"display:none;\"><span class=\"blind\">새소식</span></i>\n",
       "<span class=\"text-color--secondary\">지식iN은 누구나 엑스퍼트</span><br/>\n",
       "</a>\n",
       "</li>\n",
       "</ul>\n",
       "</div>\n",
       "</div>\n",
       "</div>\n",
       "</div>\n",
       "<!-- nav -->\n",
       "<div class=\"nav\">\n",
       "<div class=\"nav_inner\">\n",
       "<h3 class=\"blind\">메인 메뉴</h3>\n",
       "<ul class=\"nav_list\" id=\"au_lnb\" role=\"menubar\">\n",
       "<li class=\"menu\" role=\"presentation\">\n",
       "<a class=\"item\" href=\"/index.naver\" id=\"au_lnb_home\" onclick=\"naver.kin.pc.common.nClicks('LNB.home', '', '', event);\" role=\"menuitem\"><em>홈</em></a>\n",
       "</li>\n",
       "<li class=\"menu\" role=\"presentation\">\n",
       "<a aria-expanded=\"false\" aria-haspopup=\"true\" class=\"item\" href=\"/qna/list.naver\" onclick=\"naver.kin.pc.common.nClicks('LNB.qna', '', '', event);\" role=\"menuitem\" tabindex=\"-1\"><em>Q&amp;A</em></a>\n",
       "<ul class=\"nav_sub_list _lnbSubMenu\" role=\"menu\">\n",
       "<li class=\"sub_menu\" role=\"presentation\"><a class=\"item\" href=\"/qna/list.naver?dirId=11\" onclick=\"naver.kin.pc.common.nClicks('LNB.kinlayer', '11', '1', event);\" role=\"menuitem\" tabindex=\"-1\">교육, 학문</a></li>\n",
       "<li class=\"sub_menu\" role=\"presentation\"><a class=\"item\" href=\"/qna/list.naver?dirId=1\" onclick=\"naver.kin.pc.common.nClicks('LNB.kinlayer', '1', '2', event);\" role=\"menuitem\" tabindex=\"-1\">컴퓨터통신</a></li>\n",
       "<li class=\"sub_menu\" role=\"presentation\"><a class=\"item\" href=\"/qna/list.naver?dirId=2\" onclick=\"naver.kin.pc.common.nClicks('LNB.kinlayer', '2', '3', event);\" role=\"menuitem\" tabindex=\"-1\">게임</a></li>\n",
       "<li class=\"sub_menu\" role=\"presentation\"><a class=\"item\" href=\"/qna/list.naver?dirId=3\" onclick=\"naver.kin.pc.common.nClicks('LNB.kinlayer', '3', '4', event);\" role=\"menuitem\" tabindex=\"-1\">엔터테인먼트, 예술</a></li>\n",
       "<li class=\"sub_menu\" role=\"presentation\"><a class=\"item\" href=\"/qna/list.naver?dirId=8\" onclick=\"naver.kin.pc.common.nClicks('LNB.kinlayer', '8', '5', event);\" role=\"menuitem\" tabindex=\"-1\">생활</a></li>\n",
       "<li class=\"sub_menu\" role=\"presentation\"><a class=\"item\" href=\"/qna/list.naver?dirId=7\" onclick=\"naver.kin.pc.common.nClicks('LNB.kinlayer', '7', '6', event);\" role=\"menuitem\" tabindex=\"-1\">건강</a></li>\n",
       "<li class=\"sub_menu\" role=\"presentation\"><a class=\"item\" href=\"/qna/list.naver?dirId=6\" onclick=\"naver.kin.pc.common.nClicks('LNB.kinlayer', '6', '7', event);\" role=\"menuitem\" tabindex=\"-1\">사회, 정치</a></li>\n",
       "<li class=\"sub_menu\" role=\"presentation\"><a class=\"item\" href=\"/qna/list.naver?dirId=4\" onclick=\"naver.kin.pc.common.nClicks('LNB.kinlayer', '4', '8', event);\" role=\"menuitem\" tabindex=\"-1\">경제</a></li>\n",
       "<li class=\"sub_menu\" role=\"presentation\"><a class=\"item\" href=\"/qna/list.naver?dirId=9\" onclick=\"naver.kin.pc.common.nClicks('LNB.kinlayer', '9', '9', event);\" role=\"menuitem\" tabindex=\"-1\">여행</a></li>\n",
       "<li class=\"sub_menu\" role=\"presentation\"><a class=\"item\" href=\"/qna/list.naver?dirId=10\" onclick=\"naver.kin.pc.common.nClicks('LNB.kinlayer', '10', '10', event);\" role=\"menuitem\" tabindex=\"-1\">스포츠, 레저</a></li>\n",
       "<li class=\"sub_menu\" role=\"presentation\"><a class=\"item\" href=\"/qna/list.naver?dirId=5\" onclick=\"naver.kin.pc.common.nClicks('LNB.kinlayer', '5', '11', event);\" role=\"menuitem\" tabindex=\"-1\">쇼핑</a></li>\n",
       "<li class=\"sub_menu\" role=\"presentation\"><a class=\"item\" href=\"/qna/list.naver?dirId=13\" onclick=\"naver.kin.pc.common.nClicks('LNB.jun', '', '', event);\" role=\"menuitem\" tabindex=\"-1\">쥬니버Q&amp;A</a></li>\n",
       "<li class=\"sub_menu\" role=\"presentation\"><a class=\"item\" href=\"/qna/list.naver?dirId=12\" onclick=\"naver.kin.pc.common.nClicks('LNB.loc', '', '', event);\" role=\"menuitem\" tabindex=\"-1\">지역&amp;플레이스</a></li>\n",
       "<li class=\"sub_menu\" role=\"presentation\"><a class=\"item\" href=\"/qna/list.naver?dirId=20\" onclick=\"naver.kin.pc.common.nClicks('LNB.talk', '', '', event);\" role=\"menuitem\" tabindex=\"-1\">고민Q&amp;A</a></li>\n",
       "<li class=\"sub_menu\" role=\"presentation\"><a class=\"item\" href=\"/opendic/index.naver\" onclick=\"naver.kin.pc.common.nClicks('LNB.open', '', '', event);\" role=\"menuitem\" tabindex=\"-1\">오픈사전</a></li>\n",
       "</ul>\n",
       "</li>\n",
       "<li class=\"menu\" role=\"presentation\">\n",
       "<a class=\"item\" href=\"/qna/questionList.naver\" onclick=\"naver.kin.pc.common.nClicks('LNB.answer', '', '', event);\" role=\"menuitem\" tabindex=\"-1\"><em>답변하기</em></a>\n",
       "</li>\n",
       "<li class=\"menu\" role=\"presentation\">\n",
       "<a class=\"item\" href=\"/volunteer/index.naver\" onclick=\"naver.kin.pc.common.nClicks('LNB.donation', '', '', event);\" role=\"menuitem\" tabindex=\"-1\"><em>지식기부</em></a>\n",
       "</li>\n",
       "<li class=\"menu\" role=\"presentation\">\n",
       "<a class=\"item\" href=\"/people/elite/index.naver?from=lnb\" id=\"peopleLnbBtn\" onclick=\"naver.kin.pc.common.nClicks('LNB.people', '', '', event);\" role=\"menuitem\" tabindex=\"-1\"><em>사람들</em></a>\n",
       "</li>\n",
       "<li class=\"menu\" role=\"presentation\">\n",
       "<a class=\"item\" href=\"/best/listaha.naver\" onclick=\"naver.kin.pc.common.nClicks('LNB.best', '', '', event);\" role=\"menuitem\" tabindex=\"-1\"><em>베스트</em></a>\n",
       "</li>\n",
       "<li class=\"menu\" role=\"presentation\">\n",
       "<a class=\"item\" href=\"/hall/index.naver\" onclick=\"naver.kin.pc.common.nClicks('LNB.honor', '', '', event);\" role=\"menuitem\" tabindex=\"-1\"><em>명예의전당</em></a>\n",
       "</li>\n",
       "<li class=\"menu\" role=\"presentation\">\n",
       "<span class=\"lnb_bar\">|</span>\n",
       "<a class=\"item\" href=\"/myinfo/index.naver\" onclick=\"naver.kin.pc.common.nClicks('LNB.profile', '', '', event);\" role=\"menuitem\" tabindex=\"-1\"><em>프로필</em></a>\n",
       "</li>\n",
       "<li class=\"menu\" role=\"presentation\">\n",
       "<a class=\"item\" href=\"/partnercenter/index.naver\" onclick=\"naver.kin.pc.common.nClicks('LNB.partner', '', '', event);\" role=\"menuitem\" tabindex=\"-1\"><em>파트너센터</em></a>\n",
       "</li>\n",
       "<li class=\"menu\" role=\"presentation\">\n",
       "<a class=\"item\" href=\"/roulette/home.naver\" onclick=\"naver.kin.pc.common.nClicks('LNB.roulette', '', '', event);\" role=\"menuitem\" tabindex=\"-1\"><em>룰렛</em></a>\n",
       "</li>\n",
       "</ul>\n",
       "<a class=\"nav__button_question\" href=\"#\" onclick=\"naver.kin.pc.common.nClicks('LNB.q', '', '', event);naver.kin.pc.common.checkRosAndGoUrl('/qna/question.naver', '');return false;\" role=\"button\"><span class=\"btn_inner\"><i class=\"sp_gnb icon_pencil\"></i>질문하기</span></a>\n",
       "</div>\n",
       "</div>\n",
       "</div>\n",
       "<script id=\"autoCompleteListTpl\" type=\"text/x-dot-template\">\n",
       "\t<div class=\"auto_search\" id=\"atcmp\">\n",
       "\t\t<h4 class=\"blind\">입력어에 대한 자동완성 검색어</h4>\n",
       "\t\t<div class=\"words\">\n",
       "\t\t\t<ul class=\"_resultBox\" role=\"listbox\" id=\"atcmpList\">\n",
       "\t\t\t\t{{~ it.result : item}}\n",
       "\t\t\t\t<li class=\"{{=item}}\" role=\"option\" tabindex=\"-1\"><a href=\"#\" onclick=\"return false;\">{{=item}}</a><span style=\"display:none\">{{=item}}</span></li>\n",
       "\t\t\t\t{{~}}\n",
       "\t\t\t</ul>\n",
       "\t\t</div>\n",
       "\t\t<p class=\"func\"><span><a href=\"https://help.naver.com/alias/kin/contentskin108.naver\"\n",
       "\t\t\t\t\t\t\t\t target=\"_blank\">도움말</a> | <a\n",
       "\t\t\t\tclass=\"funoff _searchBoxEndBtn\" href=\"#\" onclick=\"return false;\">기능끄기</a></span></p>\n",
       "\t\t<img src=\"https://ssl.pstatic.net/static/common/snb/090513/txt_functionoff.gif\" alt=\"기능을 다시 켤 때는 검색어 입력창 우측 버튼을 클릭하세요.\" width=\"207\"\n",
       "\t\t\t height=\"23\" class=\"help _searchBoxEndBtnHelp\" id=\"help_tooltip1\" style=\"display:none;\"/>\n",
       "\t</div>\n",
       "</script>\n",
       "<script id=\"autoCompleteListEmptyTpl\" type=\"text/x-dot-template\">\n",
       "\t<div class=\"auto_search\" id=\"atcmpIng\">\n",
       "\t\t<h4 class=\"blind\">입력어에 대한 자동완성 검색어</h4>\n",
       "\t\t<div class=\"words\">\n",
       "\t\t\t<p class=\"msg\">현재 자동완성 기능을 사용하고<br>계십니다.</p>\n",
       "\t\t</div>\n",
       "\t\t<p class=\"func\"><span><a href=\"https://help.naver.com/alias/kin/contentskin108.naver\" target=\"_blank\"\n",
       "\t\t\t\t\t\t\t\t class=\"_searchBoxEndBtn\">도움말</a> | <a\n",
       "\t\t\t\tclass=\"funoff _searchBoxEndBtn\" href=\"#\" onclick=\"return false;\">기능끄기</a></span></p>\n",
       "\t\t<img src=\"https://ssl.pstatic.net/static/common/snb/090513/txt_functionoff.gif\" alt=\"기능을 다시 켤 때는 검색어 입력창 우측 버튼을 클릭하세요.\" width=\"207\"\n",
       "\t\t\t height=\"23\" class=\"help _searchBoxEndBtnHelp\" id=\"help_tooltip2\" style=\"display:none;\">\n",
       "\t</div>\n",
       "</script>\n",
       "<script type=\"text/javascript\">\n",
       "\t\n",
       "\t$(window).on(\"load\", (function () {\n",
       "\t\tvar oLNB = new naver.kin.pc.LNB({questionType: \"NORMAL\"});\n",
       "\t\tvar oGNB = new naver.kin.pc.GNB({});\n",
       "\t}));\n",
       "\n",
       "\tvar GNB_BRIGHTNESS_VALUE = {\n",
       "\t\tDARK_ICON: 0,\n",
       "\t\tDARK_ICON_AND_TRANSPARENCY: 1,\n",
       "\t\tBRIGHT_ICON_AND_TRANSPARENCY: 2,\n",
       "\t\tBRIGHT_ICON: 3\n",
       "\t};\n",
       "\n",
       "\tvar GNB_ITEM_HIDE_OPTION_BIT_VALUE = {\n",
       "\t\tDEFAULT: 0,\n",
       "\t\tHIDE_LOGIN_BTN: 1,\n",
       "\t\tHIDE_USER_LAYER: 2,\n",
       "\t\tHIDE_NAVER_ME_AREA: 4,\n",
       "\t\tHIDE_MAIL_ALARM_AREA: 8,\n",
       "\t\tHIDE_PROFILE_IMAGE: 16,\n",
       "\t\tSHOW_BENEFIT_FOR_STAFF_MEMBER: 32\n",
       "\t};\n",
       "\n",
       "\t\n",
       "\tvar smartSearch = \"\";\n",
       "\t\n",
       "\tvar gnb_service = \"kin\";\n",
       "\t\n",
       "\tvar gnb_logout = encodeURIComponent(\"https://nid.naver.com/nidlogin.logout\");\n",
       "\t\n",
       "\tvar gnb_login = encodeURIComponent(location.href || 'https://kin.naver.com');\n",
       "\t\n",
       "\tvar gnb_template = \"gnb_utf8\";\n",
       "\t\n",
       "\tvar gnb_item_hide_option = GNB_ITEM_HIDE_OPTION_BIT_VALUE.DEFAULT;\n",
       "\t\n",
       "\t\n",
       "\t\n",
       "\t\n",
       "\n",
       "\t$(window).on(\"load\", (function () {\n",
       "\t\t\n",
       "\t\tgetGNB();\n",
       "\n",
       "\t\tvar bIsGnbClicked = false;\n",
       "\n",
       "\t\t\n",
       "\t\t$(document.body).on(\"click\", function (we) {\n",
       "\t\t\tif (!bIsGnbClicked) {\n",
       "\t\t\t\tgnbAllLayerClose();\n",
       "\t\t\t}\n",
       "\n",
       "\t\t\tbIsGnbClicked = false;\n",
       "\t\t}.bind(this));\n",
       "\n",
       "\t\t$(\"#gnb\").on(\"click\", function (we) {\n",
       "\t\t\tbIsGnbClicked = true;\n",
       "\t\t}.bind(this));\n",
       "\n",
       "\t\t\n",
       "\t\tvar expertEntryBanner = $(\"div.gnb_eXpertLogo div.banner\");\n",
       "\t\tif (!!expertEntryBanner && expertEntryBanner.length > 0) {\n",
       "\t\t\t$(\"div.gnb_eXpertLogo div.banner button.buttonCancel\").on(\"click\", function () {\n",
       "\t\t\t\texpertEntryBanner.hide();\n",
       "\n",
       "\t\t\t\tvar newDisabledUntil = new Date().getTime() + (3 * 1000 * 24 * 60 * 60);\n",
       "\t\t\t\tcookie.create(\"kin_expert_entry_banner_disabled_until\", newDisabledUntil, 5);\n",
       "\t\t\t});\n",
       "\n",
       "\t\t\tvar disabledUntilTimestamp = new Number(cookie.read(\"kin_expert_entry_banner_disabled_until\"));\n",
       "\t\t\tif (!isNaN(disabledUntilTimestamp)) {\n",
       "\t\t\t\tif (new Date().getTime() > disabledUntilTimestamp) {\n",
       "\t\t\t\t\tcookie.erase(\"kin_expert_entry_banner_disabled_until\");\n",
       "\t\t\t\t\texpertEntryBanner.show();\n",
       "\t\t\t\t}\n",
       "\t\t\t} else {\n",
       "\t\t\t\texpertEntryBanner.show();\n",
       "\t\t\t}\n",
       "\t\t}\n",
       "\t\t\n",
       "\t}).bind(this));\n",
       "\n",
       "\tfunction checkQuery ()\n",
       "\t{\n",
       "\t\tvar aform = document.topSearch;\n",
       "\n",
       "\t\ttry {\n",
       "\t\t\taform.submit();\n",
       "\t\t} catch(e) {}\n",
       "\n",
       "\t\treturn false;\n",
       "\t}\n",
       "</script>\n",
       "<script src=\"https://ssl.pstatic.net/static.kin/static/kin-web-pc/2401311625/js/min/naver.kin.pc.detail.js\" type=\"text/javascript\"></script>\n",
       "<div class=\"container-fluid\">\n",
       "<div class=\"container-fluid-content\">\n",
       "<div class=\"container-fluid-content-inner _containerFluidContentInner _container\" id=\"content\">\n",
       "<div class=\"question-content\">\n",
       "<div class=\"question-content__inner _contentWrap\">\n",
       "<div class=\"c-heading _questionContentsArea c-heading--default-old\">\n",
       "<div class=\"c-heading__icon\">\n",
       "<i aria-hidden=\"true\" class=\"icon icon_common_q\"></i><span class=\"blind\">질문</span>\n",
       "</div>\n",
       "<div class=\"c-heading__title\">\n",
       "<div class=\"c-heading__title-inner\">\n",
       "<div class=\"title\">\n",
       "\t\t\t\t\t\t\t\n",
       "\t\t\t\t\t\t\t\t\n",
       "\t\t\t\t\t\t\t\t\n",
       "\t\t\t\t\t\t\t\t\n",
       "\t\t\t\t\t\t\t\t\t아침에 갈색가래(더러움 주의)\n",
       "\t\t\t\t\t\t\t\t\n",
       "\t\t\t\t\t\t\t\n",
       "\t\t\t\t\t\t</div>\n",
       "</div>\n",
       "</div>\n",
       "<div class=\"c-heading__content\">\n",
       "\t\t\t\t\t\t최근한달동안 소량의 피가래가 계속나오고 있습니다.<br/>처음에 감기증상과 진한 녹색 콧물 및 가래와 함께 피가 조금씩 나왔습니다. 대학 병원 폐 ct검사 및 이비인후과에서 코와 목 내시경검사 했는데 ct소견상 기관지에 지저분하게 피가 보이긴하는데 금방 사라지는것으로 보아 폐에는 문제가 없고 만성 편도염 으로 인해 피가 넘어가서 그런것같다고 항생제 처방 받았습니다. 항생제 먹고 가래는 묽어졌는데 아침마다 갈색가래가 지속적으로 나오는데 원인을 파악하려면 어느병원에 가야할까요?<br/>참고로 만성 편도염, 역류성식도염, 공황장애 앓고 있습니다.<br/><br/><br/><span class=\"_waitingForReplaceImage\" data-align=\"\" data-answer-no=\"0\" data-equation-yn=\"N\" data-height=\"4000\" data-image-id=\"88fec36e87b010267620640b84f0bd\" data-image-src=\"https://kin-phinf.pstatic.net/20240207_140/17072807668281SGCB_JPEG/1707280766704.jpg\" data-photoviewer-yn=\"Y\" data-thumb-image-src=\"https://kin-phinf.pstatic.net/20240207_140/17072807668281SGCB_JPEG/1707280766704.jpg?type=w750\" data-watermark-yn=\"N\" data-width=\"2252\" style=\"display:inline-block;visibility:hidden;width:400px;height:710px\"></span><br/><br/><br/><span class=\"_waitingForReplaceImage\" data-align=\"\" data-answer-no=\"0\" data-equation-yn=\"N\" data-height=\"4000\" data-image-id=\"98ffbcaaf56427bd4cdb30a8aa635757\" data-image-src=\"https://kin-phinf.pstatic.net/20240207_69/1707280780058P9RcU_JPEG/1707280779932.jpg\" data-photoviewer-yn=\"Y\" data-thumb-image-src=\"https://kin-phinf.pstatic.net/20240207_69/1707280780058P9RcU_JPEG/1707280779932.jpg?type=w750\" data-watermark-yn=\"N\" data-width=\"2252\" style=\"display:inline-block;visibility:hidden;width:400px;height:710px\"></span>\n",
       "</div>\n",
       "</div>\n",
       "<div aria-label=\"관련태그 목록\" class=\"tag-list tag-list--end-title\" data-select=\"type-a\" role=\"region\">\n",
       "<a class=\"tag-list__item tag-list__item--category\" href=\"/qna/kinupList.naver?dirId=7010101\" onclick=\"naver.kin.pc.common.nClicks('end*q.category', '', '', event);\" target=\"_blank\"><span class=\"blind\">태그 디렉터리</span>Ξ 호흡기내과</a>\n",
       "</div>\n",
       "<div class=\"c-userinfo\">\n",
       "<div class=\"c-userinfo__left\">\n",
       "<div class=\"c-userinfo__profile _profileArea\">\n",
       "<div class=\"profile-default\">\n",
       "<div class=\"profile-default--inner\">\n",
       "<span class=\"profile-default__thumbnail\" style=\"background-image: url(https://ssl.pstatic.net/static/kin/09renewal/avatar/200x200_m_gray/public.png);\"><span class=\"blind\">내 프로필 이미지</span></span>\n",
       "</div>\n",
       "<div class=\"c-callout callout--profile-tooltip _profileTooltip\">\n",
       "<ul class=\"c-callout__list\">\n",
       "<li class=\"c-callout__item\"><strong class=\"c-callout__item-title\">질문수</strong><span class=\"c-callout__item-count\">25</span></li>\n",
       "<li class=\"c-callout__item\"><strong class=\"c-callout__item-title\">채택률</strong><span class=\"c-callout__item-count\">88.0%</span></li>\n",
       "<li class=\"c-callout__item\"><strong class=\"c-callout__item-title\">마감률</strong><span class=\"c-callout__item-count\">88.0%</span></li>\n",
       "</ul>\n",
       "</div>\n",
       "</div>\n",
       "<span class=\"c-userinfo__author\"><span class=\"blind\">닉네임</span>비공개</span>\n",
       "</div>\n",
       "<span class=\"c-userinfo__info\"><span class=\"blind\">작성일</span>4시간 전</span>\n",
       "<span class=\"c-userinfo__info\">조회수 12</span>\n",
       "</div>\n",
       "<div class=\"c-userinfo__right\" role=\"listbox\">\n",
       "<button aria-controls=\"questionCommentListArea\" aria-expanded=\"true\" aria-selected=\"false\" class=\"button_compose _commentBtn\" id=\"cmtstr_0\" onclick=\"naver.kin.pc.common.nClicks('end*q.comm', '', '', event);\" type=\"button\">\n",
       "<i aria-hidden=\"true\" class=\"icon icon_compose_opinion\"></i>\n",
       "<span class=\"blind\">댓글</span>\n",
       "<em class=\"button_compose_count _commentCnt\" style=\"display: none;\">\n",
       "</em>\n",
       "</button>\n",
       "<button aria-pressed=\"false\" aria-selected=\"false\" class=\"button_compose is_disabled _disable _togglePopupButton\" id=\"metooWonderBtn\" onclick=\"naver.kin.pc.common.nClicks('end*q.metoo', '', '', event);return false;\" type=\"button\">\n",
       "<i aria-hidden=\"true\" class=\"icon icon_compose_wonder\"></i>\n",
       "<span class=\"blind\">나도 궁금해요</span>\n",
       "<em class=\"button_compose_count _metooWonderCnt\">\n",
       "</em>\n",
       "</button>\n",
       "<div class=\"popup popup--w300 popup--bottom popup--right _metooWonderLayer _popupLayer\" style=\"display: none;\">\n",
       "<strong class=\"popup__title\">'나도 궁금해요'한 질문에 대한 소식을 알려드립니다.</strong>\n",
       "<p class=\"popup__text\">프로필 &gt; 나도 궁금해요에 보관됩니다.</p>\n",
       "<div class=\"popup__button_area\">\n",
       "<a class=\"c-button-default popup__button_cancel _metooWonderLayerCloseBtn\" href=\"#\" role=\"button\">\n",
       "<span class=\"c-button-default__title\">닫기</span>\n",
       "</a>\n",
       "<a class=\"c-button-default popup__button_submit\" href=\"/myinfo/metooWonderList.nhn\" role=\"button\">\n",
       "<span class=\"c-button-default__title\">나도 궁금해요 확인하기</span>\n",
       "</a>\n",
       "</div>\n",
       "</div>\n",
       "<div class=\"c-userinfo__button-setting\">\n",
       "<a aria-expanded=\"false\" aria-haspopup=\"true\" class=\"button_compose _questionMenuLayerButton\" href=\"#\" id=\"questionMenuBtn\" onclick=\"naver.kin.pc.common.nClicks('end*q.more', '', '', event);\" role=\"button\"><i aria-hidden=\"true\" class=\"icon icon_compose_setting _questionMenuLayerButton\"></i><span class=\"blind\">더보기</span></a>\n",
       "<div aria-hidden=\"true\" class=\"c-userinfo__list-setting _questionMenuLayer _popupLayer\" role=\"listbox\">\n",
       "<a class=\"_ros c-userinfo__setting-item _questionMenuButton\" href=\"#\" id=\"opt_2\" onclick=\"naver.kin.pc.common.nClicks('end*q.qreport', '', '', event);reportAnswer(7010101, 463839635, 0, '%EC%95%84%EC%B9%A8%EC%97%90+%EA%B0%88%EC%83%89%EA%B0%80%EB%9E%98%28%EB%8D%94%EB%9F%AC%EC%9B%80+%EC%A3%BC%EC%9D%98%29', '비공개', 'N');return false;\" role=\"option\">신고</a>\n",
       "</div>\n",
       "</div>\n",
       "</div>\n",
       "</div>\n",
       "<div class=\"c-opinion _commentListArea\" data-answer-no=\"0\" id=\"questionCommentListArea\" style=\"display:none;\"></div>\n",
       "</div>\n",
       "</div>\n",
       "<div class=\"answer-content\" id=\"answerArea\">\n",
       "<div class=\"answer-content__inner\">\n",
       "<div class=\"c-classify c-classify--sorting\">\n",
       "<div class=\"c-classify__title-part\">\n",
       "<h3 class=\"c-classify__title\"><i aria-hidden=\"true\" class=\"icon icon_common_a\"></i><span class=\"blind\">답변</span><em class=\"_answerCount num\">1</em>개</h3>\n",
       "</div>\n",
       "<div class=\"c-classify__sorting-part\">\n",
       "<div class=\"c-sorting\">\n",
       "<div class=\"_sortOptionArea c-sorting__dropdown\">\n",
       "<em class=\"blind\" id=\"descDropdown_1\">정렬 옵션</em>\n",
       "<a aria-expanded=\"false\" aria-haspopup=\"true\" class=\"_sortButton c-sorting__button-dropdown\" href=\"#\" onclick=\"naver.kin.pc.common.nClicks('end*a.option', '', '', event);return false;\" role=\"button\">채택순 <i aria-label=\"정렬 옵션\" class=\"icon_bullet_down\" role=\"img\"></i></a>\n",
       "<div aria-activedescendant=\"opDefault\" aria-hidden=\"true\" class=\"_sortOptionList c-sorting__list\" role=\"listbox\">\n",
       "<a class=\"_sortOption c-sorting__list-item is_active\" data-sort-type=\"DEFAULT\" href=\"#\" id=\"opDefault\" onclick=\"naver.kin.pc.common.nClicks('end*a.choice', '', '', event);return false;\" role=\"option\">채택순</a>\n",
       "<a class=\"_sortOption c-sorting__list-item\" data-sort-type=\"RECENT\" href=\"#\" id=\"opRecent\" onclick=\"naver.kin.pc.common.nClicks('end*a.new', '', '', event);return false;\" role=\"option\">최신순</a>\n",
       "<a class=\"_sortOption c-sorting__list-item\" data-sort-type=\"KINUP\" href=\"#\" id=\"opKinup\" onclick=\"naver.kin.pc.common.nClicks('end*a.vote', '', '', event);return false;\" role=\"option\">추천순</a>\n",
       "<a class=\"_sortOption c-sorting__list-item\" data-sort-type=\"LEVEL\" href=\"#\" id=\"opLevel\" onclick=\"naver.kin.pc.common.nClicks('end*a.level', '', '', event);return false;\" role=\"option\">높은등급순</a>\n",
       "</div>\n",
       "</div>\n",
       "<div class=\"_filterOptionArea c-sorting__dropdown\">\n",
       "<em class=\"blind\" id=\"descDropdown_2\">필터 옵션</em>\n",
       "<a aria-expanded=\"false\" aria-haspopup=\"true\" class=\"_filterButton c-sorting__button-dropdown\" href=\"#\" onclick=\"naver.kin.pc.common.nClicks('end*a.option2', '', '', event);return false;\" role=\"button\">전체보기 <i aria-label=\"필터 옵션\" class=\"icon_bullet_down\" role=\"img\"></i></a>\n",
       "<div aria-activedescendant=\"opAll\" aria-hidden=\"true\" class=\"_filterOptionList c-sorting__list\" role=\"listbox\">\n",
       "<a class=\"_filterOption c-sorting__list-item is_active\" data-filter-type=\"ALL\" href=\"#\" id=\"opAll\" onclick=\"naver.kin.pc.common.nClicks('end*a.all', '', '', event);return false;\" role=\"option\">전체보기</a>\n",
       "<a class=\"_filterOption c-sorting__list-item\" data-filter-type=\"OPEN\" href=\"#\" id=\"opOpen\" onclick=\"naver.kin.pc.common.nClicks('end*a.open', '', '', event);return false;\" role=\"option\">공개답변</a>\n",
       "<a class=\"_filterOption c-sorting__list-item\" data-filter-type=\"CARD\" href=\"#\" id=\"opBusinessCard\" onclick=\"naver.kin.pc.common.nClicks('end*a.kcard', '', '', event);return false;\" role=\"option\">지식인카드</a>\n",
       "<a class=\"_filterOption c-sorting__list-item\" data-filter-type=\"PARTNER\" href=\"#\" id=\"opPartner\" onclick=\"naver.kin.pc.common.nClicks('end*a.partner', '', '', event);return false;\" role=\"option\">지식파트너</a>\n",
       "<a class=\"_filterOption c-sorting__list-item\" data-filter-type=\"EXPERT\" href=\"#\" id=\"opExpert\" onclick=\"naver.kin.pc.common.nClicks('end*a.specialist', '', '', event);return false;\" role=\"option\">전문가</a>\n",
       "</div>\n",
       "</div>\n",
       "<div class=\"_viewOptionArea c-sorting__radiobox\">\n",
       "<em class=\"blind\" id=\"descBoxRadio\">보기 옵션</em>\n",
       "<div aria-activedescendant=\"opDetail\" class=\"_viewOptionList c-sorting__list\" role=\"listbox\">\n",
       "<a aria-selected=\"true\" class=\"_viewOption c-sorting__list-item is_active\" data-view-type=\"DETAIL\" href=\"#\" id=\"opDetail\" onclick=\"naver.kin.pc.common.nClicks('end*q.recomm', '', '', event);return false;\" role=\"option\">\n",
       "<span class=\"icon_title\">최적</span>\n",
       "</a>\n",
       "<a aria-selected=\"false\" class=\"_viewOption c-sorting__list-item\" data-view-type=\"ORIGINAL\" href=\"#\" id=\"opOriginal\" onclick=\"naver.kin.pc.common.nClicks('end*q.original', '', '', event);return false;\" role=\"option\">\n",
       "<span class=\"icon_title\">원문</span>\n",
       "</a>\n",
       "</div>\n",
       "</div>\n",
       "</div>\n",
       "</div>\n",
       "</div>\n",
       "<div class=\"_answerListArea view-list view-list__card\">\n",
       "<div class=\"answer-content__list _answerList\">\n",
       "<div class=\"answer-content__item _contentWrap _answer\" id=\"answer_1\">\n",
       "<!-- [D] 채택\n",
       "* 질문자, 지식인&질문자 채택 : 'adoptCheck'\n",
       "* 지식인 채택 : 'adoptCheck adoptCheck--kin'\n",
       "-->\n",
       "<a href=\"#answer1\" name=\"answer1\"><span class=\"blind\">1번째 답변</span></a>\n",
       "<div class=\"profile_card\">\n",
       "<div class=\"card_inner card_theme_expert\">\n",
       "<div class=\"card_info\">\n",
       "<div class=\"profile_info\">\n",
       "<a class=\"name_area\" href=\"/profile/index.naver?u=y1gIA5Am7MOwduNw1ow%2FRIsUGVFko2GOuYbrhMMDARY%3D\" onclick=\"naver.kin.pc.common.nClicks('end*a.expname', '', '', event);sendBaLog(BaPcEventType.QNA_DETAIL_5262, {dir_id:7010101, doc_id:463839635, answer_no:1, item:'nickname'});\">\n",
       "<strong class=\"name\">김량희</strong>\n",
       "</a>\n",
       "<div class=\"item_area\">\n",
       "<div class=\"item_list\">\n",
       "<span class=\"item\">전문답변수 7,884</span><span class=\"item\">받은감사수 38</span>\n",
       "</div>\n",
       "<div class=\"badge_list\">\n",
       "<span class=\"badge expert\">전문의</span>\n",
       "<span class=\"badge heavy_answer\">열심답변자</span>\n",
       "</div>\n",
       "</div>\n",
       "</div>\n",
       "<a class=\"thumbnail_area level_heavy_answer\" href=\"/profile/index.naver?u=y1gIA5Am7MOwduNw1ow%2FRIsUGVFko2GOuYbrhMMDARY%3D\" onclick=\"naver.kin.pc.common.nClicks('end*a.exppimg', '', '', event);sendBaLog(BaPcEventType.QNA_DETAIL_5262, {dir_id:7010101, doc_id:463839635, answer_no:1, item:'thumbnail'});\" target=\"_blank\">\n",
       "<div class=\"thumbnail\">\n",
       "<img alt=\"프로필 사진\" src=\"https://ssl.pstatic.net/static/kin/09renewal/avatar/200x200_m_gray/profilePlaceholder_191121.png\"/>\n",
       "</div>\n",
       "<span class=\"icon\"></span>\n",
       "</a>\n",
       "</div>\n",
       "<div class=\"career_list\">\n",
       "<div class=\"career_item\">\n",
       "<i class=\"icon\">\n",
       "<svg height=\"22px\" version=\"1.1\" viewbox=\"0 0 22 22\" width=\"22px\" xmlns=\"http://www.w3.org/2000/svg\">\n",
       "<g fill=\"none\" fill-rule=\"evenodd\" id=\"Icon/Certificatel/wt\" stroke=\"none\" stroke-width=\"1\">\n",
       "<path d=\"M10.8877261,3.32871697 C11.0096398,3.29042768 11.1403605,3.29042768 11.2622741,3.32871697 L11.2622741,3.32871697 L17.5122741,5.29164801 C17.7729041,5.3735038 17.9501729,5.61514463 17.9500001,5.88832652 L17.9500001,5.88832652 L17.9477942,9.37393207 C17.9477942,13.5697852 15.1718444,17.1998049 11.2372057,18.2777865 C11.1290145,18.3074279 11.0148398,18.3074041 10.906661,18.2777176 C6.97691877,17.1993163 4.20220601,13.5685145 4.20220613,9.37432756 L4.20220613,9.37432756 L4.20000013,5.88832652 C4.19982739,5.61514463 4.37709612,5.3735038 4.63772613,5.29164801 L4.63772613,5.29164801 Z M14.9940491,7.8903634 C14.6963087,7.60239899 14.2215011,7.61032404 13.9335367,7.90806449 L13.9335367,7.90806449 L10.1090001,11.862 L8.65959258,10.3625827 L8.57670219,10.2885659 C8.28678061,10.0658244 7.86976995,10.0830486 7.59908118,10.3448183 C7.30132354,10.6327649 7.29337014,11.107572 7.58131676,11.4053297 L7.58131676,11.4053297 L9.57034475,13.4621285 L9.65525485,13.5377048 C9.95237025,13.7644347 10.3805921,13.7392563 10.6485894,13.4621607 L10.6485894,13.4621607 L15.0117502,8.95087585 L15.0829544,8.86555723 C15.2958786,8.5683509 15.2647223,8.15214922 14.9940491,7.8903634 Z\" fill=\"#FFFFFF\" fill-rule=\"nonzero\" id=\"Combined-Shape\"></path>\n",
       "</g>\n",
       "</svg>\n",
       "</i>\n",
       "<p>영천베드로내과</p>\n",
       "</div>\n",
       "</div>\n",
       "</div>\n",
       "<div class=\"option_area\">\n",
       "<div class=\"tooltip_area\">\n",
       "<span class=\"text\">본인 입력 포함 정보</span>\n",
       "<div class=\"tooltip_box\">\n",
       "<button aria-expanded=\"true\" class=\"tooltip_button\" onclick=\"naver.kin.pc.common.nClicks('end*a.expcardtip', '', '', event);\" type=\"button\"><i class=\"icon\">\n",
       "<svg height=\"16\" viewbox=\"0 0 16 16\" width=\"16\" xmlns=\"http://www.w3.org/2000/svg\">\n",
       "<g fill=\"none\" fill-rule=\"evenodd\">\n",
       "<circle cx=\"8\" cy=\"8\" r=\"7.5\" stroke=\"#DADADA\"></circle>\n",
       "<path d=\"M8.364 6.113c.238 0 .44-.079.609-.235a.749.749 0 0 0 .253-.57.756.756 0 0 0-.253-.57.857.857 0 0 0-.609-.238c-.237 0-.44.08-.61.237a.753.753 0 0 0-.255.572c0 .222.084.412.254.569a.87.87 0 0 0 .611.235zM7.74 11.42c.229 0 .43-.03.602-.09.173-.06.405-.147.695-.261l.096-.396c-.05.024-.13.05-.241.082-.112.03-.211.046-.3.046-.187 0-.319-.031-.395-.093-.076-.061-.114-.177-.114-.347 0-.067.012-.167.035-.299.024-.131.05-.249.08-.351l.36-1.279c.035-.117.059-.246.072-.387.013-.14.02-.238.02-.294a.839.839 0 0 0-.284-.657c-.189-.168-.457-.253-.806-.253-.193 0-.398.035-.615.104a9.156 9.156 0 0 0-.681.248l-.097.395c.07-.026.155-.054.253-.083.098-.03.194-.044.288-.044.19 0 .319.032.386.097.068.064.101.178.101.342 0 .091-.01.192-.033.301-.022.11-.049.227-.08.35L6.72 9.835a3.79 3.79 0 0 0-.07.363 2.314 2.314 0 0 0-.023.314c0 .263.098.48.293.652.194.172.468.257.82.257z\" fill=\"#444\" fill-rule=\"nonzero\"></path>\n",
       "</g>\n",
       "</svg>\n",
       "</i></button>\n",
       "<div class=\"tooltip_guide _tooltipComponent\" style=\"display: none;\">\n",
       "<div class=\"tooltip_item\">지식iN 서비스 질문 답변 페이지 및 프로필의 답변자 정보에 노출되는 답변자의 소속 정보는 소속 단체를 통해 입력된 정보입니다.</div>\n",
       "<div class=\"tooltip_item\">네이버는 사용자가 등록한 정보 및 게시물을 제공하는 정보매개 서비스 제공자로서 해당 정보의 정확성, 신뢰성 및 최신성에 대해 보증하지 않습니다.</div>\n",
       "<button class=\"button_close\" onclick=\"$('div._tooltipComponent').hide();\" type=\"button\"><i class=\"icon_close\"><span class=\"blind\">툴팁 닫기</span></i>\n",
       "</button>\n",
       "</div>\n",
       "</div>\n",
       "</div>\n",
       "</div>\n",
       "</div>\n",
       "<div class=\"_endContents c-heading-answer__content\">\n",
       "<div class=\"_endContentsText c-heading-answer__content-user\"><div class=\"se-viewer se-theme-default\" lang=\"ko-KR\"> <!-- SE_DOC_HEADER_START --> <!--@CONTENTS_HEADER--> <!-- SE_DOC_HEADER_END --> <div class=\"se-main-container\"> <div class=\"se-component se-text se-l-default\" id=\"SE-f536e82d-835a-475b-b441-382179b27492\"> <div class=\"se-component-content\"> <div class=\"se-section se-section-text se-l-default\"> <div class=\"se-module se-module-text\"> <!-- SE-TEXT { --><p class=\"se-text-paragraph se-text-paragraph-align-\" id=\"SE-a66a0db6-dc84-4632-9ce7-8c84439aebd2\" style=\"\"><span class=\"se-fs- se-ff-\" id=\"SE-c4ccce01-2e31-48bc-a6bd-76035696080c\" style=\"\">안녕하세요.</span></p><!-- } SE-TEXT --><!-- SE-TEXT { --><p class=\"se-text-paragraph se-text-paragraph-align-\" id=\"SE-e43e9bb8-b72d-472a-bf01-36e777317ea3\" style=\"\"><span class=\"se-fs- se-ff-\" id=\"SE-d055d500-2c45-4f85-b35f-9d17031bda13\" style=\"\"> </span></p><!-- } SE-TEXT --><!-- SE-TEXT { --><p class=\"se-text-paragraph se-text-paragraph-align-\" id=\"SE-37fcaf10-ef2b-4409-9044-8fb7945a3d99\" style=\"\"><span class=\"se-fs- se-ff-\" id=\"SE-567839c4-251b-4384-8838-4b24e66cc08f\" style=\"\">​</span></p><!-- } SE-TEXT --><!-- SE-TEXT { --><p class=\"se-text-paragraph se-text-paragraph-align-\" id=\"SE-2871a759-a082-498c-ac3e-3df05b0381f7\" style=\"\"><span class=\"se-fs- se-ff-\" id=\"SE-6b1a0cc7-4ee7-4c56-845c-f3fec4744b7e\" style=\"\"> </span></p><!-- } SE-TEXT --><!-- SE-TEXT { --><p class=\"se-text-paragraph se-text-paragraph-align-\" id=\"SE-0cdded1b-78ff-43a4-9957-d778f4e7b380\" style=\"\"><span class=\"se-fs- se-ff-\" id=\"SE-951c90ae-7e8e-430f-b4e1-f1031f80b6c1\" style=\"\">질문자님. 흡연자신가요? 흡연자시면 영향이 있을 수 있습니다.</span></p><!-- } SE-TEXT --><!-- SE-TEXT { --><p class=\"se-text-paragraph se-text-paragraph-align-\" id=\"SE-7a70f609-b482-4937-969c-67c60f82e71d\" style=\"\"><span class=\"se-fs- se-ff-\" id=\"SE-7e0339a5-c005-4cac-a5b7-12a8caba6c18\" style=\"\"> </span></p><!-- } SE-TEXT --><!-- SE-TEXT { --><p class=\"se-text-paragraph se-text-paragraph-align-\" id=\"SE-bf2e8048-e6fb-4074-b686-422e4b8f93c6\" style=\"\"><span class=\"se-fs- se-ff-\" id=\"SE-75f852c3-8181-4b80-bfd9-ecda9b3a8ade\" style=\"\">​</span></p><!-- } SE-TEXT --><!-- SE-TEXT { --><p class=\"se-text-paragraph se-text-paragraph-align-\" id=\"SE-a11d5d0f-641f-4620-a02f-a76cf2193a1b\" style=\"\"><span class=\"se-fs- se-ff-\" id=\"SE-62194dee-8390-42a1-b4d8-804bd942cdd1\" style=\"\"> </span></p><!-- } SE-TEXT --><!-- SE-TEXT { --><p class=\"se-text-paragraph se-text-paragraph-align-\" id=\"SE-c511a5da-dc65-4302-9d57-83284635cc07\" style=\"\"><span class=\"se-fs- se-ff-\" id=\"SE-1d2eec6d-ec26-42c5-a4a7-8c5d1dc598a8\" style=\"\">기본적으로 갈색의 가래는 배출이 잘 안됐던 가래가 나오는 것입니다.</span></p><!-- } SE-TEXT --><!-- SE-TEXT { --><p class=\"se-text-paragraph se-text-paragraph-align-\" id=\"SE-7f42a842-d911-4364-80f9-a1eebdfc1674\" style=\"\"><span class=\"se-fs- se-ff-\" id=\"SE-406712e8-8476-4cd0-b391-783eef36dd8e\" style=\"\"> </span></p><!-- } SE-TEXT --><!-- SE-TEXT { --><p class=\"se-text-paragraph se-text-paragraph-align-\" id=\"SE-fc8971f8-bcf8-4032-95b9-0d3add88896e\" style=\"\"><span class=\"se-fs- se-ff-\" id=\"SE-0d776c86-eca9-4357-90ce-1a5b8153e6d9\" style=\"\">​</span></p><!-- } SE-TEXT --><!-- SE-TEXT { --><p class=\"se-text-paragraph se-text-paragraph-align-\" id=\"SE-4b26905c-ee5f-40eb-b7bc-936e8b9b72e7\" style=\"\"><span class=\"se-fs- se-ff-\" id=\"SE-a1358867-4901-499e-98b4-c7479e509b0d\" style=\"\"> </span></p><!-- } SE-TEXT --><!-- SE-TEXT { --><p class=\"se-text-paragraph se-text-paragraph-align-\" id=\"SE-ec881e7e-5b49-49c5-a761-247bbc2a2c55\" style=\"\"><span class=\"se-fs- se-ff-\" id=\"SE-93edb293-afd3-4159-bb29-75402a25b3dd\" style=\"\">상기 증상이 지속되면 내과에 내원하셔서 흉부 X-ray는 촬영해보시는게 좋겠습니다. </span></p><!-- } SE-TEXT --><!-- SE-TEXT { --><p class=\"se-text-paragraph se-text-paragraph-align-\" id=\"SE-d5dda7a0-a137-48c1-85bb-b83806206cc5\" style=\"\"><span class=\"se-fs- se-ff-\" id=\"SE-097e3cb0-189e-4f65-9462-2d1439d029ec\" style=\"\"> </span></p><!-- } SE-TEXT --><!-- SE-TEXT { --><p class=\"se-text-paragraph se-text-paragraph-align-\" id=\"SE-b4ab3b6e-b7d4-4bdd-a3a5-f5177f9fb819\" style=\"\"><span class=\"se-fs- se-ff-\" id=\"SE-9fe120df-1f15-4045-ad4a-c518e9225e5d\" style=\"\">​</span></p><!-- } SE-TEXT --><!-- SE-TEXT { --><p class=\"se-text-paragraph se-text-paragraph-align-\" id=\"SE-80eb3420-a396-47d8-9320-84dc35a2194e\" style=\"\"><span class=\"se-fs- se-ff-\" id=\"SE-8bc7c3c4-e920-47ed-a173-3dbd9c5bfc08\" style=\"\"> </span></p><!-- } SE-TEXT --><!-- SE-TEXT { --><p class=\"se-text-paragraph se-text-paragraph-align-\" id=\"SE-81b44f1b-9757-4679-ae20-95cfb4d5e929\" style=\"\"><span class=\"se-fs- se-ff-\" id=\"SE-04195e05-954d-45b3-8dae-6c0d51f1b30c\" style=\"\">답변이 도움이 됐으면 좋겠습니다.</span></p><!-- } SE-TEXT --> </div> </div> </div> </div> </div></div></div>\n",
       "<div class=\"c-guideline c-guideline-default\">\n",
       "<strong class=\"c-guideline__title\"><i class=\"icon_notice\"></i>알아두세요!</strong>\n",
       "<ul class=\"c-guideline__list c-guideline__list--number\">\n",
       "<li class=\"c-guideline__item\"><i class=\"c-guideline-symbol\">1.</i>질문자의 정보 참조 용도로 활용 가능하며, 정확한 개인 증상 파악은 의료 기관 내방을 통해 진행하시기 바랍니다.</li>\n",
       "<li class=\"c-guideline__item\"><i class=\"c-guideline-symbol\">2.</i>상담의사의 최종적인 의학적 소견을 나타낸 것이 아니며, 답변을 제공한 개인 및 사업자의 법률적 책임이 없음을 알려드립니다.</li>\n",
       "<li class=\"c-guideline__item\"><i class=\"c-guideline-symbol\">3.</i>시의적, 물리적 환경에 따라 변경된 의학적 이견을 가질 수 있으며, 의학적 소견이 상이한 여러 의견을 모두 수렴하지는 않습니다.</li>\n",
       "<li class=\"c-guideline__desc\">위 답변은 답변작성자가 경험과 지식을 바탕으로 작성한 내용입니다. 포인트 선물할 때 참고해주세요.</li>\n",
       "</ul>\n",
       "</div>\n",
       "<p class=\"c-heading-answer__content-date\">4시간 전</p>\n",
       "</div>\n",
       "<div class=\"c-userinfo-answer _answerBottom\">\n",
       "<div class=\"c-userinfo-answer__left\">\n",
       "<div class=\"likeit_user _answerLikeArea\" data-answer-no=\"1\" id=\"answerLikeArea_1\">\n",
       "<div class=\"u_likeit _reactionModule\" data-cid=\"10000009_00001ba5a193_1\" data-display=\"inline-block\" data-pid=\"10000009_00001ba5a193\" data-sid=\"KIN\" style=\"display:none;\">\n",
       "<a aria-haspopup=\"true\" aria-pressed=\"false\" class=\"u_likeit_button _face\" href=\"javascript:void(0)\" onclick=\"naver.kin.pc.common.nClicks('end*a.face', '', '', event);\" role=\"button\">\n",
       "<span class=\"u_likeit_icons _icons\">\n",
       "<span class=\"u_likeit_icon\" style=\"z-index:2;\"><span class=\"u_likeit_blind\">표정</span></span>\n",
       "<span class=\"u_likeit_icon\" style=\"z-index:1;\"><span class=\"u_likeit_blind\">표정</span></span>\n",
       "</span>\n",
       "<span class=\"u_likeit_blind\" id=\"u_likeit_title_1\">좋아요 평가하기</span>\n",
       "<span class=\"u_likeit_text _count\">표정</span>\n",
       "</a>\n",
       "<ul aria-labelledby=\"u_likeit_title_1\" class=\"u_likeit_layer _faceLayer\" role=\"radiogroup\">\n",
       "<li class=\"u_likeit_list like\" role=\"presentation\">\n",
       "<a aria-checked=\"false\" class=\"u_likeit_list_button _button\" data-log=\"end*f.like|end*f.likeoff\" data-type=\"like\" href=\"javascript:void(0)\" onclick=\"sendBaLog(BaPcEventType.QNA_DETAIL_5239, {dir_id:7010101, doc_id:463839635, answer_no:1, face_type:'like'});\" role=\"radio\">\n",
       "<span class=\"u_likeit_list_name _label\">좋아요</span>\n",
       "<span class=\"u_likeit_list_count _count\"><span class=\"u_likeit_blind\">총:</span>0</span>\n",
       "</a>\n",
       "</li>\n",
       "<li class=\"u_likeit_list useful\" role=\"presentation\">\n",
       "<a aria-checked=\"false\" class=\"u_likeit_list_button _button\" data-log=\"end*f.useful|end*f.usefuloff\" data-type=\"useful\" href=\"javascript:void(0)\" onclick=\"sendBaLog(BaPcEventType.QNA_DETAIL_5239, {dir_id:7010101, doc_id:463839635, answer_no:1, face_type:'useful'});\" role=\"radio\">\n",
       "<span class=\"u_likeit_list_name _label\">유익해요</span>\n",
       "<span class=\"u_likeit_list_count _count\"><span class=\"u_likeit_blind\">총:</span>0</span>\n",
       "</a>\n",
       "</li>\n",
       "<li class=\"u_likeit_list haha\" role=\"presentation\">\n",
       "<a aria-checked=\"false\" class=\"u_likeit_list_button _button\" data-log=\"end*f.haha|end*f.hahaoff\" data-type=\"haha\" href=\"javascript:void(0)\" onclick=\"sendBaLog(BaPcEventType.QNA_DETAIL_5239, {dir_id:7010101, doc_id:463839635, answer_no:1, face_type:'haha'});\" role=\"radio\">\n",
       "<span class=\"u_likeit_list_name _label\">재밌어요</span>\n",
       "<span class=\"u_likeit_list_count _count\"><span class=\"u_likeit_blind\">총:</span>0</span>\n",
       "</a>\n",
       "</li>\n",
       "<li class=\"u_likeit_list toobad\" role=\"presentation\">\n",
       "<a aria-checked=\"false\" class=\"u_likeit_list_button _button\" data-log=\"end*f.toobad|end*f.toobadoff\" data-type=\"toobad\" href=\"javascript:void(0)\" onclick=\"sendBaLog(BaPcEventType.QNA_DETAIL_5239, {dir_id:7010101, doc_id:463839635, answer_no:1, face_type:'toobad'});\" role=\"radio\">\n",
       "<span class=\"u_likeit_list_name _label\">동의못해요</span>\n",
       "<span class=\"u_likeit_list_count _count\"><span class=\"u_likeit_blind\">총:</span>0</span>\n",
       "</a>\n",
       "</li>\n",
       "<li class=\"u_likeit_list likead _button\" role=\"presentation\">\n",
       "<a aria-checked=\"false\" class=\"u_likeit_list_button _button\" data-log=\"end*f.likead|end*f.likeadoff\" data-type=\"likead\" href=\"javascript:void(0)\" onclick=\"sendBaLog(BaPcEventType.QNA_DETAIL_5239, {dir_id:7010101, doc_id:463839635, answer_no:1, face_type:'likead'});\" role=\"radio\">\n",
       "<span class=\"u_likeit_list_name _label\">광고같아요</span>\n",
       "<span class=\"u_likeit_list_count _count\"><span class=\"u_likeit_blind\">총:</span>0</span>\n",
       "</a>\n",
       "</li>\n",
       "</ul>\n",
       "</div>\n",
       "<a aria-haspopup=\"true\" aria-pressed=\"false\" class=\"user_display _likeUserListBtn\" href=\"javascript:void(0)\" onclick=\"naver.kin.pc.common.nClicks('end*f.more', '', '', event);\" role=\"button\" style=\"display:none;\">\n",
       "<span class=\"sp_likeit ico_ellipsis\"><span class=\"blind\">사용자 표시</span></span>\n",
       "</a>\n",
       "</div>\n",
       "<button aria-controls=\"answerCommentListArea\" aria-expanded=\"false\" aria-selected=\"false\" class=\"button_compose _commentBtn\" id=\"cmtstr_1\" onclick=\"naver.kin.pc.common.nClicks('end*a.comment', '', '', event);return false;\" role=\"option\" type=\"button\">\n",
       "<i aria-hidden=\"true\" class=\"icon icon_compose_opinion\"></i><span class=\"button_compose_text _commentText\">댓글</span>\n",
       "</button>\n",
       "</div>\n",
       "<div class=\"c-userinfo-answer__right\">\n",
       "<div class=\"c-userinfo__button-point\">\n",
       "<a aria-describedby=\"tooltipPointText\" class=\"button_point _pointGiftButton\" data-answer-no=\"1\" data-dir-id=\"7010101\" data-doc-id=\"463839635\" href=\"#\" onclick=\"naver.kin.pc.common.nClicks('ptxb.pthx', '', '', event);\" role=\"button\">포인트 선물</a>\n",
       "<div aria-expanded=\"false\" aria-hidden=\"false\" class=\"tooltip_point _pointGiftTooltip\" role=\"tooltip\" style=\"display:none;\">\n",
       "<div class=\"tooltip_text\" id=\"tooltipPointText\">도움이 되었다면 포인트로 감사한 마음을 전해보세요.</div><button class=\"button_close _pointGiftTooltipClose\" onclick=\"naver.kin.pc.common.nClicks('ptxb.tooltip', '', '', event);\" type=\"button\"><span class=\"blind\">포인트 선물 툴팁 닫기</span></button>\n",
       "</div>\n",
       "</div>\n",
       "</div>\n",
       "</div>\n",
       "<div class=\"c-opinion _commentListArea\" data-answer-no=\"1\" data-thanks-message=\"\" style=\"display:none;\"></div>\n",
       "</div>\n",
       "</div>\n",
       "</div>\n",
       "<a class=\"c-button-default c-button-more\" href=\"#\" id=\"nextPageButton\" onclick=\"naver.kin.pc.common.nClicks('end*a.more', '', '', event);return false;\" role=\"button\" style=\"display:none\">\n",
       "<span class=\"c-button-default__title\">\n",
       "<span class=\"_nextPageAnswerCount\">-4</span>개 더보기\n",
       "\t\t\t\t\t<span class=\"c-button-more__count\">\n",
       "<span class=\"blind\">현재 페이지</span><span class=\"c-button-more__count-number _currentAnswerCount\">5</span>/<span class=\"blind\">전체 페이지</span><span class=\"c-button-more__count-number _totalAnswerCount\">1</span>\n",
       "</span>\n",
       "</span>\n",
       "</a>\n",
       "<a class=\"c-button-default c-button-more\" href=\"#\" id=\"lastNextPageButton\" onclick=\"naver.kin.pc.common.nClicks('end*a.more', '', '', event);return false;\" role=\"button\" style=\"display:none\">\n",
       "<span class=\"c-button-default__title\">\n",
       "<span class=\"c-button-more__count\">\n",
       "<span class=\"blind\">현재 페이지</span><span class=\"c-button-more__count-number _currentAnswerCount\">1</span>/<span class=\"blind\">전체 페이지</span><span class=\"c-button-more__count-number _totalAnswerCount\">1</span>\n",
       "</span>\n",
       "</span>\n",
       "</a>\n",
       "<script id=\"emptyAnswerListTextTpl\" type=\"text/x-dot-template\">\n",
       "\t<div class=\"answer-content__item\">\n",
       "\t\t<div class=\"c-nodata c-nodata--default\" data-select=\"type1-a\">\n",
       "\t\t\t<i class=\"icon-square\" aria-hidden=\"true\"></i>\n",
       "\t\t\t<p class=\"c-nodata__title\">{{=it.title}}</p>\n",
       "\t\t</div>\n",
       "\t</div>\n",
       "</script>\n",
       "<script id=\"answerTpl\" type=\"text/x-dot-template\">\n",
       "\t<div id=\"answer_{{=it.answerNo}}\" class=\"answer-content__item _contentWrap _answer{{? it.isKinIAnswer}} end_kin_i _kinIAnswer{{?}}\">\n",
       "\t\t\n",
       "\t\t\n",
       "\n",
       "\n",
       "{{? it.inotiStop || !it.isAbnormalAnswer}}\n",
       "\t<div class=\"adopt-check-box\">\n",
       "\t\t{{? it.netizenBest && it.selectBest}}\n",
       "\t\t<div class=\"adoptCheck\">\n",
       "\t\t\t<div class=\"checkText\">\n",
       "\t\t\t\t<span>질문자</span><span>지식인</span> 채택\n",
       "\t\t\t</div>\n",
       "\t\t</div>\n",
       "\t\t{{?? it.netizenBest}}\n",
       "\t\t<div class=\"adoptCheck adoptCheck--kin\">\n",
       "\t\t\t<div class=\"checkText\">\n",
       "\t\t\t\t<span>지식인</span> 채택\n",
       "\t\t\t</div>\n",
       "\t\t</div>\n",
       "\t\t{{?? it.selectBest}}\n",
       "\t\t<div class=\"adoptCheck\">\n",
       "\t\t\t<div class=\"checkText\">\n",
       "\t\t\t\t<span>질문자</span> 채택\n",
       "\t\t\t</div>\n",
       "\t\t</div>\n",
       "\t\t{{?}}\n",
       "\t</div>\n",
       "{{?}}\n",
       "\n",
       "\t\t\n",
       "\t\t<a href=\"#answer{{=it.answerNo}}\" name=\"answer{{=it.answerNo}}\"><span class=\"blind\">{{=it.answerNo}}번째 답변</span></a>\n",
       "\n",
       "\t\t\n",
       "\t\t{{? it.isAbnormalAnswer}}\n",
       "\t\t\n",
       "\n",
       "<div class=\"profile_card\">\n",
       "\t<div class=\"card_inner\">\n",
       "\t\t<div class=\"card_info\">\n",
       "\t\t\t<div class=\"profile_info\">\n",
       "\t\t\t\t<div class=\"name_area\"><strong class=\"etc_text\">\n",
       "\t\t\t\t\t{{? it.deleted}}\n",
       "\t\t\t\t\t{{? it.deletedByWriter}}\n",
       "\t\t\t\t\t작성자가 직접 삭제한 답변입니다.\n",
       "\t\t\t\t\t{{?? it.expertAdminDeferOrDeleteAction}}\n",
       "\t\t\t\t\t전문가 또는 소속단체의 요청으로 삭제된 답변입니다.\n",
       "\t\t\t\t\t{{??}}\n",
       "\t\t\t\t\t사용자 신고를 받고, 운영원칙에 따라 삭제된 답변입니다.\n",
       "\t\t\t\t\t{{?}}\n",
       "\t\t\t\t\t{{?? it.wait}}\n",
       "\t\t\t\t\t{{? it.expertAdminDeferOrDeleteAction}}\n",
       "\t\t\t\t\t내용을 수정 중인 전문가답변이 있습니다.\n",
       "\t\t\t\t\t{{??}}\n",
       "\t\t\t\t\t신뢰있는 전문가 답변이 작성중입니다.\n",
       "\t\t\t\t\t{{?}}\n",
       "\t\t\t\t\t{{?? it.inotiStop}}\n",
       "\t\t\t\t\t임시적으로 게시가 중단된 게시물 입니다.\n",
       "\t\t\t\t\t{{?? it.blind && it.viewState != 'NORMAL'}}\n",
       "\t\t\t\t\t불량 또는 스팸 의심 게시물로 검출되어 열람이 제한된 답변입니다.\n",
       "\t\t\t\t\t{{?}}\n",
       "\t\t\t\t</strong></div>\n",
       "\t\t\t\t{{? it.wait && !it.expertAdminDeferOrDeleteAction}}\n",
       "\t\t\t\t<div class=\"item_area\">\n",
       "\t\t\t\t\t<div class=\"item_list\">\n",
       "\t\t\t\t\t\t<strong class=\"item\">승인된 이후 확인할 수 있으며, 답변내용에 따라 시간이 걸릴 수 있습니다.</strong>\n",
       "\t\t\t\t\t</div>\n",
       "\t\t\t\t</div>\n",
       "\t\t\t\t<div class=\"item_area\">\n",
       "\t\t\t\t\t<div class=\"item_list\">\n",
       "\t\t\t\t\t\t<span class=\"item\">{{=it.formattedModifyTime}}</span>\n",
       "\t\t\t\t\t</div>\n",
       "\t\t\t\t</div>\n",
       "\t\t\t\t{{?? it.blind && it.viewState != 'NORMAL'}}\n",
       "\t\t\t\t<div class=\"item_area\">\n",
       "\t\t\t\t\t<div class=\"item_list\">\n",
       "\t\t\t\t\t\t<strong class=\"item\">올바른 정보공유를 위한 조치이므로 양해 부탁드리겠습니다.</strong>\n",
       "\t\t\t\t\t</div>\n",
       "\t\t\t\t</div>\n",
       "\t\t\t\t{{?? it.deleted}}\n",
       "\t\t\t\t<div class=\"item_area\">\n",
       "\t\t\t\t\t<div class=\"item_list\">\n",
       "\t\t\t\t\t\t<span class=\"item\">{{=it.formattedModifyTime}}</span>\n",
       "\t\t\t\t\t</div>\n",
       "\t\t\t\t</div>\n",
       "\t\t\t\t{{?}}\n",
       "\t\t\t</div>\n",
       "\t\t\t<div class=\"thumbnail_area\">\n",
       "\t\t\t\t<div class=\"thumbnail\">\n",
       "\t\t\t\t\t<img src=\"https://ssl.pstatic.net/static/kin/09renewal/avatar/200x200_m_gray/answer.png\" alt=\"프로필 사진\">\n",
       "\t\t\t\t</div>\n",
       "\t\t\t</div>\n",
       "\t\t</div>\n",
       "\t</div>\n",
       "</div>\n",
       "\n",
       "\t\t{{?? it.isPrivateAnswer}}\n",
       "\t\t\n",
       "\n",
       "<div class=\"profile_card\">\n",
       "\t<div class=\"card_inner\">\n",
       "\t\t<div class=\"card_info\">\n",
       "\t\t\t<div class=\"profile_info\">\n",
       "\t\t\t\t<div class=\"name_area\">\n",
       "\t\t\t\t\t<strong class=\"etc_text\">\n",
       "\t\t\t\t\t\t{{? it.namecard != null && it.namecard.kinUser}}\n",
       "\t\t\t\t\t\t비공개 답변\n",
       "\t\t\t\t\t\t{{??}}\n",
       "\t\t\t\t\t\t탈퇴한 사용자의 답변입니다.\n",
       "\t\t\t\t\t\t{{?}}\n",
       "\t\t\t\t\t</strong>\n",
       "\t\t\t\t</div>\n",
       "\t\t\t\t{{? it.namecard != null && it.namecard.kinUser}}\n",
       "\t\t\t\t<div class=\"item_area\">\n",
       "\t\t\t\t\t{{? (it.namecard.privateAnswerRateStr != null && it.namecard.privateAnswerRateStr != \"\") || (it.namecard.lastAnswerTimeStr != null &&\n",
       "\t\t\t\t\tit.namecard.lastAnswerTimeStr != \"\")}}\n",
       "\t\t\t\t\t<div class=\"item_list\">\n",
       "\t\t\t\t\t\t{{? it.namecard.privateAnswerRateStr != null && it.namecard.privateAnswerRateStr != \"\"}}<span class=\"item\">비공개율 {{=it.namecard.privateAnswerRateStr}}</span>{{?}} {{? it.namecard.lastAnswerTimeStr != null && it.namecard.lastAnswerTimeStr != \"\"}}<span class=\"item\">최근답변 {{=it.namecard.lastAnswerTimeStr}}</span>{{?}}\n",
       "\t\t\t\t\t</div>\n",
       "\t\t\t\t\t{{?}}\n",
       "\t\t\t\t\t<div class=\"badge_list\">\n",
       "\t\t\t\t\t\t<span class=\"badge level{{=it.namecard.levelOrder}}\">{{=it.namecard.currentLevelName}}</span>\n",
       "\t\t\t\t\t</div>\n",
       "\t\t\t\t</div>\n",
       "\t\t\t\t{{?}}\n",
       "\t\t\t</div>\n",
       "\t\t\t<div class=\"thumbnail_area\">\n",
       "\t\t\t\t<div class=\"thumbnail\">\n",
       "\t\t\t\t\t<img src=\"{{? it.namecard != null && it.namecard.kinUser}}https://ssl.pstatic.net/static/kin/09renewal/avatar/200x200_m_gray/answer_blue.png{{??}}https://ssl.pstatic.net/static/kin/09renewal/avatar/200x200_m_gray/answer.png{{?}}\" alt=\"프로필 사진\">\n",
       "\t\t\t\t</div>\n",
       "\t\t\t</div>\n",
       "\t\t</div>\n",
       "\t</div>\n",
       "</div>\n",
       "\t\t{{?? it.isKinIAnswer}}\n",
       "\t\t\n",
       "\n",
       "<div class=\"profile_card\">\n",
       "\t<div class=\"card_inner\">\n",
       "\t\t<div class=\"card_info\">\n",
       "\t\t\t<div class=\"profile_info\">\n",
       "\t\t\t\t<a href=\"/profile/index.naver?u={{=it.encodedUserKey}}\" class=\"name_area\" onclick=\"sendBaLog(BaPcEventType.QNA_DETAIL_5262, {dir_id:{{=it.dirId}}, doc_id:{{=it.docId}}, answer_no:{{=it.answerNo}}, item:'nickname'});\">\n",
       "\t\t\t\t\t<strong class=\"etc_text\">지식iN Ai를 통해 질문자가 가져온 답변입니다.</strong>\n",
       "\t\t\t\t</a>\n",
       "\t\t\t</div>\n",
       "\t\t\t<a href=\"/profile/index.naver?u={{=it.encodedUserKey}}\" target=\"_blank\"\n",
       "\t\t\t   onclick=\"naver.kin.pc.common.nClicks('end*a.profile', '', '', event);sendBaLog(BaPcEventType.QNA_DETAIL_5262, {dir_id:{{=it.dirId}}, doc_id:{{=it.docId}}, answer_no:{{=it.answerNo}}, item:'thumbnail'});\" class=\"thumbnail_area\">\n",
       "\t\t\t\t<div class=\"thumbnail\">\n",
       "\t\t\t\t\t<img src=\"https://ssl.pstatic.net/static/kin/09renewal/avatar/200x200_m_gray/ai.png\" alt=\"프로필 사진\">\n",
       "\t\t\t\t</div>\n",
       "\t\t\t</a>\n",
       "\t\t</div>\n",
       "\t</div>\n",
       "\t<div class=\"option_area\">\n",
       "\t\t<div class=\"tooltip_area\">\n",
       "\t\t\t<span class=\"text\">지식iN Ai추천 답변</span>\n",
       "\t\t\t<div class=\"tooltip_box\">\n",
       "\t\t\t\t<button type=\"button\" aria-expanded=\"true\" class=\"tooltip_button\"><i class=\"icon\">\n",
       "\t\t\t\t\t<svg xmlns=\"http://www.w3.org/2000/svg\" width=\"16\" height=\"16\" viewBox=\"0 0 16 16\">\n",
       "\t\t\t\t\t\t<g fill=\"none\" fill-rule=\"evenodd\">\n",
       "\t\t\t\t\t\t\t<circle stroke=\"#DADADA\" cx=\"8\" cy=\"8\" r=\"7.5\"></circle>\n",
       "\t\t\t\t\t\t\t<path d=\"M8.364 6.113c.238 0 .44-.079.609-.235a.749.749 0 0 0 .253-.57.756.756 0 0 0-.253-.57.857.857 0 0 0-.609-.238c-.237 0-.44.08-.61.237a.753.753 0 0 0-.255.572c0 .222.084.412.254.569a.87.87 0 0 0 .611.235zM7.74 11.42c.229 0 .43-.03.602-.09.173-.06.405-.147.695-.261l.096-.396c-.05.024-.13.05-.241.082-.112.03-.211.046-.3.046-.187 0-.319-.031-.395-.093-.076-.061-.114-.177-.114-.347 0-.067.012-.167.035-.299.024-.131.05-.249.08-.351l.36-1.279c.035-.117.059-.246.072-.387.013-.14.02-.238.02-.294a.839.839 0 0 0-.284-.657c-.189-.168-.457-.253-.806-.253-.193 0-.398.035-.615.104a9.156 9.156 0 0 0-.681.248l-.097.395c.07-.026.155-.054.253-.083.098-.03.194-.044.288-.044.19 0 .319.032.386.097.068.064.101.178.101.342 0 .091-.01.192-.033.301-.022.11-.049.227-.08.35L6.72 9.835a3.79 3.79 0 0 0-.07.363 2.314 2.314 0 0 0-.023.314c0 .263.098.48.293.652.194.172.468.257.82.257z\"\n",
       "\t\t\t\t\t\t\t\t  fill=\"#444\" fill-rule=\"nonzero\"></path>\n",
       "\t\t\t\t\t\t</g>\n",
       "\t\t\t\t\t</svg>\n",
       "\t\t\t\t</i>\n",
       "\t\t\t\t</button>\n",
       "\t\t\t\t<div class=\"tooltip_guide _tooltipComponent\" style=\"display: none\">\n",
       "\t\t\t\t\t<div class=\"tooltip_item\">지식iN Ai가 자동 추천한 답변입니다.<br>출처를 클릭하면 전체 내용을 확인할 수 있습니다.</div>\n",
       "\t\t\t\t\t<button type=\"button\" class=\"button_close\" onclick=\"$('div._tooltipComponent').hide();\"><i class=\"icon_close\"><span class=\"blind\">툴팁 닫기</span></i>\n",
       "\t\t\t\t\t</button>\n",
       "\t\t\t\t</div>\n",
       "\t\t\t</div>\n",
       "\t\t</div>\n",
       "\t</div>\n",
       "</div>\n",
       "\t\t{{?? it.isExpertAnswer}}\n",
       "\t\t\n",
       "\n",
       "<div class=\"profile_card\">\n",
       "\t<div class=\"card_inner card_theme_expert\">\n",
       "\t\t<div class=\"card_info\">\n",
       "\t\t\t<div class=\"profile_info\">\n",
       "\t\t\t\t<a href=\"/profile/index.naver?u=\" class=\"name_area\" onclick=\"naver.kin.pc.common.nClicks('end*a.expname', '', '', event);sendBaLog(BaPcEventType.QNA_DETAIL_5262, {dir_id:{{=it.dirId}}, doc_id:{{=it.docId}}, answer_no:{{=it.answerNo}}, item:'nickname'});\">\n",
       "\t\t\t\t\t<strong class=\"name\">{{=it.userText}}</strong>\n",
       "\t\t\t\t</a>\n",
       "\t\t\t\t<div class=\"item_area\">\n",
       "\t\t\t\t\t{{? (it.kinProfileCard != null && it.kinProfileCard.expertTotalAnswerCount != '') || it.pointGiftReceiveCount > 0}}\n",
       "\t\t\t\t\t<div class=\"item_list\">\n",
       "\t\t\t\t\t\t{{? it.kinProfileCard != null && it.kinProfileCard.expertTotalAnswerCount != ''}}<span class=\"item\">전문답변수 {{=it.kinProfileCard.expertTotalAnswerCount}}</span>{{?}} {{? it.pointGiftReceiveCount > 0}}<span class=\"item\">받은감사수 {{=it.pointGiftReceiveCount}}</span>{{?}}\n",
       "\t\t\t\t\t</div>\n",
       "\t\t\t\t\t{{?}}\n",
       "\t\t\t\t\t<div class=\"badge_list\">\n",
       "\t\t\t\t\t\t<span class=\"badge expert\">{{=it.detailExpertInfo.expertInfo.expertInfoWithOrganization.occupation}}</span>\n",
       "\t\t\t\t\t\t{{? it.namecard.heavyAnswerer}}<span class=\"badge heavy_answer\">열심답변자</span>{{?}}\n",
       "\t\t\t\t\t\t{{? it.namecard != null && it.namecard.counselor}}\n",
       "\t\t\t\t\t\t<span class=\"badge expert_blue\"><span class=\"blind\">eXpert</span>\n",
       "\t\t\t\t\t\t<svg xmlns=\"http://www.w3.org/2000/svg\" width=\"74\" height=\"23\" viewBox=\"0 0 71 23\">\n",
       "\t\t\t\t\t\t<g fill=\"#fff\" fill-rule=\"evenodd\">\n",
       "\t\t\t\t\t\t<path d=\"M33.091 6.118c-1.042 0-2.001.454-2.85 1.35-.851.899-1.283 1.962-1.283 3.16 0 1.199.432 2.262 1.283 3.16.849.897 1.808 1.351 2.85 1.351.993 0 1.896-.44 2.688-1.31.795-.875 1.198-1.952 1.198-3.2 0-1.25-.403-2.326-1.198-3.2-.792-.87-1.695-1.311-2.688-1.311m-4.425 16.095h-1.537a.291.291 0 0 1-.291-.292V4.66c0-.161.13-.292.291-.292h1.537c.161 0 .292.13.292.292v1.307c.1-.103.239-.235.418-.401.275-.254.578-.484.9-.683.324-.2.743-.381 1.247-.538a5.292 5.292 0 0 1 1.568-.237c1.595 0 3.011.647 4.208 1.925 1.193 1.274 1.8 2.82 1.8 4.596 0 1.775-.604 3.319-1.794 4.589-1.193 1.273-2.61 1.919-4.214 1.919a5.274 5.274 0 0 1-1.555-.231 5.362 5.362 0 0 1-1.261-.551 7.114 7.114 0 0 1-.882-.642 6.094 6.094 0 0 1-.435-.407v6.615c0 .161-.13.292-.292.292M2.65 9.568h7.84c-.154-.965-.575-1.78-1.25-2.421-.718-.683-1.596-1.03-2.61-1.03-1.013 0-1.91.363-2.665 1.079-.707.67-1.149 1.468-1.314 2.372m9.616 1.873H2.64c.105.783.724 3.699 4.114 3.699 2.024 0 3.27-1.285 3.72-1.853a.29.29 0 0 1 .433-.022l.974.973a.292.292 0 0 1 .022.388c-.502.638-2.224 2.51-5.15 2.51-1.699 0-3.183-.64-4.409-1.903C1.12 13.97.5 12.419.5 10.623c0-1.797.614-3.348 1.825-4.61C3.54 4.749 4.987 4.108 6.63 4.108c1.7 0 3.143.6 4.286 1.78 0 0 2.143 1.993 1.64 5.309a.291.291 0 0 1-.289.244M61.394 4.388V5.95c0 .16-.13.292-.292.292h-.651c-.996 0-1.859.35-2.564 1.039-.705.689-1.062 1.6-1.062 2.71v6.606c0 .161-.13.292-.292.292h-1.537a.292.292 0 0 1-.292-.292V4.66c0-.161.13-.292.292-.292h1.537c.161 0 .292.13.292.292v1.047c1.486-1.571 3.551-1.642 4.291-1.61a.292.292 0 0 1 .278.29M68.806 17.136c-1.09 0-1.96-.328-2.582-.976-.62-.646-.934-1.568-.934-2.74V6.365h-1.998A.292.292 0 0 1 63 6.073V4.66c0-.16.13-.292.292-.292h1.998V1.365c0-.161.131-.292.292-.292h1.537c.162 0 .293.13.293.292v3.003h2.37c.16 0 .291.131.291.292v1.413c0 .161-.13.292-.292.292h-2.37v7.055c0 1.173.468 1.72 1.472 1.72.627 0 1.172-.183 1.5-.323a.233.233 0 0 1 .322.216v1.425c0 .155-.09.294-.232.357-.298.13-.87.321-1.667.321M42.73 9.568h7.839c-.154-.965-.575-1.78-1.25-2.421-.719-.683-1.596-1.03-2.61-1.03-1.013 0-1.91.363-2.665 1.079-.707.67-1.15 1.468-1.314 2.372m9.616 1.873h-9.627c.105.783.724 3.699 4.114 3.699 2.024 0 3.27-1.285 3.72-1.853a.29.29 0 0 1 .433-.022l.974.973a.292.292 0 0 1 .022.388c-.502.638-2.224 2.51-5.15 2.51-1.7 0-3.183-.64-4.408-1.903-1.224-1.262-1.845-2.814-1.845-4.61 0-1.797.614-3.348 1.825-4.61 1.214-1.264 2.662-1.905 4.305-1.905 1.7 0 3.142.6 4.286 1.78 0 0 2.143 1.993 1.64 5.309a.291.291 0 0 1-.29.244M18.939 8.92l-5.68 7.5a.292.292 0 0 0 .234.469h1.757a.485.485 0 0 0 .387-.193l3.302-4.36 3.3 4.36a.486.486 0 0 0 .389.193h1.756a.292.292 0 0 0 .233-.468l-5.678-7.5z\"></path>\n",
       "\t\t\t\t\t\t<path d=\"M25.5.254L18.94 8.92l-3.302-4.359a.486.486 0 0 0-.387-.193h-1.757a.292.292 0 0 0-.233.469l5.679 7.5L27.879.528a.292.292 0 0 0-.233-.468h-1.757a.486.486 0 0 0-.388.193\"></path>\n",
       "\t\t\t\t\t\t</g></svg></span>\n",
       "\t\t\t\t\t\t{{?}}\n",
       "\t\t\t\t\t</div>\n",
       "\t\t\t\t</div>\n",
       "\t\t\t</div>\n",
       "\t\t\t<a href=\"/profile/index.naver?u={{=it.encodedUserKey}}\" class=\"thumbnail_area {{? it.namecard.heavyAnswerer}}level_heavy_answer{{?}}\"\n",
       "\t\t\t   target=\"_blank\" onclick=\"naver.kin.pc.common.nClicks('end*a.exppimg', '', '', event);sendBaLog(BaPcEventType.QNA_DETAIL_5262, {dir_id:{{=it.dirId}}, doc_id:{{=it.docId}}, answer_no:{{=it.answerNo}}, item:'thumbnail'});\">\n",
       "\t\t\t\t<div class=\"thumbnail\">\n",
       "\t\t\t\t\t<img src=\"{{=it.detailExpertInfo.expertInfo.expertInfoWithOrganization.kinProfileCardThumbnail}}\" alt=\"프로필 사진\">\n",
       "\t\t\t\t</div>\n",
       "\t\t\t\t{{? it.namecard.heavyAnswerer}}<span class=\"icon\"></span>{{?}}\n",
       "\t\t\t</a>\n",
       "\t\t</div>\n",
       "\t\t{{? it.hasAnyActivity}}\n",
       "\t\t<div class=\"career_list\">\n",
       "\t\t\t{{? it.detailExpertInfo.expertInfo.expertInfoWithOrganization.companyName != null &&\n",
       "\t\t\tit.detailExpertInfo.expertInfo.expertInfoWithOrganization.companyName != ''}}\n",
       "\t\t\t<div class=\"career_item\">\n",
       "\t\t\t\t<i class=\"icon\">\n",
       "\t\t\t\t\t<svg xmlns=\"http://www.w3.org/2000/svg\" width=\"22px\" height=\"22px\"\n",
       "\t\t\t\t\t\t viewBox=\"0 0 22 22\" version=\"1.1\">\n",
       "\t\t\t\t\t\t<g id=\"Icon/Certificatel/wt\" stroke=\"none\" stroke-width=\"1\" fill=\"none\" fill-rule=\"evenodd\">\n",
       "\t\t\t\t\t\t\t<path d=\"M10.8877261,3.32871697 C11.0096398,3.29042768 11.1403605,3.29042768 11.2622741,3.32871697 L11.2622741,3.32871697 L17.5122741,5.29164801 C17.7729041,5.3735038 17.9501729,5.61514463 17.9500001,5.88832652 L17.9500001,5.88832652 L17.9477942,9.37393207 C17.9477942,13.5697852 15.1718444,17.1998049 11.2372057,18.2777865 C11.1290145,18.3074279 11.0148398,18.3074041 10.906661,18.2777176 C6.97691877,17.1993163 4.20220601,13.5685145 4.20220613,9.37432756 L4.20220613,9.37432756 L4.20000013,5.88832652 C4.19982739,5.61514463 4.37709612,5.3735038 4.63772613,5.29164801 L4.63772613,5.29164801 Z M14.9940491,7.8903634 C14.6963087,7.60239899 14.2215011,7.61032404 13.9335367,7.90806449 L13.9335367,7.90806449 L10.1090001,11.862 L8.65959258,10.3625827 L8.57670219,10.2885659 C8.28678061,10.0658244 7.86976995,10.0830486 7.59908118,10.3448183 C7.30132354,10.6327649 7.29337014,11.107572 7.58131676,11.4053297 L7.58131676,11.4053297 L9.57034475,13.4621285 L9.65525485,13.5377048 C9.95237025,13.7644347 10.3805921,13.7392563 10.6485894,13.4621607 L10.6485894,13.4621607 L15.0117502,8.95087585 L15.0829544,8.86555723 C15.2958786,8.5683509 15.2647223,8.15214922 14.9940491,7.8903634 Z\"\n",
       "\t\t\t\t\t\t\t\t  id=\"Combined-Shape\" fill=\"#FFFFFF\" fill-rule=\"nonzero\"></path>\n",
       "\t\t\t\t\t\t</g>\n",
       "\t\t\t\t\t</svg>\n",
       "\t\t\t\t</i>\n",
       "\t\t\t\t<p>{{=it.detailExpertInfo.expertInfo.expertInfoWithOrganization.companyName}}</p>\n",
       "\t\t\t</div>\n",
       "\t\t\t{{?}}\n",
       "\t\t\t{{? it.kinProfilecard != null && it.kinProfileCard.activityContent != null }}\n",
       "\t\t\t<div class=\"career_item\">\n",
       "\t\t\t\t<i class=\"icon\">\n",
       "\t\t\t\t\t<svg xmlns=\"http://www.w3.org/2000/svg\" width=\"22px\" height=\"22px\"\n",
       "\t\t\t\t\t\t viewBox=\"0 0 22 22\" version=\"1.1\">\n",
       "\t\t\t\t\t\t<g id=\"Icon/FieldKIN/wt\" stroke=\"none\" stroke-width=\"1\" fill=\"none\" fill-rule=\"evenodd\">\n",
       "\t\t\t\t\t\t\t<rect id=\"Rectangle\" fill=\"#D8D8D8\" opacity=\"0\" x=\"0\" y=\"0\" width=\"22\" height=\"21\"></rect>\n",
       "\t\t\t\t\t\t\t<path d=\"M8.83651632,6.49659107 C9.21111444,5.58050139 10.5114436,5.58050139 10.8858264,6.49659107 C11.877435,8.92177493 13.1095184,10.1536314 15.5351489,11.1450574 C16.4514073,11.5193713 16.4514073,12.819461 15.5351489,13.1939902 C13.1095184,14.1854162 11.877435,15.4172727 10.8858264,17.8424565 C10.5114436,18.7585462 9.21111444,18.7585462 8.83651632,17.8424565 C7.84490771,15.4172727 6.61282433,14.1854162 4.18719381,13.1939902 C3.2709354,12.8196763 3.2709354,11.5195866 4.18719381,11.1450574 C6.61282433,10.1536314 7.84490771,8.92177493 8.83651632,6.49659107 Z M16.7882534,2.27590954 C16.9237134,1.90803015 17.4386776,1.90803015 17.5740026,2.27590954 C18.1127364,3.73986144 18.7605946,4.38793982 20.2241842,4.92699187 C20.5919386,5.06249794 20.5919386,5.57750206 20.2241842,5.71300813 C18.7607297,6.25192508 18.1128715,6.90000346 17.5740026,8.36409046 C17.4385426,8.73196985 16.9237134,8.73196985 16.7882534,8.36409046 C16.2495195,6.90013856 15.6016613,6.25206018 14.1380718,5.71300813 C13.7703174,5.57750206 13.7703174,5.06249794 14.1380718,4.92699187 C15.6015263,4.38807492 16.2493845,3.73999654 16.7882534,2.27590954 Z\"\n",
       "\t\t\t\t\t\t\t\t  id=\"Combined-Shape\" fill=\"#FFFFFF\" fill-rule=\"nonzero\"></path>\n",
       "\t\t\t\t\t\t</g>\n",
       "\t\t\t\t\t</svg>\n",
       "\t\t\t\t</i>\n",
       "\t\t\t\t<p>{{=it.kinProfileCard.activityContent.contents}}</p>\n",
       "\t\t\t</div>\n",
       "\t\t\t{{?}}\n",
       "\t\t</div>\n",
       "\t\t{{?}}\n",
       "\t</div>\n",
       "\t<div class=\"option_area\">\n",
       "\t\t<div class=\"tooltip_area\">\n",
       "\t\t\t<span class=\"text\">본인 입력 포함 정보</span>\n",
       "\t\t\t<div class=\"tooltip_box\">\n",
       "\t\t\t\t<button type=\"button\" aria-expanded=\"true\" class=\"tooltip_button\" onclick=\"naver.kin.pc.common.nClicks('end*a.expcardtip', '', '', event);\"><i class=\"icon\">\n",
       "\t\t\t\t\t<svg xmlns=\"http://www.w3.org/2000/svg\" width=\"16\" height=\"16\" viewBox=\"0 0 16 16\">\n",
       "\t\t\t\t\t\t<g fill=\"none\" fill-rule=\"evenodd\">\n",
       "\t\t\t\t\t\t\t<circle stroke=\"#DADADA\" cx=\"8\" cy=\"8\" r=\"7.5\"></circle>\n",
       "\t\t\t\t\t\t\t<path d=\"M8.364 6.113c.238 0 .44-.079.609-.235a.749.749 0 0 0 .253-.57.756.756 0 0 0-.253-.57.857.857 0 0 0-.609-.238c-.237 0-.44.08-.61.237a.753.753 0 0 0-.255.572c0 .222.084.412.254.569a.87.87 0 0 0 .611.235zM7.74 11.42c.229 0 .43-.03.602-.09.173-.06.405-.147.695-.261l.096-.396c-.05.024-.13.05-.241.082-.112.03-.211.046-.3.046-.187 0-.319-.031-.395-.093-.076-.061-.114-.177-.114-.347 0-.067.012-.167.035-.299.024-.131.05-.249.08-.351l.36-1.279c.035-.117.059-.246.072-.387.013-.14.02-.238.02-.294a.839.839 0 0 0-.284-.657c-.189-.168-.457-.253-.806-.253-.193 0-.398.035-.615.104a9.156 9.156 0 0 0-.681.248l-.097.395c.07-.026.155-.054.253-.083.098-.03.194-.044.288-.044.19 0 .319.032.386.097.068.064.101.178.101.342 0 .091-.01.192-.033.301-.022.11-.049.227-.08.35L6.72 9.835a3.79 3.79 0 0 0-.07.363 2.314 2.314 0 0 0-.023.314c0 .263.098.48.293.652.194.172.468.257.82.257z\"\n",
       "\t\t\t\t\t\t\t\t  fill=\"#444\" fill-rule=\"nonzero\"></path>\n",
       "\t\t\t\t\t\t</g>\n",
       "\t\t\t\t\t</svg>\n",
       "\t\t\t\t</i></button>\n",
       "\t\t\t\t<div class=\"tooltip_guide _tooltipComponent\" style=\"display: none;\">\n",
       "\t\t\t\t\t<div class=\"tooltip_item\">지식iN 서비스 질문 답변 페이지 및 프로필의 답변자 정보에 노출되는 답변자의 소속 정보는 소속 단체를 통해 입력된 정보입니다.</div>\n",
       "\t\t\t\t\t<div class=\"tooltip_item\">네이버는 사용자가 등록한 정보 및 게시물을 제공하는 정보매개 서비스 제공자로서 해당 정보의 정확성, 신뢰성 및 최신성에 대해 보증하지 않습니다.</div>\n",
       "\t\t\t\t\t<button type=\"button\" class=\"button_close\" onclick=\"$('div._tooltipComponent').hide();\"><i class=\"icon_close\"><span class=\"blind\">툴팁 닫기</span></i>\n",
       "\t\t\t\t\t</button>\n",
       "\t\t\t\t</div>\n",
       "\t\t\t</div>\n",
       "\t\t</div>\n",
       "\t</div>\n",
       "</div>\n",
       "\n",
       "\t\t{{?? it.isPartnerAnswer}}\n",
       "\t\t\n",
       "\n",
       "<div class=\"profile_card\">\n",
       "\t<div class=\"card_inner\">\n",
       "\t\t<div class=\"card_info\">\n",
       "\t\t\t<div class=\"profile_info\">\n",
       "\t\t\t\t<a href=\"/profile/index.naver?u={{=it.encodedUserKey}}\" class=\"name_area\" onclick=\"naver.kin.pc.common.nClicks('end*a.ptnname', '', '', event);sendBaLog(BaPcEventType.QNA_DETAIL_5262, {dir_id:{{=it.dirId}}, doc_id:{{=it.docId}}, answer_no:{{=it.answerNo}}, item:'nickname'});\">\n",
       "\t\t\t\t\t<strong class=\"etc_text\">{{=it.userText}}</strong>\n",
       "\t\t\t\t</a>\n",
       "\t\t\t\t<div class=\"item_area\">\n",
       "\t\t\t\t\t{{? it.kinProfileCard != null && it.kinProfileCard.bestAnswerCount != null && it.kinProfileCard.bestAnswerCount != ''}}\n",
       "\t\t\t\t\t\t<div class=\"item_list\">\n",
       "\t\t\t\t\t\t\t<span class=\"item\">채택답변수 {{=it.kinProfileCard.bestAnswerCount}}</span>\n",
       "\t\t\t\t\t\t</div>\n",
       "\t\t\t\t\t{{?}}\n",
       "\t\t\t\t\t<div class=\"badge_list\">\n",
       "\t\t\t\t\t\t<span class=\"badge partner\">지식파트너</span>\n",
       "\t\t\t\t\t\t{{? it.namecard.heavyAnswerer}}\n",
       "\t\t\t\t\t\t<span class=\"badge heavy_answer\">열심답변자</span>\n",
       "\t\t\t\t\t\t{{?}}\n",
       "\t\t\t\t\t</div>\n",
       "\t\t\t\t</div>\n",
       "\t\t\t</div>\n",
       "\t\t\t<a href=\"/profile/index.naver?u={{=it.encodedUserKey}}\" target=\"_blank\"\n",
       "\t\t\t   onclick=\"naver.kin.pc.common.nClicks('end*a.ptnpimg', '', '', event);sendBaLog(BaPcEventType.QNA_DETAIL_5262, {dir_id:{{=it.dirId}}, doc_id:{{=it.docId}}, answer_no:{{=it.answerNo}}, item:'thumbnail'});\" class=\"thumbnail_area {{? it.namecard.heavyAnswerer}}level_heavy_answer{{?}}\">\n",
       "\t\t\t\t<div class=\"thumbnail\">\n",
       "\t\t\t\t\t<img src=\"{{? it.namecard != null && it.namecard.thumbnailUrl != null && it.namecard.thumbnailUrl != '' && it.namecard.photoType != 'avatar'}}{{=it.namecard.thumbnailUrl}}{{??}}https://ssl.pstatic.net/static/kin/09renewal/avatar/200x200_m_gray/answer.png{{?}}\"\n",
       "\t\t\t\t\t\t alt=\"프로필 사진\">\n",
       "\t\t\t\t</div>\n",
       "\t\t\t\t{{? it.namecard.heavyAnswerer}}<span class=\"icon\"></span>{{?}}\n",
       "\t\t\t</a>\n",
       "\t\t</div>\n",
       "\t\t{{? it.kinProfileCard != null && (it.kinProfileCard.activityContent || it.kinProfileCard.activeDirectoryContents != null)}}\n",
       "\t\t<div class=\"career_list\">\n",
       "\t\t\t{{? it.kinProfileCard != null && it.kinProfileCard.activityContent}}\n",
       "\t\t\t<div class=\"career_item\">\n",
       "\t\t\t\t<i class=\"icon\">\n",
       "\t\t\t\t\t<svg xmlns=\"http://www.w3.org/2000/svg\" width=\"22px\" height=\"22px\"\n",
       "\t\t\t\t\t\t viewBox=\"0 0 22 22\" version=\"1.1\">\n",
       "\t\t\t\t\t\t<g id=\"Icon/FieldKIN/wt\" stroke=\"none\" stroke-width=\"1\" fill=\"none\" fill-rule=\"evenodd\">\n",
       "\t\t\t\t\t\t\t<rect id=\"Rectangle\" fill=\"#D8D8D8\" opacity=\"0\" x=\"0\" y=\"0\" width=\"22\" height=\"21\"></rect>\n",
       "\t\t\t\t\t\t\t<path d=\"M8.83651632,6.49659107 C9.21111444,5.58050139 10.5114436,5.58050139 10.8858264,6.49659107 C11.877435,8.92177493 13.1095184,10.1536314 15.5351489,11.1450574 C16.4514073,11.5193713 16.4514073,12.819461 15.5351489,13.1939902 C13.1095184,14.1854162 11.877435,15.4172727 10.8858264,17.8424565 C10.5114436,18.7585462 9.21111444,18.7585462 8.83651632,17.8424565 C7.84490771,15.4172727 6.61282433,14.1854162 4.18719381,13.1939902 C3.2709354,12.8196763 3.2709354,11.5195866 4.18719381,11.1450574 C6.61282433,10.1536314 7.84490771,8.92177493 8.83651632,6.49659107 Z M16.7882534,2.27590954 C16.9237134,1.90803015 17.4386776,1.90803015 17.5740026,2.27590954 C18.1127364,3.73986144 18.7605946,4.38793982 20.2241842,4.92699187 C20.5919386,5.06249794 20.5919386,5.57750206 20.2241842,5.71300813 C18.7607297,6.25192508 18.1128715,6.90000346 17.5740026,8.36409046 C17.4385426,8.73196985 16.9237134,8.73196985 16.7882534,8.36409046 C16.2495195,6.90013856 15.6016613,6.25206018 14.1380718,5.71300813 C13.7703174,5.57750206 13.7703174,5.06249794 14.1380718,4.92699187 C15.6015263,4.38807492 16.2493845,3.73999654 16.7882534,2.27590954 Z\"\n",
       "\t\t\t\t\t\t\t\t  id=\"Combined-Shape\" fill=\"#FFFFFF\" fill-rule=\"nonzero\"></path>\n",
       "\t\t\t\t\t\t</g>\n",
       "\t\t\t\t\t</svg>\n",
       "\t\t\t\t</i>\n",
       "\t\t\t\t<p>{{=it.kinProfileCard.activityContent.contents}}</p>\n",
       "\t\t\t</div>\n",
       "\t\t\t{{?}}\n",
       "\t\t\t{{? it.kinProfileCard != null && it.kinProfileCard.activeDirectoryContents != null}}\n",
       "\t\t\t<div class=\"career_item\">\n",
       "\t\t\t<i class=\"icon\"><svg xmlns=\"http://www.w3.org/2000/svg\" width=\"20\" height=\"20\" viewBox=\"0 0 20 20\" fill=\"none\">\n",
       "\t\t\t\t<path fill-rule=\"evenodd\" clip-rule=\"evenodd\" d=\"M16.818 10a6.818 6.818 0 0 1-6.965 6.816h.002-1.883c-1.042.003-2.824.002-3.883.002a.5.5 0 0 1-.432-.75l1.034-1.79A6.818 6.818 0 1 1 16.818 10zm-6.75-3.636c.256 0 .47.11.615.311l.057.092 2.423 5.287a.754.754 0 0 1 .069.298.648.648 0 0 1-1.173.384l-.061-.09-.042-.083-.526-1.157H8.638l-.52 1.163a.697.697 0 0 1-.248.316l-.087.05-.096.038-.099.02-.093.007a.63.63 0 0 1-.616-.78l.02-.076.036-.089 2.38-5.205c.112-.243.285-.402.518-.462l.104-.019.098-.005h.034zm-.033 1.912-.84 1.867h1.679l-.84-1.867z\" fill=\"#fff\"></path>\n",
       "\t\t\t</svg>\n",
       "\t\t\t</i>\n",
       "\t\t\t<p class=\"ell2\">{{=it.kinProfileCard.activeDirectoryContents}}</p>\n",
       "\t\t\t</div>\n",
       "\t\t\t{{?}}\n",
       "\t\t</div>\n",
       "\t\t{{?}}\n",
       "\t</div>\n",
       "\t<div class=\"option_area\">\n",
       "\t\t<div class=\"tooltip_area\">\n",
       "\t\t</div>\n",
       "\t\t<a href=\"/profile/index.naver?u={{=it.encodedUserKey}}\" target=\"_blank\"\n",
       "\t\t   onclick=\"naver.kin.pc.common.nClicks('end*a.ptnprofilemore', '', '', event);sendBaLog(BaPcEventType.QNA_DETAIL_5262, {dir_id:{{=it.dirId}}, doc_id:{{=it.docId}}, answer_no:{{=it.answerNo}}, item:'more'});\" class=\"profile_link\">프로필 더보기\n",
       "\t\t\t<svg xmlns=\"http://www.w3.org/2000/svg\" fill=\"none\" width=\"16\" height=\"16\" viewBox=\"0 0 16 16\">\n",
       "\t\t\t\t<path fill=\"#4a65f6\"\n",
       "\t\t\t\t\t  d=\"M7.445 6.167l1.053 1.034H5.592a.792.792 0 0 0-.792.791v.016c0 .437.355.791.792.791h2.785l-.017.104-.89.899c-.282.283-.35.737-.118 1.061a.79.79 0 0 0 1.209.102l2.406-2.428a.804.804 0 0 0 0-1.132l-2.4-2.37a.788.788 0 0 0-1.122 0 .806.806 0 0 0 0 1.132\" />\n",
       "\t\t\t\t<circle cx=\"8\" cy=\"8\" r=\"7.2\" stroke=\"#4a65f6\" stroke-width=\"1.5\" />\n",
       "\t\t\t</svg></a>\n",
       "\t</div>\n",
       "</div>\n",
       "\n",
       "\t\t{{?? it.isCafeAnswer}}\n",
       "\t\t\n",
       "\n",
       "<div class=\"profile_card\">\n",
       "\t<div class=\"card_inner\">\n",
       "\t\t<div class=\"card_info\">\n",
       "\t\t\t<div class=\"profile_info\">\n",
       "\t\t\t\t<a href=\"{{=it.namecard.bannerUrl}}\" class=\"name_area\" onclick=\"naver.kin.pc.common.nClicks('end*a.cafname', '', '', event);sendBaLog(BaPcEventType.QNA_DETAIL_5262, {dir_id:{{=it.dirId}}, doc_id:{{=it.docId}}, answer_no:{{=it.answerNo}}, item:'nickname'});\">\n",
       "\t\t\t\t\t{{? it.namecard != null && it.namecard.error}}\n",
       "\t\t\t\t\t<strong class=\"name\">카페 서비스 점검으로 프로필 정보를 불러올 수 없습니다.</strong>\n",
       "\t\t\t\t\t{{?? it.namecard != null && it.namecard.cafeValid == false}}\n",
       "\t\t\t\t\t<strong class=\"name\">현재 공개되어 있지 않은 카페에서 작성된 답변입니다.</strong>\n",
       "\t\t\t\t\t{{??}}\n",
       "\t\t\t\t\t<strong class=\"name\">{{=it.namecard.userName}} 카페 답변</strong>\n",
       "\t\t\t\t\t{{?}}\n",
       "\t\t\t\t</a>\n",
       "\t\t\t\t<div class=\"item_area\">\n",
       "\t\t\t\t\t<div class=\"item_list\">\n",
       "\t\t\t\t\t\t{{? it.namecard.formattedTotalCafeAnswer != null && it.namecard.formattedTotalCafeAnswer != '0'}}<span class=\"item\">카페답변수 {{=it.namecard.formattedTotalCafeAnswer}}</span>{{?}} {{? it.userText != null && it.userText != ''}}<span class=\"item\">{{=it.userText}}</span>{{?}}\n",
       "\t\t\t\t\t</div>\n",
       "\t\t\t\t\t<div class=\"badge_list\">\n",
       "\t\t\t\t\t\t<span class=\"badge cafe\">지식카페</span>\n",
       "\t\t\t\t\t</div>\n",
       "\t\t\t\t</div>\n",
       "\t\t\t</div>\n",
       "\t\t\t<a href=\"{{=it.namecard.bannerUrl}}\" target=\"_blank\" class=\"thumbnail_area\"\n",
       "\t\t\t   onclick=\"naver.kin.pc.common.nClicks('end*a.cafpimg', '', '', event);sendBaLog(BaPcEventType.QNA_DETAIL_5262, {dir_id:{{=it.dirId}}, doc_id:{{=it.docId}}, answer_no:{{=it.answerNo}}, item:'thumbnail'});\">\n",
       "\t\t\t\t<div class=\"thumbnail\">\n",
       "\t\t\t\t\t{{? it.namecard.thumbnailUrl == null || it.namecard.thumbnailUrl == ''}}\n",
       "\t\t\t\t\t<img src=\"https://ssl.pstatic.net/static/kin/m/n_kin/thum_kin_cafe.jpg\" alt=\"프로필 사진\">\n",
       "\t\t\t\t\t{{??}}\n",
       "\t\t\t\t\t<img src=\"{{=it.namecard.thumbnailUrl}}\" alt=\"프로필 사진\">\n",
       "\t\t\t\t\t{{?}}\n",
       "\t\t\t\t</div>\n",
       "\t\t\t</a>\n",
       "\t\t</div>\n",
       "\t</div>\n",
       "\t<div class=\"option_area\">\n",
       "\t\t<div class=\"tooltip_area\">\n",
       "\t\t</div>\n",
       "\t\t<a href=\"/profile/index.naver?u={{=it.encodedUserKey}}\" target=\"_blank\"\n",
       "\t\t   onclick=\"naver.kin.pc.common.nClicks('end*a.cafprofilemore', '', '', event);sendBaLog(BaPcEventType.QNA_DETAIL_5262, {dir_id:{{=it.dirId}}, doc_id:{{=it.docId}}, answer_no:{{=it.answerNo}}, item:'more'});\" class=\"profile_link\">프로필 더보기\n",
       "\t\t\t<svg xmlns=\"http://www.w3.org/2000/svg\" fill=\"none\" width=\"16\" height=\"16\" viewBox=\"0 0 16 16\">\n",
       "\t\t\t\t<path fill=\"#4a65f6\"\n",
       "\t\t\t\t\t  d=\"M7.445 6.167l1.053 1.034H5.592a.792.792 0 0 0-.792.791v.016c0 .437.355.791.792.791h2.785l-.017.104-.89.899c-.282.283-.35.737-.118 1.061a.79.79 0 0 0 1.209.102l2.406-2.428a.804.804 0 0 0 0-1.132l-2.4-2.37a.788.788 0 0 0-1.122 0 .806.806 0 0 0 0 1.132\" />\n",
       "\t\t\t\t<circle cx=\"8\" cy=\"8\" r=\"7.2\" stroke=\"#4a65f6\" stroke-width=\"1.5\" />\n",
       "\t\t\t</svg></a>\n",
       "\t</div>\n",
       "</div>\n",
       "\t\t{{??}}\n",
       "\t\t\n",
       "\n",
       "{{var careerCount = 0;}}\n",
       "\n",
       "{{? it.isSinmungoDirectory}}\n",
       "<div class=\"profile_card\">\n",
       "\t<div class=\"card_inner\">\n",
       "\t\t<div class=\"card_info\">\n",
       "\t\t\t<div class=\"profile_info\">\n",
       "\t\t\t\t<a href=\"/profile/index.naver?u={{=it.encodedUserKey}}\" class=\"name_area\">\n",
       "\t\t\t\t\t<strong class=\"etc_text\">{{=it.userText}}</strong>\n",
       "\t\t\t\t</a>\n",
       "\t\t\t\t<div class=\"item_area\">\n",
       "\t\t\t\t\t{{? it.kinProfileCard != null && it.kinProfileCard.bestAnswerCount != ''}}\n",
       "\t\t\t\t\t\t<div class=\"item_list\">\n",
       "\t\t\t\t\t\t\t<span class=\"item\">채택답변수 {{=it.kinProfileCard.bestAnswerCount}}</span>\n",
       "\t\t\t\t\t\t</div>\n",
       "\t\t\t\t\t{{?}}\n",
       "\t\t\t\t\t<div class=\"badge_list\">\n",
       "\t\t\t\t\t\t<span class=\"badge partner\">지식파트너</span>\n",
       "\t\t\t\t\t\t{{? it.namecard.heavyAnswerer}}\n",
       "\t\t\t\t\t\t<span class=\"badge heavy_answer\">열심답변자</span>\n",
       "\t\t\t\t\t\t{{?}}\n",
       "\t\t\t\t\t</div>\n",
       "\t\t\t\t</div>\n",
       "\t\t\t</div>\n",
       "\t\t\t<a href=\"/profile/index.naver?u={{=it.encodedUserKey}}\" class=\"thumbnail_area\"\n",
       "\t\t\t   target=\"_blank\" onclick=\"naver.kin.pc.common.nClicks('end*a.profile', '', '', event);sendBaLog(BaPcEventType.QNA_DETAIL_5262, {dir_id:{{=it.dirId}}, doc_id:{{=it.docId}}, answer_no:{{=it.answerNo}}, item:'thumbnail'});\">\n",
       "\t\t\t\t<div class=\"thumbnail\">\n",
       "\t\t\t\t\t<img src=\"https://ssl.pstatic.net/static/kin/09renewal/avatar/200x200_m_gray/answer.png\" alt=\"프로필 사진\">\n",
       "\t\t\t\t</div>\n",
       "\t\t\t\t{{? it.namecard.heavyAnswerer}}<span class=\"icon\"></span>{{?}}\n",
       "\t\t\t</a>\n",
       "\t\t</div>\n",
       "\t\t{{? it.kinProfileCard.hasAnyActivity}}\n",
       "\t\t<div class=\"career_list\">\n",
       "\t\t\t{{? it.kinProfileCard != null && it.kinProfileCard.activityContent != null}}\n",
       "\t\t\t<div class=\"career_item\">\n",
       "\t\t\t\t<i class=\"icon\">\n",
       "\t\t\t\t\t<svg xmlns=\"http://www.w3.org/2000/svg\" width=\"22px\" height=\"22px\"\n",
       "\t\t\t\t\t\t viewBox=\"0 0 22 22\" version=\"1.1\">\n",
       "\t\t\t\t\t\t<g id=\"Icon/FieldKIN/wt\" stroke=\"none\" stroke-width=\"1\" fill=\"none\" fill-rule=\"evenodd\">\n",
       "\t\t\t\t\t\t\t<rect id=\"Rectangle\" fill=\"#D8D8D8\" opacity=\"0\" x=\"0\" y=\"0\" width=\"22\" height=\"21\"></rect>\n",
       "\t\t\t\t\t\t\t<path d=\"M8.83651632,6.49659107 C9.21111444,5.58050139 10.5114436,5.58050139 10.8858264,6.49659107 C11.877435,8.92177493 13.1095184,10.1536314 15.5351489,11.1450574 C16.4514073,11.5193713 16.4514073,12.819461 15.5351489,13.1939902 C13.1095184,14.1854162 11.877435,15.4172727 10.8858264,17.8424565 C10.5114436,18.7585462 9.21111444,18.7585462 8.83651632,17.8424565 C7.84490771,15.4172727 6.61282433,14.1854162 4.18719381,13.1939902 C3.2709354,12.8196763 3.2709354,11.5195866 4.18719381,11.1450574 C6.61282433,10.1536314 7.84490771,8.92177493 8.83651632,6.49659107 Z M16.7882534,2.27590954 C16.9237134,1.90803015 17.4386776,1.90803015 17.5740026,2.27590954 C18.1127364,3.73986144 18.7605946,4.38793982 20.2241842,4.92699187 C20.5919386,5.06249794 20.5919386,5.57750206 20.2241842,5.71300813 C18.7607297,6.25192508 18.1128715,6.90000346 17.5740026,8.36409046 C17.4385426,8.73196985 16.9237134,8.73196985 16.7882534,8.36409046 C16.2495195,6.90013856 15.6016613,6.25206018 14.1380718,5.71300813 C13.7703174,5.57750206 13.7703174,5.06249794 14.1380718,4.92699187 C15.6015263,4.38807492 16.2493845,3.73999654 16.7882534,2.27590954 Z\"\n",
       "\t\t\t\t\t\t\t\t  id=\"Combined-Shape\" fill=\"#FFFFFF\" fill-rule=\"nonzero\"></path>\n",
       "\t\t\t\t\t\t</g>\n",
       "\t\t\t\t\t</svg>\n",
       "\t\t\t\t</i>\n",
       "\t\t\t\t<p>{{=it.kinProfileCard.activityContent.contents}}</p>\n",
       "\t\t\t</div>\n",
       "\t\t\t{{?}}\n",
       "\t\t</div>\n",
       "\t\t{{?}}\n",
       "\t</div>\n",
       "\t<div class=\"option_area\">\n",
       "\t\t<div class=\"tooltip_area\">\n",
       "\t\t\t<span class=\"text\">본인 입력 포함 정보</span>\n",
       "\t\t\t<div class=\"tooltip_box\">\n",
       "\t\t\t\t<button type=\"button\" aria-expanded=\"true\" class=\"tooltip_button\"><i class=\"icon\">\n",
       "\t\t\t\t\t<svg xmlns=\"http://www.w3.org/2000/svg\" width=\"16\" height=\"16\" viewBox=\"0 0 16 16\">\n",
       "\t\t\t\t\t\t<g fill=\"none\" fill-rule=\"evenodd\">\n",
       "\t\t\t\t\t\t\t<circle stroke=\"#DADADA\" cx=\"8\" cy=\"8\" r=\"7.5\"></circle>\n",
       "\t\t\t\t\t\t\t<path d=\"M8.364 6.113c.238 0 .44-.079.609-.235a.749.749 0 0 0 .253-.57.756.756 0 0 0-.253-.57.857.857 0 0 0-.609-.238c-.237 0-.44.08-.61.237a.753.753 0 0 0-.255.572c0 .222.084.412.254.569a.87.87 0 0 0 .611.235zM7.74 11.42c.229 0 .43-.03.602-.09.173-.06.405-.147.695-.261l.096-.396c-.05.024-.13.05-.241.082-.112.03-.211.046-.3.046-.187 0-.319-.031-.395-.093-.076-.061-.114-.177-.114-.347 0-.067.012-.167.035-.299.024-.131.05-.249.08-.351l.36-1.279c.035-.117.059-.246.072-.387.013-.14.02-.238.02-.294a.839.839 0 0 0-.284-.657c-.189-.168-.457-.253-.806-.253-.193 0-.398.035-.615.104a9.156 9.156 0 0 0-.681.248l-.097.395c.07-.026.155-.054.253-.083.098-.03.194-.044.288-.044.19 0 .319.032.386.097.068.064.101.178.101.342 0 .091-.01.192-.033.301-.022.11-.049.227-.08.35L6.72 9.835a3.79 3.79 0 0 0-.07.363 2.314 2.314 0 0 0-.023.314c0 .263.098.48.293.652.194.172.468.257.82.257z\"\n",
       "\t\t\t\t\t\t\t\t  fill=\"#444\" fill-rule=\"nonzero\"></path>\n",
       "\t\t\t\t\t\t</g>\n",
       "\t\t\t\t\t</svg>\n",
       "\t\t\t\t</i></button>\n",
       "\t\t\t\t<div class=\"tooltip_guide _tooltipComponent\" style=\"display: none;\">\n",
       "\t\t\t\t\t<div class=\"tooltip_item\">지식iN 서비스 질문 답변 페이지 및 프로필의 답변자 정보에 노출되는 답변자의 소속 정보는 소속 단체를 통해 입력된 정보입니다.</div>\n",
       "\t\t\t\t\t<div class=\"tooltip_item\">네이버는 사용자가 등록한 정보 및 게시물을 제공하는 정보매개 서비스 제공자로서 해당 정보의 정확성, 신뢰성 및 최신성에 대해 보증하지 않습니다.</div>\n",
       "\t\t\t\t\t<button type=\"button\" class=\"button_close\" onclick=\"$('div._tooltipComponent').hide();\"><i class=\"icon_close\"><span\n",
       "\t\t\t\t\t\t\tclass=\"blind\">툴팁 닫기</span></i>\n",
       "\t\t\t\t\t</button>\n",
       "\t\t\t\t</div>\n",
       "\t\t\t</div>\n",
       "\t\t</div>\n",
       "\t\t<a href=\"/profile/index.naver?u={{=it.encodedUserKey}}\" target=\"_blank\"\n",
       "\t\t   onclick=\"naver.kin.pc.common.nClicks('end*a.profile', '', '', event);sendBaLog(BaPcEventType.QNA_DETAIL_5262, {dir_id:{{=it.dirId}}, doc_id:{{=it.docId}}, answer_no:{{=it.answerNo}}, item:'more'});\" class=\"profile_link\">프로필 더보기 <svg xmlns=\"http://www.w3.org/2000/svg\" fill=\"none\" width=\"16\" height=\"16\" viewBox=\"0 0 16 16\">\n",
       "\t\t\t<path fill=\"#4a65f6\"\n",
       "\t\t\t\t  d=\"M7.445 6.167l1.053 1.034H5.592a.792.792 0 0 0-.792.791v.016c0 .437.355.791.792.791h2.785l-.017.104-.89.899c-.282.283-.35.737-.118 1.061a.79.79 0 0 0 1.209.102l2.406-2.428a.804.804 0 0 0 0-1.132l-2.4-2.37a.788.788 0 0 0-1.122 0 .806.806 0 0 0 0 1.132\" />\n",
       "\t\t\t<circle cx=\"8\" cy=\"8\" r=\"7.2\" stroke=\"#4a65f6\" stroke-width=\"1.5\" />\n",
       "\t\t</svg></a>\n",
       "\t</div>\n",
       "</div>\n",
       "{{?? it.isWebHelpDirectory}}\n",
       "<div class=\"profile_card\">\n",
       "\t<div class=\"card_inner\">\n",
       "\t\t<div class=\"card_info\">\n",
       "\t\t\t<div class=\"profile_info\">\n",
       "\t\t\t\t<div class=\"name_area\"><strong class=\"etc_text\">{{=it.userText}}</strong></div>\n",
       "\t\t\t</div>\n",
       "\t\t\t<a href=\"https://help.naver.com\" class=\"thumbnail_area\"\n",
       "\t\t\t   onclick=\"naver.kin.pc.common.nClicks('end*a.profile', '', '', event);sendBaLog(BaPcEventType.QNA_DETAIL_5262, {dir_id:{{=it.dirId}}, doc_id:{{=it.docId}}, answer_no:{{=it.answerNo}}, item:'thumbnail'});\" target=\"_blank\">\n",
       "\t\t\t\t<div class=\"thumbnail\">\n",
       "\t\t\t\t\t<img src=\"https://ssl.pstatic.net/static/kin/09renewal/avatar/200x200_m_gray/answer.png\" alt=\"프로필 사진\">\n",
       "\t\t\t\t</div>\n",
       "\t\t\t</a>\n",
       "\t\t</div>\n",
       "\t</div>\n",
       "</div>\n",
       "\n",
       "{{?? it.pastExpertAnswer}}\n",
       "<div class=\"profile_card\">\n",
       "\t<div class=\"card_inner\">\n",
       "\t\t<div class=\"card_info\">\n",
       "\t\t\t<div class=\"profile_info\">\n",
       "\t\t\t\t<div class=\"name_area\">\n",
       "\t\t\t\t\t<strong class=\"etc_text\">활동하지 않는 전문가의 답변입니다.</strong>\n",
       "\t\t\t\t</div>\n",
       "\t\t\t</div>\n",
       "\t\t\t<div class=\"thumbnail_area\">\n",
       "\t\t\t\t<div class=\"thumbnail\">\n",
       "\t\t\t\t\t<img src=\"https://ssl.pstatic.net/static/kin/09renewal/avatar/200x200_m_gray/answer.png\" alt=\"프로필 사진\">\n",
       "\t\t\t\t</div>\n",
       "\t\t\t</div>\n",
       "\t\t</div>\n",
       "\t</div>\n",
       "</div>\n",
       "\n",
       "{{?? it.namecard == null}}\n",
       "<div class=\"profile_card\">\n",
       "\t<div class=\"card_inner\">\n",
       "\t\t<div class=\"card_info\">\n",
       "\t\t\t<div class=\"profile_info\">\n",
       "\t\t\t\t<div class=\"name_area\">\n",
       "\t\t\t\t\t<strong class=\"etc_text\">탈퇴한 사용자의 답변입니다.</strong>\n",
       "\t\t\t\t</div>\n",
       "\t\t\t</div>\n",
       "\t\t\t<div class=\"thumbnail_area\">\n",
       "\t\t\t\t<div class=\"thumbnail\">\n",
       "\t\t\t\t\t<img src=\"https://ssl.pstatic.net/static/kin/09renewal/avatar/200x200_m_gray/answer.png\" alt=\"탈퇴한 사용자의 답변 프로필 이미지\">\n",
       "\t\t\t\t</div>\n",
       "\t\t\t</div>\n",
       "\t\t</div>\n",
       "\t</div>\n",
       "</div>\n",
       "{{??}}\n",
       "<div class=\"profile_card\">\n",
       "\t<div class=\"card_inner {{? it.profileCardBackgroundColorNumber != null}}card_theme{{=it.profileCardBackgroundColorNumber}}{{?}}\n",
       "{{? it.notGodLevelUserHavingProfileCardInfo}}theme_info{{?}}\">\n",
       "\t\t<div class=\"card_info\">\n",
       "\t\t\t<div class=\"profile_info\">\n",
       "\t\t\t\t<a href=\"/profile/index.naver?u={{=it.encodedUserKey}}\" class=\"name_area\"\n",
       "\t\t\t\t   onclick=\"sendBaLog(BaPcEventType.QNA_DETAIL_5262, {dir_id:{{=it.dirId}}, doc_id:{{=it.docId}}, answer_no:{{=it.answerNo}}, item:'nickname'});\n",
       "\t\t\t\t\t{{? it.namecard.levelOrder < 10}}\n",
       "\t\t\t\t\t\t{{? it.kinProfileCard != null && it.kinProfileCard.profileCardSet}}naver.kin.pc.common.nClicks('end*a.supcname', '', '', event);\n",
       "\t\t\t\t\t\t{{??}}naver.kin.pc.common.nClicks('end*a.supname', '', '', event);{{?}}\n",
       "\t\t\t\t\t{{??}}\n",
       "\t\t\t\t\t\t{{? it.kinProfileCard != null && it.kinProfileCard.profileCardSet}}naver.kin.pc.common.nClicks('end*a.godcname', '', '', event);\n",
       "\t\t\t\t\t\t{{??}}naver.kin.pc.common.nClicks('end*a.godname', '', '', event);{{?}}\n",
       "\t\t\t\t\t{{?}}\n",
       "\t\t\t\t\t\"\n",
       "\t\t\t\t>\n",
       "\t\t\t\t\t<strong class=\"name\">{{=it.userText}}</strong>\n",
       "\t\t\t\t</a>\n",
       "\t\t\t\t<div class=\"item_area\">\n",
       "\t\t\t\t\t{{? (it.bestAnswerCount != '' && it.bestAnswerCount != null) || it.pointGiftReceiveCount != null}}\n",
       "\t\t\t\t\t<div class=\"item_list\">\n",
       "\t\t\t\t\t\t{{? it.bestAnswerCount != '' && it.bestAnswerCount != null}}<span class=\"item\">채택답변수 {{=it.bestAnswerCount}}</span>{{?}} {{? it.pointGiftReceiveCount != null}}<span class=\"item\">받은감사수 {{=it.pointGiftReceiveCount}}</span>{{?}}\n",
       "\t\t\t\t\t</div>\n",
       "\t\t\t\t\t{{?}}\n",
       "\t\t\t\t\t<div class=\"badge_list\">\n",
       "\t\t\t\t\t\t<span class=\"badge level{{=it.namecard.levelOrder}}\">{{=it.namecard.currentLevelName}}</span>\n",
       "\t\t\t\t\t\t{{? it.namecard.heavyAnswerer}}<span class=\"badge heavy_answer\">열심답변자</span>{{?}}\n",
       "\t\t\t\t\t\t{{? it.namecard != null && it.namecard.counselor}}\n",
       "\t\t\t\t\t\t<span class=\"badge expert_blue\"><span class=\"blind\">eXpert</span>\n",
       "\t\t\t\t\t\t<svg xmlns=\"http://www.w3.org/2000/svg\" width=\"74\" height=\"23\" viewBox=\"0 0 71 23\">\n",
       "\t\t\t\t\t\t<g fill=\"#fff\" fill-rule=\"evenodd\">\n",
       "\t\t\t\t\t\t<path d=\"M33.091 6.118c-1.042 0-2.001.454-2.85 1.35-.851.899-1.283 1.962-1.283 3.16 0 1.199.432 2.262 1.283 3.16.849.897 1.808 1.351 2.85 1.351.993 0 1.896-.44 2.688-1.31.795-.875 1.198-1.952 1.198-3.2 0-1.25-.403-2.326-1.198-3.2-.792-.87-1.695-1.311-2.688-1.311m-4.425 16.095h-1.537a.291.291 0 0 1-.291-.292V4.66c0-.161.13-.292.291-.292h1.537c.161 0 .292.13.292.292v1.307c.1-.103.239-.235.418-.401.275-.254.578-.484.9-.683.324-.2.743-.381 1.247-.538a5.292 5.292 0 0 1 1.568-.237c1.595 0 3.011.647 4.208 1.925 1.193 1.274 1.8 2.82 1.8 4.596 0 1.775-.604 3.319-1.794 4.589-1.193 1.273-2.61 1.919-4.214 1.919a5.274 5.274 0 0 1-1.555-.231 5.362 5.362 0 0 1-1.261-.551 7.114 7.114 0 0 1-.882-.642 6.094 6.094 0 0 1-.435-.407v6.615c0 .161-.13.292-.292.292M2.65 9.568h7.84c-.154-.965-.575-1.78-1.25-2.421-.718-.683-1.596-1.03-2.61-1.03-1.013 0-1.91.363-2.665 1.079-.707.67-1.149 1.468-1.314 2.372m9.616 1.873H2.64c.105.783.724 3.699 4.114 3.699 2.024 0 3.27-1.285 3.72-1.853a.29.29 0 0 1 .433-.022l.974.973a.292.292 0 0 1 .022.388c-.502.638-2.224 2.51-5.15 2.51-1.699 0-3.183-.64-4.409-1.903C1.12 13.97.5 12.419.5 10.623c0-1.797.614-3.348 1.825-4.61C3.54 4.749 4.987 4.108 6.63 4.108c1.7 0 3.143.6 4.286 1.78 0 0 2.143 1.993 1.64 5.309a.291.291 0 0 1-.289.244M61.394 4.388V5.95c0 .16-.13.292-.292.292h-.651c-.996 0-1.859.35-2.564 1.039-.705.689-1.062 1.6-1.062 2.71v6.606c0 .161-.13.292-.292.292h-1.537a.292.292 0 0 1-.292-.292V4.66c0-.161.13-.292.292-.292h1.537c.161 0 .292.13.292.292v1.047c1.486-1.571 3.551-1.642 4.291-1.61a.292.292 0 0 1 .278.29M68.806 17.136c-1.09 0-1.96-.328-2.582-.976-.62-.646-.934-1.568-.934-2.74V6.365h-1.998A.292.292 0 0 1 63 6.073V4.66c0-.16.13-.292.292-.292h1.998V1.365c0-.161.131-.292.292-.292h1.537c.162 0 .293.13.293.292v3.003h2.37c.16 0 .291.131.291.292v1.413c0 .161-.13.292-.292.292h-2.37v7.055c0 1.173.468 1.72 1.472 1.72.627 0 1.172-.183 1.5-.323a.233.233 0 0 1 .322.216v1.425c0 .155-.09.294-.232.357-.298.13-.87.321-1.667.321M42.73 9.568h7.839c-.154-.965-.575-1.78-1.25-2.421-.719-.683-1.596-1.03-2.61-1.03-1.013 0-1.91.363-2.665 1.079-.707.67-1.15 1.468-1.314 2.372m9.616 1.873h-9.627c.105.783.724 3.699 4.114 3.699 2.024 0 3.27-1.285 3.72-1.853a.29.29 0 0 1 .433-.022l.974.973a.292.292 0 0 1 .022.388c-.502.638-2.224 2.51-5.15 2.51-1.7 0-3.183-.64-4.408-1.903-1.224-1.262-1.845-2.814-1.845-4.61 0-1.797.614-3.348 1.825-4.61 1.214-1.264 2.662-1.905 4.305-1.905 1.7 0 3.142.6 4.286 1.78 0 0 2.143 1.993 1.64 5.309a.291.291 0 0 1-.29.244M18.939 8.92l-5.68 7.5a.292.292 0 0 0 .234.469h1.757a.485.485 0 0 0 .387-.193l3.302-4.36 3.3 4.36a.486.486 0 0 0 .389.193h1.756a.292.292 0 0 0 .233-.468l-5.678-7.5z\"></path>\n",
       "\t\t\t\t\t\t<path d=\"M25.5.254L18.94 8.92l-3.302-4.359a.486.486 0 0 0-.387-.193h-1.757a.292.292 0 0 0-.233.469l5.679 7.5L27.879.528a.292.292 0 0 0-.233-.468h-1.757a.486.486 0 0 0-.388.193\"></path>\n",
       "\t\t\t\t\t\t</g></svg></span>\n",
       "\t\t\t\t\t\t{{?}}\n",
       "\t\t\t\t\t</div>\n",
       "\t\t\t\t</div>\n",
       "\t\t\t</div>\n",
       "\t\t\t<a href=\"/profile/index.naver?u={{=it.encodedUserKey}}\" class=\"thumbnail_area {{? it.namecard.heavyAnswerer}}level_heavy_answer{{?}}\" target=\"_blank\"\n",
       "\t\t\t   onclick=\"sendBaLog(BaPcEventType.QNA_DETAIL_5262, {dir_id:{{=it.dirId}}, doc_id:{{=it.docId}}, answer_no:{{=it.answerNo}}, item:'thumbnail'});\n",
       "\t\t\t\t{{? it.namecard.levelOrder < 10}}\n",
       "\t\t\t\t\t{{? it.kinProfileCard != null && it.kinProfileCard.profileCardSet}}naver.kin.pc.common.nClicks('end*a.supcpimg', '', '', event);\n",
       "\t\t\t\t\t{{??}}naver.kin.pc.common.nClicks('end*a.suppimg', '', '', event);{{?}}\n",
       "\t\t\t\t{{??}}\n",
       "\t\t\t\t\t{{? it.kinProfileCard != null && it.kinProfileCard.profileCardSet}}naver.kin.pc.common.nClicks('end*a.godcpimg', '', '', event);\n",
       "\t\t\t\t\t{{??}}naver.kin.pc.common.nClicks('end*a.godpimg', '', '', event);{{?}}\n",
       "\t\t\t\t{{?}}\n",
       "\t\t\t\t\"\n",
       "\t\t\t>\n",
       "\t\t\t\t<div class=\"thumbnail\">\n",
       "\t\t\t\t\t<img src=\"{{=it.kinProfileCard.profileImageUrl}}\" alt=\"프로필 사진\">\n",
       "\t\t\t\t</div>\n",
       "\t\t\t\t{{? it.namecard.heavyAnswerer}}<span class=\"icon\"></span>{{?}}\n",
       "\t\t\t</a>\n",
       "\t\t</div>\n",
       "\t\t{{? it.hasNormalUserActivity}}\n",
       "\t\t<div class=\"career_list\">\n",
       "\t\t\t{{? it.hasMoreNormalUserActivity}}\n",
       "\t\t\t<button type=\"button\" aria-expanded=\"false\" class=\"button_fold _careerListShowBtn\"\n",
       "\t\t\t\t{{? it.namecard.levelOrder < 10}}\n",
       "\t\t\t\t\t{{? it.kinProfileCard != null && it.kinProfileCard.profileCardSet}} onclick=\"naver.kin.pc.common.nClicks('end*a.supcadd', '', '', event);\"\n",
       "\t\t\t\t\t{{??}} onclick=\"naver.kin.pc.common.nClicks('end*a.supadd', '', '', event);\"{{?}}\n",
       "\t\t\t\t{{??}}\n",
       "\t\t\t\t\t{{? it.kinProfileCard != null && it.kinProfileCard.profileCardSet}} onclick=\"naver.kin.pc.common.nClicks('end*a.godcadd', '', '', event);\"\n",
       "\t\t\t\t\t{{??}} onclick=\"naver.kin.pc.common.nClicks('end*a.godpadd', '', '', event);\"{{?}}\n",
       "\t\t\t\t{{?}}\n",
       "\t\t\t><span class=\"blind\">펼치기</span></button>\n",
       "\t\t\t{{?}}\n",
       "\t\t\t{{? it.kinProfileCard != null && it.kinProfileCard.activityContent != null}}\n",
       "\t\t\t{{careerCount += 1;}}\n",
       "\t\t\t<div class=\"career_item\">\n",
       "\t\t\t\t<i class=\"icon\">\n",
       "\t\t\t\t\t<svg xmlns=\"http://www.w3.org/2000/svg\" width=\"20\" height=\"20\" viewBox=\"0 0 20 20\" fill=\"none\">\n",
       "\t\t\t\t\t\t<path fill-rule=\"evenodd\" clip-rule=\"evenodd\"\n",
       "\t\t\t\t\t\t\t  d=\"M12.853 4.479c1.33-.49 1.92-1.08 2.41-2.41a.38.38 0 0 1 .713 0c.49 1.33 1.08 1.92 2.41 2.41a.38.38 0 0 1 0 .715c-1.33.49-1.92 1.079-2.41 2.41a.38.38 0 0 1-.714 0c-.49-1.331-1.079-1.92-2.41-2.41a.38.38 0 0 1 0-.715zm-9.046 7.516c-.833-.34-.833-1.523 0-1.863C6.012 9.23 7.132 8.11 8.033 5.906c.34-.833 1.523-.833 1.863 0 .902 2.205 2.022 3.325 4.227 4.226.833.34.833 1.522 0 1.863-2.205.9-3.325 2.02-4.227 4.225-.34.833-1.522.833-1.863 0-.901-2.204-2.021-3.324-4.226-4.225z\"\n",
       "\t\t\t\t\t\t\t  fill=\"#fff\"></path>\n",
       "\t\t\t\t\t</svg>\n",
       "\t\t\t\t</i>\n",
       "\t\t\t\t<p>{{=it.kinProfileCard.activityContent.contents}}</p>\n",
       "\t\t\t</div>\n",
       "\t\t\t{{?}}\n",
       "\t\t\t{{? it.kinProfileCard != null && it.kinProfileCard.ageGroupAndSexText != null}}\n",
       "\t\t\t{{careerCount += 1;}}\n",
       "\t\t\t<div class=\"career_item\">\n",
       "\t\t\t\t<i class=\"icon\">\n",
       "\t\t\t\t\t<svg xmlns=\"http://www.w3.org/2000/svg\" width=\"20\" height=\"20\" viewBox=\"0 0 20 20\" fill=\"none\">\n",
       "\t\t\t\t\t\t<g class=\"profile_infomation\">\n",
       "\t\t\t\t\t\t\t<path d=\"M9.81 2.53 3.445 4.527A.636.636 0 0 0 3 5.135l.002 3.55c0 4.27 2.825 7.967 6.827 9.065.11.03.226.03.336 0 4.006-1.098 6.833-4.793 6.833-9.066L17 5.135a.636.636 0 0 0-.446-.607l-6.363-1.999a.636.636 0 0 0-.382 0z\"\n",
       "\t\t\t\t\t\t\t\t  fill=\"#fff\"></path>\n",
       "\t\t\t\t\t\t\t<path d=\"M10 6.3a2.247 2.247 0 0 1 2.25 2.25A2.247 2.247 0 0 1 10 10.8a2.247 2.247 0 0 1-2.25-2.25A2.247 2.247 0 0 1 10 6.3zM10 17c-1.875 0-3.532-1.01-4.5-2.465.022-1.493 3-2.31 4.5-2.31 1.492 0 4.477.817 4.5 2.31C13.533 15.99 11.875 17 10 17z\"\n",
       "\t\t\t\t\t\t\t\t  fill=\"#6f85e8\"></path>\n",
       "\t\t\t\t\t\t\t<path fill-rule=\"evenodd\" clip-rule=\"evenodd\"\n",
       "\t\t\t\t\t\t\t\t  d=\"M4.402 8.685c0 3.576 2.317 6.66 5.595 7.657 3.283-.996 5.6-4.08 5.6-7.658l.003-2.989L10 3.937 4.4 5.695l.002 2.99zm12.596 0L17 5.134a.636.636 0 0 0-.446-.607l-6.363-1.999a.636.636 0 0 0-.382 0L3.446 4.528A.636.636 0 0 0 3 5.135l.002 3.55c0 4.27 2.825 7.967 6.827 9.065.11.03.226.03.336 0 4.006-1.098 6.833-4.793 6.833-9.066z\"\n",
       "\t\t\t\t\t\t\t\t  fill=\"#fff\"></path>\n",
       "\t\t\t\t\t\t</g>\n",
       "\t\t\t\t\t</svg>\n",
       "\t\t\t\t</i>\n",
       "\t\t\t\t<p>{{=it.kinProfileCard.ageGroupAndSexText}}</p>\n",
       "\t\t\t</div>\n",
       "\t\t\t{{?}}\n",
       "\t\t\t{{? it.kinProfileCard != null && it.kinProfileCard.jobGroupText != null}}\n",
       "\t\t\t{{careerCount += 1;}}\n",
       "\t\t\t<div class=\"career_item {{? careerCount > 2 }} _hiddenActivity{{?}}\" {{? careerCount < 2 }} style=\"display: block\"{{?}}>\n",
       "\t\t\t<i class=\"icon\">\n",
       "\t\t\t\t<svg xmlns=\"http://www.w3.org/2000/svg\" width=\"20\" height=\"20\" viewBox=\"0 0 20 20\" fill=\"none\">\n",
       "\t\t\t\t<path fill-rule=\"evenodd\" clip-rule=\"evenodd\" d=\"M4.773 4.545c-.628 0-1.137.51-1.137 1.137v10.227a1.136 1.136 0 1 0 2.273 0V5.682c0-.628-.509-1.137-1.136-1.137zm3.3 0a.8.8 0 0 0-.8.8V11.7a.8.8 0 0 0 .8.8h7.688a.8.8 0 0 0 .607-1.32l-2.277-2.657 2.277-2.657a.8.8 0 0 0-.607-1.32H8.073z\" fill=\"#fff\"></path>\n",
       "\t\t\t\t</svg>\n",
       "\t\t\t</i>\n",
       "\t\t\t<p class=\"ell2\">{{=it.kinProfileCard.jobGroupText}}</p>\n",
       "\t\t</div>\n",
       "\t\t{{?}}\n",
       "\t\t{{? it.kinProfileCard != null && it.kinProfileCard.profileKeywordsText != null}}\n",
       "\t\t{{careerCount += 1;}}\n",
       "\t\t<div class=\"career_item {{? careerCount > 2 }} _hiddenActivity{{?}}\" {{? careerCount< 2 }} style=\"display: block\"{{?}}>\n",
       "\t\t<i class=\"icon\"><svg xmlns=\"http://www.w3.org/2000/svg\" width=\"20\" height=\"20\" viewBox=\"0 0 20 20\" fill=\"none\">\n",
       "\t\t\t<path fill-rule=\"evenodd\" clip-rule=\"evenodd\" d=\"M2.727 7.636a4 4 0 0 1 4-4h5.637a4 4 0 0 1 4 4v.546l1.76 1.803a.5.5 0 0 1 0 .698l-1.76 1.803v.787a4 4 0 0 1-4 4H6.727a4 4 0 0 1-4-4V7.636zm4.303 5.77.24-1.21h-.506c-.393 0-.628-.22-.628-.567 0-.434.286-.714.766-.714h.623l.22-1.128h-.521c-.388 0-.628-.23-.628-.572 0-.44.29-.72.77-.72h.629l.26-1.266c.082-.434.327-.638.735-.638.378 0 .602.22.602.556 0 .067-.01.164-.025.23l-.22 1.118h1.144l.255-1.266c.082-.434.327-.638.735-.638.378 0 .597.22.597.556 0 .067-.005.164-.02.23l-.225 1.118h.526c.393 0 .628.22.628.567 0 .434-.286.714-.766.714h-.643l-.22 1.129h.537c.388 0 .627.224.627.571 0 .44-.29.72-.77.72h-.644l-.275 1.358c-.082.434-.327.638-.735.638-.378 0-.598-.22-.598-.556 0-.067.006-.164.02-.23l.246-1.21H8.612l-.27 1.363c-.082.429-.327.633-.735.633-.378 0-.598-.22-.598-.556 0-.067.005-.164.02-.23zm1.98-3.762-.28 1.398h1.357l.286-1.398H9.01z\" fill=\"#fff\"></path>\n",
       "\t\t</svg>\n",
       "\t\t</i>\n",
       "\t\t<p class=\"ell2\">{{=it.kinProfileCard.profileKeywordsText}}</p>\n",
       "\t</div>\n",
       "\t{{?}}\n",
       "\t{{? it.kinProfileCard != null && it.kinProfileCard.activeDirectoryContents != null}}\n",
       "\t{{careerCount += 1;}}\n",
       "\t<div class=\"career_item {{? careerCount > 2 }} _hiddenActivity{{?}}\" {{? careerCount< 2 }} style=\"display: block\"{{?}}>\n",
       "\t<i class=\"icon\"><svg xmlns=\"http://www.w3.org/2000/svg\" width=\"20\" height=\"20\" viewBox=\"0 0 20 20\" fill=\"none\">\n",
       "\t\t<path fill-rule=\"evenodd\" clip-rule=\"evenodd\" d=\"M16.818 10a6.818 6.818 0 0 1-6.965 6.816h.002-1.883c-1.042.003-2.824.002-3.883.002a.5.5 0 0 1-.432-.75l1.034-1.79A6.818 6.818 0 1 1 16.818 10zm-6.75-3.636c.256 0 .47.11.615.311l.057.092 2.423 5.287a.754.754 0 0 1 .069.298.648.648 0 0 1-1.173.384l-.061-.09-.042-.083-.526-1.157H8.638l-.52 1.163a.697.697 0 0 1-.248.316l-.087.05-.096.038-.099.02-.093.007a.63.63 0 0 1-.616-.78l.02-.076.036-.089 2.38-5.205c.112-.243.285-.402.518-.462l.104-.019.098-.005h.034zm-.033 1.912-.84 1.867h1.679l-.84-1.867z\" fill=\"#fff\"></path>\n",
       "\t\t</svg>\n",
       "\t</i>\n",
       "\t<p class=\"ell2\">{{=it.kinProfileCard.activeDirectoryContents}}</p>\n",
       "</div>\n",
       "{{?}}\n",
       "</div>\n",
       "{{?}}\n",
       "</div>\n",
       "<div class=\"option_area\">\n",
       "\t<div class=\"tooltip_area\">\n",
       "\t\t<span class=\"text\">본인 입력 포함 정보</span>\n",
       "\t\t<div class=\"tooltip_box\">\n",
       "\t\t\t<button type=\"button\" aria-expanded=\"true\" class=\"tooltip_button\"\n",
       "\t\t\t\t{{? it.namecard.levelOrder < 10}}\n",
       "\t\t\t\t\t{{? it.kinProfileCard != null && it.kinProfileCard.profileCardSet}} onclick=\"naver.kin.pc.common.nClicks('end*a.supcardtip', '', '', event);\"{{?}}\n",
       "\t\t\t\t{{??}}\n",
       "\t\t\t\t\t{{? it.kinProfileCard != null && it.kinProfileCard.profileCardSet}} onclick=\"naver.kin.pc.common.nClicks('end*a.godcardtip', '', '', event);\"{{?}}\n",
       "\t\t\t\t{{?}}\n",
       "\t\t\t><i class=\"icon\">\n",
       "\t\t\t\t<svg xmlns=\"http://www.w3.org/2000/svg\" width=\"16\" height=\"16\" viewBox=\"0 0 16 16\">\n",
       "\t\t\t\t\t<g fill=\"none\" fill-rule=\"evenodd\">\n",
       "\t\t\t\t\t\t<circle stroke=\"#DADADA\" cx=\"8\" cy=\"8\" r=\"7.5\"></circle>\n",
       "\t\t\t\t\t\t<path d=\"M8.364 6.113c.238 0 .44-.079.609-.235a.749.749 0 0 0 .253-.57.756.756 0 0 0-.253-.57.857.857 0 0 0-.609-.238c-.237 0-.44.08-.61.237a.753.753 0 0 0-.255.572c0 .222.084.412.254.569a.87.87 0 0 0 .611.235zM7.74 11.42c.229 0 .43-.03.602-.09.173-.06.405-.147.695-.261l.096-.396c-.05.024-.13.05-.241.082-.112.03-.211.046-.3.046-.187 0-.319-.031-.395-.093-.076-.061-.114-.177-.114-.347 0-.067.012-.167.035-.299.024-.131.05-.249.08-.351l.36-1.279c.035-.117.059-.246.072-.387.013-.14.02-.238.02-.294a.839.839 0 0 0-.284-.657c-.189-.168-.457-.253-.806-.253-.193 0-.398.035-.615.104a9.156 9.156 0 0 0-.681.248l-.097.395c.07-.026.155-.054.253-.083.098-.03.194-.044.288-.044.19 0 .319.032.386.097.068.064.101.178.101.342 0 .091-.01.192-.033.301-.022.11-.049.227-.08.35L6.72 9.835a3.79 3.79 0 0 0-.07.363 2.314 2.314 0 0 0-.023.314c0 .263.098.48.293.652.194.172.468.257.82.257z\"\n",
       "\t\t\t\t\t\t\t  fill=\"#444\" fill-rule=\"nonzero\"></path>\n",
       "\t\t\t\t\t</g>\n",
       "\t\t\t\t</svg>\n",
       "\t\t\t</i></button>\n",
       "\t\t\t<div class=\"tooltip_guide _tooltipComponent\" style=\"display: none;\">\n",
       "\t\t\t\t<div class=\"tooltip_item\">지식iN 서비스 질문 답변 페이지 및 프로필의 답변자 정보에 노출되는 답변자의 회사, 학교, 자격 등의 정보는 본인이 지식iN 프로필 수정을 통해 직접 입력한 정보입니다.\n",
       "\t\t\t\t</div>\n",
       "\t\t\t\t<div class=\"tooltip_item\">네이버는 사용자가 등록한 정보 및 게시물을 제공하는 정보매개 서비스 제공자로서 해당 정보의 정확성, 신뢰성 및 최신성에 대해 보증하지 않습니다.</div>\n",
       "\t\t\t\t<button type=\"button\" class=\"button_close\" onclick=\"$('div._tooltipComponent').hide();\"><i class=\"icon_close\"><span\n",
       "\t\t\t\t\t\tclass=\"blind\">툴팁 닫기</span></i>\n",
       "\t\t\t\t</button>\n",
       "\t\t\t</div>\n",
       "\t\t</div>\n",
       "\t</div>\n",
       "\t<a href=\"/profile/index.naver?u={{=it.encodedUserKey}}\" target=\"_blank\" class=\"profile_link\"\n",
       "\t   onclick=\"sendBaLog(BaPcEventType.QNA_DETAIL_5262, {dir_id:{{=it.dirId}}, doc_id:{{=it.docId}}, answer_no:{{=it.answerNo}}, item:'more'});\n",
       "\t\t{{? it.namecard.levelOrder < 10}}\n",
       "\t\t\t{{? it.kinProfileCard != null && it.kinProfileCard.profileCardSet}}naver.kin.pc.common.nClicks('end*a.supcprfmore', '', '', event);{{?}}\n",
       "\t\t{{??}}\n",
       "\t\t\t{{? it.kinProfileCard != null && it.kinProfileCard.profileCardSet}}naver.kin.pc.common.nClicks('end*a.godcprfmore', '', '', event);{{?}}\n",
       "\t\t{{?}}\n",
       "\t\t\"\n",
       "\t>프로필 더보기 <svg xmlns=\"http://www.w3.org/2000/svg\" fill=\"none\" width=\"16\" height=\"16\" viewBox=\"0 0 16 16\">\n",
       "\t<path fill=\"#4a65f6\"\n",
       "\t\t  d=\"M7.445 6.167l1.053 1.034H5.592a.792.792 0 0 0-.792.791v.016c0 .437.355.791.792.791h2.785l-.017.104-.89.899c-.282.283-.35.737-.118 1.061a.79.79 0 0 0 1.209.102l2.406-2.428a.804.804 0 0 0 0-1.132l-2.4-2.37a.788.788 0 0 0-1.122 0 .806.806 0 0 0 0 1.132\" />\n",
       "\t<circle cx=\"8\" cy=\"8\" r=\"7.2\" stroke=\"#4a65f6\" stroke-width=\"1.5\" />\n",
       "</svg></a>\n",
       "</div>\n",
       "</div>\n",
       "{{?}}\n",
       "\n",
       "\t\t{{?}}\n",
       "\n",
       "\t\t{{? it.isAbnormalAnswer && it.inotiStop == false}}\n",
       "\t\t\n",
       "\t\t{{? it.containsAdditionalQna}}\n",
       "\t\t<div class=\"_loadAdditionalQnaList\" data-parent-answer-no=\"{{=it.answerNo}}\" data-is-answerer=\"{{? it.myAnswer}}Y{{??}}N{{?}}\" data-answerer=\"{{=it.userText}}\" data-disable-form-yn=\"{{? it.normalOrRecover}}N{{??}}Y{{?}}\"></div>\n",
       "\t\t{{?}}\n",
       "\t\t{{??}}\n",
       "\t\t\n",
       "\t\t\n",
       "\n",
       "<div class=\"_endContents{{? it.encodedTags != null && it.encodedTags != ''}} _hashtagHighlightingContents{{?}} c-heading-answer__content\"{{? it.encodedTags != null && it.encodedTags != ''}} data-tag=\"{{=it.encodedTags}}\"{{?}}>\n",
       "\n",
       "\t\n",
       "\t\n",
       "\n",
       "{{? it.inotiStop && it.inotiInfo != null}}\n",
       "\t<div class=\"c-heading-answer__content-user\">\n",
       "\t\t\n",
       "\n",
       "{{? it.viewState == 'INOTI_OPEN'}}\n",
       "\t\n",
       "\t{{? it.inotiInfo.inotiType != 'OFFICIAL'}}\n",
       "\t\t\n",
       "\t\t<ul class=\"restrict-info\">\n",
       "\t\t\t<li class=\"restrict-info__item\">\n",
       "\t\t\t\t<strong class=\"restrict-info__title\">게시물 제목</strong>\n",
       "\t\t\t\t<span class=\"restrict-info__desc\">{{=it.inotiInfo.title}}</span>\n",
       "\t\t\t</li>\n",
       "\t\t\t<li class=\"restrict-info__item\">\n",
       "\t\t\t\t<strong class=\"restrict-info__title\">사유</strong>\n",
       "\t\t\t\t<span class=\"restrict-info__desc\">{{? it.inotiInfo.inotiType == 'HONOR_ETC'}}명예훼손 / 기타권리침해{{??}}저작권 침해{{?}} ({{=it.inotiInfo.reasonText}})</span>\n",
       "\t\t\t</li>\n",
       "\t\t\t<li class=\"restrict-info__item\">\n",
       "\t\t\t\t<strong class=\"restrict-info__title\">요청자</strong>\n",
       "\t\t\t\t<span class=\"restrict-info__desc\">{{=it.inotiInfo.requester}}</span>\n",
       "\t\t\t</li>\n",
       "\t\t\t<li class=\"restrict-info__item\">\n",
       "\t\t\t\t<strong class=\"restrict-info__title\">일자</strong>\n",
       "\t\t\t\t<span class=\"restrict-info__desc\">{{=it.inotiInfo.formattedRequestTime}}</span>\n",
       "\t\t\t</li>\n",
       "\t\t</ul>\n",
       "\t\t<div class=\"restrict-notice\">\n",
       "\t\t\t{{? it.inotiInfo.inotiType == 'HONOR_ETC'}}\n",
       "\t\t\t\t\n",
       "\t\t\t\t<p class=\"restrict-notice__paragraph\">\n",
       "\t\t\t\t\t본 게시물은 <a href=\"http://www.law.go.kr/lsInfoP.do?lsiSeq=111970#0000\" class=\"restrict-notice__link\" target=\"_blank\">정보통신망 이용촉진 및 정보보호 등에 관한 법률 제44조의2(정보의 삭제요청 등)</a>의 법령을 준수하기 위해 게시중단(임시조치) 되었음을 안내 드립니다.\n",
       "\t\t\t\t</p>\n",
       "\t\t\t\t<p class=\"restrict-notice__paragraph\">\n",
       "\t\t\t\t\t이 법령에 의하면 정보통신망(인터넷 등)을 통해서 일반에게 공개를 목적으로 제공된 정보로 인해 사생활 침해나 명예훼손 등 권리가 침해된 경우, 그 침해를 받은 자는 네이버와 같은 정보통신서비스 제공자에게 침해사실을 소명하여 그 정보의 삭제 또는 반박내용의 게재를 요청할 수 있으며, 네이버와 같은 정보통신서비스 제공자는 해당 정보의 삭제 등을 요청 받으면 지체 없이 삭제·임시조치 등의 조치를 취하고 조치결과를 요청자 및 게시글 작성자에게 알리도록 되어있습니다.\n",
       "\t\t\t\t</p>\n",
       "\t\t\t\t<p class=\"restrict-notice__paragraph\">\n",
       "\t\t\t\t\t게시중단(임시조치)이 부당하다고 판단되시는 경우에는 게시물 임시조치 후 30일 이내 이의신청이 가능하며 상세한 내용은 고객님의 회원정보에 기재된 이메일과 네이버 메일로 안내 드렸습니다.\n",
       "\t\t\t\t</p>\n",
       "\t\t\t\t<p class=\"restrict-notice__paragraph\">\n",
       "\t\t\t\t\t이외 궁금하신 사항은 <a href=\"https://help.naver.com/\" class=\"restrict-notice__link\" target=\"_blank\">네이버도움말</a>을 참고해주세요\n",
       "\t\t\t\t</p>\n",
       "\t\t\t\t<a href=\"https://inoti.naver.com/inoti/service.nhn?m=honorRepostOnline\" class=\"restrict-notice__link restrict-notice__link--objection\" target=\"_blank\">이의신청<i class=\"icon_arrow\"></i></a>\n",
       "\t\t\t{{??}}\n",
       "\t\t\t\t\n",
       "\t\t\t\t<p class=\"restrict-notice__paragraph\">\n",
       "\t\t\t\t\t본 게시물은 <a href=\"http://www.law.go.kr/법령/저작권법\" class=\"restrict-notice__link\" target=\"_blank\">저작권법 제103조(복제·전송의 중단)</a>에 의거하여 게시중단(복제ㆍ전송의 중단) 되었음을 안내 드립니다.\n",
       "\t\t\t\t</p>\n",
       "\t\t\t\t<p class=\"restrict-notice__paragraph\">\n",
       "\t\t\t\t\t이 법령에 의하면 온라인(인터넷)서비스를 이용하여 저작물 등이 복제·전송되어 자신의 권리가 침해됨을 주장하는 자는 온라인서비스제공자에게 그 사실을 소명하여 그 저작물 등의 복제·전송을 중단시킬 것을 요구할 수 있고, 네이버와 같은 온라인서비스제공자는 복제·전송의 중단 요구가 있는 경우에는 그 저작물 등의 복제·전송을 중단시키고 권리주장자 및 저작물 등을 복제·전송하는 자에게 그 사실(중단 내역)을 통보하도록 되어있습니다.\n",
       "\t\t\t\t</p>\n",
       "\t\t\t\t<p class=\"restrict-notice__paragraph\">\n",
       "\t\t\t\t\t또한 게시물의 재게는 <a href=\"http://likms.assembly.go.kr/law/jsp/Law.jsp?WORK_TYPE=LAW_BON&LAW_ID=B2534&PROM_NO=22003&PROM_DT=20100127&HanChk=Y\" class=\"restrict-notice__link\" target=_blank>저작권법 시행령 제42조(복제·전송의 재개 요청)</a> 절차에 따라서 30일 이내 복제·전송이 정당한 권리에 의한 것임을 소명하여 재게시 요청이 가능하며, 상세한 내용은 고객님의 회원정보에 기재된 전자메일 및 네이버 메일로 안내 드렸습니다.\n",
       "\t\t\t\t</p>\n",
       "\t\t\t\t<p class=\"restrict-notice__paragraph\">\n",
       "\t\t\t\t\t게시중단(임시조치)과 관련하여 궁금한 사항이 있으실 경우 <a href=\"https://help.naver.com/alias/kin/contentskin97.naver\" class=\"restrict-notice__link\" target=_blank>네이버도움말</a>을 참고해주세요.\n",
       "\t\t\t\t</p>\n",
       "\t\t\t\t<a href=\"https://inoti.naver.com/inoti/service.nhn?m=claimRepostOnline\" class=\"restrict-notice__link restrict-notice__link--objection\" target=\"_blank\">재게시(복제ㆍ전송의 재개) 요청<i class=\"icon_arrow\"></i></a>\n",
       "\t\t\t{{?}}\n",
       "\t\t</div>\n",
       "\t{{??}}\n",
       "\t\t\n",
       "\t\t<ul class=\"restrict-info\">\n",
       "\t\t\t<li class=\"restrict-info__item\">\n",
       "\t\t\t\t<strong class=\"restrict-info__title\">게시물 제목</strong>\n",
       "\t\t\t\t<span class=\"restrict-info__desc\">{{=it.inotiInfo.title}}</span>\n",
       "\t\t\t</li>\n",
       "\t\t\t<li class=\"restrict-info__item\">\n",
       "\t\t\t\t<strong class=\"restrict-info__title\">요청 기관</strong>\n",
       "\t\t\t\t<span class=\"restrict-info__desc\">{{=it.inotiInfo.requester}}</span>\n",
       "\t\t\t</li>\n",
       "\t\t\t<li class=\"restrict-info__item\">\n",
       "\t\t\t\t<strong class=\"restrict-info__title\">요청 사유</strong>\n",
       "\t\t\t\t<span class=\"restrict-info__desc\">{{=it.inotiInfo.reasonText}}</span>\n",
       "\t\t\t</li>\n",
       "\t\t\t<li class=\"restrict-info__item\">\n",
       "\t\t\t\t<strong class=\"restrict-info__title\">일자</strong>\n",
       "\t\t\t\t<span class=\"restrict-info__desc\">{{=it.inotiInfo.formattedRequestTime}}</span>\n",
       "\t\t\t</li>\n",
       "\t\t</ul>\n",
       "\t\t<div class=\"restrict-notice\">\n",
       "\t\t\t<p class=\"restrict-notice__paragraph\">\n",
       "\t\t\t\t본 게시물은 {{=it.inotiInfo.requester}}의 요청에 의해 비공개 조치 되었음을 안내 드립니다. 정보통신망 이용촉진 및 정보보호 등에 관한 법률 등은 인터넷을 통해 법령에 위배되는 정보를 유통시키는 행위를 금지하고 있으며, 이에 따라 네이버는 외부 신고 등으로 불법 정보 유통이 확인된 경우 관련 법령, 네이버 이용약관 및 운영원칙을 근거로 해당 게시물을 조치하고 있습니다.\n",
       "\t\t\t</p>\n",
       "\t\t\t<p class=\"restrict-notice__paragraph\">\n",
       "\t\t\t\t30일 간 게시물 비공개 조치 후 삭제 예정으로, 본 조치에 대한 이의신청은 {{=it.inotiInfo.requester}}에 요청하실 수 있으며, 이의신청이 인정될 경우 해당 게시물은 복구될 수 있습니다. 상세한 내용은 고객님의 회원정보에 기재된 전자메일 및 네이버 메일로 안내 드렸습니다\n",
       "\t\t\t</p>\n",
       "\t\t\t<p class=\"restrict-notice__paragraph\">\n",
       "\t\t\t\t이외 궁금하신 사항은 <a href=\"https://help.naver.com/\" class=\"restrict-notice__link\" target=\"_blank\">네이버도움말</a>을 참고해주세요\n",
       "\t\t\t</p>\n",
       "\t\t</div>\n",
       "\t{{?}}\n",
       "{{??}}\n",
       "\t\n",
       "\t{{? it.inotiInfo.inotiType != 'OFFICIAL'}}\n",
       "\t\t\n",
       "\t\t<div class=\"restrict-notice\">\n",
       "\t\t\t{{? it.inotiInfo.inotiType == 'HONOR_ETC'}}\n",
       "\t\t\t\t\n",
       "\t\t\t\t<p class=\"restrict-notice__paragraph\">\n",
       "\t\t\t\t\t본 게시물은 <a href=\"http://www.law.go.kr/lsInfoP.do?lsiSeq=111970#0000\" class=\"restrict-notice__link\" target=\"_blank\">정보통신망 이용촉진 및 정보보호 등에 관한 법률 제44조의2(정보의 삭제요청 등)</a>의 법령을 준수하기 위해 게시중단(임시조치) 되었음을 안내 드립니다.\n",
       "\t\t\t\t</p>\n",
       "\t\t\t\t<p class=\"restrict-notice__paragraph\">\n",
       "\t\t\t\t\t이 법령에 의하면 정보통신망(인터넷 등)을 통해서 일반에게 공개를 목적으로 제공된 정보로 인해 사생활 침해나 명예훼손 등 권리가 침해된 경우, 그 침해를 받은 자는 네이버와 같은 정보통신서비스 제공자에게 침해사실을 소명하여 그 정보의 삭제 또는 반박내용의 게재를 요청할 수 있으며, 네이버와 같은 정보통신서비스 제공자는 해당 정보의 삭제 등을 요청 받으면 지체 없이 삭제·임시조치 등의 조치를 취하고 조치결과를 요청자 및 게시글 작성자에게 알리도록 되어있습니다.\n",
       "\t\t\t\t</p>\n",
       "\t\t\t\t<p class=\"restrict-notice__paragraph\">\n",
       "\t\t\t\t\t게시중단(임시조치)과 관련하여 궁금한 사항이 있으실 경우 <a href=\"https://help.naver.com/alias/kin/contentskin97.naver\" class=\"restrict-notice__link\" target=_blank>네이버도움말</a>을 참고해주세요.\n",
       "\t\t\t\t</p>\n",
       "\t\t\t\t<a href=\"http://inoti.naver.com/inoti/claim.nhn?m=purpose\" class=\"restrict-notice__link restrict-notice__link--objection\" target=\"_blank\">게시중단요청서비스 자세히 알아보기<i class=\"icon_arrow\"></i></a>\n",
       "\t\t\t{{??}}\n",
       "\t\t\t\t\n",
       "\t\t\t\t<p class=\"restrict-notice__paragraph\">\n",
       "\t\t\t\t\t본 게시물은 <a href=\"http://www.law.go.kr/법령/저작권법\" class=\"restrict-notice__link\" target=\"_blank\">저작권법 제103조(복제·전송의 중단)</a>의 법령을 준수하기 위해 게시중단(복제ㆍ전송의 중단) 되었음을 안내 드립니다.\n",
       "\t\t\t\t</p>\n",
       "\t\t\t\t<p class=\"restrict-notice__paragraph\">\n",
       "\t\t\t\t\t이 법령에 의하면 온라인(인터넷)서비스를 이용하여 저작물 등이 복제·전송되어 자신의 권리가 침해됨을 주장하는 자는 온라인서비스제공자에게 그 사실을 소명하여 그 저작물 등의 복제·전송을 중단시킬 것을 요구할 수 있고, 네이버와 같은 온라인서비스제공자는 복제·전송의 중단 요구가 있는 경우에는 그 저작물 등의 복제·전송을 중단시키고 권리주장자 및 저작물 등을 복제·전송하는 자에게 그 사실(중단 내역)을 통보하도록 되어있습니다.\n",
       "\t\t\t\t</p>\n",
       "\t\t\t\t<p class=\"restrict-notice__paragraph\">\n",
       "\t\t\t\t\t게시중단(임시조치)과 관련하여 궁금한 사항이 있으실 경우 <a href=\"https://help.naver.com/alias/kin/contentskin97.naver\" class=\"restrict-notice__link\" target=_blank>네이버도움말</a>을 참고해주세요.\n",
       "\t\t\t\t</p>\n",
       "\t\t\t\t<a href=\"http://inoti.naver.com/inoti/claim.nhn?m=purpose\" class=\"restrict-notice__link restrict-notice__link--objection\" target=\"_blank\">게시중단요청서비스 자세히 알아보기<i class=\"icon_arrow\"></i></a>\n",
       "\t\t\t{{?}}\n",
       "\t\t</div>\n",
       "\t{{??}}\n",
       "\t\t\n",
       "\t\t<ul class=\"restrict-info\">\n",
       "\t\t\t<li class=\"restrict-info__item\">\n",
       "\t\t\t\t<strong class=\"restrict-info__title\">요청 기관</strong>\n",
       "\t\t\t\t<span class=\"restrict-info__desc\">{{=it.inotiInfo.requester}}</span>\n",
       "\t\t\t</li>\n",
       "\t\t\t<li class=\"restrict-info__item\">\n",
       "\t\t\t\t<strong class=\"restrict-info__title\">일자</strong>\n",
       "\t\t\t\t<span class=\"restrict-info__desc\">{{=it.inotiInfo.formattedRequestTime}}</span>\n",
       "\t\t\t</li>\n",
       "\t\t</ul>\n",
       "\t\t<div class=\"restrict-notice\">\n",
       "\t\t\t<p class=\"restrict-notice__paragraph\">\n",
       "\t\t\t\t본 게시물은 {{=it.inotiInfo.requester}}의 요청에 의해 비공개 조치 되었음을 안내 드립니다. 정보통신망 이용촉진 및 정보보호 등에 관한 법률 등은 인터넷을 통해 법령에 위배되는 정보를 유통시키는 행위를 금지하고 있으며, 이에 따라 네이버는 외부 신고 등으로 불법 정보 유통이 확인된 경우 관련 법령, 네이버 이용약관 및 운영원칙을 근거로 해당 게시물을 조치하고 있습니다.\n",
       "\t\t\t</p>\n",
       "\t\t\t<p class=\"restrict-notice__paragraph\">\n",
       "\t\t\t\t이외 궁금하신 사항은 <a href=\"https://help.naver.com/\" class=\"restrict-notice__link\" target=\"_blank\">네이버도움말</a>을 참고해주세요\n",
       "\t\t\t</p>\n",
       "\t\t</div>\n",
       "\t{{?}}\n",
       "{{?}}\n",
       "\t\t{{? it.viewState != 'INOTI_OPEN'}}\n",
       "\t\t\t<p class=\"c-heading-answer__content-date\">{{=it.formattedModifyTime}}</p>\n",
       "\t\t{{?}}\n",
       "\t</div>\n",
       "{{?}}\n",
       "\n",
       "\t\n",
       "\t{{? it.inotiStop == false || it.viewState != 'INOTI_CLOSE'}}\n",
       "\t\t\n",
       "\t\t<div class=\"_endContentsText c-heading-answer__content-user\"{{? it.isKinIAnswer && it.kinIAnswerType != null}} data-kin-i-answer-type=\"{{=it.kinIAnswerType}}\"{{?}}>{{=it.contents}}</div>\n",
       "\n",
       "\t\t\n",
       "\t\t{{? it.containsCost}}\n",
       "\t\t\t<div class=\"c-notify c-notify--default\">\n",
       "\t\t\t\t{{? it.formattedMinCost != null && it.formattedMinCost != \"\"}}\n",
       "\t\t\t\t\t<p class=\"c-notify--default__title\">진료를 위해 <span class=\"text-color--secondary\">최소 <em>{{=it.formattedMinCost}}</em> ~ 최대 <em>{{=it.formattedMaxCost}}</em>원</span>(대) 정도의 비용이 예상됩니다.</p>\n",
       "\t\t\t\t{{??}}\n",
       "\t\t\t\t\t<p class=\"c-notify--default__title\">진료를 위해 <span class=\"text-color--secondary\"><em>{{=it.formattedMinCost}}</em>원</span>(대) 정도의 비용이 예상됩니다.</p>\n",
       "\t\t\t\t{{?}}\n",
       "\t\t\t\t<p class=\"c-notify--default__desc\">(예상금액은 실제 상담 후 달라 질 수 있습니다.)</p>\n",
       "\t\t\t</div>\n",
       "\t\t{{?}}\n",
       "\n",
       "\t\t\n",
       "\t\t{{? it.attachedInfos != null && it.attachedInfos.locationInfo != null && it.attachedInfos.locationInfo.dirId > 0}}\n",
       "\t\t\t<div class=\"end_map _locationMapWrapper\" style=\"display:none;\">\n",
       "\t\t\t\t<div class=\"end_map_inner\">\n",
       "\t\t\t\t\t<p class=\"cur\">{{=it.attachedInfos.locationInfo.mapTitle}}</p>\n",
       "\t\t\t\t\t<div id=\"{{=it.it.attachedInfos.locationInfo.mapId}}\" class=\"map _locationMap\" data-answer-yn=\"Y\" data-latitude=\"{{=it.attachedInfos.locationInfo.latitude}}\" data-longitude=\"{{=it.attachedInfos.locationInfo.longitude}}\" data-title=\"{{=it.attachedInfos.locationInfo.mapTitle}}\"></div>\n",
       "\t\t\t\t\t<div class=\"dtl\">\n",
       "\t\t\t\t\t\t<div class=\"dst\">\n",
       "\t\t\t\t\t\t\t<a href=\"http://map.naver.com/?lat={{=it.attachedInfos.locationInfo.latitude}}&lng={{=it.attachedInfos.locationInfo.longitude}}\" target=\"_blank\">{{=it.attachedInfos.locationInfo.mapTitle}}</a>\n",
       "\t\t\t\t\t\t</div>\n",
       "\t\t\t\t\t\t<div class=\"dst2\">\n",
       "\t\t\t\t\t\t\t<a class=\"btn_srch\" href=\"http://map.naver.com/index.nhn?{{=it.attachedInfos.locationInfo.mapSearchParam}}\" target=\"_blank\">길찾기</a>\n",
       "\t\t\t\t\t\t\t<a class=\"btn_zin\" href=\"http://map.naver.com/?{{=it.attachedInfos.locationInfo.mapExpandParam}}\" target=\"_blank\">크게보기</a>\n",
       "\t\t\t\t\t\t</div>\n",
       "\t\t\t\t\t</div>\n",
       "\t\t\t\t</div>\n",
       "\t\t\t</div>\n",
       "\t\t{{?}}\n",
       "\n",
       "\t\t\n",
       "\t\t{{? it.attachedInfos != null && it.attachedInfos.attachedFileList != null}}\n",
       "\t\t\t\n",
       "\n",
       "{{? (it.attachedInfos.allAttachedFileCopyrightOrMalicios && it.myAnswer) || (it.attachedInfos.allAttachedFileCopyrightOrMalicios == false)}}\n",
       "\t{{~ it.attachedInfos.attachedFileList : attachedFile : index}}\n",
       "\t\t<div class=\"c-attach-file\">\n",
       "\t\t\t{{? attachedFile.normal}}\n",
       "\t\t\t\t<div class=\"c-attach-file__name\">\n",
       "\t\t\t\t\t<a href=\"/ajax/detail/download.naver?dirId={{=it.dirId}}&docId={{=it.docId}}&answerNo={{=it.answerNo}}&fileNo={{=attachedFile.fileNo}}\" role=\"button\" aria-label=\"내 PC 저장\" class=\"c-attach-file__link\"><i class=\"icon_clip\" aria-hidden=\"true\"></i>{{=attachedFile.fileName}}</a>\n",
       "\t\t\t\t</div>\n",
       "\t\t\t\t<div class=\"c-attach-file__save\">\n",
       "\t\t\t\t\t<a href=\"/ajax/detail/download.naver?dirId={{=it.dirId}}&docId={{=it.docId}}&answerNo={{=it.answerNo}}&fileNo={{=attachedFile.fileNo}}\" role=\"button\" class=\"c-attach-file__link\">내PC 저장</a>\n",
       "\t\t\t\t\t<a href=\"#\" role=\"button\" data-dir-id=\"{{=it.dirId}}\" data-doc-id=\"{{=it.docId}}\" data-answer-no=\"{{=it.answerNo}}\" data-file-no=\"{{=attachedFile.fileNo}}\" data-file-name=\"{{=attachedFile.encodedFileName}}\" class=\"c-attach-file__link\" onclick=\"saveToNdrive($(this));return false;\">MYBOX 저장</a>\n",
       "\t\t\t\t</div>\n",
       "\t\t\t{{?? it.myAnswer}}\n",
       "\t\t\t\t{{? attachedFile.malicious}}\n",
       "\t\t\t\t\t<div class=\"c-attach-file__name\">\n",
       "\t\t\t\t\t\t<a href=\"/ajax/detail/download.naver?dirId={{=it.dirId}}&docId={{=it.docId}}&answerNo={{=it.answerNo}}&fileNo={{=attachedFile.fileNo}}\" role=\"button\" aria-label=\"내 PC 저장\" class=\"c-attach-file__link\" target=\"_blank\" onclick=\"return confirm('악성코드가 포함되어 있는 파일입니다.\\nPC가 악성코드에 감염될 경우 시스템 성능 저하, 개인정보유출등의 피해를 입을 수 있으니 주의하시기 바랍니다.\\n그래도 실행하시겠습니까?')\"><i class=\"icon_clip\" aria-hidden=\"true\"></i>악성 코드감염</a>\n",
       "\t\t\t\t\t</div>\n",
       "\t\t\t\t\t<div class=\"c-attach-file__save\">\n",
       "\t\t\t\t\t\t<a href=\"/ajax/detail/download.naver?dirId={{=it.dirId}}&docId={{=it.docId}}&answerNo={{=it.answerNo}}&fileNo={{=attachedFile.fileNo}}\" role=\"button\" class=\"c-attach-file__link\" target=\"_blank\" onclick=\"return confirm('악성코드가 포함되어 있는 파일입니다.\\nPC가 악성코드에 감염될 경우 시스템 성능 저하, 개인정보유출등의 피해를 입을 수 있으니 주의하시기 바랍니다.\\n그래도 실행하시겠습니까?')\">내PC 저장</a>\n",
       "\t\t\t\t\t</div>\n",
       "\t\t\t\t{{?? attachedFile.copyright}}\n",
       "\t\t\t\t\t<p class=\"lst_file filter\">\n",
       "\t\t\t\t\t\t<span class=\"file_name\" title=\"{{=attachedFile.fileName}}\"><span class=\"ic_file\">파일명</span><a href=\"/ajax/detail/download.naver?dirId={{=it.dirId}}&docId={{=it.docId}}&answerNo={{=it.answerNo}}&fileNo={{=attachedFile.fileNo}}\" target=\"_blank\" onclick=\"return confirm('저작권 침해의 우려가 있는 내용이 포함되어 있어\\n작성자외의 다른 방문자가 다운로드 할 수 없도록 이용이 제한되었습니다.\\n그래도 실행하시겠습니까?')\" aria-label=\"내 PC 저장\" class=\"txt\">{{=attachedFile.fileName}}</a><span class=\"noti\">저작권이 있는 파일</span></span>\n",
       "\t\t\t\t\t\t<span class=\"c-attach-file__save\">\n",
       "\t\t\t\t\t\t\t<a href=\"/ajax/detail/download.naver?dirId={{=it.dirId}}&docId={{=it.docId}}&answerNo={{=it.answerNo}}&fileNo={{=attachedFile.fileNo}}\" target=\"_blank\" onclick=\"return confirm('저작권 침해의 우려가 있는 내용이 포함되어 있어\\n작성자외의 다른 방문자가 다운로드 할 수 없도록 이용이 제한되었습니다.\\n그래도 실행하시겠습니까?')\" role=\"button\" class=\"c-attach-file__link\">내PC 저장</a>\n",
       "\t\t\t\t\t\t</span>\n",
       "\t\t\t\t\t</p>\n",
       "\t\t\t\t{{?}}\n",
       "\t\t\t{{?}}\n",
       "\t\t</div>\n",
       "\t{{~}}\n",
       "{{?}}\n",
       "\t\t{{?}}\n",
       "\n",
       "\t\t\n",
       "\t\t{{? it.tagList != null}}\n",
       "\t\t\t<div class=\"tag-list tag-list--end-answer\" role=\"region\" aria-label=\"관련태그 목록\" >\n",
       "\t\t\t\t{{~ it.tagList : tagInfo : index}}\n",
       "\t\t\t\t\t<a href=\"/tag/tagDetail.naver?tag={{=tagInfo.encodedTag}}{{? it.isAnswerableDetail == false}}&listType=answer{{?}}\" class=\"tag-list__item\" role=\"listitem\" target=\"_blank\" onclick=\"naver.kin.pc.common.nClicks('end*a.tag', '', '', event);\"><span>#</span>{{=tagInfo.tag}}</a>\n",
       "\t\t\t\t{{~}}\n",
       "\t\t\t</div>\n",
       "\t\t{{?}}\n",
       "\n",
       "\t\t\n",
       "\t\t{{? it.source != null && it.source != '' && it.viewState != 'INOTI_CLOSE'}}\n",
       "\t\t\t<div class=\"c-reference c-reference--default\">\n",
       "\t\t\t\t<strong class=\"c-reference__summary\">출처</strong><span class=\"c-reference__text\">{{=it.source}}</span>\n",
       "\t\t\t</div>\n",
       "\t\t{{?}}\n",
       "\n",
       "\t\t\n",
       "\t\t{{? it.isExpertAnswer && it.detailExpertInfo.showExpertBusinessCard}}\n",
       "\t\t\t\n",
       "\n",
       "<div class=\"business-card\">\n",
       "\t\n",
       "\t{{? it.detailExpertInfo.expertInfo != null && it.detailExpertInfo.expertInfo.expertInfoWithOrganization != null && it.detailExpertInfo.expertInfo.expertInfoWithOrganization.thumbnailUrlForBusinessCard != null && it.detailExpertInfo.expertInfo.expertInfoWithOrganization.thumbnailUrlForBusinessCard != ''}}\n",
       "\t\t<div class=\"business-card__thumb\">\n",
       "\t\t\t<a href=\"/userinfo/expert/index.naver?u={{=it.encodedUserKey}}\" target=\"_blank\" onclick=\"naver.kin.pc.common.nClicks('end.nmbimg', '', '', event);\" class=\"business-card__thumb_img\" style=\"background-image: url('{{=it.detailExpertInfo.expertInfo.expertInfoWithOrganization.thumbnailUrlForBusinessCard}}')\"></a>\n",
       "\t\t</div>\n",
       "\t{{?}}\n",
       "\n",
       "\t<div class=\"business-card__content\">\n",
       "\t\t\n",
       "\t\t<div class=\"business-card__content-info\">\n",
       "\t\t\t<strong class=\"business-card__name\" onclick=\"naver.kin.pc.common.nClicks('end.nmbtxt', '', '', event);\">\n",
       "\t\t\t\t{{=it.userText}}\n",
       "\t\t\t\t{{? it.detailExpertInfo.expertInfo != null && it.detailExpertInfo.expertInfo.edir != null && it.detailExpertInfo.expertInfo.edir != '' && it.detailExpertInfo.expertInfo.expertInfoWithOrganization.occupation != '일반의'}}  {{~ it.detailExpertInfo.expertInfo.edir : expertDirectory : index}}{{? index > 0}}, {{?}}{{=expertDirectory.name}}{{~}} {{?}}\n",
       "\t\t\t\t{{? it.detailExpertInfo.expertInfo != null && it.detailExpertInfo.expertInfo.expertInfoWithOrganization != null && it.detailExpertInfo.expertInfo.expertInfoWithOrganization.organizationName != null && it.detailExpertInfo.expertInfo.expertInfoWithOrganization.organizationName == '마을변호사'}}마을변호사{{??}}{{=it.detailExpertInfo.expertInfo.expertInfoWithOrganization.occupation}}{{?}}\n",
       "\t\t\t</strong>\n",
       "\t\t\t<div class=\"business-card__info\">\n",
       "\t\t\t\t{{? it.detailExpertInfo.expertInfo != null && it.detailExpertInfo.expertInfo.expertInfoWithOrganization != null && it.detailExpertInfo.expertInfo.expertInfoWithOrganization.companyOpen == 'Y' && it.detailExpertInfo.expertInfo.expertInfoWithOrganization.companyName != null && it.detailExpertInfo.expertInfo.expertInfoWithOrganization.companyName != ''}}\n",
       "\t\t\t\t\t<em class=\"business-card__info-brand\">{{=it.detailExpertInfo.expertInfo.expertInfoWithOrganization.companyName}}</em>\n",
       "\t\t\t\t{{?}}\n",
       "\t\t\t\t{{? it.detailExpertInfo.expertInfo != null && it.detailExpertInfo.expertInfo.expertInfoWithOrganization != null && it.detailExpertInfo.expertInfo.expertInfoWithOrganization.telOpen == 'Y' && it.detailExpertInfo.expertInfo.expertInfoWithOrganization.telephone != null && it.detailExpertInfo.expertInfo.expertInfoWithOrganization.telephone != ''}}\n",
       "\t\t\t\t\t<span class=\"business-card__info-contact\">{{=it.detailExpertInfo.expertInfo.expertInfoWithOrganization.telephone}}</span>\n",
       "\t\t\t\t{{?}}\n",
       "\t\t\t</div>\n",
       "\t\t\t<div class=\"business-card__description\">\n",
       "\t\t\t\t<p class=\"business-card__detail business-card__detail--line-2\">{{=it.detailExpertInfo.introduction}}</p>\n",
       "\t\t\t</div>\n",
       "\t\t</div>\n",
       "\n",
       "\t\t\n",
       "\t\t<div class=\"business-card__group-button\">\n",
       "\t\t\t{{? it.detailExpertInfo.expertMeta != null && it.detailExpertInfo.expertMeta.linkType == 'TALK'}}\n",
       "\t\t\t\t{{? it.detailExpertInfo.expertMeta.talkUrl != null && it.detailExpertInfo.expertMeta.talkUrl != ''}}\n",
       "\t\t\t\t\t<a href=\"#\" onclick=\"naver.kin.pc.common.nClicks('end.nmbtalk', '', '', event);window.open('{{=it.detailExpertInfo.expertMeta.talkUrl}}?frm=pkin', 'talkPopup', 'width=471, height=640');\" class=\"business-card__button\" role=\"button\">\n",
       "\t\t\t\t\t\t<span class=\"business-card__button-inner\">\n",
       "\t\t\t\t\t\t\t<i class=\"icon icon_toctoc\" aria-hidden=\"true\"></i><span class=\"business-card__button-name\">톡톡</span>\n",
       "\t\t\t\t\t\t</span>\n",
       "\t\t\t\t\t</a>\n",
       "\t\t\t\t{{??}}\n",
       "\t\t\t\t\t<span class=\"business-card__button is-disabled\" role=\"button\">\n",
       "\t\t\t\t\t\t<span class=\"business-card__button-inner\">\n",
       "\t\t\t\t\t\t\t<i class=\"icon icon_toctoc\" aria-hidden=\"true\"></i><span class=\"business-card__button-name\">톡톡</span>\n",
       "\t\t\t\t\t\t</span>\n",
       "\t\t\t\t\t</span>\n",
       "\t\t\t\t{{?}}\n",
       "\t\t\t{{??}}\n",
       "\t\t\t\t{{? it.detailExpertInfo.expertMeta != null && it.detailExpertInfo.expertMeta.reservationUrl != null && it.detailExpertInfo.expertMeta.reservationUrl != ''}}\n",
       "\t\t\t\t\t<a href=\"{{=it.detailExpertInfo.expertMeta.reservationUrl}}\" target=\"_blank\" class=\"business-card__button\" role=\"button\" onclick=\"naver.kin.pc.common.nClicks('end.nmpbook', '', '', event);\">\n",
       "\t\t\t\t\t\t<span class=\"business-card__button-inner\">\n",
       "\t\t\t\t\t\t\t<i class=\"icon icon_reservation\" aria-hidden=\"true\"></i><span class=\"business-card__button-name\">예약</span>\n",
       "\t\t\t\t\t\t</span>\n",
       "\t\t\t\t\t</a>\n",
       "\t\t\t\t{{??}}\n",
       "\t\t\t\t\t<span class=\"business-card__button is-disabled\" role=\"button\">\n",
       "\t\t\t\t\t\t<span class=\"business-card__button-inner\">\n",
       "\t\t\t\t\t\t\t<i class=\"icon icon_reservation\" aria-hidden=\"true\"></i><span class=\"business-card__button-name\">예약</span>\n",
       "\t\t\t\t\t\t</span>\n",
       "\t\t\t\t\t</span>\n",
       "\t\t\t\t{{?}}\n",
       "\t\t\t{{?}}\n",
       "\n",
       "\t\t\t{{? it.detailExpertInfo.expertInfo != null && it.detailExpertInfo.expertInfo.expertInfoWithOrganization != null && it.detailExpertInfo.expertInfo.expertInfoWithOrganization.homepageOpen == 'Y' && it.detailExpertInfo.expertInfo.expertInfoWithOrganization.companyHomepage != null && it.detailExpertInfo.expertInfo.expertInfoWithOrganization.companyHomepage != ''}}\n",
       "\t\t\t\t<a href=\"{{=it.detailExpertInfo.expertInfo.expertInfoWithOrganization.companyHomepage}}\" target=\"_blank\" class=\"business-card__button\" role=\"button\" onclick=\"naver.kin.pc.common.nClicks('end.nmbhome', '', '', event);\">\n",
       "\t\t\t\t\t<span class=\"business-card__button-inner\">\n",
       "\t\t\t\t\t\t<i class=\"icon icon_homepage\" aria-hidden=\"true\"></i><span class=\"business-card__button-name\">홈페이지</span>\n",
       "\t\t\t\t\t</span>\n",
       "\t\t\t\t</a>\n",
       "\t\t\t{{??}}\n",
       "\t\t\t\t<span class=\"business-card__button is-disabled\" role=\"button\">\n",
       "\t\t\t\t\t<span class=\"business-card__button-inner\">\n",
       "\t\t\t\t\t\t<i class=\"icon icon_homepage\" aria-hidden=\"true\"></i><span class=\"business-card__button-name\">홈페이지</span>\n",
       "\t\t\t\t\t</span>\n",
       "\t\t\t\t</span>\n",
       "\t\t\t{{?}}\n",
       "\n",
       "\t\t\t{{? it.detailExpertInfo.expertInfo != null && it.detailExpertInfo.expertInfo.expertInfoWithOrganization != null && it.detailExpertInfo.expertInfo.expertInfoWithOrganization.locationOpen == 'Y' && it.detailExpertInfo.expertInfo.expertInfoWithOrganization.locationUrl != null && it.detailExpertInfo.expertInfo.expertInfoWithOrganization.locationUrl != ''}}\n",
       "\t\t\t\t<a href=\"{{=it.detailExpertInfo.expertInfo.expertInfoWithOrganization.locationUrl}}\" target=\"_blank\" class=\"business-card__button\" role=\"button\" onclick=\"naver.kin.pc.common.nClicks('end.nmbmap', '', '', event);\">\n",
       "\t\t\t\t\t<span class=\"business-card__button-inner\">\n",
       "\t\t\t\t\t\t<i class=\"icon icon_location\" aria-hidden=\"true\"></i><span class=\"business-card__button-name\">위치</span>\n",
       "\t\t\t\t\t</span>\n",
       "\t\t\t\t</a>\n",
       "\t\t\t{{??}}\n",
       "\t\t\t\t<span class=\"business-card__button is-disabled\" role=\"button\">\n",
       "\t\t\t\t\t<span class=\"business-card__button-inner\">\n",
       "\t\t\t\t\t\t<i class=\"icon icon_location\" aria-hidden=\"true\"></i><span class=\"business-card__button-name\">위치</span>\n",
       "\t\t\t\t\t</span>\n",
       "\t\t\t\t</span>\n",
       "\t\t\t{{?}}\n",
       "\t\t</div>\n",
       "\t</div>\n",
       "</div>\n",
       "\t\t{{?? it.openedAnswer && it.businessCardAnswer}}\n",
       "\t\t\t<div class=\"_businessCardArea\" data-answer-no=\"{{=it.answerNo}}\" data-u=\"{{=it.userKey}}\"></div>\n",
       "\t\t{{?}}\n",
       "\n",
       "\t\t{{? it.openedAnswer && it.detailCounselor != null}}\n",
       "\t\t\n",
       "\n",
       "\n",
       "\n",
       "<div class=\"expert__Product\">\n",
       "\t<div class=\"expert__titleSection\">\n",
       "\t\t<div class=\"subDescription\">\n",
       "\t\t\t<span class=\"name\">{{=it.userText}}</span>님과 자세한 1:1 상담하고 싶다면?\n",
       "\t\t</div>\n",
       "\t\t<a href=\"{{=it.expertMobileDomain}}/expert/profile/home?storeId={{=it.detailCounselor.storeId}}\" class=\"titleArea\" onclick=\"naver.kin.pc.common.nClicks('end*e.exrprofile', '', '', event);\">\n",
       "\t\t\t<div class=\"title\">\n",
       "\t\t\t\t<span class=\"badgeExpert\">\n",
       "\t\t\t\t\t<span class=\"blind\">eXpert</span>\n",
       "\t\t\t\t\t<svg xmlns=\"http://www.w3.org/2000/svg\" width=\"74\" height=\"23\" viewBox=\"0 0 74 23\">\n",
       "\t\t\t\t\t\t<defs>\n",
       "\t\t\t\t\t\t<linearGradient id=\"prefix__a\" x1=\"49.883%\" x2=\"49.883%\" y1=\"100%\" y2=\"28.629%\">\n",
       "\t\t\t\t\t\t\t<stop offset=\"0%\" stop-color=\"#4A65F6\"/>\n",
       "\t\t\t\t\t\t\t<stop offset=\"64.257%\" stop-color=\"#2439A9\"/>\n",
       "\t\t\t\t\t\t\t<stop offset=\"100%\" stop-color=\"#172A8F\"/>\n",
       "\t\t\t\t\t\t</linearGradient>\n",
       "\t\t\t\t\t\t</defs>\n",
       "\t\t\t\t\t\t<path fill=\"url(#prefix__a)\"\n",
       "\t\t\t\t\t\t\t  d=\"M19.599 9.144l-5.939 7.742c-.064.093-.072.212-.022.312.05.1.151.167.265.173h1.842c.16 0 .31-.073.406-.199l3.464-4.5 3.464 4.5c.096.125.246.199.406.2h1.836c.113-.006.215-.072.266-.172.051-.1.043-.22-.02-.314l-5.968-7.742z\"/>\n",
       "\t\t\t\t\t\t<path fill=\"#4A65F6\"\n",
       "\t\t\t\t\t\t\t  d=\"M29.77 22.866h-1.606c-.174 0-.315-.139-.315-.31V4.746c0-.172.141-.31.315-.31h1.606c.174 0 .315.138.315.31v1.352c.107-.109.252-.245.438-.416.291-.264.607-.5.944-.703.403-.237.833-.424 1.282-.556.531-.163 1.084-.245 1.64-.246 1.691.006 3.297.73 4.409 1.986 1.237 1.276 1.915 2.981 1.89 4.746.025 1.763-.654 3.465-1.89 4.737-1.112 1.255-2.719 1.977-4.408 1.98-1.037-.006-2.053-.285-2.945-.808-.318-.194-.619-.413-.9-.656-.186-.155-.334-.295-.457-.42v6.838c-.013.163-.152.289-.318.286zm4.629-16.612c-1.09 0-2.094.466-2.982 1.392-1.79 1.817-1.79 4.71 0 6.527.888.932 1.89 1.396 2.982 1.396 1.036 0 1.984-.457 2.809-1.356.834-.899 1.285-2.081 1.26-3.3.026-1.22-.425-2.404-1.26-3.304-.825-.902-1.77-1.355-2.809-1.355zm-21.778 5.495H2.544c.11.808.756 3.816 4.302 3.816 1.523-.02 2.954-.724 3.889-1.911.056-.064.136-.103.221-.108.086-.005.17.025.232.083l1.02 1.004c.106.11.115.28.022.4-1.304 1.626-3.284 2.58-5.384 2.593-1.745.01-3.413-.703-4.6-1.964C.98 14.396.283 12.68.314 10.903.282 9.13.969 7.416 2.223 6.145c1.152-1.255 2.788-1.97 4.503-1.968 1.69-.037 3.316.63 4.481 1.837 1.405 1.466 2.035 3.495 1.704 5.486-.029.138-.148.24-.29.249zM2.563 9.812h8.187c-.142-.95-.602-1.824-1.306-2.486-.732-.698-1.714-1.08-2.73-1.063-1.042-.007-2.045.394-2.787 1.116-.709.645-1.187 1.498-1.364 2.433zM64 4.466V6.08c0 .172-.141.311-.315.311h-.674c-1.003-.015-1.97.37-2.68 1.07-.749.738-1.152 1.752-1.111 2.797v6.813c0 .171-.141.31-.315.31h-1.593c-.174 0-.315-.139-.315-.31V4.746c0-.172.14-.31.315-.31h1.606c.174 0 .314.138.314.31v1.082c1.556-1.623 3.716-1.694 4.488-1.663.156.017.276.146.28.301zm7.721 13.16c-1.003.053-1.982-.313-2.698-1.007-.65-.668-.98-1.62-.98-2.828V6.508h-2.088c-.173 0-.314-.139-.314-.31V4.737c0-.172.14-.311.314-.311h2.088V1.318c0-.172.141-.311.315-.311h1.61c.173 0 .314.14.314.31v3.109h2.46c.173 0 .314.14.314.31v1.48c0 .172-.14.311-.315.311h-2.478v7.264c0 1.209.488 1.774 1.537 1.774.541-.008 1.075-.122 1.571-.335.075-.032.161-.024.229.02.068.045.108.12.108.2v1.474c0 .159-.094.303-.242.366-.552.229-1.146.343-1.745.336zM54.536 11.75H44.46c.107.808.756 3.816 4.301 3.816 1.523-.024 2.952-.727 3.89-1.911.055-.064.135-.103.22-.108.086-.005.17.025.233.083l1.017 1.004c.106.11.117.28.025.4-1.304 1.626-3.285 2.58-5.385 2.593-1.748.012-3.422-.7-4.613-1.964-1.263-1.267-1.957-2.982-1.927-4.759-.033-1.774.654-3.487 1.908-4.758 1.152-1.232 2.766-1.943 4.464-1.967 1.698-.025 3.332.639 4.52 1.836 1.413 1.462 2.051 3.492 1.726 5.486-.03.142-.155.246-.303.249zM44.48 9.812h8.187c-.142-.95-.602-1.825-1.307-2.486-.73-.698-1.711-1.08-2.727-1.063-1.042-.008-2.044.394-2.787 1.116-.71.644-1.188 1.498-1.366 2.433zm-24.88-.668L26.451.2c.099-.128.253-.201.416-.199h1.836c.113.005.215.07.266.171.051.101.043.22-.02.314l-9.35 12.187-5.939-7.743c-.064-.092-.072-.211-.022-.312.05-.1.151-.166.265-.172h1.842c.16.005.31.086.4.217l3.454 4.482z\"/>\n",
       "\t\t\t\t\t</svg>\n",
       "\t\t\t\t</span>상담 지금 바로 이용해보세요.\n",
       "\t\t\t</div><span class=\"iconArrow\"><svg xmlns=\"http://www.w3.org/2000/svg\" fill=\"none\" width=\"16\" height=\"16\" viewBox=\"0 0 16 16\"><path fill=\"#4a65f6\" d=\"M7.445 6.167l1.053 1.034H5.592a.792.792 0 0 0-.792.791v.016c0 .437.355.791.792.791h2.785l-.017.104-.89.899c-.282.283-.35.737-.118 1.061a.79.79 0 0 0 1.209.102l2.406-2.428a.804.804 0 0 0 0-1.132l-2.4-2.37a.788.788 0 0 0-1.122 0 .806.806 0 0 0 0 1.132\"/><circle cx=\"8\" cy=\"8\" r=\"7.2\" stroke=\"#4a65f6\" stroke-width=\"1.5\"/></svg></span>\n",
       "\n",
       "\t</div>\n",
       "\t<div class=\"expert__productCard\">\n",
       "\t\t<div class=\"listSection\">\n",
       "\t\t\t{{~it.detailCounselor.products : product}}\n",
       "\t\t\t\t<a href=\"{{=it.expertMobileDomain}}/mobile/expert/product/detail?storeId={{=product.storeId}}&productId={{=product.productId}}\" class=\"item\" onclick=\"naver.kin.pc.common.nClicks('end*e.exrproduct', '', '', event);\">\n",
       "\t\t\t\t<div class=\"itemInner\">\n",
       "\t\t\t\t\t<!-- [D] 섬네일 있는 경우 추가 -->\n",
       "\t\t\t\t\t{{? product.thumbnailUrl != null && product.thumbnailUrl != ''}}\n",
       "\t\t\t\t\t\t<div class=\"itemThumbnail\">\n",
       "\t\t\t\t\t\t\t<div class=\"thumbnail\" style=\"background-image: url('{{=product.thumbnailUrl}}');\"></div>\n",
       "\t\t\t\t\t\t</div>\n",
       "\t\t\t\t\t{{?}}\n",
       "\t\t\t\t\t<div class=\"itemInfo\">\n",
       "\t\t\t\t\t\t<p class=\"itemTitle\">{{=product.name}}</p>\n",
       "\t\t\t\t\t\t<p class=\"itemText\">{{=product.content}}</p>\n",
       "\t\t\t\t\t\t<div class=\"price\">\n",
       "\t\t\t\t\t\t\t<strong class=\"number\">{{=product.viewPrice}}<span class=\"unit\">원</span> /</strong>\n",
       "\t\t\t\t\t\t\t\t{{? product.type == 'COUNSEL_CASE'}}\n",
       "\t\t\t\t\t\t\t\t\t작업의뢰 {{=product.duration}}<span class=\"unit\">회</span>\n",
       "\t\t\t\t\t\t\t\t{{?}}\n",
       "\t\t\t\t\t\t\t\t{{? product.type == 'COUNSEL_TIME'}}\n",
       "\t\t\t\t\t\t\t\t\t상담 {{=product.duration}}<span class=\"unit\">분</span>\n",
       "\t\t\t\t\t\t\t\t{{?}}\n",
       "\t\t\t\t\t\t</div>\n",
       "\t\t\t\t\t</div>\n",
       "\t\t\t\t</div>\n",
       "\t\t\t\t</a>\n",
       "\t\t\t{{~}}\n",
       "\t\t\t<!--  [D] 배너 카드 (목록의 아이템이 1개만 노출될경우 함께 노출)-->\n",
       "\t\t\t{{? it.detailCounselor.products.length == 1}}\n",
       "\t\t\t\t<a href=\"{{=it.expertMobileDomain}}/mobile/expert/category/home?categoryId={{=it.detailCounselor.category.id}}\" class=\"item\" onclick=\"naver.kin.pc.common.nClicks('end*e.exrbanner', '', '', event);\">\n",
       "\t\t\t\t\t<div class=\"itemInner itemBanner\">\n",
       "\t\t\t\t\t\t<div class=\"itemInfo\">\n",
       "\t\t\t\t\t\t\t<span class=\"bannerLogo\">\n",
       "\t\t\t\t\t\t\t\t<span class=\"blind\">eXpert</span>\n",
       "\t\t\t\t\t\t\t\t<svg xmlns=\"http://www.w3.org/2000/svg\" width=\"74\" height=\"23\" viewBox=\"0 0 74 23\">\n",
       "\t\t\t\t\t\t\t\t\t<defs>\n",
       "\t\t\t\t\t\t\t\t\t<linearGradient id=\"prefix__a\" x1=\"49.883%\" x2=\"49.883%\" y1=\"100%\" y2=\"28.629%\">\n",
       "\t\t\t\t\t\t\t\t\t\t<stop offset=\"0%\" stop-color=\"#4A65F6\"/>\n",
       "\t\t\t\t\t\t\t\t\t\t<stop offset=\"64.257%\" stop-color=\"#2439A9\"/>\n",
       "\t\t\t\t\t\t\t\t\t\t<stop offset=\"100%\" stop-color=\"#172A8F\"/>\n",
       "\t\t\t\t\t\t\t\t\t</linearGradient>\n",
       "\t\t\t\t\t\t\t\t\t</defs>\n",
       "\t\t\t\t\t\t\t\t\t<path fill=\"url(#prefix__a)\"\n",
       "\t\t\t\t\t\t\t\t\t\t  d=\"M19.599 9.144l-5.939 7.742c-.064.093-.072.212-.022.312.05.1.151.167.265.173h1.842c.16 0 .31-.073.406-.199l3.464-4.5 3.464 4.5c.096.125.246.199.406.2h1.836c.113-.006.215-.072.266-.172.051-.1.043-.22-.02-.314l-5.968-7.742z\"/>\n",
       "\t\t\t\t\t\t\t\t\t<path fill=\"#4A65F6\"\n",
       "\t\t\t\t\t\t\t\t\t\t  d=\"M29.77 22.866h-1.606c-.174 0-.315-.139-.315-.31V4.746c0-.172.141-.31.315-.31h1.606c.174 0 .315.138.315.31v1.352c.107-.109.252-.245.438-.416.291-.264.607-.5.944-.703.403-.237.833-.424 1.282-.556.531-.163 1.084-.245 1.64-.246 1.691.006 3.297.73 4.409 1.986 1.237 1.276 1.915 2.981 1.89 4.746.025 1.763-.654 3.465-1.89 4.737-1.112 1.255-2.719 1.977-4.408 1.98-1.037-.006-2.053-.285-2.945-.808-.318-.194-.619-.413-.9-.656-.186-.155-.334-.295-.457-.42v6.838c-.013.163-.152.289-.318.286zm4.629-16.612c-1.09 0-2.094.466-2.982 1.392-1.79 1.817-1.79 4.71 0 6.527.888.932 1.89 1.396 2.982 1.396 1.036 0 1.984-.457 2.809-1.356.834-.899 1.285-2.081 1.26-3.3.026-1.22-.425-2.404-1.26-3.304-.825-.902-1.77-1.355-2.809-1.355zm-21.778 5.495H2.544c.11.808.756 3.816 4.302 3.816 1.523-.02 2.954-.724 3.889-1.911.056-.064.136-.103.221-.108.086-.005.17.025.232.083l1.02 1.004c.106.11.115.28.022.4-1.304 1.626-3.284 2.58-5.384 2.593-1.745.01-3.413-.703-4.6-1.964C.98 14.396.283 12.68.314 10.903.282 9.13.969 7.416 2.223 6.145c1.152-1.255 2.788-1.97 4.503-1.968 1.69-.037 3.316.63 4.481 1.837 1.405 1.466 2.035 3.495 1.704 5.486-.029.138-.148.24-.29.249zM2.563 9.812h8.187c-.142-.95-.602-1.824-1.306-2.486-.732-.698-1.714-1.08-2.73-1.063-1.042-.007-2.045.394-2.787 1.116-.709.645-1.187 1.498-1.364 2.433zM64 4.466V6.08c0 .172-.141.311-.315.311h-.674c-1.003-.015-1.97.37-2.68 1.07-.749.738-1.152 1.752-1.111 2.797v6.813c0 .171-.141.31-.315.31h-1.593c-.174 0-.315-.139-.315-.31V4.746c0-.172.14-.31.315-.31h1.606c.174 0 .314.138.314.31v1.082c1.556-1.623 3.716-1.694 4.488-1.663.156.017.276.146.28.301zm7.721 13.16c-1.003.053-1.982-.313-2.698-1.007-.65-.668-.98-1.62-.98-2.828V6.508h-2.088c-.173 0-.314-.139-.314-.31V4.737c0-.172.14-.311.314-.311h2.088V1.318c0-.172.141-.311.315-.311h1.61c.173 0 .314.14.314.31v3.109h2.46c.173 0 .314.14.314.31v1.48c0 .172-.14.311-.315.311h-2.478v7.264c0 1.209.488 1.774 1.537 1.774.541-.008 1.075-.122 1.571-.335.075-.032.161-.024.229.02.068.045.108.12.108.2v1.474c0 .159-.094.303-.242.366-.552.229-1.146.343-1.745.336zM54.536 11.75H44.46c.107.808.756 3.816 4.301 3.816 1.523-.024 2.952-.727 3.89-1.911.055-.064.135-.103.22-.108.086-.005.17.025.233.083l1.017 1.004c.106.11.117.28.025.4-1.304 1.626-3.285 2.58-5.385 2.593-1.748.012-3.422-.7-4.613-1.964-1.263-1.267-1.957-2.982-1.927-4.759-.033-1.774.654-3.487 1.908-4.758 1.152-1.232 2.766-1.943 4.464-1.967 1.698-.025 3.332.639 4.52 1.836 1.413 1.462 2.051 3.492 1.726 5.486-.03.142-.155.246-.303.249zM44.48 9.812h8.187c-.142-.95-.602-1.825-1.307-2.486-.73-.698-1.711-1.08-2.727-1.063-1.042-.008-2.044.394-2.787 1.116-.71.644-1.188 1.498-1.366 2.433zm-24.88-.668L26.451.2c.099-.128.253-.201.416-.199h1.836c.113.005.215.07.266.171.051.101.043.22-.02.314l-9.35 12.187-5.939-7.743c-.064-.092-.072-.211-.022-.312.05-.1.151-.166.265-.172h1.842c.16.005.31.086.4.217l3.454 4.482z\"/>\n",
       "\t\t\t\t\t\t\t\t</svg>\n",
       "\t\t\t\t\t\t\t</span>\n",
       "\t\t\t\t\t\t\t<p class=\"itemText\">더 많은 엑스퍼트와 1:1 상담을 시작해보세요!</p>\n",
       "\t\t\t\t\t\t\t<div class=\"bannerLink\">\n",
       "\t\t\t\t\t\t\t\t<strong>{{=it.detailCounselor.category.name}}</strong> 분야 바로가기\n",
       "\t\t\t\t\t\t\t</div>\n",
       "\t\t\t\t\t\t</div>\n",
       "\t\t\t\t\t</div>\n",
       "\t\t\t\t</a>\n",
       "\t\t\t{{?}}\n",
       "\t\t</div>\n",
       "\t</div>\n",
       "</div>\n",
       "\n",
       "\t\t{{?}}\n",
       "\n",
       "\t\t\n",
       "\n",
       "\t\t\n",
       "\t\t{{? it.volunteerAnswer}}\n",
       "\t\t\t<div class=\"c-certify-group c-certify-group--default\">\n",
       "\t\t\t\t<div class=\"c-certify-group-inner\">\n",
       "\t\t\t\t\t<span class=\"c-certify-group__icon\"><i class=\"icon_edu_give\"></i></span>\n",
       "\t\t\t\t\t<strong class=\"c-certify-group__text\"><a href=\"/volunteer/index.nhn\" class=\"text-color--secondary\">지식iN 교육기부</a> 참여로 작성된 답변입니다.</strong>\n",
       "\t\t\t\t</div>\n",
       "\t\t\t</div>\n",
       "\t\t{{?}}\n",
       "\n",
       "\t\t\n",
       "\t\t{{? it.isAbnormalAnswer == false}}\n",
       "\t\t\t{{? it.namecard != null && it.namecard.government != null && it.namecard.government}}\n",
       "\t\t\t\t\n",
       "\t\t\t\t<div class=\"c-guideline c-guideline-default\">\n",
       "\t\t\t\t\t<strong class=\"c-guideline__title\"><i class=\"icon_notice\"></i>알아두세요!</strong>\n",
       "\t\t\t\t\t<p class=\"c-guideline__desc\">위 답변은 질문자의 질의 내용을 기반으로 한 정부행정 담당자의 소견으로, 정책 질의의 구체적 사실과 정황 등에 따라 달라질 수 있습니다.</p>\n",
       "\t\t\t\t</div>\n",
       "\t\t\t{{?? !it.isExpertAnswer && it.isExpertDirectory && !it.isKinIAnswer }}\n",
       "\t\t\t\t\n",
       "\t\t\t\t<div class=\"c-guideline c-guideline-default\">\n",
       "\t\t\t\t\t<strong class=\"c-guideline__title\"><i class=\"icon_notice\"></i>알아두세요!</strong>\n",
       "\t\t\t\t\t<p class=\"c-guideline__desc\">본 답변은 참고 용도로만 활용 가능하며 정확한 정보는 관련기관에서 확인해보시기 바랍니다.</p>\n",
       "\t\t\t\t\t\n",
       "\t\t\t\t\t{{? it.pointGiftAnswerButton != null && it.pointGiftAnswerButton.limitedDirectory }}\n",
       "\t\t\t\t\t\t<p class=\"c-guideline__desc\">해당 분야에서는 지식iN에 등록된 전문가의 답변에만 포인트 선물을 할 수 있습니다.</p>\n",
       "\t\t\t\t\t{{?? it.pointGiftAnswerButton != null && it.pointGiftAnswerButton.exposure }}\n",
       "\t\t\t\t\t\t<p class=\"c-guideline__desc\">위 답변은 답변작성자가 경험과 지식을 바탕으로 작성한 내용입니다. 포인트 선물할 때 참고해주세요.</p>\n",
       "\t\t\t\t\t{{?}}\n",
       "\t\t\t\t</div>\n",
       "\t\t\t{{?? it.isExpertAnswer}}\n",
       "\t\t\t\t\n",
       "\t\t\t\t<div class=\"c-guideline c-guideline-default\">\n",
       "\t\t\t\t\t<strong class=\"c-guideline__title\"><i class=\"icon_notice\"></i>알아두세요!</strong>\n",
       "\t\t\t\t\t<ul class=\"c-guideline__list c-guideline__list--number\">\n",
       "\t\t\t\t\t\t{{~ it.detailExpertInfo.disclaimer : disclaimer : index}}\n",
       "\t\t\t\t\t\t\t<li class=\"c-guideline__item\"><i class=\"c-guideline-symbol\">{{=(index + 1)}}.</i>{{=disclaimer}}</li>\n",
       "\t\t\t\t\t\t{{~}}\n",
       "\t\t\t\t\t\t{{? it.pointGiftAnswerButton != null && it.pointGiftAnswerButton.exposure }}\n",
       "\t\t\t\t\t\t\t<li class=\"c-guideline__desc\">위 답변은 답변작성자가 경험과 지식을 바탕으로 작성한 내용입니다. 포인트 선물할 때 참고해주세요.</li>\n",
       "\t\t\t\t\t\t{{?}}\n",
       "\t\t\t\t\t</ul>\n",
       "\t\t\t\t</div>\n",
       "\t\t\t{{?? it.pointGiftAnswerButton != null && it.pointGiftAnswerButton.exposure }}\n",
       "\t\t\t\t\n",
       "\t\t\t\t<div class=\"c-guideline c-guideline-default\">\n",
       "\t\t\t\t\t<strong class=\"c-guideline__title\"><i class=\"icon_notice\"></i>알아두세요!</strong>\n",
       "\t\t\t\t\t<p class=\"c-guideline__desc\">위 답변은 답변작성자가 경험과 지식을 바탕으로 작성한 내용입니다. 포인트 선물할 때 참고해주세요.</p>\n",
       "\t\t\t\t</div>\n",
       "\t\t\t{{?}}\n",
       "\t\t{{?}}\n",
       "\n",
       "\t\t\n",
       "\t\t<p class=\"c-heading-answer__content-date\">{{=it.formattedModifyTime}}</p>\n",
       "\t{{?}}\n",
       "\n",
       "\t\n",
       "\t{{? it.containsKinIOriginAnswer}}\n",
       "\t\t\n",
       "\n",
       "\n",
       "<div id=\"linkedAnswerList\" class=\"divided_question\" data-answer-no=\"{{=it.answerNo}}\" style=\"display: none;\">\n",
       "\t<div class=\"divided_question__title-area\">\n",
       "\t\t<em class=\"divided_question__title\">이 답변과 엮인 질문</em>\n",
       "\t\t<div class=\"c-tooltip c-tooltip--left\">\n",
       "\t\t\t<a href=\"#\" id=\"btnOpen\" class=\"c-tooltip__title _linkedAnswerListGuideBtn\" role=\"button\">\n",
       "\t\t\t\t<span class=\"icon icon_help\"><span class=\"blind\">도움말</span></span>\n",
       "\t\t\t</a>\n",
       "\t\t\t<div id=\"linkedAnswerGuideLayer\" class=\"c-tooltip__layer _linkedAnswerListGuideLayer\" role=\"dialog\" aria-labelledby=\"linkedAnswerGuideLayerTitle\" aria-hidden=\"true\">\n",
       "\t\t\t\t<h1 id=\"linkedAnswerGuideLayerTitle\" class=\"blind\" tabindex=\"0\">엮인 질문 설명 레이어</h1>\n",
       "\t\t\t\t<p class=\"c-tooltip__layer__description\">\n",
       "\t\t\t\t\t<strong class=\"title\">엮인 질문이란? <sup class=\"sp_common ico_beta\"><span class=\"blind\">Beta</span></sup></strong>\n",
       "\t\t\t\t\t<p class=\"info_text\">답변을 인용한 질문들을 모아서 보여주는 것입니다. 답변과 관련된 질문 목록을 보실 수 있습니다.</p>\n",
       "\t\t\t\t</p>\n",
       "\t\t\t\t<a href=\"#\" class=\"c-tooltip__layer__button-close _linkedAnswerListGuideCloseBtn\" role=\"button\"><span class=\"blind\">레이어 닫기</span><i class=\"icon icon_close\"></i></a>\n",
       "\t\t\t\t<span class=\"icon_arrow_up\"></span>\n",
       "\t\t\t</div>\n",
       "\t\t</div>\n",
       "\t</div>\n",
       "\t<table cellspacing=\"0\" class=\"table_board\" width=\"100%\">\n",
       "\t\t<caption><span class=\"blind\">제목제목</span></caption>\n",
       "\t\t<colgroup>\n",
       "\t\t\t<col>\n",
       "\t\t\t<col width=\"65\">\n",
       "\t\t\t<col width=\"100\">\n",
       "\t\t</colgroup>\n",
       "\t\t<thead class=\"blind\">\n",
       "\t\t<tr>\n",
       "\t\t\t<th scope=\"col\">제목</th>\n",
       "\t\t\t<th scope=\"col\">등록일</th>\n",
       "\t\t</tr>\n",
       "\t\t</thead>\n",
       "\t\t<tbody class=\"table_board__content _linkedAnswerListArea\"></tbody>\n",
       "\t</table>\n",
       "</div>\n",
       "\n",
       "\t{{?}}\n",
       "</div>\n",
       "\n",
       "\n",
       "\t\t\n",
       "\t\t{{? it.inotiStop == false }}\n",
       "\t\t\n",
       "\t\t\n",
       "\n",
       "{{? it.articleType == 'EXPERTISE'}}\n",
       "\t<div class=\"c-userinfo-answer _answerBottom\">\n",
       "\t\t<div class=\"c-userinfo-answer__left\">\n",
       "\n",
       "\t\t\t\n",
       "\t\t\t\n",
       "\n",
       "<div id=\"answerLikeArea_{{=it.answerNo}}\" class=\"likeit_user _answerLikeArea\" data-answer-no=\"{{=it.answerNo}}\">\n",
       "\t<div class=\"u_likeit _reactionModule\" data-sid=\"KIN\" data-cid=\"{{=it.gdid}}_{{=it.answerNo}}\" data-pid=\"{{=it.gdid}}\" data-display=\"inline-block\" style=\"display:none;\">\n",
       "\t\t<a class=\"u_likeit_button _face\" href=\"javascript:void(0)\" role=\"button\" aria-haspopup=\"true\" aria-pressed=\"false\" onclick=\"naver.kin.pc.common.nClicks('end*a.face', '', '', event);\">\n",
       "\t\t\t<span class=\"u_likeit_icons _icons\">\n",
       "\t\t\t\t<span class=\"u_likeit_icon\" style=\"z-index:2;\"><span class=\"u_likeit_blind\">표정</span></span>\n",
       "\t\t\t\t<span class=\"u_likeit_icon\" style=\"z-index:1;\"><span class=\"u_likeit_blind\">표정</span></span>\n",
       "\t\t\t</span>\n",
       "\t\t\t<span id=\"u_likeit_title_{{=it.answerNo}}\" class=\"u_likeit_blind\">좋아요 평가하기</span>\n",
       "\t\t\t<span class=\"u_likeit_text _count\">표정</span>\n",
       "\t\t\t\n",
       "\t\t</a>\n",
       "\t\t<ul class=\"u_likeit_layer _faceLayer\" role=\"radiogroup\" aria-labelledby=\"u_likeit_title_{{=it.answerNo}}\">\n",
       "\t\t\t<li class=\"u_likeit_list like\" role=\"presentation\">\n",
       "\t\t\t\t<{{? it.isRos}}span{{??}}a{{?}} class=\"u_likeit_list_button _button\" href=\"javascript:void(0)\" role=\"radio\" aria-checked=\"false\" data-type=\"like\" data-log=\"end*f.like|end*f.likeoff\" onclick=\"sendBaLog(BaPcEventType.QNA_DETAIL_5239, {dir_id:{{=it.dirId}}, doc_id:{{=it.docId}}, answer_no:{{=it.answerNo}}, face_type:'like'});\">\n",
       "\t\t\t\t\t<span class=\"u_likeit_list_name _label\">좋아요</span>\n",
       "\t\t\t\t\t<span class=\"u_likeit_list_count _count\"><span class=\"u_likeit_blind\">총:</span>0</span>\n",
       "\t\t\t\t</{{? it.isRos}}span{{??}}a{{?}}>\n",
       "\t\t\t</li>\n",
       "\t\t\t<li class=\"u_likeit_list useful\" role=\"presentation\">\n",
       "\t\t\t\t<{{? it.isRos}}span{{??}}a{{?}} class=\"u_likeit_list_button _button\" href=\"javascript:void(0)\" role=\"radio\" aria-checked=\"false\" data-type=\"useful\" data-log=\"end*f.useful|end*f.usefuloff\" onclick=\"sendBaLog(BaPcEventType.QNA_DETAIL_5239, {dir_id:{{=it.dirId}}, doc_id:{{=it.docId}}, answer_no:{{=it.answerNo}}, face_type:'useful'});\">\n",
       "\t\t\t\t\t<span class=\"u_likeit_list_name _label\">유익해요</span>\n",
       "\t\t\t\t\t<span class=\"u_likeit_list_count _count\"><span class=\"u_likeit_blind\">총:</span>0</span>\n",
       "\t\t\t\t</{{? it.isRos}}span{{??}}a{{?}}>\n",
       "\t\t\t</li>\n",
       "\t\t\t<li class=\"u_likeit_list haha\" role=\"presentation\">\n",
       "\t\t\t\t<{{? it.isRos}}span{{??}}a{{?}} class=\"u_likeit_list_button _button\" href=\"javascript:void(0)\" role=\"radio\" aria-checked=\"false\" data-type=\"haha\" data-log=\"end*f.haha|end*f.hahaoff\" onclick=\"sendBaLog(BaPcEventType.QNA_DETAIL_5239, {dir_id:{{=it.dirId}}, doc_id:{{=it.docId}}, answer_no:{{=it.answerNo}}, face_type:'haha'});\">\n",
       "\t\t\t\t\t<span class=\"u_likeit_list_name _label\">재밌어요</span>\n",
       "\t\t\t\t\t<span class=\"u_likeit_list_count _count\"><span class=\"u_likeit_blind\">총:</span>0</span>\n",
       "\t\t\t\t</{{? it.isRos}}span{{??}}a{{?}}>\n",
       "\t\t\t</li>\n",
       "\t\t\t<li class=\"u_likeit_list toobad\" role=\"presentation\">\n",
       "\t\t\t\t<{{? it.isRos}}span{{??}}a{{?}} class=\"u_likeit_list_button _button\" href=\"javascript:void(0)\" role=\"radio\" aria-checked=\"false\" data-type=\"toobad\" data-log=\"end*f.toobad|end*f.toobadoff\" onclick=\"sendBaLog(BaPcEventType.QNA_DETAIL_5239, {dir_id:{{=it.dirId}}, doc_id:{{=it.docId}}, answer_no:{{=it.answerNo}}, face_type:'toobad'});\">\n",
       "\t\t\t\t\t<span class=\"u_likeit_list_name _label\">동의못해요</span>\n",
       "\t\t\t\t\t<span class=\"u_likeit_list_count _count\"><span class=\"u_likeit_blind\">총:</span>0</span>\n",
       "\t\t\t\t</{{? it.isRos}}span{{??}}a{{?}}>\n",
       "\t\t\t</li>\n",
       "\t\t\t<li class=\"u_likeit_list likead _button\" role=\"presentation\">\n",
       "\t\t\t\t<{{? it.isRos}}span{{??}}a{{?}} class=\"u_likeit_list_button _button\" href=\"javascript:void(0)\" role=\"radio\" aria-checked=\"false\" data-type=\"likead\" data-log=\"end*f.likead|end*f.likeadoff\" onclick=\"sendBaLog(BaPcEventType.QNA_DETAIL_5239, {dir_id:{{=it.dirId}}, doc_id:{{=it.docId}}, answer_no:{{=it.answerNo}}, face_type:'likead'});\">\n",
       "\t\t\t\t\t<span class=\"u_likeit_list_name _label\">광고같아요</span>\n",
       "\t\t\t\t\t<span class=\"u_likeit_list_count _count\"><span class=\"u_likeit_blind\">총:</span>0</span>\n",
       "\t\t\t\t</{{? it.isRos}}span{{??}}a{{?}}>\n",
       "\t\t\t</li>\n",
       "\t\t</ul>\n",
       "\t</div>\n",
       "\t<a href=\"javascript:void(0)\" class=\"user_display _likeUserListBtn\" role=\"button\" aria-haspopup=\"true\" aria-pressed=\"false\" style=\"display:none;\" onclick=\"naver.kin.pc.common.nClicks('end*f.more', '', '', event);\">\n",
       "\t\t<span class=\"sp_likeit ico_ellipsis\"><span class=\"blind\">사용자 표시</span></span>\n",
       "\t</a>\n",
       "</div>\n",
       "\n",
       "\t\t\t\n",
       "\t\t\t{{? it.showCommentButton}}\n",
       "\t\t\t\t<button type=\"button\" aria-expanded=\"false\" aria-controls=\"answerCommentListArea\" id=\"cmtstr_{{=it.answerNo}}\" onclick=\"naver.kin.pc.common.nClicks('end*a.comment', '', '', event);return false;\" role=\"option\" aria-selected=\"false\" class=\"button_compose{{? it.isNotRecover}} _checkPartnerCenterActivity{{??}} _commentBtn{{?}}\">\n",
       "\t\t\t\t\t<i class=\"icon icon_compose_opinion\" aria-hidden=\"true\"></i>{{? it.revisedCommentCnt != null && it.revisedCommentCnt > 1000}}<em class=\"button_compose_count _commentCnt\">999+</em>{{?? it.revisedCommentCnt != null && it.revisedCommentCnt > 0}}<em class=\"button_compose_count _commentCnt\">{{=it.revisedCommentCnt}}</em>{{??}}<span class=\"button_compose_text _commentText\">댓글</span>{{?}}\n",
       "\t\t\t\t</button>\n",
       "\t\t\t{{?}}\n",
       "\t\t</div>\n",
       "\n",
       "\t\t{{? it.showUserBlockButton || it.showAnswerModifyButton}}\n",
       "\t\t\t<div class=\"c-userinfo-answer__right\">\n",
       "\t\t\t\t<div class=\"c-userinfo__button-setting\">\n",
       "\t\t\t\t\t<a href=\"#\" id=\"answerMenuButton{{=it.answerNo}}\" onclick=\"naver.kin.pc.common.nClicks('end*a.more', '', '', event);return false;\" class=\"button_compose _answerMenuLayerButton\" role=\"button\" aria-haspopup=\"true\" aria-expanded=\"false\"><i class=\"icon icon_compose_setting _answerMenuLayerButton\" aria-hidden=\"true\"></i><span class=\"blind\">더보기</span></a>\n",
       "\t\t\t\t\t<div class=\"c-userinfo__list-setting _answerMenuLayer\" role=\"listbox\" aria-hidden=\"true\">\n",
       "\n",
       "\t\t\t\t\t\t\n",
       "\t\t\t\t\t\t{{? it.showUserBlockButton}}\n",
       "\t\t\t\t\t\t\t<a href=\"#\" id=\"optBlock{{=it.answerNo}}\" onclick=\"naver.kin.pc.common.nClicks('end*a.block', '', '', event);return false;\" class=\"_ros _user_block_btn c-userinfo__setting-item _answerMenuButton\" role=\"button\" data-dir-id=\"{{=it.dirId}}\" data-doc-id=\"{{=it.docId}}\" data-answer-no=\"{{=it.answerNo}}\" data-open-flag=\"{{=it.openFlag}}\">차단</a>\n",
       "\t\t\t\t\t\t{{?}}\n",
       "\n",
       "\t\t\t\t\t\t\n",
       "\t\t\t\t\t\t{{? it.showAnswerModifyButton}}\n",
       "\t\t\t\t\t\t\t{{? it.isPortableDevice}}\n",
       "\t\t\t\t\t\t\t\t<a href=\"#\" id=\"optModify{{=it.answerNo}}\" class=\"c-userinfo__setting-item _ros _answerMenuButton\" onclick=\"naver.kin.pc.common.nClicks('end*a.morem', '', '', event);if (confirm('TEXT모드로 불러 오시겠습니까?\\n텍스트는 유지되나 글꼴 등의 편집 효과와 이미지 등의 첨부가 사라집니다.')) {loadModifyAnswerFrame({{=it.dirId}}, {{=it.docId}}, {{=it.answerNo}}, '{{=it.mdu}}', {{=it.editorVersion}}, {{=it.smartEditorOneAvailable}});}return false;\" role=\"option\">수정</a>\n",
       "\t\t\t\t\t\t\t{{??}}\n",
       "\t\t\t\t\t\t\t\t<a href=\"#\" id=\"optModify{{=it.answerNo}}\" class=\"c-userinfo__setting-item _ros _answerMenuButton\" onclick=\"naver.kin.pc.common.nClicks('end*a.morem', '', '', event);loadModifyAnswerFrame({{=it.dirId}}, {{=it.docId}}, {{=it.answerNo}}, '{{=it.mdu}}', {{=it.editorVersion}}, {{=it.smartEditorOneAvailable}});return false;\" role=\"option\">수정</a>\n",
       "\t\t\t\t\t\t\t{{?}}\n",
       "\t\t\t\t\t\t{{?}}\n",
       "\t\t\t\t\t</div>\n",
       "\t\t\t\t</div>\n",
       "\t\t\t</div>\n",
       "\t\t{{?}}\n",
       "\t</div>\n",
       "\n",
       "\t\n",
       "\t<div class=\"c-opinion _commentListArea\" data-answer-no=\"{{=it.answerNo}}\" data-thanks-message=\"{{=it.encodedThanksMessage}}\" style=\"display:none;\"></div>\n",
       "{{?? it.articleType != 'EXPERTISE' && it.isWebHelpDirectory == false}}\n",
       "\t<div class=\"c-userinfo-answer _answerBottom\">\n",
       "\t\t<div class=\"c-userinfo-answer__left\">\n",
       "\n",
       "\t\t\t\n",
       "\t\t\t\n",
       "\n",
       "<div id=\"answerLikeArea_{{=it.answerNo}}\" class=\"likeit_user _answerLikeArea\" data-answer-no=\"{{=it.answerNo}}\">\n",
       "\t<div class=\"u_likeit _reactionModule\" data-sid=\"KIN\" data-cid=\"{{=it.gdid}}_{{=it.answerNo}}\" data-pid=\"{{=it.gdid}}\" data-display=\"inline-block\" style=\"display:none;\">\n",
       "\t\t<a class=\"u_likeit_button _face\" href=\"javascript:void(0)\" role=\"button\" aria-haspopup=\"true\" aria-pressed=\"false\" onclick=\"naver.kin.pc.common.nClicks('end*a.face', '', '', event);\">\n",
       "\t\t\t<span class=\"u_likeit_icons _icons\">\n",
       "\t\t\t\t<span class=\"u_likeit_icon\" style=\"z-index:2;\"><span class=\"u_likeit_blind\">표정</span></span>\n",
       "\t\t\t\t<span class=\"u_likeit_icon\" style=\"z-index:1;\"><span class=\"u_likeit_blind\">표정</span></span>\n",
       "\t\t\t</span>\n",
       "\t\t\t<span id=\"u_likeit_title_{{=it.answerNo}}\" class=\"u_likeit_blind\">좋아요 평가하기</span>\n",
       "\t\t\t<span class=\"u_likeit_text _count\">표정</span>\n",
       "\t\t\t\n",
       "\t\t</a>\n",
       "\t\t<ul class=\"u_likeit_layer _faceLayer\" role=\"radiogroup\" aria-labelledby=\"u_likeit_title_{{=it.answerNo}}\">\n",
       "\t\t\t<li class=\"u_likeit_list like\" role=\"presentation\">\n",
       "\t\t\t\t<{{? it.isRos}}span{{??}}a{{?}} class=\"u_likeit_list_button _button\" href=\"javascript:void(0)\" role=\"radio\" aria-checked=\"false\" data-type=\"like\" data-log=\"end*f.like|end*f.likeoff\" onclick=\"sendBaLog(BaPcEventType.QNA_DETAIL_5239, {dir_id:{{=it.dirId}}, doc_id:{{=it.docId}}, answer_no:{{=it.answerNo}}, face_type:'like'});\">\n",
       "\t\t\t\t\t<span class=\"u_likeit_list_name _label\">좋아요</span>\n",
       "\t\t\t\t\t<span class=\"u_likeit_list_count _count\"><span class=\"u_likeit_blind\">총:</span>0</span>\n",
       "\t\t\t\t</{{? it.isRos}}span{{??}}a{{?}}>\n",
       "\t\t\t</li>\n",
       "\t\t\t<li class=\"u_likeit_list useful\" role=\"presentation\">\n",
       "\t\t\t\t<{{? it.isRos}}span{{??}}a{{?}} class=\"u_likeit_list_button _button\" href=\"javascript:void(0)\" role=\"radio\" aria-checked=\"false\" data-type=\"useful\" data-log=\"end*f.useful|end*f.usefuloff\" onclick=\"sendBaLog(BaPcEventType.QNA_DETAIL_5239, {dir_id:{{=it.dirId}}, doc_id:{{=it.docId}}, answer_no:{{=it.answerNo}}, face_type:'useful'});\">\n",
       "\t\t\t\t\t<span class=\"u_likeit_list_name _label\">유익해요</span>\n",
       "\t\t\t\t\t<span class=\"u_likeit_list_count _count\"><span class=\"u_likeit_blind\">총:</span>0</span>\n",
       "\t\t\t\t</{{? it.isRos}}span{{??}}a{{?}}>\n",
       "\t\t\t</li>\n",
       "\t\t\t<li class=\"u_likeit_list haha\" role=\"presentation\">\n",
       "\t\t\t\t<{{? it.isRos}}span{{??}}a{{?}} class=\"u_likeit_list_button _button\" href=\"javascript:void(0)\" role=\"radio\" aria-checked=\"false\" data-type=\"haha\" data-log=\"end*f.haha|end*f.hahaoff\" onclick=\"sendBaLog(BaPcEventType.QNA_DETAIL_5239, {dir_id:{{=it.dirId}}, doc_id:{{=it.docId}}, answer_no:{{=it.answerNo}}, face_type:'haha'});\">\n",
       "\t\t\t\t\t<span class=\"u_likeit_list_name _label\">재밌어요</span>\n",
       "\t\t\t\t\t<span class=\"u_likeit_list_count _count\"><span class=\"u_likeit_blind\">총:</span>0</span>\n",
       "\t\t\t\t</{{? it.isRos}}span{{??}}a{{?}}>\n",
       "\t\t\t</li>\n",
       "\t\t\t<li class=\"u_likeit_list toobad\" role=\"presentation\">\n",
       "\t\t\t\t<{{? it.isRos}}span{{??}}a{{?}} class=\"u_likeit_list_button _button\" href=\"javascript:void(0)\" role=\"radio\" aria-checked=\"false\" data-type=\"toobad\" data-log=\"end*f.toobad|end*f.toobadoff\" onclick=\"sendBaLog(BaPcEventType.QNA_DETAIL_5239, {dir_id:{{=it.dirId}}, doc_id:{{=it.docId}}, answer_no:{{=it.answerNo}}, face_type:'toobad'});\">\n",
       "\t\t\t\t\t<span class=\"u_likeit_list_name _label\">동의못해요</span>\n",
       "\t\t\t\t\t<span class=\"u_likeit_list_count _count\"><span class=\"u_likeit_blind\">총:</span>0</span>\n",
       "\t\t\t\t</{{? it.isRos}}span{{??}}a{{?}}>\n",
       "\t\t\t</li>\n",
       "\t\t\t<li class=\"u_likeit_list likead _button\" role=\"presentation\">\n",
       "\t\t\t\t<{{? it.isRos}}span{{??}}a{{?}} class=\"u_likeit_list_button _button\" href=\"javascript:void(0)\" role=\"radio\" aria-checked=\"false\" data-type=\"likead\" data-log=\"end*f.likead|end*f.likeadoff\" onclick=\"sendBaLog(BaPcEventType.QNA_DETAIL_5239, {dir_id:{{=it.dirId}}, doc_id:{{=it.docId}}, answer_no:{{=it.answerNo}}, face_type:'likead'});\">\n",
       "\t\t\t\t\t<span class=\"u_likeit_list_name _label\">광고같아요</span>\n",
       "\t\t\t\t\t<span class=\"u_likeit_list_count _count\"><span class=\"u_likeit_blind\">총:</span>0</span>\n",
       "\t\t\t\t</{{? it.isRos}}span{{??}}a{{?}}>\n",
       "\t\t\t</li>\n",
       "\t\t</ul>\n",
       "\t</div>\n",
       "\t<a href=\"javascript:void(0)\" class=\"user_display _likeUserListBtn\" role=\"button\" aria-haspopup=\"true\" aria-pressed=\"false\" style=\"display:none;\" onclick=\"naver.kin.pc.common.nClicks('end*f.more', '', '', event);\">\n",
       "\t\t<span class=\"sp_likeit ico_ellipsis\"><span class=\"blind\">사용자 표시</span></span>\n",
       "\t</a>\n",
       "</div>\n",
       "\n",
       "\t\t\t\n",
       "\t\t\t{{? it.showCommentButton}}\n",
       "\t\t\t\t<button type=\"button\" aria-expanded=\"false\" aria-controls=\"answerCommentListArea\" id=\"cmtstr_{{=it.answerNo}}\" onclick=\"naver.kin.pc.common.nClicks('end*a.comment', '', '', event);return false;\" role=\"option\" aria-selected=\"false\" class=\"button_compose{{? it.isNotRecover}} _checkPartnerCenterActivity{{??}} _commentBtn{{?}}\">\n",
       "\t\t\t\t\t<i class=\"icon icon_compose_opinion\" aria-hidden=\"true\"></i>{{? it.revisedCommentCnt != null && it.revisedCommentCnt > 1000}}<em class=\"button_compose_count _commentCnt\">999+</em>{{?? it.revisedCommentCnt != null && it.revisedCommentCnt > 0}}<em class=\"button_compose_count _commentCnt\">{{=it.revisedCommentCnt}}</em>{{??}}<span class=\"button_compose_text _commentText\">댓글</span>{{?}}\n",
       "\t\t\t\t</button>\n",
       "\t\t\t{{?}}\n",
       "\n",
       "\t\t\t\n",
       "\t\t\t{{? it.showAdditionalQuestionButton}}\n",
       "\t\t\t\t<button type=\"button\" aria-expanded=\"false\" aria-controls=\"additionalQnaList\" role=\"option\" aria-selected=\"false\" class=\"_additionalQuestionBtn button_compose\" onclick=\"naver.kin.pc.common.nClicks('end*a.plusq', '', '', event);additionalQuestion($(this));return false;\" data-answer-no=\"{{=it.answerNo}}\"><i class=\"icon icon_compose_additional\" aria-hidden=\"true\"></i><span class=\"button_compose_text\">추가질문</span></button>\n",
       "\t\t\t{{?}}\n",
       "\t\t</div>\n",
       "\t\t<div class=\"c-userinfo-answer__right\">\n",
       "\n",
       "\t\t\t\n",
       "\t\t\t{{? it.showSelectAnswerButton}}\n",
       "\t\t\t\t<a href=\"#\" id=\"\" role=\"option\" aria-selected=\"false\" class=\"_answerSelectArea button_compose\" onclick=\"naver.kin.pc.common.nClicks('end*a.pick', '', '', event);selectAnswer({{=it.dirId}}, {{=it.docId}}, {{=it.answerNo}});return false;\"><i class=\"icon icon_compose_check_adopt\" aria-hidden=\"true\"></i><span class=\"button_compose_text\">채택</span></a>\n",
       "\t\t\t{{?}}\n",
       "\n",
       "\t\t\t\n",
       "\t\t\t{{? it.pointGiftAnswerButton != null && it.pointGiftAnswerButton.exposure }}\n",
       "\t\t\t\t<div class=\"c-userinfo__button-point\">\n",
       "\t\t\t\t\t<a href=\"#\" role=\"button\" class=\"button_point _pointGiftButton\" aria-describedby=\"tooltipPointText\" data-dir-id=\"{{=it.dirId}}\" data-doc-id=\"{{=it.docId}}\" data-answer-no=\"{{=it.answerNo}}\" onclick=\"naver.kin.pc.common.nClicks('ptxb.pthx', '', '', event);\">포인트 선물</a>\n",
       "\t\t\t\t\t<div role=\"tooltip\" aria-hidden=\"false\" class=\"tooltip_point _pointGiftTooltip\" aria-expanded=false style=\"display: none;\">\n",
       "\t\t\t\t\t\t<div id=\"tooltipPointText\" class=\"tooltip_text\">도움이 되었다면 포인트로 감사한 마음을 전해보세요.</div><button type=\"button\" class=\"button_close _pointGiftTooltipClose\" onclick=\"naver.kin.pc.common.nClicks('ptxb.tooltip', '', '', event);\"><span class=\"blind\">포인트 선물 툴팁 닫기</span></button>\n",
       "\t\t\t\t\t</div>\n",
       "\t\t\t\t</div>\n",
       "\t\t\t{{?}}\n",
       "\n",
       "\t\t\t{{? it.showExternalSearchButton || it.showCloseAnswererIdButton || it.showAnswerModifyButton || it.showDeleteAnswerButton || it.showUserBlockButton || it.showReportAnswerButton}}\n",
       "\t\t\t\t<div class=\"c-userinfo__button-setting\">\n",
       "\t\t\t\t\t<a href=\"#\" id=\"answerMenuButton{{=it.answerNo}}\" onclick=\"naver.kin.pc.common.nClicks('end*a.more', '', '', event);return false;\" class=\"button_compose _answerMenuLayerButton\" role=\"button\" aria-haspopup=\"true\" aria-expanded=\"false\"><i class=\"icon icon_compose_setting _answerMenuLayerButton\" aria-hidden=\"true\"></i><span class=\"blind\">더보기</span></a>\n",
       "\t\t\t\t\t<div class=\"c-userinfo__list-setting _answerMenuLayer\" role=\"listbox\" aria-hidden=\"true\">\n",
       "\n",
       "\t\t\t\t\t\t\n",
       "\t\t\t\t\t\t{{? it.showExternalSearchButton}}\n",
       "\t\t\t\t\t\t\t{{? it.rssFlag == 'N'}}\n",
       "\t\t\t\t\t\t\t\t<a href=\"#\" id=\"optRss{{=it.answerNo}}\" class=\"_ros c-userinfo__setting-item _answerMenuButton\" onclick=\"naver.kin.pc.common.nClicks('end*a.mores', '', '', event);changeRssFlag({{=it.dirId}}, {{=it.docId}}, {{=it.answerNo}}, '{{=it.rssFlag}}');return false;\" role=\"option\">외부검색허용\n",
       "\t\t\t\t\t\t\t\t\t<input type=\"checkbox\" id=\"rssPermit\" name=\"agreeCollect_2\" class=\"blind\"><label for=\"rssPermit\" class=\"c-userinfo__setting-checkbox\"><i class=\"icon_checkbox\" aria-hidden=\"true\"></i></label>\n",
       "\t\t\t\t\t\t\t\t</a>\n",
       "\t\t\t\t\t\t\t{{??}}\n",
       "\t\t\t\t\t\t\t\t<a href=\"#\" id=\"optRss{{=it.answerNo}}\" class=\"_ros c-userinfo__setting-item _answerMenuButton\" onclick=\"naver.kin.pc.common.nClicks('end*a.mores', '', '', event);changeRssFlag({{=it.dirId}}, {{=it.docId}}, {{=it.answerNo}}, '{{=it.rssFlag}}');return false;\" role=\"option\">외부검색허용\n",
       "\t\t\t\t\t\t\t\t\t<input type=\"checkbox\" id=\"rssPermit\" name=\"agreeCollect_2\" class=\"blind\" checked><label for=\"rssPermit\" class=\"c-userinfo__setting-checkbox\"><i class=\"icon_checkbox\" aria-hidden=\"true\"></i></label>\n",
       "\t\t\t\t\t\t\t\t</a>\n",
       "\t\t\t\t\t\t\t{{?}}\n",
       "\t\t\t\t\t\t{{?}}\n",
       "\n",
       "\t\t\t\t\t\t\n",
       "\t\t\t\t\t\t{{? it.showCloseAnswererIdButton}}\n",
       "\t\t\t\t\t\t\t<a href=\"#\" id=\"optClose{{=it.answerNo}}\" class=\"_ros c-userinfo__setting-item _answerMenuButton\" onclick=\"naver.kin.pc.common.nClicks('end*a.noopen', '', '', event);showCloseAnswererId({{=it.dirId}}, {{=it.docId}}, {{=it.answerNo}});return false;\" role=\"option\">별명비공개</a>\n",
       "\t\t\t\t\t\t{{?}}\n",
       "\n",
       "\t\t\t\t\t\t\n",
       "\t\t\t\t\t\t{{? it.showAnswerModifyButton}}\n",
       "\t\t\t\t\t\t\t{{? it.isPortableDevice}}\n",
       "\t\t\t\t\t\t\t<a href=\"#\" id=\"optModify{{=it.answerNo}}\" class=\"c-userinfo__setting-item _ros _answerMenuButton\" onclick=\"naver.kin.pc.common.nClicks('end*a.morem', '', '', event);if (confirm('TEXT모드로 불러 오시겠습니까?\\n텍스트는 유지되나 글꼴 등의 편집 효과와 이미지 등의 첨부가 사라집니다.')) {loadModifyAnswerFrame({{=it.dirId}}, {{=it.docId}}, {{=it.answerNo}}, '{{=it.mdu}}', {{=it.editorVersion}}, {{=it.smartEditorOneAvailable}});}return false;\" role=\"option\">수정</a>\n",
       "\t\t\t\t\t\t\t{{??}}\n",
       "\t\t\t\t\t\t\t<a href=\"#\" id=\"optModify{{=it.answerNo}}\" class=\"c-userinfo__setting-item _ros _answerMenuButton\" onclick=\"naver.kin.pc.common.nClicks('end*a.morem', '', '', event);loadModifyAnswerFrame({{=it.dirId}}, {{=it.docId}}, {{=it.answerNo}}, '{{=it.mdu}}', {{=it.editorVersion}}, {{=it.smartEditorOneAvailable}});return false;\" role=\"option\">수정</a>\n",
       "\t\t\t\t\t\t\t{{?}}\n",
       "\t\t\t\t\t\t{{?}}\n",
       "\n",
       "\t\t\t\t\t\t\n",
       "\t\t\t\t\t\t{{? it.showDeleteAnswerButton}}\n",
       "\t\t\t\t\t\t\t<a href=\"#\" id=\"optDelete{{=it.answerNo}}\" class=\"_ros c-userinfo__setting-item _answerMenuButton\" onclick=\"naver.kin.pc.common.nClicks('end*a.mored', '', '', event);sendBaLog(BaPcEventType.QNA_DETAIL_5058, {dir_id: {{=it.dirId}}, doc_id: {{=it.docId}}});if (confirm('삭제된 답변은 복구할 수 {{? it.myAnswer}}없으며 받은 내공이 회수됩니다.\\n{{??}}없습니다. {{?}}삭제하시겠습니까?')) {deleteAnswer({{=it.dirId}}, {{=it.docId}}, {{=it.answerNo}});} return false;\" role=\"option\">삭제</a>\n",
       "\t\t\t\t\t\t{{?}}\n",
       "\n",
       "\t\t\t\t\t\t\n",
       "\t\t\t\t\t\t{{? it.showUserBlockButton}}\n",
       "\t\t\t\t\t\t\t<a href=\"#\" id=\"optBlock{{=it.answerNo}}\" class=\"_ros _user_block_btn c-userinfo__setting-item _answerMenuButton\" onclick=\"naver.kin.pc.common.nClicks('end*a.block', '', '', event);\" role=\"option\" data-dir-id=\"{{=it.dirId}}\" data-doc-id=\"{{=it.docId}}\" data-answer-no=\"{{=it.answerNo}}\" data-open-flag=\"{{=it.openFlag}}\">차단</a>\n",
       "\t\t\t\t\t\t{{?}}\n",
       "\n",
       "\t\t\t\t\t\t\n",
       "\t\t\t\t\t\t\n",
       "\t\t\t\t\t\t{{? it.showReportAnswerButton}}\n",
       "\t\t\t\t\t\t\t{{? it.isPrivateAnswer}}\n",
       "\t\t\t\t\t\t\t\t{{? it.namecard != null && it.namecard.kinUser}}\n",
       "\t\t\t\t\t\t\t\t\t<a href=\"#\" id=\"optReport{{=it.answerNo}}\" class=\"_ros c-userinfo__setting-item _answerMenuButton\" onclick=\"naver.kin.pc.common.nClicks('end*a.morer', '', '', event);reportAnswer({{=it.dirId}}, {{=it.docId}}, {{=it.answerNo}}, '%EC%95%84%EC%B9%A8%EC%97%90+%EA%B0%88%EC%83%89%EA%B0%80%EB%9E%98%28%EB%8D%94%EB%9F%AC%EC%9B%80+%EC%A3%BC%EC%9D%98%29', '비공개', 'N');return false;\" role=\"option\">신고</a>\n",
       "\t\t\t\t\t\t\t\t{{??}}\n",
       "\t\t\t\t\t\t\t\t\t<a href=\"#\" id=\"optReport{{=it.answerNo}}\" class=\"_ros c-userinfo__setting-item _answerMenuButton\" onclick=\"naver.kin.pc.common.nClicks('end*a.morer', '', '', event);reportAnswer({{=it.dirId}}, {{=it.docId}}, {{=it.answerNo}}, '%EC%95%84%EC%B9%A8%EC%97%90+%EA%B0%88%EC%83%89%EA%B0%80%EB%9E%98%28%EB%8D%94%EB%9F%AC%EC%9B%80+%EC%A3%BC%EC%9D%98%29', '정보가 없는 사용자', 'N');return false;\" role=\"option\">신고</a>\n",
       "\t\t\t\t\t\t\t\t{{?}}\n",
       "\t\t\t\t\t\t\t{{??}}\n",
       "\t\t\t\t\t\t\t\t<a href=\"#\" id=\"optReport{{=it.answerNo}}\" class=\"_ros c-userinfo__setting-item _answerMenuButton\" onclick=\"naver.kin.pc.common.nClicks('end*a.morer', '', '', event);reportAnswer({{=it.dirId}}, {{=it.docId}}, {{=it.answerNo}}, '%EC%95%84%EC%B9%A8%EC%97%90+%EA%B0%88%EC%83%89%EA%B0%80%EB%9E%98%28%EB%8D%94%EB%9F%AC%EC%9B%80+%EC%A3%BC%EC%9D%98%29', '{{=it.userText}}', 'N');return false;\" role=\"option\">신고</a>\n",
       "\t\t\t\t\t\t\t{{?}}\n",
       "\t\t\t\t\t\t{{?}}\n",
       "\t\t\t\t\t</div>\n",
       "\t\t\t\t</div>\n",
       "\t\t\t{{?}}\n",
       "\t\t</div>\n",
       "\t</div>\n",
       "\n",
       "\t\n",
       "\t<div class=\"c-opinion _commentListArea\" data-answer-no=\"{{=it.answerNo}}\" data-thanks-message=\"{{=it.encodedThanksMessage}}\" style=\"display:none;\"></div>\n",
       "{{?}}\n",
       "\n",
       "\t\t{{?}}\n",
       "\n",
       "\t\t\n",
       "\t\t{{? it.containsAdditionalQna}}\n",
       "\t\t<div class=\"_loadAdditionalQnaList\" data-parent-answer-no=\"{{=it.answerNo}}\" data-is-answerer=\"{{? it.myAnswer}}Y{{??}}N{{?}}\" data-answerer=\"{{=it.userText}}\" data-disable-form-yn=\"{{? it.normalOrRecover}}N{{??}}Y{{?}}\"></div>\n",
       "\t\t{{?? !it.isWebHelpDirectory && it.articleType != 'EXPERTISE' && !it.containsAdditionalQna && it.articleOpenYn == 'Y' && it.isQuestioner && !it.isClosedQuestion && !it.kinIAnswer && (it.selectBest || !it.isUserSelectedQuestion)}}\n",
       "\t\t<div class=\"addition-qna addition-qna--type__list _additionalQnaList\" id=\"additionalQnaList\" data-parent-answer-no=\"{{=it.answerNo}}\" data-is-answerer=\"{{? it.myAnswer}}Y{{??}}N{{?}}\" data-answerer=\"{{=it.userText}}\" data-reload-yn=\"{{? it.selectBest}}N{{??}}Y{{?}}\" data-disable-form-yn=\"{{? it.normalOrRecover}}N{{??}}Y{{?}}\" style=\"display:none;\"></div>\n",
       "\t\t{{?}}\n",
       "\t\t{{?}}\n",
       "\t</div>\n",
       "</script>\n",
       "<script id=\"additionalQuestionWriteFormTpl\" type=\"text/x-dot-template\">\n",
       "\t<div class=\"addition-qna__item addition-qna__item--write _additionalQnaForm _additionalQnaArea\" id=\"{{=it.formId}}\" data-type=\"question\" data-type-prefix=\"{{? it.isFirstAdditionalQuestion}}first_{{??}}not_first_{{?}}\" data-modify-yn=\"N\">\n",
       "\t\t<span class=\"sp_mark\" style=\"background-image: url(https://ssl.pstatic.net/static/kin/section/noticeIcon/addQuestion.svg)\"><span class=\"blind\">추가질문</span></span>\n",
       "\t\t<div class=\"addition-qna__write\">\n",
       "\t\t\t<fieldset>\n",
       "\t\t\t\t<legend>추가질문</legend>\n",
       "\t\t\t\t<div class=\"addition-qna__write-form\">\n",
       "\t\t\t\t\t<textarea class=\"addition-qna__write-textarea\" maxlength=\"1000\" title=\"추가질문 입력\"></textarea>\n",
       "\t\t\t\t\t<div class=\"addition-qna__upload-image _uploadedPhotoList\"></div>\n",
       "\t\t\t\t</div>\n",
       "\t\t\t</fieldset>\n",
       "\t\t</div>\n",
       "\t\t<div class=\"addition-qna__write-upload\">\n",
       "\t\t\t<span class=\"addition-qna__write-photo _uploadPhotoArea\">\n",
       "\t\t\t\t<label for=\"{{=it.formId}}_photoInput\"><span class=\"icon_upload_photo _uploadPhotoBtnIcon\" aria-hidden=\"true\"></span>사진</label>\n",
       "\t\t\t\t<form method=\"post\" enctype=\"multipart/form-data\">\n",
       "\t\t\t\t\t<input id=\"{{=it.formId}}_photoInput\" name=\"file0\" class=\"button__file\" type=\"file\" accept=\"image/*\">\n",
       "\t\t\t\t</form>\n",
       "\t\t\t</span>\n",
       "\n",
       "\t\t\t<div class=\"addition-qna__write-count\">\n",
       "\t\t\t\t<span class=\"blind\">현재 입력한 글자수</span>\n",
       "\t\t\t\t<span class=\"addition-qna__write-count__num _currentCharCount\">0</span>\n",
       "\t\t\t\t/\n",
       "\t\t\t\t<span class=\"blind\">전체 입력 가능한 글자수 </span>\n",
       "\t\t\t\t<span class=\"addition-qna__writecount__total\">1000</span>\n",
       "\t\t\t</div>\n",
       "\t\t\t<button type=\"submit\" class=\"button_register _submitBtn _registerAdditionalQuestion\" data-init-yn=\"N\" data-parent-answer-no=\"{{=it.parentAnswerNo}}\" data-needs-to-selection=\"N\">등록</button>\n",
       "\t\t</div>\n",
       "\t</div>\n",
       "</script>\n",
       "<script id=\"additionalQuestionModifyFormTpl\" type=\"text/x-dot-template\">\n",
       "\t<div class=\"addition-qna__item addition-qna__item--write _additionalQnaForm _additionalQnaArea\" id=\"{{=it.formId}}\" data-type=\"question\" data-type-prefix=\"{{? it.isFirstAdditionalQuestion}}first_{{??}}not_first_{{?}}\" data-modify-yn=\"Y\">\n",
       "\t\t<span class=\"sp_mark\" style=\"background-image: url(https://ssl.pstatic.net/static/kin/section/noticeIcon/addQuestion.svg)\"><span class=\"blind\">추가질문</span></span>\n",
       "\t\t<div class=\"addition-qna__write\">\n",
       "\t\t\t<fieldset>\n",
       "\t\t\t\t<legend>추가질문</legend>\n",
       "\t\t\t\t<div class=\"addition-qna__write-form\">\n",
       "\t\t\t\t\t<textarea class=\"addition-qna__write-textarea\" maxlength=\"1000\" title=\"추가질문 입력\">{{=it.contents}}</textarea>\n",
       "\t\t\t\t\t<div class=\"addition-qna__upload-image _uploadedPhotoList\"></div>\n",
       "\t\t\t\t</div>\n",
       "\t\t\t</fieldset>\n",
       "\t\t</div>\n",
       "\t\t<div class=\"addition-qna__write-upload\">\n",
       "\t\t\t<span class=\"addition-qna__write-photo _uploadPhotoArea\">\n",
       "\t\t\t\t<label for=\"{{=it.formId}}_photoInput\"><span class=\"icon_upload_photo _uploadPhotoBtnIcon\" aria-hidden=\"true\"></span>사진</label>\n",
       "\t\t\t\t<form method=\"post\" enctype=\"multipart/form-data\">\n",
       "\t\t\t\t\t<input id=\"{{=it.formId}}_photoInput\" name=\"file0\" class=\"button__file\" type=\"file\" accept=\"image/*\">\n",
       "\t\t\t\t</form>\n",
       "\t\t\t</span>\n",
       "\n",
       "\t\t\t<div class=\"addition-qna__write-count\">\n",
       "\t\t\t\t<span class=\"blind\">현재 입력한 글자수</span>\n",
       "\t\t\t\t<span class=\"addition-qna__write-count__num _currentCharCount\">{{=it.contentsLength}}</span>\n",
       "\t\t\t\t/\n",
       "\t\t\t\t<span class=\"blind\">전체 입력 가능한 글자수 </span>\n",
       "\t\t\t\t<span class=\"addition-qna__writecount__total\">1000</span>\n",
       "\t\t\t</div>\n",
       "\t\t\t<button type=\"submit\" class=\"button_register _submitBtn _modifyAdditionalQuestion\" data-parent-answer-no=\"{{=it.parentAnswerNo}}\" data-dir-id=\"{{=it.dirId}}\" data-doc-id=\"{{=it.docId}}\">등록</button>\n",
       "\t\t</div>\n",
       "\t</div>\n",
       "</script>\n",
       "<script id=\"additionalAnswerWriteFormTpl\" type=\"text/x-dot-template\">\n",
       "\t<div class=\"addition-qna__item addition-qna__item--write _additionalQnaForm _additionalQnaArea\" id=\"{{=it.formId}}\" data-type=\"answer\" data-modify-yn=\"N\">\n",
       "\t\t<span class=\"sp_mark\" style=\"background-image: url(https://ssl.pstatic.net/static/kin/section/noticeIcon/addAnswer.svg)\"><span class=\"blind\">추가답변</span></span>\n",
       "\t\t<div class=\"addition-qna__write\">\n",
       "\t\t\t<fieldset>\n",
       "\t\t\t\t<legend>추가답변</legend>\n",
       "\t\t\t\t<div class=\"addition-qna__write-form\">\n",
       "\t\t\t\t\t<textarea class=\"addition-qna__write-textarea\" maxlength=\"1000\" title=\"추가답변 입력\"></textarea>\n",
       "\t\t\t\t\t<div class=\"addition-qna__upload-image _uploadedPhotoList\"></div>\n",
       "\t\t\t\t</div>\n",
       "\t\t\t</fieldset>\n",
       "\t\t</div>\n",
       "\t\t<div class=\"addition-qna__write-upload\">\n",
       "\t\t\t<span class=\"addition-qna__write-photo _uploadPhotoArea\">\n",
       "\t\t\t\t<label for=\"{{=it.formId}}_photoInput\"><span class=\"icon_upload_photo _uploadPhotoBtnIcon\" aria-hidden=\"true\"></span>사진</label>\n",
       "\t\t\t\t<form method=\"post\" enctype=\"multipart/form-data\">\n",
       "\t\t\t\t\t<input id=\"{{=it.formId}}_photoInput\" name=\"file0\" class=\"button__file\" type=\"file\" accept=\"image/*\">\n",
       "\t\t\t\t</form>\n",
       "\t\t\t</span>\n",
       "\n",
       "\t\t\t<div class=\"addition-qna__write-count\">\n",
       "\t\t\t\t<span class=\"blind\">현재 입력한 글자수</span>\n",
       "\t\t\t\t<span class=\"addition-qna__write-count__num _currentCharCount\">0</span>\n",
       "\t\t\t\t/\n",
       "\t\t\t\t<span class=\"blind\">전체 입력 가능한 글자수 </span>\n",
       "\t\t\t\t<span class=\"addition-qna__writecount__total\">1000</span>\n",
       "\t\t\t</div>\n",
       "\t\t\t<button type=\"submit\" class=\"button_register __answer _submitBtn _registerAdditionalAnswer\" data-init-yn=\"N\" data-parent-answer-no=\"{{=it.parentAnswerNo}}\" data-dir-id=\"{{=it.dirId}}\" data-doc-id=\"{{=it.docId}}\">등록</button>\n",
       "\t\t</div>\n",
       "\t</div>\n",
       "</script>\n",
       "<script id=\"additionalAnswerModifyFormTpl\" type=\"text/x-dot-template\">\n",
       "\t<div class=\"addition-qna__item addition-qna__item--write _additionalQnaForm _additionalQnaArea\" id=\"{{=it.formId}}\" data-type=\"answer\" data-modify-yn=\"Y\">\n",
       "\t\t<span class=\"sp_mark\" style=\"background-image: url(https://ssl.pstatic.net/static/kin/section/noticeIcon/addAnswer.svg)\"><span class=\"blind\">추가답변</span></span>\n",
       "\t\t<div class=\"addition-qna__write\">\n",
       "\t\t\t<fieldset>\n",
       "\t\t\t\t<legend>추가답변</legend>\n",
       "\t\t\t\t<div class=\"addition-qna__write-form\">\n",
       "\t\t\t\t\t<textarea class=\"addition-qna__write-textarea\" maxlength=\"1000\" title=\"추가답변 입력\">{{=it.contents}}</textarea>\n",
       "\t\t\t\t\t<div class=\"addition-qna__upload-image _uploadedPhotoList\"></div>\n",
       "\t\t\t\t</div>\n",
       "\t\t\t</fieldset>\n",
       "\t\t</div>\n",
       "\t\t<div class=\"addition-qna__write-upload\">\n",
       "\t\t\t<span class=\"addition-qna__write-photo _uploadPhotoArea\">\n",
       "\t\t\t\t<label for=\"{{=it.formId}}_photoInput\"><span class=\"icon_upload_photo _uploadPhotoBtnIcon\" aria-hidden=\"true\"></span>사진</label>\n",
       "\t\t\t\t<form method=\"post\" enctype=\"multipart/form-data\">\n",
       "\t\t\t\t\t<input id=\"{{=it.formId}}_photoInput\" name=\"file0\" class=\"button__file\" type=\"file\" accept=\"image/*\">\n",
       "\t\t\t\t</form>\n",
       "\t\t\t</span>\n",
       "\n",
       "\t\t\t<div class=\"addition-qna__write-count\">\n",
       "\t\t\t\t<span class=\"blind\">현재 입력한 글자수</span>\n",
       "\t\t\t\t<span class=\"addition-qna__write-count__num _currentCharCount\">{{=it.contentsLength}}</span>\n",
       "\t\t\t\t/\n",
       "\t\t\t\t<span class=\"blind\">전체 입력 가능한 글자수 </span>\n",
       "\t\t\t\t<span class=\"addition-qna__writecount__total\">1000</span>\n",
       "\t\t\t</div>\n",
       "\t\t\t<button type=\"submit\" class=\"button_register __answer _submitBtn _modifyAdditionalAnswer\" data-parent-answer-no=\"{{=it.parentAnswerNo}}\" data-dir-id=\"{{=it.dirId}}\" data-doc-id=\"{{=it.docId}}\" data-answer-no=\"{{=it.answerNo}}\">등록</button>\n",
       "\t\t</div>\n",
       "\t</div>\n",
       "</script>\n",
       "<script id=\"additionalQnaWriteFormPhotoTpl\" type=\"text/x-dot-template\">\n",
       "\t{{~ it.photoList : photo : index}}\n",
       "\t\t{{? photo.status != 'remove'}}\n",
       "\t\t\t<span class=\"addition-qna__upload-image__item _photoItem\" data-photo-id=\"{{=photo.id}}\">\n",
       "\t\t\t\t<a href=\"{{=photo.url}}\" target=\"_blank\" class=\"thumbnail _photoThumbnail\">\n",
       "\t\t\t\t\t<img src=\"{{=photo.thumbnailUrl}}\" alt=\"썸네일 이미지\">\n",
       "\t\t\t\t\t<span class=\"mask\" aria-hidden=\"true\"></span>\n",
       "\t\t\t\t\t<span class=\"icon_delete _deleteBtn\"><span class=\"blind\">사진 업로드 취소</span></span>\n",
       "\t\t\t\t</a>\n",
       "\t\t\t</span>\n",
       "\t\t{{?}}\n",
       "\t{{~}}\n",
       "</script>\n",
       "<script id=\"additionalQnaListTpl\" type=\"text/x-dot-template\">\n",
       "\t<div class=\"addition-qna addition-qna--type__list _additionalQnaList\" id=\"additionalQnaList\" data-parent-answer-no=\"{{=it.parentAnswerNo}}\" data-is-answerer=\"{{=it.isAnswererYn}}\" data-answerer=\"{{=it.answerer}}\" data-disable-form-yn=\"{{=it.disableFormYn}}\">\n",
       "\t\t{{~ it.additionalQnaList : qna : index}}\n",
       "\t\t\t{{? qna.deleted}}\n",
       "\t\t\t\t<div class=\"addition-qna__item _additionalQnaItem _additionalQnaArea\" data-dir-id=\"{{=qna.dirId}}\" data-doc-id=\"{{=qna.docId}}\" data-answer-no=\"{{=qna.answerNo}}\">\n",
       "\t\t\t\t\t{{? qna.answerNo > 0}}\n",
       "\t\t\t\t\t\t<span class=\"sp_mark\" style=\"background-image: url(https://ssl.pstatic.net/static/kin/section/noticeIcon/addAnswer.svg)\"><span class=\"blind\">추가답변</span></span>\n",
       "\t\t\t\t\t{{??}}\n",
       "\t\t\t\t\t\t<span class=\"sp_mark\" style=\"background-image: url(https://ssl.pstatic.net/static/kin/section/noticeIcon/addQuestion.svg)\"><span class=\"blind\">추가질문</span></span>\n",
       "\t\t\t\t\t{{?}}\n",
       "\n",
       "\t\t\t\t\t<div class=\"addition-qna__notice\">\n",
       "\t\t\t\t\t\t<i class=\"icon_addition_qna_notice\"></i>\n",
       "\t\t\t\t\t\t{{? qna.deletedByWriter}}\n",
       "\t\t\t\t\t\t\t작성자가 직접 삭제한 답변입니다.\n",
       "\t\t\t\t\t\t{{??}}\n",
       "\t\t\t\t\t\t\t사용자 신고를 받고, 운영원칙에 따라 삭제된 답변입니다.\n",
       "\t\t\t\t\t\t{{?}}\n",
       "\t\t\t\t\t</div>\n",
       "\n",
       "\t\t\t\t\t<div class=\"addition-qna__info-date\">{{=qna.formattedWriteTime}}</div>\n",
       "\t\t\t\t</div>\n",
       "\t\t\t{{?? qna.inotiStop}}\n",
       "\t\t\t\t<div class=\"addition-qna__item _additionalQnaItem _additionalQnaArea\" data-dir-id=\"{{=qna.dirId}}\" data-doc-id=\"{{=qna.docId}}\" data-answer-no=\"{{=qna.answerNo}}\">\n",
       "\t\t\t\t\t{{? qna.answerNo > 0}}\n",
       "\t\t\t\t\t\t<span class=\"sp_mark\" style=\"background-image: url(https://ssl.pstatic.net/static/kin/section/noticeIcon/addAnswer.svg)\"><span class=\"blind\">추가답변</span></span>\n",
       "\t\t\t\t\t{{??}}\n",
       "\t\t\t\t\t\t<span class=\"sp_mark\" style=\"background-image: url(https://ssl.pstatic.net/static/kin/section/noticeIcon/addQuestion.svg)\"><span class=\"blind\">추가질문</span></span>\n",
       "\t\t\t\t\t{{?}}\n",
       "\n",
       "\t\t\t\t\t<div class=\"addition-qna__info-title\">\n",
       "\t\t\t\t\t\t{{? qna.answerNo > 0 && qna.selectBest}}<span class=\"answer-relation answer-relation__questioner\">질문자채택</span>{{?}}임시적으로 게시가 중단된 게시물입니다.\n",
       "\t\t\t\t\t</div>\n",
       "\n",
       "\t\t\t\t\t<div class=\"addition-qna__info-text\">\n",
       "\t\t\t\t\t\t{{? qna.myArticle}}\n",
       "\t\t\t\t\t\t\t{{? qna.inotiType == 'HONOR_ETC'}}\n",
       "\t\t\t\t\t\t\t\t<p>본 게시물은 정보통신망이용촉진및정보보호등에 관한 법률 44조2항의 법령을 준수하기 위해 게시중단(임시조치) 되었음을 안내 드립니다.</p><br>\n",
       "\t\t\t\t\t\t\t\t<p>게시물 제목 : {{=qna.title}}</p>\n",
       "\t\t\t\t\t\t\t\t<p>게시 중단 사유 : 저작권 침해({{=qna.inotiReasonDesc}})</p>\n",
       "\t\t\t\t\t\t\t\t<p>게시 중단 요청자 : {{=qna.inotiRequester}}</p>\n",
       "\t\t\t\t\t\t\t\t<p>게시 중단 일자 : {{=qna.inotiRequestTime}}</p><br>\n",
       "\t\t\t\t\t\t\t\t<p>게시중단(임시조치) 후 30일 이내 이의신청이 가능하며, 상세한 내용은 고객님의 회원정보에 기재된 이메일과 네이버 메일로 안내 드렸습니다.</p>\n",
       "\t\t\t\t\t\t\t{{?? qna.inotiType == 'COPYRIGHT'}}\n",
       "\t\t\t\t\t\t\t\t<p>본 게시물은 저작권법 제103조(복제·전송의 중단)에 의거하여 게시중단(복제·전송의 중단) 되었음을 안내 드립니다.</p><br>\n",
       "\t\t\t\t\t\t\t\t<p>게시물 제목 : {{=qna.title}}</p>\n",
       "\t\t\t\t\t\t\t\t<p>게시 중단 사유 : 저작권 침해({{=qna.inotiReasonDesc}})</p>\n",
       "\t\t\t\t\t\t\t\t<p>게시 중단 요청자 : {{=qna.inotiRequester}}</p>\n",
       "\t\t\t\t\t\t\t\t<p>게시 중단 일자 : {{=qna.inotiRequestTime}}</p><br>\n",
       "\t\t\t\t\t\t\t\t<p>저작권법 시행령 제42조 절차에 따라 게시중단(복제·전송의 중단) 후 30일 이내 재게시(복제·전송의 재개) 요청이 가능하며, 상세한 내용은 고객님의 회원정보에 기재된 이메일과 네이버 메일로 안내 드렸습니다.</p>\n",
       "\t\t\t\t\t\t\t{{?? qna.inotiType == 'OFFICIAL'}}\n",
       "\t\t\t\t\t\t\t\t<p>본 게시물은 정보통신서비스 제공자로서의 법적 의무를 준수하기 위해 {{=qna.inotiRequester}}의 요청에 따라 비공개 조치 되었음을 안내 드립니다.</p><br>\n",
       "\t\t\t\t\t\t\t\t<p>게시물 제목 : {{=qna.title}}</p>\n",
       "\t\t\t\t\t\t\t\t<p>게시 중단 사유 : 저작권 침해({{=qna.inotiReasonDesc}})</p>\n",
       "\t\t\t\t\t\t\t\t<p>게시 중단 요청자 : {{=qna.inotiRequester}}</p>\n",
       "\t\t\t\t\t\t\t\t<p>게시 중단 일자 : {{=qna.inotiRequestTime}}</p><br>\n",
       "\t\t\t\t\t\t\t\t<p>더 상세한 내용은 고객님의 회원정보에 기재된 전자메일과 네이버 메일로 안내 드렸습니다.</p>\n",
       "\t\t\t\t\t\t\t{{?}}\n",
       "\t\t\t\t\t\t{{??}}\n",
       "\t\t\t\t\t\t\t{{? qna.inotiType == 'HONOR_ETC'}}\n",
       "\t\t\t\t\t\t\t\t<p>본 게시물은 정보통신망이용촉진및정보보호등에 관한 법률 44조2항의 법령을 준수하기 위해 다른 이용자의 요청으로 게시중단(임시조치) 되었음을 안내 드립니다.</p>\n",
       "\t\t\t\t\t\t\t{{?? qna.inotiType == 'COPYRIGHT'}}\n",
       "\t\t\t\t\t\t\t\t<p>본 게시물은 저작권법 제103조(복제·전송의 중단)에 의거하여 저작권자의 요청으로 게시중단(복제·전송의 중단) 되었음을 안내 드립니다.</p>\n",
       "\t\t\t\t\t\t\t{{?? qna.inotiType == 'OFFICIAL'}}\n",
       "\t\t\t\t\t\t\t\t<p>본 게시물은 정보통신서비스 제공자로서의 법적 의무를 준수하기 위해 {{=qna.inotiRequester}}의 요청에 따라 비공개 조치 되었음을 안내 드립니다.</p>\n",
       "\t\t\t\t\t\t\t{{?}}\n",
       "\t\t\t\t\t\t{{?}}\n",
       "\t\t\t\t\t</div>\n",
       "\n",
       "\t\t\t\t\t<div class=\"addition-qna__info-date\">{{=qna.formattedWriteTime}}</div>\n",
       "\n",
       "\t\t\t\t\t{{? qna.deletable}}\n",
       "\t\t\t\t\t\t<div class=\"addition-qna__control\">\n",
       "\t\t\t\t\t\t\t<a href=\"javascript:void(0);\" class=\"button_delete _deleteBtn\">삭제</a>\n",
       "\t\t\t\t\t\t</div>\n",
       "\t\t\t\t\t{{?}}\n",
       "\t\t\t\t</div>\n",
       "\t\t\t{{?? qna.blind && !qna.myArticle}}\n",
       "\t\t\t\t<div class=\"addition-qna__item _additionalQnaItem _additionalQnaArea\" data-dir-id=\"{{=qna.dirId}}\" data-doc-id=\"{{=qna.docId}}\" data-answer-no=\"{{=qna.answerNo}}\">\n",
       "\t\t\t\t\t{{? qna.answerNo > 0}}\n",
       "\t\t\t\t\t\t<span class=\"sp_mark\" style=\"background-image: url(https://ssl.pstatic.net/static/kin/section/noticeIcon/addAnswer.svg)\"><span class=\"blind\">추가답변</span></span>\n",
       "\t\t\t\t\t{{??}}\n",
       "\t\t\t\t\t\t<span class=\"sp_mark\" style=\"background-image: url(https://ssl.pstatic.net/static/kin/section/noticeIcon/addQuestion.svg)\"><span class=\"blind\">추가질문</span></span>\n",
       "\t\t\t\t\t{{?}}\n",
       "\n",
       "\t\t\t\t\t<div class=\"addition-qna__notice\">\n",
       "\t\t\t\t\t\t<i class=\"icon_addition_qna_notice\"></i>\n",
       "\t\t\t\t\t\t불량 또는 스팸 의심 게시물로 검출되어 열람이 제한된 답변입니다.<br>올바른 정보공유를 위한 조치이므로 양해 부탁드리겠습니다.\n",
       "\t\t\t\t\t</div>\n",
       "\n",
       "\t\t\t\t\t<div class=\"addition-qna__info-date\">{{=qna.formattedWriteTime}}</div>\n",
       "\t\t\t\t</div>\n",
       "\t\t\t{{?? qna.wait}}\n",
       "\t\t\t\t\n",
       "\t\t\t{{?? qna.needToCheckAdultAuthority}}\n",
       "\t\t\t\t<div class=\"addition-qna__item _additionalQnaItem _additionalQnaArea\" data-dir-id=\"{{=qna.dirId}}\" data-doc-id=\"{{=qna.docId}}\" data-answer-no=\"{{=qna.answerNo}}\">\n",
       "\t\t\t\t\t{{? qna.answerNo > 0}}\n",
       "\t\t\t\t\t\t<span class=\"sp_mark\" style=\"background-image: url(https://ssl.pstatic.net/static/kin/section/noticeIcon/addAnswer.svg)\"><span class=\"blind\">추가답변</span></span>\n",
       "\t\t\t\t\t{{??}}\n",
       "\t\t\t\t\t\t<span class=\"sp_mark\" style=\"background-image: url(https://ssl.pstatic.net/static/kin/section/noticeIcon/addQuestion.svg)\"><span class=\"blind\">추가질문</span></span>\n",
       "\t\t\t\t\t{{?}}\n",
       "\n",
       "\t\t\t\t\t<div class=\"addition-qna__notice\">\n",
       "\t\t\t\t\t\t<i class=\"icon_addition_qna_notice\"></i>\n",
       "\t\t\t\t\t\t네이버 그린인터넷 캠패인에 따라 연령 확인을 하지 않은 사용자는 열람할 수 없는 게시물입니다.\n",
       "\t\t\t\t\t</div>\n",
       "\n",
       "\t\t\t\t\t<div class=\"addition-qna__info-date\">{{=qna.formattedWriteTime}}</div>\n",
       "\t\t\t\t</div>\n",
       "\t\t\t{{??}}\n",
       "\t\t\t\t<div class=\"addition-qna__item _additionalQnaItem _additionalQnaArea\" data-dir-id=\"{{=qna.dirId}}\" data-doc-id=\"{{=qna.docId}}\" data-answer-no=\"{{=qna.answerNo}}\">\n",
       "\t\t\t\t\t{{? qna.answerNo > 0}}\n",
       "\t\t\t\t\t\t<span class=\"sp_mark\" style=\"background-image: url(https://ssl.pstatic.net/static/kin/section/noticeIcon/addAnswer.svg)\"><span class=\"blind\">추가답변</span></span>\n",
       "\t\t\t\t\t{{??}}\n",
       "\t\t\t\t\t\t<span class=\"sp_mark\" style=\"background-image: url(https://ssl.pstatic.net/static/kin/section/noticeIcon/addQuestion.svg)\"><span class=\"blind\">추가질문</span></span>\n",
       "\t\t\t\t\t{{?}}\n",
       "\n",
       "\t\t\t\t\t<div class=\"addition-qna__info-title\">\n",
       "\t\t\t\t\t\t{{? qna.answerNo > 0 && qna.selectBest}}<span class=\"answer-relation answer-relation__questioner\">질문자채택</span>{{?}}<strong>{{=qna.userText}}님의 추가{{? qna.answerNo > 0}}답변{{??}}질문{{?}}</strong>\n",
       "\t\t\t\t\t</div>\n",
       "\n",
       "\t\t\t\t\t<div class=\"addition-qna__info-text\">{{=qna.contents}}</div>\n",
       "\n",
       "\t\t\t\t\t{{? qna.attachedPhotoUrlList != null}}\n",
       "\t\t\t\t\t\t<div class=\"addition-qna__load-image\">\n",
       "\t\t\t\t\t\t\t{{~ qna.attachedPhotoUrlList : attachedPhotoUrl}}\n",
       "\t\t\t\t\t\t\t\t<div class=\"addition-qna__load-image__item\">\n",
       "\t\t\t\t\t\t\t\t\t<a href=\"{{=attachedPhotoUrl}}\" class=\"thumbnail _photoThumbnail\" target=\"_blank\"><img src=\"{{=attachedPhotoUrl}}?type=w480\" alt=\"썸네일 이미지\"></a>\n",
       "\t\t\t\t\t\t\t\t</div>\n",
       "\t\t\t\t\t\t\t{{~}}\n",
       "\t\t\t\t\t\t</div>\n",
       "\t\t\t\t\t{{?}}\n",
       "\n",
       "\t\t\t\t\t<div class=\"addition-qna__info-date\">{{=qna.formattedWriteTime}}</div>\n",
       "\n",
       "\t\t\t\t\t{{? it.isArticleOpen}}\n",
       "\t\t\t\t\t\t{{? qna.selectable}}\n",
       "\t\t\t\t\t\t\t<a href=\"javascript:void(0);\" role=\"button\" aria-selected=\"true\" class=\"button_compose button_adopt _selectBtn\"><i class=\"icon icon_compose_check_adopt\" aria-hidden=\"true\"></i>채택</a>\n",
       "\t\t\t\t\t\t{{?}}\n",
       "\n",
       "\t\t\t\t\t\t{{? qna.modifiable || qna.deletable || qna.reportable}}\n",
       "\t\t\t\t\t\t\t<div class=\"addition-qna__control\">\n",
       "\t\t\t\t\t\t\t\t{{? qna.modifiable}}\n",
       "\t\t\t\t\t\t\t\t\t<a href=\"javascript:void(0);\" class=\"button_modify _modifyBtn\">수정</a>\n",
       "\t\t\t\t\t\t\t\t{{?}}\n",
       "\n",
       "\t\t\t\t\t\t\t\t{{? qna.modifiable && qna.deletable}}\n",
       "\t\t\t\t\t\t\t\t\t<span class=\"info_bar\"></span>\n",
       "\t\t\t\t\t\t\t\t{{?}}\n",
       "\n",
       "\t\t\t\t\t\t\t\t{{? qna.deletable}}\n",
       "\t\t\t\t\t\t\t\t\t<a href=\"javascript:void(0);\" class=\"button_delete _deleteBtn\">삭제</a>\n",
       "\t\t\t\t\t\t\t\t{{?}}\n",
       "\n",
       "\t\t\t\t\t\t\t\t{{? qna.deletable && qna.reportable}}\n",
       "\t\t\t\t\t\t\t\t\t<span class=\"info_bar\"></span>\n",
       "\t\t\t\t\t\t\t\t{{?}}\n",
       "\n",
       "\t\t\t\t\t\t\t\t{{? qna.reportable}}\n",
       "\t\t\t\t\t\t\t\t\t<a href=\"javascript:void(0);\" class=\"button_report _reportBtn\" data-view-user-id=\"{{=qna.reportUserText}}\" data-report-contents=\"{{=qna.reportContents}}\" data-hall-yn=\"{{=it.hallYn}}\">신고</a>\n",
       "\t\t\t\t\t\t\t\t{{?}}\n",
       "\t\t\t\t\t\t\t</div>\n",
       "\t\t\t\t\t\t{{?}}\n",
       "\t\t\t\t\t{{?? !it.isArticleOpen}}\n",
       "\t\t\t\t\t\t{{? qna.deletable}}\n",
       "\t\t\t\t\t\t\t<div class=\"addition-qna__control\">\n",
       "\t\t\t\t\t\t\t\t<a href=\"javascript:void(0);\" class=\"button_delete _deleteBtn\">삭제</a>\n",
       "\t\t\t\t\t\t\t</div>\n",
       "\t\t\t\t\t\t{{?}}\n",
       "\t\t\t\t\t{{?}}\n",
       "\t\t\t\t</div>\n",
       "\t\t\t{{?}}\n",
       "\t\t{{~}}\n",
       "\t</div>\n",
       "</script>\n",
       "<script src=\"https://ssl.pstatic.net/static.kin/static/kin-web-pc/2401311625/js/min/naver.kin.pc.answerList.js\" type=\"text/javascript\"></script>\n",
       "<script type=\"text/javascript\">\n",
       "\t\t\t\t$(document).ready(function () {\n",
       "\t\t\t\t\tif (naver.kin && naver.kin.pc && naver.kin.pc.detail && typeof naver.kin.pc.detail.AnswerList !== \"undefined\") {\n",
       "\t\t\t\t\t\tvar oDetailAnswerList = new naver.kin.pc.detail.AnswerList({\n",
       "\t\t\t\t\t\t\tnDirId: 7010101,\n",
       "\t\t\t\t\t\t\tnDocId: 463839635,\n",
       "\t\t\t\t\t\t\tsFilterType: \"ALL\"\n",
       "\t\t\t\t\t\t\t,\n",
       "\t\t\t\t\t\t\tsViewType: \"DETAIL\"\n",
       "\t\t\t\t\t\t\t,\n",
       "\t\t\t\t\t\t\tnCountPerPage: 5,\n",
       "\t\t\t\t\t\t\tnTotalAnswerCount: 1,\n",
       "\t\t\t\t\t\t\tsGdId: \"10000009_00001ba5a193\",\n",
       "\t\t\t\t\t\t\tsArticleOpenYn: \"Y\",\n",
       "\t\t\t\t\t\t\tsMdu: \"\",\n",
       "\t\t\t\t\t\t\tbIsClosedQuestion: true,\n",
       "\t\t\t\t\t\t\tbIsUserSelectedQuestion: false,\n",
       "\t\t\t\t\t\t\tbIsSinmungoDirectory: false,\n",
       "\t\t\t\t\t\t\tbIsWebHelpDirectory: false,\n",
       "\t\t\t\t\t\t\tbIsExpertDirectory: true,\n",
       "\t\t\t\t\t\t\tbIsQuestioner: false,\n",
       "\t\t\t\t\t\t\tbIsNotRecover: false,\n",
       "\t\t\t\t\t\t\tbIsPortableDevice: false,\n",
       "\t\t\t\t\t\t\tbIsRos: false,\n",
       "\t\t\t\t\t\t\tbIsAnswerableDetail: false,\n",
       "\t\t\t\t\t\t\tbSmartEditorOneAvailable: true\n",
       "\t\t\t\t\t\t});\n",
       "\t\t\t\t\t}\n",
       "\n",
       "\t\t\t\t\tif (naver.kin && naver.kin.pc && naver.kin.pc.detail && typeof naver.kin.pc.detail.AdditionalQna !== \"undefined\") {\n",
       "\t\t\t\t\t\twindow.oAdditionalQna = new naver.kin.pc.detail.AdditionalQna({\n",
       "\t\t\t\t\t\t\tdirId: 7010101,\n",
       "\t\t\t\t\t\t\tdocId: 463839635,\n",
       "\t\t\t\t\t\t\tisArticleOpen: true,\n",
       "\t\t\t\t\t\t\tisQuestioner: false,\n",
       "\t\t\t\t\t\t\t\n",
       "\t\t\t\t\t\t\tmdu: \"\",\n",
       "\t\t\t\t\t\t\timageServiceServerDomain: \"https://kin-phinf.pstatic.net\",\n",
       "\t\t\t\t\t\t\timageUploadServerUrl: \"https://upload.kin.naver.com\",\n",
       "\t\t\t\t\t\t\thallYn: \"N\"\n",
       "\t\t\t\t\t\t});\n",
       "\t\t\t\t\t}\n",
       "\t\t\t\t});\n",
       "\t\t\t</script>\n",
       "<div class=\"kinPowerLink\" id=\"powerlink_kin\">\n",
       "<script type=\"text/javascript\">\n",
       "\t\tif (typeof window.gladsdk !== \"undefined\" && window.gladsdk.cmd) {\n",
       "\t\t\twindow.gladsdk.cmd.push(function () {\n",
       "\t\t\t\twindow.gladsdk.displayAd(\"powerlink_kin\");\n",
       "\t\t\t});\n",
       "\t\t}\n",
       "\t</script>\n",
       "</div>\n",
       "<div id=\"pc_da_kin\">\n",
       "<script type=\"text/javascript\">\n",
       "\t\tif (typeof window.gladsdk !== \"undefined\" && window.gladsdk.cmd) {\n",
       "\t\t\twindow.gladsdk.cmd.push(function () {\n",
       "\t\t\t\twindow.gladsdk.displayAd(\"pc_da_kin\");\n",
       "\t\t\t});\n",
       "\t\t}\n",
       "\t</script>\n",
       "</div>\n",
       "<div aria-label=\"배너 광고\" class=\"c-banner c-banner--type1\" id=\"pcDetailBannerArea\" role=\"region\" style=\"width:100%;height:110px;background-color:#2ec9ff;text-align:center\"></div>\n",
       "<script id=\"pcDetailBannerTpl\" type=\"text/x-dot-template\">\n",
       "\t\t<a href=\"{{=it.linkUrl}}\" class=\"c-banner__inner\" target=\"_blank\" onclick=\"naver.kin.pc.common.nClicks('end.banner', '', '', event);sendBaLog(BaPcEventType.QNA_DETAIL_5302,\n",
       "\t\t\t\t{dir_id: 7010101, doc_id: 463839635, answer_cnt: 1, ad_provider: 'internal', media_request_id: '09243606-8913-40cf-af63-f6a689371959'\n",
       "\t\t\t\t{{? it.baReferer != null && it.baReferer != '' }},referer:'{{=it.baReferer}}'{{?}}\n",
       "\t\t\t\t{{? it.baTrackingCode != null && it.baTrackingCode != '' }},tracking_code:'{{=it.baTrackingCode}}'{{?}}\n",
       "\t\t\t\t});\">\n",
       "\t\t\t<img src=\"{{=it.bannerUrl}}\" alt=\"{{=it.description}}\">\n",
       "\t\t</a>\n",
       "\t</script>\n",
       "<script type=\"text/javascript\">\n",
       "\t\tvar oTemplateData = {\"bannerUrl\":\"https://ssl.pstatic.net/static/kin/09renewal/promotion/mobile/detail_banner_bottom_320230403010159.jpg?ver=20230403010200\",\"linkUrl\":\"https://m.expert.naver.com?utm_source=naver&utm_medium=banner&utm_campaign=expert_home&utm_content=KINbanner_expert_home_page_230401\",\"description\":\"지금 만나는 최고의 전문가, 네이버 엑스퍼트\"};\n",
       "\n",
       "\t\tif (document.referrer) {\n",
       "\t\t\toTemplateData.baReferer = document.referrer;\n",
       "\t\t\tif (document.referrer.match(/search.naver.com/)) {\n",
       "\t\t\t\toTemplateData.baTrackingCode = 'naver_search';\n",
       "\t\t\t}\n",
       "\t\t}\n",
       "\n",
       "\t\tvar $elBannerArea = $(\"#pcDetailBannerArea\");\n",
       "\t\tvar $template = doT.template($(\"#pcDetailBannerTpl\").html());\n",
       "\n",
       "\t\tif ($elBannerArea.existElements() && $template) {\n",
       "\t\t\t$elBannerArea.html($template(oTemplateData))\n",
       "\t\t}\n",
       "\t</script>\n",
       "<!-- 엑스퍼트 추천 카드 -->\n",
       "<div class=\"expert__productRecommend\">\n",
       "<div class=\"expert__titleSection\">\n",
       "<div class=\"subDescription\">\n",
       "<span class=\"name\">운세/타로/작명</span> 관련 전문가와 자세한 1:1 상담하고 싶다면?\n",
       "\t\t\t\t</div>\n",
       "<a class=\"titleArea\" href=\"https://m.expert.naver.com/mobile/expert/category/home?categoryId=157\" onclick=\"naver.kin.pc.common.nClicks('exr.exrcategory', '', '', event);\">\n",
       "<div class=\"title\">\n",
       "<span class=\"category\">운세/타로/작명</span>\n",
       "</div>\n",
       "<span class=\"badgeExpert\">\n",
       "<span class=\"blind\">eXpert</span>\n",
       "<svg height=\"23\" viewbox=\"0 0 74 23\" width=\"74\" xmlns=\"http://www.w3.org/2000/svg\">\n",
       "<defs>\n",
       "<lineargradient id=\"prefix__a\" x1=\"49.883%\" x2=\"49.883%\" y1=\"100%\" y2=\"28.629%\">\n",
       "<stop offset=\"0%\" stop-color=\"#4A65F6\"></stop>\n",
       "<stop offset=\"64.257%\" stop-color=\"#2439A9\"></stop>\n",
       "<stop offset=\"100%\" stop-color=\"#172A8F\"></stop>\n",
       "</lineargradient>\n",
       "</defs>\n",
       "<path d=\"M19.599 9.144l-5.939 7.742c-.064.093-.072.212-.022.312.05.1.151.167.265.173h1.842c.16 0 .31-.073.406-.199l3.464-4.5 3.464 4.5c.096.125.246.199.406.2h1.836c.113-.006.215-.072.266-.172.051-.1.043-.22-.02-.314l-5.968-7.742z\" fill=\"url(#prefix__a)\"></path>\n",
       "<path d=\"M29.77 22.866h-1.606c-.174 0-.315-.139-.315-.31V4.746c0-.172.141-.31.315-.31h1.606c.174 0 .315.138.315.31v1.352c.107-.109.252-.245.438-.416.291-.264.607-.5.944-.703.403-.237.833-.424 1.282-.556.531-.163 1.084-.245 1.64-.246 1.691.006 3.297.73 4.409 1.986 1.237 1.276 1.915 2.981 1.89 4.746.025 1.763-.654 3.465-1.89 4.737-1.112 1.255-2.719 1.977-4.408 1.98-1.037-.006-2.053-.285-2.945-.808-.318-.194-.619-.413-.9-.656-.186-.155-.334-.295-.457-.42v6.838c-.013.163-.152.289-.318.286zm4.629-16.612c-1.09 0-2.094.466-2.982 1.392-1.79 1.817-1.79 4.71 0 6.527.888.932 1.89 1.396 2.982 1.396 1.036 0 1.984-.457 2.809-1.356.834-.899 1.285-2.081 1.26-3.3.026-1.22-.425-2.404-1.26-3.304-.825-.902-1.77-1.355-2.809-1.355zm-21.778 5.495H2.544c.11.808.756 3.816 4.302 3.816 1.523-.02 2.954-.724 3.889-1.911.056-.064.136-.103.221-.108.086-.005.17.025.232.083l1.02 1.004c.106.11.115.28.022.4-1.304 1.626-3.284 2.58-5.384 2.593-1.745.01-3.413-.703-4.6-1.964C.98 14.396.283 12.68.314 10.903.282 9.13.969 7.416 2.223 6.145c1.152-1.255 2.788-1.97 4.503-1.968 1.69-.037 3.316.63 4.481 1.837 1.405 1.466 2.035 3.495 1.704 5.486-.029.138-.148.24-.29.249zM2.563 9.812h8.187c-.142-.95-.602-1.824-1.306-2.486-.732-.698-1.714-1.08-2.73-1.063-1.042-.007-2.045.394-2.787 1.116-.709.645-1.187 1.498-1.364 2.433zM64 4.466V6.08c0 .172-.141.311-.315.311h-.674c-1.003-.015-1.97.37-2.68 1.07-.749.738-1.152 1.752-1.111 2.797v6.813c0 .171-.141.31-.315.31h-1.593c-.174 0-.315-.139-.315-.31V4.746c0-.172.14-.31.315-.31h1.606c.174 0 .314.138.314.31v1.082c1.556-1.623 3.716-1.694 4.488-1.663.156.017.276.146.28.301zm7.721 13.16c-1.003.053-1.982-.313-2.698-1.007-.65-.668-.98-1.62-.98-2.828V6.508h-2.088c-.173 0-.314-.139-.314-.31V4.737c0-.172.14-.311.314-.311h2.088V1.318c0-.172.141-.311.315-.311h1.61c.173 0 .314.14.314.31v3.109h2.46c.173 0 .314.14.314.31v1.48c0 .172-.14.311-.315.311h-2.478v7.264c0 1.209.488 1.774 1.537 1.774.541-.008 1.075-.122 1.571-.335.075-.032.161-.024.229.02.068.045.108.12.108.2v1.474c0 .159-.094.303-.242.366-.552.229-1.146.343-1.745.336zM54.536 11.75H44.46c.107.808.756 3.816 4.301 3.816 1.523-.024 2.952-.727 3.89-1.911.055-.064.135-.103.22-.108.086-.005.17.025.233.083l1.017 1.004c.106.11.117.28.025.4-1.304 1.626-3.285 2.58-5.385 2.593-1.748.012-3.422-.7-4.613-1.964-1.263-1.267-1.957-2.982-1.927-4.759-.033-1.774.654-3.487 1.908-4.758 1.152-1.232 2.766-1.943 4.464-1.967 1.698-.025 3.332.639 4.52 1.836 1.413 1.462 2.051 3.492 1.726 5.486-.03.142-.155.246-.303.249zM44.48 9.812h8.187c-.142-.95-.602-1.825-1.307-2.486-.73-.698-1.711-1.08-2.727-1.063-1.042-.008-2.044.394-2.787 1.116-.71.644-1.188 1.498-1.366 2.433zm-24.88-.668L26.451.2c.099-.128.253-.201.416-.199h1.836c.113.005.215.07.266.171.051.101.043.22-.02.314l-9.35 12.187-5.939-7.743c-.064-.092-.072-.211-.022-.312.05-.1.151-.166.265-.172h1.842c.16.005.31.086.4.217l3.454 4.482z\" fill=\"#4A65F6\"></path>\n",
       "</svg>\n",
       "</span>\n",
       "<span class=\"linkArrow\">\n",
       "\t\t\t\t\t바로가기\n",
       "\t\t\t\t\t<span class=\"iconArrow\">\n",
       "<svg fill=\"none\" height=\"16\" viewbox=\"0 0 16 16\" width=\"16\" xmlns=\"http://www.w3.org/2000/svg\">\n",
       "<path d=\"M7.445 6.167l1.053 1.034H5.592a.792.792 0 0 0-.792.791v.016c0 .437.355.791.792.791h2.785l-.017.104-.89.899c-.282.283-.35.737-.118 1.061a.79.79 0 0 0 1.209.102l2.406-2.428a.804.804 0 0 0 0-1.132l-2.4-2.37a.788.788 0 0 0-1.122 0 .806.806 0 0 0 0 1.132\" fill=\"#4a65f6\"></path>\n",
       "<circle cx=\"8\" cy=\"8\" r=\"7.2\" stroke=\"#4a65f6\" stroke-width=\"1.5\"></circle>\n",
       "</svg>\n",
       "</span>\n",
       "</span>\n",
       "</a>\n",
       "</div>\n",
       "<div class=\"listSection expert__listDefault\">\n",
       "<div class=\"itemCard\">\n",
       "<div class=\"itemInner\">\n",
       "<a class=\"itemThumbnail\" href=\"https://m.expert.naver.com/expert/profile/home?storeId=100000245\">\n",
       "<div class=\"thumbnail\" style=\"background-image: url(https://kin-phinf.pstatic.net/20230608_104/1686222162157EitkX_JPEG/1686222162146.jpg?type=f200_200);\"></div>\n",
       "<i class=\"iconActive\"><span class=\"blind\">접속중</span></i>\n",
       "</a>\n",
       "<div class=\"itemInfoArea\">\n",
       "<a class=\"itemInfo\" href=\"https://m.expert.naver.com/expert/profile/home?storeId=100000245\" onclick=\"naver.kin.pc.common.nClicks('exr.exrprofile', '', '', event);\">\n",
       "<p class=\"itemTitle\">사주 나금선강 작명</p>\n",
       "<p class=\"itemText\">답답한 마음을 자연의 사주로 시원히 풀어드립니다</p>\n",
       "</a>\n",
       "<a class=\"itemProduct\" href=\"https://m.expert.naver.com/mobile/expert/product/detail?storeId=100000245&amp;productId=100000807\" onclick=\"naver.kin.pc.common.nClicks('exr.exrproduct', '', '', event);\">\n",
       "<div class=\"name\">사주운세상담.(신년사주. 재물운. 애정운. 직장운. 건강운)</div>\n",
       "<div class=\"price\">\n",
       "<strong class=\"number\"><span class=\"blind\">판매가</span>\n",
       "\t\t\t\t\t\t\t\t\t\t\t25,000</strong>\n",
       "<span class=\"unit\">원</span> /\n",
       "\t\t\t\t\t\t\t\t\t\t\n",
       "\t\t\t\t\t\t\t\t\t\t\t\n",
       "\t\t\t\t\t\t\t\t\t\t\t\n",
       "\t\t\t\t\t\t\t\t\t\t\t\t상담 10<span class=\"unit\">분</span>\n",
       "</div>\n",
       "</a>\n",
       "</div>\n",
       "</div>\n",
       "</div>\n",
       "<div class=\"itemCard\">\n",
       "<div class=\"itemInner\">\n",
       "<a class=\"itemThumbnail\" href=\"https://m.expert.naver.com/expert/profile/home?storeId=100019459\">\n",
       "<div class=\"thumbnail\" style=\"background-image: url(https://kin-phinf.pstatic.net/20210811_71/1628640498980H1q8f_JPEG/1628640498768.jpg?type=f200_200);\"></div>\n",
       "</a>\n",
       "<div class=\"itemInfoArea\">\n",
       "<a class=\"itemInfo\" href=\"https://m.expert.naver.com/expert/profile/home?storeId=100019459\" onclick=\"naver.kin.pc.common.nClicks('exr.exrprofile', '', '', event);\">\n",
       "<p class=\"itemTitle\">신점 달인 설악산선녀 </p>\n",
       "<p class=\"itemText\">신점 신령님을 모시고 기도하는 설악산선녀 신점입니다.</p>\n",
       "</a>\n",
       "<a class=\"itemProduct\" href=\"https://m.expert.naver.com/mobile/expert/product/detail?storeId=100019459&amp;productId=100043952\" onclick=\"naver.kin.pc.common.nClicks('exr.exrproduct', '', '', event);\">\n",
       "<div class=\"name\">신년운세-평생운세(1인전용상품)</div>\n",
       "<div class=\"price\">\n",
       "<strong class=\"number\"><span class=\"blind\">판매가</span>\n",
       "\t\t\t\t\t\t\t\t\t\t\t60,000</strong>\n",
       "<span class=\"unit\">원</span> /\n",
       "\t\t\t\t\t\t\t\t\t\t\n",
       "\t\t\t\t\t\t\t\t\t\t\t\n",
       "\t\t\t\t\t\t\t\t\t\t\t\n",
       "\t\t\t\t\t\t\t\t\t\t\t\t상담 30<span class=\"unit\">분</span>\n",
       "</div>\n",
       "</a>\n",
       "</div>\n",
       "</div>\n",
       "</div>\n",
       "</div>\n",
       "<a class=\"expert__recommendBanner\" href=\"https://m.expert.naver.com/mobile/expert/account/join/hub\" target=\"_blank\">\n",
       "<p class=\"blind\">지식을 공유하고 수익도 창출할 수 있는 기회, 엑스퍼트와 함께 할 전문가를 모십니다!</p>\n",
       "</a>\n",
       "</div>\n",
       "<!-- //엑스퍼트 추천 카드 -->\n",
       "</div>\n",
       "</div>\n",
       "<script defer=\"\" src=\"//editor-static.pstatic.net/v/kinreply.viewer/1.1.11/se.viewer.js\" type=\"text/javascript\"></script>\n",
       "<script>\n",
       "\twindow.coordinateConst = {\n",
       "\t\ti1: 1 / 360,\n",
       "\t\ti2: 1 / (4 * Math.PI),\n",
       "\t\tf1: 360,\n",
       "\t\tf2: -1 / (2 * Math.PI),\n",
       "\t\tLATITUDE_LIMIT: 85.051128,\n",
       "\t\tEPSG3857_OFFSET: 20037508.3427892,\n",
       "\t\tEPSG3857_OFFSET2: 40075016.6855784 // OFFSET * 2\n",
       "\t};\n",
       "\n",
       "\twindow.coordinateConvert = {\n",
       "\t\tv5Longitude: function (longitude) {\n",
       "\t\t\tvar i1 = window.coordinateConst.i1;\n",
       "\t\t\tvar EPSG3857_OFFSET = window.coordinateConst.EPSG3857_OFFSET;\n",
       "\t\t\tvar EPSG3857_OFFSET2 = window.coordinateConst.EPSG3857_OFFSET2;\n",
       "\t\t\treturn (((longitude * i1) + 0.5) * EPSG3857_OFFSET2) - EPSG3857_OFFSET;\n",
       "\t\t},\n",
       "\t\tv5Latitude: function (latitude) {\n",
       "\t\t\tvar LATITUDE_LIMIT = window.coordinateConst.LATITUDE_LIMIT;\n",
       "\t\t\tvar i2 = window.coordinateConst.i2;\n",
       "\t\t\tvar EPSG3857_OFFSET = window.coordinateConst.EPSG3857_OFFSET;\n",
       "\t\t\tvar EPSG3857_OFFSET2 = window.coordinateConst.EPSG3857_OFFSET2;\n",
       "\n",
       "\t\t\tvar conLat;\n",
       "\n",
       "\t\t\tif (latitude >= LATITUDE_LIMIT) {\n",
       "\t\t\t\tconLat = 0;\n",
       "\t\t\t} else if (latitude <= -LATITUDE_LIMIT) {\n",
       "\t\t\t\tconLat = 1;\n",
       "\t\t\t} else {\n",
       "\t\t\t\tconLat = Math.sin(latitude * (Math.PI / 180));\n",
       "\t\t\t\tconLat = 0.5 - Math.log((1 + conLat) / (1 - conLat)) * i2;\n",
       "\t\t\t}\n",
       "\n",
       "\t\t\treturn (conLat * EPSG3857_OFFSET2 / -1.0) + EPSG3857_OFFSET;\n",
       "\t\t},\n",
       "\t\ttruncateTo7: function (val) {\n",
       "\t\t\tvar str = val.toString();\n",
       "\t\t\tvar dotIndex = str.indexOf(\".\");\n",
       "\t\t\tif (dotIndex === -1 || dotIndex + 1 === str.length) {\n",
       "\t\t\t\treturn str;\n",
       "\t\t\t}\n",
       "\n",
       "\t\t\tvar decimalLength = str.length - dotIndex - 1;\n",
       "\t\t\tif (decimalLength <= 7) {\n",
       "\t\t\t\treturn str;\n",
       "\t\t\t} else {\n",
       "\t\t\t\treturn str.substring(0, dotIndex) + str.substring(dotIndex, dotIndex + 8);\n",
       "\t\t\t}\n",
       "\t\t}\n",
       "\t}\n",
       "\n",
       "\t/**\n",
       "\t * 에디터 뷰어 새로고침 함수\n",
       "\t */\n",
       "\twindow.refreshSmartEditorViewer = function () {\n",
       "\t\tif (!window.seViewer) {\n",
       "\t\t\treturn;\n",
       "\t\t}\n",
       "\n",
       "\t\twindow.seViewer.refresh();\n",
       "\t};\n",
       "\n",
       "\t/**\n",
       "\t * 에디터 뷰어 초기화 함수\n",
       "\t */\n",
       "\twindow.initSmartEditorViewer = function () {\n",
       "\t\tif (typeof SmartEditorViewer === 'undefined' || !SmartEditorViewer) {\n",
       "\t\t\treturn;\n",
       "\t\t}\n",
       "\n",
       "\t\tif (window.seViewer) {\n",
       "\t\t\twindow.seViewer.destroy();\n",
       "\t\t}\n",
       "\n",
       "\t\twindow.seViewer = new SmartEditorViewer();\n",
       "\n",
       "\t\t// 에디터 초기값 설정\n",
       "\t\tseViewer.bootstrap({\n",
       "\t\t\tSERVICE_ID: \"kin\",\n",
       "\t\t\tDEVICE_TYPE: \"desktop\",\n",
       "\t\t\tSERVICE_INAPP: false,\n",
       "\t\t\tVIEWER_TYPE: \"normal\",\n",
       "\t\t\tlanguage: \"ko-KR\",\n",
       "\t\t\tRUN_ENV_TYPE: \"real\",\n",
       "\t\t\tMODULE_LOADING_TYPE: \"normal\",\n",
       "\t\t\tIMAGE_THUMBNAIL_TYPE: {},\n",
       "\t\t\tplugins: {\n",
       "\t\t\t\tvideo: {\n",
       "\t\t\t\t\tplayer: {\n",
       "\t\t\t\t\t\tcontrols: {\n",
       "\t\t\t\t\t\t\t\"appLink\": true,\n",
       "\t\t\t\t\t\t\t\"title\": false,\n",
       "\t\t\t\t\t\t\t\"like\": false,\n",
       "\t\t\t\t\t\t\t\"playCount\": false,\n",
       "\t\t\t\t\t\t\t\"likeCount\": false,\n",
       "\t\t\t\t\t\t\t\"help\": false,\n",
       "\t\t\t\t\t\t\t\"subtitle\": true,\n",
       "\t\t\t\t\t\t\t\"addSubtitle\": true,\n",
       "\t\t\t\t\t\t},\n",
       "\t\t\t\t\t\tcontextmenu: [\n",
       "\t\t\t\t\t\t\t{\n",
       "\t\t\t\t\t\t\t\t\"id\": \"help\",\n",
       "\t\t\t\t\t\t\t\t\"label\": \"도움말\"\n",
       "\t\t\t\t\t\t\t},\n",
       "\t\t\t\t\t\t\t{\n",
       "\t\t\t\t\t\t\t\t\"id\": \"compliance\",\n",
       "\t\t\t\t\t\t\t\t\"label\": \"라이선스\"\n",
       "\t\t\t\t\t\t\t}\n",
       "\t\t\t\t\t\t]\n",
       "\t\t\t\t\t},\n",
       "\t\t\t\t\tserviceId: {\n",
       "\t\t\t\t\t\t\"dev\": 20004,\n",
       "\t\t\t\t\t\t\"stage\": 4,\n",
       "\t\t\t\t\t\t\"real\": 4\n",
       "\t\t\t\t\t}\n",
       "\t\t\t\t}\n",
       "\t\t\t}\n",
       "\t\t});\n",
       "\n",
       "\t\t// 에디터 링크 설정\n",
       "\t\tseViewer.onLinkResolver({\n",
       "\t\t\t\"img\": {\n",
       "\t\t\t\tisStop: true,\n",
       "\t\t\t\tcallback: function (oData) {\n",
       "\t\t\t\t\tif (oData.linkUse && oData.link) {\n",
       "\t\t\t\t\t\twindow.open(oData.link);\n",
       "\t\t\t\t\t} else if (oData.src) {\n",
       "\t\t\t\t\t\twindow.open(oData.src);\n",
       "\t\t\t\t\t}\n",
       "\t\t\t\t}\n",
       "\t\t\t},\n",
       "\t\t\t\"map\": {\n",
       "\t\t\t\tisStop: true,\n",
       "\t\t\t\tcallback: function (oData) {\n",
       "\t\t\t\t\tif (oData.searchEngine == \"naver\") {\n",
       "\t\t\t\t\t\t\n",
       "\n",
       "\t\t\t\t\t\tif (oData.placeId) {\n",
       "\t\t\t\t\t\t\twindow.open(\"https://map.naver.com/v5/entry/place/\" + oData.placeId);\n",
       "\t\t\t\t\t\t} else if (oData.latitude && oData.longitude) {\n",
       "\t\t\t\t\t\t\tvar param = \"lng=\" + oData.longitude + \"&lat=\" + oData.latitude + \"&title=\" + (oData.name || \"\");\n",
       "\t\t\t\t\t\t\twindow.open(\"https://map.naver.com/v5?\" + param);\n",
       "\t\t\t\t\t\t}\n",
       "\t\t\t\t\t} else {\n",
       "\t\t\t\t\t\tif (oData.placeId) {\n",
       "\t\t\t\t\t\t\twindow.open(\"https://www.google.com/maps/search/?api=1&query=\" + (oData.name || \"\") + \"&query_place_id=\" + (oData.placeId || \"\"));\n",
       "\t\t\t\t\t\t}\n",
       "\t\t\t\t\t}\n",
       "\t\t\t\t}\n",
       "\t\t\t}\n",
       "\t\t})\n",
       "\n",
       "\t\t// 동영상플레이어5 이벤트를 연결하여 서비스 구현이 필요한 부분\n",
       "\t\tseViewer.onEventByType(\"v2_video\", {\n",
       "\t\t\t/**\n",
       "\t\t\t * 동플레이어5 컨텍스트메뉴 클릭 이벤트 전달\n",
       "\t\t\t * @param {object} payload\n",
       "\t\t\t * @param {object} payload.event 동플레이어5로부터 전달받은 이벤트객체 (@see https://oss.navercorp.com/ETECH/Cloud-Support-AOD-VOD/issues/652#issuecomment-8504521)\n",
       "\t\t\t * @param {string} payload.id 동영상컴포넌트의 id\n",
       "\t\t\t * @param {string} payload.vid 동영상컴포넌트의 video id\n",
       "\t\t\t * @param {string} payload.menuId 우클릭 메뉴의 id\n",
       "\t\t\t */\n",
       "\t\t\tonClickContextMenu: function(payload) {\n",
       "\t\t\t\tconsole.log(\"onClickContextMenu \", payload);\n",
       "\t\t\t},\n",
       "\t\t\t/**\n",
       "\t\t\t * 동플레이어5 앱링크 클릭 이벤트 전달\n",
       "\t\t\t * @param {object} payload\n",
       "\t\t\t * @param {object} payload.event 동플레이어5로부터 전달받은 이벤트객체\n",
       "\t\t\t * @param {string} payload.id 동영상컴포넌트의 id\n",
       "\t\t\t * @param {string} payload.vid 동영상컴포넌트의 video id\n",
       "\t\t\t */\n",
       "\t\t\tonClickAppLink: function(payload) {\n",
       "\t\t\t\tconsole.log(\"onClickAppLink \", payload);\n",
       "\t\t\t}\n",
       "\t\t});\n",
       "\t};\n",
       "\n",
       "\twindow.answerProfileBtnListener = function () {\n",
       "\t\tvar $tooltip = $(\"button.tooltip_button\").on(\"click\", function () {\n",
       "\t\t\tvar idx = $tooltip.index(this)\n",
       "\t\t\t$(\"div._tooltipComponent\").eq(idx).show();\n",
       "\t\t});\n",
       "\n",
       "\t\tvar $careerList = $(\"button._careerListShowBtn\").on(\"click\", function (oEvent) {\n",
       "\t\t\tvar idx = $careerList.index(this)\n",
       "\t\t\tvar $thisCareerToggle = $(\"button._careerListShowBtn\").eq(idx);\n",
       "\t\t\tvar $thisActivity = $thisCareerToggle.parent(\"div.career_list\").children(\"div._hiddenActivity\");\n",
       "\t\t\tif ($thisCareerToggle.attr('aria-expanded') === 'false') {\n",
       "\t\t\t\t$thisCareerToggle.attr('aria-expanded', 'true');\n",
       "\t\t\t\t$thisActivity.show();\n",
       "\t\t\t} else {\n",
       "\t\t\t\t$thisCareerToggle.attr('aria-expanded', 'false');\n",
       "\t\t\t\t$thisActivity.hide();\n",
       "\t\t\t}\n",
       "\t\t});\n",
       "\t};\n",
       "\n",
       "\t$(document).ready(function () {\n",
       "\t\twindow.initSmartEditorViewer();\n",
       "\t\twindow.answerProfileBtnListener();\n",
       "\t});\n",
       "</script>\n",
       "<ul class=\"aside-menu\" id=\"asideMenu\">\n",
       "<li class=\"aside-menu__item area_alarm\">\n",
       "<a aria-controls=\"myMessageLayer\" aria-expanded=\"false\" class=\"aside-menu__button _my_message_button\" href=\"#\" onclick=\"naver.kin.pc.common.nClicks('end*l.myfeed', '', '', event);\" role=\"button\">\n",
       "<div class=\"aside-menu__button-inner\">\n",
       "<i class=\"icon_alarm\"></i>\n",
       "<span class=\"aside-menu__button-title\" role=\"none\">내소식</span>\n",
       "</div>\n",
       "</a>\n",
       "<div aria-labelledby=\"menuButtonAlarm\" class=\"popup popup--w340 popup--list mykin_tab_content tc-panel _my_message_layer\" id=\"myMessageLayer\" role=\"region\" style=\"display: none;\">\n",
       "<div class=\"popup__heading\">\n",
       "<strong class=\"popup__title\">내소식</strong>\n",
       "</div>\n",
       "<ul class=\"mykin_list _my_message_list\" id=\"messageListArea\">\n",
       "</ul>\n",
       "</div>\n",
       "</li>\n",
       "<li class=\"aside-menu__item area_notice\">\n",
       "<a aria-controls=\"layerNotice\" aria-expanded=\"false\" aria-haspopup=\"true\" class=\"aside-menu__button _notice_button\" href=\"#\" onclick=\"naver.kin.pc.common.nClicks('end*l.notice', '', '', event);\" role=\"button\">\n",
       "<div class=\"aside-menu__button-inner\">\n",
       "<i class=\"icon_notice\"><span class=\"icon_new _new_notice_icon\" style=\"display: none;\"></span></i>\n",
       "<span class=\"aside-menu__button-title\">공지</span>\n",
       "</div>\n",
       "</a>\n",
       "<div aria-labelledby=\"menuButtonNotice\" class=\"popup popup--w340 popup--list _notice_layer\" role=\"region\" style=\"display: none;\">\n",
       "<div class=\"popup__heading\">\n",
       "<strong class=\"popup__title\">공지사항</strong>\n",
       "</div>\n",
       "<ul class=\"popup__list _notice_list\">\n",
       "</ul>\n",
       "<a class=\"popup__link_footer _go_blog\" href=\"https://blog.naver.com/kin_friend\" onclick=\"naver.kin.pc.common.nClicks('end*l.blog', '', '', event);\" target=\"_blank\">공식블로그 바로가기</a>\n",
       "</div>\n",
       "</li>\n",
       "<li class=\"aside-menu__item area_share\">\n",
       "<a aria-expanded=\"false\" aria-haspopup=\"true\" class=\"spiButton naver-splugin aside-menu__button _spi\" data-oninitialize=\"initializeSocialPlugin();\" data-option=\"{baseElement:'spiButton', layerPosition: 'outside-bottom', align: 'right', top: -55, left: 72}\" data-style=\"unity\" href=\"#\" id=\"spiButton\" onclick=\"naver.kin.pc.common.nClicks('end*l.share', '', '', event);\" role=\"button\" title=\"보내기\">\n",
       "<div class=\"aside-menu__button-inner\">\n",
       "<i class=\"icon_share naver-splugin-c\"></i>\n",
       "<span class=\"aside-menu__button-title naver-splugin-c\">공유</span>\n",
       "</div>\n",
       "</a>\n",
       "<div class=\"kin_spi\" id=\"socialPluginArea\">\n",
       "<div class=\"kin_sns\">\n",
       "</div>\n",
       "</div>\n",
       "</li>\n",
       "</ul>\n",
       "<script id=\"myMessageItemTpl\" type=\"text/x-dot-template\">\n",
       "\t{{~it.list : item}}\n",
       "\t{{? item.message}}\n",
       "\t<li>\n",
       "\t\t{{=item.message}}\n",
       "\t\t<p class=\"update_info\">{{=item.noteTime}}</p>\n",
       "\t</li>\n",
       "\t{{?}}\n",
       "\t{{~}}\n",
       "</script>\n",
       "<script id=\"noticeItemTpl\" type=\"text/x-dot-template\">\n",
       "\t{{~it.list : item}}\n",
       "\t<li class=\"popup__item\">\n",
       "\t\t<a href=\"{{=item.linkUrl}}\" class=\"popup__item_inner _notce_link\" target=\"_blank\" onclick=\"naver.kin.pc.common.nClicks('end*l.list2', '', '', event);\">\n",
       "\t\t\t<div class=\"popup__item_maintext popup__item_maintext--ellipsis\">\n",
       "\t\t\t\t<span class=\"popup__item_text\">{{=item.contents}}</span>\n",
       "\t\t\t</div>\n",
       "\t\t\t<p class=\"popup__item_subtext\">{{=item.startTime}}</p>\n",
       "\t\t</a>\n",
       "\t</li>\n",
       "\t{{~}}\n",
       "</script>\n",
       "</div>\n",
       "<div class=\"container-fluid-content-etc _bounceAnimationBoundary\">\n",
       "<div class=\"personal-data\">\n",
       "<div class=\"personal-data__inner\">\n",
       "<div class=\"_detailQnaListComponent c-tab c-tab--title\" id=\"detailQnaListTabTitleArea\">\n",
       "<div class=\"c-tab__list\" role=\"tablist\">\n",
       "<a aria-controls=\"reactRankQnaListTabPanel\" aria-selected=\"true\" class=\"_detailQnaListTabTitle c-tab__item is_active\" href=\"#\" onclick=\"naver.kin.pc.common.nClicks('end*s.see', '', '', event);return false;\" role=\"tab\">많이 본 Q&amp;A </a>\n",
       "</div>\n",
       "<span class=\"c-tab__right\" id=\"reactRankQnaListTabRight\"></span>\n",
       "</div>\n",
       "<div aria-expanded=\"true\" aria-labelledby=\"tab2\" aria-selected=\"true\" class=\"_detailQnaListComponent\" id=\"reactRankQnaListTabPanel\" role=\"tabpanel\" style=\"margin-top:34px;\">\n",
       "<div class=\"carousel-slide\" id=\"detailArticleReactRankListArea\" style=\"display:none\">\n",
       "<div class=\"carousel-slide-inner\">\n",
       "<div class=\"_detailQnaListArea c-qna c-qna-lot\">\n",
       "<h2 class=\"blind\" id=\"relatedRankQnaListTitle\">많이 본 Q&amp;A</h2>\n",
       "</div>\n",
       "</div>\n",
       "<script id=\"qnaListPaginatorTpl\" type=\"text/x-dot-template\">\n",
       "\t<a href=\"#\" role=\"tab\" id=\"{{=it.elementId}}Paginator{{=it.index}}\" class=\"paginator__item _paginator\" data-index=\"{{=it.index}}\" aria-controls=\"{{=it.elementId}}\" aria-selected=\"false\"><span class=\"blind\">{{=it.index}}</span></a>\n",
       "</script>\n",
       "<div class=\"paginator paginator_fluid _qnaListPaginator\" role=\"tablist\" style=\"display: none;\">\n",
       "<div class=\"paginator__inner _paginatorInner\" role=\"presentation\"></div>\n",
       "</div>\n",
       "<div class=\"carousel-slide__controls\">\n",
       "<a class=\"_prevButton button button_prev\" href=\"#\" onclick=\"naver.kin.pc.common.nClicks('end*s.pre', '', '', event);\" role=\"button\" style=\"display:none\"><i class=\"icon icon_prev\"></i><span class=\"blind\">이전보기</span></a>\n",
       "<a class=\"_nextButton button button_next\" href=\"#\" onclick=\"naver.kin.pc.common.nClicks('end*s.next', '', '', event);\" role=\"button\" style=\"display:none\"><i class=\"icon icon_next\"></i><span class=\"blind\">다음보기</span></a>\n",
       "</div>\n",
       "</div>\n",
       "<script id=\"detailArticleReactRankListTpl\" type=\"text/x-dot-template\">\n",
       "\t{{~ it.list : item : index}}\n",
       "\t{{? index % it.countPerPage == 0}}\n",
       "\t{{? index == 0}}\n",
       "\t<div class=\"_detailQnaList c-qna__list\" role=\"region\" aria-labelledby=\"relatedRankQnaListTitle\">\n",
       "\t\t{{??}}\n",
       "\t\t<div class=\"_detailQnaList c-qna__list\" role=\"region\" aria-labelledby=\"relatedRankQnaListTitle\" style=\"display:none\">\n",
       "\t\t\t{{?}}\n",
       "\t\t\t{{?}}\n",
       "\t\t\t<a href=\"{{=item.link}}\" target=\"_blank\" class=\"_detailQnaListItem c-qna__item c-qna__item--clamp1\" onclick=\"naver.kin.pc.common.nClicks('end*s.list4', '', '', event);\">\n",
       "\t\t\t\t<div class=\"c-heading\">\n",
       "\t\t\t\t\t<div class=\"c-heading__title\">\n",
       "\t\t\t\t\t\t<div class=\"c-heading__title-inner\">\n",
       "\t\t\t\t\t\t\t<div class=\"c-heading__number\">{{=item.reactRank}}</div>\n",
       "\t\t\t\t\t\t\t<div class=\"title\">{{=item.title}}</div>\n",
       "\t\t\t\t\t\t</div>\n",
       "\t\t\t\t\t</div>\n",
       "\t\t\t\t\t<div class=\"c-heading__content\">{{=item.previewContents}}</div>\n",
       "\t\t\t\t\t<div class=\"c-qna__userinfo\">\n",
       "\t\t\t\t\t\t<span class=\"c-qna__userinfo--item text-color--primary\">조회수 <em>{{=item.actionCnt}}</em></span>\n",
       "\t\t\t\t\t\t<span class=\"c-qna__userinfo--item\">답변수 <em>{{=item.answerCnt}}</em></span>\n",
       "\t\t\t\t\t</div>\n",
       "\t\t\t\t</div>\n",
       "\t\t\t</a>\n",
       "\t\t\t{{? index % it.countPerPage == (it.countPerPage - 1) || index == (it.totalCount - 1)}}\n",
       "\t\t</div>\n",
       "\t\t{{?}}\n",
       "\t\t{{~}}\n",
       "</script>\n",
       "</div>\n",
       "<script type=\"text/javascript\">\n",
       "\t$(document).ready(function () {\n",
       "\t\t\n",
       "\t\t\t\n",
       "\t\t\t\n",
       "\t\t\t\n",
       "\t\t\t\n",
       "\t\t\t\t\n",
       "\t\t\t\tif (naver.kin && naver.kin.pc && naver.kin.pc.detail && typeof naver.kin.pc.detail.BottomQnaList !== \"undefined\") {\n",
       "\t\t\t\t\twindow.oDetailArticleReactRankList = new naver.kin.pc.detail.BottomQnaList({\n",
       "\t\t\t\t\t\tsDetailQnaListAreaId: \"detailArticleReactRankListArea\",\n",
       "\t\t\t\t\t\tsDetailQnaListTabRightId: \"reactRankQnaListTabRight\",\n",
       "\t\t\t\t\t\tsDetailQnaListTemplateId: \"detailArticleReactRankListTpl\",\n",
       "\t\t\t\t\t\tsDetailQnaListAjaxUrl: \"/ajax/detail/kinRanking.naver\",\n",
       "\t\t\t\t\t\toDetailQnaListAjaxData: {\n",
       "\t\t\t\t\t\t\tage: 0,\n",
       "\t\t\t\t\t\t\trankType: \"READ\"\n",
       "\t\t\t\t\t\t}\n",
       "\t\t\t\t\t});\n",
       "\t\t\t\t}\n",
       "\t\t\t\n",
       "\t\t\n",
       "\t});\n",
       "</script>\n",
       "</div>\n",
       "</div>\n",
       "</div>\n",
       "</div>\n",
       "</div>\n",
       "<script id=\"tplLikeEventLayer\" type=\"text/x-dot-template\">\n",
       "\t<div class=\"section_layer popup--center popup--like\" id=\"likeLayer\">\n",
       "\t\t<div class=\"layer_scroll\">\n",
       "\t\t\t<div class=\"layer_wrap layer_style1\">\n",
       "\t\t\t\t<div class=\"layer_inner\">\n",
       "\t\t\t\t\t<div class=\"layer_title\">\n",
       "\t\t\t\t\t\t<strong class=\"layer_title_text\">이벤트 응모 완료</strong>\n",
       "\t\t\t\t\t</div>\n",
       "\t\t\t\t\t<div class=\"layer_content\">\n",
       "\t\t\t\t\t\t<p class=\"layer_text\">\n",
       "\t\t\t\t\t\t\t지식iN 다양한 표정 이벤트<br>참여가 완료 되었습니다.\n",
       "\t\t\t\t\t\t</p>\n",
       "\t\t\t\t\t\t<p class=\"layer_sub_text\">\n",
       "\t\t\t\t\t\t\t2월 27일 지식iN 공식 블로그에<br>당첨자 공지 예정입니다.\n",
       "\t\t\t\t\t\t</p>\n",
       "\t\t\t\t\t</div>\n",
       "\t\t\t\t\t<div class=\"layer_btn_area\">\n",
       "\t\t\t\t\t\t<button type=\"button\" class=\"layer_btn  _like_layer_close\">확인</button>\n",
       "\t\t\t\t\t</div>\n",
       "\t\t\t\t\t<div class=\"btn_close_area\">\n",
       "\t\t\t\t\t\t<a href=\"#\" class=\"layer_close _like_layer_close\">\n",
       "\t\t\t\t\t\t\t<span class=\"blind\">레이어 닫기</span>\n",
       "\t\t\t\t\t\t</a>\n",
       "\t\t\t\t\t</div>\n",
       "\t\t\t\t</div>\n",
       "\t\t\t</div>\n",
       "\t\t</div>\n",
       "\t\t<div class=\"dimmed\"></div>\n",
       "\t</div>\n",
       "</script>\n",
       "<script id=\"tplLikeLayer\" type=\"text/x-dot-template\">\n",
       "\t<div class=\"popup popup--w390 popup--center popup--like\" id=\"likeLayer\">\n",
       "\t\t<i class=\"popup__badge popup__badge--best\"></i>\n",
       "\t\t<strong class=\"popup__title\">\n",
       "\t\t\t<em class=\"popup__highlight\">좋아요</em>를 눌러주셔서 감사합니다\n",
       "\t\t</strong>\n",
       "\t\t<div class=\"popup__content\">\n",
       "\t\t\t<p class=\"popup__text\">\n",
       "\t\t\t\t좋아요 또는 유익해요를 누른 답변이<br>베스트로 선정되는 경우<br>\n",
       "\t\t\t\t<span class=\"popup__highlight\">베스트 발굴단 배지</span>를 드리고 있으니,<br>유용한 정보가 있는 답변에는 좋아요 또는 유익해요를 눌러주세요!\n",
       "\t\t\t</p>\n",
       "\t\t</div>\n",
       "\t\t<div class=\"popup__button_area\">\n",
       "\t\t\t<a href=\"/best/listaha.naver\" role=\"button\" class=\"c-button-default popup__button_submit\" target=\"_blank\">\n",
       "\t\t\t\t<span class=\"c-button-default__title\">베스트 보러 가기</span>\n",
       "\t\t\t</a>\n",
       "\t\t</div>\n",
       "\t\t<a href=\"#\" class=\"popup__close _like_layer_close\"><span class=\"blind\">닫기</span></a>\n",
       "\t</div>\n",
       "</script>\n",
       "<script id=\"tplUsefulLayer\" type=\"text/x-dot-template\">\n",
       "\t<div class=\"popup popup--w390 popup--center popup--like\" id=\"likeLayer\">\n",
       "\t\t<i class=\"popup__badge popup__badge--best\"></i>\n",
       "\t\t<strong class=\"popup__title\">\n",
       "\t\t\t<em class=\"popup__highlight\">유익해요</em>를 눌러주셔서 감사합니다\n",
       "\t\t</strong>\n",
       "\t\t<div class=\"popup__content\">\n",
       "\t\t\t<p class=\"popup__text\">\n",
       "\t\t\t\t좋아요 또는 유익해요를 누른 답변이<br>베스트로 선정되는 경우<br>\n",
       "\t\t\t\t<span class=\"popup__highlight\">베스트 발굴단 배지</span>를 드리고 있으니,<br>유용한 정보가 있는 답변에는 좋아요 또는 유익해요를 눌러주세요!\n",
       "\t\t\t</p>\n",
       "\t\t</div>\n",
       "\t\t<div class=\"popup__button_area\">\n",
       "\t\t\t<a href=\"/best/listaha.naver\" role=\"button\" class=\"c-button-default popup__button_submit\" target=\"_blank\">\n",
       "\t\t\t\t<span class=\"c-button-default__title\">베스트 보러 가기</span>\n",
       "\t\t\t</a>\n",
       "\t\t</div>\n",
       "\t\t<a href=\"#\" class=\"popup__close _like_layer_close\"><span class=\"blind\">닫기</span></a>\n",
       "\t</div>\n",
       "</script>\n",
       "<script id=\"tplHahaLayer\" type=\"text/x-dot-template\">\n",
       "\t<div class=\"popup popup--w390 popup--center popup--like\" id=\"likeLayer\">\n",
       "\t\t<i class=\"popup__badge popup__badge--shrine\"></i>\n",
       "\t\t<strong class=\"popup__title\">\n",
       "\t\t\t<em class=\"popup__highlight\">재밌어요</em>를 눌러주셔서 감사합니다\n",
       "\t\t</strong>\n",
       "\t\t<div class=\"popup__content\">\n",
       "\t\t\t<p class=\"popup__text\">\n",
       "\t\t\t\t재밌어요를 누른 답변이 베스트로 선정되면<br>\n",
       "\t\t\t\t<span class=\"popup__highlight\">성지 발굴단 배지</span>를 드리고 있으니,<br>깨알같이 웃기고 재밌는<br>\n",
       "\t\t\t\t답변에는 재밌어요를 눌러주세요!\n",
       "\t\t\t</p>\n",
       "\t\t</div>\n",
       "\t\t<div class=\"popup__button_area\">\n",
       "\t\t\t<a href=\"{{=it.legendQnaUrl}}\" role=\"button\" class=\"c-button-default popup__button_submit\" target=\"_blank\">\n",
       "\t\t\t\t<span class=\"c-button-default__title\">성지 보러 가기</span>\n",
       "\t\t\t</a>\n",
       "\t\t</div>\n",
       "\t\t<a href=\"#\" class=\"popup__close _like_layer_close\"><span class=\"blind\">닫기</span></a>\n",
       "\t</div>\n",
       "</script>\n",
       "<script id=\"answerLikeUserLayerTpl\" type=\"text/x-dot-template\">\n",
       "\t<div id=\"answerLikeUserLayer_{{=it.answerNo}}\" class=\"likeit_user__layer _likeUserListLayer\" data-answer-no=\"{{=it.answerNo}}\" role=\"dialog\" aria-hidden=\"false\" aria-labelledby=\"dialogTitle_{{=it.answerNo}}\">\n",
       "\t\t<h1 id=\"dialogTitle_{{=it.answerNo}}\" class=\"blind\">표정 클릭 사용자 표시 안내 레이어팝업</h1>\n",
       "\t\t<p class=\"likeit_user__status\">다른 사람 표정 <em class=\"_kinupCnt\">{{=it.stat.kinupCnt}}</em></p>\n",
       "\n",
       "\t\t<div class=\"likeit_user__menu _answerLikeCountArea\"></div>\n",
       "\t\t<div class=\"likeit_user__tabcontents\">\n",
       "\t\t\t<div class=\"loader_all _loadingImage\" style=\"width:100%;padding:100px 0px;text-align:center;\">\n",
       "\t\t\t\t<span class=\"loader\">\n",
       "\t\t\t\t\t<img src=\"https://ssl.pstatic.net/static/kin/m/ico_lod4.gif\" width=\"21\" height=\"21\" alt=\"데이터 요청 응답 대기중\">\n",
       "\t\t\t\t</span>\n",
       "\t\t\t</div>\n",
       "\t\t\t<ul class=\"likeit_user__info _likeUserList\" role=\"tabpanel\" style=\"display:none;\"></ul>\n",
       "\t\t\t<div class=\"paging_area paging_control_type1 _pagingBtnArea\" role=\"navigation\" style=\"display:none;\"></div>\n",
       "\t\t\t<div class=\"c-nodata c-nodata--default _noLikeUserList\" style=\"display:none;\">\n",
       "\t\t\t\t<i class=\"icon-square\" aria-hidden=\"true\"></i>\n",
       "\t\t\t\t<p class=\"c-nodata__title\">해당 표정을 선택한 사용자가 없습니다.</p>\n",
       "\t\t\t</div>\n",
       "\t\t</div>\n",
       "\t\t<a href=\"#none\" class=\"button_close\"></a>\n",
       "\t\t<div class=\"button_close\">\n",
       "\t\t\t<a href=\"#\" class=\"sp_common layer_close _closeBtn\">\n",
       "\t\t\t\t<span class=\"blind\">레이어 닫기</span>\n",
       "\t\t\t</a>\n",
       "\t\t</div>\n",
       "\t</div>\n",
       "</script>\n",
       "<script id=\"answerLikeCountAreaTpl\" type=\"text/x-dot-template\">\n",
       "\t<ul class=\"likeit_user__list\" role=\"tablist\">\n",
       "\t\t<li class=\"likeit_user__item like\" role=\"presentation\">\n",
       "\t\t\t<a class=\"likeit_list_button _reactionTypeBtn{{? it.reactionType == 'like'}} on{{?}}\" onclick=\"naver.kin.pc.common.nClicks('end*f.mlike', '', '', event);\" href=\"javascript:void(0);\" role=\"tab\"  data-reaction-type=\"like\" aria-selected=\"false\">\n",
       "\t\t\t\t<span class=\"blind\">좋아요</span>\n",
       "\t\t\t\t<span class=\"likeit_list_count _count _like\">{{? it.likeCnt > 9999}}9999+{{??}}{{=it.stat.likeCnt}}{{?}}</span>\n",
       "\t\t\t</a>\n",
       "\t\t</li>\n",
       "\t\t<li class=\"likeit_user__item useful\" role=\"presentation\">\n",
       "\t\t\t<a class=\"likeit_list_button _reactionTypeBtn{{? it.reactionType == 'useful'}} on{{?}}\" onclick=\"naver.kin.pc.common.nClicks('end*f.museful', '', '', event);\" href=\"javascript:void(0);\" role=\"tab\"  data-reaction-type=\"useful\" aria-selected=\"false\">\n",
       "\t\t\t\t<span class=\"blind\">유익해요</span>\n",
       "\t\t\t\t<span class=\"likeit_list_count _count _useful\">{{? it.usefulCnt > 9999}}9999+{{??}}{{=it.stat.usefulCnt}}{{?}}</span>\n",
       "\t\t\t</a>\n",
       "\t\t</li>\n",
       "\t\t<li class=\"likeit_user__item haha\" role=\"presentation\">\n",
       "\t\t\t<a class=\"likeit_list_button _reactionTypeBtn{{? it.reactionType == 'haha'}} on{{?}}\" onclick=\"naver.kin.pc.common.nClicks('end*f.mhaha', '', '', event);\" href=\"javascript:void(0);\" role=\"tab\"  data-reaction-type=\"haha\" aria-selected=\"false\">\n",
       "\t\t\t\t<span class=\"blind\">재밌어요</span>\n",
       "\t\t\t\t<span class=\"likeit_list_count _count _haha\">{{? it.hahaCnt > 9999}}9999+{{??}}{{=it.stat.hahaCnt}}{{?}}</span>\n",
       "\t\t\t</a>\n",
       "\t\t</li>\n",
       "\t\t<li class=\"likeit_user__item toobad\" role=\"presentation\">\n",
       "\t\t\t<a class=\"likeit_list_button _reactionTypeBtn{{? it.reactionType == 'toobad'}} on{{?}}\" onclick=\"naver.kin.pc.common.nClicks('end*f.mtoobad', '', '', event);\" href=\"javascript:void(0);\" role=\"tab\"  data-reaction-type=\"toobad\" aria-selected=\"false\">\n",
       "\t\t\t\t<span class=\"blind\">동의못해요</span>\n",
       "\t\t\t\t<span class=\"likeit_list_count _count _toobad\">{{? it.toobadCnt > 9999}}9999+{{??}}{{=it.stat.toobadCnt}}{{?}}</span>\n",
       "\t\t\t</a>\n",
       "\t\t</li>\n",
       "\t\t<li class=\"likeit_user__item likead\" role=\"presentation\">\n",
       "\t\t\t<a class=\"likeit_list_button _reactionTypeBtn{{? it.reactionType == 'likead'}} on{{?}}\" onclick=\"naver.kin.pc.common.nClicks('end*f.mlikead', '', '', event);\" href=\"javascript:void(0);\" role=\"tab\"  data-reaction-type=\"likead\" aria-selected=\"false\">\n",
       "\t\t\t\t<span class=\"blind\">광고같아요</span>\n",
       "\t\t\t\t<span class=\"likeit_list_count _count _likead\">{{? it.likeadCnt > 9999}}9999+{{??}}{{=it.stat.likeadCnt}}{{?}}</span>\n",
       "\t\t\t</a>\n",
       "\t\t</li>\n",
       "\t</ul>\n",
       "</script>\n",
       "<script id=\"answerLikeUserListPagingTpl\" type=\"text/x-dot-template\">\n",
       "\t{{? it.prevPage}}<a href=\"javascript:void(0);\" class=\"prev _prevPageBtn\" onclick=\"naver.kin.pc.common.nClicks('end*f.mback', '', '', event);\" data-page=\"{{=it.prevPage}}\" data-reaction-type=\"{{=it.reactionType}}\">이전</a>{{?}}{{? it.nextPage}}<a href=\"javascript:void(0);\" class=\"next _nextPageBtn\" onclick=\"naver.kin.pc.common.nClicks('end*f.mmore', '', '', event);\" data-page=\"{{=it.nextPage}}\" data-reaction-type=\"{{=it.reactionType}}\">다음</a>{{?}}\n",
       "</script>\n",
       "<script id=\"answerLikeUserListTpl\" type=\"text/x-dot-template\">\n",
       "\t{{~ it.list : item}}\n",
       "\t\t<li class=\"likeit_user__info_item\">\n",
       "\t\t\t{{? !item.hiddenUser && item.profileLinkUrl != null}}<a href=\"{{=item.profileLinkUrl}}\" class=\"link_content\" onclick=\"naver.kin.pc.common.nClicks('end*f.mpro', '', '', event);\" target=\"_blank\">{{??}}<div class=\"link_content\">{{?}}\n",
       "\t\t\t<div class=\"thumbnail\">\n",
       "\t\t\t\t<div class=\"profile\">\n",
       "\t\t\t\t\t<img src=\"{{? !item.hiddenUser && item.profileImageUrl != null && item.profileImageUrl != ''}}{{=item.profileImageUrl}}{{??}}https://ssl.pstatic.net/static/kin/09renewal/avatar/200x200_m_gray/profilePlaceholder_191121.png{{?}}\" alt=\"{{? !item.hiddenUser}}{{=item.userText}}님 프로필 사진{{??}}{{=item.userText}}{{?}}\" width=\"74\" height=\"74\">\n",
       "\t\t\t\t\t<span class=\"mask\" aria-hidden=\"true\"></span>\n",
       "\t\t\t\t</div>\n",
       "\t\t\t\t<span class=\"likeit_user__icon likeit_user__icon__{{=item.reactionTypeStr}}\"><span class=\"blind\">{{=item.reactionText}}</span></span>\n",
       "\t\t\t</div>\n",
       "\t\t\t<div class=\"user\"><strong class=\"user_nick\">{{=item.userText}}</strong>{{? !item.hiddenUser}}<span class=\"user_level\">{{=item.levelName}}</span>{{?}}</div>\n",
       "\t\t\t<span class=\"user_update\">{{=item.reactionTime}}</span>\n",
       "\t\t\t{{? !item.hiddenUser && item.profileLinkUrl != null}}</a>{{??}}</div>{{?}}\n",
       "\t\t</li>\n",
       "\t{{~}}\n",
       "</script>\n",
       "<script id=\"bumpQuestionTpl\" type=\"text/x-dot-template\">\n",
       "\t<div class=\"section_layer\" id=\"bumpQuestionPopup\" style=\"display:none;\">\n",
       "\t\t<div class=\"dimmed\"></div>\n",
       "\t\t<div class=\"popup popup--w354\">\n",
       "\t\t\t<p class=\"popup__text\">끌어올리기를 하시겠습니까?</p>\n",
       "\t\t\t<p class=\"popup__subtext\">끌어올리기는 최대 1회만 가능합니다.</p>\n",
       "\t\t\t<div class=\"popup__button_area\">\n",
       "\t\t\t\t<a href=\"#\" role=\"button\" class=\"c-button-default\" id=\"closeButton\">\n",
       "\t\t\t\t\t<span class=\"c-button-default__title\">닫기</span>\n",
       "\t\t\t\t</a>\n",
       "\t\t\t\t<a href=\"#\" role=\"button\" class=\"c-button-default c-button-default--green\" id=\"bumpButton\" onclick=\"nclk_v2(event,'end*q.qupdate','','');\">\n",
       "\t\t\t\t\t<span class=\"c-button-default__title\">끌어올리기</span>\n",
       "\t\t\t\t</a>\n",
       "\t\t\t</div>\n",
       "\t\t</div>\n",
       "\t</div>\n",
       "</script>\n",
       "<script id=\"bumpQuestionExistTpl\" type=\"text/x-dot-template\">\n",
       "\t<div class=\"section_layer\" id=\"bumpQuestionExistPopup\" style=\"display:none;\">\n",
       "\t\t<div class=\"dimmed\"></div>\n",
       "\t\t<div class=\"popup popup--w354\">\n",
       "\t\t\t<p class=\"popup__text\">이미 끌어올리기를 했습니다.</p>\n",
       "\t\t\t<p class=\"popup__subtext\">\n",
       "\t\t\t\t끌어올리기는 최대 1회만 가능합니다.<br>\n",
       "\t\t\t\t끌어올리기 후 효과적으로 답변을 받으려면<br>\n",
       "\t\t\t\t<span class=\"highlight\">제목, 내공 등을 수정</span>하면 더 잘 받을 수 있어요!\n",
       "\t\t\t</p>\n",
       "\t\t\t<div class=\"popup__button_area\">\n",
       "\t\t\t\t<a href=\"#\" role=\"button\" class=\"c-button-default\" id=\"closeButton\">\n",
       "\t\t\t\t\t<span class=\"c-button-default__title\">닫기</span>\n",
       "\t\t\t\t</a>\n",
       "\t\t\t\t<a href=\"#\" role=\"button\" class=\"c-button-default c-button-default--green\" id=\"modifyButton\">\n",
       "\t\t\t\t\t<span class=\"c-button-default__title\">수정하러 가기</span>\n",
       "\t\t\t\t</a>\n",
       "\t\t\t</div>\n",
       "\t\t</div>\n",
       "\t</div>\n",
       "</script>\n",
       "<script id=\"bumpQuestionPeriodTpl\" type=\"text/x-dot-template\">\n",
       "\t<div class=\"section_layer\" id=\"bumpQuestionPeriodPopup\" style=\"display:none;\">\n",
       "\t\t<div class=\"dimmed\"></div>\n",
       "\t\t<div class=\"popup popup--w354\">\n",
       "\t\t\t<p class=\"popup__text\">끌어올리기를 할 수 있는<br>기간이 아닙니다.</p>\n",
       "\t\t\t<p class=\"popup__subtext\">\n",
       "\t\t\t\t끌어올리기는 질문 등록일 기준<br>\n",
       "\t\t\t\t24시간 이후부터 만 7일내 가능합니다.\n",
       "\t\t\t</p>\n",
       "\t\t\t<div class=\"popup__button_area\">\n",
       "\t\t\t\t<a href=\"#\" role=\"button\" class=\"c-button-default c-button-default--green\" id=\"confirmButton\">\n",
       "\t\t\t\t\t<span class=\"c-button-default__title\">확인</span>\n",
       "\t\t\t\t</a>\n",
       "\t\t\t</div>\n",
       "\t\t</div>\n",
       "\t</div>\n",
       "</script>\n",
       "<script id=\"bumpQuestionErrorTpl\" type=\"text/x-dot-template\">\n",
       "\t<div class=\"section_layer\" id=\"bumpQuestionErrorPopup\" style=\"display:none;\">\n",
       "\t\t<div class=\"dimmed\"></div>\n",
       "\t\t<div class=\"popup popup--w354\">\n",
       "\t\t\t<p class=\"popup__text\">{{=it.title}}</p>\n",
       "\t\t\t<div class=\"popup__button_area\">\n",
       "\t\t\t\t<a href=\"#\" role=\"button\" class=\"c-button-default c-button-default--green\" id=\"confirmButton\">\n",
       "\t\t\t\t\t<span class=\"c-button-default__title\">확인</span>\n",
       "\t\t\t\t</a>\n",
       "\t\t\t</div>\n",
       "\t\t</div>\n",
       "\t</div>\n",
       "</script>\n",
       "<script id=\"bumpQuestionSuccessTpl\" type=\"text/x-dot-template\">\n",
       "\t<div class=\"section_layer\" id=\"bumpQuestionSuccessPopup\" style=\"display:none;\">\n",
       "\t\t<div class=\"dimmed\"></div>\n",
       "\t\t<div class=\"popup popup--w354\">\n",
       "\t\t\t<i class=\"popup__mark popup__mark--exclamation\"></i>\n",
       "\t\t\t<p class=\"popup__text\">끌어올리기 완료!</p>\n",
       "\t\t\t<p class=\"popup__subtext\">끌올 후 효과적으로 답변을 받으려면<br>제목, 내공 등을 수정하세요!</p>\n",
       "\t\t\t<div class=\"popup__button_area\">\n",
       "\t\t\t\t<a href=\"#\" role=\"button\" class=\"c-button-default\" id=\"closeButton\">\n",
       "\t\t\t\t\t<span class=\"c-button-default__title\">닫기</span>\n",
       "\t\t\t\t</a>\n",
       "\t\t\t\t<a href=\"#\" role=\"button\" class=\"c-button-default c-button-default--green\" id=\"modifyButton\" onclick=\"nclk_v2(event,'end*q.qupdateModify','','');\">\n",
       "\t\t\t\t\t<span class=\"c-button-default__title\">수정하러 가기</span>\n",
       "\t\t\t\t</a>\n",
       "\t\t\t</div>\n",
       "\t\t</div>\n",
       "\t</div>\n",
       "</script>\n",
       "<script id=\"realNameRequiredForAnswer\" type=\"text/x-dot-template\">\n",
       "\t<div class=\"section_layer\" id=\"realNameRequiredForAnswerPopup\" style=\"display:none;\">\n",
       "\t\t<div class=\"dimmed _layerClose\"></div>\n",
       "\t\t<div class=\"popup popup--w354\">\n",
       "\t\t\t<i class=\"popup__mark popup__mark--exclamation\"></i>\n",
       "\t\t\t{{? it.isNotCheckableGroupId == true}}\n",
       "\t\t\t<p class=\"popup__text\">본인 확인이 되지 않는<br>단체 ID 입니다.</p>\n",
       "\t\t\t<p class=\"popup__subtext\">단체 ID는 실명 확인이 불가하여<br>개인 ID로 로그인 후 답변해 주세요.</p>\n",
       "\t\t\t{{??}}\n",
       "\t\t\t<p class=\"popup__text\">본인 확인이 되지 않은 계정입니다.</p>\n",
       "\t\t\t<p class=\"popup__subtext\">본인 확인(실명 확인) 후 답변 등록이 가능합니다.</p>\n",
       "\t\t\t<div class=\"popup__linkCenter\">\n",
       "\t\t\t\t<a href=\"https://help.naver.com/service/5640/contents/18989?lang=ko\" class=\"popup__link highlight--blue\">실명 확인 방법 보기<i class=\"ico_arrow\"></i></a>\n",
       "\t\t\t</div>\n",
       "\t\t\t{{?}}\n",
       "\t\t\t<div class=\"popup__button_area\">\n",
       "\t\t\t\t<a href=\"#\" role=\"button\" class=\"c-button-default popup__button_submit _layerClose\">\n",
       "\t\t\t\t\t<span class=\"c-button-default__title\">닫기</span>\n",
       "\t\t\t\t</a>\n",
       "\t\t\t</div>\n",
       "\t\t</div>\n",
       "\t</div>\n",
       "</script>\n",
       "<div id=\"prohibited_words_layer_area\" style=\"display:none\"></div>\n",
       "<script id=\"prohibited_words_layer_tpl\" type=\"text/x-dot-template\">\n",
       "\t<div class=\"_adjustPosition popup popup--w390 popup--banword\" style=\"position: absolute;display:block;\">\n",
       "\t\t<i class=\"popup__mark popup__mark--exclamation\"></i>\n",
       "\t\t<strong class=\"popup__title\">\n",
       "\t\t\t작성하신 내용에 이용자의 신고가<br>많은 표현이 포함되어 있습니다.\n",
       "\t\t</strong>\n",
       "\t\t<div class=\"popup__box\">\n",
       "\t\t\t<p class=\"popup__box_text\" id=\"detectedWords2\">\n",
       "\t\t\t\t{{=it.prohibitedWords}}\n",
       "\t\t\t</p>\n",
       "\t\t</div>\n",
       "\t\t<p class=\"popup__text\">\n",
       "\t\t\t다른 표현으로 수정 또는 삭제하신 후<br>다시 등록해주세요.<br>건전한 인터넷 문화 조성을 위해<br>회원님의 적극적인 협조 부탁드립니다.\n",
       "\t\t</p>\n",
       "\t\t<div class=\"popup__button_area\">\n",
       "\t\t\t<a href=\"#\" role=\"button\" class=\"_submitBtn c-button-default\">\n",
       "\t\t\t\t<span class=\"c-button-default__title _submitBtn\">확인</span>\n",
       "\t\t\t</a>\n",
       "\t\t</div>\n",
       "\t\t<a href=\"#\" class=\"popup__close _closeBtn\"><span class=\"blind\">닫기</span></a>\n",
       "\t</div>\n",
       "</script>\n",
       "<div class=\"section_layer\" id=\"detailQuestionDimmedLayer\" style=\"display:none\">\n",
       "<div class=\"layer_scroll\">\n",
       "<div class=\"popup popup--w354 _articleOpenLayer\" style=\"display:none\">\n",
       "<i class=\"popup__mark popup__mark--exclamation\"></i>\n",
       "<p class=\"popup__text\">현재 비공개 설정된 질문입니다.</p>\n",
       "<p class=\"popup__subtext\">다시 공개 질문으로 변경하시겠습니까?</p>\n",
       "<div class=\"popup__button_area\">\n",
       "<a class=\"c-button-default popup__button_cancel _layerCloseBtn _firstElement\" href=\"#\" role=\"button\">\n",
       "<span class=\"c-button-default__title\">아니오</span>\n",
       "</a>\n",
       "<a class=\"c-button-default popup__button_submit _articleOpenBtn\" data-dir-id=\"7010101\" data-doc-id=\"463839635\" href=\"#\" role=\"button\">\n",
       "<span class=\"c-button-default__title\">예</span>\n",
       "</a>\n",
       "</div>\n",
       "<a class=\"popup__close _layerCloseBtn\" href=\"#\" role=\"button\"><span class=\"blind\">닫기</span></a>\n",
       "</div>\n",
       "<div class=\"popup popup--w390 _articleCloseLayer\" style=\"display:none\">\n",
       "<div class=\"popup__heading\">\n",
       "<i class=\"popup__mark popup__mark--exclamation\"></i>\n",
       "<strong class=\"popup__title\">\n",
       "\t\t\t\t\t질문 비공개 설정이란?\n",
       "\t\t\t\t</strong>\n",
       "</div>\n",
       "<ul class=\"popup__list popup__list--checkbox _checkList\">\n",
       "<li class=\"popup__item\">\n",
       "<label class=\"popup__item_label\" for=\"articleCloseLayercheckbox01\">\n",
       "<input class=\"popup__item_checkbox blind _checkGuide _firstElement\" id=\"articleCloseLayercheckbox01\" type=\"checkbox\"/>\n",
       "<i class=\"popup__item_checkicon _check\"></i>\n",
       "<span class=\"popup__item_text\">\n",
       "\t\t\t\t\t\t\t질문 비공개 설정을 하시면 본인 및 답변자만 질문내용을 확인할 수 있습니다. [프로필에서 확인 가능]\n",
       "\t\t\t\t\t\t</span>\n",
       "</label>\n",
       "</li>\n",
       "<li class=\"popup__item\">\n",
       "<label class=\"popup__item_label\" for=\"articleCloseLayercheckbox02\">\n",
       "<input class=\"popup__item_checkbox blind _checkGuide\" id=\"articleCloseLayercheckbox02\" type=\"checkbox\"/>\n",
       "<i class=\"popup__item_checkicon _check\"></i>\n",
       "<span class=\"popup__item_text\">\n",
       "\t\t\t\t\t\t\t더 많은 사용자들에게 지식공유 기회를 제공하지 못하게 되는 점을 감안하여 <em class=\"popup__highlight\">내공 300점이 차감</em>되며, 추후 다시 공개설정을 하더라도 차감된 내공은 돌려받을 수 없습니다.\n",
       "\t\t\t\t\t\t</span>\n",
       "</label>\n",
       "</li>\n",
       "<li class=\"popup__item\">\n",
       "<label class=\"popup__item_label\" for=\"articleCloseLayercheckbox03\">\n",
       "<input class=\"popup__item_checkbox blind _checkGuide _lastElement\" id=\"articleCloseLayercheckbox03\" type=\"checkbox\"/>\n",
       "<i class=\"popup__item_checkicon _check\"></i>\n",
       "<span class=\"popup__item_text\">\n",
       "\t\t\t\t\t\t\t질문 비공개는 <em class=\"popup__highlight\">한달에 3회</em>로 제한합니다.\n",
       "\t\t\t\t\t\t</span>\n",
       "</label>\n",
       "</li>\n",
       "<p class=\"popup__confirm_text\">계속 진행하시겠습니까?</p>\n",
       "</ul>\n",
       "<div class=\"popup__button_area\">\n",
       "<a class=\"c-button-default _layerCloseBtn\" href=\"#\" role=\"button\">\n",
       "<span class=\"c-button-default__title\">아니오</span>\n",
       "</a>\n",
       "<a class=\"c-button-default _articleCloseBtn\" data-dir-id=\"7010101\" data-doc-id=\"463839635\" href=\"#\" role=\"button\">\n",
       "<span class=\"c-button-default__title\">예</span>\n",
       "</a>\n",
       "</div>\n",
       "<a class=\"popup__close _layerCloseBtn\" href=\"#\"><span class=\"blind\">닫기</span></a>\n",
       "</div>\n",
       "</div>\n",
       "<div class=\"dimmed\"></div>\n",
       "</div>\n",
       "<div class=\"section_layer\" id=\"friendAndBlockDimmedLayer\" style=\"display:none\">\n",
       "<div class=\"layer_scroll\">\n",
       "<div class=\"popup popup--w390 _userBlockGuideLayer\" style=\"display:none;\">\n",
       "<strong class=\"popup__title\">\n",
       "                해당 사용자를<br>차단하시겠습니까?\n",
       "            </br></strong>\n",
       "<ul class=\"popup__list\">\n",
       "<li class=\"popup__item _friend_desc\">\n",
       "<span class=\"popup__highlight\">친구인 사용자</span>입니다. 차단을 진행하시면 <span class=\"popup__highlight\">친구 해제</span>가 됩니다.\n",
       "                </li>\n",
       "<li class=\"popup__item\">\n",
       "                    차단을 하면 본인과 차단된 사용자는 각자 아래와 같은 활동이 제한됩니다.\n",
       "                    <ul class=\"popup__subList\">\n",
       "<li class=\"popup__subItem\">질문 목록에서 상대방 질문 확인하기</li>\n",
       "<li class=\"popup__subItem\">1:1 질문하기 및 추가 질문하기</li>\n",
       "<li class=\"popup__subItem\">답변하기 및 추가 답변하기</li>\n",
       "</ul>\n",
       "</li>\n",
       "<li class=\"popup__item\">\n",
       "                    프로필 확인이 어려운 <span class=\"popup__highlight--red\">질문자, 비공개 사용자</span>는 일부 정책이 미적용될 수 있으며, 차단 목록에서 확인 및 차단 해제가 불가능합니다.\n",
       "                </li>\n",
       "</ul>\n",
       "<div class=\"popup__button_area\">\n",
       "<a class=\"c-button-default _layer_close\" href=\"#\" role=\"button\">\n",
       "<span class=\"c-button-default__title _layer_close\">취소</span>\n",
       "</a>\n",
       "<a class=\"c-button-default popup__button_submit _user_block\" href=\"#\" role=\"button\">\n",
       "<span class=\"c-button-default__title _user_block\" data-dir-id=\"7010101\" data-doc-id=\"463839635\">차단</span>\n",
       "</a>\n",
       "</div>\n",
       "</div>\n",
       "<div class=\"popup popup--w390 _follow_friend_guide_layer\" style=\"display:none\">\n",
       "<div class=\"popup__heading\">\n",
       "<i class=\"popup__mark popup__mark--exclamation\"></i>\n",
       "<strong class=\"popup__title\">친구추가 기능이란?</strong>\n",
       "</div>\n",
       "<ul class=\"popup__list\">\n",
       "<li class=\"popup__item _block_user_desc\" style=\"display:none;\"><span class=\"popup__item_text\"><em class=\"popup__highlight\">차단한 사용자</em>입니다. 친구추가를 진행하시면 <em class=\"popup__highlight\">차단이 해제</em>됩니다.</span></li>\n",
       "<li class=\"popup__item\"><span class=\"popup__item_text\">좋은 답변을 해주는 사용자를 친구추가 해두었다가 1:1질문을 할 수 있습니다.</span></li>\n",
       "<li class=\"popup__item\"><span class=\"popup__item_text\">친구 추가한 사용자 목록은 <a class=\"popup__highlight\" href=\"/myinfo/userFriendList.naver\" target=\"_blank\">프로필 &gt; 나의친구</a>에서 확인할 수 있습니다.</span></li>\n",
       "<p class=\"popup__confirm_text\"><label class=\"popup__label\">계속 진행하시겠습니까?</label></p>\n",
       "</ul>\n",
       "<div class=\"popup__button_area\">\n",
       "<a class=\"c-button-default _layer_close\" href=\"#\" onclick=\"naver.kin.pc.common.nClicks('end*a.friendn', '', '', event);\" role=\"button\"><span class=\"c-button-default__title _layer_close\">아니오</span></a>\n",
       "<a class=\"c-button-default _follow_friend\" href=\"#\" onclick=\"naver.kin.pc.common.nClicks('end*a.friendy', '', '', event);\" role=\"button\"><span class=\"c-button-default__title _follow_friend\">예</span></a>\n",
       "</div>\n",
       "<a class=\"popup__close _layer_close\" href=\"#\"><span class=\"blind\">닫기</span></a>\n",
       "</div>\n",
       "<div class=\"popup popup--w390 _exceed_number_of_friend_layer\" style=\"display:none\">\n",
       "<div class=\"popup__heading\">\n",
       "<i class=\"popup__mark popup__mark--exclamation\"></i>\n",
       "<strong class=\"popup__title\">친구추가 개수가 초과되었습니다.</strong>\n",
       "</div>\n",
       "<ul class=\"popup__list\">\n",
       "<li class=\"popup__item\"><span class=\"popup__item_text\">친구추가는 <em class=\"popup__item_text\">100명</em>까지 가능합니다.</span></li>\n",
       "<li class=\"popup__item\"><span class=\"popup__item_text\">친구추가를 원하시는 경우 <a class=\"popup__highlight\" href=\"/myinfo/userFriendList.naver\" target=\"_blank\">프로필 &gt; 나의친구</a>에서 기존 친구를 해제한 후 다시 시도해주세요.</span></li>\n",
       "<li class=\"popup__item\"><span class=\"popup__item_text\"><a class=\"popup__highlight\" href=\"/myinfo/userFriendList.naver\" target=\"_blank\">친구 해제 하러가기</a></span></li>\n",
       "</ul>\n",
       "<div class=\"popup__button_area\">\n",
       "<a class=\"c-button-default _layer_close\" href=\"#\" role=\"button\"><span class=\"c-button-default__title _layer_close\">확인</span></a>\n",
       "</div>\n",
       "</div>\n",
       "<div class=\"popup popup--w390 _add_friend_complete_layer\" style=\"display:none\">\n",
       "<div class=\"popup__heading\">\n",
       "<i class=\"popup__mark popup__mark--check\"></i>\n",
       "<strong class=\"popup__title\">친구추가 완료 되었습니다.</strong>\n",
       "</div>\n",
       "<ul class=\"popup__list\">\n",
       "<li class=\"popup__item\"><span class=\"popup__item_text\">친구추가한 사용자 목록은 <a class=\"popup__highlight\" href=\"/myinfo/userFriendList.naver\" target=\"_blank\">프로필 &gt; 나의친구</a>에서 확인할 수 있습니다.</span></li>\n",
       "<li class=\"popup__item\"><span class=\"popup__item_text\">친구추가한 사용자에 대해 간단한 메모를 남겨 관리할 수 있습니다.</span></li>\n",
       "<li class=\"popup__item\"><span class=\"popup__item_text\"><a class=\"popup__highlight\" href=\"/myinfo/userFriendList.naver\" target=\"_blank\">메모작성 하러가기</a></span></li>\n",
       "</ul>\n",
       "<div class=\"popup__button_area\">\n",
       "<a class=\"c-button-default _layer_close\" href=\"#\" role=\"button\"><span class=\"c-button-default__title _layer_close\">확인</span></a>\n",
       "</div>\n",
       "</div>\n",
       "</div>\n",
       "<div class=\"dimmed\"></div>\n",
       "</div>\n",
       "<div class=\"section_layer\" data-store-id=\"ticketCreationLayer\" id=\"ticketCreationLayer\" style=\"display:none;\">\n",
       "<div class=\"dimmed\"></div>\n",
       "</div>\n",
       "<script id=\"rouletteTicketCreationLayerTpl\" type=\"text/x-dot-template\">\n",
       "\t<div class=\"layer_scroll\">\n",
       "\t\t<div class=\"popup popup--w390\">\n",
       "\t\t\t<i class=\"popup__badge popup__badge--roulette_voucher\"></i>\n",
       "\t\t\t<strong class=\"popup__title\">\n",
       "\t\t\t\t<em class=\"popup__highlight\">지식iN 룰렛 이용권</em>이 발급되었습니다!\n",
       "\t\t\t</strong>\n",
       "\t\t\t<ul class=\"popup__list\">\n",
       "\t\t\t\t<li class=\"popup__item\">\n",
       "\t\t\t\t<span class=\"popup__item_text\">\n",
       "\t\t\t\t\t룰렛을 돌리면 <em class=\"popup__highlight\">네이버 페이, 내공</em>을 경품으로 드립니다.\n",
       "\t\t\t\t</span>\n",
       "\t\t\t\t</li>\n",
       "\t\t\t</ul>\n",
       "\t\t\t<div class=\"popup__button_area\">\n",
       "\t\t\t\t<a href=\"#\" role=\"button\" class=\"c-button-default popup__button_submit _rouletteHome\" onclick=\"naver.kin.pc.common.nClicks('end.rticketg', '', '', event);\">\n",
       "\t\t\t\t\t<span class=\"c-button-default__title\">룰렛 돌리러 가기</span>\n",
       "\t\t\t\t</a>\n",
       "\t\t\t</div>\n",
       "\t\t\t<p class=\"popup__confirm_text\">\n",
       "\t\t\t\t\n",
       "\t\t\t\t<input type=\"checkbox\" id=\"ticketNotShowCheckbox\" class=\"popup__checkbox blind _todayNotShow\" onclick=\"naver.kin.pc.common.nClicks('end.rticketn', '', '', event);\">\n",
       "\t\t\t\t<label for=\"ticketNotShowCheckbox\" class=\"popup__label\">\n",
       "\t\t\t\t\t<i class=\"popup__label_check\"></i>\n",
       "\t\t\t\t\t오늘 하루 룰렛 이용권 팝업 보지않기\n",
       "\t\t\t\t</label>\n",
       "\t\t\t</p>\n",
       "\t\t\t<a href=\"#\" class=\"popup__close _close\" onclick=\"naver.kin.pc.common.nClicks('end.rticketc', '', '', event);\"><span class=\"blind\">닫기</span></a>\n",
       "\t\t</div>\n",
       "\t</div>\n",
       "</script>\n",
       "<div class=\"section_layer _dimmed\" id=\"additionalQnaGuideLayer\" style=\"display:none;\">\n",
       "<div class=\"layer_scroll _layer\">\n",
       "<div class=\"layer_wrap layer_style1 _answer_register _dimmedFeedbackItem\">\n",
       "<div class=\"layer_inner\">\n",
       "<div class=\"layer_title\">\n",
       "<strong class=\"layer_title_text\">추가질문하기</strong>\n",
       "</div>\n",
       "<div class=\"layer_content\">\n",
       "<p class=\"layer_text\">\n",
       "\t\t\t\t\t\t추가질문하시면<br/><em class=\"highlight_blue _userText\"></em>님께 받은 답변이<br/>함께 채택됩니다.\n",
       "\t\t\t\t\t</p>\n",
       "<br/>\n",
       "<p class=\"layer_sub_text\">\n",
       "\t\t\t\t\t\t채택으로 고마움을 같이 표현하고,<br/>더 알고 싶은 궁금증도 해결해보세요.\n",
       "\t\t\t\t\t</p>\n",
       "</div>\n",
       "<div class=\"layer_btn_area\">\n",
       "<button class=\"layer_btn _writeAdditionalQuestion\" type=\"button\">등록</button>\n",
       "</div>\n",
       "<a class=\"sp_common layer_close _closeBtn\" href=\"javascript:void(0);\">\n",
       "<span class=\"blind\">레이어 닫기</span>\n",
       "</a>\n",
       "</div>\n",
       "</div>\n",
       "</div>\n",
       "<div class=\"dimmed _dimmed\"></div>\n",
       "</div>\n",
       "<div class=\"section_layer _closeAnswererIdLayer\" style=\"display:none\">\n",
       "<div class=\"layer_scroll\">\n",
       "<div class=\"popup popup--w390\">\n",
       "<div class=\"popup__heading\">\n",
       "<i class=\"popup__mark popup__mark--exclamation\"></i>\n",
       "<strong class=\"popup__title\">답변자 별명(아이디) 정보를<br/>비공개로 변경하시겠습니까?</strong>\n",
       "</div>\n",
       "<div class=\"popup__button_area\">\n",
       "<a class=\"c-button-default\" href=\"#\" onclick=\"$.getSingle('body').removeClass('body_hidden');$(this).closest('div._closeAnswererIdLayer').hide();return false;\" role=\"button\"><span class=\"c-button-default__title\">아니오</span></a>\n",
       "<a class=\"c-button-default _closeAnswererIdButton\" href=\"#\" onclick=\"$.getSingle('body').removeClass('body_hidden');$(this).closest('div._closeAnswererIdLayer').hide();closeAnswererId($(this));return false;\" role=\"button\"><span class=\"c-button-default__title\">예</span></a>\n",
       "</div>\n",
       "</div>\n",
       "</div>\n",
       "<div class=\"dimmed\"></div>\n",
       "</div>\n",
       "<div class=\"section_layer _pointGiftFailLayer\" style=\"display:none\">\n",
       "<div class=\"layer_scroll\">\n",
       "<div class=\"popup popup--w390\">\n",
       "<div class=\"popup__heading\">\n",
       "<i class=\"popup__mark popup__mark--exclamation\"></i>\n",
       "<strong class=\"popup__title _title\">포인트 선물 실패</strong>\n",
       "</div>\n",
       "<div class=\"popup__content\">\n",
       "<p class=\"popup__text _contents\">일시적 오류로 포인트 선물에 실패했습니다. 다시 시도해주세요.</p>\n",
       "</div>\n",
       "<div class=\"popup__button_area\">\n",
       "<a class=\"c-button-default _close\" href=\"#\" role=\"button\"><span class=\"c-button-default__title _layer_close\">확인</span></a>\n",
       "</div>\n",
       "</div>\n",
       "</div>\n",
       "<div class=\"dimmed\"></div>\n",
       "</div>\n",
       "<div class=\"section_layer _selectAnswerGuidePointGiftLayer\" style=\"display:none\">\n",
       "<div class=\"layer_scroll\">\n",
       "<div class=\"popup popup--point\">\n",
       "<div class=\"ly_inner\">\n",
       "<div class=\"popup__icon\" style=\"background-image:url(https://ssl.pstatic.net/static/kin/section/event/point/popupImg_pointGift.png)\"></div>\n",
       "<strong class=\"popup__title\">\n",
       "\t\t\t\t\t고마운 답변에 보답하세요!\n",
       "\t\t\t\t</strong>\n",
       "<p class=\"popup__text\">\n",
       "\t\t\t\t\t채택한 답변이 도움이 되었다면<br/>포인트로 감사한 마음을 전해보세요.\n",
       "\t\t\t\t</p>\n",
       "<div class=\"popup__button_area\">\n",
       "<a class=\"c-button-default _pointGiftButton\" data-dir-id=\"7010101\" data-doc-id=\"463839635\" href=\"#\" role=\"button\">\n",
       "<span class=\"c-button-default__title\">N 포인트 선물하기</span>\n",
       "</a>\n",
       "</div>\n",
       "</div>\n",
       "<div class=\"ly_close_check_area\">\n",
       "<input id=\"pointGiftSelectLayerHideTodayChk\" type=\"checkbox\"/>\n",
       "<label for=\"popup__checkbox-pointGift\">\n",
       "<span>오늘 하루 보지 않기</span>\n",
       "</label>\n",
       "</div>\n",
       "<a class=\"popup__close _close\" href=\"#\"><span class=\"blind\">닫기</span></a>\n",
       "</div>\n",
       "</div>\n",
       "<div class=\"dimmed\"></div>\n",
       "</div>\n",
       "<script type=\"text/javascript\">\n",
       "\t$(document).ready(function () {\n",
       "\t\t\n",
       "\t\tif (naver.kin && naver.kin.pc && typeof naver.kin.pc.LikeLayer !== \"undefined\") {\n",
       "\t\t\twindow.oLikeLayer = new naver.kin.pc.LikeLayer();\n",
       "\t\t}\n",
       "\n",
       "\t\t\n",
       "\t\tif (naver.kin && naver.kin.pc && typeof naver.kin.pc.SocialPlugIn !== \"undefined\") {\n",
       "\t\t\twindow.oSocialPlugin = new naver.kin.pc.SocialPlugIn({\n",
       "\t\t\t\tdirId: \"7010101\",\n",
       "\t\t\t\tdocId: \"463839635\",\n",
       "\t\t\t\tgdId: \"10000009_00001ba5a193\",\n",
       "\t\t\t\tlinkUrl: \"http\" + \"://\" + location.host + \"/qna/detail.naver?d1id=\" + naver.kin.pc.common.getD1Id(\"7010101\") + \"&dirId=\" + \"7010101\" + \"&docId=\" + \"463839635\",\n",
       "\t\t\t\ttitle: \"\\uC544\\uCE68\\uC5D0 \\uAC08\\uC0C9\\uAC00\\uB798(\\uB354\\uB7EC\\uC6C0 \\uC8FC\\uC758)\",\n",
       "\t\t\t\tlikeItDomain : \"https://common.like.naver.com\",\n",
       "\t\t\t\tlikeItCdnDomain : \"https://static-like.pstatic.net\",\n",
       "\t\t\t\tsocialPlugInDomain: \"https://ssl.pstatic.net/spi\",\n",
       "\t\t\t\tsourceTitle : \"\",\n",
       "\t\t\t\tfnReactionCallback : function(oEventParams) {\n",
       "\t\t\t\t\tif (typeof likeReactionCallback === \"function\") {\n",
       "\t\t\t\t\t\tlikeReactionCallback(oEventParams, 7010101, 463839635);\n",
       "\t\t\t\t\t}\n",
       "\t\t\t\t},\n",
       "\t\t\t\treactionInitOption : {\n",
       "\t\t\t\t\tdomain : \"https://common.like.naver.com\",\n",
       "\t\t\t\t\tstaticDomain : \"https://static-like.pstatic.net\",\n",
       "\t\t\t\t\tmoduleClassname : \"_reactionModule\",\n",
       "\t\t\t\t\tcssId : \"kin\"\n",
       "\t\t\t\t}\n",
       "\t\t\t});\n",
       "\t\t}\n",
       "\n",
       "\t\t\n",
       "\t\tif (naver.kin && naver.kin.pc && naver.kin.pc.detail && typeof naver.kin.pc.detail.QuestionBottom !== \"undefined\") {\n",
       "\t\t\twindow.oQuestionBottom = new naver.kin.pc.detail.QuestionBottom({\n",
       "\t\t\t\tdirId : \"7010101\",\n",
       "\t\t\t\tdocId : \"463839635\",\n",
       "\t\t\t\tanswerNo : \"0\",\n",
       "\t\t\t\tdividedQuestion : false,\n",
       "\t\t\t\trssFlag : \"Y\",\n",
       "\t\t\t\topenFlag : \"N\",\n",
       "\t\t\t\tarticleOpenYn : \"Y\"\n",
       "\t\t\t});\n",
       "\t\t}\n",
       "\n",
       "\t\t\n",
       "\t\tif (naver.kin && naver.kin.pc && naver.kin.pc.detail && typeof naver.kin.pc.detail.DirMove !== \"undefined\") {\n",
       "\t\t\twindow.oDirMove = new naver.kin.pc.detail.DirMove({\n",
       "\t\t\t\tdirId : \"7010101\",\n",
       "\t\t\t\tdocId : \"463839635\"\n",
       "\t\t\t});\n",
       "\t\t}\n",
       "\n",
       "\t\t\n",
       "\t\tif (naver.kin && naver.kin.pc && typeof naver.kin.pc.FriendAndBlockMenu !== \"undefined\") {\n",
       "\t\t\twindow.oFriendAndBlockMenu = new naver.kin.pc.FriendAndBlockMenu();\n",
       "\t\t}\n",
       "\n",
       "\t\t\n",
       "\t\tnaver.kin.pc.common.sendListInfo(7010101, 463839635);\n",
       "\n",
       "\t\t\n",
       "\t\t\n",
       "\n",
       "\t\t\n",
       "\t\t$(document).on(\"click\", function(oEvent) {\n",
       "\t\t\tvar $elTarget = $(oEvent.target);\n",
       "\n",
       "\t\t\t// 삼땡이 버튼 메뉴 버튼이 아니면 레이어를 숨긴다.\n",
       "\t\t\tif ($(\"div._questionMenuLayer\").is(':visible') && !$elTarget.hasClass(\"_questionMenuLayerButton\")) {\n",
       "\t\t\t\t$(\"div._questionMenuLayerButton\").attr(\"aria-expanded\", \"false\");\n",
       "\t\t\t\t$(\"div._questionMenuLayer\").attr(\"aria-hidden\", \"true\");\n",
       "\t\t\t}\n",
       "\t\t\tif ($(\"div._answerMenuLayer\").is(':visible') && !$elTarget.hasClass(\"_answerMenuButton\")) {\n",
       "\t\t\t\t$(\"div._answerMenuLayerButton\").attr(\"aria-expanded\", \"false\");\n",
       "\t\t\t\t$(\"div._answerMenuLayer\").attr(\"aria-hidden\", \"true\");\n",
       "\t\t\t}\n",
       "\n",
       "\t\t\t// 삼땡이 버튼 레이어 버튼을 클릭했으면 클릭한 답변의 메뉴 레이어를 노출한다.\n",
       "\t\t\tif ($elTarget.hasClass(\"_answerMenuLayerButton\")) {\n",
       "\t\t\t\tif ($elTarget[0].tagName.toLowerCase() !== \"a\") {\n",
       "\t\t\t\t\t$elTarget = $elTarget.parent();\n",
       "\t\t\t\t}\n",
       "\n",
       "\t\t\t\t$elTarget.toggleAttr('aria-expanded', 'true', 'false');\n",
       "\t\t\t\t$elTarget.next().toggleAttr('aria-hidden', 'true', 'false');\n",
       "\n",
       "\t\t\t\toEvent.preventDefault();\n",
       "\t\t\t\toEvent.stopPropagation();\n",
       "\t\t\t}\n",
       "\t\t});\n",
       "\n",
       "\t\t\n",
       "\t\tif (naver.kin && naver.kin.pc && naver.kin.pc.detail && typeof naver.kin.pc.detail.AsideMenu !== \"undefined\") {\n",
       "\t\t\twindow.oAsideMenu = new naver.kin.pc.detail.AsideMenu();\n",
       "\t\t}\n",
       "\n",
       "\t\t\n",
       "\t\tif(naver.kin && naver.kin.pc && naver.kin.pc.detail && typeof naver.kin.pc.detail.PointGiftButton !== \"undefined\"){\n",
       "\t\t\twindow.oPointGiftButton = new naver.kin.pc.detail.PointGiftButton(450,705);\n",
       "\t\t}\n",
       "\n",
       "\t\t\n",
       "\t\tif(naver.kin && naver.kin.pc && naver.kin.pc.detail && typeof naver.kin.pc.detail.PointGiftButtonToolTip !== \"undefined\"){\n",
       "\t\t\tnew naver.kin.pc.detail.PointGiftButtonToolTip();\n",
       "\t\t}\n",
       "\n",
       "\t\t\n",
       "\t\t\n",
       "\n",
       "\t\t\n",
       "\t\t\n",
       "\t});\n",
       "</script>\n",
       "<script id=\"commentListAreaTpl\" type=\"text/x-dot-template\">\n",
       "\t<h2 class=\"blind\">댓글영역</h2>\n",
       "\t<div class=\"c-opinion__write\">\n",
       "\t\t{{? it.isArticleOpen}}\n",
       "\t\t<fieldset>\n",
       "\t\t\t<legend>댓글 입력</legend>\n",
       "\t\t\t<div class=\"c-opinion__write-form\">\n",
       "\t\t\t\t\n",
       "\t\t\t\t<textarea class=\"c-opinion__write-textarea placeholder\" maxlength=\"1000\" title=\"댓글 입력\">{{=it.placeholder}}</textarea>\n",
       "\t\t\t</div>\n",
       "\t\t\t<div class=\"c-opinion__write-upload\">\n",
       "\t\t\t\t<div class=\"c-opinion__write-count\">\n",
       "\t\t\t\t\t<span class=\"blind\">현재 입력한 글자수</span>\n",
       "\t\t\t\t\t<span class=\"c-opinion__write-count__num _currentCharCount\">0</span>\n",
       "\t\t\t\t\t/\n",
       "\t\t\t\t\t<span class=\"blind\">전체 입력 가능한 글자수 </span>\n",
       "\t\t\t\t\t<span class=\"c-opinion__write-count__total\">1000</span>\n",
       "\t\t\t\t</div>\n",
       "\t\t\t\t<button type=\"submit\" class=\"button_register _registerCommentBtn\" onclick=\"sendBaLog(BaPcEventType.QNA_DETAIL_5060, {dir_id: 7010101, doc_id: 463839635, answer_no: {{=it.answerNo}}});\">등록</button>\n",
       "\t\t\t</div>\n",
       "\t\t</fieldset>\n",
       "\t\t{{?}}\n",
       "\t</div>\n",
       "\t<div class=\"c-opinion__list _commentList\"></div>\n",
       "\t<div class=\"paginator paginator--number _pagingArea\"></div>\n",
       "</script>\n",
       "<script id=\"commentListTpl\" type=\"text/x-dot-template\">\n",
       "\t{{? it.thanksMessage != null && it.thanksMessage != ''}}\n",
       "\t<div class=\"c-opinion__item\">\n",
       "\t\t<p class=\"c-opinion__list-nick\">\n",
       "\t\t\t<strong class=\"greeting\">질문자 인사</strong>\n",
       "\t\t</p>\n",
       "\t\t<div class=\"c-opinion__list-text\">\n",
       "\t\t\t<p>{{=it.thanksMessage}}</p>\n",
       "\t\t</div>\n",
       "\t</div>\n",
       "\t{{?}}\n",
       "\t{{~ it.list : comment}}\n",
       "\t<div class=\"c-opinion__item\">\n",
       "\t\t<p class=\"c-opinion__list-nick\">\n",
       "\t\t\t{{? comment.profileLink}}<strong><a href=\"{{=comment.profileLink}}\">{{=comment.viewId}}</a></strong>{{??}}<strong>{{=comment.viewId}}</strong>{{?}}\n",
       "\t\t</p>\n",
       "\t\t<div class=\"c-opinion__list-text\">\n",
       "\t\t\t{{? comment.targetUserText != null && comment.targetUserText != ''}}<a href=\"javascript:void(0);\" class=\"c-opinion__target-name _targetCommentWriter\">@{{=comment.targetUserText}}</a>{{?}}<p>{{=comment.contents}}</p>\n",
       "\t\t</div>\n",
       "\t\t<p class=\"c-opinion__list-date\">{{=comment.writeTime}}</p>\n",
       "\t\t<div class=\"button_more\">\n",
       "\t\t\t{{? comment.isDeletable}}\n",
       "\t\t\t<a href=\"javascript:void(0);\" class=\"_deleteBtn\" onclick=\"sendBaLog(BaPcEventType.QNA_DETAIL_5061, {dir_id: 7010101, doc_id: 463839635, answer_no: {{=it.answerNo}}});\" data-comment-no=\"{{=comment.commentNo}}\" data-page=\"{{=it.currentPage}}\"><img height=\"9\" width=\"9\" alt=\"삭제\" src=\"https://ssl.pstatic.net/static/kin/09renewal/btn_delete_list2.gif\" class=\"del\"></a>\n",
       "\t\t\t{{?}}\n",
       "\t\t\t{{? comment.isReportable}}\n",
       "\t\t\t<a href=\"javascript:void(0);\" class=\"_reportBtn\" data-comment-no=\"{{=comment.commentNo}}\" data-answer-no=\"{{=comment.answerNo}}\" data-view-user-id=\"{{=comment.viewId}}\" data-report-contents=\"{{=comment.reportContents}}\"> 신고 </a>\n",
       "\t\t\t{{?}}\n",
       "\t\t</div>\n",
       "\t</div>\n",
       "\t{{~}}\n",
       "</script>\n",
       "<script id=\"commentListPagingTpl\" type=\"text/x-dot-template\">\n",
       "\t{{? it.showPrevPageBtn}}\n",
       "\t<a href=\"javascript:void(0);\" class=\"paginator__prev _pagingBtn\" data-page=\"{{=it.prevPage}}\">\n",
       "\t\t<i class=\"icon_paginator_prev\"></i>\n",
       "\t\t<span class=\"paginator__text\">이전</span>\n",
       "\t</a>\n",
       "\t{{?}}\n",
       "\t{{~ it.pageList : page}}\n",
       "\t<a href=\"javascript:void(0);\" class=\"paginator__num_item _pagingBtn{{? page == it.currentPage}} is-active{{?}}\" data-page=\"{{=page}}\">\n",
       "\t\t<span class=\"paginator__num\">{{=page}}</span>\n",
       "\t</a>\n",
       "\t{{~}}\n",
       "\t{{? it.showNextPageBtn}}\n",
       "\t<a href=\"javascript:void(0);\" class=\"paginator__next _pagingBtn\" data-page=\"{{=it.nextPage}}\">\n",
       "\t\t<span class=\"paginator__text\">다음</span>\n",
       "\t\t<i class=\"icon_paginator_next\"></i>\n",
       "\t</a>\n",
       "\t{{?}}\n",
       "</script>\n",
       "<script type=\"text/javascript\">\n",
       "\t$(document).ready(function () {\n",
       "\t\tif (naver.kin && naver.kin.pc && naver.kin.pc.detail && typeof naver.kin.pc.detail.Comment !== 'undefined') {\n",
       "\t\t\twindow.oComment = new naver.kin.pc.detail.Comment({\n",
       "\t\t\t\tsvc: \"KIN\",\n",
       "\t\t\t\tdirId: 7010101,\n",
       "\t\t\t\tdocId: 463839635,\n",
       "\t\t\t\tisArticleOpen: true,\n",
       "\t\t\t\tmdu: \"\"\n",
       "\t\t\t});\n",
       "\t\t}\n",
       "\t});\n",
       "</script>\n",
       "<script type=\"text/javascript\">\n",
       "\t$(document).ready(function () {\n",
       "\t\tif (naver.kin && naver.kin.pc && naver.kin.pc.common && typeof naver.kin.pc.common !== \"undefined\") {\n",
       "\t\t\t// 엔드페이지 내 모든 이미지를 Lazy loading 처리\n",
       "\t\t\tnaver.kin.pc.common.loadAllDetailImage(true);\n",
       "\t\t}\n",
       "\t});\n",
       "</script>\n",
       "<script id=\"outVideoIFrameTpl\" type=\"text/x-dot-template\">\n",
       "\t<iframe width=\"{{=it.width}}\" height=\"{{=it.height}}\" src=\"{{=it.url}}\" frameborder=\"0\" scrolling=\"no\" allow=\"autoplay; encrypted-media\" title=\"NaverVideo\" allowfullscreen=\"true\"></iframe>\n",
       "</script>\n",
       "<script id=\"customPlayerTpl\" type=\"text/template\">\n",
       "<pzp-pc-layout class=\"video-area\" id=\"custom_player_{{=it.playerNo}}\" >\n",
       " \t<pzp-pc-header class=\"pzp-pc__header\">\n",
       " \t\t<pzp-pc-content-info class=\"pzp-pc__content-info\">\n",
       " \t\t\t<pzp-pc-content-title href=\"$CONTENT_URL\"></pzp-pc-content-title>\n",
       " \t\t\t<pzp-pc-play-count></pzp-pc-play-count>\n",
       " \t\t</pzp-pc-content-info>\n",
       " \t</pzp-pc-header>\n",
       "</pzp-pc-layout>\n",
       "</script>\n",
       "<link href=\"https://ssl.pstatic.net/static.kin/static/kin-web-pc/2401311625/css/min/video-player/prismplayer.pc.main.css\" rel=\"stylesheet\" type=\"text/css\"/>\n",
       "<script src=\"https://ssl.pstatic.net/static.kin/static/kin-web-pc/2401311625/js/min/video-player/prismplayer.pc.index.js\"></script>\n",
       "<script type=\"text/javascript\">\n",
       "\t$(document).ready(function () {\n",
       "\t\t$.cachedScript('https://ssl.pstatic.net/static.kin/static/kin-web-pc/2401311625/js/min/detail/naver.kin.pc.detail.VideoPlayer.js').done(function () {\n",
       "\t\t\tif (naver.kin && naver.kin.pc && naver.kin.pc.detail && typeof naver.kin.pc.detail.VideoPlayer !== 'undefined') {\n",
       "\t\t\t\twindow.oVideoPlayer = new naver.kin.pc.detail.VideoPlayer({\n",
       "\t\t\t\t\tdomain : \"serviceapi.nmv.naver.com\",\n",
       "\t\t\t\t\toutDomain : \"serviceapi.rmcnmv.naver.com\",\n",
       "\t\t\t\t\tprotocol : \"https\",\n",
       "\t\t\t\t\tvideoServicePhase : \"real\",\n",
       "\t\t\t\t\tvideoServiceId : \"4\",\n",
       "\t\t\t\t\tvideoId : \"\" || \"\"\n",
       "\t\t\t\t});\n",
       "\t\t\t}\n",
       "\t\t});\n",
       "\t});\n",
       "</script>\n",
       "<script id=\"questionMapLayerTpl\" type=\"text/x-dot-template\">\n",
       "\t<div class=\"map_inr\" style=\"top:-31px;left:-10px\">\n",
       "\t\t<div class=\"ly_pin\" style=\"top:-71px;left:-53px\">\n",
       "\t\t\t<div class=\"cont\">\n",
       "\t\t\t\t<div class=\"inr\">\n",
       "\t\t\t\t\t<strong>여기가 궁금해요</strong>\n",
       "\t\t\t\t\t<p>{{=it.title}}</p>\n",
       "\t\t\t\t</div>\n",
       "\t\t\t</div>\n",
       "\t\t\t<span class=\"bgl\"></span>\n",
       "\t\t\t<span class=\"bgr\"></span>\n",
       "\t\t\t<span class=\"bgt\"></span>\n",
       "\t\t</div>\n",
       "\t\t<span class=\"ic_pin\"></span>\n",
       "\t</div>\n",
       "</script>\n",
       "<link href=\"https://ssl.pstatic.net/static/maps/openapi_map/maps_openapi.css\" rel=\"stylesheet\" type=\"text/css\">\n",
       "<script src=\"https://openapi.map.naver.com/openapi/maps3.js?ver=20240207\" type=\"text/javascript\"></script>\n",
       "<script type=\"text/javascript\">\n",
       "\t$(document).ready(function () {\n",
       "\t\t$.cachedScript('https://ssl.pstatic.net/static.kin/static/kin-web-pc/2401311625/js/min/detail/naver.kin.pc.detail.Map.js').done(function () {\n",
       "\t\t\tif (naver.kin && naver.kin.pc && naver.kin.pc.detail && typeof naver.kin.pc.detail.Map !== 'undefined') {\n",
       "\t\t\t\twindow.oMap = new naver.kin.pc.detail.Map();\n",
       "\t\t\t}\n",
       "\t\t});\n",
       "\t});\n",
       "</script>\n",
       "<script id=\"businessCardTpl\" type=\"text/x-dot-template\">\n",
       "\t<div class=\"business-card\" style=\"margin-top:20px;\">\n",
       "\t\t{{? it.imageUrl != null && it.imageUrl != ''}}\n",
       "\t\t\t<div class=\"business-card__thumb\">\n",
       "\t\t\t\t<a href=\"http://map.naver.com/local/siteview.nhn?code={{=it.placeId}}\" target=\"_blank\" onclick=\"naver.kin.pc.common.nClicks('end.nmbimg', '', '', event);\" class=\"business-card__thumb_img\" style=\"background-image: url('{{=it.imageUrlWithSizeType}}')\"></a>\n",
       "\t\t\t</div>\n",
       "\t\t{{?}}\n",
       "\n",
       "\t\t<div class=\"business-card__content\">\n",
       "\t\t\t<div class=\"business-card__content-info\">\n",
       "\t\t\t\t<strong class=\"business-card__name\" onclick=\"naver.kin.pc.common.nClicks('end.nmbtxt', '', '', event);\">{{=it.title}}</strong>\n",
       "\t\t\t\t<div class=\"business-card__info\">\n",
       "\t\t\t\t\t<em class=\"business-card__info-address\">{{=it.roadAddress}}</em>\n",
       "\t\t\t\t\t{{? it.phone != null && it.phone != ''}}\n",
       "\t\t\t\t\t\t<span class=\"business-card__info-contact\">{{=it.phone}}</span>\n",
       "\t\t\t\t\t{{?}}\n",
       "\t\t\t\t</div>\n",
       "\t\t\t\t<div class=\"business-card__description\">\n",
       "\t\t\t\t\t<p class=\"business-card__detail business-card__detail--line-2\">\n",
       "\t\t\t\t\t\t{{? it.description != null && it.description != ''}}\n",
       "\t\t\t\t\t\t\t{{=it.description}}\n",
       "\t\t\t\t\t\t{{??}}\n",
       "\t\t\t\t\t\t\t지식iN 지식인카드영역입니다. 아래 버튼을 통해 {{=it.title}} 정보를 확인하세요.\n",
       "\t\t\t\t\t\t{{?}}\n",
       "\t\t\t\t\t</p>\n",
       "\t\t\t\t</div>\n",
       "\t\t\t</div>\n",
       "\t\t\t<div class=\"business-card__group-button\">\n",
       "\t\t\t\t{{? it.linkType == 'TALK'}}\n",
       "\t\t\t\t\t{{? it.talkUrl != null && it.talkUrl != ''}}\n",
       "\t\t\t\t\t\t<a href=\"#\" class=\"business-card__button\" role=\"button\" onclick=\"naver.kin.pc.common.nClicks('end.nmbtalk', '', '', event);window.open('{{=it.talkUrl}}?frm=pkin', 'talkPopup', 'width=471, height=640');return false;\">\n",
       "\t\t\t\t\t\t\t<span class=\"business-card__button-inner\">\n",
       "\t\t\t\t\t\t\t\t<i class=\"icon icon_toctoc\" aria-hidden=\"true\"></i><span class=\"business-card__button-name\">톡톡</span>\n",
       "\t\t\t\t\t\t\t</span>\n",
       "\t\t\t\t\t\t</a>\n",
       "\t\t\t\t\t{{??}}\n",
       "\t\t\t\t\t\t<span class=\"business-card__button is-disabled\" role=\"button\">\n",
       "\t\t\t\t\t\t\t<span class=\"business-card__button-inner\">\n",
       "\t\t\t\t\t\t\t\t<i class=\"icon icon_toctoc\" aria-hidden=\"true\"></i><span class=\"business-card__button-name\">톡톡</span>\n",
       "\t\t\t\t\t\t\t</span>\n",
       "\t\t\t\t\t\t</span>\n",
       "\t\t\t\t\t{{?}}\n",
       "\t\t\t\t{{?? it.linkType == 'RESERVE'}}\n",
       "\t\t\t\t\t{{? it.reserveUrl != null && it.reserveUrl != ''}}\n",
       "\t\t\t\t\t\t<a href=\"{{=it.reserveUrl}}\" target=\"_blank\" class=\"business-card__button\" role=\"button\" onclick=\"naver.kin.pc.common.nClicks('end.nmpbook', '', '', event);\">\n",
       "\t\t\t\t\t\t\t<span class=\"business-card__button-inner\">\n",
       "\t\t\t\t\t\t\t\t<i class=\"icon icon_reservation\" aria-hidden=\"true\"></i><span class=\"business-card__button-name\">예약</span>\n",
       "\t\t\t\t\t\t\t</span>\n",
       "\t\t\t\t\t\t</a>\n",
       "\t\t\t\t\t{{??}}\n",
       "\t\t\t\t\t\t<span class=\"business-card__button is-disabled\" role=\"button\">\n",
       "\t\t\t\t\t\t\t<span class=\"business-card__button-inner\">\n",
       "\t\t\t\t\t\t\t\t<i class=\"icon icon_reservation\" aria-hidden=\"true\"></i><span class=\"business-card__button-name\">예약</span>\n",
       "\t\t\t\t\t\t\t</span>\n",
       "\t\t\t\t\t\t</span>\n",
       "\t\t\t\t\t{{?}}\n",
       "\t\t\t\t{{?}}\n",
       "\n",
       "\t\t\t\t{{? it.url != null && it.url != ''}}\n",
       "\t\t\t\t\t<a href=\"{{=it.url}}\" target=\"_blank\" class=\"business-card__button\" role=\"button\" onclick=\"naver.kin.pc.common.nClicks('end.nmbhome', '', '', event);\">\n",
       "\t\t\t\t\t\t<span class=\"business-card__button-inner\">\n",
       "\t\t\t\t\t\t\t<i class=\"icon icon_homepage\" aria-hidden=\"true\"></i><span class=\"business-card__button-name\">홈페이지</span>\n",
       "\t\t\t\t\t\t</span>\n",
       "\t\t\t\t\t</a>\n",
       "\t\t\t\t{{??}}\n",
       "\t\t\t\t\t<span class=\"business-card__button is-disabled\" role=\"button\">\n",
       "\t\t\t\t\t\t<span class=\"business-card__button-inner\">\n",
       "\t\t\t\t\t\t\t<i class=\"icon icon_homepage\" aria-hidden=\"true\"></i><span class=\"business-card__button-name\">홈페이지</span>\n",
       "\t\t\t\t\t\t</span>\n",
       "\t\t\t\t\t</span>\n",
       "\t\t\t\t{{?}}\n",
       "\n",
       "\t\t\t\t{{? it.mapUrl != null && it.mapUrl != ''}}\n",
       "\t\t\t\t\t<a href=\"{{=it.mapUrl}}\" target=\"_blank\" class=\"business-card__button\" role=\"button\" onclick=\"naver.kin.pc.common.nClicks('end.nmbmap', '', '', event);\">\n",
       "\t\t\t\t\t\t<span class=\"business-card__button-inner\">\n",
       "\t\t\t\t\t\t\t<i class=\"icon icon_location\" aria-hidden=\"true\"></i><span class=\"business-card__button-name\">위치</span>\n",
       "\t\t\t\t\t\t</span>\n",
       "\t\t\t\t\t</a>\n",
       "\t\t\t\t{{??}}\n",
       "\t\t\t\t\t<span class=\"business-card__button is-disabled\" role=\"button\">\n",
       "\t\t\t\t\t\t<span class=\"business-card__button-inner\">\n",
       "\t\t\t\t\t\t\t<i class=\"icon icon_location\" aria-hidden=\"true\"></i><span class=\"business-card__button-name\">위치</span>\n",
       "\t\t\t\t\t\t</span>\n",
       "\t\t\t\t\t</span>\n",
       "\t\t\t\t{{?}}\n",
       "\t\t\t</div>\n",
       "\t\t</div>\n",
       "\t</div>\n",
       "</script>\n",
       "<script type=\"text/javascript\">\n",
       "\t$(document).ready(function () {\n",
       "\t\t$.cachedScript(\"https://ssl.pstatic.net/static.kin/static/kin-web-pc/2401311625/js/min/naver.kin.pc.BusinessCard.js\").done(function () {\n",
       "\t\t\tif (naver.kin && naver.kin.pc && typeof naver.kin.pc.BusinessCard !== \"undefined\") {\n",
       "\t\t\t\twindow.oBusinessCard = new naver.kin.pc.BusinessCard({\n",
       "\t\t\t\t\tnDirId : 7010101,\n",
       "\t\t\t\t\tnDocId : 463839635\n",
       "\t\t\t\t});\n",
       "\t\t\t}\n",
       "\t\t});\n",
       "\t});\n",
       "</script>\n",
       "<script id=\"ogTagViewIframeTpl\" type=\"text/x-dot-template\">\n",
       "\t<iframe class=\"_ogTagView\" no=\"{{=it.no}}\" src=\"{{=it.iframeUrl}}\" width=\"513\" height=\"{{? it.layoutType == 'big_image'}}403{{??}}136{{?}}\" noresize=\"true\" scrolling=\"no\" marginwidth=\"0\" marginheight=\"0\" frameborder=\"0\"></iframe>\n",
       "</script>\n",
       "<script type=\"text/javascript\">\n",
       "\t$(document).ready(function () {\n",
       "\t\t$.cachedScript(\"https://ssl.pstatic.net/static.kin/static/kin-web-pc/2401311625/js/min/naver.kin.pc.OgTagView.js\").done(function () {\n",
       "\t\t\tif (naver.kin && naver.kin.pc && typeof naver.kin.pc.OgTagView !== \"undefined\") {\n",
       "\t\t\t\twindow.oOgTagView = new naver.kin.pc.OgTagView({\n",
       "\t\t\t\t\togTagViewDomain : \"https://kin.naver.com\"\n",
       "\t\t\t\t});\n",
       "\t\t\t}\n",
       "\t\t});\n",
       "\t});\n",
       "</script>\n",
       "<script type=\"text/javascript\">\n",
       "\t$(document).ready(function () {\n",
       "\t\t$.cachedScript(\"https://ssl.pstatic.net/static.kin/static/kin-web-pc/2401311625/js/min/naver.kin.pc.HashtagHighlighter.js\").done(function () {\n",
       "\t\t\tif (naver.kin && naver.kin.pc && typeof naver.kin.pc.HashtagHighlighter !== \"undefined\") {\n",
       "\t\t\t\twindow.oHashtagHighlighter = new naver.kin.pc.HashtagHighlighter();\n",
       "\t\t\t}\n",
       "\t\t});\n",
       "\t});\n",
       "</script>\n",
       "<div class=\"footer_wrap\">\n",
       "<div class=\"footer\">\n",
       "<h2 class=\"blind\">하위영역</h2>\n",
       "<div class=\"footer_menu\">\n",
       "<a class=\"_nclicks:fot.agreement\" href=\"http://www.naver.com/rules/service.html\" target=\"_blank\">네이버 이용약관</a>\n",
       "<span class=\"f_bar\">|</span>\n",
       "<a class=\"_nclicks:fot.policy\" href=\"/common/guide.naver?query=p1\" target=\"_blank\">지식iN 운영원칙</a>\n",
       "<span class=\"f_bar\">|</span>\n",
       "<a class=\"_nclicks:fot.privacy\" href=\"http://www.naver.com/rules/privacy.html\" target=\"_blank\"><strong>개인정보처리방침</strong></a>\n",
       "<span class=\"f_bar\">|</span>\n",
       "<a class=\"_nclicks:fot.claim\" href=\"http://inoti.naver.com/inoti/main.nhn\" target=\"_blank\">게시중단요청서비스</a>\n",
       "<span class=\"f_bar\">|</span>\n",
       "<a class=\"_nclicks:fot.help\" href=\"https://help.naver.com/alias/kin/kinmain.naver\" target=\"_faqhelp\">지식iN 고객센터</a>\n",
       "</div>\n",
       "<p class=\"copyright\"><a class=\"footer_logo sp_common\" href=\"http://www.naver.com\" target=\"_blank\">NAVER</a>Copyright © <strong><a class=\"logo _nclicks:fot.nhncorp\" href=\"https://www.navercorp.com\" target=\"_openNHNWindow\">NAVER Corp.</a></strong> All Rights Reserved.</p>\n",
       "</div>\n",
       "</div>\n",
       "<script type=\"text/javascript\">\n",
       "\t\tlcs_do_gdid('10000009_00001ba5a193');\n",
       "\t</script>\n",
       "</link></div>\n",
       "</body>\n",
       "</html>\n",
       "<script>\n",
       "\t\n",
       "\tvar dirId = 7010101;\n",
       "\tvar docId = 463839635;\n",
       "\tvar extra = getBaExtraForQnaDetailSceneEnter(dirId, docId)\n",
       "\tsendBaLog(BaPcEventType.QNA_DETAIL_5055, extra);\n",
       "</script>"
      ]
     },
     "execution_count": 163,
     "metadata": {},
     "output_type": "execute_result"
    }
   ],
   "source": [
    "bs"
   ]
  },
  {
   "cell_type": "code",
   "execution_count": 164,
   "metadata": {},
   "outputs": [],
   "source": [
    "title_data = bs.select('.title')"
   ]
  },
  {
   "cell_type": "code",
   "execution_count": 165,
   "metadata": {},
   "outputs": [
    {
     "data": {
      "text/plain": [
       "'아침에 갈색가래(더러움 주의)'"
      ]
     },
     "execution_count": 165,
     "metadata": {},
     "output_type": "execute_result"
    }
   ],
   "source": [
    "title_data = bs.select('.title')\n",
    "title = title_data[0].text.strip()\n",
    "title"
   ]
  },
  {
   "cell_type": "code",
   "execution_count": 166,
   "metadata": {},
   "outputs": [
    {
     "data": {
      "text/plain": [
       "'최근한달동안 소량의 피가래가 계속나오고 있습니다.처음에 감기증상과 진한 녹색 콧물 및 가래와 함께 피가 조금씩 나왔습니다. 대학 병원 폐 ct검사 및 이비인후과에서 코와 목 내시경검사 했는데 ct소견상 기관지에 지저분하게 피가 보이긴하는데 금방 사라지는것으로 보아 폐에는 문제가 없고 만성 편도염 으로 인해 피가 넘어가서 그런것같다고 항생제 처방 받았습니다. 항생제 먹고 가래는 묽어졌는데 아침마다 갈색가래가 지속적으로 나오는데 원인을 파악하려면 어느병원에 가야할까요?참고로 만성 편도염, 역류성식도염, 공황장애 앓고 있습니다.'"
      ]
     },
     "execution_count": 166,
     "metadata": {},
     "output_type": "execute_result"
    }
   ],
   "source": [
    "question_data = bs.select('.c-heading__content')\n",
    "question = question_data[0].text.strip()\n",
    "question"
   ]
  },
  {
   "cell_type": "code",
   "execution_count": 168,
   "metadata": {},
   "outputs": [
    {
     "data": {
      "text/plain": [
       "'안녕하세요. \\u200b 질문자님. 흡연자신가요? 흡연자시면 영향이 있을 수 있습니다. \\u200b 기본적으로 갈색의 가래는 배출이 잘 안됐던 가래가 나오는 것입니다. \\u200b 상기 증상이 지속되면 내과에 내원하셔서 흉부 X-ray는 촬영해보시는게 좋겠습니다.  \\u200b 답변이 도움이 됐으면 좋겠습니다.'"
      ]
     },
     "execution_count": 168,
     "metadata": {},
     "output_type": "execute_result"
    }
   ],
   "source": [
    "answer_data = bs.select('.se-main-container')\n",
    "answer = answer_data[0].text.strip()\n",
    "answer"
   ]
  },
  {
   "cell_type": "code",
   "execution_count": 189,
   "metadata": {},
   "outputs": [],
   "source": [
    "date = bs.select('.c-userinfo__info')\n",
    "date_ = date[0].text.replace(\"작성일\", \"\")"
   ]
  },
  {
   "cell_type": "code",
   "execution_count": 192,
   "metadata": {},
   "outputs": [
    {
     "data": {
      "text/plain": [
       "{'title': ['아침에 갈색가래(더러움 주의)'],\n",
       " 'question': ['최근한달동안 소량의 피가래가 계속나오고 있습니다.처음에 감기증상과 진한 녹색 콧물 및 가래와 함께 피가 조금씩 나왔습니다. 대학 병원 폐 ct검사 및 이비인후과에서 코와 목 내시경검사 했는데 ct소견상 기관지에 지저분하게 피가 보이긴하는데 금방 사라지는것으로 보아 폐에는 문제가 없고 만성 편도염 으로 인해 피가 넘어가서 그런것같다고 항생제 처방 받았습니다. 항생제 먹고 가래는 묽어졌는데 아침마다 갈색가래가 지속적으로 나오는데 원인을 파악하려면 어느병원에 가야할까요?참고로 만성 편도염, 역류성식도염, 공황장애 앓고 있습니다.'],\n",
       " 'answer': ['안녕하세요. \\u200b 질문자님. 흡연자신가요? 흡연자시면 영향이 있을 수 있습니다. \\u200b 기본적으로 갈색의 가래는 배출이 잘 안됐던 가래가 나오는 것입니다. \\u200b 상기 증상이 지속되면 내과에 내원하셔서 흉부 X-ray는 촬영해보시는게 좋겠습니다.  \\u200b 답변이 도움이 됐으면 좋겠습니다.'],\n",
       " 'write_date': ['4시간 전']}"
      ]
     },
     "execution_count": 192,
     "metadata": {},
     "output_type": "execute_result"
    }
   ],
   "source": [
    "data = {'title': [title], 'question': [question], 'answer' : [answer], 'write_date' : [date_]}\n",
    "data"
   ]
  },
  {
   "cell_type": "code",
   "execution_count": 191,
   "metadata": {},
   "outputs": [
    {
     "data": {
      "text/html": [
       "<div>\n",
       "<style scoped>\n",
       "    .dataframe tbody tr th:only-of-type {\n",
       "        vertical-align: middle;\n",
       "    }\n",
       "\n",
       "    .dataframe tbody tr th {\n",
       "        vertical-align: top;\n",
       "    }\n",
       "\n",
       "    .dataframe thead th {\n",
       "        text-align: right;\n",
       "    }\n",
       "</style>\n",
       "<table border=\"1\" class=\"dataframe\">\n",
       "  <thead>\n",
       "    <tr style=\"text-align: right;\">\n",
       "      <th></th>\n",
       "      <th>title</th>\n",
       "      <th>question</th>\n",
       "      <th>answer</th>\n",
       "      <th>write_date</th>\n",
       "    </tr>\n",
       "  </thead>\n",
       "  <tbody>\n",
       "    <tr>\n",
       "      <th>0</th>\n",
       "      <td>아침에 갈색가래(더러움 주의)</td>\n",
       "      <td>최근한달동안 소량의 피가래가 계속나오고 있습니다.처음에 감기증상과 진한 녹색 콧물 ...</td>\n",
       "      <td>안녕하세요. ​ 질문자님. 흡연자신가요? 흡연자시면 영향이 있을 수 있습니다. ​ ...</td>\n",
       "      <td>4시간 전</td>\n",
       "    </tr>\n",
       "  </tbody>\n",
       "</table>\n",
       "</div>"
      ],
      "text/plain": [
       "              title                                           question  \\\n",
       "0  아침에 갈색가래(더러움 주의)  최근한달동안 소량의 피가래가 계속나오고 있습니다.처음에 감기증상과 진한 녹색 콧물 ...   \n",
       "\n",
       "                                              answer write_date  \n",
       "0  안녕하세요. ​ 질문자님. 흡연자신가요? 흡연자시면 영향이 있을 수 있습니다. ​ ...      4시간 전  "
      ]
     },
     "execution_count": 191,
     "metadata": {},
     "output_type": "execute_result"
    }
   ],
   "source": [
    "df"
   ]
  },
  {
   "cell_type": "code",
   "execution_count": 141,
   "metadata": {},
   "outputs": [
    {
     "data": {
      "text/html": [
       "<div>\n",
       "<style scoped>\n",
       "    .dataframe tbody tr th:only-of-type {\n",
       "        vertical-align: middle;\n",
       "    }\n",
       "\n",
       "    .dataframe tbody tr th {\n",
       "        vertical-align: top;\n",
       "    }\n",
       "\n",
       "    .dataframe thead th {\n",
       "        text-align: right;\n",
       "    }\n",
       "</style>\n",
       "<table border=\"1\" class=\"dataframe\">\n",
       "  <thead>\n",
       "    <tr style=\"text-align: right;\">\n",
       "      <th></th>\n",
       "      <th>title</th>\n",
       "      <th>question</th>\n",
       "      <th>answer</th>\n",
       "    </tr>\n",
       "  </thead>\n",
       "  <tbody>\n",
       "    <tr>\n",
       "      <th>0</th>\n",
       "      <td>이거 턱 빠진건가요?</td>\n",
       "      <td>어제 저녁에 밥을 먹다가 갑자기 오른쪽 턱 관절?근육?이 아프기 시작했어요. 몇분동...</td>\n",
       "      <td>안녕하세요.턱관절 통증때문에 불편감이 있으시군요.턱관절 진료를 보는 치과에 구강내과...</td>\n",
       "    </tr>\n",
       "  </tbody>\n",
       "</table>\n",
       "</div>"
      ],
      "text/plain": [
       "         title                                           question  \\\n",
       "0  이거 턱 빠진건가요?  어제 저녁에 밥을 먹다가 갑자기 오른쪽 턱 관절?근육?이 아프기 시작했어요. 몇분동...   \n",
       "\n",
       "                                              answer  \n",
       "0  안녕하세요.턱관절 통증때문에 불편감이 있으시군요.턱관절 진료를 보는 치과에 구강내과...  "
      ]
     },
     "execution_count": 141,
     "metadata": {},
     "output_type": "execute_result"
    }
   ],
   "source": [
    "df"
   ]
  },
  {
   "cell_type": "code",
   "execution_count": 147,
   "metadata": {},
   "outputs": [
    {
     "name": "stderr",
     "output_type": "stream",
     "text": [
      "  0%|          | 3/1000 [00:00<02:07,  7.80it/s]"
     ]
    },
    {
     "name": "stdout",
     "output_type": "stream",
     "text": [
      "DocId: 463798707 - 질문: 턱에서 뚝소리\n",
      "DocId: 463798706 - 질문: None\n",
      "DocId: 463798705 - 질문: None\n"
     ]
    },
    {
     "name": "stderr",
     "output_type": "stream",
     "text": [
      "  0%|          | 5/1000 [00:00<01:42,  9.67it/s]"
     ]
    },
    {
     "name": "stdout",
     "output_type": "stream",
     "text": [
      "DocId: 463798704 - 질문: None\n",
      "DocId: 463798703 - 질문: None\n",
      "DocId: 463798702 - 질문: None\n"
     ]
    },
    {
     "name": "stderr",
     "output_type": "stream",
     "text": [
      "  1%|          | 9/1000 [00:00<01:32, 10.72it/s]"
     ]
    },
    {
     "name": "stdout",
     "output_type": "stream",
     "text": [
      "DocId: 463798701 - 질문: None\n",
      "DocId: 463798700 - 질문: None\n",
      "DocId: 463798699 - 질문: None\n"
     ]
    },
    {
     "name": "stderr",
     "output_type": "stream",
     "text": [
      "  1%|          | 11/1000 [00:01<01:30, 10.88it/s]"
     ]
    },
    {
     "name": "stdout",
     "output_type": "stream",
     "text": [
      "DocId: 463798698 - 질문: None\n",
      "DocId: 463798697 - 질문: None\n",
      "DocId: 463798696 - 질문: None\n"
     ]
    },
    {
     "name": "stderr",
     "output_type": "stream",
     "text": [
      "  2%|▏         | 15/1000 [00:01<01:20, 12.27it/s]"
     ]
    },
    {
     "name": "stdout",
     "output_type": "stream",
     "text": [
      "DocId: 463798695 - 질문: None\n",
      "DocId: 463798694 - 질문: None\n",
      "DocId: 463798693 - 질문: None\n"
     ]
    },
    {
     "name": "stderr",
     "output_type": "stream",
     "text": [
      "  2%|▏         | 17/1000 [00:01<01:21, 12.10it/s]"
     ]
    },
    {
     "name": "stdout",
     "output_type": "stream",
     "text": [
      "DocId: 463798692 - 질문: None\n",
      "DocId: 463798691 - 질문: None\n",
      "DocId: 463798690 - 질문: None\n"
     ]
    },
    {
     "name": "stderr",
     "output_type": "stream",
     "text": [
      "  2%|▏         | 19/1000 [00:01<01:20, 12.24it/s]"
     ]
    },
    {
     "name": "stdout",
     "output_type": "stream",
     "text": [
      "DocId: 463798689 - 질문: None\n"
     ]
    },
    {
     "name": "stderr",
     "output_type": "stream",
     "text": [
      "  2%|▏         | 23/1000 [01:02<1:48:58,  6.69s/it]"
     ]
    },
    {
     "name": "stdout",
     "output_type": "stream",
     "text": [
      "DocId: 463798686 - 질문: None\n",
      "DocId: 463798685 - 질문: None\n",
      "DocId: 463798684 - 질문: None\n"
     ]
    },
    {
     "name": "stderr",
     "output_type": "stream",
     "text": [
      "  3%|▎         | 27/1000 [01:02<48:12,  2.97s/it]  "
     ]
    },
    {
     "name": "stdout",
     "output_type": "stream",
     "text": [
      "DocId: 463798683 - 질문: None\n",
      "DocId: 463798682 - 질문: None\n",
      "DocId: 463798681 - 질문: None\n"
     ]
    },
    {
     "name": "stderr",
     "output_type": "stream",
     "text": [
      "  3%|▎         | 27/1000 [01:02<48:12,  2.97s/it]"
     ]
    },
    {
     "name": "stdout",
     "output_type": "stream",
     "text": [
      "DocId: 463798680 - 질문: None\n"
     ]
    },
    {
     "name": "stderr",
     "output_type": "stream",
     "text": [
      "  3%|▎         | 31/1000 [01:02<23:20,  1.45s/it]"
     ]
    },
    {
     "name": "stdout",
     "output_type": "stream",
     "text": [
      "DocId: 463798679 - 질문: 부모님이 소리지르고 욕하는게 너무 창피해요\n",
      "DocId: 463798678 - 질문: None\n",
      "DocId: 463798677 - 질문: None\n"
     ]
    },
    {
     "name": "stderr",
     "output_type": "stream",
     "text": [
      "  3%|▎         | 33/1000 [01:03<16:23,  1.02s/it]"
     ]
    },
    {
     "name": "stdout",
     "output_type": "stream",
     "text": [
      "DocId: 463798676 - 질문: None\n",
      "DocId: 463798675 - 질문: None\n",
      "DocId: 463798674 - 질문: None\n"
     ]
    },
    {
     "name": "stderr",
     "output_type": "stream",
     "text": [
      "  4%|▎         | 35/1000 [01:03<11:41,  1.38it/s]"
     ]
    },
    {
     "name": "stdout",
     "output_type": "stream",
     "text": [
      "DocId: 463798673 - 질문: None\n"
     ]
    },
    {
     "name": "stderr",
     "output_type": "stream",
     "text": [
      "  4%|▎         | 37/1000 [01:03<08:50,  1.81it/s]"
     ]
    },
    {
     "name": "stdout",
     "output_type": "stream",
     "text": [
      "DocId: 463798672 - 질문: 내남결 원작소설\n",
      "DocId: 463798671 - 질문: None\n",
      "DocId: 463798670 - 질문: None\n"
     ]
    },
    {
     "name": "stderr",
     "output_type": "stream",
     "text": [
      "  4%|▍         | 44/1000 [02:04<1:08:02,  4.27s/it]"
     ]
    },
    {
     "name": "stdout",
     "output_type": "stream",
     "text": [
      "DocId: 463798667 - 질문: None\n",
      "DocId: 463798666 - 질문: None\n",
      "DocId: 463798665 - 질문: None\n",
      "DocId: 463798664 - 질문: None\n"
     ]
    },
    {
     "name": "stderr",
     "output_type": "stream",
     "text": [
      "  5%|▍         | 46/1000 [02:04<46:41,  2.94s/it]  "
     ]
    },
    {
     "name": "stdout",
     "output_type": "stream",
     "text": [
      "DocId: 463798663 - 질문: None\n",
      "DocId: 463798662 - 질문: None\n",
      "DocId: 463798661 - 질문: None\n"
     ]
    },
    {
     "name": "stderr",
     "output_type": "stream",
     "text": [
      "  5%|▌         | 50/1000 [02:04<22:44,  1.44s/it]"
     ]
    },
    {
     "name": "stdout",
     "output_type": "stream",
     "text": [
      "DocId: 463798660 - 질문: None\n",
      "DocId: 463798659 - 질문: None\n",
      "DocId: 463798658 - 질문: None\n"
     ]
    },
    {
     "name": "stderr",
     "output_type": "stream",
     "text": [
      "  5%|▌         | 52/1000 [02:04<16:05,  1.02s/it]"
     ]
    },
    {
     "name": "stdout",
     "output_type": "stream",
     "text": [
      "DocId: 463798657 - 질문: None\n",
      "DocId: 463798656 - 질문: None\n",
      "DocId: 463798655 - 질문: None\n"
     ]
    },
    {
     "name": "stderr",
     "output_type": "stream",
     "text": [
      "  6%|▌         | 56/1000 [02:04<08:21,  1.88it/s]"
     ]
    },
    {
     "name": "stdout",
     "output_type": "stream",
     "text": [
      "DocId: 463798654 - 질문: None\n",
      "DocId: 463798653 - 질문: None\n",
      "DocId: 463798652 - 질문: None\n"
     ]
    },
    {
     "name": "stderr",
     "output_type": "stream",
     "text": [
      "  6%|▌         | 58/1000 [02:05<06:11,  2.54it/s]"
     ]
    },
    {
     "name": "stdout",
     "output_type": "stream",
     "text": [
      "DocId: 463798651 - 질문: None\n",
      "DocId: 463798650 - 질문: None\n"
     ]
    },
    {
     "name": "stderr",
     "output_type": "stream",
     "text": [
      "  7%|▋         | 67/1000 [06:06<4:57:57, 19.16s/it]"
     ]
    },
    {
     "name": "stdout",
     "output_type": "stream",
     "text": [
      "DocId: 463798641 - 질문: None\n",
      "DocId: 463798640 - 질문: None\n"
     ]
    },
    {
     "name": "stderr",
     "output_type": "stream",
     "text": [
      "  7%|▋         | 69/1000 [06:06<2:43:42, 10.55s/it]"
     ]
    },
    {
     "name": "stdout",
     "output_type": "stream",
     "text": [
      "DocId: 463798639 - 질문: None\n"
     ]
    },
    {
     "name": "stderr",
     "output_type": "stream",
     "text": [
      "  7%|▋         | 71/1000 [06:06<1:40:18,  6.48s/it]"
     ]
    },
    {
     "name": "stdout",
     "output_type": "stream",
     "text": [
      "DocId: 463798638 - 질문: 쌍수 풀린건가요?\n",
      "DocId: 463798637 - 질문: None\n",
      "DocId: 463798636 - 질문: None\n"
     ]
    },
    {
     "name": "stderr",
     "output_type": "stream",
     "text": [
      "  7%|▋         | 73/1000 [06:06<1:04:35,  4.18s/it]"
     ]
    },
    {
     "name": "stdout",
     "output_type": "stream",
     "text": [
      "DocId: 463798635 - 질문: None\n",
      "DocId: 463798634 - 질문: None\n"
     ]
    },
    {
     "name": "stderr",
     "output_type": "stream",
     "text": [
      "  8%|▊         | 77/1000 [06:07<29:26,  1.91s/it]  "
     ]
    },
    {
     "name": "stdout",
     "output_type": "stream",
     "text": [
      "DocId: 463798633 - 질문: None\n",
      "DocId: 463798632 - 질문: None\n",
      "DocId: 463798631 - 질문: None\n"
     ]
    },
    {
     "name": "stderr",
     "output_type": "stream",
     "text": [
      "  8%|▊         | 77/1000 [06:07<29:26,  1.91s/it]"
     ]
    },
    {
     "name": "stdout",
     "output_type": "stream",
     "text": [
      "DocId: 463798630 - 질문: None\n"
     ]
    },
    {
     "name": "stderr",
     "output_type": "stream",
     "text": [
      "  8%|▊         | 81/1000 [06:07<14:46,  1.04it/s]"
     ]
    },
    {
     "name": "stdout",
     "output_type": "stream",
     "text": [
      "DocId: 463798629 - 질문: 쌍액했는데 다래끼가 났어요\n",
      "DocId: 463798628 - 질문: None\n",
      "DocId: 463798627 - 질문: None\n"
     ]
    },
    {
     "name": "stderr",
     "output_type": "stream",
     "text": [
      "  9%|▉         | 93/1000 [11:39<5:09:08, 20.45s/it]"
     ]
    },
    {
     "name": "stdout",
     "output_type": "stream",
     "text": [
      "DocId: 463798615 - 질문: None\n"
     ]
    },
    {
     "name": "stderr",
     "output_type": "stream",
     "text": [
      " 10%|▉         | 96/1000 [11:39<1:58:10,  7.84s/it]"
     ]
    },
    {
     "name": "stdout",
     "output_type": "stream",
     "text": [
      "DocId: 463798614 - 질문: 사레 참으면\n",
      "DocId: 463798613 - 질문: None\n",
      "DocId: 463798612 - 질문: None\n"
     ]
    },
    {
     "name": "stderr",
     "output_type": "stream",
     "text": [
      " 10%|▉         | 98/1000 [11:39<1:11:38,  4.77s/it]"
     ]
    },
    {
     "name": "stdout",
     "output_type": "stream",
     "text": [
      "DocId: 463798611 - 질문: None\n",
      "DocId: 463798610 - 질문: None\n",
      "DocId: 463798609 - 질문: None\n"
     ]
    },
    {
     "name": "stderr",
     "output_type": "stream",
     "text": [
      " 10%|█         | 100/1000 [11:39<46:03,  3.07s/it] "
     ]
    },
    {
     "name": "stdout",
     "output_type": "stream",
     "text": [
      "DocId: 463798608 - 질문: None\n"
     ]
    },
    {
     "name": "stderr",
     "output_type": "stream",
     "text": [
      " 10%|█         | 102/1000 [11:40<31:11,  2.08s/it]"
     ]
    },
    {
     "name": "stdout",
     "output_type": "stream",
     "text": [
      "DocId: 463798607 - 질문: 급) 수두 검사 결과지 해석 부탁드려요!!\n",
      "DocId: 463798606 - 질문: None\n",
      "DocId: 463798605 - 질문: None\n"
     ]
    },
    {
     "name": "stderr",
     "output_type": "stream",
     "text": [
      " 11%|█         | 106/1000 [11:40<14:51,  1.00it/s]"
     ]
    },
    {
     "name": "stdout",
     "output_type": "stream",
     "text": [
      "DocId: 463798604 - 질문: None\n",
      "DocId: 463798603 - 질문: None\n",
      "DocId: 463798602 - 질문: None\n"
     ]
    },
    {
     "name": "stderr",
     "output_type": "stream",
     "text": [
      " 11%|█         | 108/1000 [11:40<10:33,  1.41it/s]"
     ]
    },
    {
     "name": "stdout",
     "output_type": "stream",
     "text": [
      "DocId: 463798601 - 질문: None\n",
      "DocId: 463798600 - 질문: None\n",
      "DocId: 463798599 - 질문: None\n"
     ]
    },
    {
     "name": "stderr",
     "output_type": "stream",
     "text": [
      " 11%|█▏        | 114/1000 [13:11<2:09:23,  8.76s/it]"
     ]
    },
    {
     "name": "stdout",
     "output_type": "stream",
     "text": [
      "DocId: 463798595 - 질문: None\n",
      "DocId: 463798594 - 질문: None\n",
      "DocId: 463798593 - 질문: None\n"
     ]
    },
    {
     "name": "stderr",
     "output_type": "stream",
     "text": [
      " 12%|█▏        | 118/1000 [13:11<57:12,  3.89s/it]  "
     ]
    },
    {
     "name": "stdout",
     "output_type": "stream",
     "text": [
      "DocId: 463798592 - 질문: None\n",
      "DocId: 463798591 - 질문: None\n",
      "DocId: 463798590 - 질문: None\n"
     ]
    },
    {
     "name": "stderr",
     "output_type": "stream",
     "text": [
      " 12%|█▏        | 120/1000 [13:11<39:20,  2.68s/it]"
     ]
    },
    {
     "name": "stdout",
     "output_type": "stream",
     "text": [
      "DocId: 463798589 - 질문: None\n",
      "DocId: 463798588 - 질문: None\n",
      "DocId: 463798587 - 질문: None\n"
     ]
    },
    {
     "name": "stderr",
     "output_type": "stream",
     "text": [
      " 12%|█▏        | 124/1000 [13:12<19:08,  1.31s/it]"
     ]
    },
    {
     "name": "stdout",
     "output_type": "stream",
     "text": [
      "DocId: 463798586 - 질문: None\n",
      "DocId: 463798585 - 질문: None\n",
      "DocId: 463798584 - 질문: None\n"
     ]
    },
    {
     "name": "stderr",
     "output_type": "stream",
     "text": [
      " 13%|█▎        | 126/1000 [13:12<13:36,  1.07it/s]"
     ]
    },
    {
     "name": "stdout",
     "output_type": "stream",
     "text": [
      "DocId: 463798583 - 질문: None\n",
      "DocId: 463798582 - 질문: None\n"
     ]
    },
    {
     "name": "stderr",
     "output_type": "stream",
     "text": [
      " 13%|█▎        | 128/1000 [13:12<10:16,  1.41it/s]"
     ]
    },
    {
     "name": "stdout",
     "output_type": "stream",
     "text": [
      "DocId: 463798581 - 질문: 기립성저혈압과 본태성저혈압\n",
      "DocId: 463798580 - 질문: None\n"
     ]
    },
    {
     "name": "stderr",
     "output_type": "stream",
     "text": [
      " 13%|█▎        | 129/1000 [13:12<09:16,  1.56it/s]"
     ]
    },
    {
     "name": "stdout",
     "output_type": "stream",
     "text": [
      "DocId: 463798579 - 질문: 부천역pt 추천 좀 해주세요~~!!\n"
     ]
    },
    {
     "name": "stderr",
     "output_type": "stream",
     "text": [
      " 14%|█▎        | 135/1000 [15:13<2:45:50, 11.50s/it]"
     ]
    },
    {
     "name": "stdout",
     "output_type": "stream",
     "text": [
      "DocId: 463798574 - 질문: None\n",
      "DocId: 463798573 - 질문: None\n",
      "DocId: 463798572 - 질문: None\n"
     ]
    },
    {
     "name": "stderr",
     "output_type": "stream",
     "text": [
      " 14%|█▍        | 139/1000 [15:14<1:07:51,  4.73s/it]"
     ]
    },
    {
     "name": "stdout",
     "output_type": "stream",
     "text": [
      "DocId: 463798571 - 질문: 제가 구개편도염이 난 줄 모르고 남친꺼를 빨아줬는데 남친이 괜찮을까요?.. 남친한테 무슨 일이 일어나는 건 아니겠죠?ㅠㅠ 제발 다들 답변 해주세요..\n",
      "DocId: 463798570 - 질문: None\n",
      "DocId: 463798569 - 질문: None\n"
     ]
    },
    {
     "name": "stderr",
     "output_type": "stream",
     "text": [
      " 14%|█▍        | 141/1000 [15:14<45:30,  3.18s/it]  "
     ]
    },
    {
     "name": "stdout",
     "output_type": "stream",
     "text": [
      "DocId: 463798568 - 질문: None\n",
      "DocId: 463798567 - 질문: None\n"
     ]
    },
    {
     "name": "stderr",
     "output_type": "stream",
     "text": [
      " 14%|█▍        | 144/1000 [15:14<24:31,  1.72s/it]"
     ]
    },
    {
     "name": "stdout",
     "output_type": "stream",
     "text": [
      "DocId: 463798566 - 질문: BPM 높음\n",
      "DocId: 463798565 - 질문: None\n",
      "DocId: 463798564 - 질문: None\n"
     ]
    },
    {
     "name": "stderr",
     "output_type": "stream",
     "text": [
      " 15%|█▍        | 146/1000 [15:14<16:43,  1.18s/it]"
     ]
    },
    {
     "name": "stdout",
     "output_type": "stream",
     "text": [
      "DocId: 463798563 - 질문: None\n",
      "DocId: 463798562 - 질문: None\n",
      "DocId: 463798561 - 질문: None\n"
     ]
    },
    {
     "name": "stderr",
     "output_type": "stream",
     "text": [
      " 15%|█▌        | 150/1000 [15:15<08:22,  1.69it/s]"
     ]
    },
    {
     "name": "stdout",
     "output_type": "stream",
     "text": [
      "DocId: 463798560 - 질문: None\n",
      "DocId: 463798559 - 질문: None\n",
      "DocId: 463798558 - 질문: None\n"
     ]
    },
    {
     "name": "stderr",
     "output_type": "stream",
     "text": [
      " 15%|█▌        | 153/1000 [16:15<2:00:54,  8.56s/it]"
     ]
    },
    {
     "name": "stdout",
     "output_type": "stream",
     "text": [
      "DocId: 463798555 - 질문: None\n",
      "DocId: 463798554 - 질문: None\n"
     ]
    },
    {
     "name": "stderr",
     "output_type": "stream",
     "text": [
      " 16%|█▌        | 155/1000 [16:16<1:13:29,  5.22s/it]"
     ]
    },
    {
     "name": "stdout",
     "output_type": "stream",
     "text": [
      "DocId: 463798553 - 질문: None\n",
      "DocId: 463798552 - 질문: None\n"
     ]
    },
    {
     "name": "stderr",
     "output_type": "stream",
     "text": [
      " 16%|█▌        | 157/1000 [16:16<47:20,  3.37s/it]  "
     ]
    },
    {
     "name": "stdout",
     "output_type": "stream",
     "text": [
      "DocId: 463798551 - 질문: None\n",
      "DocId: 463798550 - 질문: None\n"
     ]
    },
    {
     "name": "stderr",
     "output_type": "stream",
     "text": [
      " 16%|█▌        | 159/1000 [16:16<32:03,  2.29s/it]"
     ]
    },
    {
     "name": "stdout",
     "output_type": "stream",
     "text": [
      "DocId: 463798549 - 질문: 영상을 보거나 인터넷을 볼때 조금만 보면 머리가 띵하고\n"
     ]
    },
    {
     "name": "stderr",
     "output_type": "stream",
     "text": [
      " 16%|█▌        | 160/1000 [16:16<26:39,  1.90s/it]"
     ]
    },
    {
     "name": "stdout",
     "output_type": "stream",
     "text": [
      "DocId: 463798548 - 질문: 딱지 떨어진 곳에 선크림 발라도 되나요\n",
      "DocId: 463798547 - 질문: None\n"
     ]
    },
    {
     "name": "stderr",
     "output_type": "stream",
     "text": [
      " 16%|█▋        | 163/1000 [16:17<14:19,  1.03s/it]"
     ]
    },
    {
     "name": "stdout",
     "output_type": "stream",
     "text": [
      "DocId: 463798546 - 질문: None\n",
      "DocId: 463798545 - 질문: None\n"
     ]
    },
    {
     "name": "stderr",
     "output_type": "stream",
     "text": [
      " 16%|█▋        | 165/1000 [16:17<09:31,  1.46it/s]"
     ]
    },
    {
     "name": "stdout",
     "output_type": "stream",
     "text": [
      "DocId: 463798544 - 질문: None\n",
      "DocId: 463798543 - 질문: None\n"
     ]
    },
    {
     "name": "stderr",
     "output_type": "stream",
     "text": [
      " 17%|█▋        | 166/1000 [16:17<08:28,  1.64it/s]"
     ]
    },
    {
     "name": "stdout",
     "output_type": "stream",
     "text": [
      "DocId: 463798542 - 질문: 다크초콜릿\n"
     ]
    },
    {
     "name": "stderr",
     "output_type": "stream",
     "text": [
      " 17%|█▋        | 167/1000 [16:18<08:03,  1.72it/s]"
     ]
    },
    {
     "name": "stdout",
     "output_type": "stream",
     "text": [
      "DocId: 463798541 - 질문: 타오바오 결제등록하고 갑자기 1000원이 빠져나갔습니다\n"
     ]
    },
    {
     "name": "stderr",
     "output_type": "stream",
     "text": [
      " 18%|█▊        | 175/1000 [18:49<2:09:05,  9.39s/it]"
     ]
    },
    {
     "name": "stdout",
     "output_type": "stream",
     "text": [
      "DocId: 463798535 - 질문: None\n",
      "DocId: 463798534 - 질문: None\n",
      "DocId: 463798533 - 질문: None\n"
     ]
    },
    {
     "name": "stderr",
     "output_type": "stream",
     "text": [
      " 18%|█▊        | 177/1000 [18:49<1:18:41,  5.74s/it]"
     ]
    },
    {
     "name": "stdout",
     "output_type": "stream",
     "text": [
      "DocId: 463798532 - 질문: None\n",
      "DocId: 463798531 - 질문: None\n",
      "DocId: 463798530 - 질문: None\n"
     ]
    },
    {
     "name": "stderr",
     "output_type": "stream",
     "text": [
      " 18%|█▊        | 181/1000 [18:50<33:49,  2.48s/it]  "
     ]
    },
    {
     "name": "stdout",
     "output_type": "stream",
     "text": [
      "DocId: 463798529 - 질문: None\n",
      "DocId: 463798528 - 질문: None\n",
      "DocId: 463798527 - 질문: None\n"
     ]
    },
    {
     "name": "stderr",
     "output_type": "stream",
     "text": [
      " 18%|█▊        | 183/1000 [18:50<23:05,  1.70s/it]"
     ]
    },
    {
     "name": "stdout",
     "output_type": "stream",
     "text": [
      "DocId: 463798526 - 질문: None\n",
      "DocId: 463798525 - 질문: None\n",
      "DocId: 463798524 - 질문: None\n"
     ]
    },
    {
     "name": "stderr",
     "output_type": "stream",
     "text": [
      " 19%|█▊        | 187/1000 [18:50<11:26,  1.18it/s]"
     ]
    },
    {
     "name": "stdout",
     "output_type": "stream",
     "text": [
      "DocId: 463798523 - 질문: None\n",
      "DocId: 463798522 - 질문: None\n",
      "DocId: 463798521 - 질문: None\n"
     ]
    },
    {
     "name": "stderr",
     "output_type": "stream",
     "text": [
      " 19%|█▉        | 189/1000 [18:50<08:17,  1.63it/s]"
     ]
    },
    {
     "name": "stdout",
     "output_type": "stream",
     "text": [
      "DocId: 463798520 - 질문: None\n",
      "DocId: 463798519 - 질문: None\n",
      "DocId: 463798518 - 질문: None\n"
     ]
    },
    {
     "name": "stderr",
     "output_type": "stream",
     "text": [
      " 19%|█▉        | 191/1000 [18:51<06:06,  2.21it/s]"
     ]
    },
    {
     "name": "stdout",
     "output_type": "stream",
     "text": [
      "DocId: 463798517 - 질문: None\n"
     ]
    },
    {
     "name": "stderr",
     "output_type": "stream",
     "text": [
      " 19%|█▉        | 193/1000 [19:21<1:03:04,  4.69s/it]"
     ]
    },
    {
     "name": "stdout",
     "output_type": "stream",
     "text": [
      "DocId: 463798515 - 질문: 코성형 27일차 다시 붓기 멍\n"
     ]
    },
    {
     "name": "stderr",
     "output_type": "stream",
     "text": [
      " 20%|█▉        | 196/1000 [19:22<30:39,  2.29s/it]  "
     ]
    },
    {
     "name": "stdout",
     "output_type": "stream",
     "text": [
      "DocId: 463798514 - 질문: 귀 연골? 에 이상한 게 있어요\n",
      "DocId: 463798513 - 질문: None\n",
      "DocId: 463798512 - 질문: None\n"
     ]
    },
    {
     "name": "stderr",
     "output_type": "stream",
     "text": [
      " 20%|█▉        | 198/1000 [19:22<20:01,  1.50s/it]"
     ]
    },
    {
     "name": "stdout",
     "output_type": "stream",
     "text": [
      "DocId: 463798511 - 질문: None\n",
      "DocId: 463798510 - 질문: None\n",
      "DocId: 463798509 - 질문: None\n"
     ]
    },
    {
     "name": "stderr",
     "output_type": "stream",
     "text": [
      " 20%|██        | 202/1000 [19:22<09:32,  1.39it/s]"
     ]
    },
    {
     "name": "stdout",
     "output_type": "stream",
     "text": [
      "DocId: 463798508 - 질문: None\n",
      "DocId: 463798507 - 질문: None\n",
      "DocId: 463798506 - 질문: None\n"
     ]
    },
    {
     "name": "stderr",
     "output_type": "stream",
     "text": [
      " 20%|██        | 204/1000 [19:22<06:53,  1.93it/s]"
     ]
    },
    {
     "name": "stdout",
     "output_type": "stream",
     "text": [
      "DocId: 463798505 - 질문: None\n",
      "DocId: 463798504 - 질문: None\n",
      "DocId: 463798503 - 질문: None\n"
     ]
    },
    {
     "name": "stderr",
     "output_type": "stream",
     "text": [
      " 21%|██        | 206/1000 [19:23<05:06,  2.59it/s]"
     ]
    },
    {
     "name": "stdout",
     "output_type": "stream",
     "text": [
      "DocId: 463798502 - 질문: None\n"
     ]
    },
    {
     "name": "stderr",
     "output_type": "stream",
     "text": [
      " 21%|██        | 208/1000 [19:23<04:19,  3.05it/s]"
     ]
    },
    {
     "name": "stdout",
     "output_type": "stream",
     "text": [
      "DocId: 463798501 - 질문: 렌즈삽입술 전방\n",
      "DocId: 463798500 - 질문: None\n"
     ]
    },
    {
     "name": "stderr",
     "output_type": "stream",
     "text": [
      " 21%|██        | 211/1000 [19:53<49:50,  3.79s/it]  "
     ]
    },
    {
     "name": "stdout",
     "output_type": "stream",
     "text": [
      "DocId: 463798498 - 질문: None\n",
      "DocId: 463798497 - 질문: None\n",
      "DocId: 463798496 - 질문: None\n"
     ]
    },
    {
     "name": "stderr",
     "output_type": "stream",
     "text": [
      " 22%|██▏       | 215/1000 [19:54<23:21,  1.79s/it]"
     ]
    },
    {
     "name": "stdout",
     "output_type": "stream",
     "text": [
      "DocId: 463798495 - 질문: None\n",
      "DocId: 463798494 - 질문: None\n",
      "DocId: 463798493 - 질문: None\n"
     ]
    },
    {
     "name": "stderr",
     "output_type": "stream",
     "text": [
      " 22%|██▏       | 215/1000 [19:54<23:21,  1.79s/it]"
     ]
    },
    {
     "name": "stdout",
     "output_type": "stream",
     "text": [
      "DocId: 463798492 - 질문: None\n"
     ]
    },
    {
     "name": "stderr",
     "output_type": "stream",
     "text": [
      " 22%|██▏       | 219/1000 [19:54<11:48,  1.10it/s]"
     ]
    },
    {
     "name": "stdout",
     "output_type": "stream",
     "text": [
      "DocId: 463798491 - 질문: 리스차량 교환 리스회계 처리\n",
      "DocId: 463798490 - 질문: None\n",
      "DocId: 463798489 - 질문: None\n"
     ]
    },
    {
     "name": "stderr",
     "output_type": "stream",
     "text": [
      " 22%|██▏       | 221/1000 [19:54<08:30,  1.53it/s]"
     ]
    },
    {
     "name": "stdout",
     "output_type": "stream",
     "text": [
      "DocId: 463798488 - 질문: None\n",
      "DocId: 463798487 - 질문: None\n",
      "DocId: 463798486 - 질문: None\n"
     ]
    },
    {
     "name": "stderr",
     "output_type": "stream",
     "text": [
      " 22%|██▏       | 223/1000 [19:55<06:40,  1.94it/s]"
     ]
    },
    {
     "name": "stdout",
     "output_type": "stream",
     "text": [
      "DocId: 463798485 - 질문: 보스웰리아 영양제 정말 좋은가요?(강동구 관절염)\n",
      "DocId: 463798484 - 질문: None\n"
     ]
    },
    {
     "name": "stderr",
     "output_type": "stream",
     "text": [
      " 22%|██▎       | 225/1000 [19:55<05:21,  2.41it/s]"
     ]
    },
    {
     "name": "stdout",
     "output_type": "stream",
     "text": [
      "DocId: 463798483 - 질문: 발바닥피부염  한방치료방법?(마곡 발습진)\n"
     ]
    },
    {
     "name": "stderr",
     "output_type": "stream",
     "text": [
      " 23%|██▎       | 229/1000 [21:25<2:26:21, 11.39s/it]"
     ]
    },
    {
     "name": "stdout",
     "output_type": "stream",
     "text": [
      "DocId: 463798479 - 질문: None\n",
      "DocId: 463798478 - 질문: None\n"
     ]
    },
    {
     "name": "stderr",
     "output_type": "stream",
     "text": [
      " 23%|██▎       | 233/1000 [21:26<55:06,  4.31s/it]  "
     ]
    },
    {
     "name": "stdout",
     "output_type": "stream",
     "text": [
      "DocId: 463798477 - 질문: None\n",
      "DocId: 463798476 - 질문: None\n",
      "DocId: 463798475 - 질문: None\n"
     ]
    },
    {
     "name": "stderr",
     "output_type": "stream",
     "text": [
      " 24%|██▎       | 235/1000 [21:26<34:07,  2.68s/it]"
     ]
    },
    {
     "name": "stdout",
     "output_type": "stream",
     "text": [
      "DocId: 463798474 - 질문: None\n",
      "DocId: 463798473 - 질문: None\n"
     ]
    },
    {
     "name": "stderr",
     "output_type": "stream",
     "text": [
      " 24%|██▎       | 237/1000 [21:27<20:20,  1.60s/it]"
     ]
    },
    {
     "name": "stdout",
     "output_type": "stream",
     "text": [
      "DocId: 463798472 - 질문: 렌즈 도수\n",
      "DocId: 463798471 - 질문: None\n"
     ]
    },
    {
     "name": "stderr",
     "output_type": "stream",
     "text": [
      " 24%|██▍       | 239/1000 [21:27<11:16,  1.13it/s]"
     ]
    },
    {
     "name": "stdout",
     "output_type": "stream",
     "text": [
      "DocId: 463798470 - 질문: None\n",
      "DocId: 463798469 - 질문: None\n"
     ]
    },
    {
     "name": "stderr",
     "output_type": "stream",
     "text": [
      " 24%|██▍       | 242/1000 [21:27<05:07,  2.46it/s]"
     ]
    },
    {
     "name": "stdout",
     "output_type": "stream",
     "text": [
      "DocId: 463798468 - 질문: None\n",
      "DocId: 463798467 - 질문: None\n",
      "DocId: 463798466 - 질문: None\n"
     ]
    },
    {
     "name": "stderr",
     "output_type": "stream",
     "text": [
      " 24%|██▍       | 242/1000 [21:27<05:07,  2.46it/s]"
     ]
    },
    {
     "name": "stdout",
     "output_type": "stream",
     "text": [
      "DocId: 463798465 - 질문: None\n"
     ]
    },
    {
     "name": "stderr",
     "output_type": "stream",
     "text": [
      " 24%|██▍       | 244/1000 [21:28<04:08,  3.05it/s]"
     ]
    },
    {
     "name": "stdout",
     "output_type": "stream",
     "text": [
      "DocId: 463798464 - 질문: 구개편도염 뜨거운 물 마셔도 되나요?\n"
     ]
    },
    {
     "name": "stderr",
     "output_type": "stream",
     "text": [
      " 25%|██▍       | 249/1000 [22:58<2:02:55,  9.82s/it]"
     ]
    },
    {
     "name": "stdout",
     "output_type": "stream",
     "text": [
      "DocId: 463798460 - 질문: None\n",
      "DocId: 463798459 - 질문: None\n",
      "DocId: 463798458 - 질문: None\n"
     ]
    },
    {
     "name": "stderr",
     "output_type": "stream",
     "text": [
      " 25%|██▌       | 253/1000 [22:59<50:24,  4.05s/it]  "
     ]
    },
    {
     "name": "stdout",
     "output_type": "stream",
     "text": [
      "DocId: 463798457 - 질문: None\n",
      "DocId: 463798456 - 질문: None\n",
      "DocId: 463798455 - 질문: None\n"
     ]
    },
    {
     "name": "stderr",
     "output_type": "stream",
     "text": [
      " 26%|██▌       | 255/1000 [22:59<33:55,  2.73s/it]"
     ]
    },
    {
     "name": "stdout",
     "output_type": "stream",
     "text": [
      "DocId: 463798454 - 질문: None\n",
      "DocId: 463798453 - 질문: None\n",
      "DocId: 463798452 - 질문: None\n"
     ]
    },
    {
     "name": "stderr",
     "output_type": "stream",
     "text": [
      " 26%|██▌       | 259/1000 [22:59<16:16,  1.32s/it]"
     ]
    },
    {
     "name": "stdout",
     "output_type": "stream",
     "text": [
      "DocId: 463798451 - 질문: None\n",
      "DocId: 463798450 - 질문: None\n",
      "DocId: 463798449 - 질문: None\n"
     ]
    },
    {
     "name": "stderr",
     "output_type": "stream",
     "text": [
      " 26%|██▌       | 261/1000 [22:59<11:26,  1.08it/s]"
     ]
    },
    {
     "name": "stdout",
     "output_type": "stream",
     "text": [
      "DocId: 463798448 - 질문: None\n",
      "DocId: 463798447 - 질문: None\n",
      "DocId: 463798446 - 질문: None\n"
     ]
    },
    {
     "name": "stderr",
     "output_type": "stream",
     "text": [
      " 26%|██▋       | 265/1000 [23:00<06:00,  2.04it/s]"
     ]
    },
    {
     "name": "stdout",
     "output_type": "stream",
     "text": [
      "DocId: 463798445 - 질문: None\n",
      "DocId: 463798444 - 질문: None\n",
      "DocId: 463798443 - 질문: None\n"
     ]
    },
    {
     "name": "stderr",
     "output_type": "stream",
     "text": [
      " 26%|██▋       | 265/1000 [23:00<06:00,  2.04it/s]"
     ]
    },
    {
     "name": "stdout",
     "output_type": "stream",
     "text": [
      "DocId: 463798442 - 질문: None\n"
     ]
    },
    {
     "name": "stderr",
     "output_type": "stream",
     "text": [
      "                                                    "
     ]
    },
    {
     "name": "stdout",
     "output_type": "stream",
     "text": [
      "DocId: 463798439 - 질문: None\n",
      "DocId: 463798438 - 질문: None\n"
     ]
    },
    {
     "name": "stderr",
     "output_type": "stream",
     "text": [
      " 27%|██▋       | 273/1000 [24:00<38:32,  3.18s/it]  "
     ]
    },
    {
     "name": "stdout",
     "output_type": "stream",
     "text": [
      "DocId: 463798437 - 질문: None\n",
      "DocId: 463798436 - 질문: None\n",
      "DocId: 463798435 - 질문: None\n"
     ]
    },
    {
     "name": "stderr",
     "output_type": "stream",
     "text": [
      " 28%|██▊       | 275/1000 [24:01<26:06,  2.16s/it]"
     ]
    },
    {
     "name": "stdout",
     "output_type": "stream",
     "text": [
      "DocId: 463798434 - 질문: None\n",
      "DocId: 463798433 - 질문: None\n",
      "DocId: 463798432 - 질문: None\n"
     ]
    },
    {
     "name": "stderr",
     "output_type": "stream",
     "text": [
      " 28%|██▊       | 277/1000 [24:01<18:02,  1.50s/it]"
     ]
    },
    {
     "name": "stdout",
     "output_type": "stream",
     "text": [
      "DocId: 463798431 - 질문: None\n",
      "DocId: 463798430 - 질문: None\n"
     ]
    },
    {
     "name": "stderr",
     "output_type": "stream",
     "text": [
      " 28%|██▊       | 281/1000 [24:01<09:19,  1.29it/s]"
     ]
    },
    {
     "name": "stdout",
     "output_type": "stream",
     "text": [
      "DocId: 463798429 - 질문: 대구에 디스크제거술후 물리치료 잘 하는 곳 추천해주세요\n",
      "DocId: 463798428 - 질문: None\n",
      "DocId: 463798427 - 질문: None\n"
     ]
    },
    {
     "name": "stderr",
     "output_type": "stream",
     "text": [
      " 28%|██▊       | 281/1000 [24:01<09:19,  1.29it/s]"
     ]
    },
    {
     "name": "stdout",
     "output_type": "stream",
     "text": [
      "DocId: 463798426 - 질문: None\n"
     ]
    },
    {
     "name": "stderr",
     "output_type": "stream",
     "text": [
      " 28%|██▊       | 283/1000 [24:02<07:00,  1.70it/s]"
     ]
    },
    {
     "name": "stdout",
     "output_type": "stream",
     "text": [
      "DocId: 463798425 - 질문: 독감 학교 ㅠㅠㅠ\n"
     ]
    },
    {
     "name": "stderr",
     "output_type": "stream",
     "text": [
      " 28%|██▊       | 284/1000 [24:02<06:35,  1.81it/s]"
     ]
    },
    {
     "name": "stdout",
     "output_type": "stream",
     "text": [
      "DocId: 463798424 - 질문: 다이어트(서울 비만)\n"
     ]
    },
    {
     "name": "stderr",
     "output_type": "stream",
     "text": [
      " 30%|██▉       | 296/1000 [29:03<3:03:32, 15.64s/it]"
     ]
    },
    {
     "name": "stdout",
     "output_type": "stream",
     "text": [
      "DocId: 463798413 - 질문: None\n",
      "DocId: 463798412 - 질문: None\n"
     ]
    },
    {
     "name": "stderr",
     "output_type": "stream",
     "text": [
      " 30%|██▉       | 297/1000 [29:03<2:18:37, 11.83s/it]"
     ]
    },
    {
     "name": "stdout",
     "output_type": "stream",
     "text": [
      "DocId: 463798411 - 질문: None\n",
      "DocId: 463798410 - 질문: None\n"
     ]
    },
    {
     "name": "stderr",
     "output_type": "stream",
     "text": [
      " 30%|███       | 301/1000 [29:04<51:51,  4.45s/it]  "
     ]
    },
    {
     "name": "stdout",
     "output_type": "stream",
     "text": [
      "DocId: 463798409 - 질문: 치질수술 후 항문모양이 세로가 됐는데 그럴수 있나요?\n",
      "DocId: 463798408 - 질문: None\n",
      "DocId: 463798407 - 질문: None\n"
     ]
    },
    {
     "name": "stderr",
     "output_type": "stream",
     "text": [
      " 30%|███       | 303/1000 [29:04<34:08,  2.94s/it]"
     ]
    },
    {
     "name": "stdout",
     "output_type": "stream",
     "text": [
      "DocId: 463798406 - 질문: None\n",
      "DocId: 463798405 - 질문: None\n",
      "DocId: 463798404 - 질문: None\n"
     ]
    },
    {
     "name": "stderr",
     "output_type": "stream",
     "text": [
      " 31%|███       | 307/1000 [29:04<15:54,  1.38s/it]"
     ]
    },
    {
     "name": "stdout",
     "output_type": "stream",
     "text": [
      "DocId: 463798403 - 질문: None\n",
      "DocId: 463798402 - 질문: None\n",
      "DocId: 463798401 - 질문: None\n"
     ]
    },
    {
     "name": "stderr",
     "output_type": "stream",
     "text": [
      " 31%|███       | 309/1000 [29:04<11:07,  1.04it/s]"
     ]
    },
    {
     "name": "stdout",
     "output_type": "stream",
     "text": [
      "DocId: 463798400 - 질문: None\n",
      "DocId: 463798399 - 질문: None\n",
      "DocId: 463798398 - 질문: None\n"
     ]
    },
    {
     "name": "stderr",
     "output_type": "stream",
     "text": [
      " 32%|███▏      | 315/1000 [30:35<1:41:05,  8.85s/it]"
     ]
    },
    {
     "name": "stdout",
     "output_type": "stream",
     "text": [
      "DocId: 463798394 - 질문: None\n",
      "DocId: 463798393 - 질문: None\n",
      "DocId: 463798392 - 질문: None\n"
     ]
    },
    {
     "name": "stderr",
     "output_type": "stream",
     "text": [
      " 32%|███▏      | 319/1000 [30:35<44:33,  3.93s/it]  "
     ]
    },
    {
     "name": "stdout",
     "output_type": "stream",
     "text": [
      "DocId: 463798391 - 질문: None\n",
      "DocId: 463798390 - 질문: None\n",
      "DocId: 463798389 - 질문: None\n"
     ]
    },
    {
     "name": "stderr",
     "output_type": "stream",
     "text": [
      " 32%|███▏      | 321/1000 [30:36<30:31,  2.70s/it]"
     ]
    },
    {
     "name": "stdout",
     "output_type": "stream",
     "text": [
      "DocId: 463798388 - 질문: None\n",
      "DocId: 463798387 - 질문: None\n",
      "DocId: 463798386 - 질문: None\n"
     ]
    },
    {
     "name": "stderr",
     "output_type": "stream",
     "text": [
      " 32%|███▎      | 325/1000 [30:36<14:53,  1.32s/it]"
     ]
    },
    {
     "name": "stdout",
     "output_type": "stream",
     "text": [
      "DocId: 463798385 - 질문: None\n",
      "DocId: 463798384 - 질문: None\n",
      "DocId: 463798383 - 질문: None\n"
     ]
    },
    {
     "name": "stderr",
     "output_type": "stream",
     "text": [
      " 32%|███▎      | 325/1000 [30:36<14:53,  1.32s/it]"
     ]
    },
    {
     "name": "stdout",
     "output_type": "stream",
     "text": [
      "DocId: 463798382 - 질문: None\n"
     ]
    },
    {
     "name": "stderr",
     "output_type": "stream",
     "text": [
      " 33%|███▎      | 327/1000 [30:36<10:51,  1.03it/s]"
     ]
    },
    {
     "name": "stdout",
     "output_type": "stream",
     "text": [
      "DocId: 463798381 - 질문: 살 빨리 빼는 법.. 식단 최소한으로 확실한 방법\n"
     ]
    },
    {
     "name": "stderr",
     "output_type": "stream",
     "text": [
      " 33%|███▎      | 330/1000 [30:37<06:44,  1.65it/s]"
     ]
    },
    {
     "name": "stdout",
     "output_type": "stream",
     "text": [
      "DocId: 463798380 - 질문: 항문 주위 피부 왜 이런가요?\n",
      "DocId: 463798379 - 질문: None\n",
      "DocId: 463798378 - 질문: None\n"
     ]
    },
    {
     "name": "stderr",
     "output_type": "stream",
     "text": [
      " 33%|███▎      | 332/1000 [31:37<2:08:15, 11.52s/it]"
     ]
    },
    {
     "name": "stdout",
     "output_type": "stream",
     "text": [
      "DocId: 463798375 - 질문: None\n"
     ]
    },
    {
     "name": "stderr",
     "output_type": "stream",
     "text": [
      " 34%|███▎      | 336/1000 [31:37<51:36,  4.66s/it]  "
     ]
    },
    {
     "name": "stdout",
     "output_type": "stream",
     "text": [
      "DocId: 463798374 - 질문: 갑각류 알러지\n",
      "DocId: 463798373 - 질문: None\n",
      "DocId: 463798372 - 질문: None\n"
     ]
    },
    {
     "name": "stderr",
     "output_type": "stream",
     "text": [
      " 34%|███▍      | 339/1000 [31:38<26:30,  2.41s/it]"
     ]
    },
    {
     "name": "stdout",
     "output_type": "stream",
     "text": [
      "DocId: 463798371 - 질문: None\n",
      "DocId: 463798370 - 질문: None\n",
      "DocId: 463798369 - 질문: None\n"
     ]
    },
    {
     "name": "stderr",
     "output_type": "stream",
     "text": [
      " 34%|███▍      | 341/1000 [31:38<17:43,  1.61s/it]"
     ]
    },
    {
     "name": "stdout",
     "output_type": "stream",
     "text": [
      "DocId: 463798368 - 질문: None\n",
      "DocId: 463798367 - 질문: None\n"
     ]
    },
    {
     "name": "stderr",
     "output_type": "stream",
     "text": [
      " 34%|███▍      | 341/1000 [31:38<17:43,  1.61s/it]"
     ]
    },
    {
     "name": "stdout",
     "output_type": "stream",
     "text": [
      "DocId: 463798366 - 질문: None\n"
     ]
    },
    {
     "name": "stderr",
     "output_type": "stream",
     "text": [
      " 34%|███▍      | 343/1000 [31:38<12:28,  1.14s/it]"
     ]
    },
    {
     "name": "stdout",
     "output_type": "stream",
     "text": [
      "DocId: 463798365 - 질문: 쌍수 부분절개 속쌍될 거 같아요..ㅜㅜ\n"
     ]
    },
    {
     "name": "stderr",
     "output_type": "stream",
     "text": [
      " 34%|███▍      | 344/1000 [31:39<10:49,  1.01it/s]"
     ]
    },
    {
     "name": "stdout",
     "output_type": "stream",
     "text": [
      "DocId: 463798364 - 질문: 갈색 냉 이유\n",
      "DocId: 463798363 - 질문: None\n"
     ]
    },
    {
     "name": "stderr",
     "output_type": "stream",
     "text": [
      " 35%|███▍      | 346/1000 [31:39<07:24,  1.47it/s]"
     ]
    },
    {
     "name": "stdout",
     "output_type": "stream",
     "text": [
      "DocId: 463798362 - 질문: None\n",
      "DocId: 463798361 - 질문: None\n"
     ]
    },
    {
     "name": "stderr",
     "output_type": "stream",
     "text": [
      " 35%|███▌      | 350/1000 [32:09<40:35,  3.75s/it]"
     ]
    },
    {
     "name": "stdout",
     "output_type": "stream",
     "text": [
      "DocId: 463798359 - 질문: None\n",
      "DocId: 463798358 - 질문: None\n",
      "DocId: 463798357 - 질문: None\n"
     ]
    },
    {
     "name": "stderr",
     "output_type": "stream",
     "text": [
      " 35%|███▌      | 353/1000 [32:10<23:03,  2.14s/it]"
     ]
    },
    {
     "name": "stdout",
     "output_type": "stream",
     "text": [
      "DocId: 463798356 - 질문: None\n",
      "DocId: 463798355 - 질문: None\n"
     ]
    },
    {
     "name": "stderr",
     "output_type": "stream",
     "text": [
      " 35%|███▌      | 354/1000 [32:10<19:04,  1.77s/it]"
     ]
    },
    {
     "name": "stdout",
     "output_type": "stream",
     "text": [
      "DocId: 463798354 - 질문: 여드름 색소침착 제품 추천\n"
     ]
    },
    {
     "name": "stderr",
     "output_type": "stream",
     "text": [
      " 36%|███▌      | 357/1000 [32:10<09:29,  1.13it/s]"
     ]
    },
    {
     "name": "stdout",
     "output_type": "stream",
     "text": [
      "DocId: 463798353 - 질문: 안녕하세요 제가 밖에 나가서 사회생활하면서 다정하다 세심하다는 말을 자주 듣습니다 실제로도 작은거마저 다 챙겨주고싶고 누군가의 불편한점 그런거 캐치가 정말 빠릅니다 근데 가족에겐 못하겠습니다 누가 아야! 소리내고 별로 궁금하지도 않고 공감을 못해주겠습니다 같이 여행을 가도 시큰둥하고 막 재밌지도 않아요 이런 스스로가 왜이러지 싶고 사이코패스같기도 합니다 왜그런걸까요 병원에 다니며 상담하면 좀 나아질까요\n",
      "DocId: 463798352 - 질문: None\n",
      "DocId: 463798351 - 질문: None\n"
     ]
    },
    {
     "name": "stderr",
     "output_type": "stream",
     "text": [
      " 36%|███▌      | 357/1000 [32:10<09:29,  1.13it/s]"
     ]
    },
    {
     "name": "stdout",
     "output_type": "stream",
     "text": [
      "DocId: 463798350 - 질문: None\n"
     ]
    },
    {
     "name": "stderr",
     "output_type": "stream",
     "text": [
      " 36%|███▌      | 361/1000 [32:11<04:40,  2.28it/s]"
     ]
    },
    {
     "name": "stdout",
     "output_type": "stream",
     "text": [
      "DocId: 463798349 - 질문: 심장쇼리ㅣ관렴\n",
      "DocId: 463798348 - 질문: None\n",
      "DocId: 463798347 - 질문: None\n"
     ]
    },
    {
     "name": "stderr",
     "output_type": "stream",
     "text": [
      " 36%|███▋      | 363/1000 [32:11<03:24,  3.11it/s]"
     ]
    },
    {
     "name": "stdout",
     "output_type": "stream",
     "text": [
      "DocId: 463798346 - 질문: None\n",
      "DocId: 463798345 - 질문: None\n"
     ]
    },
    {
     "name": "stderr",
     "output_type": "stream",
     "text": [
      " 37%|███▋      | 372/1000 [35:12<1:42:09,  9.76s/it]"
     ]
    },
    {
     "name": "stdout",
     "output_type": "stream",
     "text": [
      "DocId: 463798338 - 질문: 배그 전력제한해제 질문\n",
      "DocId: 463798337 - 질문: None\n",
      "DocId: 463798336 - 질문: None\n"
     ]
    },
    {
     "name": "stderr",
     "output_type": "stream",
     "text": [
      " 37%|███▋      | 374/1000 [35:12<1:02:35,  6.00s/it]"
     ]
    },
    {
     "name": "stdout",
     "output_type": "stream",
     "text": [
      "DocId: 463798335 - 질문: None\n",
      "DocId: 463798334 - 질문: None\n",
      "DocId: 463798333 - 질문: None\n"
     ]
    },
    {
     "name": "stderr",
     "output_type": "stream",
     "text": [
      " 38%|███▊      | 376/1000 [35:12<40:26,  3.89s/it]  "
     ]
    },
    {
     "name": "stdout",
     "output_type": "stream",
     "text": [
      "DocId: 463798332 - 질문: None\n",
      "DocId: 463798331 - 질문: None\n"
     ]
    },
    {
     "name": "stderr",
     "output_type": "stream",
     "text": [
      " 38%|███▊      | 379/1000 [35:13<22:04,  2.13s/it]"
     ]
    },
    {
     "name": "stdout",
     "output_type": "stream",
     "text": [
      "DocId: 463798330 - 질문: None\n",
      "DocId: 463798329 - 질문: None\n"
     ]
    },
    {
     "name": "stderr",
     "output_type": "stream",
     "text": [
      " 38%|███▊      | 381/1000 [35:13<13:40,  1.33s/it]"
     ]
    },
    {
     "name": "stdout",
     "output_type": "stream",
     "text": [
      "DocId: 463798328 - 질문: None\n",
      "DocId: 463798327 - 질문: None\n"
     ]
    },
    {
     "name": "stderr",
     "output_type": "stream",
     "text": [
      " 38%|███▊      | 381/1000 [35:13<13:40,  1.33s/it]"
     ]
    },
    {
     "name": "stdout",
     "output_type": "stream",
     "text": [
      "DocId: 463798326 - 질문: None\n"
     ]
    },
    {
     "name": "stderr",
     "output_type": "stream",
     "text": [
      " 38%|███▊      | 384/1000 [35:13<07:19,  1.40it/s]"
     ]
    },
    {
     "name": "stdout",
     "output_type": "stream",
     "text": [
      "DocId: 463798325 - 질문: 평여중 방학 때 체육관 이용 가능한가요?ㅜㅜ\n",
      "DocId: 463798324 - 질문: None\n"
     ]
    },
    {
     "name": "stderr",
     "output_type": "stream",
     "text": [
      " 38%|███▊      | 385/1000 [35:14<05:59,  1.71it/s]"
     ]
    },
    {
     "name": "stdout",
     "output_type": "stream",
     "text": [
      "DocId: 463798323 - 질문: None\n",
      "DocId: 463798322 - 질문: None\n"
     ]
    },
    {
     "name": "stderr",
     "output_type": "stream",
     "text": [
      " 39%|███▉      | 389/1000 [35:44<42:12,  4.14s/it]  "
     ]
    },
    {
     "name": "stdout",
     "output_type": "stream",
     "text": [
      "DocId: 463798320 - 질문: None\n",
      "DocId: 463798319 - 질문: None\n"
     ]
    },
    {
     "name": "stderr",
     "output_type": "stream",
     "text": [
      " 39%|███▉      | 390/1000 [35:44<33:54,  3.34s/it]"
     ]
    },
    {
     "name": "stdout",
     "output_type": "stream",
     "text": [
      "DocId: 463798318 - 질문: 갈색 냉 이유\n",
      "DocId: 463798317 - 질문: None\n"
     ]
    },
    {
     "name": "stderr",
     "output_type": "stream",
     "text": [
      " 39%|███▉      | 394/1000 [35:45<14:31,  1.44s/it]"
     ]
    },
    {
     "name": "stdout",
     "output_type": "stream",
     "text": [
      "DocId: 463798316 - 질문: 구개편도염 뜨거운 물 마셔도 되나요?\n",
      "DocId: 463798315 - 질문: None\n",
      "DocId: 463798314 - 질문: None\n",
      "DocId: 463798313 - 질문: None\n"
     ]
    },
    {
     "name": "stderr",
     "output_type": "stream",
     "text": [
      " 40%|███▉      | 398/1000 [35:45<06:56,  1.44it/s]"
     ]
    },
    {
     "name": "stdout",
     "output_type": "stream",
     "text": [
      "DocId: 463798312 - 질문: None\n",
      "DocId: 463798311 - 질문: None\n",
      "DocId: 463798310 - 질문: None\n"
     ]
    },
    {
     "name": "stderr",
     "output_type": "stream",
     "text": [
      " 40%|███▉      | 398/1000 [35:45<06:56,  1.44it/s]"
     ]
    },
    {
     "name": "stdout",
     "output_type": "stream",
     "text": [
      "DocId: 463798309 - 질문: None\n"
     ]
    },
    {
     "name": "stderr",
     "output_type": "stream",
     "text": [
      " 40%|████      | 402/1000 [35:46<03:48,  2.61it/s]"
     ]
    },
    {
     "name": "stdout",
     "output_type": "stream",
     "text": [
      "DocId: 463798308 - 질문: 어금니염증? 구내염?\n",
      "DocId: 463798307 - 질문: None\n",
      "DocId: 463798306 - 질문: None\n"
     ]
    },
    {
     "name": "stderr",
     "output_type": "stream",
     "text": [
      " 40%|████      | 402/1000 [35:46<03:48,  2.61it/s]"
     ]
    },
    {
     "name": "stdout",
     "output_type": "stream",
     "text": [
      "DocId: 463798305 - 질문: None\n"
     ]
    },
    {
     "name": "stderr",
     "output_type": "stream",
     "text": [
      " 41%|████      | 406/1000 [36:16<33:56,  3.43s/it]"
     ]
    },
    {
     "name": "stdout",
     "output_type": "stream",
     "text": [
      "DocId: 463798303 - 질문: None\n",
      "DocId: 463798302 - 질문: None\n",
      "DocId: 463798301 - 질문: None\n"
     ]
    },
    {
     "name": "stderr",
     "output_type": "stream",
     "text": [
      " 41%|████      | 410/1000 [36:16<16:51,  1.71s/it]"
     ]
    },
    {
     "name": "stdout",
     "output_type": "stream",
     "text": [
      "DocId: 463798300 - 질문: None\n",
      "DocId: 463798299 - 질문: None\n",
      "DocId: 463798298 - 질문: None\n"
     ]
    },
    {
     "name": "stderr",
     "output_type": "stream",
     "text": [
      " 41%|████      | 412/1000 [36:16<11:58,  1.22s/it]"
     ]
    },
    {
     "name": "stdout",
     "output_type": "stream",
     "text": [
      "DocId: 463798297 - 질문: None\n",
      "DocId: 463798296 - 질문: None\n",
      "DocId: 463798295 - 질문: None\n"
     ]
    },
    {
     "name": "stderr",
     "output_type": "stream",
     "text": [
      " 42%|████▏     | 416/1000 [36:17<06:12,  1.57it/s]"
     ]
    },
    {
     "name": "stdout",
     "output_type": "stream",
     "text": [
      "DocId: 463798294 - 질문: None\n",
      "DocId: 463798293 - 질문: None\n",
      "DocId: 463798292 - 질문: None\n"
     ]
    },
    {
     "name": "stderr",
     "output_type": "stream",
     "text": [
      " 42%|████▏     | 418/1000 [36:17<04:35,  2.11it/s]"
     ]
    },
    {
     "name": "stdout",
     "output_type": "stream",
     "text": [
      "DocId: 463798291 - 질문: None\n",
      "DocId: 463798290 - 질문: None\n",
      "DocId: 463798289 - 질문: None\n"
     ]
    },
    {
     "name": "stderr",
     "output_type": "stream",
     "text": [
      " 42%|████▏     | 422/1000 [36:17<02:37,  3.67it/s]"
     ]
    },
    {
     "name": "stdout",
     "output_type": "stream",
     "text": [
      "DocId: 463798288 - 질문: None\n",
      "DocId: 463798287 - 질문: None\n",
      "DocId: 463798286 - 질문: None\n"
     ]
    },
    {
     "name": "stderr",
     "output_type": "stream",
     "text": [
      " 42%|████▏     | 422/1000 [36:17<02:37,  3.67it/s]"
     ]
    },
    {
     "name": "stdout",
     "output_type": "stream",
     "text": [
      "DocId: 463798285 - 질문: None\n"
     ]
    },
    {
     "name": "stderr",
     "output_type": "stream",
     "text": [
      " 43%|████▎     | 429/1000 [38:18<1:40:04, 10.52s/it]"
     ]
    },
    {
     "name": "stdout",
     "output_type": "stream",
     "text": [
      "DocId: 463798280 - 질문: None\n",
      "DocId: 463798279 - 질문: None\n",
      "DocId: 463798278 - 질문: None\n"
     ]
    },
    {
     "name": "stderr",
     "output_type": "stream",
     "text": [
      " 43%|████▎     | 433/1000 [38:18<42:42,  4.52s/it]  "
     ]
    },
    {
     "name": "stdout",
     "output_type": "stream",
     "text": [
      "DocId: 463798277 - 질문: None\n",
      "DocId: 463798276 - 질문: None\n",
      "DocId: 463798275 - 질문: None\n"
     ]
    },
    {
     "name": "stderr",
     "output_type": "stream",
     "text": [
      " 44%|████▎     | 435/1000 [38:19<28:58,  3.08s/it]"
     ]
    },
    {
     "name": "stdout",
     "output_type": "stream",
     "text": [
      "DocId: 463798274 - 질문: None\n",
      "DocId: 463798273 - 질문: None\n"
     ]
    },
    {
     "name": "stderr",
     "output_type": "stream",
     "text": [
      " 44%|████▎     | 437/1000 [38:19<20:14,  2.16s/it]"
     ]
    },
    {
     "name": "stdout",
     "output_type": "stream",
     "text": [
      "DocId: 463798272 - 질문: 서울교통공사2호선 성수지선 용답역 영문 안내방송 자료\n",
      "DocId: 463798271 - 질문: None\n",
      "DocId: 463798270 - 질문: None\n"
     ]
    },
    {
     "name": "stderr",
     "output_type": "stream",
     "text": [
      " 44%|████▍     | 439/1000 [38:19<14:06,  1.51s/it]"
     ]
    },
    {
     "name": "stdout",
     "output_type": "stream",
     "text": [
      "DocId: 463798269 - 질문: None\n"
     ]
    },
    {
     "name": "stderr",
     "output_type": "stream",
     "text": [
      " 44%|████▍     | 441/1000 [38:20<10:20,  1.11s/it]"
     ]
    },
    {
     "name": "stdout",
     "output_type": "stream",
     "text": [
      "DocId: 463798268 - 질문: 라식후 눈에 물\n",
      "DocId: 463798267 - 질문: None\n",
      "DocId: 463798266 - 질문: None\n"
     ]
    },
    {
     "name": "stderr",
     "output_type": "stream",
     "text": [
      " 44%|████▍     | 443/1000 [38:20<07:22,  1.26it/s]"
     ]
    },
    {
     "name": "stdout",
     "output_type": "stream",
     "text": [
      "DocId: 463798265 - 질문: None\n",
      "DocId: 463798264 - 질문: None\n"
     ]
    },
    {
     "name": "stderr",
     "output_type": "stream",
     "text": [
      " 45%|████▌     | 454/1000 [41:51<1:31:42, 10.08s/it]"
     ]
    },
    {
     "name": "stdout",
     "output_type": "stream",
     "text": [
      "DocId: 463798256 - 질문: None\n",
      "DocId: 463798255 - 질문: None\n",
      "DocId: 463798254 - 질문: None\n"
     ]
    },
    {
     "name": "stderr",
     "output_type": "stream",
     "text": [
      " 46%|████▌     | 456/1000 [41:51<56:37,  6.25s/it]  "
     ]
    },
    {
     "name": "stdout",
     "output_type": "stream",
     "text": [
      "DocId: 463798253 - 질문: 쌍수 후 호박크림\n",
      "DocId: 463798252 - 질문: None\n",
      "DocId: 463798251 - 질문: None\n"
     ]
    },
    {
     "name": "stderr",
     "output_type": "stream",
     "text": [
      " 46%|████▌     | 460/1000 [41:51<24:22,  2.71s/it]"
     ]
    },
    {
     "name": "stdout",
     "output_type": "stream",
     "text": [
      "DocId: 463798250 - 질문: None\n",
      "DocId: 463798249 - 질문: None\n",
      "DocId: 463798248 - 질문: None\n"
     ]
    },
    {
     "name": "stderr",
     "output_type": "stream",
     "text": [
      " 46%|████▌     | 462/1000 [41:52<16:36,  1.85s/it]"
     ]
    },
    {
     "name": "stdout",
     "output_type": "stream",
     "text": [
      "DocId: 463798247 - 질문: None\n",
      "DocId: 463798246 - 질문: None\n",
      "DocId: 463798245 - 질문: None\n"
     ]
    },
    {
     "name": "stderr",
     "output_type": "stream",
     "text": [
      " 46%|████▋     | 464/1000 [41:52<11:29,  1.29s/it]"
     ]
    },
    {
     "name": "stdout",
     "output_type": "stream",
     "text": [
      "DocId: 463798244 - 질문: None\n",
      "DocId: 463798243 - 질문: None\n"
     ]
    },
    {
     "name": "stderr",
     "output_type": "stream",
     "text": [
      " 47%|████▋     | 468/1000 [41:52<05:53,  1.50it/s]"
     ]
    },
    {
     "name": "stdout",
     "output_type": "stream",
     "text": [
      "DocId: 463798242 - 질문: None\n",
      "DocId: 463798241 - 질문: None\n",
      "DocId: 463798240 - 질문: None\n"
     ]
    },
    {
     "name": "stderr",
     "output_type": "stream",
     "text": [
      " 47%|████▋     | 473/1000 [44:23<3:11:25, 21.80s/it]"
     ]
    },
    {
     "name": "stdout",
     "output_type": "stream",
     "text": [
      "DocId: 463798234 - 질문: None\n"
     ]
    },
    {
     "name": "stderr",
     "output_type": "stream",
     "text": [
      " 48%|████▊     | 477/1000 [44:23<1:08:36,  7.87s/it]"
     ]
    },
    {
     "name": "stdout",
     "output_type": "stream",
     "text": [
      "DocId: 463798233 - 질문: pdf 파일 수정?\n",
      "DocId: 463798232 - 질문: None\n",
      "DocId: 463798231 - 질문: None\n"
     ]
    },
    {
     "name": "stderr",
     "output_type": "stream",
     "text": [
      " 48%|████▊     | 479/1000 [44:23<44:35,  5.14s/it]  "
     ]
    },
    {
     "name": "stdout",
     "output_type": "stream",
     "text": [
      "DocId: 463798230 - 질문: None\n",
      "DocId: 463798229 - 질문: None\n",
      "DocId: 463798228 - 질문: None\n"
     ]
    },
    {
     "name": "stderr",
     "output_type": "stream",
     "text": [
      " 48%|████▊     | 483/1000 [44:24<20:18,  2.36s/it]"
     ]
    },
    {
     "name": "stdout",
     "output_type": "stream",
     "text": [
      "DocId: 463798227 - 질문: None\n",
      "DocId: 463798226 - 질문: None\n",
      "DocId: 463798225 - 질문: None\n"
     ]
    },
    {
     "name": "stderr",
     "output_type": "stream",
     "text": [
      " 48%|████▊     | 485/1000 [44:24<14:01,  1.63s/it]"
     ]
    },
    {
     "name": "stdout",
     "output_type": "stream",
     "text": [
      "DocId: 463798224 - 질문: None\n",
      "DocId: 463798223 - 질문: None\n",
      "DocId: 463798222 - 질문: None\n"
     ]
    },
    {
     "name": "stderr",
     "output_type": "stream",
     "text": [
      " 49%|████▉     | 489/1000 [44:24<06:57,  1.22it/s]"
     ]
    },
    {
     "name": "stdout",
     "output_type": "stream",
     "text": [
      "DocId: 463798221 - 질문: None\n",
      "DocId: 463798220 - 질문: None\n",
      "DocId: 463798219 - 질문: None\n"
     ]
    },
    {
     "name": "stderr",
     "output_type": "stream",
     "text": [
      " 49%|████▉     | 491/1000 [44:24<05:03,  1.68it/s]"
     ]
    },
    {
     "name": "stdout",
     "output_type": "stream",
     "text": [
      "DocId: 463798218 - 질문: None\n",
      "DocId: 463798217 - 질문: None\n"
     ]
    },
    {
     "name": "stderr",
     "output_type": "stream",
     "text": [
      " 50%|████▉     | 496/1000 [45:55<1:17:44,  9.25s/it]"
     ]
    },
    {
     "name": "stdout",
     "output_type": "stream",
     "text": [
      "DocId: 463798213 - 질문: None\n",
      "DocId: 463798212 - 질문: None\n"
     ]
    },
    {
     "name": "stderr",
     "output_type": "stream",
     "text": [
      " 50%|████▉     | 498/1000 [45:55<50:09,  5.99s/it]  "
     ]
    },
    {
     "name": "stdout",
     "output_type": "stream",
     "text": [
      "DocId: 463798211 - 질문: 피크루 알려주세요\n",
      "DocId: 463798210 - 질문: None\n",
      "DocId: 463798209 - 질문: None\n"
     ]
    },
    {
     "name": "stderr",
     "output_type": "stream",
     "text": [
      " 50%|█████     | 502/1000 [45:55<22:30,  2.71s/it]"
     ]
    },
    {
     "name": "stdout",
     "output_type": "stream",
     "text": [
      "DocId: 463798208 - 질문: None\n",
      "DocId: 463798207 - 질문: None\n",
      "DocId: 463798206 - 질문: None\n"
     ]
    },
    {
     "name": "stderr",
     "output_type": "stream",
     "text": [
      " 50%|█████     | 504/1000 [45:56<15:47,  1.91s/it]"
     ]
    },
    {
     "name": "stdout",
     "output_type": "stream",
     "text": [
      "DocId: 463798205 - 질문: 엄지손가락 통증\n",
      "DocId: 463798204 - 질문: None\n"
     ]
    },
    {
     "name": "stderr",
     "output_type": "stream",
     "text": [
      " 51%|█████     | 507/1000 [45:56<08:45,  1.07s/it]"
     ]
    },
    {
     "name": "stdout",
     "output_type": "stream",
     "text": [
      "DocId: 463798203 - 질문: None\n",
      "DocId: 463798202 - 질문: None\n",
      "DocId: 463798201 - 질문: None\n"
     ]
    },
    {
     "name": "stderr",
     "output_type": "stream",
     "text": [
      " 51%|█████     | 509/1000 [45:56<06:07,  1.34it/s]"
     ]
    },
    {
     "name": "stdout",
     "output_type": "stream",
     "text": [
      "DocId: 463798200 - 질문: None\n",
      "DocId: 463798199 - 질문: None\n"
     ]
    },
    {
     "name": "stderr",
     "output_type": "stream",
     "text": [
      " 51%|█████     | 510/1000 [45:56<05:08,  1.59it/s]"
     ]
    },
    {
     "name": "stdout",
     "output_type": "stream",
     "text": [
      "DocId: 463798198 - 질문: None\n"
     ]
    },
    {
     "name": "stderr",
     "output_type": "stream",
     "text": [
      " 51%|█████▏    | 513/1000 [46:27<35:13,  4.34s/it]"
     ]
    },
    {
     "name": "stdout",
     "output_type": "stream",
     "text": [
      "DocId: 463798196 - 질문: None\n",
      "DocId: 463798195 - 질문: None\n",
      "DocId: 463798194 - 질문: None\n"
     ]
    },
    {
     "name": "stderr",
     "output_type": "stream",
     "text": [
      " 52%|█████▏    | 517/1000 [46:27<15:29,  1.93s/it]"
     ]
    },
    {
     "name": "stdout",
     "output_type": "stream",
     "text": [
      "DocId: 463798193 - 질문: None\n",
      "DocId: 463798192 - 질문: None\n",
      "DocId: 463798191 - 질문: None\n"
     ]
    },
    {
     "name": "stderr",
     "output_type": "stream",
     "text": [
      " 52%|█████▏    | 519/1000 [46:27<10:40,  1.33s/it]"
     ]
    },
    {
     "name": "stdout",
     "output_type": "stream",
     "text": [
      "DocId: 463798190 - 질문: None\n",
      "DocId: 463798189 - 질문: None\n"
     ]
    },
    {
     "name": "stderr",
     "output_type": "stream",
     "text": [
      " 52%|█████▏    | 521/1000 [46:27<07:44,  1.03it/s]"
     ]
    },
    {
     "name": "stdout",
     "output_type": "stream",
     "text": [
      "DocId: 463798188 - 질문: 박스테이프로 제모가능한가요?\n",
      "DocId: 463798187 - 질문: None\n"
     ]
    },
    {
     "name": "stderr",
     "output_type": "stream",
     "text": [
      " 52%|█████▏    | 524/1000 [46:28<04:43,  1.68it/s]"
     ]
    },
    {
     "name": "stdout",
     "output_type": "stream",
     "text": [
      "DocId: 463798186 - 질문: 베이킹 에어프라이기 종이호일\n",
      "DocId: 463798185 - 질문: None\n",
      "DocId: 463798184 - 질문: None\n"
     ]
    },
    {
     "name": "stderr",
     "output_type": "stream",
     "text": [
      " 53%|█████▎    | 527/1000 [46:29<03:00,  2.62it/s]"
     ]
    },
    {
     "name": "stdout",
     "output_type": "stream",
     "text": [
      "DocId: 463798183 - 질문: 왼쪽 쇄골 안쪽 혹\n",
      "DocId: 463798182 - 질문: None\n",
      "DocId: 463798181 - 질문: None\n"
     ]
    },
    {
     "name": "stderr",
     "output_type": "stream",
     "text": [
      " 53%|█████▎    | 534/1000 [48:59<1:31:07, 11.73s/it]"
     ]
    },
    {
     "name": "stdout",
     "output_type": "stream",
     "text": [
      "DocId: 463798175 - 질문: None\n",
      "DocId: 463798174 - 질문: None\n"
     ]
    },
    {
     "name": "stderr",
     "output_type": "stream",
     "text": [
      " 54%|█████▎    | 536/1000 [49:00<46:21,  6.00s/it]  "
     ]
    },
    {
     "name": "stdout",
     "output_type": "stream",
     "text": [
      "DocId: 463798173 - 질문: 술 취할때까지 먹이겠다는 아빠\n",
      "DocId: 463798172 - 질문: None\n",
      "DocId: 463798171 - 질문: None\n"
     ]
    },
    {
     "name": "stderr",
     "output_type": "stream",
     "text": [
      " 54%|█████▍    | 538/1000 [49:00<25:27,  3.31s/it]"
     ]
    },
    {
     "name": "stdout",
     "output_type": "stream",
     "text": [
      "DocId: 463798170 - 질문: None\n",
      "DocId: 463798169 - 질문: None\n"
     ]
    },
    {
     "name": "stderr",
     "output_type": "stream",
     "text": [
      " 54%|█████▍    | 542/1000 [49:00<10:23,  1.36s/it]"
     ]
    },
    {
     "name": "stdout",
     "output_type": "stream",
     "text": [
      "DocId: 463798168 - 질문: 성대 결절 간식...\n",
      "DocId: 463798167 - 질문: None\n",
      "DocId: 463798166 - 질문: None\n"
     ]
    },
    {
     "name": "stderr",
     "output_type": "stream",
     "text": [
      " 54%|█████▍    | 544/1000 [49:01<07:02,  1.08it/s]"
     ]
    },
    {
     "name": "stdout",
     "output_type": "stream",
     "text": [
      "DocId: 463798165 - 질문: None\n",
      "DocId: 463798164 - 질문: None\n",
      "DocId: 463798163 - 질문: None\n"
     ]
    },
    {
     "name": "stderr",
     "output_type": "stream",
     "text": [
      " 55%|█████▍    | 548/1000 [49:01<03:35,  2.10it/s]"
     ]
    },
    {
     "name": "stdout",
     "output_type": "stream",
     "text": [
      "DocId: 463798162 - 질문: None\n",
      "DocId: 463798161 - 질문: None\n",
      "DocId: 463798160 - 질문: None\n"
     ]
    },
    {
     "name": "stderr",
     "output_type": "stream",
     "text": [
      " 55%|█████▌    | 554/1000 [50:32<50:56,  6.85s/it]  "
     ]
    },
    {
     "name": "stdout",
     "output_type": "stream",
     "text": [
      "DocId: 463798156 - 질문: None\n",
      "DocId: 463798155 - 질문: None\n",
      "DocId: 463798154 - 질문: None\n"
     ]
    },
    {
     "name": "stderr",
     "output_type": "stream",
     "text": [
      " 56%|█████▌    | 556/1000 [50:32<32:05,  4.34s/it]"
     ]
    },
    {
     "name": "stdout",
     "output_type": "stream",
     "text": [
      "DocId: 463798153 - 질문: None\n",
      "DocId: 463798152 - 질문: None\n"
     ]
    },
    {
     "name": "stderr",
     "output_type": "stream",
     "text": [
      " 56%|█████▌    | 558/1000 [50:32<21:28,  2.91s/it]"
     ]
    },
    {
     "name": "stdout",
     "output_type": "stream",
     "text": [
      "DocId: 463798151 - 질문: okx입금 방법 질문\n",
      "DocId: 463798150 - 질문: None\n"
     ]
    },
    {
     "name": "stderr",
     "output_type": "stream",
     "text": [
      " 56%|█████▌    | 561/1000 [50:32<11:16,  1.54s/it]"
     ]
    },
    {
     "name": "stdout",
     "output_type": "stream",
     "text": [
      "DocId: 463798149 - 질문: None\n",
      "DocId: 463798148 - 질문: None\n",
      "DocId: 463798147 - 질문: None\n"
     ]
    },
    {
     "name": "stderr",
     "output_type": "stream",
     "text": [
      " 56%|█████▋    | 564/1000 [50:33<06:09,  1.18it/s]"
     ]
    },
    {
     "name": "stdout",
     "output_type": "stream",
     "text": [
      "DocId: 463798146 - 질문: 공황장애 약 건망증\n",
      "DocId: 463798145 - 질문: None\n",
      "DocId: 463798144 - 질문: None\n"
     ]
    },
    {
     "name": "stderr",
     "output_type": "stream",
     "text": [
      " 57%|█████▋    | 566/1000 [50:33<04:14,  1.70it/s]"
     ]
    },
    {
     "name": "stdout",
     "output_type": "stream",
     "text": [
      "DocId: 463798143 - 질문: None\n",
      "DocId: 463798142 - 질문: None\n",
      "DocId: 463798141 - 질문: None\n"
     ]
    },
    {
     "name": "stderr",
     "output_type": "stream",
     "text": [
      " 57%|█████▋    | 568/1000 [50:33<03:02,  2.36it/s]"
     ]
    },
    {
     "name": "stdout",
     "output_type": "stream",
     "text": [
      "DocId: 463798140 - 질문: None\n"
     ]
    },
    {
     "name": "stderr",
     "output_type": "stream",
     "text": [
      " 58%|█████▊    | 577/1000 [53:34<1:08:46,  9.75s/it]"
     ]
    },
    {
     "name": "stdout",
     "output_type": "stream",
     "text": [
      "DocId: 463798133 - 질문: None\n",
      "DocId: 463798132 - 질문: None\n",
      "DocId: 463798131 - 질문: None\n"
     ]
    },
    {
     "name": "stderr",
     "output_type": "stream",
     "text": [
      " 58%|█████▊    | 577/1000 [53:34<1:08:46,  9.75s/it]"
     ]
    },
    {
     "name": "stdout",
     "output_type": "stream",
     "text": [
      "DocId: 463798130 - 질문: None\n"
     ]
    },
    {
     "name": "stderr",
     "output_type": "stream",
     "text": [
      " 58%|█████▊    | 581/1000 [53:35<27:21,  3.92s/it]  "
     ]
    },
    {
     "name": "stdout",
     "output_type": "stream",
     "text": [
      "DocId: 463798129 - 질문: 운동 후 밥 다이어트\n",
      "DocId: 463798128 - 질문: None\n",
      "DocId: 463798127 - 질문: None\n"
     ]
    },
    {
     "name": "stderr",
     "output_type": "stream",
     "text": [
      " 58%|█████▊    | 583/1000 [53:35<18:14,  2.63s/it]"
     ]
    },
    {
     "name": "stdout",
     "output_type": "stream",
     "text": [
      "DocId: 463798126 - 질문: None\n",
      "DocId: 463798125 - 질문: None\n",
      "DocId: 463798124 - 질문: None\n"
     ]
    },
    {
     "name": "stderr",
     "output_type": "stream",
     "text": [
      " 58%|█████▊    | 585/1000 [53:35<12:27,  1.80s/it]"
     ]
    },
    {
     "name": "stdout",
     "output_type": "stream",
     "text": [
      "DocId: 463798123 - 질문: None\n",
      "DocId: 463798122 - 질문: None\n"
     ]
    },
    {
     "name": "stderr",
     "output_type": "stream",
     "text": [
      " 59%|█████▊    | 587/1000 [53:36<08:54,  1.29s/it]"
     ]
    },
    {
     "name": "stdout",
     "output_type": "stream",
     "text": [
      "DocId: 463798121 - 질문: 피 뽑을 때마다 기절하는데 주사나 바늘을 무서워 한다기엔 얼굴에 피어싱도 많고 뚫었었고 주사도 잘 맞아요누워서 피 뽑나 앉아서 뽑나, 피 뽑는 걸 일부러 안보려고눈을 감고 뽑아도 항상 뽑고 나면 기절하고요어지럽고 눈 앞 시커매지면서 기절 할 때 느낌이 너무 싫어서 그만 기절하고 싶어요오늘도 병원에서 피 뽑아야 할 일이 있어 뽑았는데평소엔 기절만 하고 깨더니 오늘은 발작까지 일으키고한 번 깨더니 또 어지럽다가 기절하고 발작하고...두번이나 기절했네요 왜 이러는 걸까요... ㅠㅠ피 뽑는 거 제외하고 예방접종이나 수면마취 할 땐 전혀 안이래요\n"
     ]
    },
    {
     "name": "stderr",
     "output_type": "stream",
     "text": [
      " 59%|█████▉    | 590/1000 [53:36<05:08,  1.33it/s]"
     ]
    },
    {
     "name": "stdout",
     "output_type": "stream",
     "text": [
      "DocId: 463798120 - 질문: 입안에 큰 물집?\n",
      "DocId: 463798119 - 질문: None\n",
      "DocId: 463798118 - 질문: None\n"
     ]
    },
    {
     "name": "stderr",
     "output_type": "stream",
     "text": [
      " 60%|██████    | 603/1000 [1:00:07<3:15:52, 29.60s/it]"
     ]
    },
    {
     "name": "stdout",
     "output_type": "stream",
     "text": [
      "DocId: 463798104 - 질문: None\n"
     ]
    },
    {
     "name": "stderr",
     "output_type": "stream",
     "text": [
      " 61%|██████    | 607/1000 [1:00:08<1:03:45,  9.74s/it]"
     ]
    },
    {
     "name": "stdout",
     "output_type": "stream",
     "text": [
      "DocId: 463798103 - 질문: 발치하고 라면\n",
      "DocId: 463798102 - 질문: None\n",
      "DocId: 463798101 - 질문: None\n"
     ]
    },
    {
     "name": "stderr",
     "output_type": "stream",
     "text": [
      " 61%|██████    | 609/1000 [1:00:08<40:40,  6.24s/it]  "
     ]
    },
    {
     "name": "stdout",
     "output_type": "stream",
     "text": [
      "DocId: 463798100 - 질문: None\n",
      "DocId: 463798099 - 질문: None\n",
      "DocId: 463798098 - 질문: None\n"
     ]
    },
    {
     "name": "stderr",
     "output_type": "stream",
     "text": [
      " 61%|██████    | 611/1000 [1:00:08<26:50,  4.14s/it]"
     ]
    },
    {
     "name": "stdout",
     "output_type": "stream",
     "text": [
      "DocId: 463798097 - 질문: None\n"
     ]
    },
    {
     "name": "stderr",
     "output_type": "stream",
     "text": [
      " 61%|██████▏   | 613/1000 [1:00:08<18:15,  2.83s/it]"
     ]
    },
    {
     "name": "stdout",
     "output_type": "stream",
     "text": [
      "DocId: 463798096 - 질문: 양배추를 찌면 식이섬유가 없어지나요?\n",
      "DocId: 463798095 - 질문: None\n"
     ]
    },
    {
     "name": "stderr",
     "output_type": "stream",
     "text": [
      " 62%|██████▏   | 617/1000 [1:00:09<08:50,  1.39s/it]"
     ]
    },
    {
     "name": "stdout",
     "output_type": "stream",
     "text": [
      "DocId: 463798094 - 질문: 허리디스크일때 온찜질하면 어떤 작용에 의해서 치료에\n",
      "DocId: 463798093 - 질문: None\n",
      "DocId: 463798092 - 질문: None\n",
      "DocId: 463798091 - 질문: None\n"
     ]
    },
    {
     "name": "stderr",
     "output_type": "stream",
     "text": [
      " 62%|██████▏   | 619/1000 [1:00:09<06:13,  1.02it/s]"
     ]
    },
    {
     "name": "stdout",
     "output_type": "stream",
     "text": [
      "DocId: 463798090 - 질문: None\n",
      "DocId: 463798089 - 질문: None\n"
     ]
    },
    {
     "name": "stderr",
     "output_type": "stream",
     "text": [
      " 63%|██████▎   | 629/1000 [1:03:40<1:03:27, 10.26s/it]"
     ]
    },
    {
     "name": "stdout",
     "output_type": "stream",
     "text": [
      "DocId: 463798081 - 질문: 눈에 피 질문\n",
      "DocId: 463798080 - 질문: None\n",
      "DocId: 463798079 - 질문: None\n"
     ]
    },
    {
     "name": "stderr",
     "output_type": "stream",
     "text": [
      " 63%|██████▎   | 631/1000 [1:03:40<38:40,  6.29s/it]  "
     ]
    },
    {
     "name": "stdout",
     "output_type": "stream",
     "text": [
      "DocId: 463798078 - 질문: None\n",
      "DocId: 463798077 - 질문: None\n",
      "DocId: 463798076 - 질문: None\n"
     ]
    },
    {
     "name": "stderr",
     "output_type": "stream",
     "text": [
      " 64%|██████▎   | 635/1000 [1:03:41<16:30,  2.71s/it]"
     ]
    },
    {
     "name": "stdout",
     "output_type": "stream",
     "text": [
      "DocId: 463798075 - 질문: None\n",
      "DocId: 463798074 - 질문: None\n",
      "DocId: 463798073 - 질문: None\n"
     ]
    },
    {
     "name": "stderr",
     "output_type": "stream",
     "text": [
      " 64%|██████▎   | 637/1000 [1:03:41<11:15,  1.86s/it]"
     ]
    },
    {
     "name": "stdout",
     "output_type": "stream",
     "text": [
      "DocId: 463798072 - 질문: None\n",
      "DocId: 463798071 - 질문: None\n",
      "DocId: 463798070 - 질문: None\n"
     ]
    },
    {
     "name": "stderr",
     "output_type": "stream",
     "text": [
      " 64%|██████▍   | 641/1000 [1:03:41<05:29,  1.09it/s]"
     ]
    },
    {
     "name": "stdout",
     "output_type": "stream",
     "text": [
      "DocId: 463798069 - 질문: None\n",
      "DocId: 463798068 - 질문: None\n",
      "DocId: 463798067 - 질문: None\n"
     ]
    },
    {
     "name": "stderr",
     "output_type": "stream",
     "text": [
      " 64%|██████▍   | 643/1000 [1:03:41<03:55,  1.52it/s]"
     ]
    },
    {
     "name": "stdout",
     "output_type": "stream",
     "text": [
      "DocId: 463798066 - 질문: None\n",
      "DocId: 463798065 - 질문: None\n"
     ]
    },
    {
     "name": "stderr",
     "output_type": "stream",
     "text": [
      " 65%|██████▍   | 649/1000 [1:06:12<1:33:27, 15.98s/it]"
     ]
    },
    {
     "name": "stdout",
     "output_type": "stream",
     "text": [
      "DocId: 463798059 - 질문: 마지막 하나 남은 음식 먹으면.. 미신\n",
      "DocId: 463798058 - 질문: None\n"
     ]
    },
    {
     "name": "stderr",
     "output_type": "stream",
     "text": [
      " 65%|██████▌   | 653/1000 [1:06:13<32:36,  5.64s/it]  "
     ]
    },
    {
     "name": "stdout",
     "output_type": "stream",
     "text": [
      "DocId: 463798057 - 질문: 항문에 외치핵 같은데 수술 해야하나요?\n",
      "DocId: 463798056 - 질문: None\n",
      "DocId: 463798055 - 질문: None\n"
     ]
    },
    {
     "name": "stderr",
     "output_type": "stream",
     "text": [
      " 66%|██████▌   | 655/1000 [1:06:13<21:06,  3.67s/it]"
     ]
    },
    {
     "name": "stdout",
     "output_type": "stream",
     "text": [
      "DocId: 463798054 - 질문: None\n",
      "DocId: 463798053 - 질문: None\n",
      "DocId: 463798052 - 질문: None\n"
     ]
    },
    {
     "name": "stderr",
     "output_type": "stream",
     "text": [
      " 66%|██████▌   | 657/1000 [1:06:13<14:03,  2.46s/it]"
     ]
    },
    {
     "name": "stdout",
     "output_type": "stream",
     "text": [
      "DocId: 463798051 - 질문: None\n"
     ]
    },
    {
     "name": "stderr",
     "output_type": "stream",
     "text": [
      " 66%|██████▌   | 659/1000 [1:06:13<09:52,  1.74s/it]"
     ]
    },
    {
     "name": "stdout",
     "output_type": "stream",
     "text": [
      "DocId: 463798050 - 질문: 내공400겁니다!! 포경수술 질문(위급함)\n",
      "DocId: 463798049 - 질문: None\n",
      "DocId: 463798048 - 질문: None\n"
     ]
    },
    {
     "name": "stderr",
     "output_type": "stream",
     "text": [
      " 66%|██████▋   | 663/1000 [1:06:14<04:50,  1.16it/s]"
     ]
    },
    {
     "name": "stdout",
     "output_type": "stream",
     "text": [
      "DocId: 463798047 - 질문: None\n",
      "DocId: 463798046 - 질문: None\n",
      "DocId: 463798045 - 질문: None\n"
     ]
    },
    {
     "name": "stderr",
     "output_type": "stream",
     "text": [
      " 66%|██████▋   | 663/1000 [1:06:14<04:50,  1.16it/s]"
     ]
    },
    {
     "name": "stdout",
     "output_type": "stream",
     "text": [
      "DocId: 463798044 - 질문: None\n"
     ]
    },
    {
     "name": "stderr",
     "output_type": "stream",
     "text": [
      " 68%|██████▊   | 677/1000 [1:11:45<1:24:39, 15.73s/it]"
     ]
    },
    {
     "name": "stdout",
     "output_type": "stream",
     "text": [
      "DocId: 463798032 - 질문: None\n",
      "DocId: 463798031 - 질문: None\n",
      "DocId: 463798030 - 질문: None\n"
     ]
    },
    {
     "name": "stderr",
     "output_type": "stream",
     "text": [
      " 68%|██████▊   | 681/1000 [1:11:45<32:42,  6.15s/it]  "
     ]
    },
    {
     "name": "stdout",
     "output_type": "stream",
     "text": [
      "DocId: 463798029 - 질문: None\n",
      "DocId: 463798028 - 질문: None\n",
      "DocId: 463798027 - 질문: None\n"
     ]
    },
    {
     "name": "stderr",
     "output_type": "stream",
     "text": [
      " 68%|██████▊   | 683/1000 [1:11:46<21:36,  4.09s/it]"
     ]
    },
    {
     "name": "stdout",
     "output_type": "stream",
     "text": [
      "DocId: 463798026 - 질문: None\n",
      "DocId: 463798025 - 질문: None\n",
      "DocId: 463798024 - 질문: None\n"
     ]
    },
    {
     "name": "stderr",
     "output_type": "stream",
     "text": [
      " 69%|██████▊   | 687/1000 [1:11:46<10:01,  1.92s/it]"
     ]
    },
    {
     "name": "stdout",
     "output_type": "stream",
     "text": [
      "DocId: 463798023 - 질문: None\n",
      "DocId: 463798022 - 질문: None\n",
      "DocId: 463798021 - 질문: None\n"
     ]
    },
    {
     "name": "stderr",
     "output_type": "stream",
     "text": [
      " 69%|██████▉   | 689/1000 [1:11:46<06:58,  1.35s/it]"
     ]
    },
    {
     "name": "stdout",
     "output_type": "stream",
     "text": [
      "DocId: 463798020 - 질문: None\n",
      "DocId: 463798019 - 질문: None\n",
      "DocId: 463798018 - 질문: None\n"
     ]
    },
    {
     "name": "stderr",
     "output_type": "stream",
     "text": [
      " 69%|██████▉   | 691/1000 [1:11:46<04:55,  1.05it/s]"
     ]
    },
    {
     "name": "stdout",
     "output_type": "stream",
     "text": [
      "DocId: 463798017 - 질문: None\n"
     ]
    },
    {
     "name": "stderr",
     "output_type": "stream",
     "text": [
      " 69%|██████▉   | 693/1000 [1:11:47<03:40,  1.39it/s]"
     ]
    },
    {
     "name": "stdout",
     "output_type": "stream",
     "text": [
      "DocId: 463798016 - 질문: 제발 이 애니 좀 찾아주세요ㅠㅠ\n",
      "DocId: 463798015 - 질문: None\n"
     ]
    },
    {
     "name": "stderr",
     "output_type": "stream",
     "text": [
      " 69%|██████▉   | 694/1000 [1:12:17<30:29,  5.98s/it]"
     ]
    },
    {
     "name": "stdout",
     "output_type": "stream",
     "text": [
      "DocId: 463798013 - 질문: None\n"
     ]
    },
    {
     "name": "stderr",
     "output_type": "stream",
     "text": [
      " 70%|██████▉   | 696/1000 [1:12:17<20:20,  4.01s/it]"
     ]
    },
    {
     "name": "stdout",
     "output_type": "stream",
     "text": [
      "DocId: 463798012 - 질문: 쌍수 후 안과검진\n"
     ]
    },
    {
     "name": "stderr",
     "output_type": "stream",
     "text": [
      " 70%|██████▉   | 699/1000 [1:12:18<10:49,  2.16s/it]"
     ]
    },
    {
     "name": "stdout",
     "output_type": "stream",
     "text": [
      "DocId: 463798011 - 질문: 근시 콘택트렌즈 착용 문의\n",
      "DocId: 463798010 - 질문: None\n",
      "DocId: 463798009 - 질문: None\n"
     ]
    },
    {
     "name": "stderr",
     "output_type": "stream",
     "text": [
      " 70%|███████   | 701/1000 [1:12:18<07:16,  1.46s/it]"
     ]
    },
    {
     "name": "stdout",
     "output_type": "stream",
     "text": [
      "DocId: 463798008 - 질문: None\n",
      "DocId: 463798007 - 질문: None\n",
      "DocId: 463798006 - 질문: None\n"
     ]
    },
    {
     "name": "stderr",
     "output_type": "stream",
     "text": [
      " 70%|███████   | 705/1000 [1:12:18<03:29,  1.41it/s]"
     ]
    },
    {
     "name": "stdout",
     "output_type": "stream",
     "text": [
      "DocId: 463798005 - 질문: None\n",
      "DocId: 463798004 - 질문: None\n",
      "DocId: 463798003 - 질문: None\n"
     ]
    },
    {
     "name": "stderr",
     "output_type": "stream",
     "text": [
      " 71%|███████   | 707/1000 [1:12:18<02:29,  1.96it/s]"
     ]
    },
    {
     "name": "stdout",
     "output_type": "stream",
     "text": [
      "DocId: 463798002 - 질문: None\n",
      "DocId: 463798001 - 질문: None\n",
      "DocId: 463798000 - 질문: None\n"
     ]
    },
    {
     "name": "stderr",
     "output_type": "stream",
     "text": [
      " 71%|███████   | 709/1000 [1:12:18<01:49,  2.66it/s]"
     ]
    },
    {
     "name": "stdout",
     "output_type": "stream",
     "text": [
      "DocId: 463797999 - 질문: None\n",
      "DocId: 463797998 - 질문: None\n"
     ]
    },
    {
     "name": "stderr",
     "output_type": "stream",
     "text": [
      " 72%|███████▏  | 717/1000 [1:15:19<1:19:09, 16.78s/it]"
     ]
    },
    {
     "name": "stdout",
     "output_type": "stream",
     "text": [
      "DocId: 463797991 - 질문: None\n",
      "DocId: 463797990 - 질문: None\n"
     ]
    },
    {
     "name": "stderr",
     "output_type": "stream",
     "text": [
      " 72%|███████▏  | 719/1000 [1:15:19<44:40,  9.54s/it]  "
     ]
    },
    {
     "name": "stdout",
     "output_type": "stream",
     "text": [
      "DocId: 463797989 - 질문: None\n",
      "DocId: 463797988 - 질문: None\n"
     ]
    },
    {
     "name": "stderr",
     "output_type": "stream",
     "text": [
      "                                                    \r"
     ]
    },
    {
     "name": "stdout",
     "output_type": "stream",
     "text": [
      "DocId: 463797987 - 질문: None\n"
     ]
    },
    {
     "name": "stderr",
     "output_type": "stream",
     "text": [
      " 72%|███████▏  | 723/1000 [1:15:20<17:58,  3.89s/it]"
     ]
    },
    {
     "name": "stdout",
     "output_type": "stream",
     "text": [
      "DocId: 463797986 - 질문: None\n",
      "DocId: 463797985 - 질문: None\n"
     ]
    },
    {
     "name": "stderr",
     "output_type": "stream",
     "text": [
      " 72%|███████▎  | 725/1000 [1:15:20<11:27,  2.50s/it]"
     ]
    },
    {
     "name": "stdout",
     "output_type": "stream",
     "text": [
      "DocId: 463797984 - 질문: 물리치료에 대해\n",
      "DocId: 463797983 - 질문: None\n"
     ]
    },
    {
     "name": "stderr",
     "output_type": "stream",
     "text": [
      " 73%|███████▎  | 727/1000 [1:15:21<06:37,  1.46s/it]"
     ]
    },
    {
     "name": "stdout",
     "output_type": "stream",
     "text": [
      "DocId: 463797982 - 질문: None\n",
      "DocId: 463797981 - 질문: None\n"
     ]
    },
    {
     "name": "stderr",
     "output_type": "stream",
     "text": [
      " 73%|███████▎  | 729/1000 [1:15:21<03:46,  1.20it/s]"
     ]
    },
    {
     "name": "stdout",
     "output_type": "stream",
     "text": [
      "DocId: 463797980 - 질문: None\n",
      "DocId: 463797979 - 질문: None\n"
     ]
    },
    {
     "name": "stderr",
     "output_type": "stream",
     "text": [
      " 73%|███████▎  | 731/1000 [1:15:21<02:15,  1.99it/s]"
     ]
    },
    {
     "name": "stdout",
     "output_type": "stream",
     "text": [
      "DocId: 463797978 - 질문: None\n",
      "DocId: 463797977 - 질문: None\n"
     ]
    },
    {
     "name": "stderr",
     "output_type": "stream",
     "text": [
      " 73%|███████▎  | 733/1000 [1:15:21<01:23,  3.20it/s]"
     ]
    },
    {
     "name": "stdout",
     "output_type": "stream",
     "text": [
      "DocId: 463797976 - 질문: None\n",
      "DocId: 463797975 - 질문: None\n"
     ]
    },
    {
     "name": "stderr",
     "output_type": "stream",
     "text": [
      " 73%|███████▎  | 734/1000 [1:15:22<01:11,  3.74it/s]"
     ]
    },
    {
     "name": "stdout",
     "output_type": "stream",
     "text": [
      "DocId: 463797974 - 질문: None\n"
     ]
    },
    {
     "name": "stderr",
     "output_type": "stream",
     "text": [
      " 75%|███████▍  | 748/1000 [1:21:23<1:07:19, 16.03s/it]"
     ]
    },
    {
     "name": "stdout",
     "output_type": "stream",
     "text": [
      "DocId: 463797961 - 질문: None\n",
      "DocId: 463797960 - 질문: None\n",
      "DocId: 463797959 - 질문: None\n"
     ]
    },
    {
     "name": "stderr",
     "output_type": "stream",
     "text": [
      " 75%|███████▌  | 750/1000 [1:21:23<40:27,  9.71s/it]  "
     ]
    },
    {
     "name": "stdout",
     "output_type": "stream",
     "text": [
      "DocId: 463797958 - 질문: None\n"
     ]
    },
    {
     "name": "stderr",
     "output_type": "stream",
     "text": [
      " 75%|███████▌  | 753/1000 [1:21:24<19:22,  4.71s/it]"
     ]
    },
    {
     "name": "stdout",
     "output_type": "stream",
     "text": [
      "DocId: 463797957 - 질문: 허리관련질문입니다.\n",
      "DocId: 463797956 - 질문: None\n",
      "DocId: 463797955 - 질문: None\n"
     ]
    },
    {
     "name": "stderr",
     "output_type": "stream",
     "text": [
      " 76%|███████▌  | 755/1000 [1:21:24<11:51,  2.90s/it]"
     ]
    },
    {
     "name": "stdout",
     "output_type": "stream",
     "text": [
      "DocId: 463797954 - 질문: 가슴만 하얀이유\n",
      "DocId: 463797953 - 질문: None\n"
     ]
    },
    {
     "name": "stderr",
     "output_type": "stream",
     "text": [
      " 76%|███████▌  | 757/1000 [1:21:24<07:09,  1.77s/it]"
     ]
    },
    {
     "name": "stdout",
     "output_type": "stream",
     "text": [
      "DocId: 463797952 - 질문: None\n",
      "DocId: 463797951 - 질문: None\n",
      "DocId: 463797950 - 질문: None\n"
     ]
    },
    {
     "name": "stderr",
     "output_type": "stream",
     "text": [
      " 76%|███████▌  | 759/1000 [1:21:25<04:38,  1.15s/it]"
     ]
    },
    {
     "name": "stdout",
     "output_type": "stream",
     "text": [
      "DocId: 463797949 - 질문: None\n",
      "DocId: 463797948 - 질문: None\n"
     ]
    },
    {
     "name": "stderr",
     "output_type": "stream",
     "text": [
      " 76%|███████▋  | 763/1000 [1:21:55<15:52,  4.02s/it]"
     ]
    },
    {
     "name": "stdout",
     "output_type": "stream",
     "text": [
      "DocId: 463797946 - 질문: None\n",
      "DocId: 463797945 - 질문: None\n",
      "DocId: 463797944 - 질문: None\n"
     ]
    },
    {
     "name": "stderr",
     "output_type": "stream",
     "text": [
      " 77%|███████▋  | 767/1000 [1:21:55<07:29,  1.93s/it]"
     ]
    },
    {
     "name": "stdout",
     "output_type": "stream",
     "text": [
      "DocId: 463797943 - 질문: None\n",
      "DocId: 463797942 - 질문: None\n",
      "DocId: 463797941 - 질문: None\n"
     ]
    },
    {
     "name": "stderr",
     "output_type": "stream",
     "text": [
      " 77%|███████▋  | 769/1000 [1:21:56<05:13,  1.36s/it]"
     ]
    },
    {
     "name": "stdout",
     "output_type": "stream",
     "text": [
      "DocId: 463797940 - 질문: None\n",
      "DocId: 463797939 - 질문: None\n",
      "DocId: 463797938 - 질문: None\n"
     ]
    },
    {
     "name": "stderr",
     "output_type": "stream",
     "text": [
      " 77%|███████▋  | 773/1000 [1:21:56<02:39,  1.42it/s]"
     ]
    },
    {
     "name": "stdout",
     "output_type": "stream",
     "text": [
      "DocId: 463797937 - 질문: None\n",
      "DocId: 463797936 - 질문: None\n",
      "DocId: 463797935 - 질문: None\n"
     ]
    },
    {
     "name": "stderr",
     "output_type": "stream",
     "text": [
      " 78%|███████▊  | 775/1000 [1:21:56<01:55,  1.95it/s]"
     ]
    },
    {
     "name": "stdout",
     "output_type": "stream",
     "text": [
      "DocId: 463797934 - 질문: None\n",
      "DocId: 463797933 - 질문: None\n",
      "DocId: 463797932 - 질문: None\n"
     ]
    },
    {
     "name": "stderr",
     "output_type": "stream",
     "text": [
      " 78%|███████▊  | 779/1000 [1:21:56<01:03,  3.45it/s]"
     ]
    },
    {
     "name": "stdout",
     "output_type": "stream",
     "text": [
      "DocId: 463797931 - 질문: None\n",
      "DocId: 463797930 - 질문: None\n",
      "DocId: 463797929 - 질문: None\n"
     ]
    },
    {
     "name": "stderr",
     "output_type": "stream",
     "text": [
      " 78%|███████▊  | 779/1000 [1:21:56<01:03,  3.45it/s]"
     ]
    },
    {
     "name": "stdout",
     "output_type": "stream",
     "text": [
      "DocId: 463797928 - 질문: None\n"
     ]
    },
    {
     "name": "stderr",
     "output_type": "stream",
     "text": [
      " 79%|███████▉  | 791/1000 [1:25:57<36:21, 10.44s/it]  "
     ]
    },
    {
     "name": "stdout",
     "output_type": "stream",
     "text": [
      "DocId: 463797919 - 질문: None\n",
      "DocId: 463797918 - 질문: None\n",
      "DocId: 463797917 - 질문: None\n"
     ]
    },
    {
     "name": "stderr",
     "output_type": "stream",
     "text": [
      " 79%|███████▉  | 793/1000 [1:25:58<22:16,  6.45s/it]"
     ]
    },
    {
     "name": "stdout",
     "output_type": "stream",
     "text": [
      "DocId: 463797916 - 질문: 산부인과 갈때 ㅅㅇㅅ...\n",
      "DocId: 463797915 - 질문: None\n",
      "DocId: 463797914 - 질문: None\n"
     ]
    },
    {
     "name": "stderr",
     "output_type": "stream",
     "text": [
      " 80%|███████▉  | 797/1000 [1:25:58<09:25,  2.78s/it]"
     ]
    },
    {
     "name": "stdout",
     "output_type": "stream",
     "text": [
      "DocId: 463797913 - 질문: None\n",
      "DocId: 463797912 - 질문: None\n",
      "DocId: 463797911 - 질문: None\n"
     ]
    },
    {
     "name": "stderr",
     "output_type": "stream",
     "text": [
      " 80%|███████▉  | 799/1000 [1:25:58<06:22,  1.90s/it]"
     ]
    },
    {
     "name": "stdout",
     "output_type": "stream",
     "text": [
      "DocId: 463797910 - 질문: None\n",
      "DocId: 463797909 - 질문: None\n",
      "DocId: 463797908 - 질문: None\n"
     ]
    },
    {
     "name": "stderr",
     "output_type": "stream",
     "text": [
      " 80%|████████  | 803/1000 [1:25:59<03:03,  1.07it/s]"
     ]
    },
    {
     "name": "stdout",
     "output_type": "stream",
     "text": [
      "DocId: 463797907 - 질문: None\n",
      "DocId: 463797906 - 질문: None\n",
      "DocId: 463797905 - 질문: None\n"
     ]
    },
    {
     "name": "stderr",
     "output_type": "stream",
     "text": [
      " 80%|████████  | 805/1000 [1:25:59<02:10,  1.49it/s]"
     ]
    },
    {
     "name": "stdout",
     "output_type": "stream",
     "text": [
      "DocId: 463797904 - 질문: None\n",
      "DocId: 463797903 - 질문: None\n",
      "DocId: 463797902 - 질문: None\n"
     ]
    },
    {
     "name": "stderr",
     "output_type": "stream",
     "text": [
      " 81%|████████  | 811/1000 [1:28:00<41:39, 13.22s/it]"
     ]
    },
    {
     "name": "stdout",
     "output_type": "stream",
     "text": [
      "DocId: 463797897 - 질문: None\n",
      "DocId: 463797896 - 질문: None\n"
     ]
    },
    {
     "name": "stderr",
     "output_type": "stream",
     "text": [
      " 82%|████████▏ | 815/1000 [1:28:00<15:20,  4.98s/it]"
     ]
    },
    {
     "name": "stdout",
     "output_type": "stream",
     "text": [
      "DocId: 463797895 - 질문: None\n",
      "DocId: 463797894 - 질문: None\n",
      "DocId: 463797893 - 질문: None\n"
     ]
    },
    {
     "name": "stderr",
     "output_type": "stream",
     "text": [
      " 82%|████████▏ | 817/1000 [1:28:00<10:01,  3.29s/it]"
     ]
    },
    {
     "name": "stdout",
     "output_type": "stream",
     "text": [
      "DocId: 463797892 - 질문: None\n",
      "DocId: 463797891 - 질문: None\n"
     ]
    },
    {
     "name": "stderr",
     "output_type": "stream",
     "text": [
      " 82%|████████▏ | 819/1000 [1:28:00<06:44,  2.24s/it]"
     ]
    },
    {
     "name": "stdout",
     "output_type": "stream",
     "text": [
      "DocId: 463797890 - 질문: None\n",
      "DocId: 463797889 - 질문: None\n"
     ]
    },
    {
     "name": "stderr",
     "output_type": "stream",
     "text": [
      " 82%|████████▏ | 821/1000 [1:28:00<04:38,  1.56s/it]"
     ]
    },
    {
     "name": "stdout",
     "output_type": "stream",
     "text": [
      "DocId: 463797888 - 질문: None\n",
      "DocId: 463797887 - 질문: None\n"
     ]
    },
    {
     "name": "stderr",
     "output_type": "stream",
     "text": [
      " 82%|████████▏ | 823/1000 [1:28:01<03:14,  1.10s/it]"
     ]
    },
    {
     "name": "stdout",
     "output_type": "stream",
     "text": [
      "DocId: 463797886 - 질문: None\n",
      "DocId: 463797885 - 질문: None\n",
      "DocId: 463797884 - 질문: None\n"
     ]
    },
    {
     "name": "stderr",
     "output_type": "stream",
     "text": [
      " 83%|████████▎ | 827/1000 [1:28:01<01:39,  1.75it/s]"
     ]
    },
    {
     "name": "stdout",
     "output_type": "stream",
     "text": [
      "DocId: 463797883 - 질문: None\n",
      "DocId: 463797882 - 질문: None\n",
      "DocId: 463797881 - 질문: None\n"
     ]
    },
    {
     "name": "stderr",
     "output_type": "stream",
     "text": [
      " 83%|████████▎ | 829/1000 [1:28:01<01:12,  2.36it/s]"
     ]
    },
    {
     "name": "stdout",
     "output_type": "stream",
     "text": [
      "DocId: 463797880 - 질문: None\n",
      "DocId: 463797879 - 질문: None\n"
     ]
    },
    {
     "name": "stderr",
     "output_type": "stream",
     "text": [
      " 84%|████████▎ | 837/1000 [1:30:32<24:27,  9.00s/it]"
     ]
    },
    {
     "name": "stdout",
     "output_type": "stream",
     "text": [
      "DocId: 463797873 - 질문: None\n",
      "DocId: 463797872 - 질문: None\n",
      "DocId: 463797871 - 질문: None\n"
     ]
    },
    {
     "name": "stderr",
     "output_type": "stream",
     "text": [
      " 84%|████████▍ | 839/1000 [1:30:32<14:59,  5.59s/it]"
     ]
    },
    {
     "name": "stdout",
     "output_type": "stream",
     "text": [
      "DocId: 463797870 - 질문: None\n",
      "DocId: 463797869 - 질문: None\n",
      "DocId: 463797868 - 질문: None\n"
     ]
    },
    {
     "name": "stderr",
     "output_type": "stream",
     "text": [
      " 84%|████████▍ | 843/1000 [1:30:32<06:23,  2.44s/it]"
     ]
    },
    {
     "name": "stdout",
     "output_type": "stream",
     "text": [
      "DocId: 463797867 - 질문: None\n",
      "DocId: 463797866 - 질문: None\n",
      "DocId: 463797865 - 질문: None\n"
     ]
    },
    {
     "name": "stderr",
     "output_type": "stream",
     "text": [
      " 84%|████████▍ | 845/1000 [1:30:33<04:19,  1.68s/it]"
     ]
    },
    {
     "name": "stdout",
     "output_type": "stream",
     "text": [
      "DocId: 463797864 - 질문: None\n",
      "DocId: 463797863 - 질문: None\n",
      "DocId: 463797862 - 질문: None\n"
     ]
    },
    {
     "name": "stderr",
     "output_type": "stream",
     "text": [
      " 85%|████████▍ | 849/1000 [1:30:33<02:09,  1.16it/s]"
     ]
    },
    {
     "name": "stdout",
     "output_type": "stream",
     "text": [
      "DocId: 463797861 - 질문: 머리에 여드름\n",
      "DocId: 463797860 - 질문: None\n",
      "DocId: 463797859 - 질문: None\n"
     ]
    },
    {
     "name": "stderr",
     "output_type": "stream",
     "text": [
      " 85%|████████▌ | 851/1000 [1:30:33<01:33,  1.60it/s]"
     ]
    },
    {
     "name": "stdout",
     "output_type": "stream",
     "text": [
      "DocId: 463797858 - 질문: None\n",
      "DocId: 463797857 - 질문: None\n",
      "DocId: 463797856 - 질문: None\n"
     ]
    },
    {
     "name": "stderr",
     "output_type": "stream",
     "text": [
      " 86%|████████▌ | 856/1000 [1:31:34<15:18,  6.38s/it]"
     ]
    },
    {
     "name": "stdout",
     "output_type": "stream",
     "text": [
      "DocId: 463797853 - 질문: None\n",
      "DocId: 463797852 - 질문: None\n",
      "DocId: 463797851 - 질문: None\n"
     ]
    },
    {
     "name": "stderr",
     "output_type": "stream",
     "text": [
      " 86%|████████▌ | 858/1000 [1:31:35<10:19,  4.36s/it]"
     ]
    },
    {
     "name": "stdout",
     "output_type": "stream",
     "text": [
      "DocId: 463797850 - 질문: 임테기 언제 하는게 좋을까요\n",
      "DocId: 463797849 - 질문: None\n"
     ]
    },
    {
     "name": "stderr",
     "output_type": "stream",
     "text": [
      " 86%|████████▌ | 862/1000 [1:31:35<04:51,  2.11s/it]"
     ]
    },
    {
     "name": "stdout",
     "output_type": "stream",
     "text": [
      "DocId: 463797848 - 질문: 성인 남자친구 생일 선물\n",
      "DocId: 463797847 - 질문: None\n",
      "DocId: 463797846 - 질문: None\n"
     ]
    },
    {
     "name": "stderr",
     "output_type": "stream",
     "text": [
      " 86%|████████▋ | 864/1000 [1:31:35<03:22,  1.49s/it]"
     ]
    },
    {
     "name": "stdout",
     "output_type": "stream",
     "text": [
      "DocId: 463797845 - 질문: None\n",
      "DocId: 463797844 - 질문: None\n",
      "DocId: 463797843 - 질문: None\n"
     ]
    },
    {
     "name": "stderr",
     "output_type": "stream",
     "text": [
      " 87%|████████▋ | 866/1000 [1:31:36<02:21,  1.06s/it]"
     ]
    },
    {
     "name": "stdout",
     "output_type": "stream",
     "text": [
      "DocId: 463797842 - 질문: None\n",
      "DocId: 463797841 - 질문: None\n"
     ]
    },
    {
     "name": "stderr",
     "output_type": "stream",
     "text": [
      " 87%|████████▋ | 870/1000 [1:31:36<01:15,  1.72it/s]"
     ]
    },
    {
     "name": "stdout",
     "output_type": "stream",
     "text": [
      "DocId: 463797840 - 질문: 전산응용건축제도기능사 / 기계제도기능사 자격증 취득\n",
      "DocId: 463797839 - 질문: None\n",
      "DocId: 463797838 - 질문: None\n"
     ]
    },
    {
     "name": "stderr",
     "output_type": "stream",
     "text": [
      " 87%|████████▋ | 873/1000 [1:32:37<17:44,  8.38s/it]"
     ]
    },
    {
     "name": "stdout",
     "output_type": "stream",
     "text": [
      "DocId: 463797835 - 질문: None\n",
      "DocId: 463797834 - 질문: None\n"
     ]
    },
    {
     "name": "stderr",
     "output_type": "stream",
     "text": [
      " 88%|████████▊ | 877/1000 [1:32:37<06:50,  3.33s/it]"
     ]
    },
    {
     "name": "stdout",
     "output_type": "stream",
     "text": [
      "DocId: 463797833 - 질문: None\n",
      "DocId: 463797832 - 질문: None\n",
      "DocId: 463797831 - 질문: None\n"
     ]
    },
    {
     "name": "stderr",
     "output_type": "stream",
     "text": [
      " 88%|████████▊ | 879/1000 [1:32:37<04:30,  2.23s/it]"
     ]
    },
    {
     "name": "stdout",
     "output_type": "stream",
     "text": [
      "DocId: 463797830 - 질문: None\n",
      "DocId: 463797829 - 질문: None\n",
      "DocId: 463797828 - 질문: None\n"
     ]
    },
    {
     "name": "stderr",
     "output_type": "stream",
     "text": [
      " 88%|████████▊ | 881/1000 [1:32:37<03:06,  1.57s/it]"
     ]
    },
    {
     "name": "stdout",
     "output_type": "stream",
     "text": [
      "DocId: 463797827 - 질문: 얇은 팔 질문 (사진 첨부)\n",
      "DocId: 463797826 - 질문: None\n"
     ]
    },
    {
     "name": "stderr",
     "output_type": "stream",
     "text": [
      " 88%|████████▊ | 885/1000 [1:32:38<01:32,  1.25it/s]"
     ]
    },
    {
     "name": "stdout",
     "output_type": "stream",
     "text": [
      "DocId: 463797825 - 질문: 닷모드 닷AIO 미니 코일 질문이요\n",
      "DocId: 463797824 - 질문: None\n",
      "DocId: 463797823 - 질문: None\n"
     ]
    },
    {
     "name": "stderr",
     "output_type": "stream",
     "text": [
      " 89%|████████▊ | 887/1000 [1:32:38<01:05,  1.72it/s]"
     ]
    },
    {
     "name": "stdout",
     "output_type": "stream",
     "text": [
      "DocId: 463797822 - 질문: None\n",
      "DocId: 463797821 - 질문: None\n",
      "DocId: 463797820 - 질문: None\n"
     ]
    },
    {
     "name": "stderr",
     "output_type": "stream",
     "text": [
      " 89%|████████▉ | 893/1000 [1:33:39<08:36,  4.83s/it]"
     ]
    },
    {
     "name": "stdout",
     "output_type": "stream",
     "text": [
      "DocId: 463797817 - 질문: None\n",
      "DocId: 463797816 - 질문: None\n",
      "DocId: 463797815 - 질문: None\n"
     ]
    },
    {
     "name": "stderr",
     "output_type": "stream",
     "text": [
      " 90%|████████▉ | 895/1000 [1:33:39<05:35,  3.19s/it]"
     ]
    },
    {
     "name": "stdout",
     "output_type": "stream",
     "text": [
      "DocId: 463797814 - 질문: None\n",
      "DocId: 463797813 - 질문: None\n",
      "DocId: 463797812 - 질문: None\n"
     ]
    },
    {
     "name": "stderr",
     "output_type": "stream",
     "text": [
      " 90%|████████▉ | 899/1000 [1:33:39<02:30,  1.49s/it]"
     ]
    },
    {
     "name": "stdout",
     "output_type": "stream",
     "text": [
      "DocId: 463797811 - 질문: None\n",
      "DocId: 463797810 - 질문: None\n",
      "DocId: 463797809 - 질문: None\n"
     ]
    },
    {
     "name": "stderr",
     "output_type": "stream",
     "text": [
      " 90%|█████████ | 901/1000 [1:33:39<01:43,  1.05s/it]"
     ]
    },
    {
     "name": "stdout",
     "output_type": "stream",
     "text": [
      "DocId: 463797808 - 질문: None\n",
      "DocId: 463797807 - 질문: None\n",
      "DocId: 463797806 - 질문: None\n"
     ]
    },
    {
     "name": "stderr",
     "output_type": "stream",
     "text": [
      " 90%|█████████ | 905/1000 [1:33:40<00:51,  1.83it/s]"
     ]
    },
    {
     "name": "stdout",
     "output_type": "stream",
     "text": [
      "DocId: 463797805 - 질문: None\n",
      "DocId: 463797804 - 질문: None\n",
      "DocId: 463797803 - 질문: None\n"
     ]
    },
    {
     "name": "stderr",
     "output_type": "stream",
     "text": [
      " 91%|█████████ | 907/1000 [1:33:40<00:37,  2.46it/s]"
     ]
    },
    {
     "name": "stdout",
     "output_type": "stream",
     "text": [
      "DocId: 463797802 - 질문: None\n",
      "DocId: 463797801 - 질문: None\n",
      "DocId: 463797800 - 질문: None\n"
     ]
    },
    {
     "name": "stderr",
     "output_type": "stream",
     "text": [
      " 91%|█████████ | 909/1000 [1:33:40<00:28,  3.22it/s]"
     ]
    },
    {
     "name": "stdout",
     "output_type": "stream",
     "text": [
      "DocId: 463797799 - 질문: None\n"
     ]
    },
    {
     "name": "stderr",
     "output_type": "stream",
     "text": [
      " 92%|█████████▏| 917/1000 [1:36:11<12:25,  8.98s/it]"
     ]
    },
    {
     "name": "stdout",
     "output_type": "stream",
     "text": [
      "DocId: 463797793 - 질문: None\n",
      "DocId: 463797792 - 질문: None\n",
      "DocId: 463797791 - 질문: None\n"
     ]
    },
    {
     "name": "stderr",
     "output_type": "stream",
     "text": [
      " 92%|█████████▏| 919/1000 [1:36:11<07:31,  5.58s/it]"
     ]
    },
    {
     "name": "stdout",
     "output_type": "stream",
     "text": [
      "DocId: 463797790 - 질문: None\n",
      "DocId: 463797789 - 질문: None\n",
      "DocId: 463797788 - 질문: None\n"
     ]
    },
    {
     "name": "stderr",
     "output_type": "stream",
     "text": [
      " 92%|█████████▏| 923/1000 [1:36:11<03:08,  2.45s/it]"
     ]
    },
    {
     "name": "stdout",
     "output_type": "stream",
     "text": [
      "DocId: 463797787 - 질문: None\n",
      "DocId: 463797786 - 질문: None\n",
      "DocId: 463797785 - 질문: None\n"
     ]
    },
    {
     "name": "stderr",
     "output_type": "stream",
     "text": [
      " 92%|█████████▏| 923/1000 [1:36:11<03:08,  2.45s/it]"
     ]
    },
    {
     "name": "stdout",
     "output_type": "stream",
     "text": [
      "DocId: 463797784 - 질문: None\n"
     ]
    },
    {
     "name": "stderr",
     "output_type": "stream",
     "text": [
      " 92%|█████████▎| 925/1000 [1:36:12<02:08,  1.71s/it]"
     ]
    },
    {
     "name": "stdout",
     "output_type": "stream",
     "text": [
      "DocId: 463797783 - 질문: 트레이너 재활 교육기관\n"
     ]
    },
    {
     "name": "stderr",
     "output_type": "stream",
     "text": [
      " 93%|█████████▎| 926/1000 [1:36:12<01:49,  1.47s/it]"
     ]
    },
    {
     "name": "stdout",
     "output_type": "stream",
     "text": [
      "DocId: 463797782 - 질문: 저 그렇게 늙어보여요?\n"
     ]
    },
    {
     "name": "stderr",
     "output_type": "stream",
     "text": [
      " 93%|█████████▎| 929/1000 [1:36:13<00:57,  1.24it/s]"
     ]
    },
    {
     "name": "stdout",
     "output_type": "stream",
     "text": [
      "DocId: 463797781 - 질문: 감기걸리고 검은색 설사\n",
      "DocId: 463797780 - 질문: None\n",
      "DocId: 463797779 - 질문: None\n"
     ]
    },
    {
     "name": "stderr",
     "output_type": "stream",
     "text": [
      " 93%|█████████▎| 929/1000 [1:36:13<00:57,  1.24it/s]"
     ]
    },
    {
     "name": "stdout",
     "output_type": "stream",
     "text": [
      "DocId: 463797778 - 질문: None\n"
     ]
    },
    {
     "name": "stderr",
     "output_type": "stream",
     "text": [
      " 94%|█████████▎| 935/1000 [1:37:43<09:59,  9.22s/it]"
     ]
    },
    {
     "name": "stdout",
     "output_type": "stream",
     "text": [
      "DocId: 463797774 - 질문: None\n",
      "DocId: 463797773 - 질문: None\n",
      "DocId: 463797772 - 질문: None\n"
     ]
    },
    {
     "name": "stderr",
     "output_type": "stream",
     "text": [
      " 94%|█████████▎| 937/1000 [1:37:44<06:15,  5.96s/it]"
     ]
    },
    {
     "name": "stdout",
     "output_type": "stream",
     "text": [
      "DocId: 463797771 - 질문: None\n",
      "DocId: 463797770 - 질문: None\n"
     ]
    },
    {
     "name": "stderr",
     "output_type": "stream",
     "text": [
      " 94%|█████████▍| 941/1000 [1:37:44<02:42,  2.76s/it]"
     ]
    },
    {
     "name": "stdout",
     "output_type": "stream",
     "text": [
      "DocId: 463797769 - 질문: 정보처리기사 자격증 취득 가능 여부\n",
      "DocId: 463797768 - 질문: None\n",
      "DocId: 463797767 - 질문: None\n"
     ]
    },
    {
     "name": "stderr",
     "output_type": "stream",
     "text": [
      " 94%|█████████▍| 943/1000 [1:37:44<01:48,  1.91s/it]"
     ]
    },
    {
     "name": "stdout",
     "output_type": "stream",
     "text": [
      "DocId: 463797766 - 질문: None\n",
      "DocId: 463797765 - 질문: None\n",
      "DocId: 463797764 - 질문: None\n"
     ]
    },
    {
     "name": "stderr",
     "output_type": "stream",
     "text": [
      " 95%|█████████▍| 947/1000 [1:37:45<00:50,  1.05it/s]"
     ]
    },
    {
     "name": "stdout",
     "output_type": "stream",
     "text": [
      "DocId: 463797763 - 질문: None\n",
      "DocId: 463797762 - 질문: None\n",
      "DocId: 463797761 - 질문: None\n"
     ]
    },
    {
     "name": "stderr",
     "output_type": "stream",
     "text": [
      " 95%|█████████▍| 949/1000 [1:37:45<00:35,  1.46it/s]"
     ]
    },
    {
     "name": "stdout",
     "output_type": "stream",
     "text": [
      "DocId: 463797760 - 질문: None\n",
      "DocId: 463797759 - 질문: None\n",
      "DocId: 463797758 - 질문: None\n"
     ]
    },
    {
     "name": "stderr",
     "output_type": "stream",
     "text": [
      " 95%|█████████▌| 951/1000 [1:37:45<00:24,  1.98it/s]"
     ]
    },
    {
     "name": "stdout",
     "output_type": "stream",
     "text": [
      "DocId: 463797757 - 질문: None\n"
     ]
    },
    {
     "name": "stderr",
     "output_type": "stream",
     "text": [
      " 96%|█████████▌| 959/1000 [1:39:46<04:47,  7.00s/it]"
     ]
    },
    {
     "name": "stdout",
     "output_type": "stream",
     "text": [
      "DocId: 463797752 - 질문: None\n",
      "DocId: 463797751 - 질문: None\n",
      "DocId: 463797750 - 질문: None\n",
      "DocId: 463797749 - 질문: None\n"
     ]
    },
    {
     "name": "stderr",
     "output_type": "stream",
     "text": [
      " 96%|█████████▌| 961/1000 [1:39:46<02:59,  4.61s/it]"
     ]
    },
    {
     "name": "stdout",
     "output_type": "stream",
     "text": [
      "DocId: 463797748 - 질문: None\n",
      "DocId: 463797747 - 질문: None\n",
      "DocId: 463797746 - 질문: None\n"
     ]
    },
    {
     "name": "stderr",
     "output_type": "stream",
     "text": [
      " 96%|█████████▋| 963/1000 [1:39:46<01:54,  3.11s/it]"
     ]
    },
    {
     "name": "stdout",
     "output_type": "stream",
     "text": [
      "DocId: 463797745 - 질문: None\n",
      "DocId: 463797744 - 질문: None\n"
     ]
    },
    {
     "name": "stderr",
     "output_type": "stream",
     "text": [
      " 97%|█████████▋| 967/1000 [1:39:46<00:49,  1.50s/it]"
     ]
    },
    {
     "name": "stdout",
     "output_type": "stream",
     "text": [
      "DocId: 463797743 - 질문: 현금영수증 내일 발급\n",
      "DocId: 463797742 - 질문: None\n",
      "DocId: 463797741 - 질문: None\n",
      "DocId: 463797740 - 질문: None\n"
     ]
    },
    {
     "name": "stderr",
     "output_type": "stream",
     "text": [
      " 97%|█████████▋| 969/1000 [1:39:47<00:32,  1.06s/it]"
     ]
    },
    {
     "name": "stdout",
     "output_type": "stream",
     "text": [
      "DocId: 463797739 - 질문: None\n",
      "DocId: 463797738 - 질문: None\n"
     ]
    },
    {
     "name": "stderr",
     "output_type": "stream",
     "text": [
      " 97%|█████████▋| 971/1000 [1:39:47<00:23,  1.25it/s]"
     ]
    },
    {
     "name": "stdout",
     "output_type": "stream",
     "text": [
      "DocId: 463797737 - 질문: 초코우유 알러지\n",
      "DocId: 463797736 - 질문: None\n"
     ]
    },
    {
     "name": "stderr",
     "output_type": "stream",
     "text": [
      " 97%|█████████▋| 974/1000 [1:41:12<02:42,  6.23s/it]\n"
     ]
    },
    {
     "ename": "KeyboardInterrupt",
     "evalue": "",
     "output_type": "error",
     "traceback": [
      "\u001b[0;31m---------------------------------------------------------------------------\u001b[0m",
      "\u001b[0;31mKeyboardInterrupt\u001b[0m                         Traceback (most recent call last)",
      "Cell \u001b[0;32mIn[147], line 21\u001b[0m\n\u001b[1;32m     18\u001b[0m \u001b[38;5;28;01mtry\u001b[39;00m:\n\u001b[1;32m     20\u001b[0m     url \u001b[38;5;241m=\u001b[39m base_url\u001b[38;5;241m.\u001b[39mformat(docId)\n\u001b[0;32m---> 21\u001b[0m     r \u001b[38;5;241m=\u001b[39m \u001b[43mrequests\u001b[49m\u001b[38;5;241;43m.\u001b[39;49m\u001b[43mget\u001b[49m\u001b[43m(\u001b[49m\u001b[43murl\u001b[49m\u001b[43m,\u001b[49m\u001b[43m \u001b[49m\u001b[43mheaders\u001b[49m\u001b[38;5;241;43m=\u001b[39;49m\u001b[43mhead\u001b[49m\u001b[43m)\u001b[49m\n\u001b[1;32m     22\u001b[0m     r\u001b[38;5;241m.\u001b[39mraise_for_status()  \n\u001b[1;32m     23\u001b[0m     bs \u001b[38;5;241m=\u001b[39m BeautifulSoup(r\u001b[38;5;241m.\u001b[39mtext, \u001b[38;5;124m'\u001b[39m\u001b[38;5;124mhtml.parser\u001b[39m\u001b[38;5;124m'\u001b[39m)\n",
      "File \u001b[0;32m~/프로그래머스_python/.venv/lib/python3.11/site-packages/requests/api.py:73\u001b[0m, in \u001b[0;36mget\u001b[0;34m(url, params, **kwargs)\u001b[0m\n\u001b[1;32m     62\u001b[0m \u001b[38;5;28;01mdef\u001b[39;00m \u001b[38;5;21mget\u001b[39m(url, params\u001b[38;5;241m=\u001b[39m\u001b[38;5;28;01mNone\u001b[39;00m, \u001b[38;5;241m*\u001b[39m\u001b[38;5;241m*\u001b[39mkwargs):\n\u001b[1;32m     63\u001b[0m \u001b[38;5;250m    \u001b[39m\u001b[38;5;124mr\u001b[39m\u001b[38;5;124;03m\"\"\"Sends a GET request.\u001b[39;00m\n\u001b[1;32m     64\u001b[0m \n\u001b[1;32m     65\u001b[0m \u001b[38;5;124;03m    :param url: URL for the new :class:`Request` object.\u001b[39;00m\n\u001b[0;32m   (...)\u001b[0m\n\u001b[1;32m     70\u001b[0m \u001b[38;5;124;03m    :rtype: requests.Response\u001b[39;00m\n\u001b[1;32m     71\u001b[0m \u001b[38;5;124;03m    \"\"\"\u001b[39;00m\n\u001b[0;32m---> 73\u001b[0m     \u001b[38;5;28;01mreturn\u001b[39;00m \u001b[43mrequest\u001b[49m\u001b[43m(\u001b[49m\u001b[38;5;124;43m\"\u001b[39;49m\u001b[38;5;124;43mget\u001b[39;49m\u001b[38;5;124;43m\"\u001b[39;49m\u001b[43m,\u001b[49m\u001b[43m \u001b[49m\u001b[43murl\u001b[49m\u001b[43m,\u001b[49m\u001b[43m \u001b[49m\u001b[43mparams\u001b[49m\u001b[38;5;241;43m=\u001b[39;49m\u001b[43mparams\u001b[49m\u001b[43m,\u001b[49m\u001b[43m \u001b[49m\u001b[38;5;241;43m*\u001b[39;49m\u001b[38;5;241;43m*\u001b[39;49m\u001b[43mkwargs\u001b[49m\u001b[43m)\u001b[49m\n",
      "File \u001b[0;32m~/프로그래머스_python/.venv/lib/python3.11/site-packages/requests/api.py:59\u001b[0m, in \u001b[0;36mrequest\u001b[0;34m(method, url, **kwargs)\u001b[0m\n\u001b[1;32m     55\u001b[0m \u001b[38;5;66;03m# By using the 'with' statement we are sure the session is closed, thus we\u001b[39;00m\n\u001b[1;32m     56\u001b[0m \u001b[38;5;66;03m# avoid leaving sockets open which can trigger a ResourceWarning in some\u001b[39;00m\n\u001b[1;32m     57\u001b[0m \u001b[38;5;66;03m# cases, and look like a memory leak in others.\u001b[39;00m\n\u001b[1;32m     58\u001b[0m \u001b[38;5;28;01mwith\u001b[39;00m sessions\u001b[38;5;241m.\u001b[39mSession() \u001b[38;5;28;01mas\u001b[39;00m session:\n\u001b[0;32m---> 59\u001b[0m     \u001b[38;5;28;01mreturn\u001b[39;00m \u001b[43msession\u001b[49m\u001b[38;5;241;43m.\u001b[39;49m\u001b[43mrequest\u001b[49m\u001b[43m(\u001b[49m\u001b[43mmethod\u001b[49m\u001b[38;5;241;43m=\u001b[39;49m\u001b[43mmethod\u001b[49m\u001b[43m,\u001b[49m\u001b[43m \u001b[49m\u001b[43murl\u001b[49m\u001b[38;5;241;43m=\u001b[39;49m\u001b[43murl\u001b[49m\u001b[43m,\u001b[49m\u001b[43m \u001b[49m\u001b[38;5;241;43m*\u001b[39;49m\u001b[38;5;241;43m*\u001b[39;49m\u001b[43mkwargs\u001b[49m\u001b[43m)\u001b[49m\n",
      "File \u001b[0;32m~/프로그래머스_python/.venv/lib/python3.11/site-packages/requests/sessions.py:589\u001b[0m, in \u001b[0;36mSession.request\u001b[0;34m(self, method, url, params, data, headers, cookies, files, auth, timeout, allow_redirects, proxies, hooks, stream, verify, cert, json)\u001b[0m\n\u001b[1;32m    584\u001b[0m send_kwargs \u001b[38;5;241m=\u001b[39m {\n\u001b[1;32m    585\u001b[0m     \u001b[38;5;124m\"\u001b[39m\u001b[38;5;124mtimeout\u001b[39m\u001b[38;5;124m\"\u001b[39m: timeout,\n\u001b[1;32m    586\u001b[0m     \u001b[38;5;124m\"\u001b[39m\u001b[38;5;124mallow_redirects\u001b[39m\u001b[38;5;124m\"\u001b[39m: allow_redirects,\n\u001b[1;32m    587\u001b[0m }\n\u001b[1;32m    588\u001b[0m send_kwargs\u001b[38;5;241m.\u001b[39mupdate(settings)\n\u001b[0;32m--> 589\u001b[0m resp \u001b[38;5;241m=\u001b[39m \u001b[38;5;28;43mself\u001b[39;49m\u001b[38;5;241;43m.\u001b[39;49m\u001b[43msend\u001b[49m\u001b[43m(\u001b[49m\u001b[43mprep\u001b[49m\u001b[43m,\u001b[49m\u001b[43m \u001b[49m\u001b[38;5;241;43m*\u001b[39;49m\u001b[38;5;241;43m*\u001b[39;49m\u001b[43msend_kwargs\u001b[49m\u001b[43m)\u001b[49m\n\u001b[1;32m    591\u001b[0m \u001b[38;5;28;01mreturn\u001b[39;00m resp\n",
      "File \u001b[0;32m~/프로그래머스_python/.venv/lib/python3.11/site-packages/requests/sessions.py:703\u001b[0m, in \u001b[0;36mSession.send\u001b[0;34m(self, request, **kwargs)\u001b[0m\n\u001b[1;32m    700\u001b[0m start \u001b[38;5;241m=\u001b[39m preferred_clock()\n\u001b[1;32m    702\u001b[0m \u001b[38;5;66;03m# Send the request\u001b[39;00m\n\u001b[0;32m--> 703\u001b[0m r \u001b[38;5;241m=\u001b[39m \u001b[43madapter\u001b[49m\u001b[38;5;241;43m.\u001b[39;49m\u001b[43msend\u001b[49m\u001b[43m(\u001b[49m\u001b[43mrequest\u001b[49m\u001b[43m,\u001b[49m\u001b[43m \u001b[49m\u001b[38;5;241;43m*\u001b[39;49m\u001b[38;5;241;43m*\u001b[39;49m\u001b[43mkwargs\u001b[49m\u001b[43m)\u001b[49m\n\u001b[1;32m    705\u001b[0m \u001b[38;5;66;03m# Total elapsed time of the request (approximately)\u001b[39;00m\n\u001b[1;32m    706\u001b[0m elapsed \u001b[38;5;241m=\u001b[39m preferred_clock() \u001b[38;5;241m-\u001b[39m start\n",
      "File \u001b[0;32m~/프로그래머스_python/.venv/lib/python3.11/site-packages/requests/adapters.py:486\u001b[0m, in \u001b[0;36mHTTPAdapter.send\u001b[0;34m(self, request, stream, timeout, verify, cert, proxies)\u001b[0m\n\u001b[1;32m    483\u001b[0m     timeout \u001b[38;5;241m=\u001b[39m TimeoutSauce(connect\u001b[38;5;241m=\u001b[39mtimeout, read\u001b[38;5;241m=\u001b[39mtimeout)\n\u001b[1;32m    485\u001b[0m \u001b[38;5;28;01mtry\u001b[39;00m:\n\u001b[0;32m--> 486\u001b[0m     resp \u001b[38;5;241m=\u001b[39m \u001b[43mconn\u001b[49m\u001b[38;5;241;43m.\u001b[39;49m\u001b[43murlopen\u001b[49m\u001b[43m(\u001b[49m\n\u001b[1;32m    487\u001b[0m \u001b[43m        \u001b[49m\u001b[43mmethod\u001b[49m\u001b[38;5;241;43m=\u001b[39;49m\u001b[43mrequest\u001b[49m\u001b[38;5;241;43m.\u001b[39;49m\u001b[43mmethod\u001b[49m\u001b[43m,\u001b[49m\n\u001b[1;32m    488\u001b[0m \u001b[43m        \u001b[49m\u001b[43murl\u001b[49m\u001b[38;5;241;43m=\u001b[39;49m\u001b[43murl\u001b[49m\u001b[43m,\u001b[49m\n\u001b[1;32m    489\u001b[0m \u001b[43m        \u001b[49m\u001b[43mbody\u001b[49m\u001b[38;5;241;43m=\u001b[39;49m\u001b[43mrequest\u001b[49m\u001b[38;5;241;43m.\u001b[39;49m\u001b[43mbody\u001b[49m\u001b[43m,\u001b[49m\n\u001b[1;32m    490\u001b[0m \u001b[43m        \u001b[49m\u001b[43mheaders\u001b[49m\u001b[38;5;241;43m=\u001b[39;49m\u001b[43mrequest\u001b[49m\u001b[38;5;241;43m.\u001b[39;49m\u001b[43mheaders\u001b[49m\u001b[43m,\u001b[49m\n\u001b[1;32m    491\u001b[0m \u001b[43m        \u001b[49m\u001b[43mredirect\u001b[49m\u001b[38;5;241;43m=\u001b[39;49m\u001b[38;5;28;43;01mFalse\u001b[39;49;00m\u001b[43m,\u001b[49m\n\u001b[1;32m    492\u001b[0m \u001b[43m        \u001b[49m\u001b[43massert_same_host\u001b[49m\u001b[38;5;241;43m=\u001b[39;49m\u001b[38;5;28;43;01mFalse\u001b[39;49;00m\u001b[43m,\u001b[49m\n\u001b[1;32m    493\u001b[0m \u001b[43m        \u001b[49m\u001b[43mpreload_content\u001b[49m\u001b[38;5;241;43m=\u001b[39;49m\u001b[38;5;28;43;01mFalse\u001b[39;49;00m\u001b[43m,\u001b[49m\n\u001b[1;32m    494\u001b[0m \u001b[43m        \u001b[49m\u001b[43mdecode_content\u001b[49m\u001b[38;5;241;43m=\u001b[39;49m\u001b[38;5;28;43;01mFalse\u001b[39;49;00m\u001b[43m,\u001b[49m\n\u001b[1;32m    495\u001b[0m \u001b[43m        \u001b[49m\u001b[43mretries\u001b[49m\u001b[38;5;241;43m=\u001b[39;49m\u001b[38;5;28;43mself\u001b[39;49m\u001b[38;5;241;43m.\u001b[39;49m\u001b[43mmax_retries\u001b[49m\u001b[43m,\u001b[49m\n\u001b[1;32m    496\u001b[0m \u001b[43m        \u001b[49m\u001b[43mtimeout\u001b[49m\u001b[38;5;241;43m=\u001b[39;49m\u001b[43mtimeout\u001b[49m\u001b[43m,\u001b[49m\n\u001b[1;32m    497\u001b[0m \u001b[43m        \u001b[49m\u001b[43mchunked\u001b[49m\u001b[38;5;241;43m=\u001b[39;49m\u001b[43mchunked\u001b[49m\u001b[43m,\u001b[49m\n\u001b[1;32m    498\u001b[0m \u001b[43m    \u001b[49m\u001b[43m)\u001b[49m\n\u001b[1;32m    500\u001b[0m \u001b[38;5;28;01mexcept\u001b[39;00m (ProtocolError, \u001b[38;5;167;01mOSError\u001b[39;00m) \u001b[38;5;28;01mas\u001b[39;00m err:\n\u001b[1;32m    501\u001b[0m     \u001b[38;5;28;01mraise\u001b[39;00m \u001b[38;5;167;01mConnectionError\u001b[39;00m(err, request\u001b[38;5;241m=\u001b[39mrequest)\n",
      "File \u001b[0;32m~/프로그래머스_python/.venv/lib/python3.11/site-packages/urllib3/connectionpool.py:793\u001b[0m, in \u001b[0;36mHTTPConnectionPool.urlopen\u001b[0;34m(self, method, url, body, headers, retries, redirect, assert_same_host, timeout, pool_timeout, release_conn, chunked, body_pos, preload_content, decode_content, **response_kw)\u001b[0m\n\u001b[1;32m    790\u001b[0m response_conn \u001b[38;5;241m=\u001b[39m conn \u001b[38;5;28;01mif\u001b[39;00m \u001b[38;5;129;01mnot\u001b[39;00m release_conn \u001b[38;5;28;01melse\u001b[39;00m \u001b[38;5;28;01mNone\u001b[39;00m\n\u001b[1;32m    792\u001b[0m \u001b[38;5;66;03m# Make the request on the HTTPConnection object\u001b[39;00m\n\u001b[0;32m--> 793\u001b[0m response \u001b[38;5;241m=\u001b[39m \u001b[38;5;28;43mself\u001b[39;49m\u001b[38;5;241;43m.\u001b[39;49m\u001b[43m_make_request\u001b[49m\u001b[43m(\u001b[49m\n\u001b[1;32m    794\u001b[0m \u001b[43m    \u001b[49m\u001b[43mconn\u001b[49m\u001b[43m,\u001b[49m\n\u001b[1;32m    795\u001b[0m \u001b[43m    \u001b[49m\u001b[43mmethod\u001b[49m\u001b[43m,\u001b[49m\n\u001b[1;32m    796\u001b[0m \u001b[43m    \u001b[49m\u001b[43murl\u001b[49m\u001b[43m,\u001b[49m\n\u001b[1;32m    797\u001b[0m \u001b[43m    \u001b[49m\u001b[43mtimeout\u001b[49m\u001b[38;5;241;43m=\u001b[39;49m\u001b[43mtimeout_obj\u001b[49m\u001b[43m,\u001b[49m\n\u001b[1;32m    798\u001b[0m \u001b[43m    \u001b[49m\u001b[43mbody\u001b[49m\u001b[38;5;241;43m=\u001b[39;49m\u001b[43mbody\u001b[49m\u001b[43m,\u001b[49m\n\u001b[1;32m    799\u001b[0m \u001b[43m    \u001b[49m\u001b[43mheaders\u001b[49m\u001b[38;5;241;43m=\u001b[39;49m\u001b[43mheaders\u001b[49m\u001b[43m,\u001b[49m\n\u001b[1;32m    800\u001b[0m \u001b[43m    \u001b[49m\u001b[43mchunked\u001b[49m\u001b[38;5;241;43m=\u001b[39;49m\u001b[43mchunked\u001b[49m\u001b[43m,\u001b[49m\n\u001b[1;32m    801\u001b[0m \u001b[43m    \u001b[49m\u001b[43mretries\u001b[49m\u001b[38;5;241;43m=\u001b[39;49m\u001b[43mretries\u001b[49m\u001b[43m,\u001b[49m\n\u001b[1;32m    802\u001b[0m \u001b[43m    \u001b[49m\u001b[43mresponse_conn\u001b[49m\u001b[38;5;241;43m=\u001b[39;49m\u001b[43mresponse_conn\u001b[49m\u001b[43m,\u001b[49m\n\u001b[1;32m    803\u001b[0m \u001b[43m    \u001b[49m\u001b[43mpreload_content\u001b[49m\u001b[38;5;241;43m=\u001b[39;49m\u001b[43mpreload_content\u001b[49m\u001b[43m,\u001b[49m\n\u001b[1;32m    804\u001b[0m \u001b[43m    \u001b[49m\u001b[43mdecode_content\u001b[49m\u001b[38;5;241;43m=\u001b[39;49m\u001b[43mdecode_content\u001b[49m\u001b[43m,\u001b[49m\n\u001b[1;32m    805\u001b[0m \u001b[43m    \u001b[49m\u001b[38;5;241;43m*\u001b[39;49m\u001b[38;5;241;43m*\u001b[39;49m\u001b[43mresponse_kw\u001b[49m\u001b[43m,\u001b[49m\n\u001b[1;32m    806\u001b[0m \u001b[43m\u001b[49m\u001b[43m)\u001b[49m\n\u001b[1;32m    808\u001b[0m \u001b[38;5;66;03m# Everything went great!\u001b[39;00m\n\u001b[1;32m    809\u001b[0m clean_exit \u001b[38;5;241m=\u001b[39m \u001b[38;5;28;01mTrue\u001b[39;00m\n",
      "File \u001b[0;32m~/프로그래머스_python/.venv/lib/python3.11/site-packages/urllib3/connectionpool.py:537\u001b[0m, in \u001b[0;36mHTTPConnectionPool._make_request\u001b[0;34m(self, conn, method, url, body, headers, retries, timeout, chunked, response_conn, preload_content, decode_content, enforce_content_length)\u001b[0m\n\u001b[1;32m    535\u001b[0m \u001b[38;5;66;03m# Receive the response from the server\u001b[39;00m\n\u001b[1;32m    536\u001b[0m \u001b[38;5;28;01mtry\u001b[39;00m:\n\u001b[0;32m--> 537\u001b[0m     response \u001b[38;5;241m=\u001b[39m \u001b[43mconn\u001b[49m\u001b[38;5;241;43m.\u001b[39;49m\u001b[43mgetresponse\u001b[49m\u001b[43m(\u001b[49m\u001b[43m)\u001b[49m\n\u001b[1;32m    538\u001b[0m \u001b[38;5;28;01mexcept\u001b[39;00m (BaseSSLError, \u001b[38;5;167;01mOSError\u001b[39;00m) \u001b[38;5;28;01mas\u001b[39;00m e:\n\u001b[1;32m    539\u001b[0m     \u001b[38;5;28mself\u001b[39m\u001b[38;5;241m.\u001b[39m_raise_timeout(err\u001b[38;5;241m=\u001b[39me, url\u001b[38;5;241m=\u001b[39murl, timeout_value\u001b[38;5;241m=\u001b[39mread_timeout)\n",
      "File \u001b[0;32m~/프로그래머스_python/.venv/lib/python3.11/site-packages/urllib3/connection.py:466\u001b[0m, in \u001b[0;36mHTTPConnection.getresponse\u001b[0;34m(self)\u001b[0m\n\u001b[1;32m    463\u001b[0m \u001b[38;5;28;01mfrom\u001b[39;00m \u001b[38;5;21;01m.\u001b[39;00m\u001b[38;5;21;01mresponse\u001b[39;00m \u001b[38;5;28;01mimport\u001b[39;00m HTTPResponse\n\u001b[1;32m    465\u001b[0m \u001b[38;5;66;03m# Get the response from http.client.HTTPConnection\u001b[39;00m\n\u001b[0;32m--> 466\u001b[0m httplib_response \u001b[38;5;241m=\u001b[39m \u001b[38;5;28;43msuper\u001b[39;49m\u001b[43m(\u001b[49m\u001b[43m)\u001b[49m\u001b[38;5;241;43m.\u001b[39;49m\u001b[43mgetresponse\u001b[49m\u001b[43m(\u001b[49m\u001b[43m)\u001b[49m\n\u001b[1;32m    468\u001b[0m \u001b[38;5;28;01mtry\u001b[39;00m:\n\u001b[1;32m    469\u001b[0m     assert_header_parsing(httplib_response\u001b[38;5;241m.\u001b[39mmsg)\n",
      "File \u001b[0;32m/opt/homebrew/Cellar/python@3.11/3.11.7_1/Frameworks/Python.framework/Versions/3.11/lib/python3.11/http/client.py:1386\u001b[0m, in \u001b[0;36mHTTPConnection.getresponse\u001b[0;34m(self)\u001b[0m\n\u001b[1;32m   1384\u001b[0m \u001b[38;5;28;01mtry\u001b[39;00m:\n\u001b[1;32m   1385\u001b[0m     \u001b[38;5;28;01mtry\u001b[39;00m:\n\u001b[0;32m-> 1386\u001b[0m         \u001b[43mresponse\u001b[49m\u001b[38;5;241;43m.\u001b[39;49m\u001b[43mbegin\u001b[49m\u001b[43m(\u001b[49m\u001b[43m)\u001b[49m\n\u001b[1;32m   1387\u001b[0m     \u001b[38;5;28;01mexcept\u001b[39;00m \u001b[38;5;167;01mConnectionError\u001b[39;00m:\n\u001b[1;32m   1388\u001b[0m         \u001b[38;5;28mself\u001b[39m\u001b[38;5;241m.\u001b[39mclose()\n",
      "File \u001b[0;32m/opt/homebrew/Cellar/python@3.11/3.11.7_1/Frameworks/Python.framework/Versions/3.11/lib/python3.11/http/client.py:325\u001b[0m, in \u001b[0;36mHTTPResponse.begin\u001b[0;34m(self)\u001b[0m\n\u001b[1;32m    323\u001b[0m \u001b[38;5;66;03m# read until we get a non-100 response\u001b[39;00m\n\u001b[1;32m    324\u001b[0m \u001b[38;5;28;01mwhile\u001b[39;00m \u001b[38;5;28;01mTrue\u001b[39;00m:\n\u001b[0;32m--> 325\u001b[0m     version, status, reason \u001b[38;5;241m=\u001b[39m \u001b[38;5;28;43mself\u001b[39;49m\u001b[38;5;241;43m.\u001b[39;49m\u001b[43m_read_status\u001b[49m\u001b[43m(\u001b[49m\u001b[43m)\u001b[49m\n\u001b[1;32m    326\u001b[0m     \u001b[38;5;28;01mif\u001b[39;00m status \u001b[38;5;241m!=\u001b[39m CONTINUE:\n\u001b[1;32m    327\u001b[0m         \u001b[38;5;28;01mbreak\u001b[39;00m\n",
      "File \u001b[0;32m/opt/homebrew/Cellar/python@3.11/3.11.7_1/Frameworks/Python.framework/Versions/3.11/lib/python3.11/http/client.py:286\u001b[0m, in \u001b[0;36mHTTPResponse._read_status\u001b[0;34m(self)\u001b[0m\n\u001b[1;32m    285\u001b[0m \u001b[38;5;28;01mdef\u001b[39;00m \u001b[38;5;21m_read_status\u001b[39m(\u001b[38;5;28mself\u001b[39m):\n\u001b[0;32m--> 286\u001b[0m     line \u001b[38;5;241m=\u001b[39m \u001b[38;5;28mstr\u001b[39m(\u001b[38;5;28mself\u001b[39m\u001b[38;5;241m.\u001b[39mfp\u001b[38;5;241m.\u001b[39mreadline(_MAXLINE \u001b[38;5;241m+\u001b[39m \u001b[38;5;241m1\u001b[39m), \u001b[38;5;124m\"\u001b[39m\u001b[38;5;124miso-8859-1\u001b[39m\u001b[38;5;124m\"\u001b[39m)\n\u001b[1;32m    287\u001b[0m     \u001b[38;5;28;01mif\u001b[39;00m \u001b[38;5;28mlen\u001b[39m(line) \u001b[38;5;241m>\u001b[39m _MAXLINE:\n\u001b[1;32m    288\u001b[0m         \u001b[38;5;28;01mraise\u001b[39;00m LineTooLong(\u001b[38;5;124m\"\u001b[39m\u001b[38;5;124mstatus line\u001b[39m\u001b[38;5;124m\"\u001b[39m)\n",
      "File \u001b[0;32m/opt/homebrew/Cellar/python@3.11/3.11.7_1/Frameworks/Python.framework/Versions/3.11/lib/python3.11/socket.py:706\u001b[0m, in \u001b[0;36mSocketIO.readinto\u001b[0;34m(self, b)\u001b[0m\n\u001b[1;32m    704\u001b[0m \u001b[38;5;28;01mwhile\u001b[39;00m \u001b[38;5;28;01mTrue\u001b[39;00m:\n\u001b[1;32m    705\u001b[0m     \u001b[38;5;28;01mtry\u001b[39;00m:\n\u001b[0;32m--> 706\u001b[0m         \u001b[38;5;28;01mreturn\u001b[39;00m \u001b[38;5;28;43mself\u001b[39;49m\u001b[38;5;241;43m.\u001b[39;49m\u001b[43m_sock\u001b[49m\u001b[38;5;241;43m.\u001b[39;49m\u001b[43mrecv_into\u001b[49m\u001b[43m(\u001b[49m\u001b[43mb\u001b[49m\u001b[43m)\u001b[49m\n\u001b[1;32m    707\u001b[0m     \u001b[38;5;28;01mexcept\u001b[39;00m timeout:\n\u001b[1;32m    708\u001b[0m         \u001b[38;5;28mself\u001b[39m\u001b[38;5;241m.\u001b[39m_timeout_occurred \u001b[38;5;241m=\u001b[39m \u001b[38;5;28;01mTrue\u001b[39;00m\n",
      "File \u001b[0;32m/opt/homebrew/Cellar/python@3.11/3.11.7_1/Frameworks/Python.framework/Versions/3.11/lib/python3.11/ssl.py:1315\u001b[0m, in \u001b[0;36mSSLSocket.recv_into\u001b[0;34m(self, buffer, nbytes, flags)\u001b[0m\n\u001b[1;32m   1311\u001b[0m     \u001b[38;5;28;01mif\u001b[39;00m flags \u001b[38;5;241m!=\u001b[39m \u001b[38;5;241m0\u001b[39m:\n\u001b[1;32m   1312\u001b[0m         \u001b[38;5;28;01mraise\u001b[39;00m \u001b[38;5;167;01mValueError\u001b[39;00m(\n\u001b[1;32m   1313\u001b[0m           \u001b[38;5;124m\"\u001b[39m\u001b[38;5;124mnon-zero flags not allowed in calls to recv_into() on \u001b[39m\u001b[38;5;132;01m%s\u001b[39;00m\u001b[38;5;124m\"\u001b[39m \u001b[38;5;241m%\u001b[39m\n\u001b[1;32m   1314\u001b[0m           \u001b[38;5;28mself\u001b[39m\u001b[38;5;241m.\u001b[39m\u001b[38;5;18m__class__\u001b[39m)\n\u001b[0;32m-> 1315\u001b[0m     \u001b[38;5;28;01mreturn\u001b[39;00m \u001b[38;5;28;43mself\u001b[39;49m\u001b[38;5;241;43m.\u001b[39;49m\u001b[43mread\u001b[49m\u001b[43m(\u001b[49m\u001b[43mnbytes\u001b[49m\u001b[43m,\u001b[49m\u001b[43m \u001b[49m\u001b[43mbuffer\u001b[49m\u001b[43m)\u001b[49m\n\u001b[1;32m   1316\u001b[0m \u001b[38;5;28;01melse\u001b[39;00m:\n\u001b[1;32m   1317\u001b[0m     \u001b[38;5;28;01mreturn\u001b[39;00m \u001b[38;5;28msuper\u001b[39m()\u001b[38;5;241m.\u001b[39mrecv_into(buffer, nbytes, flags)\n",
      "File \u001b[0;32m/opt/homebrew/Cellar/python@3.11/3.11.7_1/Frameworks/Python.framework/Versions/3.11/lib/python3.11/ssl.py:1167\u001b[0m, in \u001b[0;36mSSLSocket.read\u001b[0;34m(self, len, buffer)\u001b[0m\n\u001b[1;32m   1165\u001b[0m \u001b[38;5;28;01mtry\u001b[39;00m:\n\u001b[1;32m   1166\u001b[0m     \u001b[38;5;28;01mif\u001b[39;00m buffer \u001b[38;5;129;01mis\u001b[39;00m \u001b[38;5;129;01mnot\u001b[39;00m \u001b[38;5;28;01mNone\u001b[39;00m:\n\u001b[0;32m-> 1167\u001b[0m         \u001b[38;5;28;01mreturn\u001b[39;00m \u001b[38;5;28;43mself\u001b[39;49m\u001b[38;5;241;43m.\u001b[39;49m\u001b[43m_sslobj\u001b[49m\u001b[38;5;241;43m.\u001b[39;49m\u001b[43mread\u001b[49m\u001b[43m(\u001b[49m\u001b[38;5;28;43mlen\u001b[39;49m\u001b[43m,\u001b[49m\u001b[43m \u001b[49m\u001b[43mbuffer\u001b[49m\u001b[43m)\u001b[49m\n\u001b[1;32m   1168\u001b[0m     \u001b[38;5;28;01melse\u001b[39;00m:\n\u001b[1;32m   1169\u001b[0m         \u001b[38;5;28;01mreturn\u001b[39;00m \u001b[38;5;28mself\u001b[39m\u001b[38;5;241m.\u001b[39m_sslobj\u001b[38;5;241m.\u001b[39mread(\u001b[38;5;28mlen\u001b[39m)\n",
      "\u001b[0;31mKeyboardInterrupt\u001b[0m: "
     ]
    }
   ],
   "source": [
    "import requests\n",
    "from bs4 import BeautifulSoup\n",
    "import pandas as pd\n",
    "from tqdm import tqdm\n",
    "# 데이터를 저장할 빈 리스트 생성\n",
    "title_list = []\n",
    "question_list = []\n",
    "answer_list = []\n",
    "# URL 및 헤더 설정\n",
    "base_url = 'https://kin.naver.com/qna/detail.naver?d1id=7&dirId=70201&docId={}'\n",
    "\n",
    "head = {\n",
    "    'User-Agent': \"Mozilla/5.0 (Macintosh; Intel Mac OS X 10_15_7) AppleWebKit/537.36 (KHTML, like Gecko) Chrome/121.0.0.0 Safari/537.36\"\n",
    "}\n",
    "\n",
    "docId = 463798709\n",
    "for _ in tqdm(range(1000)):\n",
    "    try:\n",
    "\n",
    "        url = base_url.format(docId)\n",
    "        r = requests.get(url, headers=head)\n",
    "        r.raise_for_status()  \n",
    "        bs = BeautifulSoup(r.text, 'html.parser')\n",
    "        \n",
    "\n",
    "        title_data = bs.select('.title') # 질문제목\n",
    "        if title_data:\n",
    "            title = title_data[0].text.strip()\n",
    "        else:\n",
    "            title = None\n",
    "        \n",
    "        question_data = bs.select('.c-heading__content') # 질문 내용\n",
    "        if question_data:\n",
    "            question = question_data[0].text.strip()\n",
    "        else:\n",
    "            question = None\n",
    "        \n",
    "        answer_data = bs.select('.se-main-container') # 답변\n",
    "        if answer_data:\n",
    "            answer = answer_data[0].text.strip()\n",
    "        else:\n",
    "            answer = None\n",
    "\n",
    "        title_list.append(title)\n",
    "        question_list.append(question)\n",
    "        answer_list.append(answer)\n",
    "\n",
    "        docId -= 1\n",
    "\n",
    "        tqdm.write(f\"DocId: {docId-1} - 질문: {title}\")\n",
    "    except requests.exceptions.HTTPError:\n",
    "\n",
    "        docId -= 1\n",
    "\n",
    "\n",
    "data = {'title': title_list, 'question': question_list, 'answer': answer_list}\n",
    "df = pd.DataFrame(data)\n",
    "\n",
    "print(df)"
   ]
  },
  {
   "cell_type": "code",
   "execution_count": 116,
   "metadata": {},
   "outputs": [
    {
     "data": {
      "text/plain": [
       "array(['턱에서 뚝소리', None, '내남결 원작소설', '시멘트위로 넘어진지 3달째', '쌍수 풀린건가요?',\n",
       "       '쌍액했는데 다래끼가 났어요', '임산부 임당검사 결과 질문', '사레 참으면'], dtype=object)"
      ]
     },
     "execution_count": 116,
     "metadata": {},
     "output_type": "execute_result"
    }
   ],
   "source": [
    "df['title'].unique()"
   ]
  },
  {
   "cell_type": "code",
   "execution_count": null,
   "metadata": {},
   "outputs": [],
   "source": []
  }
 ],
 "metadata": {
  "kernelspec": {
   "display_name": ".venv",
   "language": "python",
   "name": "python3"
  },
  "language_info": {
   "codemirror_mode": {
    "name": "ipython",
    "version": 3
   },
   "file_extension": ".py",
   "mimetype": "text/x-python",
   "name": "python",
   "nbconvert_exporter": "python",
   "pygments_lexer": "ipython3",
   "version": "3.11.7"
  }
 },
 "nbformat": 4,
 "nbformat_minor": 2
}
