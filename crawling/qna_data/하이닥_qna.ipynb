{
 "cells": [
  {
   "cell_type": "markdown",
   "metadata": {},
   "source": [
    "## 질문답 링크에 기반 질문 답변 크롤링"
   ]
  },
  {
   "cell_type": "markdown",
   "metadata": {},
   "source": [
    "### 이 외에 가져오면 좋을 정보들 \n",
    "1. 의사 이름\n",
    "2. 의사 사진 \n",
    "3. 작성일 날짜 \n",
    "4. 답변 수 \n",
    "5. 추천 수"
   ]
  },
  {
   "cell_type": "code",
   "execution_count": 6,
   "metadata": {},
   "outputs": [
    {
     "name": "stderr",
     "output_type": "stream",
     "text": [
      "/var/folders/xt/nrdqgvqd1jv0kcb4nmwtdsxm0000gn/T/ipykernel_28397/303380036.py:5: DeprecationWarning: \n",
      "Pyarrow will become a required dependency of pandas in the next major release of pandas (pandas 3.0),\n",
      "(to allow more performant data types, such as the Arrow string type, and better interoperability with other libraries)\n",
      "but was not found to be installed on your system.\n",
      "If this would cause problems for you,\n",
      "please provide us feedback at https://github.com/pandas-dev/pandas/issues/54466\n",
      "        \n",
      "  import pandas as pd\n"
     ]
    }
   ],
   "source": [
    "import requests\n",
    "from bs4 import BeautifulSoup\n",
    "import re\n",
    "import random\n",
    "import pandas as pd\n",
    "import time\n",
    "from tqdm import tqdm         "
   ]
  },
  {
   "cell_type": "code",
   "execution_count": 7,
   "metadata": {},
   "outputs": [],
   "source": [
    "head = { 'User-Agent': \n",
    "        \"Mozilla/5.0 (Macintosh; Intel Mac OS X 10_15_7) AppleWebKit/537.36 (KHTML, like Gecko) Chrome/121.0.0.0 Safari/537.36\"}\n",
    "\n",
    "url = \"https://mobile.hidoc.co.kr/healthqna/part/view/C0000526459\"\n"
   ]
  },
  {
   "cell_type": "code",
   "execution_count": 1,
   "metadata": {},
   "outputs": [],
   "source": [
    "import json\n",
    "\n",
    "with open('./hidak_links.json', 'r') as f:\n",
    "    links_list = json.load(f)\n"
   ]
  },
  {
   "cell_type": "code",
   "execution_count": 3,
   "metadata": {},
   "outputs": [
    {
     "data": {
      "text/plain": [
       "'view/C0000526459'"
      ]
     },
     "execution_count": 3,
     "metadata": {},
     "output_type": "execute_result"
    }
   ],
   "source": [
    "links_list['소아청소년과'][0]"
   ]
  },
  {
   "cell_type": "markdown",
   "metadata": {},
   "source": []
  },
  {
   "cell_type": "code",
   "execution_count": 8,
   "metadata": {},
   "outputs": [],
   "source": [
    "r = requests.get(url, headers=head)\n",
    "bs = BeautifulSoup(r.text)"
   ]
  },
  {
   "cell_type": "markdown",
   "metadata": {},
   "source": [
    "#### 작성일 날짜"
   ]
  },
  {
   "cell_type": "code",
   "execution_count": 9,
   "metadata": {},
   "outputs": [],
   "source": [
    "date_data = bs.find(\"span\", class_='date')\n",
    "date = date_data.text"
   ]
  },
  {
   "cell_type": "markdown",
   "metadata": {},
   "source": [
    "#### 질문 제목"
   ]
  },
  {
   "cell_type": "code",
   "execution_count": 5,
   "metadata": {},
   "outputs": [],
   "source": [
    "title_data = bs.select('.tit_qna')"
   ]
  },
  {
   "cell_type": "code",
   "execution_count": 7,
   "metadata": {},
   "outputs": [
    {
     "name": "stdout",
     "output_type": "stream",
     "text": [
      "고지혈증약 복욕하면 평생하나요??\n"
     ]
    }
   ],
   "source": [
    "pattern = r'<strong class=\"tit_qna\">\\s*(.*?)\\s*<div class=\"qna_info\">'\n",
    "\n",
    "title_data_ = str(title_data[0])\n",
    "\n",
    "title = re.search(pattern, title_data_)\n",
    "\n",
    "if title:\n",
    "    title_ = title.group(1)\n",
    "    print(title_)\n",
    "else:\n",
    "    print(\"매칭되는 부분이 없습니다.\")\n"
   ]
  },
  {
   "cell_type": "markdown",
   "metadata": {},
   "source": [
    "#### 질문 내용"
   ]
  },
  {
   "cell_type": "code",
   "execution_count": 8,
   "metadata": {},
   "outputs": [],
   "source": [
    "question_data = bs.find('div', class_='desc')"
   ]
  },
  {
   "cell_type": "code",
   "execution_count": 9,
   "metadata": {},
   "outputs": [
    {
     "data": {
      "text/plain": [
       "'피검사 결과 콜레스테롤 수치가 288정도 나와서 만37살 남자인데 내과에서 약재조 해주던데 다이어트하고 정상수치 나오면 복용중단 되나요?? 추가로 아직 고혈압이나 당뇨는 없습니다.'"
      ]
     },
     "execution_count": 9,
     "metadata": {},
     "output_type": "execute_result"
    }
   ],
   "source": [
    "question = question_data.text.strip()\n",
    "question"
   ]
  },
  {
   "cell_type": "markdown",
   "metadata": {},
   "source": [
    "#### 답변자 정보"
   ]
  },
  {
   "cell_type": "code",
   "execution_count": 67,
   "metadata": {},
   "outputs": [
    {
     "data": {
      "text/plain": [
       "['한재병 전문의', '한재병 전문의', '한재병 전문의', '한재병 전문의', '한재병 전문의']"
      ]
     },
     "execution_count": 67,
     "metadata": {},
     "output_type": "execute_result"
    }
   ],
   "source": [
    "# 답변자 이름\n",
    "doctor_info = bs.find_all(\"strong\", class_='link_doctor')\n",
    "\n",
    "doctor_list = []\n",
    "for x in range(len(doctor_info)):\n",
    "    doctor_list.append(doctor_info[0].text)\n",
    "\n",
    "doctor_list"
   ]
  },
  {
   "cell_type": "code",
   "execution_count": 70,
   "metadata": {},
   "outputs": [
    {
     "data": {
      "text/plain": [
       "['동래봉생병원', '동래봉생병원', '동래봉생병원', '동래봉생병원', '동래봉생병원']"
      ]
     },
     "execution_count": 70,
     "metadata": {},
     "output_type": "execute_result"
    }
   ],
   "source": [
    "# 의사 병원이름\n",
    "doc_hospital = bs.find_all(\"span\", class_ ='txt_clinic')\n",
    "\n",
    "hospital_list = []\n",
    "for x in range(len(doc_hospital)):\n",
    "    hospital_list.append(doc_hospital[0].text)\n",
    "\n",
    "hospital_list"
   ]
  },
  {
   "cell_type": "markdown",
   "metadata": {},
   "source": [
    "#### 답변 내용"
   ]
  },
  {
   "cell_type": "code",
   "execution_count": 33,
   "metadata": {},
   "outputs": [],
   "source": [
    "a = bs.findAll(\"div\", class_ = 'desc')\n",
    "answer = []\n",
    "for x in range(1,len(a)):\n",
    "    answer.append(a[x].text.strip())"
   ]
  },
  {
   "cell_type": "code",
   "execution_count": 34,
   "metadata": {},
   "outputs": [
    {
     "data": {
      "text/plain": [
       "['안녕하세요. 하이닥 응급의학과 상담의 한재병입니다.고지혈증 약 자체가 평생 복용을 의미하는것은 아니지만, 생각보다는 엄격하게 식이조절하고 운동을 해서 조절이 잘 된다면 중단할 수도 있습니다.',\n",
       " '안녕하세요. 하이닥 외과 상담의 이이호입니다.고지혈증은 생활습관 개선과 약물 치료를 병행하여 치료합니다. 생활습관 개선을 통해 콜레스테롤 수치를 정상으로 낮출 수 있다면, 약물 치료는 중단할 수 있습니다. 하지만, 고지혈증은 평생 관리해야 하는 질환이기 때문에, 생활습관 개선을 통해 콜레스테롤 수치를 정상으로 유지하는 것이 중요합니다.',\n",
       " '안녕하세요. 하이닥 내과 상담의 김창래입니다.LDL 콜레스테롤이 높다면 평생 약물 치료를 해야 합니다. 운동이나 식단 조절만으로는 정상화하기 어렵기 때문입니다.하지만 약물치료와 생활 습관 조절을 병행하는 것이 좋습니다.',\n",
       " '안녕하세요. 하이닥 가정의학과 상담의 홍인표입니다.약을 드셔셔 정상으로  가더라도 약을 중단하면 이전으로 돌아가는 경우가 대부분이라서 보통은  중단없이  계속 드시게 되는 경우가 많습니다',\n",
       " '안녕하세요. 하이닥 외과 상담의 송슬기입니다.네 그렇습니다.  말을 해주신 정황상으로는 평생 먹는 약은 아닙니다. 수치가 매우 높은 경우에는 6개월 이상 복용하시고 재검사 해보세요.']"
      ]
     },
     "execution_count": 34,
     "metadata": {},
     "output_type": "execute_result"
    }
   ],
   "source": [
    "answer"
   ]
  },
  {
   "cell_type": "markdown",
   "metadata": {},
   "source": [
    "#### 답변 수"
   ]
  },
  {
   "cell_type": "code",
   "execution_count": 42,
   "metadata": {},
   "outputs": [],
   "source": [
    "answer_count = len(answer) "
   ]
  },
  {
   "cell_type": "code",
   "execution_count": null,
   "metadata": {},
   "outputs": [],
   "source": []
  }
 ],
 "metadata": {
  "kernelspec": {
   "display_name": ".venv",
   "language": "python",
   "name": "python3"
  },
  "language_info": {
   "codemirror_mode": {
    "name": "ipython",
    "version": 3
   },
   "file_extension": ".py",
   "mimetype": "text/x-python",
   "name": "python",
   "nbconvert_exporter": "python",
   "pygments_lexer": "ipython3",
   "version": "3.11.7"
  }
 },
 "nbformat": 4,
 "nbformat_minor": 2
}
