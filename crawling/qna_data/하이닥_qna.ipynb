{
 "cells": [
  {
   "cell_type": "code",
   "execution_count": 1,
   "metadata": {},
   "outputs": [
    {
     "name": "stderr",
     "output_type": "stream",
     "text": [
      "/var/folders/xt/nrdqgvqd1jv0kcb4nmwtdsxm0000gn/T/ipykernel_44378/2216618964.py:5: DeprecationWarning: \n",
      "Pyarrow will become a required dependency of pandas in the next major release of pandas (pandas 3.0),\n",
      "(to allow more performant data types, such as the Arrow string type, and better interoperability with other libraries)\n",
      "but was not found to be installed on your system.\n",
      "If this would cause problems for you,\n",
      "please provide us feedback at https://github.com/pandas-dev/pandas/issues/54466\n",
      "        \n",
      "  import pandas as pd\n"
     ]
    }
   ],
   "source": [
    "import requests\n",
    "from bs4 import BeautifulSoup\n",
    "import re\n",
    "import random\n",
    "import pandas as pd\n",
    "import time\n",
    "from tqdm import tqdm"
   ]
  },
  {
   "cell_type": "code",
   "execution_count": 2,
   "metadata": {},
   "outputs": [],
   "source": [
    "head = { 'User-Agent': \n",
    "        \"Mozilla/5.0 (Macintosh; Intel Mac OS X 10_15_7) AppleWebKit/537.36 (KHTML, like Gecko) Chrome/121.0.0.0 Safari/537.36\"}\n",
    "\n",
    "url = \"https://mobile.hidoc.co.kr/healthqna/view/C0000859561\""
   ]
  },
  {
   "cell_type": "code",
   "execution_count": 3,
   "metadata": {},
   "outputs": [],
   "source": [
    "r = requests.get(url, headers=head)\n",
    "bs = BeautifulSoup(r.text)"
   ]
  },
  {
   "cell_type": "code",
   "execution_count": 60,
   "metadata": {},
   "outputs": [],
   "source": [
    "title_data = bs.select('.tit_qna')"
   ]
  },
  {
   "cell_type": "code",
   "execution_count": 65,
   "metadata": {},
   "outputs": [
    {
     "data": {
      "text/plain": [
       "[<strong class=\"tit_qna\">\n",
       "         매독 rpr 양성을 받았습니다.\n",
       "         <div class=\"qna_info\">\n",
       " <span class=\"date\">2024.02.04</span>\n",
       " <span class=\"txt_bar\">|</span>\n",
       " <!-- 2015-12-16 sns 추가 -->\n",
       " <div class=\"sns_share\">\n",
       " <a class=\"link_share link_twi\" href=\"javascript:SNS.twitter();\"><span class=\"ico_comm ico_share\">트위터로 공유하기</span></a>\n",
       " <a class=\"link_share link_face\" href=\"javascript:SNS.facebook();\"><span class=\"ico_comm ico_share\">페이스북으로 공유하기</span></a>\n",
       " <a class=\"link_share link_kakao\" href=\"#\" id=\"btn_kakao\"><span class=\"ico_comm ico_share\">카카오톡으로 공유하기</span></a>\n",
       " <a class=\"link_share link_kkoStory\" href=\"javascript:SNS.kakaostory();\"><span class=\"ico_comm ico_share\">카카오스토리로 공유하기</span></a>\n",
       " <a class=\"link_share link_naverBlog\" href=\"javascript:SNS.naverblog();\" title=\"네이버블로그\"><span class=\"ico_comm ico_share\">네이버블로그 공유하기</span></a>\n",
       " </div>\n",
       " </div>\n",
       " </strong>,\n",
       " <strong class=\"tit_qna\">\n",
       " \t\t\tRe : 매독 rpr 양성을 받았습니다.\n",
       " \t\t\t<div class=\"qna_info\">\n",
       " <span class=\"date\"></span>\n",
       " </div>\n",
       " </strong>]"
      ]
     },
     "execution_count": 65,
     "metadata": {},
     "output_type": "execute_result"
    }
   ],
   "source": [
    "title_data"
   ]
  },
  {
   "cell_type": "code",
   "execution_count": 30,
   "metadata": {},
   "outputs": [
    {
     "name": "stdout",
     "output_type": "stream",
     "text": [
      "매독 rpr 양성을 받았습니다.\n"
     ]
    }
   ],
   "source": [
    "pattern = r'<strong class=\"tit_qna\">\\s*(.*?)\\s*<div class=\"qna_info\">'\n",
    "\n",
    "title_data_ = str(title_data[0])\n",
    "# 정규식을 사용하여 매칭되는 부분 찾기\n",
    "title = re.search(pattern, title_data_)\n",
    "\n",
    "# 매칭된 결과 출력\n",
    "if title:\n",
    "    title_ = title.group(1)\n",
    "    print(title_)\n",
    "else:\n",
    "    print(\"매칭되는 부분이 없습니다.\")\n"
   ]
  },
  {
   "cell_type": "code",
   "execution_count": 33,
   "metadata": {},
   "outputs": [],
   "source": [
    "question_data = bs.find('div', class_='desc')"
   ]
  },
  {
   "cell_type": "code",
   "execution_count": 38,
   "metadata": {},
   "outputs": [
    {
     "data": {
      "text/plain": [
       "'근데 1년정도 만난 여자친구가 아무런 증상이 없고 음성이 나온다면 음성으로 봐야하나요?아니면 저만 양성일 경우 어떤 경우라고 봐야하나요?'"
      ]
     },
     "execution_count": 38,
     "metadata": {},
     "output_type": "execute_result"
    }
   ],
   "source": [
    "question = question_data.text.strip()\n",
    "question"
   ]
  },
  {
   "cell_type": "code",
   "execution_count": 67,
   "metadata": {},
   "outputs": [
    {
     "data": {
      "text/plain": [
       "'안녕하세요. 하이닥 비뇨의학과 상담의 변상권입니다.말씀만으로는 정확한 답변을 드리기 어려우나위양성의 경우도 많아서 정밀검사를통해서확인하시는 것이 좋을 것 같습니다   답변이 되었는지 모르겠네요더 궁금하신 것이 있으시면 질문주세요.성심성의껏 답변드리겠습니다감사합니다.'"
      ]
     },
     "execution_count": 67,
     "metadata": {},
     "output_type": "execute_result"
    }
   ],
   "source": [
    "answer_data = bs.find(\"div\", class_='qna_head').find_all(\"div\", class_='desc')\n",
    "answer = answer_data[0].text.strip()\n",
    "answer"
   ]
  },
  {
   "cell_type": "code",
   "execution_count": null,
   "metadata": {},
   "outputs": [],
   "source": []
  }
 ],
 "metadata": {
  "kernelspec": {
   "display_name": ".venv",
   "language": "python",
   "name": "python3"
  },
  "language_info": {
   "codemirror_mode": {
    "name": "ipython",
    "version": 3
   },
   "file_extension": ".py",
   "mimetype": "text/x-python",
   "name": "python",
   "nbconvert_exporter": "python",
   "pygments_lexer": "ipython3",
   "version": "3.11.7"
  }
 },
 "nbformat": 4,
 "nbformat_minor": 2
}
