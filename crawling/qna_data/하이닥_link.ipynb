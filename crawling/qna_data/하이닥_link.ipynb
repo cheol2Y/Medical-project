{
 "cells": [
  {
   "cell_type": "markdown",
   "metadata": {},
   "source": [
    "## 하이닥 qna 링크 크롤링"
   ]
  },
  {
   "cell_type": "code",
   "execution_count": 1,
   "metadata": {},
   "outputs": [
    {
     "name": "stderr",
     "output_type": "stream",
     "text": [
      "/var/folders/xt/nrdqgvqd1jv0kcb4nmwtdsxm0000gn/T/ipykernel_44350/2216618964.py:5: DeprecationWarning: \n",
      "Pyarrow will become a required dependency of pandas in the next major release of pandas (pandas 3.0),\n",
      "(to allow more performant data types, such as the Arrow string type, and better interoperability with other libraries)\n",
      "but was not found to be installed on your system.\n",
      "If this would cause problems for you,\n",
      "please provide us feedback at https://github.com/pandas-dev/pandas/issues/54466\n",
      "        \n",
      "  import pandas as pd\n"
     ]
    }
   ],
   "source": [
    "import requests\n",
    "from bs4 import BeautifulSoup\n",
    "import re\n",
    "import random\n",
    "import pandas as pd\n",
    "import time\n",
    "from tqdm import tqdm"
   ]
  },
  {
   "cell_type": "code",
   "execution_count": 12,
   "metadata": {},
   "outputs": [],
   "source": [
    "head = { 'User-Agent': \n",
    "        \"Mozilla/5.0 (Macintosh; Intel Mac OS X 10_15_7) AppleWebKit/537.36 (KHTML, like Gecko) Chrome/121.0.0.0 Safari/537.36\"}\n",
    "\n",
    "url = \"https://mobile.hidoc.co.kr/healthqna/list?page=2\""
   ]
  },
  {
   "cell_type": "code",
   "execution_count": 13,
   "metadata": {},
   "outputs": [],
   "source": [
    "r = requests.get(url, headers=head)\n",
    "bs = BeautifulSoup(r.text)"
   ]
  },
  {
   "cell_type": "code",
   "execution_count": 14,
   "metadata": {},
   "outputs": [],
   "source": [
    "data = bs.find(\"section\", class_='contents').find_all(\"a\")"
   ]
  },
  {
   "cell_type": "code",
   "execution_count": 15,
   "metadata": {},
   "outputs": [
    {
     "data": {
      "text/plain": [
       "[<a class=\"btn_type5\" href=\"/healthqna/question/write\">\n",
       "             질문하기<span class=\"ico_comm ico_arrow\"></span>\n",
       " </a>,\n",
       " <a class=\"main_head\" href=\"view/C0000860813\">\n",
       " <span class=\"ico_comm ico_question\">Question</span>\n",
       " <strong class=\"tit_qna\">이마에 통증 없는 멍</strong>\n",
       " </a>,\n",
       " <a class=\"cont\" href=\"/find/doctor/default/U0000140376\">\n",
       " <span class=\"thumb_img\">\n",
       " <img class=\"img_round\" height=\"44\" src=\"https://src.hidoc.co.kr/image/member/2018/1/5/20180105111749267_0.jpg\" width=\"44\">\n",
       " </img></span>\n",
       " <div class=\"inner\">\n",
       " <p>\n",
       " <strong class=\"link_doctor\">한재병 전문의</strong> 답변입니다.\n",
       "                         </p>\n",
       " <span class=\"txt_clinic\">동래봉생병원</span>\n",
       " </div>\n",
       " </a>,\n",
       " <a href=\"view/C0000860813\">\n",
       " <p class=\"desc\">안녕하세요. 하이닥 응급의학과 상담의 한재병입니다.\n",
       " \n",
       " 현재 정보만으로 정확히 원인을 파악하기는 어려우나, 가려움에 의해 주무시며 긁었을 가능성도 있어보입니다. ...</p>\n",
       " </a>,\n",
       " <a class=\"main_head\" href=\"view/C0000860831\">\n",
       " <span class=\"ico_comm ico_question\">Question</span>\n",
       " <strong class=\"tit_qna\">고혈압 약 복용 시작 했어요</strong>\n",
       " </a>,\n",
       " <a class=\"cont\" href=\"/find/doctor/default/U0000140376\">\n",
       " <span class=\"thumb_img\">\n",
       " <img class=\"img_round\" height=\"44\" src=\"https://src.hidoc.co.kr/image/member/2018/1/5/20180105111749267_0.jpg\" width=\"44\">\n",
       " </img></span>\n",
       " <div class=\"inner\">\n",
       " <p>\n",
       " <strong class=\"link_doctor\">한재병 전문의</strong> 답변입니다.\n",
       "                         </p>\n",
       " <span class=\"txt_clinic\">동래봉생병원</span>\n",
       " </div>\n",
       " </a>,\n",
       " <a href=\"view/C0000860831\">\n",
       " <p class=\"desc\">안녕하세요. 하이닥 응급의학과 상담의 한재병입니다.\n",
       " \n",
       " 고혈압 약 처음 복용시에는 말씀하신듯이 어지러움 혹은 기력저하 등이 느껴질 수 있습니다. 당뇨 여부도 지 ...</p>\n",
       " </a>,\n",
       " <a class=\"main_head\" href=\"view/C0000860850\">\n",
       " <span class=\"ico_comm ico_question\">Question</span>\n",
       " <strong class=\"tit_qna\">탈모약 먹고 빠진 속알머리가 다시 안납니다..</strong>\n",
       " </a>,\n",
       " <a class=\"cont\" href=\"/find/doctor/default/U0000140376\">\n",
       " <span class=\"thumb_img\">\n",
       " <img class=\"img_round\" height=\"44\" src=\"https://src.hidoc.co.kr/image/member/2018/1/5/20180105111749267_0.jpg\" width=\"44\"/>\n",
       " </span>\n",
       " <div class=\"inner\">\n",
       " <p>\n",
       " <strong class=\"link_doctor\">한재병 전문의</strong> 답변입니다.\n",
       "                         </p>\n",
       " <span class=\"txt_clinic\">동래봉생병원</span>\n",
       " </div>\n",
       " </a>,\n",
       " <a href=\"view/C0000860850\">\n",
       " <p class=\"desc\">안녕하세요. 하이닥 응급의학과 상담의 한재병입니다.\n",
       " \n",
       " 미녹시딜 중단으로 인한 쉐딩 현상 때문에 걱정을 하시는듯하나, 천천히 시간이 지나면 (보통 1~2달) 대 ...</p>\n",
       " </a>,\n",
       " <a class=\"main_head\" href=\"view/C0000860858\">\n",
       " <span class=\"ico_comm ico_question\">Question</span>\n",
       " <strong class=\"tit_qna\">엉덩이 점 빼야 할까요? 놔둘까요 ?</strong>\n",
       " </a>,\n",
       " <a class=\"cont\" href=\"/find/doctor/default/U0000140376\">\n",
       " <span class=\"thumb_img\">\n",
       " <img class=\"img_round\" height=\"44\" src=\"https://src.hidoc.co.kr/image/member/2018/1/5/20180105111749267_0.jpg\" width=\"44\"/>\n",
       " </span>\n",
       " <div class=\"inner\">\n",
       " <p>\n",
       " <strong class=\"link_doctor\">한재병 전문의</strong> 답변입니다.\n",
       "                         </p>\n",
       " <span class=\"txt_clinic\">동래봉생병원</span>\n",
       " </div>\n",
       " </a>,\n",
       " <a href=\"view/C0000860858\">\n",
       " <p class=\"desc\">안녕하세요. 하이닥 응급의학과 상담의 한재병입니다.\n",
       " \n",
       " 굳이 빼야할 필요는 없을듯합니다. 말씀하신듯이 보이는 위치가 아니라 심미적 이유로 제거를 할 필요도 없을 ...</p>\n",
       " </a>,\n",
       " <a class=\"main_head\" href=\"view/C0000860862\">\n",
       " <span class=\"ico_comm ico_question\">Question</span>\n",
       " <strong class=\"tit_qna\">숨 1분정도 참으면 안압이 올라 시신경에 영향을 주나요?</strong>\n",
       " </a>,\n",
       " <a class=\"cont\" href=\"/find/doctor/default/U0000140376\">\n",
       " <span class=\"thumb_img\">\n",
       " <img class=\"img_round\" height=\"44\" src=\"https://src.hidoc.co.kr/image/member/2018/1/5/20180105111749267_0.jpg\" width=\"44\"/>\n",
       " </span>\n",
       " <div class=\"inner\">\n",
       " <p>\n",
       " <strong class=\"link_doctor\">한재병 전문의</strong> 답변입니다.\n",
       "                         </p>\n",
       " <span class=\"txt_clinic\">동래봉생병원</span>\n",
       " </div>\n",
       " </a>,\n",
       " <a href=\"view/C0000860862\">\n",
       " <p class=\"desc\">안녕하세요. 하이닥 응급의학과 상담의 한재병입니다.\n",
       " \n",
       " 숨을 1분 정도 참는 행위로 인해 안압이 올라 시신경에 손상이 생길 가능성은 걱정하지 않아도 될듯합니다. ...</p>\n",
       " </a>,\n",
       " <a class=\"main_head\" href=\"view/C0000860055\">\n",
       " <span class=\"ico_comm ico_question\">Question</span>\n",
       " <strong class=\"tit_qna\">피임 확률 질문</strong>\n",
       " </a>,\n",
       " <a class=\"cont\" href=\"/find/doctor/default/U0000140376\">\n",
       " <span class=\"thumb_img\">\n",
       " <img class=\"img_round\" height=\"44\" src=\"https://src.hidoc.co.kr/image/member/2018/1/5/20180105111749267_0.jpg\" width=\"44\"/>\n",
       " </span>\n",
       " <div class=\"inner\">\n",
       " <p>\n",
       " <strong class=\"link_doctor\">한재병 전문의</strong> 답변입니다.\n",
       "                         </p>\n",
       " <span class=\"txt_clinic\">동래봉생병원</span>\n",
       " </div>\n",
       " </a>,\n",
       " <a href=\"view/C0000860055\">\n",
       " <p class=\"desc\">안녕하세요. 하이닥 응급의학과 상담의 한재병입니다.\n",
       " \n",
       " 생리가 불규칙하다면 생리주기로 피임확률 계산은 의미가 없습니다. 단 콘돔도 사용했고, 콘돔도 벗겨지지 않 ...</p>\n",
       " </a>,\n",
       " <a class=\"main_head\" href=\"view/C0000860821\">\n",
       " <span class=\"ico_comm ico_question\">Question</span>\n",
       " <strong class=\"tit_qna\">화장실 사용과 여성생식기 질환 문의</strong>\n",
       " </a>,\n",
       " <a class=\"cont\" href=\"/find/doctor/default/U0000197782\">\n",
       " <span class=\"thumb_img\">\n",
       " <img class=\"img_round\" height=\"44\" src=\"https://src.hidoc.co.kr/image/member/2023/4/27/20230427084229239_0.jpg\" width=\"44\"/>\n",
       " </span>\n",
       " <div class=\"inner\">\n",
       " <p>\n",
       " <strong class=\"link_doctor\">정연준 전문의</strong> 답변입니다.\n",
       "                         </p>\n",
       " <span class=\"txt_clinic\">청담봄여성의원</span>\n",
       " </div>\n",
       " </a>,\n",
       " <a href=\"view/C0000860821\">\n",
       " <p class=\"desc\">안녕하세요. 하이닥 산부인과 상담의 정연준입니다.\n",
       " \n",
       " 성병균에 의해서 문제가 될 만큼의 다량의 균이 묻어있기는 어렵고, 실제 화장실에는 대장균이 가장 많습니다. ...</p>\n",
       " </a>,\n",
       " <a class=\"num_page\" href=\"/healthqna/list?page=1\">1</a>,\n",
       " <a class=\"num_page\" href=\"/healthqna/list?page=3\">3</a>,\n",
       " <a class=\"num_page\" href=\"/healthqna/list?page=4\">4</a>,\n",
       " <a class=\"num_page\" href=\"/healthqna/list?page=5\">5</a>,\n",
       " <a class=\"link_next\" href=\"/healthqna/list?page=6\"><span class=\"ico_comm ico_next\">다음</span></a>]"
      ]
     },
     "execution_count": 15,
     "metadata": {},
     "output_type": "execute_result"
    }
   ],
   "source": [
    "data"
   ]
  },
  {
   "cell_type": "code",
   "execution_count": 16,
   "metadata": {},
   "outputs": [],
   "source": [
    "link_list = []\n",
    "pattern = r'href=\"(view[^\"]+)\"'\n",
    "for tag in data:\n",
    "    tag_str = str(tag)  # 태그 객체를 문자열로 변환\n",
    "    match = re.search(pattern, tag_str)\n",
    "    if match:\n",
    "        link = match.group(1)\n",
    "        link_list.append(link)"
   ]
  },
  {
   "cell_type": "code",
   "execution_count": 17,
   "metadata": {},
   "outputs": [
    {
     "data": {
      "text/plain": [
       "['view/C0000860055',\n",
       " 'view/C0000860821',\n",
       " 'view/C0000860862',\n",
       " 'view/C0000860831',\n",
       " 'view/C0000860813',\n",
       " 'view/C0000860858',\n",
       " 'view/C0000860850']"
      ]
     },
     "execution_count": 17,
     "metadata": {},
     "output_type": "execute_result"
    }
   ],
   "source": [
    "set_link_list = list(set(link_list))\n",
    "set_link_list"
   ]
  },
  {
   "cell_type": "code",
   "execution_count": 2,
   "metadata": {},
   "outputs": [
    {
     "name": "stderr",
     "output_type": "stream",
     "text": [
      "  0%|          | 0/45999 [00:00<?, ?it/s]"
     ]
    },
    {
     "name": "stderr",
     "output_type": "stream",
     "text": [
      "100%|██████████| 45999/45999 [49:02<00:00, 15.63it/s]  \n"
     ]
    }
   ],
   "source": [
    "head = { 'User-Agent': \n",
    "        \"Mozilla/5.0 (Macintosh; Intel Mac OS X 10_15_7) AppleWebKit/537.36 (KHTML, like Gecko) Chrome/121.0.0.0 Safari/537.36\"}\n",
    "link_list = []\n",
    "url = \"https://mobile.hidoc.co.kr/healthqna/list?page=1\"\n",
    "for page in tqdm(range(1, 46000)):\n",
    "        \n",
    "        r = requests.get(url.format(page), headers=head)\n",
    "        bs = BeautifulSoup(r.text)\n",
    "\n",
    "        data = bs.find(\"section\", class_='contents').find_all(\"a\") \n",
    "\n",
    "        pattern = r'href=\"(view[^\"]+)\"'\n",
    "        for tag in data:\n",
    "                tag_str = str(tag)  # 태그 객체를 문자열로 변환\n",
    "                match = re.search(pattern, tag_str)\n",
    "                if match:\n",
    "                        link = match.group(1)\n",
    "                        link_list.append(link) "
   ]
  },
  {
   "cell_type": "code",
   "execution_count": 18,
   "metadata": {},
   "outputs": [
    {
     "name": "stderr",
     "output_type": "stream",
     "text": [
      "100%|██████████| 2/2 [00:00<00:00, 11.01it/s]\n"
     ]
    }
   ],
   "source": [
    "import requests\n",
    "from bs4 import BeautifulSoup\n",
    "import re\n",
    "from tqdm import tqdm\n",
    "\n",
    "head = {'User-Agent': \"Mozilla/5.0 (Macintosh; Intel Mac OS X 10_15_7) AppleWebKit/537.36 (KHTML, like Gecko) Chrome/121.0.0.0 Safari/537.36\"}\n",
    "link_list = []\n",
    "\n",
    "for page in tqdm(range(1, 3)):\n",
    "    url = \"https://mobile.hidoc.co.kr/healthqna/list?page={}\".format(page)\n",
    "    r = requests.get(url, headers=head)\n",
    "    bs = BeautifulSoup(r.text, 'html.parser')\n",
    "\n",
    "    data = bs.find(\"section\", class_='contents').find_all(\"a\") \n",
    "\n",
    "    pattern = r'href=\"(view[^\"]+)\"'\n",
    "    for tag in data:\n",
    "        tag_str = str(tag)  # 태그 객체를 문자열로 변환\n",
    "        match = re.search(pattern, tag_str)\n",
    "        if match:\n",
    "            link = match.group(1)\n",
    "            link_list.append(link)\n"
   ]
  },
  {
   "cell_type": "code",
   "execution_count": 20,
   "metadata": {},
   "outputs": [],
   "source": [
    "link_list_set = len(set(link_list))"
   ]
  },
  {
   "cell_type": "code",
   "execution_count": 21,
   "metadata": {},
   "outputs": [
    {
     "data": {
      "text/plain": [
       "13"
      ]
     },
     "execution_count": 21,
     "metadata": {},
     "output_type": "execute_result"
    }
   ],
   "source": [
    "link_list_set"
   ]
  },
  {
   "cell_type": "code",
   "execution_count": null,
   "metadata": {},
   "outputs": [],
   "source": []
  }
 ],
 "metadata": {
  "kernelspec": {
   "display_name": ".venv",
   "language": "python",
   "name": "python3"
  },
  "language_info": {
   "codemirror_mode": {
    "name": "ipython",
    "version": 3
   },
   "file_extension": ".py",
   "mimetype": "text/x-python",
   "name": "python",
   "nbconvert_exporter": "python",
   "pygments_lexer": "ipython3",
   "version": "3.11.7"
  }
 },
 "nbformat": 4,
 "nbformat_minor": 2
}
