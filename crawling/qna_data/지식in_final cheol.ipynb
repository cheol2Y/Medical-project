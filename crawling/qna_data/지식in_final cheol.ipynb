{
 "cells": [
  {
   "cell_type": "code",
   "execution_count": 4,
   "metadata": {},
   "outputs": [],
   "source": [
    "import requests\n",
    "from bs4 import BeautifulSoup\n",
    "import re\n",
    "import random\n",
    "import pandas as pd\n",
    "import time\n",
    "from tqdm import tqdm\n",
    "import os\n",
    "import json"
   ]
  },
  {
   "cell_type": "markdown",
   "metadata": {},
   "source": [
    "## docId 불러오기"
   ]
  },
  {
   "cell_type": "code",
   "execution_count": null,
   "metadata": {},
   "outputs": [],
   "source": [
    "# JSON 파일에서 데이터 읽기\n",
    "with open('dirId.json', 'r', encoding='utf-8') as json_file:\n",
    "    # JSON 형식의 문자열을 딕셔너리로 변환\n",
    "    detailed_category = json.load(json_file)\n",
    "\n",
    "# 로드된 데이터 확인\n",
    "print(detailed_category)"
   ]
  },
  {
   "cell_type": "markdown",
   "metadata": {},
   "source": [
    "## 받은 링크로 제목, 질문, 답변 크롤링"
   ]
  },
  {
   "cell_type": "code",
   "execution_count": null,
   "metadata": {},
   "outputs": [],
   "source": [
    "''' 현 문제점\n",
    "\n",
    "데이터를 어떻게 저장할 것인가?\n",
    "\n",
    "exampe_dict = \n",
    "{\n",
    "docId1: {title: ~~ , date: ~~, answer: ~~, question: ~~}\n",
    "docId2: {title: ~~ , date: ~~, answer: ~~, question: ~~}\n",
    "...\n",
    "}\n",
    "\n",
    "dict안에 dict가 있는 형태\n",
    "json 파일 이름은 data_dirId.json 형태로 할 예정.. ex) data_7010101.json\n",
    "\n",
    "'''"
   ]
  },
  {
   "cell_type": "code",
   "execution_count": 47,
   "metadata": {},
   "outputs": [],
   "source": [
    "# # 테스트용 data\n",
    "# detailed_category={}\n",
    "# detailed_category['70102'] = [463893371,463901455,463892989]\n",
    "# detailed_category['70103'] = [463908893, 463788699, 463867286]\n",
    "# detailed_category['7010101'] = [463833718,463851100,463891215]"
   ]
  },
  {
   "cell_type": "code",
   "execution_count": 49,
   "metadata": {},
   "outputs": [
    {
     "name": "stdout",
     "output_type": "stream",
     "text": [
      "463901455\n"
     ]
    }
   ],
   "source": [
    "if os.path.isdir(\"./output_data\") == False:\n",
    "    os.mkdir(\"./output_data\")\n",
    "\n",
    "\n",
    "head = { 'User-Agent':\n",
    "        \"Mozilla/5.0 (Windows NT 10.0; Win64; x64) AppleWebKit/537.36 (KHTML, like Gecko) Chrome/58.0.3029.110 Safari/537.3\"}\n",
    "\n",
    "for dirId in detailed_category:\n",
    "  data_dict= {}\n",
    "\n",
    "\n",
    "  for doc_id in detailed_category[dirId]:\n",
    "      try:\n",
    "        url = \"https://kin.naver.com/qna/detail.naver?d1id=7&dirId=7010101&docId={}\".format(doc_id)\n",
    "        r = requests.get(url, headers=head)\n",
    "        bs = BeautifulSoup(r.text, 'html.parser')\n",
    "\n",
    "        tmp_dict={}\n",
    "\n",
    "        title_data = bs.select('.title')\n",
    "        title = title_data[0].text.strip()\n",
    "        tmp_dict['title']= title\n",
    "\n",
    "        date = bs.select('.c-userinfo__info')\n",
    "        date_ = date[0].text.replace(\"작성일\", \"\")\n",
    "        tmp_dict['date_']= date_\n",
    "        \n",
    "        question_data = bs.select('.c-heading__content')\n",
    "        question = question_data[0].text.strip()\n",
    "        tmp_dict['question']= question\n",
    "\n",
    "        answer_data = bs.select('.se-main-container')\n",
    "        answer = answer_data[0].text.strip()\n",
    "        tmp_dict['answer']= answer\n",
    "\n",
    "        data_dict[doc_id]=tmp_dict\n",
    "      except:\n",
    "        print(doc_id)\n",
    "        \n",
    "  # dirId별로 json 파일로 저장\n",
    "  data_json = json.dumps(data_dict)\n",
<<<<<<< HEAD
<<<<<<< HEAD
    "  with open(f'./output_data/data_{dirId}.json', 'w',encoding='utf-8') as json_file:\n",
=======
    "  with open(f'./output_data/data_{dirId}.json', 'w') as json_file:\n",
>>>>>>> 01d0c19fc35ae18b689e9e8eb4294fe9a218e962
=======
    "  with open(f'./output_data/data_{dirId}.json', 'w') as json_file:\n",
>>>>>>> ff975810b0e4f7585a24c2009cc26b96e774f4e7
    "    json_file.write(data_json)\n"
   ]
  }
 ],
 "metadata": {
  "kernelspec": {
   "display_name": ".venv",
   "language": "python",
   "name": "python3"
  },
  "language_info": {
   "codemirror_mode": {
    "name": "ipython",
    "version": 3
   },
   "file_extension": ".py",
   "mimetype": "text/x-python",
   "name": "python",
   "nbconvert_exporter": "python",
   "pygments_lexer": "ipython3",
   "version": "3.11.5"
  }
 },
 "nbformat": 4,
 "nbformat_minor": 2
}
