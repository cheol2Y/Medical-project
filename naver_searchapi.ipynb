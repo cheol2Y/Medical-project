{
 "cells": [
  {
   "cell_type": "code",
   "execution_count": 9,
   "id": "08cd0623-85bf-4a84-92a6-4e746890ec11",
   "metadata": {},
   "outputs": [],
   "source": [
    "import requests\n",
    "import sys\n"
   ]
  },
  {
   "cell_type": "code",
   "execution_count": 10,
   "id": "11f16d13-3bfc-4fed-88eb-94beaf19ad2a",
   "metadata": {},
   "outputs": [],
   "source": [
    "# 인증 정보\n",
    "client_id = \"pHUSfspU7TZgGntAvkGV\"\n",
    "client_secret = \"9qxTN4a9Oe\""
   ]
  },
  {
   "cell_type": "code",
   "execution_count": 26,
   "id": "527ed402-6618-4bfe-b0ff-ddcb36366545",
   "metadata": {},
   "outputs": [],
   "source": [
    "query = \"어느 병원\""
   ]
  },
  {
   "cell_type": "code",
   "execution_count": 12,
   "id": "3355d57c-b862-4877-89f4-372b3c0b5677",
   "metadata": {},
   "outputs": [],
   "source": [
    "headers = {\n",
    "    'X-Naver-Client-Id': client_id,\n",
    "    'X-Naver-Client-Secret': client_secret\n",
    "}"
   ]
  },
  {
   "cell_type": "code",
   "execution_count": 27,
   "id": "ad4242cd-5c78-4a4f-8399-a530cf65c7ab",
   "metadata": {},
   "outputs": [],
   "source": [
    "# API 요청 옵션\n",
    "url = \"https://openapi.naver.com/v1/search/kin.json\"\n",
    "params = {'query': query}"
   ]
  },
  {
   "cell_type": "code",
   "execution_count": 28,
   "id": "c8526478-0c7b-49ec-8960-0fe5045626d8",
   "metadata": {},
   "outputs": [],
   "source": [
    "# 요청 실행\n",
    "response = requests.get(url, headers=headers, params=params)"
   ]
  },
  {
   "cell_type": "code",
   "execution_count": 32,
   "id": "d532613e-464b-47e6-b933-59f3cd403c80",
   "metadata": {},
   "outputs": [],
   "source": [
    "data = response.json()"
   ]
  },
  {
   "cell_type": "code",
   "execution_count": 34,
   "id": "ccf856d7-f57d-4dcb-96d8-64883a696f1c",
   "metadata": {},
   "outputs": [
    {
     "data": {
      "text/plain": [
       "{'lastBuildDate': 'Wed, 07 Feb 2024 17:16:43 +0900',\n",
       " 'total': 2291313,\n",
       " 'start': 1,\n",
       " 'display': 10,\n",
       " 'items': [{'title': '틱장애 증상이라면 <b>어느 병원</b>에 가야?(인천 틱장애)',\n",
       "   'link': 'https://kin.naver.com/qna/detail.naver?d1id=7&dirId=70305&docId=462892686&qb=7Ja064qQIOuzkeybkA==&enc=utf8&section=kin.qna&rank=1&search_sort=0&spq=0',\n",
       "   'description': '... 여기저기 찾아보니 틱일 수도 있어 보이는데, 틱장애 증상이라면 <b>어느 병원</b>에 가야 하나요?.  안녕하세요, 닥톡-네이버 지식iN 상담한의사 박천생입니다. 자녀분이 오랜 기간 동안 자주 눈 깜빡임 증상을 보여서 병원에 갔더니 눈병이... '},\n",
       "  {'title': '<b>어느병원</b> 가야 어지럼증 치료 가능해요?(청주 어지럼증)',\n",
       "   'link': 'https://kin.naver.com/qna/detail.naver?d1id=7&dirId=70305&docId=462832081&qb=7Ja064qQIOuzkeybkA==&enc=utf8&section=kin.qna&rank=2&search_sort=0&spq=0',\n",
       "   'description': '... 혹시 <b>어느 병원</b>을 가야할까요? 대학병원은 금액대가 부담스러운데 그것밖에 답이 없을까요 혹시?  안녕하세요, 닥톡-네이버 지식iN 상담한의사 이상원입니다. 어지럼증과 관련하여 궁금한 점이 많으신 걸로 보입니다. 병원에 갔는데... '},\n",
       "  {'title': '발가락염증 <b>어느병원</b> 가얄지',\n",
       "   'link': 'https://kin.naver.com/qna/detail.naver?d1id=7&dirId=7010108&docId=462616549&qb=7Ja064qQIOuzkeybkA==&enc=utf8&section=kin.qna&rank=3&search_sort=0&spq=0',\n",
       "   'description': '... 4번 발가락 끝 둥근부분이 붉게부음.ㅜ 4번 발가락 발톱바로위살이 부음 <b>어느병원</b>을 가얄까요? 이런 유사증상 있으신분 계실지?  안녕하세요. 대한의사협회·네이버 지식iN 상담의사 고재기 입니다. 발가락염증 <b>어느병원</b> 가얄지 글세요... '},\n",
       "  {'title': '안면비대칭교정은 <b>어느병원</b>에서?(부산 안면비대칭)',\n",
       "   'link': 'https://kin.naver.com/qna/detail.naver?d1id=7&dirId=70307&docId=461074939&qb=7Ja064qQIOuzkeybkA==&enc=utf8&section=kin.qna&rank=4&search_sort=0&spq=0',\n",
       "   'description': '부산 20대 중반/남 안면비대칭 요즘 비대칭얼굴을 교정하는 사람들이 많던데 대체로 <b>어느 병원</b>에 가서 교정을 받으시는 건지 궁금합니다.  안녕하세요, 닥톡-네이버 지식iN 상담한의사 주숙현입니다. 대게 안면비대칭을 교정하는 방법은... '},\n",
       "  {'title': '알코올중독은 <b>어느 병원</b> 가야하나요?(왕십리 알코올중독)',\n",
       "   'link': 'https://kin.naver.com/qna/detail.naver?d1id=7&dirId=70305&docId=463039256&qb=7Ja064qQIOuzkeybkA==&enc=utf8&section=kin.qna&rank=5&search_sort=0&spq=0',\n",
       "   'description': '왕십리 30대 후반/남 알코올중독 알코올중독인 친구가 있는데 <b>어느 병원</b>을 데려가야할지 도무지 감이 잡히지 않아서요. <b>어느 병원</b>을 데려가는게 맞나요?  안녕하세요, 닥톡-네이버 지식iN 상담한의사 최은지입니다. 알코올중독은 어느... '},\n",
       "  {'title': '유두습진 치료 <b>어느 병원</b> 갈까요?(마포 공덕 아토피)',\n",
       "   'link': 'https://kin.naver.com/qna/detail.naver?d1id=7&dirId=70307&docId=463027314&qb=7Ja064qQIOuzkeybkA==&enc=utf8&section=kin.qna&rank=6&search_sort=0&spq=0',\n",
       "   'description': '... 유두습진 치료를 위해 <b>어느 병원</b>을 가야 하는지 아직도 정확히 모르겠어요. 동네 병원에 가서 연고를 처방 받아 사용하는데 전혀 효과가 없어서 또 같은 데를 가는 건 소용 없을 것 같거든요. 진물 나고 진물이 속옷에 달라붙어서 떼어... '},\n",
       "  {'title': '부유방 유선조직 <b>어느병원</b>가야하나요?',\n",
       "   'link': 'https://kin.naver.com/qna/detail.naver?d1id=7&dirId=70116&docId=462827182&qb=7Ja064qQIOuzkeybkA==&enc=utf8&section=kin.qna&rank=7&search_sort=0&spq=0',\n",
       "   'description': '부유방 유선조직 <b>어느병원</b>가야하나요? 부유방 지흡을 알아보는데요 유선조직이 있냐없냐에따라 수술방법이 다르더라고요 먼저 유선조직있는지부터 보고싶은데 <b>어느병원</b>가서 뭘해여하나요?  안녕하세요. 하이닥-네이버 지식iN 상담의... '},\n",
       "  {'title': '편두통이 너무 심한데 <b>어느병원</b>에 가야하나요',\n",
       "   'link': 'https://kin.naver.com/qna/detail.naver?d1id=7&dirId=70107&docId=462895399&qb=7Ja064qQIOuzkeybkA==&enc=utf8&section=kin.qna&rank=8&search_sort=0&spq=0',\n",
       "   'description': '... 요즘 잠도 푹자고 술도 잘 안마셨는데 왜이러는걸까요 <b>어느 병원</b>가야되는지 알려주세요 제발 ㅠ 진통제 먹어도 효과가없어요ㅠ..  안녕하세요. 하이닥-네이버 지식iN 상담의 김영준 입니다. 문의해 주셔서 감사합니다. 질문자님께서... '},\n",
       "  {'title': '똥 쌀 때 피가 나오는데 <b>어느 병원</b>가야돼요?',\n",
       "   'link': 'https://kin.naver.com/qna/detail.naver?d1id=7&dirId=70103&docId=463498354&qb=7Ja064qQIOuzkeybkA==&enc=utf8&section=kin.qna&rank=9&search_sort=0&spq=0',\n",
       "   'description': '... 보고싶은데 <b>어느 병원</b>가야돼요? 학생이라 소아과 가서 진료받아야 하나요? (집 근처에 소아과병원밖에 없어서,,) 외과 가야되나요 부산에 사는데 <b>어느 병원</b> 가야되너요? 효성시티병원 괜찮나요  안녕하세요. 대한의사협회·네이버... '},\n",
       "  {'title': '발목 및 어깨 통증은 <b>어느 병원</b>에 가야 하나요?',\n",
       "   'link': 'https://kin.naver.com/qna/detail.naver?d1id=7&dirId=70106&docId=462222424&qb=7Ja064qQIOuzkeybkA==&enc=utf8&section=kin.qna&rank=10&search_sort=0&spq=0',\n",
       "   'description': '... 발목과 어깨 통증은 <b>어느 병원</b>에 가보는게 좋나요?  안녕하세요. 대한의사협회·네이버 지식iN 상담의사 이동규 입니다. 우선 질문자님의 현재 상태를 직접 보고 진단한 것이 아니기에 구체적인 답변드리기 어려운 점 양해 바랍니다.... '}]}"
      ]
     },
     "execution_count": 34,
     "metadata": {},
     "output_type": "execute_result"
    }
   ],
   "source": [
    "data"
   ]
  },
  {
   "cell_type": "code",
   "execution_count": null,
   "id": "820301a9-d008-4976-93c8-c62ded87c473",
   "metadata": {},
   "outputs": [],
   "source": []
  }
 ],
 "metadata": {
  "kernelspec": {
   "display_name": "Python 3 (ipykernel)",
   "language": "python",
   "name": "python3"
  },
  "language_info": {
   "codemirror_mode": {
    "name": "ipython",
    "version": 3
   },
   "file_extension": ".py",
   "mimetype": "text/x-python",
   "name": "python",
   "nbconvert_exporter": "python",
   "pygments_lexer": "ipython3",
   "version": "3.10.12"
  }
 },
 "nbformat": 4,
 "nbformat_minor": 5
}
