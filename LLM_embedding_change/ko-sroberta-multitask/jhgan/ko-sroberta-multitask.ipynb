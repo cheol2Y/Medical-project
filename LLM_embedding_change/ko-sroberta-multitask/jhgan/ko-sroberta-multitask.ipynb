{
 "cells": [
  {
   "cell_type": "markdown",
   "metadata": {},
   "source": [
    "# RAG embedding change \n",
    "## ko-sroberta-multitask"
   ]
  },
  {
   "cell_type": "markdown",
   "metadata": {},
   "source": [
    "# .env file 에 자신의 lang smith api key를 정의한다."
   ]
  },
  {
   "cell_type": "code",
   "execution_count": 1,
   "metadata": {},
   "outputs": [],
   "source": [
    "from IPython.display import Markdown"
   ]
  },
  {
   "cell_type": "code",
   "execution_count": 2,
   "metadata": {},
   "outputs": [
    {
     "data": {
      "text/plain": [
       "True"
      ]
     },
     "execution_count": 2,
     "metadata": {},
     "output_type": "execute_result"
    }
   ],
   "source": [
    "# API 키를 환경변수로 관리하기 위한 설정 파일\n",
    "from dotenv import load_dotenv\n",
    "\n",
    "# API 키 정보 로드\n",
    "load_dotenv()"
   ]
  },
  {
   "cell_type": "code",
   "execution_count": 78,
   "metadata": {},
   "outputs": [],
   "source": [
    "import os\n",
    "\n",
    "# 디버깅을 위한 프로젝트명을 기입합니다.\n",
    "os.environ[\"ko-sroberta-multitask\"] = \"RAG TUTORIAL\"\n",
    "\n",
    "# tracing 을 위해서는 아래 코드의 주석을 해제하고 실행합니다.\n",
    "# os.environ[\"LANGCHAIN_TRACING_V2\"] = true"
   ]
  },
  {
   "cell_type": "markdown",
   "metadata": {},
   "source": [
    "# Lang Smith"
   ]
  },
  {
   "cell_type": "code",
   "execution_count": 79,
   "metadata": {},
   "outputs": [
    {
     "name": "stdout",
     "output_type": "stream",
     "text": [
      "huggingface/tokenizers: The current process just got forked, after parallelism has already been used. Disabling parallelism to avoid deadlocks...\n",
      "To disable this warning, you can either:\n",
      "\t- Avoid using `tokenizers` before the fork if possible\n",
      "\t- Explicitly set the environment variable TOKENIZERS_PARALLELISM=(true | false)\n",
      "Requirement already satisfied: langchain in /opt/homebrew/anaconda3/lib/python3.11/site-packages (0.1.7)\n",
      "Requirement already satisfied: PyYAML>=5.3 in /opt/homebrew/anaconda3/lib/python3.11/site-packages (from langchain) (6.0)\n",
      "Requirement already satisfied: SQLAlchemy<3,>=1.4 in /opt/homebrew/anaconda3/lib/python3.11/site-packages (from langchain) (2.0.25)\n",
      "Requirement already satisfied: aiohttp<4.0.0,>=3.8.3 in /opt/homebrew/anaconda3/lib/python3.11/site-packages (from langchain) (3.8.5)\n",
      "Requirement already satisfied: dataclasses-json<0.7,>=0.5.7 in /opt/homebrew/anaconda3/lib/python3.11/site-packages (from langchain) (0.6.4)\n",
      "Requirement already satisfied: jsonpatch<2.0,>=1.33 in /opt/homebrew/anaconda3/lib/python3.11/site-packages (from langchain) (1.33)\n",
      "Requirement already satisfied: langchain-community<0.1,>=0.0.20 in /opt/homebrew/anaconda3/lib/python3.11/site-packages (from langchain) (0.0.20)\n",
      "Requirement already satisfied: langchain-core<0.2,>=0.1.22 in /opt/homebrew/anaconda3/lib/python3.11/site-packages (from langchain) (0.1.23)\n",
      "Requirement already satisfied: langsmith<0.1,>=0.0.83 in /opt/homebrew/anaconda3/lib/python3.11/site-packages (from langchain) (0.0.87)\n",
      "Requirement already satisfied: numpy<2,>=1 in /opt/homebrew/anaconda3/lib/python3.11/site-packages (from langchain) (1.24.3)\n",
      "Requirement already satisfied: pydantic<3,>=1 in /opt/homebrew/anaconda3/lib/python3.11/site-packages (from langchain) (1.10.8)\n",
      "Requirement already satisfied: requests<3,>=2 in /opt/homebrew/anaconda3/lib/python3.11/site-packages (from langchain) (2.31.0)\n",
      "Requirement already satisfied: tenacity<9.0.0,>=8.1.0 in /opt/homebrew/anaconda3/lib/python3.11/site-packages (from langchain) (8.2.3)\n",
      "Requirement already satisfied: attrs>=17.3.0 in /opt/homebrew/anaconda3/lib/python3.11/site-packages (from aiohttp<4.0.0,>=3.8.3->langchain) (22.1.0)\n",
      "Requirement already satisfied: charset-normalizer<4.0,>=2.0 in /opt/homebrew/anaconda3/lib/python3.11/site-packages (from aiohttp<4.0.0,>=3.8.3->langchain) (2.0.4)\n",
      "Requirement already satisfied: multidict<7.0,>=4.5 in /opt/homebrew/anaconda3/lib/python3.11/site-packages (from aiohttp<4.0.0,>=3.8.3->langchain) (6.0.2)\n",
      "Requirement already satisfied: async-timeout<5.0,>=4.0.0a3 in /opt/homebrew/anaconda3/lib/python3.11/site-packages (from aiohttp<4.0.0,>=3.8.3->langchain) (4.0.2)\n",
      "Requirement already satisfied: yarl<2.0,>=1.0 in /opt/homebrew/anaconda3/lib/python3.11/site-packages (from aiohttp<4.0.0,>=3.8.3->langchain) (1.8.1)\n",
      "Requirement already satisfied: frozenlist>=1.1.1 in /opt/homebrew/anaconda3/lib/python3.11/site-packages (from aiohttp<4.0.0,>=3.8.3->langchain) (1.3.3)\n",
      "Requirement already satisfied: aiosignal>=1.1.2 in /opt/homebrew/anaconda3/lib/python3.11/site-packages (from aiohttp<4.0.0,>=3.8.3->langchain) (1.2.0)\n",
      "Requirement already satisfied: marshmallow<4.0.0,>=3.18.0 in /opt/homebrew/anaconda3/lib/python3.11/site-packages (from dataclasses-json<0.7,>=0.5.7->langchain) (3.20.2)\n",
      "Requirement already satisfied: typing-inspect<1,>=0.4.0 in /opt/homebrew/anaconda3/lib/python3.11/site-packages (from dataclasses-json<0.7,>=0.5.7->langchain) (0.9.0)\n",
      "Requirement already satisfied: jsonpointer>=1.9 in /opt/homebrew/anaconda3/lib/python3.11/site-packages (from jsonpatch<2.0,>=1.33->langchain) (2.1)\n",
      "Requirement already satisfied: anyio<5,>=3 in /opt/homebrew/anaconda3/lib/python3.11/site-packages (from langchain-core<0.2,>=0.1.22->langchain) (3.5.0)\n",
      "Requirement already satisfied: packaging<24.0,>=23.2 in /opt/homebrew/anaconda3/lib/python3.11/site-packages (from langchain-core<0.2,>=0.1.22->langchain) (23.2)\n",
      "Requirement already satisfied: typing-extensions>=4.2.0 in /opt/homebrew/anaconda3/lib/python3.11/site-packages (from pydantic<3,>=1->langchain) (4.9.0)\n",
      "Requirement already satisfied: idna<4,>=2.5 in /opt/homebrew/anaconda3/lib/python3.11/site-packages (from requests<3,>=2->langchain) (3.4)\n",
      "Requirement already satisfied: urllib3<3,>=1.21.1 in /opt/homebrew/anaconda3/lib/python3.11/site-packages (from requests<3,>=2->langchain) (1.26.16)\n",
      "Requirement already satisfied: certifi>=2017.4.17 in /opt/homebrew/anaconda3/lib/python3.11/site-packages (from requests<3,>=2->langchain) (2023.7.22)\n",
      "Requirement already satisfied: sniffio>=1.1 in /opt/homebrew/anaconda3/lib/python3.11/site-packages (from anyio<5,>=3->langchain-core<0.2,>=0.1.22->langchain) (1.2.0)\n",
      "Requirement already satisfied: mypy-extensions>=0.3.0 in /opt/homebrew/anaconda3/lib/python3.11/site-packages (from typing-inspect<1,>=0.4.0->dataclasses-json<0.7,>=0.5.7->langchain) (1.0.0)\n",
      "Note: you may need to restart the kernel to use updated packages.\n"
     ]
    }
   ],
   "source": [
    "pip install -U langchain"
   ]
  },
  {
   "cell_type": "code",
   "execution_count": 16,
   "metadata": {},
   "outputs": [],
   "source": [
    "# 환경 변수 설정\n",
    "os.environ[\"LANGCHAIN_TRACING_V2\"] = \"true\"\n",
    "os.environ[\"LANGCHAIN_ENDPOINT\"] = \"https://api.smith.langchain.com\"\n",
    "os.environ[\"LANGCHAIN_PROJECT\"] = \"RAG TUTORIAL\"\n",
    "\n",
    "# API 키는 .env 파일에 저장되어 있다고 가정하고 불러옴\n",
    "from dotenv import load_dotenv\n",
    "load_dotenv()\n",
    "os.environ[\"LANGCHAIN_API_KEY\"] = os.getenv(\"API_KEY\")"
   ]
  },
  {
   "cell_type": "markdown",
   "metadata": {},
   "source": [
    "# 구글 api "
   ]
  },
  {
   "cell_type": "code",
   "execution_count": 17,
   "metadata": {},
   "outputs": [],
   "source": [
    "from dotenv import load_dotenv\n",
    "import os\n",
    "\n",
    "# .env 파일에서 환경 변수 로드\n",
    "load_dotenv()\n",
    "\n",
    "# 환경 변수에서 GOOGLE_API_KEY 가져오기\n",
    "google_api_key = os.getenv(\"GOOGLE_API_KEY\")\n",
    "\n",
    "# 필요한 경우, 가져온 API 키를 사용하여 환경 변수 설정\n",
    "os.environ[\"GOOGLE_API_KEY\"] = google_api_key\n"
   ]
  },
  {
   "cell_type": "code",
   "execution_count": 18,
   "metadata": {},
   "outputs": [
    {
     "name": "stdout",
     "output_type": "stream",
     "text": [
      "huggingface/tokenizers: The current process just got forked, after parallelism has already been used. Disabling parallelism to avoid deadlocks...\n",
      "To disable this warning, you can either:\n",
      "\t- Avoid using `tokenizers` before the fork if possible\n",
      "\t- Explicitly set the environment variable TOKENIZERS_PARALLELISM=(true | false)\n",
      "Note: you may need to restart the kernel to use updated packages.\n"
     ]
    }
   ],
   "source": [
    "%pip install -U --quiet langchain-google-genai"
   ]
  },
  {
   "cell_type": "code",
   "execution_count": 19,
   "metadata": {},
   "outputs": [],
   "source": [
    "from langchain_google_genai import ChatGoogleGenerativeAI"
   ]
  },
  {
   "cell_type": "code",
   "execution_count": 76,
   "metadata": {},
   "outputs": [
    {
     "data": {
      "text/markdown": [
       "머리와 목 통증이 동시에 발생하는 것은 여러 가지 의학적 상태의 증상일 수 있습니다.\n",
       "\n",
       "**가능한 원인:**\n",
       "\n",
       "* **인두통:** 인후염(목 통증)과 두통이 함께 발생하는 감염입니다.\n",
       "* **편두통:** 심한 두통과 목 통증이 동반될 수 있습니다.\n",
       "* **긴장성 두통:** 목과 어깨의 긴장으로 인한 두통으로 목 통증이 동반될 수 있습니다.\n",
       "* **목디스크 탈출:** 목의 척추 디스크가 튀어나와 척수나 신경을 압박하여 두통과 목 통증을 유발할 수 있습니다.\n",
       "* **목의 근육 긴장:** 목의 근육이 과도하게 사용되거나 긴장되면 두통과 목 통증을 유발할 수 있습니다.\n",
       "* **뇌막염:** 뇌와 척수를 덮는 막의 감염으로 두통, 목 통증, 메스꺼움, 구토를 유발할 수 있습니다.\n",
       "* **뇌졸중:** 뇌에 혈액 공급이 중단되면 두통과 목 통증을 유발할 수 있습니다.\n",
       "* **뇌하수체종:** 뇌에 있는 작은 종양으로 두통, 목 통증, 시력 문제를 유발할 수 있습니다.\n",
       "\n",
       "**주의 사항:**\n",
       "\n",
       "두통과 목 통증이 다음과 같은 증상과 함께 나타나면 즉시 의료진의 진찰을 받아야 합니다.\n",
       "\n",
       "* 발작\n",
       "* 시력 변화\n",
       "* 졸림\n",
       "* 메스꺼움이나 구토\n",
       "* 발열\n",
       "* 목 경직\n",
       "* 빛이나 소음에 민감성\n",
       "\n",
       "두통과 목 통증의 원인을 정확히 파악하려면 의사의 진찰과 검사가 필요합니다."
      ],
      "text/plain": [
       "<IPython.core.display.Markdown object>"
      ]
     },
     "execution_count": 76,
     "metadata": {},
     "output_type": "execute_result"
    }
   ],
   "source": [
    "llm = ChatGoogleGenerativeAI(model=\"gemini-pro\")\n",
    "result = llm.invoke(\"머리가 아프고 목이 아픈데 무슨 증상인가요?\")\n",
    "Markdown(result.content)"
   ]
  },
  {
   "cell_type": "markdown",
   "metadata": {},
   "source": [
    "# vectoer store : chromadb"
   ]
  },
  {
   "cell_type": "code",
   "execution_count": 21,
   "metadata": {},
   "outputs": [
    {
     "name": "stdout",
     "output_type": "stream",
     "text": [
      "huggingface/tokenizers: The current process just got forked, after parallelism has already been used. Disabling parallelism to avoid deadlocks...\n",
      "To disable this warning, you can either:\n",
      "\t- Avoid using `tokenizers` before the fork if possible\n",
      "\t- Explicitly set the environment variable TOKENIZERS_PARALLELISM=(true | false)\n",
      "Note: you may need to restart the kernel to use updated packages.\n"
     ]
    }
   ],
   "source": [
    "%pip install -U --quiet langchain tiktoken pypdf sentence_transformers chromadb"
   ]
  },
  {
   "cell_type": "code",
   "execution_count": 22,
   "metadata": {},
   "outputs": [
    {
     "name": "stdout",
     "output_type": "stream",
     "text": [
      "huggingface/tokenizers: The current process just got forked, after parallelism has already been used. Disabling parallelism to avoid deadlocks...\n",
      "To disable this warning, you can either:\n",
      "\t- Avoid using `tokenizers` before the fork if possible\n",
      "\t- Explicitly set the environment variable TOKENIZERS_PARALLELISM=(true | false)\n",
      "Requirement already satisfied: chromadb in /opt/homebrew/anaconda3/lib/python3.11/site-packages (0.4.22)\n",
      "Requirement already satisfied: build>=1.0.3 in /opt/homebrew/anaconda3/lib/python3.11/site-packages (from chromadb) (1.0.3)\n",
      "Requirement already satisfied: requests>=2.28 in /opt/homebrew/anaconda3/lib/python3.11/site-packages (from chromadb) (2.31.0)\n",
      "Requirement already satisfied: pydantic>=1.9 in /opt/homebrew/anaconda3/lib/python3.11/site-packages (from chromadb) (1.10.8)\n",
      "Requirement already satisfied: chroma-hnswlib==0.7.3 in /opt/homebrew/anaconda3/lib/python3.11/site-packages (from chromadb) (0.7.3)\n",
      "Requirement already satisfied: fastapi>=0.95.2 in /opt/homebrew/anaconda3/lib/python3.11/site-packages (from chromadb) (0.109.2)\n",
      "Requirement already satisfied: uvicorn[standard]>=0.18.3 in /opt/homebrew/anaconda3/lib/python3.11/site-packages (from chromadb) (0.27.1)\n",
      "Requirement already satisfied: numpy>=1.22.5 in /opt/homebrew/anaconda3/lib/python3.11/site-packages (from chromadb) (1.24.3)\n",
      "Requirement already satisfied: posthog>=2.4.0 in /opt/homebrew/anaconda3/lib/python3.11/site-packages (from chromadb) (3.4.1)\n",
      "Requirement already satisfied: typing-extensions>=4.5.0 in /opt/homebrew/anaconda3/lib/python3.11/site-packages (from chromadb) (4.9.0)\n",
      "Requirement already satisfied: pulsar-client>=3.1.0 in /opt/homebrew/anaconda3/lib/python3.11/site-packages (from chromadb) (3.4.0)\n",
      "Requirement already satisfied: onnxruntime>=1.14.1 in /opt/homebrew/anaconda3/lib/python3.11/site-packages (from chromadb) (1.17.0)\n",
      "Requirement already satisfied: opentelemetry-api>=1.2.0 in /opt/homebrew/anaconda3/lib/python3.11/site-packages (from chromadb) (1.22.0)\n",
      "Requirement already satisfied: opentelemetry-exporter-otlp-proto-grpc>=1.2.0 in /opt/homebrew/anaconda3/lib/python3.11/site-packages (from chromadb) (1.22.0)\n",
      "Requirement already satisfied: opentelemetry-instrumentation-fastapi>=0.41b0 in /opt/homebrew/anaconda3/lib/python3.11/site-packages (from chromadb) (0.43b0)\n",
      "Requirement already satisfied: opentelemetry-sdk>=1.2.0 in /opt/homebrew/anaconda3/lib/python3.11/site-packages (from chromadb) (1.22.0)\n",
      "Requirement already satisfied: tokenizers>=0.13.2 in /opt/homebrew/anaconda3/lib/python3.11/site-packages (from chromadb) (0.13.2)\n",
      "Requirement already satisfied: pypika>=0.48.9 in /opt/homebrew/anaconda3/lib/python3.11/site-packages (from chromadb) (0.48.9)\n",
      "Requirement already satisfied: tqdm>=4.65.0 in /opt/homebrew/anaconda3/lib/python3.11/site-packages (from chromadb) (4.65.0)\n",
      "Requirement already satisfied: overrides>=7.3.1 in /opt/homebrew/anaconda3/lib/python3.11/site-packages (from chromadb) (7.7.0)\n",
      "Requirement already satisfied: importlib-resources in /opt/homebrew/anaconda3/lib/python3.11/site-packages (from chromadb) (6.1.1)\n",
      "Requirement already satisfied: grpcio>=1.58.0 in /opt/homebrew/anaconda3/lib/python3.11/site-packages (from chromadb) (1.60.1)\n",
      "Requirement already satisfied: bcrypt>=4.0.1 in /opt/homebrew/anaconda3/lib/python3.11/site-packages (from chromadb) (4.1.2)\n",
      "Requirement already satisfied: typer>=0.9.0 in /opt/homebrew/anaconda3/lib/python3.11/site-packages (from chromadb) (0.9.0)\n",
      "Requirement already satisfied: kubernetes>=28.1.0 in /opt/homebrew/anaconda3/lib/python3.11/site-packages (from chromadb) (29.0.0)\n",
      "Requirement already satisfied: tenacity>=8.2.3 in /opt/homebrew/anaconda3/lib/python3.11/site-packages (from chromadb) (8.2.3)\n",
      "Requirement already satisfied: PyYAML>=6.0.0 in /opt/homebrew/anaconda3/lib/python3.11/site-packages (from chromadb) (6.0)\n",
      "Requirement already satisfied: mmh3>=4.0.1 in /opt/homebrew/anaconda3/lib/python3.11/site-packages (from chromadb) (4.1.0)\n",
      "Requirement already satisfied: packaging>=19.0 in /opt/homebrew/anaconda3/lib/python3.11/site-packages (from build>=1.0.3->chromadb) (23.2)\n",
      "Requirement already satisfied: pyproject_hooks in /opt/homebrew/anaconda3/lib/python3.11/site-packages (from build>=1.0.3->chromadb) (1.0.0)\n",
      "Requirement already satisfied: starlette<0.37.0,>=0.36.3 in /opt/homebrew/anaconda3/lib/python3.11/site-packages (from fastapi>=0.95.2->chromadb) (0.36.3)\n",
      "Requirement already satisfied: certifi>=14.05.14 in /opt/homebrew/anaconda3/lib/python3.11/site-packages (from kubernetes>=28.1.0->chromadb) (2023.7.22)\n",
      "Requirement already satisfied: six>=1.9.0 in /opt/homebrew/anaconda3/lib/python3.11/site-packages (from kubernetes>=28.1.0->chromadb) (1.16.0)\n",
      "Requirement already satisfied: python-dateutil>=2.5.3 in /opt/homebrew/anaconda3/lib/python3.11/site-packages (from kubernetes>=28.1.0->chromadb) (2.8.2)\n",
      "Requirement already satisfied: google-auth>=1.0.1 in /opt/homebrew/anaconda3/lib/python3.11/site-packages (from kubernetes>=28.1.0->chromadb) (2.28.0)\n",
      "Requirement already satisfied: websocket-client!=0.40.0,!=0.41.*,!=0.42.*,>=0.32.0 in /opt/homebrew/anaconda3/lib/python3.11/site-packages (from kubernetes>=28.1.0->chromadb) (0.58.0)\n",
      "Requirement already satisfied: requests-oauthlib in /opt/homebrew/anaconda3/lib/python3.11/site-packages (from kubernetes>=28.1.0->chromadb) (1.3.1)\n",
      "Requirement already satisfied: oauthlib>=3.2.2 in /opt/homebrew/anaconda3/lib/python3.11/site-packages (from kubernetes>=28.1.0->chromadb) (3.2.2)\n",
      "Requirement already satisfied: urllib3>=1.24.2 in /opt/homebrew/anaconda3/lib/python3.11/site-packages (from kubernetes>=28.1.0->chromadb) (1.26.16)\n",
      "Requirement already satisfied: coloredlogs in /opt/homebrew/anaconda3/lib/python3.11/site-packages (from onnxruntime>=1.14.1->chromadb) (15.0.1)\n",
      "Requirement already satisfied: flatbuffers in /opt/homebrew/anaconda3/lib/python3.11/site-packages (from onnxruntime>=1.14.1->chromadb) (23.5.26)\n",
      "Requirement already satisfied: protobuf in /opt/homebrew/anaconda3/lib/python3.11/site-packages (from onnxruntime>=1.14.1->chromadb) (4.25.3)\n",
      "Requirement already satisfied: sympy in /opt/homebrew/anaconda3/lib/python3.11/site-packages (from onnxruntime>=1.14.1->chromadb) (1.11.1)\n",
      "Requirement already satisfied: deprecated>=1.2.6 in /opt/homebrew/anaconda3/lib/python3.11/site-packages (from opentelemetry-api>=1.2.0->chromadb) (1.2.14)\n",
      "Requirement already satisfied: importlib-metadata<7.0,>=6.0 in /opt/homebrew/anaconda3/lib/python3.11/site-packages (from opentelemetry-api>=1.2.0->chromadb) (6.0.0)\n",
      "Requirement already satisfied: backoff<3.0.0,>=1.10.0 in /opt/homebrew/anaconda3/lib/python3.11/site-packages (from opentelemetry-exporter-otlp-proto-grpc>=1.2.0->chromadb) (2.2.1)\n",
      "Requirement already satisfied: googleapis-common-protos~=1.52 in /opt/homebrew/anaconda3/lib/python3.11/site-packages (from opentelemetry-exporter-otlp-proto-grpc>=1.2.0->chromadb) (1.62.0)\n",
      "Requirement already satisfied: opentelemetry-exporter-otlp-proto-common==1.22.0 in /opt/homebrew/anaconda3/lib/python3.11/site-packages (from opentelemetry-exporter-otlp-proto-grpc>=1.2.0->chromadb) (1.22.0)\n",
      "Requirement already satisfied: opentelemetry-proto==1.22.0 in /opt/homebrew/anaconda3/lib/python3.11/site-packages (from opentelemetry-exporter-otlp-proto-grpc>=1.2.0->chromadb) (1.22.0)\n",
      "Requirement already satisfied: opentelemetry-instrumentation-asgi==0.43b0 in /opt/homebrew/anaconda3/lib/python3.11/site-packages (from opentelemetry-instrumentation-fastapi>=0.41b0->chromadb) (0.43b0)\n",
      "Requirement already satisfied: opentelemetry-instrumentation==0.43b0 in /opt/homebrew/anaconda3/lib/python3.11/site-packages (from opentelemetry-instrumentation-fastapi>=0.41b0->chromadb) (0.43b0)\n",
      "Requirement already satisfied: opentelemetry-semantic-conventions==0.43b0 in /opt/homebrew/anaconda3/lib/python3.11/site-packages (from opentelemetry-instrumentation-fastapi>=0.41b0->chromadb) (0.43b0)\n",
      "Requirement already satisfied: opentelemetry-util-http==0.43b0 in /opt/homebrew/anaconda3/lib/python3.11/site-packages (from opentelemetry-instrumentation-fastapi>=0.41b0->chromadb) (0.43b0)\n",
      "Requirement already satisfied: setuptools>=16.0 in /opt/homebrew/anaconda3/lib/python3.11/site-packages (from opentelemetry-instrumentation==0.43b0->opentelemetry-instrumentation-fastapi>=0.41b0->chromadb) (68.0.0)\n",
      "Requirement already satisfied: wrapt<2.0.0,>=1.0.0 in /opt/homebrew/anaconda3/lib/python3.11/site-packages (from opentelemetry-instrumentation==0.43b0->opentelemetry-instrumentation-fastapi>=0.41b0->chromadb) (1.14.1)\n",
      "Requirement already satisfied: asgiref~=3.0 in /opt/homebrew/anaconda3/lib/python3.11/site-packages (from opentelemetry-instrumentation-asgi==0.43b0->opentelemetry-instrumentation-fastapi>=0.41b0->chromadb) (3.7.2)\n",
      "Requirement already satisfied: monotonic>=1.5 in /opt/homebrew/anaconda3/lib/python3.11/site-packages (from posthog>=2.4.0->chromadb) (1.6)\n",
      "Requirement already satisfied: charset-normalizer<4,>=2 in /opt/homebrew/anaconda3/lib/python3.11/site-packages (from requests>=2.28->chromadb) (2.0.4)\n",
      "Requirement already satisfied: idna<4,>=2.5 in /opt/homebrew/anaconda3/lib/python3.11/site-packages (from requests>=2.28->chromadb) (3.4)\n",
      "Requirement already satisfied: click<9.0.0,>=7.1.1 in /opt/homebrew/anaconda3/lib/python3.11/site-packages (from typer>=0.9.0->chromadb) (8.0.4)\n",
      "Requirement already satisfied: h11>=0.8 in /opt/homebrew/anaconda3/lib/python3.11/site-packages (from uvicorn[standard]>=0.18.3->chromadb) (0.14.0)\n",
      "Requirement already satisfied: httptools>=0.5.0 in /opt/homebrew/anaconda3/lib/python3.11/site-packages (from uvicorn[standard]>=0.18.3->chromadb) (0.6.1)\n",
      "Requirement already satisfied: python-dotenv>=0.13 in /opt/homebrew/anaconda3/lib/python3.11/site-packages (from uvicorn[standard]>=0.18.3->chromadb) (0.21.0)\n",
      "Requirement already satisfied: uvloop!=0.15.0,!=0.15.1,>=0.14.0 in /opt/homebrew/anaconda3/lib/python3.11/site-packages (from uvicorn[standard]>=0.18.3->chromadb) (0.19.0)\n",
      "Requirement already satisfied: watchfiles>=0.13 in /opt/homebrew/anaconda3/lib/python3.11/site-packages (from uvicorn[standard]>=0.18.3->chromadb) (0.21.0)\n",
      "Requirement already satisfied: websockets>=10.4 in /opt/homebrew/anaconda3/lib/python3.11/site-packages (from uvicorn[standard]>=0.18.3->chromadb) (12.0)\n",
      "Requirement already satisfied: cachetools<6.0,>=2.0.0 in /opt/homebrew/anaconda3/lib/python3.11/site-packages (from google-auth>=1.0.1->kubernetes>=28.1.0->chromadb) (5.3.2)\n",
      "Requirement already satisfied: pyasn1-modules>=0.2.1 in /opt/homebrew/anaconda3/lib/python3.11/site-packages (from google-auth>=1.0.1->kubernetes>=28.1.0->chromadb) (0.2.8)\n",
      "Requirement already satisfied: rsa<5,>=3.1.4 in /opt/homebrew/anaconda3/lib/python3.11/site-packages (from google-auth>=1.0.1->kubernetes>=28.1.0->chromadb) (4.9)\n",
      "Requirement already satisfied: zipp>=0.5 in /opt/homebrew/anaconda3/lib/python3.11/site-packages (from importlib-metadata<7.0,>=6.0->opentelemetry-api>=1.2.0->chromadb) (3.11.0)\n",
      "Requirement already satisfied: anyio<5,>=3.4.0 in /opt/homebrew/anaconda3/lib/python3.11/site-packages (from starlette<0.37.0,>=0.36.3->fastapi>=0.95.2->chromadb) (3.5.0)\n",
      "Requirement already satisfied: humanfriendly>=9.1 in /opt/homebrew/anaconda3/lib/python3.11/site-packages (from coloredlogs->onnxruntime>=1.14.1->chromadb) (10.0)\n",
      "Requirement already satisfied: mpmath>=0.19 in /opt/homebrew/anaconda3/lib/python3.11/site-packages (from sympy->onnxruntime>=1.14.1->chromadb) (1.3.0)\n",
      "Requirement already satisfied: sniffio>=1.1 in /opt/homebrew/anaconda3/lib/python3.11/site-packages (from anyio<5,>=3.4.0->starlette<0.37.0,>=0.36.3->fastapi>=0.95.2->chromadb) (1.2.0)\n",
      "Requirement already satisfied: pyasn1<0.5.0,>=0.4.6 in /opt/homebrew/anaconda3/lib/python3.11/site-packages (from pyasn1-modules>=0.2.1->google-auth>=1.0.1->kubernetes>=28.1.0->chromadb) (0.4.8)\n",
      "Note: you may need to restart the kernel to use updated packages.\n"
     ]
    }
   ],
   "source": [
    "pip install chromadb"
   ]
  },
  {
   "cell_type": "code",
   "execution_count": 9,
   "metadata": {},
   "outputs": [],
   "source": [
    "from langchain.text_splitter import RecursiveCharacterTextSplitter\n",
    "from langchain.vectorstores import Chroma\n",
    "from langchain_community.document_loaders.csv_loader import CSVLoader"
   ]
  },
  {
   "cell_type": "code",
   "execution_count": 23,
   "metadata": {},
   "outputs": [],
   "source": [
    "# loader = CSVLoader(\"/Users/jangminsoo/Desktop/dev/Medical-project/crawling/qna_data/소아청소년_QNA.csv\", encoding='utf-8')\n",
    "# docs = loader.load()\n",
    "\n",
    "\n",
    "# text_splitter = RecursiveCharacterTextSplitter(\n",
    "#     chunk_size=1000, chunk_overlap=50)\n",
    "\n",
    "# texts = text_splitter.split_documents(docs)\n",
    "\n",
    "\n",
    "# from langchain.embeddings import HuggingFaceEmbeddings\n",
    "\n",
    "# model_name = \"jhgan/ko-sroberta-multitask\"\n",
    "# model_kwargs = {'device': 'cpu'}\n",
    "# encode_kwargs = {'normalize_embeddings': True}\n",
    "# hf = HuggingFaceEmbeddings(\n",
    "#     model_name=model_name,\n",
    "#     model_kwargs=model_kwargs,\n",
    "#     encode_kwargs=encode_kwargs\n",
    "# )\n",
    "\n",
    "# docsearch = Chroma.from_documents(texts, hf)"
   ]
  },
  {
   "cell_type": "code",
   "execution_count": 53,
   "metadata": {},
   "outputs": [
    {
     "name": "stdout",
     "output_type": "stream",
     "text": [
      "huggingface/tokenizers: The current process just got forked, after parallelism has already been used. Disabling parallelism to avoid deadlocks...\n",
      "To disable this warning, you can either:\n",
      "\t- Avoid using `tokenizers` before the fork if possible\n",
      "\t- Explicitly set the environment variable TOKENIZERS_PARALLELISM=(true | false)\n"
     ]
    },
    {
     "data": {
      "text/plain": [
       "['Collecting grpcio==1.60.0',\n",
       " '  Obtaining dependency information for grpcio==1.60.0 from https://files.pythonhosted.org/packages/5c/45/8708497bc482cc7bf3779df9cf00c8e9efe1df5cd29b77e3eb060c141f84/grpcio-1.60.0-cp311-cp311-macosx_10_10_universal2.whl.metadata',\n",
       " '  Using cached grpcio-1.60.0-cp311-cp311-macosx_10_10_universal2.whl.metadata (4.0 kB)',\n",
       " 'Using cached grpcio-1.60.0-cp311-cp311-macosx_10_10_universal2.whl (9.7 MB)',\n",
       " 'Installing collected packages: grpcio',\n",
       " '  Attempting uninstall: grpcio',\n",
       " '    Found existing installation: grpcio 1.60.1',\n",
       " '    Uninstalling grpcio-1.60.1:',\n",
       " '      Successfully uninstalled grpcio-1.60.1',\n",
       " \"\\x1b[31mERROR: pip's dependency resolver does not currently take into account all the packages that are installed. This behaviour is the source of the following dependency conflicts.\",\n",
       " 'grpcio-status 1.60.1 requires grpcio>=1.60.1, but you have grpcio 1.60.0 which is incompatible.\\x1b[0m\\x1b[31m',\n",
       " '\\x1b[0mSuccessfully installed grpcio-1.60.0']"
      ]
     },
     "execution_count": 53,
     "metadata": {},
     "output_type": "execute_result"
    }
   ],
   "source": [
    "!!pip install grpcio==1.60.0"
   ]
  },
  {
   "cell_type": "code",
   "execution_count": 59,
   "metadata": {},
   "outputs": [
    {
     "name": "stdout",
     "output_type": "stream",
     "text": [
      "huggingface/tokenizers: The current process just got forked, after parallelism has already been used. Disabling parallelism to avoid deadlocks...\n",
      "To disable this warning, you can either:\n",
      "\t- Avoid using `tokenizers` before the fork if possible\n",
      "\t- Explicitly set the environment variable TOKENIZERS_PARALLELISM=(true | false)\n",
      "Requirement already satisfied: pymilvus in /opt/homebrew/anaconda3/lib/python3.11/site-packages (2.3.6)\n",
      "Requirement already satisfied: setuptools>=67 in /opt/homebrew/anaconda3/lib/python3.11/site-packages (from pymilvus) (68.0.0)\n",
      "Requirement already satisfied: grpcio<=1.60.0,>=1.49.1 in /opt/homebrew/anaconda3/lib/python3.11/site-packages (from pymilvus) (1.60.0)\n",
      "Requirement already satisfied: protobuf>=3.20.0 in /opt/homebrew/anaconda3/lib/python3.11/site-packages (from pymilvus) (4.25.3)\n",
      "Requirement already satisfied: environs<=9.5.0 in /opt/homebrew/anaconda3/lib/python3.11/site-packages (from pymilvus) (9.5.0)\n",
      "Requirement already satisfied: ujson>=2.0.0 in /opt/homebrew/anaconda3/lib/python3.11/site-packages (from pymilvus) (5.4.0)\n",
      "Requirement already satisfied: pandas>=1.2.4 in /opt/homebrew/anaconda3/lib/python3.11/site-packages (from pymilvus) (2.0.3)\n",
      "Requirement already satisfied: requests in /opt/homebrew/anaconda3/lib/python3.11/site-packages (from pymilvus) (2.31.0)\n",
      "Requirement already satisfied: minio>=7.0.0 in /opt/homebrew/anaconda3/lib/python3.11/site-packages (from pymilvus) (7.2.4)\n",
      "Requirement already satisfied: pyarrow>=12.0.0 in /opt/homebrew/anaconda3/lib/python3.11/site-packages (from pymilvus) (15.0.0)\n",
      "Requirement already satisfied: marshmallow>=3.0.0 in /opt/homebrew/anaconda3/lib/python3.11/site-packages (from environs<=9.5.0->pymilvus) (3.20.2)\n",
      "Requirement already satisfied: python-dotenv in /opt/homebrew/anaconda3/lib/python3.11/site-packages (from environs<=9.5.0->pymilvus) (0.21.0)\n",
      "Requirement already satisfied: certifi in /opt/homebrew/anaconda3/lib/python3.11/site-packages (from minio>=7.0.0->pymilvus) (2023.7.22)\n",
      "Requirement already satisfied: urllib3 in /opt/homebrew/anaconda3/lib/python3.11/site-packages (from minio>=7.0.0->pymilvus) (1.26.16)\n",
      "Requirement already satisfied: argon2-cffi in /opt/homebrew/anaconda3/lib/python3.11/site-packages (from minio>=7.0.0->pymilvus) (21.3.0)\n",
      "Requirement already satisfied: pycryptodome in /opt/homebrew/anaconda3/lib/python3.11/site-packages (from minio>=7.0.0->pymilvus) (3.20.0)\n",
      "Requirement already satisfied: typing-extensions in /opt/homebrew/anaconda3/lib/python3.11/site-packages (from minio>=7.0.0->pymilvus) (4.9.0)\n",
      "Requirement already satisfied: python-dateutil>=2.8.2 in /opt/homebrew/anaconda3/lib/python3.11/site-packages (from pandas>=1.2.4->pymilvus) (2.8.2)\n",
      "Requirement already satisfied: pytz>=2020.1 in /opt/homebrew/anaconda3/lib/python3.11/site-packages (from pandas>=1.2.4->pymilvus) (2023.3.post1)\n",
      "Requirement already satisfied: tzdata>=2022.1 in /opt/homebrew/anaconda3/lib/python3.11/site-packages (from pandas>=1.2.4->pymilvus) (2023.3)\n",
      "Requirement already satisfied: numpy>=1.21.0 in /opt/homebrew/anaconda3/lib/python3.11/site-packages (from pandas>=1.2.4->pymilvus) (1.24.3)\n",
      "Requirement already satisfied: charset-normalizer<4,>=2 in /opt/homebrew/anaconda3/lib/python3.11/site-packages (from requests->pymilvus) (2.0.4)\n",
      "Requirement already satisfied: idna<4,>=2.5 in /opt/homebrew/anaconda3/lib/python3.11/site-packages (from requests->pymilvus) (3.4)\n",
      "Requirement already satisfied: packaging>=17.0 in /opt/homebrew/anaconda3/lib/python3.11/site-packages (from marshmallow>=3.0.0->environs<=9.5.0->pymilvus) (23.2)\n",
      "Requirement already satisfied: six>=1.5 in /opt/homebrew/anaconda3/lib/python3.11/site-packages (from python-dateutil>=2.8.2->pandas>=1.2.4->pymilvus) (1.16.0)\n",
      "Requirement already satisfied: argon2-cffi-bindings in /opt/homebrew/anaconda3/lib/python3.11/site-packages (from argon2-cffi->minio>=7.0.0->pymilvus) (21.2.0)\n",
      "Requirement already satisfied: cffi>=1.0.1 in /opt/homebrew/anaconda3/lib/python3.11/site-packages (from argon2-cffi-bindings->argon2-cffi->minio>=7.0.0->pymilvus) (1.15.1)\n",
      "Requirement already satisfied: pycparser in /opt/homebrew/anaconda3/lib/python3.11/site-packages (from cffi>=1.0.1->argon2-cffi-bindings->argon2-cffi->minio>=7.0.0->pymilvus) (2.21)\n",
      "huggingface/tokenizers: The current process just got forked, after parallelism has already been used. Disabling parallelism to avoid deadlocks...\n",
      "To disable this warning, you can either:\n",
      "\t- Avoid using `tokenizers` before the fork if possible\n",
      "\t- Explicitly set the environment variable TOKENIZERS_PARALLELISM=(true | false)\n",
      "Found existing installation: pymilvus 2.3.6\n",
      "Uninstalling pymilvus-2.3.6:\n",
      "  Successfully uninstalled pymilvus-2.3.6\n"
     ]
    }
   ],
   "source": [
    "!pip install pymilvus\n",
    "!pip uninstall pymilvus -y"
   ]
  },
  {
   "cell_type": "code",
   "execution_count": 60,
   "metadata": {},
   "outputs": [
    {
     "name": "stdout",
     "output_type": "stream",
     "text": [
      "huggingface/tokenizers: The current process just got forked, after parallelism has already been used. Disabling parallelism to avoid deadlocks...\n",
      "To disable this warning, you can either:\n",
      "\t- Avoid using `tokenizers` before the fork if possible\n",
      "\t- Explicitly set the environment variable TOKENIZERS_PARALLELISM=(true | false)\n",
      "Collecting milvus\n",
      "  Obtaining dependency information for milvus from https://files.pythonhosted.org/packages/fd/d1/c218a685dd97909205767b8933ad703b31d814885b4de80575c6e14000e0/milvus-2.3.8-py3-none-macosx_12_0_arm64.whl.metadata\n",
      "  Downloading milvus-2.3.8-py3-none-macosx_12_0_arm64.whl.metadata (6.7 kB)\n",
      "Downloading milvus-2.3.8-py3-none-macosx_12_0_arm64.whl (36.3 MB)\n",
      "\u001b[2K   \u001b[90m━━━━━━━━━━━━━━━━━━━━━━━━━━━━━━━━━━━━━━━━\u001b[0m \u001b[32m36.3/36.3 MB\u001b[0m \u001b[31m6.9 MB/s\u001b[0m eta \u001b[36m0:00:00\u001b[0m00:01\u001b[0m00:01\u001b[0mm\n",
      "\u001b[?25hInstalling collected packages: milvus\n",
      "Successfully installed milvus-2.3.8\n"
     ]
    }
   ],
   "source": [
    "!pip install milvus"
   ]
  },
  {
   "cell_type": "code",
   "execution_count": 63,
   "metadata": {},
   "outputs": [],
   "source": [
    "loader = CSVLoader(\"/Users/jangminsoo/Desktop/dev/Medical-project/crawling/qna_data/소아청소년_QNA.csv\", encoding='utf-8')\n",
    "docs = loader.load()\n",
    "\n",
    "\n",
    "text_splitter = RecursiveCharacterTextSplitter(\n",
    "    chunk_size=1000, chunk_overlap=50)\n",
    "\n",
    "texts = text_splitter.split_documents(docs)\n",
    "\n",
    "\n",
    "from langchain.embeddings import HuggingFaceEmbeddings\n",
    "\n",
    "model_name = \"jhgan/ko-sroberta-multitask\"\n",
    "model_kwargs = {'device': 'cpu'}\n",
    "encode_kwargs = {'normalize_embeddings': True}\n",
    "hf = HuggingFaceEmbeddings(\n",
    "    model_name=model_name,\n",
    "    model_kwargs=model_kwargs,\n",
    "    encode_kwargs=encode_kwargs\n",
    ")\n",
    "\n",
    "docsearch = Chroma.from_documents(texts, hf)"
   ]
  },
  {
   "cell_type": "code",
   "execution_count": 47,
   "metadata": {},
   "outputs": [
    {
     "data": {
      "text/plain": [
       "[Document(page_content=\"Doctors: ['이담선 전문의']\\nHospitals: ['광주한국병원']\\nAnswers: ['안녕하세요, 하이닥 정형외과상담의 이담선 입니다.기술된 증상으로 봤을때, 발목의 내측의 통증과 과거의 접질린것과는 큰 연관이 없어 보입니다. 한달전부터 발목 내측의 돌출되는 병변과 통증을 호소하는 경우인데요...이럴때는 돌출과 함께 발바닥의 저림증이 같이 있는 지 확인하는 것이 중요합니다.돌출부위가 결절종같은 양성연부조직 종양이 있는 경우도 있으므로, 초음파나 증상에 따라서 MRI검사가 요할 수 있겠습니다.  뼈가 돌출되는 경우는 거의 없지만, 그러한 경우는 x-ray로 확인이 됩니다 .따라서, x-ray및 초음파로 선별검사를 하여, 특별한 병변이 있는 지를 확인하는 것이 좋겠습니다. 이에 따라서 추가 검사 여부를 확인하고, 특별한 병변이 발견이 되지 않는다면, 물리치료및 약물치료로 호전되리라 기대됩니다. 물론, 특정한 병변이 보인다면, 그에따른 치료가 요합니다. 다리 길의의 차이는 하지 전장사진을 촬영하여, 어느부위의 길이차이가 있는 지 확인하는것이 좋겠습니다. 가끔 고관절의 이상이 있는 경우도 무릎의 높이가 다를 수도 있습니다.감사합니다.']\", metadata={'row': 4281, 'source': '/Users/jangminsoo/Desktop/dev/Medical-project/crawling/qna_data/소아청소년_QNA.csv'}),\n",
       " Document(page_content=\"Date: 2020.06.09\\nTitle: 아까 리프팅 질문했던 학생입니다. 통풍인가요?\\nQuestion: 아까 리프팅 질문했던 학생입니다.엄지발가락을 올리면 통증이 있다고 했는데 리프팅을 1~2시간 정도 하면 발등에 공을 맞출때 통증이 오는것이고평소에는 괜찮습니다.지금 엄지 발가락을 올리면 통증이아주아주 적습니다.진짜 통풍인가요?\\nDoctors: ['송슬기 전문의', '송슬기 전문의']\\nHospitals: ['신세계항의원', '신세계항의원']\\nAnswers: ['안녕하세요. 하이닥 외과 상담의 송슬기입니다.통풍이 가장 많이 침범하는 곳이 엄지 발가락입니다. 엄지 발가락 통증이 있다면 반드시 통풍검사 및 관절염 검사를 받아야 합니다.', '안녕하세요. 하이닥 응급의학과 상담의 한재병입니다.증상만으로 통풍 여부를 판단하지는 못하지만, 가능성을 100% 배제하지는 못합니다. 지속적인 충격에 의한 증상일 가능성도 높아, 정형외과 진료 권유합니다']\", metadata={'row': 967, 'source': '/Users/jangminsoo/Desktop/dev/Medical-project/crawling/qna_data/소아청소년_QNA.csv'}),\n",
       " Document(page_content=\"Date: 2010.01.26\\nTitle: 손발가락통증\\nQuestion: - 상담내용 : 만8살된 막내딸입니다.아이가 5~6살 때부터 손발가락 마디가 통증이 있어 주먹을 쥐면 안아프고 펴있을땐 아프다고 합니다.(항상)발가락도 같은증상 입니다.울거나 심한것은 아닌데 어린아이가 아프다고 하니까 부모 아음이 아픔니다.이런 경우는 어떤 증상 인가요?다른병원에서는 성장통이라고 하는데 손발 가락에도 나타나는것인가요?좋은답변을 부탁드립니다.수고 하세요! 감사합니다.\\nDoctors: ['오상민 전문의']\\nHospitals: ['공주시보건소']\\nAnswers: ['안녕하세요. 하이닥 소아청소년과 상담의 오상민입니다.성장통은 성장기 어린이에게 있어서 흔하게 있는 증상입니다.모든 관절에 나타날 수 있으며 대부분 무릎, 고관절, 대퇴부 등에 자주 통증을 유발합니다.3~12세 여아에서 성장통이 흔하며 저녁에 심하며 통증으로 잠에서 깨기도 합니다.아침에는 통증이 소실되는 것이 특징이며 신체검사상 특이한 문제가 없습니다.님의 아이도 성장통을 생각할 수도 있겠지만 손 발가락에 국한되어있고 지속적으로 손발가락 관절의 통증이 있다면 X-ray검사를 통해서 관절에 이상이 있는지 검사를 해보는 것이 좋겠습니다.감사합니다.']\", metadata={'row': 2856, 'source': '/Users/jangminsoo/Desktop/dev/Medical-project/crawling/qna_data/소아청소년_QNA.csv'})]"
      ]
     },
     "execution_count": 47,
     "metadata": {},
     "output_type": "execute_result"
    }
   ],
   "source": [
    "retriever = docsearch.as_retriever(\n",
    "                                    search_type=\"mmr\",\n",
    "                                    search_kwargs={'k':3, 'fetch_k': 10})\n",
    "retriever.get_relevant_documents(\"엄지 발가락에 통증이 있는데 무슨 증상인가요?\")"
   ]
  },
  {
   "cell_type": "code",
   "execution_count": 66,
   "metadata": {},
   "outputs": [],
   "source": [
    "from langchain.prompts import ChatPromptTemplate\n",
    "from langchain.schema.runnable import RunnableMap\n",
    "\n",
    "template = \"\"\"의사님의 의견을 바탕으로 다음과 같이 답변드리겠습니다:\n",
    "{context}\n",
    "\n",
    "질문: {question}\n",
    "\"\"\"\n",
    "\n",
    "prompt = ChatPromptTemplate.from_template(template)"
   ]
  },
  {
   "cell_type": "code",
   "execution_count": 73,
   "metadata": {},
   "outputs": [
    {
     "data": {
      "text/plain": [
       "AIMessage(content='두통과 목 통증은 경추성 두통의 증상일 수 있습니다. 경추성 두통은 목의 문제로 인해 발생하는 두통으로, 뒷목 근육이 경직되어 뒤통수 신경을 자극하여 통증을 유발합니다.')"
      ]
     },
     "execution_count": 73,
     "metadata": {},
     "output_type": "execute_result"
    }
   ],
   "source": [
    "gemini = ChatGoogleGenerativeAI(model=\"gemini-pro\", temperature = 0) # 답변의 일관성을 위한 0 값\n",
    "\n",
    "chain = RunnableMap({\n",
    "    \"context\": lambda x: retriever.get_relevant_documents(x['question']),\n",
    "    \"question\": lambda x: x['question']\n",
    "}) | prompt | gemini\n",
    "chain.invoke({'question': \"머리가 아프고 목이 아픈데 무슨 증상인가요?\"})"
   ]
  },
  {
   "cell_type": "code",
   "execution_count": 70,
   "metadata": {},
   "outputs": [
    {
     "name": "stderr",
     "output_type": "stream",
     "text": [
      "[nltk_data] Downloading package punkt to\n",
      "[nltk_data]     /Users/jangminsoo/nltk_data...\n",
      "[nltk_data]   Unzipping tokenizers/punkt.zip.\n"
     ]
    },
    {
     "data": {
      "text/plain": [
       "True"
      ]
     },
     "execution_count": 70,
     "metadata": {},
     "output_type": "execute_result"
    }
   ],
   "source": [
    "import nltk\n",
    "nltk.download('punkt')\n"
   ]
  },
  {
   "cell_type": "code",
   "execution_count": 77,
   "metadata": {},
   "outputs": [
    {
     "name": "stdout",
     "output_type": "stream",
     "text": [
      "의미적 일치도 평가 점수: 0.00041499829187799283\n",
      "문법 및 어휘적 일치도 평가 점수: 0.07386363636363637\n",
      "정확도 평가 점수: 0\n",
      "완성도 평가 점수: 0.1634782608695652\n"
     ]
    }
   ],
   "source": [
    "from nltk.translate.bleu_score import sentence_bleu\n",
    "from nltk.tokenize import word_tokenize\n",
    "\n",
    "# 의미적 일치도 평가 함수\n",
    "def semantic_coherence(reference, generated):\n",
    "    reference_tokens = word_tokenize(reference)\n",
    "    generated_tokens = word_tokenize(generated)\n",
    "    return sentence_bleu([reference_tokens], generated_tokens)\n",
    "\n",
    "# 문법 및 어휘적 일치도 평가 함수\n",
    "def grammar_and_vocabulary(reference, generated):\n",
    "    reference_tokens = word_tokenize(reference)\n",
    "    generated_tokens = word_tokenize(generated)\n",
    "    matching_tokens = set(reference_tokens) & set(generated_tokens)\n",
    "    return len(matching_tokens) / len(reference_tokens)\n",
    "\n",
    "# 정확도 및 완성도 평가 함수\n",
    "def accuracy_and_completeness(reference, generated):\n",
    "    accuracy_score = int(reference == generated)\n",
    "    completeness_score = len(generated) / len(reference)\n",
    "    return accuracy_score, completeness_score\n",
    "\n",
    "# 예시 코드와 함께 평가지표를 적용하는 방법\n",
    "reference_answer = \"\"\"\n",
    "머리와 목 통증이 동시에 발생하는 것은 여러 가지 의학적 상태의 증상일 수 있습니다.\n",
    "\n",
    "가능한 원인:\n",
    "\n",
    "인두통: 인후염(목 통증)과 두통이 함께 발생하는 감염입니다.\n",
    "편두통: 심한 두통과 목 통증이 동반될 수 있습니다.\n",
    "긴장성 두통: 목과 어깨의 긴장으로 인한 두통으로 목 통증이 동반될 수 있습니다.\n",
    "목디스크 탈출: 목의 척추 디스크가 튀어나와 척수나 신경을 압박하여 두통과 목 통증을 유발할 수 있습니다.\n",
    "목의 근육 긴장: 목의 근육이 과도하게 사용되거나 긴장되면 두통과 목 통증을 유발할 수 있습니다.\n",
    "뇌막염: 뇌와 척수를 덮는 막의 감염으로 두통, 목 통증, 메스꺼움, 구토를 유발할 수 있습니다.\n",
    "뇌졸중: 뇌에 혈액 공급이 중단되면 두통과 목 통증을 유발할 수 있습니다.\n",
    "뇌하수체종: 뇌에 있는 작은 종양으로 두통, 목 통증, 시력 문제를 유발할 수 있습니다.\n",
    "주의 사항:\n",
    "\n",
    "두통과 목 통증이 다음과 같은 증상과 함께 나타나면 즉시 의료진의 진찰을 받아야 합니다.\n",
    "\n",
    "발작\n",
    "시력 변화\n",
    "졸림\n",
    "메스꺼움이나 구토\n",
    "발열\n",
    "목 경직\n",
    "빛이나 소음에 민감성\n",
    "두통과 목 통증의 원인을 정확히 파악하려면 의사의 진찰과 검사가 필요합니다.\"\"\"\n",
    "\n",
    "generated_answer = \"두통과 목 통증은 경추성 두통의 증상일 수 있습니다. 경추성 두통은 목의 문제로 인해 발생하는 두통으로, 뒷목 근육이 경직되어 뒤통수 신경을 자극하여 통증을 유발합니다.\"\n",
    "\n",
    "# 의미적 일치도 평가\n",
    "coherence_score = semantic_coherence(reference_answer, generated_answer)\n",
    "print(\"의미적 일치도 평가 점수:\", coherence_score)\n",
    "\n",
    "# 문법 및 어휘적 일치도 평가\n",
    "vocab_grammar_score = grammar_and_vocabulary(reference_answer, generated_answer)\n",
    "print(\"문법 및 어휘적 일치도 평가 점수:\", vocab_grammar_score)\n",
    "\n",
    "# 정확도 및 완성도 평가\n",
    "accuracy, completeness = accuracy_and_completeness(reference_answer, generated_answer)\n",
    "print(\"정확도 평가 점수:\", accuracy)\n",
    "print(\"완성도 평가 점수:\", completeness)\n"
   ]
  },
  {
   "cell_type": "code",
   "execution_count": null,
   "metadata": {},
   "outputs": [],
   "source": [
    "from nltk.translate.bleu_score import sentence_bleu\n",
    "from nltk.tokenize import word_tokenize\n",
    "\n",
    "# 의미적 일치도 평가 함수\n",
    "def semantic_similarity(reference, generated):\n",
    "    reference_tokens = word_tokenize(reference)\n",
    "    generated_tokens = word_tokenize(generated)\n",
    "    return sentence_bleu([reference_tokens], generated_tokens)\n",
    "\n",
    "# 문법 및 어휘적 일치도 평가 함수\n",
    "def lexical_similarity(reference, generated):\n",
    "    reference_tokens = set(word_tokenize(reference))\n",
    "    generated_tokens = set(word_tokenize(generated))\n",
    "    overlap = len(reference_tokens.intersection(generated_tokens))\n",
    "    return overlap / len(reference_tokens) if len(reference_tokens) > 0 else 0\n",
    "\n",
    "# 생성된 답변과 기준 답변\n",
    "reference_answer = \"톷풍.\"\n",
    "generated_answer = \"두통과 목 통증은 경추성 두통의 증상일 수 있습니다. 경추성 두통은 목의 문제로 인해 발생하는 두통으로, 뒷목 근육이 경직되어 뒤통수 신경을 자극하여 통증을 유발합니다.\"\n",
    "\n",
    "# 의미적 일치도 평가 점수 계산\n",
    "semantic_score = semantic_similarity(reference_answer, generated_answer)\n",
    "print(\"의미적 일치도 평가 점수:\", semantic_score)\n",
    "\n",
    "# 문법 및 어휘적 일치도 평가 점수 계산\n",
    "lexical_score = lexical_similarity(reference_answer, generated_answer)\n",
    "print(\"문법 및 어휘적 일치도 평가 점수:\", lexical_score)\n"
   ]
  }
 ],
 "metadata": {
  "kernelspec": {
   "display_name": "base",
   "language": "python",
   "name": "python3"
  },
  "language_info": {
   "codemirror_mode": {
    "name": "ipython",
    "version": 3
   },
   "file_extension": ".py",
   "mimetype": "text/x-python",
   "name": "python",
   "nbconvert_exporter": "python",
   "pygments_lexer": "ipython3",
   "version": "3.11.5"
  }
 },
 "nbformat": 4,
 "nbformat_minor": 2
}
