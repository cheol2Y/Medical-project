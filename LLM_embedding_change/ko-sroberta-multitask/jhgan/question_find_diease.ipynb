{
 "cells": [
  {
   "cell_type": "markdown",
   "metadata": {},
   "source": [
    "## csv를 text 파일로 변경해서 저장."
   ]
  },
  {
   "cell_type": "code",
   "execution_count": 1,
   "metadata": {},
   "outputs": [
    {
     "name": "stdout",
     "output_type": "stream",
     "text": [
      "모든 CSV 파일을 텍스트 파일로 변환하여 저장했습니다.\n"
     ]
    }
   ],
   "source": [
    "import os\n",
    "import pandas as pd\n",
    "\n",
    "# 변환할 CSV 파일이 들어 있는 디렉토리 경로\n",
    "csv_dir = \"/Users/jangminsoo/Desktop/dev/Medical-project/LLM_embedding_change/ko-sroberta-multitask/jhgan/sick\"\n",
    "\n",
    "# 텍스트 파일로 변환하여 저장할 디렉토리 경로\n",
    "text_dir = \"/Users/jangminsoo/Desktop/dev/Medical-project/LLM_embedding_change/ko-sroberta-multitask/jhgan/text_files\"\n",
    "\n",
    "# 디렉토리가 없으면 생성\n",
    "if not os.path.exists(text_dir):\n",
    "    os.makedirs(text_dir)\n",
    "\n",
    "# 디렉토리 내의 모든 CSV 파일에 대해 처리\n",
    "for filename in os.listdir(csv_dir):\n",
    "    if filename.endswith(\".csv\"):\n",
    "        # CSV 파일 경로\n",
    "        csv_path = os.path.join(csv_dir, filename)\n",
    "        \n",
    "        # CSV 파일을 DataFrame으로 읽기\n",
    "        df = pd.read_csv(csv_path)\n",
    "        \n",
    "        # 텍스트 파일로 변환하여 저장\n",
    "        text_filename = os.path.splitext(filename)[0] + \".txt\"\n",
    "        text_path = os.path.join(text_dir, text_filename)\n",
    "        with open(text_path, \"w\") as f:\n",
    "            for col in df.columns:\n",
    "                f.write(df[col].astype(str).str.cat(sep=' ') + \"\\n\")\n",
    "\n",
    "print(\"모든 CSV 파일을 텍스트 파일로 변환하여 저장했습니다.\")\n"
   ]
  },
  {
   "cell_type": "code",
   "execution_count": 72,
   "metadata": {},
   "outputs": [
    {
     "name": "stdout",
     "output_type": "stream",
     "text": [
      "Data saved successfully!\n"
     ]
    }
   ],
   "source": [
    "import os\n",
    "import pandas as pd\n",
    "\n",
    "# CSV 파일 경로\n",
    "csv_file_path = '/Users/jangminsoo/Desktop/dev/Medical-project/LLM_embedding_change/ko-sroberta-multitask/jhgan/combined_data.csv'\n",
    "\n",
    "# 새로운 텍스트 파일이 저장될 디렉토리 경로\n",
    "output_directory = '/Users/jangminsoo/Desktop/dev/Medical-project/LLM_embedding_change/ko-sroberta-multitask/jhgan/new_data_files'\n",
    "\n",
    "# 폴더가 존재하지 않으면 생성\n",
    "if not os.path.exists(output_directory):\n",
    "    os.makedirs(output_directory)\n",
    "\n",
    "# CSV 파일 읽기\n",
    "data = pd.read_csv(csv_file_path)\n",
    "\n",
    "# 각 병명별로 증상을 저장할 텍스트 파일 생성\n",
    "for index, row in data.iterrows():\n",
    "    disease_name = str(row.get('병명', ''))\n",
    "    symptom = str(row.get('증상', ''))\n",
    "    \n",
    "    # \"병명\"과 \"증상\" 중 하나라도 비어있는 경우 해당 행을 건너뜁니다.\n",
    "    if not disease_name or not symptom:\n",
    "        continue\n",
    "    \n",
    "    # 텍스트 파일 경로\n",
    "    text_file_path = os.path.join(output_directory, f\"{disease_name}.txt\")\n",
    "    \n",
    "    # 해당 병명과 증상을 저장할 텍스트 파일에 추가합니다.\n",
    "    with open(text_file_path, 'a', encoding='utf-8') as f:\n",
    "        f.write(f\"{disease_name}: {symptom}\\n\")\n",
    "\n",
    "print(\"Data saved successfully!\")\n"
   ]
  },
  {
   "cell_type": "markdown",
   "metadata": {},
   "source": [
    "## 설치"
   ]
  },
  {
   "cell_type": "code",
   "execution_count": 9,
   "metadata": {},
   "outputs": [
    {
     "name": "stdout",
     "output_type": "stream",
     "text": [
      "Note: you may need to restart the kernel to use updated packages.\n"
     ]
    }
   ],
   "source": [
    "%pip install -U --quiet langchain-google-genai"
   ]
  },
  {
   "cell_type": "code",
   "execution_count": 51,
   "metadata": {},
   "outputs": [
    {
     "name": "stdout",
     "output_type": "stream",
     "text": [
      "huggingface/tokenizers: The current process just got forked, after parallelism has already been used. Disabling parallelism to avoid deadlocks...\n",
      "To disable this warning, you can either:\n",
      "\t- Avoid using `tokenizers` before the fork if possible\n",
      "\t- Explicitly set the environment variable TOKENIZERS_PARALLELISM=(true | false)\n",
      "Note: you may need to restart the kernel to use updated packages.\n"
     ]
    }
   ],
   "source": [
    "%pip install -U --quiet langchain tiktoken pypdf sentence_transformers chromadb"
   ]
  },
  {
   "cell_type": "code",
   "execution_count": 52,
   "metadata": {},
   "outputs": [
    {
     "name": "stdout",
     "output_type": "stream",
     "text": [
      "huggingface/tokenizers: The current process just got forked, after parallelism has already been used. Disabling parallelism to avoid deadlocks...\n",
      "To disable this warning, you can either:\n",
      "\t- Avoid using `tokenizers` before the fork if possible\n",
      "\t- Explicitly set the environment variable TOKENIZERS_PARALLELISM=(true | false)\n",
      "Note: you may need to restart the kernel to use updated packages.\n"
     ]
    }
   ],
   "source": [
    "%pip install -q langchain pypdf sentence-transformers langchain-openai --upgrade --quiet  rank_bm25 > /dev/null"
   ]
  },
  {
   "cell_type": "code",
   "execution_count": 2,
   "metadata": {},
   "outputs": [
    {
     "name": "stdout",
     "output_type": "stream",
     "text": [
      "Requirement already satisfied: langchainhub in /opt/homebrew/anaconda3/lib/python3.11/site-packages (0.1.14)\n",
      "Requirement already satisfied: requests<3,>=2 in /opt/homebrew/anaconda3/lib/python3.11/site-packages (from langchainhub) (2.31.0)\n",
      "Requirement already satisfied: types-requests<3.0.0.0,>=2.31.0.2 in /opt/homebrew/anaconda3/lib/python3.11/site-packages (from langchainhub) (2.31.0.20240218)\n",
      "Requirement already satisfied: charset-normalizer<4,>=2 in /opt/homebrew/anaconda3/lib/python3.11/site-packages (from requests<3,>=2->langchainhub) (2.0.4)\n",
      "Requirement already satisfied: idna<4,>=2.5 in /opt/homebrew/anaconda3/lib/python3.11/site-packages (from requests<3,>=2->langchainhub) (3.4)\n",
      "Requirement already satisfied: urllib3<3,>=1.21.1 in /opt/homebrew/anaconda3/lib/python3.11/site-packages (from requests<3,>=2->langchainhub) (2.2.1)\n",
      "Requirement already satisfied: certifi>=2017.4.17 in /opt/homebrew/anaconda3/lib/python3.11/site-packages (from requests<3,>=2->langchainhub) (2023.7.22)\n",
      "Note: you may need to restart the kernel to use updated packages.\n"
     ]
    }
   ],
   "source": [
    "%pip install langchainhub"
   ]
  },
  {
   "cell_type": "code",
   "execution_count": 6,
   "metadata": {},
   "outputs": [
    {
     "name": "stdout",
     "output_type": "stream",
     "text": [
      "Requirement already satisfied: langchain in /opt/homebrew/anaconda3/lib/python3.11/site-packages (0.1.8)\n",
      "Requirement already satisfied: PyYAML>=5.3 in /opt/homebrew/anaconda3/lib/python3.11/site-packages (from langchain) (6.0)\n",
      "Requirement already satisfied: SQLAlchemy<3,>=1.4 in /opt/homebrew/anaconda3/lib/python3.11/site-packages (from langchain) (2.0.25)\n",
      "Requirement already satisfied: aiohttp<4.0.0,>=3.8.3 in /opt/homebrew/anaconda3/lib/python3.11/site-packages (from langchain) (3.8.5)\n",
      "Requirement already satisfied: dataclasses-json<0.7,>=0.5.7 in /opt/homebrew/anaconda3/lib/python3.11/site-packages (from langchain) (0.6.4)\n",
      "Requirement already satisfied: jsonpatch<2.0,>=1.33 in /opt/homebrew/anaconda3/lib/python3.11/site-packages (from langchain) (1.33)\n",
      "Requirement already satisfied: langchain-community<0.1,>=0.0.21 in /opt/homebrew/anaconda3/lib/python3.11/site-packages (from langchain) (0.0.21)\n",
      "Requirement already satisfied: langchain-core<0.2,>=0.1.24 in /opt/homebrew/anaconda3/lib/python3.11/site-packages (from langchain) (0.1.24)\n",
      "Requirement already satisfied: langsmith<0.2.0,>=0.1.0 in /opt/homebrew/anaconda3/lib/python3.11/site-packages (from langchain) (0.1.2)\n",
      "Requirement already satisfied: numpy<2,>=1 in /opt/homebrew/anaconda3/lib/python3.11/site-packages (from langchain) (1.24.3)\n",
      "Requirement already satisfied: pydantic<3,>=1 in /opt/homebrew/anaconda3/lib/python3.11/site-packages (from langchain) (1.10.8)\n",
      "Requirement already satisfied: requests<3,>=2 in /opt/homebrew/anaconda3/lib/python3.11/site-packages (from langchain) (2.31.0)\n",
      "Requirement already satisfied: tenacity<9.0.0,>=8.1.0 in /opt/homebrew/anaconda3/lib/python3.11/site-packages (from langchain) (8.2.3)\n",
      "Requirement already satisfied: attrs>=17.3.0 in /opt/homebrew/anaconda3/lib/python3.11/site-packages (from aiohttp<4.0.0,>=3.8.3->langchain) (22.1.0)\n",
      "Requirement already satisfied: charset-normalizer<4.0,>=2.0 in /opt/homebrew/anaconda3/lib/python3.11/site-packages (from aiohttp<4.0.0,>=3.8.3->langchain) (2.0.4)\n",
      "Requirement already satisfied: multidict<7.0,>=4.5 in /opt/homebrew/anaconda3/lib/python3.11/site-packages (from aiohttp<4.0.0,>=3.8.3->langchain) (6.0.2)\n",
      "Requirement already satisfied: async-timeout<5.0,>=4.0.0a3 in /opt/homebrew/anaconda3/lib/python3.11/site-packages (from aiohttp<4.0.0,>=3.8.3->langchain) (4.0.2)\n",
      "Requirement already satisfied: yarl<2.0,>=1.0 in /opt/homebrew/anaconda3/lib/python3.11/site-packages (from aiohttp<4.0.0,>=3.8.3->langchain) (1.8.1)\n",
      "Requirement already satisfied: frozenlist>=1.1.1 in /opt/homebrew/anaconda3/lib/python3.11/site-packages (from aiohttp<4.0.0,>=3.8.3->langchain) (1.3.3)\n",
      "Requirement already satisfied: aiosignal>=1.1.2 in /opt/homebrew/anaconda3/lib/python3.11/site-packages (from aiohttp<4.0.0,>=3.8.3->langchain) (1.2.0)\n",
      "Requirement already satisfied: marshmallow<4.0.0,>=3.18.0 in /opt/homebrew/anaconda3/lib/python3.11/site-packages (from dataclasses-json<0.7,>=0.5.7->langchain) (3.20.2)\n",
      "Requirement already satisfied: typing-inspect<1,>=0.4.0 in /opt/homebrew/anaconda3/lib/python3.11/site-packages (from dataclasses-json<0.7,>=0.5.7->langchain) (0.9.0)\n",
      "Requirement already satisfied: jsonpointer>=1.9 in /opt/homebrew/anaconda3/lib/python3.11/site-packages (from jsonpatch<2.0,>=1.33->langchain) (2.1)\n",
      "Requirement already satisfied: anyio<5,>=3 in /opt/homebrew/anaconda3/lib/python3.11/site-packages (from langchain-core<0.2,>=0.1.24->langchain) (3.5.0)\n",
      "Requirement already satisfied: packaging<24.0,>=23.2 in /opt/homebrew/anaconda3/lib/python3.11/site-packages (from langchain-core<0.2,>=0.1.24->langchain) (23.2)\n",
      "Requirement already satisfied: typing-extensions>=4.2.0 in /opt/homebrew/anaconda3/lib/python3.11/site-packages (from pydantic<3,>=1->langchain) (4.9.0)\n",
      "Requirement already satisfied: idna<4,>=2.5 in /opt/homebrew/anaconda3/lib/python3.11/site-packages (from requests<3,>=2->langchain) (3.4)\n",
      "Requirement already satisfied: urllib3<3,>=1.21.1 in /opt/homebrew/anaconda3/lib/python3.11/site-packages (from requests<3,>=2->langchain) (2.2.1)\n",
      "Requirement already satisfied: certifi>=2017.4.17 in /opt/homebrew/anaconda3/lib/python3.11/site-packages (from requests<3,>=2->langchain) (2023.7.22)\n",
      "Requirement already satisfied: sniffio>=1.1 in /opt/homebrew/anaconda3/lib/python3.11/site-packages (from anyio<5,>=3->langchain-core<0.2,>=0.1.24->langchain) (1.2.0)\n",
      "Requirement already satisfied: mypy-extensions>=0.3.0 in /opt/homebrew/anaconda3/lib/python3.11/site-packages (from typing-inspect<1,>=0.4.0->dataclasses-json<0.7,>=0.5.7->langchain) (1.0.0)\n",
      "Note: you may need to restart the kernel to use updated packages.\n"
     ]
    }
   ],
   "source": [
    "pip install -U langchain"
   ]
  },
  {
   "cell_type": "code",
   "execution_count": 3,
   "metadata": {},
   "outputs": [],
   "source": [
    "from IPython.display import Markdown"
   ]
  },
  {
   "cell_type": "code",
   "execution_count": 4,
   "metadata": {},
   "outputs": [
    {
     "data": {
      "text/plain": [
       "True"
      ]
     },
     "execution_count": 4,
     "metadata": {},
     "output_type": "execute_result"
    }
   ],
   "source": [
    "# API 키를 환경변수로 관리하기 위한 설정 파일\n",
    "from dotenv import load_dotenv\n",
    "\n",
    "# API 키 정보 로드\n",
    "load_dotenv()"
   ]
  },
  {
   "cell_type": "code",
   "execution_count": 5,
   "metadata": {},
   "outputs": [],
   "source": [
    "import os\n",
    "\n",
    "# 디버깅을 위한 프로젝트명을 기입합니다.\n",
    "os.environ[\"find_textfiles\"] = \"RAG TUTORIAL\"\n",
    "\n",
    "# tracing 을 위해서는 아래 코드의 주석을 해제하고 실행합니다.\n",
    "# os.environ[\"LANGCHAIN_TRACING_V2\"] = true"
   ]
  },
  {
   "cell_type": "code",
   "execution_count": 11,
   "metadata": {},
   "outputs": [],
   "source": [
    "# 환경 변수 설정\n",
    "os.environ[\"LANGCHAIN_TRACING_V2\"] = \"true\"\n",
    "os.environ[\"LANGCHAIN_ENDPOINT\"] = \"https://api.smith.langchain.com\"\n",
    "os.environ[\"LANGCHAIN_PROJECT\"] = \"find_textfiles\"\n",
    "\n",
    "# API 키는 .env 파일에 저장되어 있다고 가정하고 불러옴\n",
    "from dotenv import load_dotenv\n",
    "load_dotenv()\n",
    "os.environ[\"LANGCHAIN_API_KEY\"] = os.getenv(\"API_KEY\")"
   ]
  },
  {
   "cell_type": "code",
   "execution_count": 8,
   "metadata": {},
   "outputs": [],
   "source": [
    "from dotenv import load_dotenv\n",
    "import os\n",
    "\n",
    "# .env 파일에서 환경 변수 로드\n",
    "load_dotenv()\n",
    "\n",
    "# 환경 변수에서 GOOGLE_API_KEY 가져오기\n",
    "google_api_key = os.getenv(\"GOOGLE_API_KEY\")\n",
    "\n",
    "# 필요한 경우, 가져온 API 키를 사용하여 환경 변수 설정\n",
    "os.environ[\"GOOGLE_API_KEY\"] = google_api_key"
   ]
  },
  {
   "cell_type": "markdown",
   "metadata": {},
   "source": [
    "### test for gemini"
   ]
  },
  {
   "cell_type": "code",
   "execution_count": 40,
   "metadata": {},
   "outputs": [
    {
     "data": {
      "text/markdown": [
       "머리통, 기침, 콧물 증상은 감기, 독감 또는 알레르기에 대한 일반적인 신호입니다.\n",
       "\n",
       "**가능한 원인:**\n",
       "\n",
       "* **감기:** 바이러스 감염으로 인한 상기도 감염\n",
       "* **독감:** 감기보다 더 심각한 바이러스 감염으로 인한 상기도 감염\n",
       "* **알레르기:** 특정 알레르겐에 대한 신체의 과잉 반응\n",
       "* **사인usitis:** 코窦의 염증\n",
       "\n",
       "**치료법:**\n",
       "\n",
       "증상의 원인에 따라 치료법이 달라집니다.\n",
       "\n",
       "* **감기와 독감:** 대증적 치료로 증상을 완화할 수 있습니다.\n",
       "* **알레르기:** 알레르겐을 피하거나 알레르기 약물을 복용할 수 있습니다.\n",
       "* **사인usitis:** 항생제, 코 스프레이, 코 세척이 치료에 도움이 될 수 있습니다.\n",
       "\n",
       "**자기 관리 팁:**\n",
       "\n",
       "* 충분한 휴식을 취하세요.\n",
       "* 수분을 충분히 섭취하세요.\n",
       "* 따뜻한 액체(차나 수프)를 마시세요.\n",
       "* 증기를 마시세요.\n",
       "* 코를 자주 세척하세요.\n",
       "* 통증 완화제를 복용하세요.\n",
       "\n",
       "**의사를 만나야 할 때:**\n",
       "\n",
       "증상이 악화되거나 다음과 같은 경우 의사를 만나야 합니다.\n",
       "\n",
       "* 심한 발열\n",
       "* 지속적인 기침\n",
       "* 호흡곤란\n",
       "* 얼굴 또는 귀 통증\n",
       "* 녹색 또는 노란색 콧물\n",
       "* 두통 또는 목 경직"
      ],
      "text/plain": [
       "<IPython.core.display.Markdown object>"
      ]
     },
     "execution_count": 40,
     "metadata": {},
     "output_type": "execute_result"
    }
   ],
   "source": [
    "from langchain_google_genai import ChatGoogleGenerativeAI\n",
    "llm = ChatGoogleGenerativeAI(model=\"gemini-pro\")\n",
    "result = llm.invoke(\"머리가 아프고 기침을 하고 콧물이 나요\")\n",
    "Markdown(result.content)"
   ]
  },
  {
   "cell_type": "code",
   "execution_count": 53,
   "metadata": {},
   "outputs": [],
   "source": [
    "from langchain.chains import RetrievalQA\n",
    "from langchain.document_loaders import TextLoader\n",
    "from langchain.document_loaders import DirectoryLoader\n",
    "from langchain.text_splitter import RecursiveCharacterTextSplitter\n",
    "from langchain.vectorstores import Chroma\n",
    "from langchain.embeddings import HuggingFaceEmbeddings\n",
    "from langchain.retrievers import BM25Retriever, EnsembleRetriever"
   ]
  },
  {
   "cell_type": "code",
   "execution_count": 73,
   "metadata": {},
   "outputs": [
    {
     "data": {
      "text/plain": [
       "1245"
      ]
     },
     "execution_count": 73,
     "metadata": {},
     "output_type": "execute_result"
    }
   ],
   "source": [
    "loader = DirectoryLoader('./new_data_files', glob=\"*.txt\", loader_cls=TextLoader)\n",
    "\n",
    "documents = loader.load()\n",
    "\n",
    "len(documents)\n"
   ]
  },
  {
   "cell_type": "code",
   "execution_count": 74,
   "metadata": {},
   "outputs": [
    {
     "data": {
      "text/plain": [
       "1246"
      ]
     },
     "execution_count": 74,
     "metadata": {},
     "output_type": "execute_result"
    }
   ],
   "source": [
    "text_splitter = RecursiveCharacterTextSplitter(chunk_size=3000, chunk_overlap=200)\n",
    "texts = text_splitter.split_documents(documents)\n",
    "\n",
    "len(texts)"
   ]
  },
  {
   "cell_type": "code",
   "execution_count": 75,
   "metadata": {},
   "outputs": [
    {
     "data": {
      "text/plain": [
       "[Document(page_content='직업성천식: 직업성 천식은 다양한 호흡기계 증상을 보일 수 있다.  숨가쁨, 흉부의 압박, 쌕쌕거림과 기침을 초래할 수 있다. 어떤 경우에는 재채기, 콧물과 눈물 어린 눈의 증상 등으로, 근무 시 먼지에 대한 알레르기 징후를 보일 수 있다. 숨가쁨과 기타 호흡 증상이 나타나기 전 알레르기 증상이 몇 개월 또는 몇 년 동안 존재할 수 있다. 밤에 쌕쌕거리는 것이 유일한 증상일 수도 있다.증상은 업무 시간 중 진전될 수 있지만, 일한 지 몇 시간 후에도 시작되지 않을 수 있으며 노출 24시간 후에 시작될 수도 있다. 또한  노출 후 한 주 이상 생겼다가 사라질 수 있다. 주간에 노출된 후 야간에 증상이 시작될 수도 있다. 한편 주말 동안 또는 휴일이 지나 증상이 약해지거나 사라질 수도 있다. 일반적으로 반복된 노출로 악화되는 경향을 보인다.', metadata={'source': 'new_data_files/직업성천식.txt'}),\n",
       " Document(page_content='대퇴골두무혈성괴사: 대퇴골두에 혈액 공급이 차단되어 괴사가 일어나도 아무런 증상이 없다. 주된 증상인 고관절 부위 통증은 괴사가 발생한 후 상당한 시간이 경과하여 괴사부에 골절이 발생하면서 시작된다. 통증은 대개 갑자기 시작하고 땅을 디딜 때 심해져서 절뚝거리게 된다. 앉거나 누워 있을 때는 훨씬 편안하다. 통증과 대퇴골두의 함몰 변형으로 고관절의 운동범위가 줄어들어 바닥에 책상다리를 하고 앉기가 힘들어지며, 대퇴골두 함몰이 심하면 다리 길이가 짧아진 것을 환자 자신이 느끼게 된다.  \\n\\n\\n좌측 고관절 통증이 생긴 지 1년 된 환자의 단순 방사선 사진\\n\\n\\n\\n좌측 대퇴골두에 괴사가 확인되는 MRI 사진', metadata={'source': 'new_data_files/대퇴골두무혈성괴사.txt'})]"
      ]
     },
     "execution_count": 75,
     "metadata": {},
     "output_type": "execute_result"
    }
   ],
   "source": [
    "texts[2:4]"
   ]
  },
  {
   "cell_type": "markdown",
   "metadata": {},
   "source": [
    "## create chroma db"
   ]
  },
  {
   "cell_type": "code",
   "execution_count": 76,
   "metadata": {},
   "outputs": [],
   "source": [
    "from langchain.embeddings import HuggingFaceEmbeddings\n",
    "from langchain.vectorstores import Chroma\n",
    "\n",
    "# HuggingFace 모델을 사용하여 embedding 초기화\n",
    "model_name = \"jhgan/ko-sbert-nli\"\n",
    "model_kwargs = {'device': 'cpu'}\n",
    "encode_kwargs = {'normalize_embeddings': True}\n",
    "hf = HuggingFaceEmbeddings(\n",
    "    model_name=model_name,\n",
    "    model_kwargs=model_kwargs,\n",
    "    encode_kwargs=encode_kwargs\n",
    ")\n",
    "\n",
    "# Chroma를 사용하여 문서에 대한 벡터 저장\n",
    "persist_directory = 'db'\n",
    "vectordb = Chroma.from_documents(\n",
    "    documents=texts, \n",
    "    embedding=hf,\n",
    "    persist_directory=persist_directory\n",
    ")\n"
   ]
  },
  {
   "cell_type": "code",
   "execution_count": 77,
   "metadata": {},
   "outputs": [],
   "source": [
    "vectordb.persist()\n",
    "vectordb = None"
   ]
  },
  {
   "cell_type": "code",
   "execution_count": 78,
   "metadata": {},
   "outputs": [],
   "source": [
    "vectordb = Chroma(\n",
    "    persist_directory=persist_directory, \n",
    "    embedding_function=hf)"
   ]
  },
  {
   "cell_type": "code",
   "execution_count": 79,
   "metadata": {},
   "outputs": [],
   "source": [
    "# initialize the bm25 retriever and faiss retriever\n",
    "bm25_retriever = BM25Retriever.from_documents(texts)\n",
    "bm25_retriever.k = 5\n",
    "\n",
    "chroma_vectorstore = Chroma.from_documents(texts, hf)\n",
    "chroma_retriever = chroma_vectorstore.as_retriever(search_kwargs={\"k\": 5})\n",
    "\n",
    "# initialize the ensemble retriever\n",
    "ensemble_retriever = EnsembleRetriever(\n",
    "    retrievers=[bm25_retriever, chroma_retriever], weights=[0.7, 0.3]\n",
    ")"
   ]
  },
  {
   "cell_type": "code",
   "execution_count": 28,
   "metadata": {},
   "outputs": [],
   "source": [
    "# retriever = vectordb.as_retriever()"
   ]
  },
  {
   "cell_type": "code",
   "execution_count": 87,
   "metadata": {},
   "outputs": [
    {
     "name": "stdout",
     "output_type": "stream",
     "text": [
      "만성부비동염\n",
      "인플루엔자\n",
      "레지오넬라증\n",
      "신생아사경\n",
      "소아부비동염\n",
      "후비루증후군\n",
      "급성부비동염\n",
      "인후염\n",
      "농흉\n"
     ]
    }
   ],
   "source": [
    "docs = ensemble_retriever.invoke(\"머리가 아프고 콧물이 나고 기침이 있어요\")\n",
    "\n",
    "for doc in docs:\n",
    "    print(doc.metadata[\"source\"].split(\".txt\")[0].split(\"new_data_files/\")[1])"
   ]
  },
  {
   "cell_type": "code",
   "execution_count": 93,
   "metadata": {},
   "outputs": [
    {
     "data": {
      "text/plain": [
       "EnsembleRetriever(retrievers=[BM25Retriever(vectorizer=<rank_bm25.BM25Okapi object at 0x29e5a0810>, k=5), VectorStoreRetriever(tags=['Chroma', 'HuggingFaceEmbeddings'], vectorstore=<langchain_community.vectorstores.chroma.Chroma object at 0x2a060b750>, search_kwargs={'k': 5})], weights=[0.7, 0.3])"
      ]
     },
     "execution_count": 93,
     "metadata": {},
     "output_type": "execute_result"
    }
   ],
   "source": [
    "ensemble_retriever"
   ]
  },
  {
   "cell_type": "code",
   "execution_count": 42,
   "metadata": {},
   "outputs": [],
   "source": [
    "retriever = vectordb.as_retriever(search_kwargs={\"k\": 7})"
   ]
  },
  {
   "cell_type": "code",
   "execution_count": 88,
   "metadata": {},
   "outputs": [
    {
     "name": "stdout",
     "output_type": "stream",
     "text": [
      "new_data_files/후비루증후군.txt\n",
      "new_data_files/만성부비동염.txt\n",
      "new_data_files/급성부비동염.txt\n",
      "new_data_files/인후염.txt\n",
      "new_data_files/급성기관지염.txt\n",
      "new_data_files/영유아콧물.txt\n",
      "new_data_files/편도주위농양.txt\n"
     ]
    }
   ],
   "source": [
    "docs = retriever.get_relevant_documents(\"머리가 아프고 기침을 하고 콧물이 나요\")\n",
    "\n",
    "for doc in docs:\n",
    "    print(doc.metadata[\"source\"])"
   ]
  },
  {
   "cell_type": "code",
   "execution_count": null,
   "metadata": {},
   "outputs": [],
   "source": []
  }
 ],
 "metadata": {
  "kernelspec": {
   "display_name": "base",
   "language": "python",
   "name": "python3"
  },
  "language_info": {
   "codemirror_mode": {
    "name": "ipython",
    "version": 3
   },
   "file_extension": ".py",
   "mimetype": "text/x-python",
   "name": "python",
   "nbconvert_exporter": "python",
   "pygments_lexer": "ipython3",
   "version": "3.11.5"
  }
 },
 "nbformat": 4,
 "nbformat_minor": 2
}
