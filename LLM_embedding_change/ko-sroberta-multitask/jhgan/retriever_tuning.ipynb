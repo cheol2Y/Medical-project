{
 "cells": [
  {
   "cell_type": "markdown",
   "metadata": {},
   "source": [
    "## 데이터 전처리"
   ]
  },
  {
   "cell_type": "code",
   "execution_count": 117,
   "metadata": {},
   "outputs": [
    {
     "name": "stdout",
     "output_type": "stream",
     "text": [
      "huggingface/tokenizers: The current process just got forked, after parallelism has already been used. Disabling parallelism to avoid deadlocks...\n",
      "To disable this warning, you can either:\n",
      "\t- Avoid using `tokenizers` before the fork if possible\n",
      "\t- Explicitly set the environment variable TOKENIZERS_PARALLELISM=(true | false)\n",
      "12401.30s - pydevd: Sending message related to process being replaced timed-out after 5 seconds\n",
      "Collecting langchainhub\n",
      "  Obtaining dependency information for langchainhub from https://files.pythonhosted.org/packages/9c/99/4306b825b9462c824fd6d8dcb959309fb5e654c0d7b6473c5379388a82e9/langchainhub-0.1.14-py3-none-any.whl.metadata\n",
      "  Downloading langchainhub-0.1.14-py3-none-any.whl.metadata (478 bytes)\n",
      "Requirement already satisfied: requests<3,>=2 in /opt/homebrew/anaconda3/lib/python3.11/site-packages (from langchainhub) (2.31.0)\n",
      "Collecting types-requests<3.0.0.0,>=2.31.0.2 (from langchainhub)\n",
      "  Obtaining dependency information for types-requests<3.0.0.0,>=2.31.0.2 from https://files.pythonhosted.org/packages/ce/ca/82c7f75616c524856488cece6b37e459de626cad49b2a24a0b571c20be06/types_requests-2.31.0.20240218-py3-none-any.whl.metadata\n",
      "  Downloading types_requests-2.31.0.20240218-py3-none-any.whl.metadata (1.8 kB)\n",
      "Requirement already satisfied: charset-normalizer<4,>=2 in /opt/homebrew/anaconda3/lib/python3.11/site-packages (from requests<3,>=2->langchainhub) (2.0.4)\n",
      "Requirement already satisfied: idna<4,>=2.5 in /opt/homebrew/anaconda3/lib/python3.11/site-packages (from requests<3,>=2->langchainhub) (3.4)\n",
      "Requirement already satisfied: urllib3<3,>=1.21.1 in /opt/homebrew/anaconda3/lib/python3.11/site-packages (from requests<3,>=2->langchainhub) (1.26.16)\n",
      "Requirement already satisfied: certifi>=2017.4.17 in /opt/homebrew/anaconda3/lib/python3.11/site-packages (from requests<3,>=2->langchainhub) (2023.7.22)\n",
      "Collecting urllib3<3,>=1.21.1 (from requests<3,>=2->langchainhub)\n",
      "  Obtaining dependency information for urllib3<3,>=1.21.1 from https://files.pythonhosted.org/packages/a2/73/a68704750a7679d0b6d3ad7aa8d4da8e14e151ae82e6fee774e6e0d05ec8/urllib3-2.2.1-py3-none-any.whl.metadata\n",
      "  Downloading urllib3-2.2.1-py3-none-any.whl.metadata (6.4 kB)\n",
      "Downloading langchainhub-0.1.14-py3-none-any.whl (3.4 kB)\n",
      "Downloading types_requests-2.31.0.20240218-py3-none-any.whl (14 kB)\n",
      "Downloading urllib3-2.2.1-py3-none-any.whl (121 kB)\n",
      "\u001b[2K   \u001b[90m━━━━━━━━━━━━━━━━━━━━━━━━━━━━━━━━━━━━━━━\u001b[0m \u001b[32m121.1/121.1 kB\u001b[0m \u001b[31m906.6 kB/s\u001b[0m eta \u001b[36m0:00:00\u001b[0m\u001b[36m0:00:01\u001b[0m\n",
      "\u001b[?25hInstalling collected packages: urllib3, types-requests, langchainhub\n",
      "  Attempting uninstall: urllib3\n",
      "    Found existing installation: urllib3 1.26.16\n",
      "    Uninstalling urllib3-1.26.16:\n",
      "      Successfully uninstalled urllib3-1.26.16\n",
      "\u001b[31mERROR: pip's dependency resolver does not currently take into account all the packages that are installed. This behaviour is the source of the following dependency conflicts.\n",
      "datasets 2.12.0 requires dill<0.3.7,>=0.3.0, but you have dill 0.3.8 which is incompatible.\n",
      "botocore 1.34.34 requires urllib3<2.1,>=1.25.4; python_version >= \"3.10\", but you have urllib3 2.2.1 which is incompatible.\u001b[0m\u001b[31m\n",
      "\u001b[0mSuccessfully installed langchainhub-0.1.14 types-requests-2.31.0.20240218 urllib3-2.2.1\n",
      "Note: you may need to restart the kernel to use updated packages.\n"
     ]
    }
   ],
   "source": [
    "%pip install langchainhub"
   ]
  },
  {
   "cell_type": "code",
   "execution_count": 86,
   "metadata": {},
   "outputs": [
    {
     "name": "stdout",
     "output_type": "stream",
     "text": [
      "통합된 데이터를 저장했습니다: /Users/jangminsoo/Desktop/dev/Medical-project/LLM_embedding_change/ko-sroberta-multitask/jhgan/combined_data.csv\n"
     ]
    }
   ],
   "source": [
    "import os\n",
    "import pandas as pd\n",
    "\n",
    "# 디렉토리 경로\n",
    "directory = \"/Users/jangminsoo/Desktop/dev/Medical-project/LLM_embedding_change/ko-sroberta-multitask/jhgan/sick\"\n",
    "\n",
    "# 모든 CSV 파일을 읽어들여 데이터를 통합합니다.\n",
    "all_data = pd.DataFrame()\n",
    "for filename in os.listdir(directory):\n",
    "    if filename.endswith(\".csv\"):\n",
    "        filepath = os.path.join(directory, filename)\n",
    "        data = pd.read_csv(filepath)\n",
    "        all_data = pd.concat([all_data, data])\n",
    "\n",
    "# 증상과 병명 열만 남깁니다.\n",
    "all_data = all_data[['증상', '병명']]\n",
    "\n",
    "# 누락된 값이 있는 행을 제거합니다.\n",
    "all_data = all_data.dropna(subset=['증상', '병명'])\n",
    "\n",
    "# 결과를 새로운 CSV 파일로 저장합니다.\n",
    "output_filepath = \"/Users/jangminsoo/Desktop/dev/Medical-project/LLM_embedding_change/ko-sroberta-multitask/jhgan/combined_data.csv\"\n",
    "all_data.to_csv(output_filepath, index=False)\n",
    "\n",
    "print(\"통합된 데이터를 저장했습니다:\", output_filepath)\n"
   ]
  },
  {
   "cell_type": "markdown",
   "metadata": {},
   "source": [
    "## 데이터에서 형태소 분석을 통해 증상을 명사로만 뽑아서 시도해봄.\n",
    "\n"
   ]
  },
  {
   "cell_type": "code",
   "execution_count": 179,
   "metadata": {},
   "outputs": [
    {
     "name": "stdout",
     "output_type": "stream",
     "text": [
      "huggingface/tokenizers: The current process just got forked, after parallelism has already been used. Disabling parallelism to avoid deadlocks...\n",
      "To disable this warning, you can either:\n",
      "\t- Avoid using `tokenizers` before the fork if possible\n",
      "\t- Explicitly set the environment variable TOKENIZERS_PARALLELISM=(true | false)\n",
      "17870.30s - pydevd: Sending message related to process being replaced timed-out after 5 seconds\n",
      "Requirement already satisfied: konlpy in /opt/homebrew/anaconda3/lib/python3.11/site-packages (0.6.0)\n",
      "Requirement already satisfied: JPype1>=0.7.0 in /opt/homebrew/anaconda3/lib/python3.11/site-packages (from konlpy) (1.5.0)\n",
      "Requirement already satisfied: lxml>=4.1.0 in /opt/homebrew/anaconda3/lib/python3.11/site-packages (from konlpy) (4.9.3)\n",
      "Requirement already satisfied: numpy>=1.6 in /opt/homebrew/anaconda3/lib/python3.11/site-packages (from konlpy) (1.24.3)\n",
      "Requirement already satisfied: packaging in /opt/homebrew/anaconda3/lib/python3.11/site-packages (from JPype1>=0.7.0->konlpy) (23.2)\n",
      "Note: you may need to restart the kernel to use updated packages.\n"
     ]
    }
   ],
   "source": [
    "%pip install konlpy"
   ]
  },
  {
   "cell_type": "code",
   "execution_count": 183,
   "metadata": {},
   "outputs": [
    {
     "name": "stdout",
     "output_type": "stream",
     "text": [
      "0       다른 사람 권리 무시 행동 양식 반복 지속 이 반복 범법 행위 참여 거나 연루 다른...\n",
      "1       통증 압통 및 종창 부종 전형 증상 급 성기 체중 서기 정도 손상 경우 순간 인대 ...\n",
      "2       자궁 경관 용종 대부분 증상 정기 검진 시 의사 발견 증상 경우 생리 중간 부정 기...\n",
      "3       복통 보통 오른쪽 왼쪽 중 한쪽 경우 대부분 몇 시간 안 통증 복부 불편 감 지속 ...\n",
      "4       대부분 무증상 경우 그 외 비정상 질 출혈 성교 시 통증 및 출혈 질 분비물 증가 ...\n",
      "                              ...                        \n",
      "1240      손발 저리 증상 의학 감각 이상 주파수 진동 감각 과 느낌 주관 간혹 통증 동반 기도\n",
      "1241    무 조짐 편두통 편두통 보통 전구 증상 조짐 두통 및 동반 증상 해소 기 후유증 상...\n",
      "1242    만성 췌장염 환자 통증 지속 간 적일 수 통증 수도 점 급성 췌장염 차이 통증 전형...\n",
      "1243    망막색소변성증 대표 가지 증상 야맹증 시야협착 야맹증 야간 시력 저하 증상 망막색소...\n",
      "1244                  증상 신체 과열 것 땀 동반 과민증 보통 증상 시작 장기간 지속\n",
      "Name: 증상, Length: 1245, dtype: object\n"
     ]
    }
   ],
   "source": [
    "import pandas as pd\n",
    "from konlpy.tag import Okt\n",
    "\n",
    "# CSV 파일 경로\n",
    "csv_file_path = \"/Users/jangminsoo/Desktop/dev/Medical-project/LLM_embedding_change/ko-sroberta-multitask/jhgan/combined_data.csv\"\n",
    "\n",
    "# CSV 파일 읽기\n",
    "data = pd.read_csv(csv_file_path)\n",
    "\n",
    "# Okt 형태소 분석기 초기화\n",
    "okt = Okt()\n",
    "\n",
    "# 형태소 분석 및 명사 추출 함수 정의\n",
    "def extract_nouns(text):\n",
    "    nouns = okt.nouns(text)  # 형태소 분석기를 사용하여 명사만 추출\n",
    "    return \" \".join(nouns)  # 추출된 명사들을 하나의 문자열로 결합하여 반환\n",
    "\n",
    "# 모든 증상 데이터에 대해 형태소 분석 및 명사 추출 적용\n",
    "data[\"증상\"] = data[\"증상\"].apply(extract_nouns)\n",
    "\n",
    "# 결과 출력\n",
    "print(data[\"증상\"])\n"
   ]
  },
  {
   "cell_type": "code",
   "execution_count": 184,
   "metadata": {},
   "outputs": [
    {
     "data": {
      "text/html": [
       "<div>\n",
       "<style scoped>\n",
       "    .dataframe tbody tr th:only-of-type {\n",
       "        vertical-align: middle;\n",
       "    }\n",
       "\n",
       "    .dataframe tbody tr th {\n",
       "        vertical-align: top;\n",
       "    }\n",
       "\n",
       "    .dataframe thead th {\n",
       "        text-align: right;\n",
       "    }\n",
       "</style>\n",
       "<table border=\"1\" class=\"dataframe\">\n",
       "  <thead>\n",
       "    <tr style=\"text-align: right;\">\n",
       "      <th></th>\n",
       "      <th>증상</th>\n",
       "      <th>병명</th>\n",
       "    </tr>\n",
       "  </thead>\n",
       "  <tbody>\n",
       "    <tr>\n",
       "      <th>0</th>\n",
       "      <td>다른 사람 권리 무시 행동 양식 반복 지속 이 반복 범법 행위 참여 거나 연루 다른...</td>\n",
       "      <td>반사회적인격장애</td>\n",
       "    </tr>\n",
       "    <tr>\n",
       "      <th>1</th>\n",
       "      <td>통증 압통 및 종창 부종 전형 증상 급 성기 체중 서기 정도 손상 경우 순간 인대 ...</td>\n",
       "      <td>발목염좌</td>\n",
       "    </tr>\n",
       "    <tr>\n",
       "      <th>2</th>\n",
       "      <td>자궁 경관 용종 대부분 증상 정기 검진 시 의사 발견 증상 경우 생리 중간 부정 기...</td>\n",
       "      <td>자궁내경관용종</td>\n",
       "    </tr>\n",
       "    <tr>\n",
       "      <th>3</th>\n",
       "      <td>복통 보통 오른쪽 왼쪽 중 한쪽 경우 대부분 몇 시간 안 통증 복부 불편 감 지속 ...</td>\n",
       "      <td>배란통</td>\n",
       "    </tr>\n",
       "    <tr>\n",
       "      <th>4</th>\n",
       "      <td>대부분 무증상 경우 그 외 비정상 질 출혈 성교 시 통증 및 출혈 질 분비물 증가 ...</td>\n",
       "      <td>자궁경부비정형세포</td>\n",
       "    </tr>\n",
       "    <tr>\n",
       "      <th>...</th>\n",
       "      <td>...</td>\n",
       "      <td>...</td>\n",
       "    </tr>\n",
       "    <tr>\n",
       "      <th>1240</th>\n",
       "      <td>손발 저리 증상 의학 감각 이상 주파수 진동 감각 과 느낌 주관 간혹 통증 동반 기도</td>\n",
       "      <td>손발저림,감각없음</td>\n",
       "    </tr>\n",
       "    <tr>\n",
       "      <th>1241</th>\n",
       "      <td>무 조짐 편두통 편두통 보통 전구 증상 조짐 두통 및 동반 증상 해소 기 후유증 상...</td>\n",
       "      <td>편두통</td>\n",
       "    </tr>\n",
       "    <tr>\n",
       "      <th>1242</th>\n",
       "      <td>만성 췌장염 환자 통증 지속 간 적일 수 통증 수도 점 급성 췌장염 차이 통증 전형...</td>\n",
       "      <td>만성췌장염</td>\n",
       "    </tr>\n",
       "    <tr>\n",
       "      <th>1243</th>\n",
       "      <td>망막색소변성증 대표 가지 증상 야맹증 시야협착 야맹증 야간 시력 저하 증상 망막색소...</td>\n",
       "      <td>망막색소변성증</td>\n",
       "    </tr>\n",
       "    <tr>\n",
       "      <th>1244</th>\n",
       "      <td>증상 신체 과열 것 땀 동반 과민증 보통 증상 시작 장기간 지속</td>\n",
       "      <td>열과민증</td>\n",
       "    </tr>\n",
       "  </tbody>\n",
       "</table>\n",
       "<p>1245 rows × 2 columns</p>\n",
       "</div>"
      ],
      "text/plain": [
       "                                                     증상         병명\n",
       "0     다른 사람 권리 무시 행동 양식 반복 지속 이 반복 범법 행위 참여 거나 연루 다른...   반사회적인격장애\n",
       "1     통증 압통 및 종창 부종 전형 증상 급 성기 체중 서기 정도 손상 경우 순간 인대 ...       발목염좌\n",
       "2     자궁 경관 용종 대부분 증상 정기 검진 시 의사 발견 증상 경우 생리 중간 부정 기...    자궁내경관용종\n",
       "3     복통 보통 오른쪽 왼쪽 중 한쪽 경우 대부분 몇 시간 안 통증 복부 불편 감 지속 ...        배란통\n",
       "4     대부분 무증상 경우 그 외 비정상 질 출혈 성교 시 통증 및 출혈 질 분비물 증가 ...  자궁경부비정형세포\n",
       "...                                                 ...        ...\n",
       "1240    손발 저리 증상 의학 감각 이상 주파수 진동 감각 과 느낌 주관 간혹 통증 동반 기도  손발저림,감각없음\n",
       "1241  무 조짐 편두통 편두통 보통 전구 증상 조짐 두통 및 동반 증상 해소 기 후유증 상...        편두통\n",
       "1242  만성 췌장염 환자 통증 지속 간 적일 수 통증 수도 점 급성 췌장염 차이 통증 전형...      만성췌장염\n",
       "1243  망막색소변성증 대표 가지 증상 야맹증 시야협착 야맹증 야간 시력 저하 증상 망막색소...    망막색소변성증\n",
       "1244                증상 신체 과열 것 땀 동반 과민증 보통 증상 시작 장기간 지속       열과민증\n",
       "\n",
       "[1245 rows x 2 columns]"
      ]
     },
     "execution_count": 184,
     "metadata": {},
     "output_type": "execute_result"
    }
   ],
   "source": [
    "data"
   ]
  },
  {
   "cell_type": "code",
   "execution_count": 186,
   "metadata": {},
   "outputs": [],
   "source": [
    "# 저장할 CSV 파일 경로\n",
    "output_csv_path = \"/Users/jangminsoo/Desktop/dev/Medical-project/LLM_embedding_change/ko-sroberta-multitask/jhgan/nouns.csv\"\n",
    "\n",
    "# 데이터를 CSV 파일로 저장\n",
    "data.to_csv(output_csv_path, index=False)\n"
   ]
  },
  {
   "cell_type": "markdown",
   "metadata": {},
   "source": [
    "# retriever tuning \n",
    "### embedding  = jhgan/ko-sbert-nli"
   ]
  },
  {
   "cell_type": "markdown",
   "metadata": {},
   "source": [
    "### .env file 에 자신의 lang smith api key를 정의.\n",
    "#### .env file엔 Lang smith를 연결하는 [API_KEY]와 gemini api인  [GOOGLE_API_KEY] 두개를 정의."
   ]
  },
  {
   "cell_type": "markdown",
   "metadata": {},
   "source": [
    "# Lang smith 에 연결 (모니터링을 위함)"
   ]
  },
  {
   "cell_type": "code",
   "execution_count": 87,
   "metadata": {},
   "outputs": [],
   "source": [
    "from IPython.display import Markdown"
   ]
  },
  {
   "cell_type": "code",
   "execution_count": 88,
   "metadata": {},
   "outputs": [
    {
     "data": {
      "text/plain": [
       "True"
      ]
     },
     "execution_count": 88,
     "metadata": {},
     "output_type": "execute_result"
    }
   ],
   "source": [
    "# API 키를 환경변수로 관리하기 위한 설정 파일\n",
    "from dotenv import load_dotenv\n",
    "\n",
    "# API 키 정보 로드\n",
    "load_dotenv()"
   ]
  },
  {
   "cell_type": "code",
   "execution_count": 89,
   "metadata": {},
   "outputs": [],
   "source": [
    "import os\n",
    "\n",
    "# 디버깅을 위한 프로젝트명을 기입합니다.\n",
    "os.environ[\"retriever_tuning\"] = \"RAG TUTORIAL\"\n",
    "\n",
    "# tracing 을 위해서는 아래 코드의 주석을 해제하고 실행합니다.\n",
    "# os.environ[\"LANGCHAIN_TRACING_V2\"] = true"
   ]
  },
  {
   "cell_type": "code",
   "execution_count": 90,
   "metadata": {},
   "outputs": [
    {
     "name": "stdout",
     "output_type": "stream",
     "text": [
      "huggingface/tokenizers: The current process just got forked, after parallelism has already been used. Disabling parallelism to avoid deadlocks...\n",
      "To disable this warning, you can either:\n",
      "\t- Avoid using `tokenizers` before the fork if possible\n",
      "\t- Explicitly set the environment variable TOKENIZERS_PARALLELISM=(true | false)\n",
      "11415.97s - pydevd: Sending message related to process being replaced timed-out after 5 seconds\n",
      "Requirement already satisfied: langchain in /opt/homebrew/anaconda3/lib/python3.11/site-packages (0.1.8)\n",
      "Requirement already satisfied: PyYAML>=5.3 in /opt/homebrew/anaconda3/lib/python3.11/site-packages (from langchain) (6.0)\n",
      "Requirement already satisfied: SQLAlchemy<3,>=1.4 in /opt/homebrew/anaconda3/lib/python3.11/site-packages (from langchain) (2.0.25)\n",
      "Requirement already satisfied: aiohttp<4.0.0,>=3.8.3 in /opt/homebrew/anaconda3/lib/python3.11/site-packages (from langchain) (3.8.5)\n",
      "Requirement already satisfied: dataclasses-json<0.7,>=0.5.7 in /opt/homebrew/anaconda3/lib/python3.11/site-packages (from langchain) (0.6.4)\n",
      "Requirement already satisfied: jsonpatch<2.0,>=1.33 in /opt/homebrew/anaconda3/lib/python3.11/site-packages (from langchain) (1.33)\n",
      "Requirement already satisfied: langchain-community<0.1,>=0.0.21 in /opt/homebrew/anaconda3/lib/python3.11/site-packages (from langchain) (0.0.21)\n",
      "Requirement already satisfied: langchain-core<0.2,>=0.1.24 in /opt/homebrew/anaconda3/lib/python3.11/site-packages (from langchain) (0.1.24)\n",
      "Requirement already satisfied: langsmith<0.2.0,>=0.1.0 in /opt/homebrew/anaconda3/lib/python3.11/site-packages (from langchain) (0.1.2)\n",
      "Requirement already satisfied: numpy<2,>=1 in /opt/homebrew/anaconda3/lib/python3.11/site-packages (from langchain) (1.24.3)\n",
      "Requirement already satisfied: pydantic<3,>=1 in /opt/homebrew/anaconda3/lib/python3.11/site-packages (from langchain) (1.10.8)\n",
      "Requirement already satisfied: requests<3,>=2 in /opt/homebrew/anaconda3/lib/python3.11/site-packages (from langchain) (2.31.0)\n",
      "Requirement already satisfied: tenacity<9.0.0,>=8.1.0 in /opt/homebrew/anaconda3/lib/python3.11/site-packages (from langchain) (8.2.3)\n",
      "Requirement already satisfied: attrs>=17.3.0 in /opt/homebrew/anaconda3/lib/python3.11/site-packages (from aiohttp<4.0.0,>=3.8.3->langchain) (22.1.0)\n",
      "Requirement already satisfied: charset-normalizer<4.0,>=2.0 in /opt/homebrew/anaconda3/lib/python3.11/site-packages (from aiohttp<4.0.0,>=3.8.3->langchain) (2.0.4)\n",
      "Requirement already satisfied: multidict<7.0,>=4.5 in /opt/homebrew/anaconda3/lib/python3.11/site-packages (from aiohttp<4.0.0,>=3.8.3->langchain) (6.0.2)\n",
      "Requirement already satisfied: async-timeout<5.0,>=4.0.0a3 in /opt/homebrew/anaconda3/lib/python3.11/site-packages (from aiohttp<4.0.0,>=3.8.3->langchain) (4.0.2)\n",
      "Requirement already satisfied: yarl<2.0,>=1.0 in /opt/homebrew/anaconda3/lib/python3.11/site-packages (from aiohttp<4.0.0,>=3.8.3->langchain) (1.8.1)\n",
      "Requirement already satisfied: frozenlist>=1.1.1 in /opt/homebrew/anaconda3/lib/python3.11/site-packages (from aiohttp<4.0.0,>=3.8.3->langchain) (1.3.3)\n",
      "Requirement already satisfied: aiosignal>=1.1.2 in /opt/homebrew/anaconda3/lib/python3.11/site-packages (from aiohttp<4.0.0,>=3.8.3->langchain) (1.2.0)\n",
      "Requirement already satisfied: marshmallow<4.0.0,>=3.18.0 in /opt/homebrew/anaconda3/lib/python3.11/site-packages (from dataclasses-json<0.7,>=0.5.7->langchain) (3.20.2)\n",
      "Requirement already satisfied: typing-inspect<1,>=0.4.0 in /opt/homebrew/anaconda3/lib/python3.11/site-packages (from dataclasses-json<0.7,>=0.5.7->langchain) (0.9.0)\n",
      "Requirement already satisfied: jsonpointer>=1.9 in /opt/homebrew/anaconda3/lib/python3.11/site-packages (from jsonpatch<2.0,>=1.33->langchain) (2.1)\n",
      "Requirement already satisfied: anyio<5,>=3 in /opt/homebrew/anaconda3/lib/python3.11/site-packages (from langchain-core<0.2,>=0.1.24->langchain) (3.5.0)\n",
      "Requirement already satisfied: packaging<24.0,>=23.2 in /opt/homebrew/anaconda3/lib/python3.11/site-packages (from langchain-core<0.2,>=0.1.24->langchain) (23.2)\n",
      "Requirement already satisfied: typing-extensions>=4.2.0 in /opt/homebrew/anaconda3/lib/python3.11/site-packages (from pydantic<3,>=1->langchain) (4.9.0)\n",
      "Requirement already satisfied: idna<4,>=2.5 in /opt/homebrew/anaconda3/lib/python3.11/site-packages (from requests<3,>=2->langchain) (3.4)\n",
      "Requirement already satisfied: urllib3<3,>=1.21.1 in /opt/homebrew/anaconda3/lib/python3.11/site-packages (from requests<3,>=2->langchain) (1.26.16)\n",
      "Requirement already satisfied: certifi>=2017.4.17 in /opt/homebrew/anaconda3/lib/python3.11/site-packages (from requests<3,>=2->langchain) (2023.7.22)\n",
      "Requirement already satisfied: sniffio>=1.1 in /opt/homebrew/anaconda3/lib/python3.11/site-packages (from anyio<5,>=3->langchain-core<0.2,>=0.1.24->langchain) (1.2.0)\n",
      "Requirement already satisfied: mypy-extensions>=0.3.0 in /opt/homebrew/anaconda3/lib/python3.11/site-packages (from typing-inspect<1,>=0.4.0->dataclasses-json<0.7,>=0.5.7->langchain) (1.0.0)\n",
      "Note: you may need to restart the kernel to use updated packages.\n"
     ]
    }
   ],
   "source": [
    "pip install -U langchain"
   ]
  },
  {
   "cell_type": "code",
   "execution_count": 91,
   "metadata": {},
   "outputs": [],
   "source": [
    "# 환경 변수 설정\n",
    "os.environ[\"LANGCHAIN_TRACING_V2\"] = \"true\"\n",
    "os.environ[\"LANGCHAIN_ENDPOINT\"] = \"https://api.smith.langchain.com\"\n",
    "os.environ[\"LANGCHAIN_PROJECT\"] = \"retriever_tuning\"\n",
    "\n",
    "# API 키는 .env 파일에 저장되어 있다고 가정하고 불러옴\n",
    "from dotenv import load_dotenv\n",
    "load_dotenv()\n",
    "os.environ[\"LANGCHAIN_API_KEY\"] = os.getenv(\"API_KEY\")"
   ]
  },
  {
   "cell_type": "markdown",
   "metadata": {},
   "source": [
    "# 구글 gemini api "
   ]
  },
  {
   "cell_type": "code",
   "execution_count": 92,
   "metadata": {},
   "outputs": [],
   "source": [
    "from dotenv import load_dotenv\n",
    "import os\n",
    "\n",
    "# .env 파일에서 환경 변수 로드\n",
    "load_dotenv()\n",
    "\n",
    "# 환경 변수에서 GOOGLE_API_KEY 가져오기\n",
    "google_api_key = os.getenv(\"GOOGLE_API_KEY\")\n",
    "\n",
    "# 필요한 경우, 가져온 API 키를 사용하여 환경 변수 설정\n",
    "os.environ[\"GOOGLE_API_KEY\"] = google_api_key\n"
   ]
  },
  {
   "cell_type": "code",
   "execution_count": 93,
   "metadata": {},
   "outputs": [
    {
     "name": "stdout",
     "output_type": "stream",
     "text": [
      "huggingface/tokenizers: The current process just got forked, after parallelism has already been used. Disabling parallelism to avoid deadlocks...\n",
      "To disable this warning, you can either:\n",
      "\t- Avoid using `tokenizers` before the fork if possible\n",
      "\t- Explicitly set the environment variable TOKENIZERS_PARALLELISM=(true | false)\n",
      "11424.02s - pydevd: Sending message related to process being replaced timed-out after 5 seconds\n",
      "Note: you may need to restart the kernel to use updated packages.\n"
     ]
    }
   ],
   "source": [
    "%pip install -U --quiet langchain-google-genai"
   ]
  },
  {
   "cell_type": "code",
   "execution_count": 94,
   "metadata": {},
   "outputs": [],
   "source": [
    "from langchain_google_genai import ChatGoogleGenerativeAI"
   ]
  },
  {
   "cell_type": "markdown",
   "metadata": {},
   "source": [
    "# Gemini test"
   ]
  },
  {
   "cell_type": "code",
   "execution_count": 95,
   "metadata": {},
   "outputs": [
    {
     "data": {
      "text/markdown": [
       "**증상:**\n",
       "\n",
       "* 열\n",
       "* 목 아픔\n",
       "* 기침\n",
       "\n",
       "**가능한 원인:**\n",
       "\n",
       "* 독감\n",
       "* 감기\n",
       "* 편도선염\n",
       "* 후두염\n",
       "* 기관지염\n",
       "* 폐렴\n",
       "\n",
       "**치료:**\n",
       "\n",
       "증상의 근본 원인에 따라 치료가 달라집니다.\n",
       "\n",
       "**일반적인 치료법:**\n",
       "\n",
       "* **휴식:** 충분한 휴식을 취하세요.\n",
       "* **수분 공급:** 많은 수분을 섭취하세요.\n",
       "* **목 아픔 완화:** 따뜻한 소금물로 가글을 하거나 로진지를 빨아보세요.\n",
       "* **기침 완화:** 기침 억제제 또는 점액제거제를 복용하세요.\n",
       "* **열 낮춤:** 아세트아미노펜 또는 이부프로펜과 같은 해열제를 복용하세요.\n",
       "\n",
       "**의사의 진료가 필요한 경우:**\n",
       "\n",
       "* 열이 38.9°C(102°F) 이상인 경우\n",
       "* 목이 심하게 아프거나 삼키기 어려운 경우\n",
       "* 기침이 심하거나 호흡곤란이 있는 경우\n",
       "* 증상이 3일 이상 지속되는 경우\n",
       "* 증상이 악화되거나 새로운 증상이 나타나는 경우\n",
       "\n",
       "**예방:**\n",
       "\n",
       "* 감기와 독감 예방접종을 받으세요.\n",
       "* 자주 손을 씻으세요.\n",
       "* 아픈 사람과 가까이 접촉하는 것을 피하세요.\n",
       "* 흡연을 피하세요.\n",
       "* 건강한 식습관과 수면습관을 유지하세요.\n",
       "\n",
       "**주의 사항:**\n",
       "\n",
       "진단과 치료는 의료 전문가가 해야 합니다. 자가 치료를 하지 마세요."
      ],
      "text/plain": [
       "<IPython.core.display.Markdown object>"
      ]
     },
     "execution_count": 95,
     "metadata": {},
     "output_type": "execute_result"
    }
   ],
   "source": [
    "llm = ChatGoogleGenerativeAI(model=\"gemini-pro\")\n",
    "result = llm.invoke(\"열이 나고 목이 아프고 기침을 합니다\")\n",
    "Markdown(result.content)"
   ]
  },
  {
   "cell_type": "markdown",
   "metadata": {},
   "source": [
    "# vectoer store : chromadb"
   ]
  },
  {
   "cell_type": "code",
   "execution_count": 96,
   "metadata": {},
   "outputs": [
    {
     "name": "stdout",
     "output_type": "stream",
     "text": [
      "huggingface/tokenizers: The current process just got forked, after parallelism has already been used. Disabling parallelism to avoid deadlocks...\n",
      "To disable this warning, you can either:\n",
      "\t- Avoid using `tokenizers` before the fork if possible\n",
      "\t- Explicitly set the environment variable TOKENIZERS_PARALLELISM=(true | false)\n",
      "11439.79s - pydevd: Sending message related to process being replaced timed-out after 5 seconds\n",
      "Note: you may need to restart the kernel to use updated packages.\n"
     ]
    }
   ],
   "source": [
    "%pip install -U --quiet langchain tiktoken pypdf sentence_transformers chromadb"
   ]
  },
  {
   "cell_type": "code",
   "execution_count": 97,
   "metadata": {},
   "outputs": [
    {
     "name": "stdout",
     "output_type": "stream",
     "text": [
      "huggingface/tokenizers: The current process just got forked, after parallelism has already been used. Disabling parallelism to avoid deadlocks...\n",
      "To disable this warning, you can either:\n",
      "\t- Avoid using `tokenizers` before the fork if possible\n",
      "\t- Explicitly set the environment variable TOKENIZERS_PARALLELISM=(true | false)\n",
      "11448.37s - pydevd: Sending message related to process being replaced timed-out after 5 seconds\n",
      "Requirement already satisfied: chromadb in /opt/homebrew/anaconda3/lib/python3.11/site-packages (0.4.22)\n",
      "Requirement already satisfied: build>=1.0.3 in /opt/homebrew/anaconda3/lib/python3.11/site-packages (from chromadb) (1.0.3)\n",
      "Requirement already satisfied: requests>=2.28 in /opt/homebrew/anaconda3/lib/python3.11/site-packages (from chromadb) (2.31.0)\n",
      "Requirement already satisfied: pydantic>=1.9 in /opt/homebrew/anaconda3/lib/python3.11/site-packages (from chromadb) (1.10.8)\n",
      "Requirement already satisfied: chroma-hnswlib==0.7.3 in /opt/homebrew/anaconda3/lib/python3.11/site-packages (from chromadb) (0.7.3)\n",
      "Requirement already satisfied: fastapi>=0.95.2 in /opt/homebrew/anaconda3/lib/python3.11/site-packages (from chromadb) (0.109.2)\n",
      "Requirement already satisfied: uvicorn[standard]>=0.18.3 in /opt/homebrew/anaconda3/lib/python3.11/site-packages (from chromadb) (0.27.1)\n",
      "Requirement already satisfied: numpy>=1.22.5 in /opt/homebrew/anaconda3/lib/python3.11/site-packages (from chromadb) (1.24.3)\n",
      "Requirement already satisfied: posthog>=2.4.0 in /opt/homebrew/anaconda3/lib/python3.11/site-packages (from chromadb) (3.4.1)\n",
      "Requirement already satisfied: typing-extensions>=4.5.0 in /opt/homebrew/anaconda3/lib/python3.11/site-packages (from chromadb) (4.9.0)\n",
      "Requirement already satisfied: pulsar-client>=3.1.0 in /opt/homebrew/anaconda3/lib/python3.11/site-packages (from chromadb) (3.4.0)\n",
      "Requirement already satisfied: onnxruntime>=1.14.1 in /opt/homebrew/anaconda3/lib/python3.11/site-packages (from chromadb) (1.17.0)\n",
      "Requirement already satisfied: opentelemetry-api>=1.2.0 in /opt/homebrew/anaconda3/lib/python3.11/site-packages (from chromadb) (1.22.0)\n",
      "Requirement already satisfied: opentelemetry-exporter-otlp-proto-grpc>=1.2.0 in /opt/homebrew/anaconda3/lib/python3.11/site-packages (from chromadb) (1.22.0)\n",
      "Requirement already satisfied: opentelemetry-instrumentation-fastapi>=0.41b0 in /opt/homebrew/anaconda3/lib/python3.11/site-packages (from chromadb) (0.43b0)\n",
      "Requirement already satisfied: opentelemetry-sdk>=1.2.0 in /opt/homebrew/anaconda3/lib/python3.11/site-packages (from chromadb) (1.22.0)\n",
      "Requirement already satisfied: tokenizers>=0.13.2 in /opt/homebrew/anaconda3/lib/python3.11/site-packages (from chromadb) (0.13.2)\n",
      "Requirement already satisfied: pypika>=0.48.9 in /opt/homebrew/anaconda3/lib/python3.11/site-packages (from chromadb) (0.48.9)\n",
      "Requirement already satisfied: tqdm>=4.65.0 in /opt/homebrew/anaconda3/lib/python3.11/site-packages (from chromadb) (4.65.0)\n",
      "Requirement already satisfied: overrides>=7.3.1 in /opt/homebrew/anaconda3/lib/python3.11/site-packages (from chromadb) (7.7.0)\n",
      "Requirement already satisfied: importlib-resources in /opt/homebrew/anaconda3/lib/python3.11/site-packages (from chromadb) (6.1.1)\n",
      "Requirement already satisfied: grpcio>=1.58.0 in /opt/homebrew/anaconda3/lib/python3.11/site-packages (from chromadb) (1.60.1)\n",
      "Requirement already satisfied: bcrypt>=4.0.1 in /opt/homebrew/anaconda3/lib/python3.11/site-packages (from chromadb) (4.1.2)\n",
      "Requirement already satisfied: typer>=0.9.0 in /opt/homebrew/anaconda3/lib/python3.11/site-packages (from chromadb) (0.9.0)\n",
      "Requirement already satisfied: kubernetes>=28.1.0 in /opt/homebrew/anaconda3/lib/python3.11/site-packages (from chromadb) (29.0.0)\n",
      "Requirement already satisfied: tenacity>=8.2.3 in /opt/homebrew/anaconda3/lib/python3.11/site-packages (from chromadb) (8.2.3)\n",
      "Requirement already satisfied: PyYAML>=6.0.0 in /opt/homebrew/anaconda3/lib/python3.11/site-packages (from chromadb) (6.0)\n",
      "Requirement already satisfied: mmh3>=4.0.1 in /opt/homebrew/anaconda3/lib/python3.11/site-packages (from chromadb) (4.1.0)\n",
      "Requirement already satisfied: packaging>=19.0 in /opt/homebrew/anaconda3/lib/python3.11/site-packages (from build>=1.0.3->chromadb) (23.2)\n",
      "Requirement already satisfied: pyproject_hooks in /opt/homebrew/anaconda3/lib/python3.11/site-packages (from build>=1.0.3->chromadb) (1.0.0)\n",
      "Requirement already satisfied: starlette<0.37.0,>=0.36.3 in /opt/homebrew/anaconda3/lib/python3.11/site-packages (from fastapi>=0.95.2->chromadb) (0.36.3)\n",
      "Requirement already satisfied: certifi>=14.05.14 in /opt/homebrew/anaconda3/lib/python3.11/site-packages (from kubernetes>=28.1.0->chromadb) (2023.7.22)\n",
      "Requirement already satisfied: six>=1.9.0 in /opt/homebrew/anaconda3/lib/python3.11/site-packages (from kubernetes>=28.1.0->chromadb) (1.16.0)\n",
      "Requirement already satisfied: python-dateutil>=2.5.3 in /opt/homebrew/anaconda3/lib/python3.11/site-packages (from kubernetes>=28.1.0->chromadb) (2.8.2)\n",
      "Requirement already satisfied: google-auth>=1.0.1 in /opt/homebrew/anaconda3/lib/python3.11/site-packages (from kubernetes>=28.1.0->chromadb) (2.28.0)\n",
      "Requirement already satisfied: websocket-client!=0.40.0,!=0.41.*,!=0.42.*,>=0.32.0 in /opt/homebrew/anaconda3/lib/python3.11/site-packages (from kubernetes>=28.1.0->chromadb) (0.58.0)\n",
      "Requirement already satisfied: requests-oauthlib in /opt/homebrew/anaconda3/lib/python3.11/site-packages (from kubernetes>=28.1.0->chromadb) (1.3.1)\n",
      "Requirement already satisfied: oauthlib>=3.2.2 in /opt/homebrew/anaconda3/lib/python3.11/site-packages (from kubernetes>=28.1.0->chromadb) (3.2.2)\n",
      "Requirement already satisfied: urllib3>=1.24.2 in /opt/homebrew/anaconda3/lib/python3.11/site-packages (from kubernetes>=28.1.0->chromadb) (1.26.16)\n",
      "Requirement already satisfied: coloredlogs in /opt/homebrew/anaconda3/lib/python3.11/site-packages (from onnxruntime>=1.14.1->chromadb) (15.0.1)\n",
      "Requirement already satisfied: flatbuffers in /opt/homebrew/anaconda3/lib/python3.11/site-packages (from onnxruntime>=1.14.1->chromadb) (23.5.26)\n",
      "Requirement already satisfied: protobuf in /opt/homebrew/anaconda3/lib/python3.11/site-packages (from onnxruntime>=1.14.1->chromadb) (4.25.3)\n",
      "Requirement already satisfied: sympy in /opt/homebrew/anaconda3/lib/python3.11/site-packages (from onnxruntime>=1.14.1->chromadb) (1.11.1)\n",
      "Requirement already satisfied: deprecated>=1.2.6 in /opt/homebrew/anaconda3/lib/python3.11/site-packages (from opentelemetry-api>=1.2.0->chromadb) (1.2.14)\n",
      "Requirement already satisfied: importlib-metadata<7.0,>=6.0 in /opt/homebrew/anaconda3/lib/python3.11/site-packages (from opentelemetry-api>=1.2.0->chromadb) (6.0.0)\n",
      "Requirement already satisfied: backoff<3.0.0,>=1.10.0 in /opt/homebrew/anaconda3/lib/python3.11/site-packages (from opentelemetry-exporter-otlp-proto-grpc>=1.2.0->chromadb) (2.2.1)\n",
      "Requirement already satisfied: googleapis-common-protos~=1.52 in /opt/homebrew/anaconda3/lib/python3.11/site-packages (from opentelemetry-exporter-otlp-proto-grpc>=1.2.0->chromadb) (1.62.0)\n",
      "Requirement already satisfied: opentelemetry-exporter-otlp-proto-common==1.22.0 in /opt/homebrew/anaconda3/lib/python3.11/site-packages (from opentelemetry-exporter-otlp-proto-grpc>=1.2.0->chromadb) (1.22.0)\n",
      "Requirement already satisfied: opentelemetry-proto==1.22.0 in /opt/homebrew/anaconda3/lib/python3.11/site-packages (from opentelemetry-exporter-otlp-proto-grpc>=1.2.0->chromadb) (1.22.0)\n",
      "Requirement already satisfied: opentelemetry-instrumentation-asgi==0.43b0 in /opt/homebrew/anaconda3/lib/python3.11/site-packages (from opentelemetry-instrumentation-fastapi>=0.41b0->chromadb) (0.43b0)\n",
      "Requirement already satisfied: opentelemetry-instrumentation==0.43b0 in /opt/homebrew/anaconda3/lib/python3.11/site-packages (from opentelemetry-instrumentation-fastapi>=0.41b0->chromadb) (0.43b0)\n",
      "Requirement already satisfied: opentelemetry-semantic-conventions==0.43b0 in /opt/homebrew/anaconda3/lib/python3.11/site-packages (from opentelemetry-instrumentation-fastapi>=0.41b0->chromadb) (0.43b0)\n",
      "Requirement already satisfied: opentelemetry-util-http==0.43b0 in /opt/homebrew/anaconda3/lib/python3.11/site-packages (from opentelemetry-instrumentation-fastapi>=0.41b0->chromadb) (0.43b0)\n",
      "Requirement already satisfied: setuptools>=16.0 in /opt/homebrew/anaconda3/lib/python3.11/site-packages (from opentelemetry-instrumentation==0.43b0->opentelemetry-instrumentation-fastapi>=0.41b0->chromadb) (68.0.0)\n",
      "Requirement already satisfied: wrapt<2.0.0,>=1.0.0 in /opt/homebrew/anaconda3/lib/python3.11/site-packages (from opentelemetry-instrumentation==0.43b0->opentelemetry-instrumentation-fastapi>=0.41b0->chromadb) (1.14.1)\n",
      "Requirement already satisfied: asgiref~=3.0 in /opt/homebrew/anaconda3/lib/python3.11/site-packages (from opentelemetry-instrumentation-asgi==0.43b0->opentelemetry-instrumentation-fastapi>=0.41b0->chromadb) (3.7.2)\n",
      "Requirement already satisfied: monotonic>=1.5 in /opt/homebrew/anaconda3/lib/python3.11/site-packages (from posthog>=2.4.0->chromadb) (1.6)\n",
      "Requirement already satisfied: charset-normalizer<4,>=2 in /opt/homebrew/anaconda3/lib/python3.11/site-packages (from requests>=2.28->chromadb) (2.0.4)\n",
      "Requirement already satisfied: idna<4,>=2.5 in /opt/homebrew/anaconda3/lib/python3.11/site-packages (from requests>=2.28->chromadb) (3.4)\n",
      "Requirement already satisfied: click<9.0.0,>=7.1.1 in /opt/homebrew/anaconda3/lib/python3.11/site-packages (from typer>=0.9.0->chromadb) (8.0.4)\n",
      "Requirement already satisfied: h11>=0.8 in /opt/homebrew/anaconda3/lib/python3.11/site-packages (from uvicorn[standard]>=0.18.3->chromadb) (0.14.0)\n",
      "Requirement already satisfied: httptools>=0.5.0 in /opt/homebrew/anaconda3/lib/python3.11/site-packages (from uvicorn[standard]>=0.18.3->chromadb) (0.6.1)\n",
      "Requirement already satisfied: python-dotenv>=0.13 in /opt/homebrew/anaconda3/lib/python3.11/site-packages (from uvicorn[standard]>=0.18.3->chromadb) (0.21.0)\n",
      "Requirement already satisfied: uvloop!=0.15.0,!=0.15.1,>=0.14.0 in /opt/homebrew/anaconda3/lib/python3.11/site-packages (from uvicorn[standard]>=0.18.3->chromadb) (0.19.0)\n",
      "Requirement already satisfied: watchfiles>=0.13 in /opt/homebrew/anaconda3/lib/python3.11/site-packages (from uvicorn[standard]>=0.18.3->chromadb) (0.21.0)\n",
      "Requirement already satisfied: websockets>=10.4 in /opt/homebrew/anaconda3/lib/python3.11/site-packages (from uvicorn[standard]>=0.18.3->chromadb) (12.0)\n",
      "Requirement already satisfied: cachetools<6.0,>=2.0.0 in /opt/homebrew/anaconda3/lib/python3.11/site-packages (from google-auth>=1.0.1->kubernetes>=28.1.0->chromadb) (5.3.2)\n",
      "Requirement already satisfied: pyasn1-modules>=0.2.1 in /opt/homebrew/anaconda3/lib/python3.11/site-packages (from google-auth>=1.0.1->kubernetes>=28.1.0->chromadb) (0.2.8)\n",
      "Requirement already satisfied: rsa<5,>=3.1.4 in /opt/homebrew/anaconda3/lib/python3.11/site-packages (from google-auth>=1.0.1->kubernetes>=28.1.0->chromadb) (4.9)\n",
      "Requirement already satisfied: zipp>=0.5 in /opt/homebrew/anaconda3/lib/python3.11/site-packages (from importlib-metadata<7.0,>=6.0->opentelemetry-api>=1.2.0->chromadb) (3.11.0)\n",
      "Requirement already satisfied: anyio<5,>=3.4.0 in /opt/homebrew/anaconda3/lib/python3.11/site-packages (from starlette<0.37.0,>=0.36.3->fastapi>=0.95.2->chromadb) (3.5.0)\n",
      "Requirement already satisfied: humanfriendly>=9.1 in /opt/homebrew/anaconda3/lib/python3.11/site-packages (from coloredlogs->onnxruntime>=1.14.1->chromadb) (10.0)\n",
      "Requirement already satisfied: mpmath>=0.19 in /opt/homebrew/anaconda3/lib/python3.11/site-packages (from sympy->onnxruntime>=1.14.1->chromadb) (1.3.0)\n",
      "Requirement already satisfied: sniffio>=1.1 in /opt/homebrew/anaconda3/lib/python3.11/site-packages (from anyio<5,>=3.4.0->starlette<0.37.0,>=0.36.3->fastapi>=0.95.2->chromadb) (1.2.0)\n",
      "Requirement already satisfied: pyasn1<0.5.0,>=0.4.6 in /opt/homebrew/anaconda3/lib/python3.11/site-packages (from pyasn1-modules>=0.2.1->google-auth>=1.0.1->kubernetes>=28.1.0->chromadb) (0.4.8)\n",
      "Note: you may need to restart the kernel to use updated packages.\n"
     ]
    }
   ],
   "source": [
    "pip install chromadb"
   ]
  },
  {
   "cell_type": "code",
   "execution_count": 98,
   "metadata": {},
   "outputs": [],
   "source": [
    "from langchain.text_splitter import RecursiveCharacterTextSplitter\n",
    "from langchain.vectorstores import Chroma\n",
    "from langchain_community.document_loaders.csv_loader import CSVLoader"
   ]
  },
  {
   "cell_type": "markdown",
   "metadata": {},
   "source": [
    "## retriever tuning : Ensemble Retriever"
   ]
  },
  {
   "cell_type": "code",
   "execution_count": 99,
   "metadata": {},
   "outputs": [
    {
     "name": "stdout",
     "output_type": "stream",
     "text": [
      "huggingface/tokenizers: The current process just got forked, after parallelism has already been used. Disabling parallelism to avoid deadlocks...\n",
      "To disable this warning, you can either:\n",
      "\t- Avoid using `tokenizers` before the fork if possible\n",
      "\t- Explicitly set the environment variable TOKENIZERS_PARALLELISM=(true | false)\n",
      "11455.77s - pydevd: Sending message related to process being replaced timed-out after 5 seconds\n",
      "Note: you may need to restart the kernel to use updated packages.\n"
     ]
    }
   ],
   "source": [
    "%pip install -q langchain pypdf sentence-transformers langchain-openai --upgrade --quiet  rank_bm25 > /dev/null"
   ]
  },
  {
   "cell_type": "code",
   "execution_count": 100,
   "metadata": {},
   "outputs": [],
   "source": [
    "from langchain.retrievers import BM25Retriever, EnsembleRetriever\n",
    "from langchain.embeddings import HuggingFaceEmbeddings"
   ]
  },
  {
   "cell_type": "code",
   "execution_count": 101,
   "metadata": {},
   "outputs": [],
   "source": [
    "# loader = CSVLoader(\"/Users/jangminsoo/Desktop/dev/Medical-project/crawling/qna_data/소아청소년_QNA.csv\", encoding='utf-8')\n",
    "# docs = loader.load()\n",
    "\n",
    "\n",
    "# text_splitter = RecursiveCharacterTextSplitter(\n",
    "#     chunk_size=1000, chunk_overlap=50)\n",
    "\n",
    "# texts = text_splitter.split_documents(docs)\n",
    "\n",
    "\n",
    "# from langchain.embeddings import HuggingFaceEmbeddings\n",
    "\n",
    "# model_name = \"jhgan/ko-sroberta-multitask\"\n",
    "# model_kwargs = {'device': 'cpu'}\n",
    "# encode_kwargs = {'normalize_embeddings': True}\n",
    "# hf = HuggingFaceEmbeddings(\n",
    "#     model_name=model_name,\n",
    "#     model_kwargs=model_kwargs,\n",
    "#     encode_kwargs=encode_kwargs\n",
    "# )\n",
    "\n",
    "# docsearch = Chroma.from_documents(texts, hf)"
   ]
  },
  {
   "cell_type": "code",
   "execution_count": 197,
   "metadata": {},
   "outputs": [],
   "source": [
    "import pandas as pd\n",
    "\n",
    "# CSV 파일 경로\n",
    "csv_file_path = \"/Users/jangminsoo/Desktop/dev/Medical-project/LLM_embedding_change/ko-sroberta-multitask/jhgan/combined_data.csv\"\n",
    "\n",
    "# CSV 파일 읽기\n",
    "df = pd.read_csv(csv_file_path)"
   ]
  },
  {
   "cell_type": "code",
   "execution_count": 198,
   "metadata": {},
   "outputs": [
    {
     "data": {
      "text/html": [
       "<div>\n",
       "<style scoped>\n",
       "    .dataframe tbody tr th:only-of-type {\n",
       "        vertical-align: middle;\n",
       "    }\n",
       "\n",
       "    .dataframe tbody tr th {\n",
       "        vertical-align: top;\n",
       "    }\n",
       "\n",
       "    .dataframe thead th {\n",
       "        text-align: right;\n",
       "    }\n",
       "</style>\n",
       "<table border=\"1\" class=\"dataframe\">\n",
       "  <thead>\n",
       "    <tr style=\"text-align: right;\">\n",
       "      <th></th>\n",
       "      <th>증상</th>\n",
       "      <th>병명</th>\n",
       "    </tr>\n",
       "  </thead>\n",
       "  <tbody>\n",
       "    <tr>\n",
       "      <th>0</th>\n",
       "      <td>다른 사람의 권리를 무시하는 무책임한 행동 양식을 반복적, 지속적으로 보인다. 많은...</td>\n",
       "      <td>반사회적인격장애</td>\n",
       "    </tr>\n",
       "    <tr>\n",
       "      <th>1</th>\n",
       "      <td>통증, 압통 및 종창과 부종이 전형적인 증상으로 급성기에는 체중을 싣고 서기가 힘들...</td>\n",
       "      <td>발목염좌</td>\n",
       "    </tr>\n",
       "    <tr>\n",
       "      <th>2</th>\n",
       "      <td>자궁내경관 용종은 대부분 증상이 없고 정기검진 시 의사에 의해 우연히 발견된다. 증...</td>\n",
       "      <td>자궁내경관용종</td>\n",
       "    </tr>\n",
       "    <tr>\n",
       "      <th>3</th>\n",
       "      <td>복통은 보통 심하지 않고, 오른쪽 또는 왼쪽 중 한쪽만 아픈 경우가 많다. 대부분은...</td>\n",
       "      <td>배란통</td>\n",
       "    </tr>\n",
       "    <tr>\n",
       "      <th>4</th>\n",
       "      <td>대부분은 무증상인 경우가 많으며, 그 외 비정상적인 질 출혈이나 성교 시 통증 및 ...</td>\n",
       "      <td>자궁경부비정형세포</td>\n",
       "    </tr>\n",
       "    <tr>\n",
       "      <th>...</th>\n",
       "      <td>...</td>\n",
       "      <td>...</td>\n",
       "    </tr>\n",
       "    <tr>\n",
       "      <th>1240</th>\n",
       "      <td>흔히 \"손발이 저리다\"라는 증상은 의학적으로 감각이상(paresthesia)라고 하...</td>\n",
       "      <td>손발저림,감각없음</td>\n",
       "    </tr>\n",
       "    <tr>\n",
       "      <th>1241</th>\n",
       "      <td>1) 무조짐 편두통(migraine without aura)편두통은 보통 전구증상-...</td>\n",
       "      <td>편두통</td>\n",
       "    </tr>\n",
       "    <tr>\n",
       "      <th>1242</th>\n",
       "      <td>만성 췌장염 환자의 통증은 지속적 간헐적일 수 있으며, 통증이 없을 수도 있다는 점...</td>\n",
       "      <td>만성췌장염</td>\n",
       "    </tr>\n",
       "    <tr>\n",
       "      <th>1243</th>\n",
       "      <td>망막색소변성증의 대표적인 2가지 증상으로 야맹증과 시야협착이 있다. 야맹증은 야간 ...</td>\n",
       "      <td>망막색소변성증</td>\n",
       "    </tr>\n",
       "    <tr>\n",
       "      <th>1244</th>\n",
       "      <td>증상이 나타나면 신체가 과열된 것처럼 느껴지며, 땀 흘림을 동반하기도 한다. 열과민...</td>\n",
       "      <td>열과민증</td>\n",
       "    </tr>\n",
       "  </tbody>\n",
       "</table>\n",
       "<p>1245 rows × 2 columns</p>\n",
       "</div>"
      ],
      "text/plain": [
       "                                                     증상         병명\n",
       "0     다른 사람의 권리를 무시하는 무책임한 행동 양식을 반복적, 지속적으로 보인다. 많은...   반사회적인격장애\n",
       "1     통증, 압통 및 종창과 부종이 전형적인 증상으로 급성기에는 체중을 싣고 서기가 힘들...       발목염좌\n",
       "2     자궁내경관 용종은 대부분 증상이 없고 정기검진 시 의사에 의해 우연히 발견된다. 증...    자궁내경관용종\n",
       "3     복통은 보통 심하지 않고, 오른쪽 또는 왼쪽 중 한쪽만 아픈 경우가 많다. 대부분은...        배란통\n",
       "4     대부분은 무증상인 경우가 많으며, 그 외 비정상적인 질 출혈이나 성교 시 통증 및 ...  자궁경부비정형세포\n",
       "...                                                 ...        ...\n",
       "1240  흔히 \"손발이 저리다\"라는 증상은 의학적으로 감각이상(paresthesia)라고 하...  손발저림,감각없음\n",
       "1241  1) 무조짐 편두통(migraine without aura)편두통은 보통 전구증상-...        편두통\n",
       "1242  만성 췌장염 환자의 통증은 지속적 간헐적일 수 있으며, 통증이 없을 수도 있다는 점...      만성췌장염\n",
       "1243  망막색소변성증의 대표적인 2가지 증상으로 야맹증과 시야협착이 있다. 야맹증은 야간 ...    망막색소변성증\n",
       "1244  증상이 나타나면 신체가 과열된 것처럼 느껴지며, 땀 흘림을 동반하기도 한다. 열과민...       열과민증\n",
       "\n",
       "[1245 rows x 2 columns]"
      ]
     },
     "execution_count": 198,
     "metadata": {},
     "output_type": "execute_result"
    }
   ],
   "source": [
    "df"
   ]
  },
  {
   "cell_type": "code",
   "execution_count": 104,
   "metadata": {},
   "outputs": [
    {
     "data": {
      "text/plain": [
       "986    감기 바이러스에 노출된 지 1~3일 후에 증상이 나타난다. 증상은 감기 바이러스가 ...\n",
       "Name: 증상, dtype: object"
      ]
     },
     "execution_count": 104,
     "metadata": {},
     "output_type": "execute_result"
    }
   ],
   "source": [
    "df[df['병명']=='감기']['증상']"
   ]
  },
  {
   "cell_type": "code",
   "execution_count": 204,
   "metadata": {},
   "outputs": [],
   "source": [
    "from langchain.text_splitter import RecursiveCharacterTextSplitter\n",
    "from langchain.document_loaders import CSVLoader\n",
    "\n",
    "# CSV 파일을 읽어와서 문서로 변환합니다.\n",
    "loader = CSVLoader(\"/Users/jangminsoo/Desktop/dev/Medical-project/LLM_embedding_change/ko-sroberta-multitask/jhgan/combined_data.csv\")\n",
    "docs = loader.load_and_split()\n",
    "\n",
    "# 문서를 분할합니다.\n",
    "text_splitter = RecursiveCharacterTextSplitter(chunk_size=500, chunk_overlap=50)\n",
    "texts = text_splitter.split_documents(docs)\n",
    "\n",
    "\n"
   ]
  },
  {
   "cell_type": "code",
   "execution_count": 205,
   "metadata": {},
   "outputs": [
    {
     "data": {
      "text/plain": [
       "Document(page_content='증상: 통증, 압통 및 종창과 부종이 전형적인 증상으로 급성기에는 체중을 싣고 서기가 힘들 정도이다. 심한 손상의 경우 다치는 순간 인대가 끊어지는 파열음을 들을 수 있는 경우도 있다. 그러나 증상의 심한 정도가 반드시 손상 정도와 일치하는 것은 아니다. 심한 손상으로 발목관절 주변 인대가 파열이 되거나 관절의 탈구가 동반되는 경우 관절의 불안정성이 동반될 수 있으나 다친 직후에는 통증으로 인한 근육 경직으로 확인이 어려울 수 있다. 초기에는 통증, 압통, 종창이 주증상이며 부기가 가라앉으면서 멍이 발목아래쪽으로 생기는 경과를 거친다. 골절 또는 다양한 관절 내 손상이 동반될 수 있어 이에 따른 증상을 나타내기도 한다.\\n병명: 발목염좌', metadata={'source': '/Users/jangminsoo/Desktop/dev/Medical-project/LLM_embedding_change/ko-sroberta-multitask/jhgan/combined_data.csv', 'row': 1})"
      ]
     },
     "execution_count": 205,
     "metadata": {},
     "output_type": "execute_result"
    }
   ],
   "source": [
    "docs[1]"
   ]
  },
  {
   "cell_type": "markdown",
   "metadata": {},
   "source": [
    "### embedding 진행\n",
    "#### embedding model : jhgan/ko-sbert-nli"
   ]
  },
  {
   "cell_type": "code",
   "execution_count": 207,
   "metadata": {},
   "outputs": [],
   "source": [
    "from langchain.embeddings import HuggingFaceEmbeddings\n",
    "model_name = \"jhgan/ko-sbert-nli\"\n",
    "model_kwargs = {'device': 'cpu'}\n",
    "encode_kwargs = {'normalize_embeddings': True}\n",
    "hf = HuggingFaceEmbeddings(\n",
    "    model_name=model_name,\n",
    "    model_kwargs=model_kwargs,\n",
    "    encode_kwargs=encode_kwargs\n",
    ")\n"
   ]
  },
  {
   "cell_type": "code",
   "execution_count": 208,
   "metadata": {},
   "outputs": [
    {
     "data": {
      "text/plain": [
       "Document(page_content='증상: 통증, 압통 및 종창과 부종이 전형적인 증상으로 급성기에는 체중을 싣고 서기가 힘들 정도이다. 심한 손상의 경우 다치는 순간 인대가 끊어지는 파열음을 들을 수 있는 경우도 있다. 그러나 증상의 심한 정도가 반드시 손상 정도와 일치하는 것은 아니다. 심한 손상으로 발목관절 주변 인대가 파열이 되거나 관절의 탈구가 동반되는 경우 관절의 불안정성이 동반될 수 있으나 다친 직후에는 통증으로 인한 근육 경직으로 확인이 어려울 수 있다. 초기에는 통증, 압통, 종창이 주증상이며 부기가 가라앉으면서 멍이 발목아래쪽으로 생기는 경과를 거친다. 골절 또는 다양한 관절 내 손상이 동반될 수 있어 이에 따른 증상을 나타내기도 한다.\\n병명: 발목염좌', metadata={'source': '/Users/jangminsoo/Desktop/dev/Medical-project/LLM_embedding_change/ko-sroberta-multitask/jhgan/combined_data.csv', 'row': 1})"
      ]
     },
     "execution_count": 208,
     "metadata": {},
     "output_type": "execute_result"
    }
   ],
   "source": [
    "docs[1]"
   ]
  },
  {
   "cell_type": "code",
   "execution_count": 209,
   "metadata": {},
   "outputs": [],
   "source": [
    "# initialize the bm25 retriever and faiss retriever\n",
    "bm25_retriever = BM25Retriever.from_documents(texts)\n",
    "bm25_retriever.k = 5\n",
    "\n",
    "chroma_vectorstore = Chroma.from_documents(texts, hf)\n",
    "chroma_retriever = chroma_vectorstore.as_retriever(search_kwargs={\"k\": 5})\n",
    "\n",
    "# initialize the ensemble retriever\n",
    "ensemble_retriever = EnsembleRetriever(\n",
    "    retrievers=[bm25_retriever, chroma_retriever], weights=[0.7, 0.3]\n",
    ")"
   ]
  },
  {
   "cell_type": "code",
   "execution_count": 211,
   "metadata": {},
   "outputs": [
    {
     "name": "stdout",
     "output_type": "stream",
     "text": [
      "{'row': 549, 'source': '/Users/jangminsoo/Desktop/dev/Medical-project/LLM_embedding_change/ko-sroberta-multitask/jhgan/combined_data.csv'}\n",
      ":\n",
      "증상: 부모, 특히 어머니가 옆에 있어야 안심하고 헤어져 있을 때는 어머니나 자신에게 나쁜 일이 생겨서 서로 보지 못하게 될까 불안해한다. 그래서 자꾸 전화를 걸어서 어머니의 존재를 확인하게 된다. 혼자 집에 있지 못하고, 잠을 잘 때 어머니가 옆에 있어야 안심하며, 꿈은 어머니와 헤어지거나, 어머니나 자신에게 사고가 나는 등의 분리를 주제로 한 꿈을 많이 꾼다. 그 외에도 복통, 두통 등의 잦은 신체 증상을 보여 무의식적으로 어머니의 관심과 사랑을 구하기도 한다.\n",
      "병명: 분리불안장애\n",
      "----------------------------------------------------------------------------------------------------\n",
      "{'source': '/Users/jangminsoo/Desktop/dev/Medical-project/LLM_embedding_change/ko-sroberta-multitask/jhgan/combined_data.csv', 'row': 435}\n",
      ":\n",
      "증상: 지속되는 심한 인후통이 나타나고, 같은 쪽의 귀에서 이통(귀 통증)이 나타난다. 환자는 급성 증상을 보이고, 지속되는 발열과 오한, 위약감, 오심 등을 동반한다. 연하 곤란(삼키기 어려움)으로 심하면 침을 삼키기 힘들어져 입 밖으로 흘리게 되고, 숨을 내뱉을 때 역겨운 냄새가 난다.익돌근(pterygoid muscle)에 염증이 생기면 개구장애(턱의 근육이 경련을 일으켜 입이 벌어지지 않는 상태)가 발생한다. 말하는 것이 힘들어지며, 비음이나 통증을 줄이기 위해 입을 다물지 못하고 말하게 되는데, 이 때 마치 뜨거운 감자를 입에 물고 있는 듯한 목소리(hot potato voice)가 나타난다. 탈수 증세 및 경부임파선 종창(비대)이 동반될 수 있다.\n",
      "병명: 편도주위농양\n",
      "----------------------------------------------------------------------------------------------------\n",
      "{'source': '/Users/jangminsoo/Desktop/dev/Medical-project/LLM_embedding_change/ko-sroberta-multitask/jhgan/combined_data.csv', 'row': 394}\n",
      ":\n",
      "증상: 갑작스러운 심한 두통, 심한 구역질과 구토 등의 의식이 있는 경우에서부터 실신이나 의식이 소실되는 경우까지 그 증상이 다양하나, 무엇보다도 특징적인 증상으로는 갑작스럽고 머리를 망치로 맞아 깨질 것 같은 정도의 극심한 두통이다. 이 외에도 안구의 운동이나 동공의 움직임을 지배하는 동안 신경의 마비에 의해 안검하수(윗 눈꺼풀이 늘어지는 현상) 및 복시(사물이 이중으로 보이는 현상), 빛을 싫어하게 되는 광선 공포증이나 목이 뻣뻣해지는 등 전형적인 수막 자극 증상이 나타나며, 경련과 같은 발작을 일으키는 경우도 있다.때로는 의식장애가 심하고, 혼수상태에서 깨어나지 않은 채 죽는 경우도 있는데, 대체적으로 뇌동맥류 파열 후 3분의 1의 환자가 그 자리에서 즉사하고, 그 외 3분의 1은 병원에 이송 도중 또는 병원에서 사망하게 되며, 나머지 환자만이 치료를 받는 것으로 알려져 있다.\n",
      "병명: 지주막하출혈\n",
      "----------------------------------------------------------------------------------------------------\n",
      "{'source': '/Users/jangminsoo/Desktop/dev/Medical-project/LLM_embedding_change/ko-sroberta-multitask/jhgan/combined_data.csv', 'row': 223}\n",
      ":\n",
      "증상: 모야모야병의 증상은 발병 시기에 따라 큰 차이가 있다.소아의 경우에는 주로 뇌혈관이 좁아지면서 일시적으로 뇌기능의 장애가 생기는 일과성 허혈발작이 흔히 나타난다. 주로 울거나 감정이 격해졌을 때 호흡이 가빠지면서 뇌혈관 폐색이 심해지고 순간적으로 한쪽 팔다리에 힘이 빠지는 증상이 나타난다. 증상은 수 분 정도 지속되며 저절로 회복된다. 풍선이나 리코더를 불다가 숨이 가빠지면서 발생하거나 라면같이 뜨거운 음식을 먹으며 후후 불다가 증상이 발생하기도 한다. 증상이 회복되지 않고 한 시간 이상 지속되는 경우, 일과성 허혈발작을 넘어서 뇌경색이 발생한 것을 의심해야 한다. 두통도 흔한 증상이며 주로 아침에 일어날때 학교가기 전에 호소하며 구역감, 구토를 동반하기도 한다. 학교에 가지않고 한두시간 더 자거나 쉬면 호전되는 양상을 보인다. 3세 이하의 어린 영아에서 모야모야병은 드물지만 다른 연령에 비해 질병이 빠르게 진행하는 양상을 보이는데 뇌경색이 좌우 뇌에 연달아 발생하기도 하여\n",
      "----------------------------------------------------------------------------------------------------\n",
      "{'source': '/Users/jangminsoo/Desktop/dev/Medical-project/LLM_embedding_change/ko-sroberta-multitask/jhgan/combined_data.csv', 'row': 153}\n",
      ":\n",
      "증상: 난소암은 초기 증상이 거의 없고, 1기 등 초기에 진단되는 경우는 정기적인 산부인과 진찰을 받으러 왔다가 내진이나 초음파 검사에서 우연히 발견되는 경우가 대부분이다. 난소암은 상당히 진행되어도 증상이 매우 경미하여 배에 딱딱한 것이 만져지거나, 복수가 차면서 배가 불러오거나, 소화가 잘 안되고 더부룩한 증상 또는 배가 아파 병원을 찾는 경우가 대부분이다. 따라서 초기 진단이 되지 않고 대부분 늦게, 암이 진행된 후에 발견되므로 정기적 산부인과 진찰이 조기진단에 매우 중요하다.\n",
      "병명: 난소암\n",
      "----------------------------------------------------------------------------------------------------\n",
      "{'row': 549, 'source': '/Users/jangminsoo/Desktop/dev/Medical-project/LLM_embedding_change/ko-sroberta-multitask/jhgan/nouns.csv'}\n",
      ":\n",
      "증상: 부모 어머니 옆 안심 때 어머니 자신 서로 보지 자꾸 전화 어머니 존재 확인 혼자 집 못 잠 때 어머니 옆 안심 꿈 어머니 어머니 자신 사고 나 등 분리 주제 꿈 그 외 복통 두통 등 신체 증상 무의식 어머니 관심 사랑 구\n",
      "병명: 분리불안장애\n",
      "----------------------------------------------------------------------------------------------------\n"
     ]
    }
   ],
   "source": [
    "docs = ensemble_retriever.invoke(\"오늘 저희 어머니가 집에 혼자계시다 입을 비롯하여 안면근육이 약간돌아가는걸 느껴 병원에 갔다오셨다는데 병원에서 뇌경색이 왔다가 그냥 지나갔다고 했다는군요. 침을 좀 맞는걸 권유했다는데맞는말인가요? 저희어머니가 걱정안시키려고 거짓말하시는거같아서요. 정말 그럴수도있는건가요?\")\n",
    "for i in docs:\n",
    "    print(i.metadata)\n",
    "    print(\":\")\n",
    "    print(i.page_content)\n",
    "    print(\"-\"*100)"
   ]
  },
  {
   "cell_type": "code",
   "execution_count": 194,
   "metadata": {},
   "outputs": [
    {
     "name": "stdout",
     "output_type": "stream",
     "text": [
      "BM25 Retriever 결과:\n",
      "{'source': '/Users/jangminsoo/Desktop/dev/Medical-project/LLM_embedding_change/ko-sroberta-multitask/jhgan/nouns.csv', 'row': 567}\n",
      ":\n",
      "증상: 가장 증상 제 중족 발가락 관절 안쪽 돌출 부위 건막류 의 통증 이 부위 신발 자극 염증 통증 발생 이차 두 세 발가락 발바닥 쪽 살이 생기 통증 발생 경우 두 발가락 엄지 발가락 겹 살 및 압박 피부 궤양 발생 관절 탈구 기도 새끼 발가락 쪽 관절 돌출 변형 생기 기도\n",
      "병명: 무지외반증\n",
      "----------------------------------------------------------------------------------------------------\n",
      "{'source': '/Users/jangminsoo/Desktop/dev/Medical-project/LLM_embedding_change/ko-sroberta-multitask/jhgan/nouns.csv', 'row': 260}\n",
      ":\n",
      "증상: 개 발가락 중 엄지발가락 가장 발생 오른발 엄지 때 가장 압박 부위 이기 때문 처음 엄지발가락 외측 내 약간 통증 이내 마찰 더 진물 육아 조직 염증 혈관 섬유 조직 증식 덩어리 이 증식 발톱 주위 곪기 시작 진행 냄새 통증 정상 보행\n",
      "병명: 내향성발톱\n",
      "----------------------------------------------------------------------------------------------------\n",
      "{'source': '/Users/jangminsoo/Desktop/dev/Medical-project/LLM_embedding_change/ko-sroberta-multitask/jhgan/nouns.csv', 'row': 798}\n",
      ":\n",
      "증상: 골격계 환자 호소 증상 환자 외관 통해 의심 수 골격계 이상 가장 특징 마르고 키 매우 몸 팔다리 비정상 것 환자 중 농구 배구 등 키 장점 운동 선수 또한 얼굴 거미 매우 손가락 발가락 척추 측만증 척추 옆 휘 병 흉곽 기형 가슴 오목 가슴 평발 등 볼 수 환자 약 이 상반신 하반신 길 양팔 좌우 길이 신장 엄지 손가락 손바닥 쪽 나머지 손가락 엄지 손가락 주먹 쥐 엄지 손가락 끝 새끼 손가락 바깥 돌출 양상 볼 수 근육 발달 저하 피하지방 매우 것 특징 중 하나 또 다른 특징 관절 이완 이로 무릎 관절 어깨 관절 쇄골 관절 손가락 관절 등 만성 재발 탈구 관절 접촉 부위 부분 상태 관찰 엄지 손가락 뒤 경우 엄지 손가락 끝 팔 정도 관절 이완 볼 수 환자 이상 척추 변형 동반 심혈관계 심혈관계 이상 대동맥 위부 확장 판막 변성 폐쇄 부전 증 폐쇄 부전 증 심부전 증상 수 대동맥 위부 확장 환자 정도 관찰 매우 합병증 대동맥 박리 초래 수 대개 가슴 통증 기존 마판 증후군\n",
      "----------------------------------------------------------------------------------------------------\n",
      "{'source': '/Users/jangminsoo/Desktop/dev/Medical-project/LLM_embedding_change/ko-sroberta-multitask/jhgan/nouns.csv', 'row': 235}\n",
      ":\n",
      "증상: 특징 증상 손목 통증 정중 신경 지배 부위 엄지 검지 및 중지 및 손바닥 부위 저림 증상 밤 것 유발 증상 수근 관 증후군 일 가능성 더욱 간혹 정중 신경 압박 경우 저림 및 감각 저하 엄지 근육 쇠약 및 위축 증상 통증 감각 이상 및 운동장 애로 볼 수 엄지 검지 중지 손바닥 부위 저리 듯 통증 손 저림 이상 감각 호소 통증 및 이상 감각 성격 경우 동안 손목 때 해당 부위 저림 유발 기도 손목 때 증상 유발 기도 경우 도중 손 듯 통증 잠 난 후 손목 터 것 손 손목 동작 계속 통증 경우 야간 통곡 질병 정도 진행 엄지 쪽 감각 엄지 근육 위약 쇠약 및 위축 손 힘 손목 것 운동 마비 증세 발생 손가락 및 손바닥 것 부종 감 호소 하나 일반 실제 찬물 손 날씨 손끝 시리 증상 관찰 수근 관 증후군 감각 하와 통증 분포\n",
      "병명: 수근관증후군\n",
      "----------------------------------------------------------------------------------------------------\n",
      "{'source': '/Users/jangminsoo/Desktop/dev/Medical-project/LLM_embedding_change/ko-sroberta-multitask/jhgan/nouns.csv', 'row': 127}\n",
      ":\n",
      "증상: 무좀 발바닥 경우 수 발가락 사이사이 가장 발가락 사이 유지 발가락 사이 발가락 사이 발생 주로 발가락 사이 피부 짓무르 각질 가려움증 동반 기도 발바닥 경우 매우 물집 기도 발바닥 각질 전반 양상\n",
      "병명: 소아무좀\n",
      "----------------------------------------------------------------------------------------------------\n",
      "Chroma Retriever 결과:\n",
      "{'row': 260, 'source': '/Users/jangminsoo/Desktop/dev/Medical-project/LLM_embedding_change/ko-sroberta-multitask/jhgan/nouns.csv'}\n",
      ":\n",
      "증상: 개 발가락 중 엄지발가락 가장 발생 오른발 엄지 때 가장 압박 부위 이기 때문 처음 엄지발가락 외측 내 약간 통증 이내 마찰 더 진물 육아 조직 염증 혈관 섬유 조직 증식 덩어리 이 증식 발톱 주위 곪기 시작 진행 냄새 통증 정상 보행\n",
      "병명: 내향성발톱\n",
      "----------------------------------------------------------------------------------------------------\n",
      "{'row': 260, 'source': '/Users/jangminsoo/Desktop/dev/Medical-project/LLM_embedding_change/ko-sroberta-multitask/jhgan/combined_data.csv'}\n",
      ":\n",
      "증상: 5개의 발가락 중에서 엄지발가락에 가장 흔히 발생한다. 특히 오른발 엄지에 잘 생긴다. 아마도 걷거나 뛸 때 가장 압박이 큰 부위이기 때문이다. 처음에는 엄지발가락의 외측이나 내측이 약간 빨개지면서 붓고 가벼운 통증이 찾아온다. 이내 마찰이 심해지면서 더 붓게 되고 진물이 나며 육아 조직(염증과 혈관, 섬유조직이 증식된 덩어리)이 증식하고 발톱 주위가 곪기 시작한다. 이렇게 진행되면 냄새도 심하게 나고 통증이 심해져서 정상적인 보행이 어려워진다.\n",
      "병명: 내향성발톱\n",
      "----------------------------------------------------------------------------------------------------\n",
      "{'row': 260, 'source': '/Users/jangminsoo/Desktop/dev/Medical-project/LLM_embedding_change/ko-sroberta-multitask/jhgan/combined_data.csv'}\n",
      ":\n",
      "증상: 5개의 발가락 중에서 엄지발가락에 가장 흔히 발생한다. 특히 오른발 엄지에 잘 생긴다. 아마도 걷거나 뛸 때 가장 압박이 큰 부위이기 때문이다. 처음에는 엄지발가락의 외측이나 내측이 약간 빨개지면서 붓고 가벼운 통증이 찾아온다. 이내 마찰이 심해지면서 더 붓게 되고 진물이 나며 육아 조직(염증과 혈관, 섬유조직이 증식된 덩어리)이 증식하고 발톱 주위가 곪기 시작한다. 이렇게 진행되면 냄새도 심하게 나고 통증이 심해져서 정상적인 보행이 어려워진다.\n",
      "병명: 내향성발톱\n",
      "----------------------------------------------------------------------------------------------------\n",
      "{'row': 260, 'source': '/Users/jangminsoo/Desktop/dev/Medical-project/LLM_embedding_change/ko-sroberta-multitask/jhgan/combined_data.csv'}\n",
      ":\n",
      "증상: 5개의 발가락 중에서 엄지발가락에 가장 흔히 발생한다. 특히 오른발 엄지에 잘 생긴다. 아마도 걷거나 뛸 때 가장 압박이 큰 부위이기 때문이다. 처음에는 엄지발가락의 외측이나 내측이 약간 빨개지면서 붓고 가벼운 통증이 찾아온다. 이내 마찰이 심해지면서 더 붓게 되고 진물이 나며 육아 조직(염증과 혈관, 섬유조직이 증식된 덩어리)이 증식하고 발톱 주위가 곪기 시작한다. 이렇게 진행되면 냄새도 심하게 나고 통증이 심해져서 정상적인 보행이 어려워진다.\n",
      "병명: 내향성발톱\n",
      "----------------------------------------------------------------------------------------------------\n",
      "{'row': 260, 'source': '/Users/jangminsoo/Desktop/dev/Medical-project/LLM_embedding_change/ko-sroberta-multitask/jhgan/combined_data.csv'}\n",
      ":\n",
      "증상: 5개의 발가락 중에서 엄지발가락에 가장 흔히 발생한다. 특히 오른발 엄지에 잘 생긴다. 아마도 걷거나 뛸 때 가장 압박이 큰 부위이기 때문이다. 처음에는 엄지발가락의 외측이나 내측이 약간 빨개지면서 붓고 가벼운 통증이 찾아온다. 이내 마찰이 심해지면서 더 붓게 되고 진물이 나며 육아 조직(염증과 혈관, 섬유조직이 증식된 덩어리)이 증식하고 발톱 주위가 곪기 시작한다. 이렇게 진행되면 냄새도 심하게 나고 통증이 심해져서 정상적인 보행이 어려워진다.\n",
      "병명: 내향성발톱\n",
      "----------------------------------------------------------------------------------------------------\n",
      "종합 결과:\n",
      "{'row': 260, 'source': '/Users/jangminsoo/Desktop/dev/Medical-project/LLM_embedding_change/ko-sroberta-multitask/jhgan/combined_data.csv'}\n",
      ":\n",
      "증상: 5개의 발가락 중에서 엄지발가락에 가장 흔히 발생한다. 특히 오른발 엄지에 잘 생긴다. 아마도 걷거나 뛸 때 가장 압박이 큰 부위이기 때문이다. 처음에는 엄지발가락의 외측이나 내측이 약간 빨개지면서 붓고 가벼운 통증이 찾아온다. 이내 마찰이 심해지면서 더 붓게 되고 진물이 나며 육아 조직(염증과 혈관, 섬유조직이 증식된 덩어리)이 증식하고 발톱 주위가 곪기 시작한다. 이렇게 진행되면 냄새도 심하게 나고 통증이 심해져서 정상적인 보행이 어려워진다.\n",
      "병명: 내향성발톱\n",
      "----------------------------------------------------------------------------------------------------\n",
      "{'row': 260, 'source': '/Users/jangminsoo/Desktop/dev/Medical-project/LLM_embedding_change/ko-sroberta-multitask/jhgan/nouns.csv'}\n",
      ":\n",
      "증상: 개 발가락 중 엄지발가락 가장 발생 오른발 엄지 때 가장 압박 부위 이기 때문 처음 엄지발가락 외측 내 약간 통증 이내 마찰 더 진물 육아 조직 염증 혈관 섬유 조직 증식 덩어리 이 증식 발톱 주위 곪기 시작 진행 냄새 통증 정상 보행\n",
      "병명: 내향성발톱\n",
      "----------------------------------------------------------------------------------------------------\n",
      "{'source': '/Users/jangminsoo/Desktop/dev/Medical-project/LLM_embedding_change/ko-sroberta-multitask/jhgan/nouns.csv', 'row': 567}\n",
      ":\n",
      "증상: 가장 증상 제 중족 발가락 관절 안쪽 돌출 부위 건막류 의 통증 이 부위 신발 자극 염증 통증 발생 이차 두 세 발가락 발바닥 쪽 살이 생기 통증 발생 경우 두 발가락 엄지 발가락 겹 살 및 압박 피부 궤양 발생 관절 탈구 기도 새끼 발가락 쪽 관절 돌출 변형 생기 기도\n",
      "병명: 무지외반증\n",
      "----------------------------------------------------------------------------------------------------\n",
      "{'source': '/Users/jangminsoo/Desktop/dev/Medical-project/LLM_embedding_change/ko-sroberta-multitask/jhgan/nouns.csv', 'row': 798}\n",
      ":\n",
      "증상: 골격계 환자 호소 증상 환자 외관 통해 의심 수 골격계 이상 가장 특징 마르고 키 매우 몸 팔다리 비정상 것 환자 중 농구 배구 등 키 장점 운동 선수 또한 얼굴 거미 매우 손가락 발가락 척추 측만증 척추 옆 휘 병 흉곽 기형 가슴 오목 가슴 평발 등 볼 수 환자 약 이 상반신 하반신 길 양팔 좌우 길이 신장 엄지 손가락 손바닥 쪽 나머지 손가락 엄지 손가락 주먹 쥐 엄지 손가락 끝 새끼 손가락 바깥 돌출 양상 볼 수 근육 발달 저하 피하지방 매우 것 특징 중 하나 또 다른 특징 관절 이완 이로 무릎 관절 어깨 관절 쇄골 관절 손가락 관절 등 만성 재발 탈구 관절 접촉 부위 부분 상태 관찰 엄지 손가락 뒤 경우 엄지 손가락 끝 팔 정도 관절 이완 볼 수 환자 이상 척추 변형 동반 심혈관계 심혈관계 이상 대동맥 위부 확장 판막 변성 폐쇄 부전 증 폐쇄 부전 증 심부전 증상 수 대동맥 위부 확장 환자 정도 관찰 매우 합병증 대동맥 박리 초래 수 대개 가슴 통증 기존 마판 증후군\n",
      "----------------------------------------------------------------------------------------------------\n",
      "{'source': '/Users/jangminsoo/Desktop/dev/Medical-project/LLM_embedding_change/ko-sroberta-multitask/jhgan/nouns.csv', 'row': 235}\n",
      ":\n",
      "증상: 특징 증상 손목 통증 정중 신경 지배 부위 엄지 검지 및 중지 및 손바닥 부위 저림 증상 밤 것 유발 증상 수근 관 증후군 일 가능성 더욱 간혹 정중 신경 압박 경우 저림 및 감각 저하 엄지 근육 쇠약 및 위축 증상 통증 감각 이상 및 운동장 애로 볼 수 엄지 검지 중지 손바닥 부위 저리 듯 통증 손 저림 이상 감각 호소 통증 및 이상 감각 성격 경우 동안 손목 때 해당 부위 저림 유발 기도 손목 때 증상 유발 기도 경우 도중 손 듯 통증 잠 난 후 손목 터 것 손 손목 동작 계속 통증 경우 야간 통곡 질병 정도 진행 엄지 쪽 감각 엄지 근육 위약 쇠약 및 위축 손 힘 손목 것 운동 마비 증세 발생 손가락 및 손바닥 것 부종 감 호소 하나 일반 실제 찬물 손 날씨 손끝 시리 증상 관찰 수근 관 증후군 감각 하와 통증 분포\n",
      "병명: 수근관증후군\n",
      "----------------------------------------------------------------------------------------------------\n",
      "{'source': '/Users/jangminsoo/Desktop/dev/Medical-project/LLM_embedding_change/ko-sroberta-multitask/jhgan/nouns.csv', 'row': 127}\n",
      ":\n",
      "증상: 무좀 발바닥 경우 수 발가락 사이사이 가장 발가락 사이 유지 발가락 사이 발가락 사이 발생 주로 발가락 사이 피부 짓무르 각질 가려움증 동반 기도 발바닥 경우 매우 물집 기도 발바닥 각질 전반 양상\n",
      "병명: 소아무좀\n",
      "----------------------------------------------------------------------------------------------------\n"
     ]
    }
   ],
   "source": [
    "# 각각의 BM25 Retriever와 Chroma Retriever에서 결과를 가져옵니다.\n",
    "bm25_docs = bm25_retriever.invoke(\"엄지 발가락 통증이 있습니다\")\n",
    "chroma_docs = chroma_retriever.invoke(\"엄지 발가락 통증이 있습니다\")\n",
    "\n",
    "# 가져온 문서들을 출력합니다.\n",
    "print(\"BM25 Retriever 결과:\")\n",
    "for doc in bm25_docs:\n",
    "    print(doc.metadata)\n",
    "    print(\":\")\n",
    "    print(doc.page_content)\n",
    "    print(\"-\"*100)\n",
    "\n",
    "print(\"Chroma Retriever 결과:\")\n",
    "for doc in chroma_docs:\n",
    "    print(doc.metadata)\n",
    "    print(\":\")\n",
    "    print(doc.page_content)\n",
    "    print(\"-\"*100)\n",
    "\n",
    "# Ensemble Retriever를 사용하여 최종 결과를 가져옵니다.\n",
    "ensemble_docs = ensemble_retriever.invoke(\"엄지 발가락 통증이 있습니다\")\n",
    "\n",
    "# 최종 결과를 출력합니다.\n",
    "print(\"종합 결과:\")\n",
    "for doc in ensemble_docs:\n",
    "    print(doc.metadata)\n",
    "    print(\":\")\n",
    "    print(doc.page_content)\n",
    "    print(\"-\"*100)\n",
    "\n"
   ]
  },
  {
   "cell_type": "code",
   "execution_count": 195,
   "metadata": {},
   "outputs": [
    {
     "name": "stdout",
     "output_type": "stream",
     "text": [
      "종합 결과:\n",
      "{'source': '/Users/jangminsoo/Desktop/dev/Medical-project/LLM_embedding_change/ko-sroberta-multitask/jhgan/nouns.csv', 'row': 1244}\n",
      ":\n",
      "증상: 증상 신체 과열 것 땀 동반 과민증 보통 증상 시작 장기간 지속\n",
      "병명: 열과민증\n",
      "----------------------------------------------------------------------------------------------------\n",
      "{'source': '/Users/jangminsoo/Desktop/dev/Medical-project/LLM_embedding_change/ko-sroberta-multitask/jhgan/nouns.csv', 'row': 458}\n",
      ":\n",
      "증상: 신경학 증상 발생 수 의식 저하 비정상 불수 운동 등 여러 증상 수 뇌사 상태 수도\n",
      "병명: 허혈성뇌손상\n",
      "----------------------------------------------------------------------------------------------------\n",
      "{'source': '/Users/jangminsoo/Desktop/dev/Medical-project/LLM_embedding_change/ko-sroberta-multitask/jhgan/nouns.csv', 'row': 403}\n",
      ":\n",
      "위협 정도 증상 초래 수 주의 진단 치료 신경계 증상 편두통 포함 두통 불쾌감 피로 감 초조 우울증 등 매우 입술 주위 두드러기\n",
      "----------------------------------------------------------------------------------------------------\n",
      "{'source': '/Users/jangminsoo/Desktop/dev/Medical-project/LLM_embedding_change/ko-sroberta-multitask/jhgan/nouns.csv', 'row': 403}\n",
      ":\n",
      "병명: 음식물알레르기\n",
      "----------------------------------------------------------------------------------------------------\n",
      "{'source': '/Users/jangminsoo/Desktop/dev/Medical-project/LLM_embedding_change/ko-sroberta-multitask/jhgan/nouns.csv', 'row': 404}\n",
      ":\n",
      "증상: 폐암 증상 병기 관련 초기 폐암 경우 대부분 무증상 증상 때 이면 진행 경우 폐암 환자 정도 무증상 일 때 폐암 진단 대부분 증상 뒤 폐암 진단 가장 증상 기침 객혈 흉통 가슴 통증 호흡 곤란 등 폐암 진단 당시 기침 폐암 환자 객혈 흉통 약 호흡 곤란 약 이 외 폐암 부위 증상 예 암세포 덩어리 식도 압박 경우 음식물 수 발성 관여 신경 침범 경우 쉰 목소리 내기 또한 폐 꼭대기 부위 암세포 덩어리 위치 경우 어깨 통증 팔 안쪽 부위 새끼 손가락 방향 로 통증 수도 기관지 폐포 암 종류 폐암 경우 호흡 곤란 가래 증가 폐렴 기도 상대 정맥 증후군 것 발생 폐암 상대 정맥 혈관 압박 혈액 순환 장애 것 머리 팔이 수 호흡 곤란 생기며 가슴 정맥 돌출 기도 보통 앞 누우 증상 악화 또한 폐암 뼈 전이 경우 뼈 통증 유발 수 외상 골절 생기 기도 뇌 역시 폐암 전이 곳 이 경우 머리 구역질 나기 간질 유발\n",
      "병명: 폐암\n",
      "----------------------------------------------------------------------------------------------------\n",
      "{'row': 8, 'source': '/Users/jangminsoo/Desktop/dev/Medical-project/LLM_embedding_change/ko-sroberta-multitask/jhgan/combined_data.csv'}\n",
      ":\n",
      "증상: 콧물이 있을 때 동반될 수 있는 증상으로는 발열, 빈호흡, 산소포화도 저하 등이 있습니다. 눈의 간지러움, 눈물 등이 동반될 수 있고, 코가 막힐 경우 입으로 숨을 쉬거나 목이 부을 수도 있다.\n",
      "병명: 영유아콧물\n",
      "----------------------------------------------------------------------------------------------------\n",
      "{'row': 8, 'source': '/Users/jangminsoo/Desktop/dev/Medical-project/LLM_embedding_change/ko-sroberta-multitask/jhgan/combined_data.csv'}\n",
      ":\n",
      "증상: 콧물이 있을 때 동반될 수 있는 증상으로는 발열, 빈호흡, 산소포화도 저하 등이 있습니다. 눈의 간지러움, 눈물 등이 동반될 수 있고, 코가 막힐 경우 입으로 숨을 쉬거나 목이 부을 수도 있다.\n",
      "병명: 영유아콧물\n",
      "----------------------------------------------------------------------------------------------------\n",
      "{'row': 6, 'source': '/Users/jangminsoo/Desktop/dev/Medical-project/LLM_embedding_change/ko-sroberta-multitask/jhgan/combined_data.csv'}\n",
      ":\n",
      "증상: 콧물이 있을 때 동반될 수 있는 증상으로는 발열, 빈호흡, 산소포화도 저하 등이 있습니다. 눈의 간지러움, 눈물 등이 동반될 수 있고, 코가 막힐 경우 입으로 숨을 쉬거나 목이 부을 수도 있다.\n",
      "병명: 영유아콧물\n",
      "----------------------------------------------------------------------------------------------------\n",
      "{'row': 6, 'source': '/Users/jangminsoo/Desktop/dev/Medical-project/LLM_embedding_change/ko-sroberta-multitask/jhgan/combined_data.csv'}\n",
      ":\n",
      "증상: 콧물이 있을 때 동반될 수 있는 증상으로는 발열, 빈호흡, 산소포화도 저하 등이 있습니다. 눈의 간지러움, 눈물 등이 동반될 수 있고, 코가 막힐 경우 입으로 숨을 쉬거나 목이 부을 수도 있다.\n",
      "병명: 영유아콧물\n",
      "----------------------------------------------------------------------------------------------------\n",
      "{'row': 6, 'source': '/Users/jangminsoo/Desktop/dev/Medical-project/LLM_embedding_change/ko-sroberta-multitask/jhgan/combined_data.csv'}\n",
      ":\n",
      "증상: 콧물이 있을 때 동반될 수 있는 증상으로는 발열, 빈호흡, 산소포화도 저하 등이 있습니다. 눈의 간지러움, 눈물 등이 동반될 수 있고, 코가 막힐 경우 입으로 숨을 쉬거나 목이 부을 수도 있다.\n",
      "병명: 영유아콧물\n",
      "----------------------------------------------------------------------------------------------------\n"
     ]
    }
   ],
   "source": [
    "# 각각의 BM25 Retriever와 Chroma Retriever에서 결과를 가져옵니다.\n",
    "bm25_docs = bm25_retriever.invoke(\"콧물이 있고 기침과 열이 있습니다\")\n",
    "chroma_docs = chroma_retriever.invoke(\"콧물이 있고 기침과 열이 있습니다\")\n",
    "\n",
    "# 각 엔진에서 상위 n개의 문서를 가져옵니다.\n",
    "top_bm25_docs = bm25_docs[:5]  # n은 원하는 상위 문서의 개수입니다.\n",
    "top_chroma_docs = chroma_docs[:5]  # n은 원하는 상위 문서의 개수입니다.\n",
    "\n",
    "# 선택된 상위 문서를 결합하여 최종 결과를 생성합니다.\n",
    "ensemble_docs = top_bm25_docs + top_chroma_docs\n",
    "\n",
    "# 최종 결과를 출력합니다.\n",
    "print(\"종합 결과:\")\n",
    "for doc in ensemble_docs:\n",
    "    print(doc.metadata)\n",
    "    print(\":\")\n",
    "    print(doc.page_content)\n",
    "    print(\"-\"*100)\n",
    "\n"
   ]
  },
  {
   "cell_type": "markdown",
   "metadata": {},
   "source": [
    "### prompt 적용"
   ]
  },
  {
   "cell_type": "code",
   "execution_count": 160,
   "metadata": {},
   "outputs": [],
   "source": [
    "# RAG prompt\n",
    "from langchain import hub\n",
    "prompt = hub.pull(\"rlm/rag-prompt-llama\")"
   ]
  },
  {
   "cell_type": "code",
   "execution_count": 161,
   "metadata": {},
   "outputs": [],
   "source": [
    "from langchain.chains import RetrievalQA"
   ]
  },
  {
   "cell_type": "code",
   "execution_count": 166,
   "metadata": {},
   "outputs": [],
   "source": [
    "# RetrievalQA\n",
    "qa_chain = RetrievalQA.from_chain_type(\n",
    "    llm,\n",
    "    retriever=ensemble_retriever,\n",
    "    return_source_documents = True,\n",
    "    chain_type_kwargs={\"prompt\": prompt}\n",
    ")"
   ]
  },
  {
   "cell_type": "code",
   "execution_count": 111,
   "metadata": {},
   "outputs": [],
   "source": [
    "# gemini = ChatGoogleGenerativeAI(model=\"gemini-pro\", temperature = 0) # 답변의 일관성을 위한 0 값\n",
    "\n",
    "# chain = RunnableMap({\n",
    "#     \"context\": lambda x: ensemble_retriever.invoke(x['question']),\n",
    "#     \"question\": lambda x: x['question']\n",
    "# }) | prompt | gemini"
   ]
  },
  {
   "cell_type": "code",
   "execution_count": 163,
   "metadata": {},
   "outputs": [
    {
     "data": {
      "text/plain": [
       "{'query': '열과 기침이 있는데 무슨 증상인가요?',\n",
       " 'result': '열과 기침이 있는 증상에 대해서는 주어진 텍스트에서 정보를 찾을 수 없습니다.'}"
      ]
     },
     "execution_count": 163,
     "metadata": {},
     "output_type": "execute_result"
    }
   ],
   "source": [
    "question = \"열과 기침이 있는데 무슨 증상인가요?\"\n",
    "qa_chain.invoke({\"query\": question})"
   ]
  },
  {
   "cell_type": "code",
   "execution_count": 176,
   "metadata": {},
   "outputs": [
    {
     "data": {
      "text/plain": [
       "'귀에 통증이 있고 고름이 잡히는 증상은 종기의 증상입니다. 종기는 초기에는 단단하고 만지면 아픈 붉은 결절로 시작하여 점차 커지면서 통증이 심해지고 고름이 잡힙니다. 후기에는 손가락으로 가볍게 눌러도 움푹 패일 정도로 물렁물렁해집니다.'"
      ]
     },
     "execution_count": 176,
     "metadata": {},
     "output_type": "execute_result"
    }
   ],
   "source": [
    "question = \"귀에 통증 있고 고름이 있습니다 무슨 증상인가요?\"\n",
    "result = qa_chain({\"query\": question})\n",
    "result[\"result\"]"
   ]
  },
  {
   "cell_type": "code",
   "execution_count": 177,
   "metadata": {},
   "outputs": [
    {
     "name": "stdout",
     "output_type": "stream",
     "text": [
      "증상: 귀의 통증이 나타난다.\n",
      "병명: 이통\n",
      "증상: 일반적으로 귓바퀴가 머리로부터 대략 1.7~2cm 떨어져 있는데, 돌출귀는 이보다 더 멀리 떨어져 있다. 심한 경우에는 이륜이 전혀 구부러져 있지 않아 귓바퀴가 조가비(조개의 껍데기) 모양일 때도 있다. 양쪽 귀에 동시에 나타나는 경우가 많다.\n",
      "병명: 돌출귀\n",
      "증상: 초기에는 단단하고 만지면 아픈 붉은 결절로 시작하여 점차 커지면서 통증이 심해지고 고름이 잡힌다(화농). 후기에는 손가락으로 가볍게 눌러도 움푹 패일 정도로 물렁물렁해지고, 완전히 곪으면 고름이 터져 배출된다. 2~3주 후에 흉터나 색소 침착을 남기면서 치유가 되며, 색소 침착은 수개월에 걸쳐 옅어진다. 대부분 전신 증상은 없지만, 큰 종기(carbuncle)의 경우에는 발열이나 오한, 몸살과 같은 전신 증상이 동반될 수도 있다. \n",
      "\n",
      "\n",
      "종기 증상\n",
      "병명: 종기\n",
      "통증이 가라앉는 경우도 있습니다 (야간 통곡).질병이 어느 정도 진행되면, 엄지 쪽에 감각이 떨어져 엄지 근육의 위약(쇠약) 및 위축이 나타나기도 하며, 손의 힘이 약해지고 손목을 잘 못쓰는 것과 같은 운동 마비 증세가 발생하기도 합니다. 손가락 및 손바닥이 부은 것 같은 부종감을 호소하나 일반적으로 실제적으로 부어있지는 않습니다. 찬물에 손을 넣거나 날씨가 추우면 손끝이 유난히 시리고 저린 증상도 흔히 관찰됩니다.\n",
      "증상: 특징적인 증상은 손목 통증과 함께, 정중신경의 지배부위인 엄지, 검지 및 중지 및 손바닥 부위의 저림 증상이 밤에 심해지는 것입니다. 이러한 유발 증상이 있으면 수근관 증후군일 가능성이 더욱 높아집니다. 간혹 정중신경의 압박이 심한 경우 저림 및 감각 저하를 넘어 엄지 근육의 쇠약 및 위축이 나타나기도 합니다.증상은 통증과 감각이상 및 운동장애로 나누어 볼 수 있습니다. 엄지, 검지, 중지, 손바닥 부위에서 저리고 타는 듯한 통증과 손 저림, 이상 감각을 호소합니다. 통증 및 이상 감각의 성격은 불확실하고 모호한 경우도 있습니다. 1~2분 동안 손목을 굽히고 있을 때 해당 부위에 저림이 유발되기도 하고, 손목을 두드릴 때 동일한 증상이 유발되기도 합니다. 심한 경우 잠자는 도중에도 손이 타는 듯한 통증을 느껴서 잠에서 깨고 난 후 손목을 터는 것과 같이 손과 손목을 움직이는 동작을 계속하면 통증이 가라앉는 경우도 있습니다 (야간 통곡).질병이 어느 정도 진행되면, 엄지 쪽에\n",
      "어떤 일이 일어났는지 기억을 못하는 경우가 있다.발작 후에는 한동안 정신적인 혼란스러움과 말하기에 어려움을 겪으며, 발작 동안 무슨 일이 일어났는지 회상할 수 없으며 다른 사람이 발작이 있었다고 말해주지 않으면 자신이 발작했었는지 전혀 알 수 없을 수도 있다. 극단적인 경우에는 측두엽 뇌전증 발작인 전신적인 강직 간대성 대발작(Grand mall seizure, tonic-clonic seizure)으로 확대되어 완전한 의식소실과 경련을 보일 수도 있으나 측두엽 뇌전증 환자의 약 반수에서는 이런 대발작을 보이지 않는다고 알려져 있다.\n"
     ]
    }
   ],
   "source": [
    "for i in result['source_documents']:\n",
    "    print(i.page_content)"
   ]
  },
  {
   "cell_type": "code",
   "execution_count": null,
   "metadata": {},
   "outputs": [],
   "source": []
  }
 ],
 "metadata": {
  "kernelspec": {
   "display_name": "base",
   "language": "python",
   "name": "python3"
  },
  "language_info": {
   "codemirror_mode": {
    "name": "ipython",
    "version": 3
   },
   "file_extension": ".py",
   "mimetype": "text/x-python",
   "name": "python",
   "nbconvert_exporter": "python",
   "pygments_lexer": "ipython3",
   "version": "3.11.5"
  }
 },
 "nbformat": 4,
 "nbformat_minor": 2
}
