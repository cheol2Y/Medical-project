{
 "cells": [
  {
   "cell_type": "markdown",
   "metadata": {},
   "source": [
    "## 1. 한국어 전처리"
   ]
  },
  {
   "cell_type": "markdown",
   "metadata": {},
   "source": [
    "### PyKoSpacing (띄어쓰기 패키지)"
   ]
  },
  {
   "cell_type": "code",
   "execution_count": 1,
   "metadata": {},
   "outputs": [
    {
     "name": "stdout",
     "output_type": "stream",
     "text": [
      "Collecting git+https://github.com/haven-jeon/PyKoSpacing.git\n",
      "  Cloning https://github.com/haven-jeon/PyKoSpacing.git to /private/var/folders/xt/nrdqgvqd1jv0kcb4nmwtdsxm0000gn/T/pip-req-build-554cexja\n",
      "  Running command git clone --filter=blob:none --quiet https://github.com/haven-jeon/PyKoSpacing.git /private/var/folders/xt/nrdqgvqd1jv0kcb4nmwtdsxm0000gn/T/pip-req-build-554cexja\n",
      "  Resolved https://github.com/haven-jeon/PyKoSpacing.git to commit 04aeebcbe26b109486a642e57dc58665c4818cf3\n",
      "  Preparing metadata (setup.py) ... \u001b[?25ldone\n",
      "\u001b[?25hBuilding wheels for collected packages: pykospacing\n",
      "  Building wheel for pykospacing (setup.py) ... \u001b[?25ldone\n",
      "\u001b[?25h  Created wheel for pykospacing: filename=pykospacing-0.5-py3-none-any.whl size=2270623 sha256=e932986f0d83afb68b11bbc7ee7c9739cda4382cc16bde0408dae8d9cd4af03e\n",
      "  Stored in directory: /private/var/folders/xt/nrdqgvqd1jv0kcb4nmwtdsxm0000gn/T/pip-ephem-wheel-cache-irhmc48h/wheels/76/b3/33/dda14886ee76b8e53eb05580a14dfcf9145e9eb9d282c53f28\n",
      "Successfully built pykospacing\n",
      "Installing collected packages: pykospacing\n",
      "Successfully installed pykospacing-0.5\n",
      "Note: you may need to restart the kernel to use updated packages.\n"
     ]
    }
   ],
   "source": [
    "# pip install git+https://github.com/haven-jeon/PyKoSpacing.git\n"
   ]
  },
  {
   "cell_type": "code",
   "execution_count": null,
   "metadata": {},
   "outputs": [],
   "source": [
    "# pip install tensorflow\n",
    "from pykospacing import Spacing\n",
    "spacing = Spacing()"
   ]
  },
  {
   "cell_type": "code",
   "execution_count": 7,
   "metadata": {},
   "outputs": [],
   "source": [
    "import json\n",
    "\n",
    "file_path = \"/Users/sseungpp/dev/전처리연습/0302_test.json\"\n",
    "\n",
    "with open(file_path, \"r\", encoding=\"utf-8\") as file:\n",
    "    data = json.load(file)\n"
   ]
  },
  {
   "cell_type": "code",
   "execution_count": 11,
   "metadata": {},
   "outputs": [
    {
     "data": {
      "text/plain": [
       "[{'Date': '2024-02-28',\n",
       "  'Title': '가다실 접종후 피지낭종 수술을 했는데 괜찮을까요? + 가다실에 관해',\n",
       "  'Question': '1. 가다실 접종 후 3일 뒤에 피지낭종 수술을 했습니다.수술 후 항생제를 3일 복용했는데 가다실 효과가 떨어지거나 하진않나요?2. 접종 후 이틀 뒤에 일이 있어서 무리하게 밤을 샜는데 접종부위쪽이 조금 시큰거리더라고요이것또한 가다실 효과에 영향은 없을까요?3. 보통 가다실 접종 3회면 항체가 생긴다고 알고있는데 3회 접종 이후 주의사항 있을까요?4. 접종 후 운동은 언제부터 가능한가요?',\n",
       "  'Doctors': ['김경남 전문의'],\n",
       "  'Hospitals': ['가톨릭대학교 성빈센트병원'],\n",
       "  'Answers': '가다실 백신을 맞고 15분간 병원에서 안정을 취하는 것이 좋고염증의 위험이 있으므로 음주는 자제해야 하며,가다실 백신은 접종자 컨디션이 중요하기 때문에,접종 후 하루 이틀은 격한 운동은 자제해야 합니다.효과적인 항체 생성을 위해 1-2주 간 심한 음주와 흡연은 피해주세요. 건승하세요.'},\n",
       " {'Date': '2024-02-28',\n",
       "  'Title': '왼쪽어깨통증과두통과가슴통증',\n",
       "  'Question': '엊그제부터 물설사와 두통이심하고 왼쪽어깨가 계속 통증이있습니다. 왼쪽가슴에 통증이 가끔있고 몸이 힘이없고 추운데 몸살인가요? 아니면 다른증상인가요',\n",
       "  'Doctors': ['이이호 전문의'],\n",
       "  'Hospitals': ['창원파티마병원'],\n",
       "  'Answers': '왼쪽 어깨 통증과 두통, 가슴 통증, 몸살 증상은 다양한 원인으로 발생할 수 있습니다. 가장 흔한 원인은 감기나 독감입니다. 감기나 독감이 있으면 두통, 몸살, 가슴 통증 등의 증상이 나타날 수 있습니다. 또한, 왼쪽 어깨 통증은 왼쪽 어깨에 있는 근육이나 인대의 손상, 왼쪽 어깨에 있는 관절의 염증, 왼쪽 어깨에 있는 신경의 손상 등으로 인해 발생할 수 있습니다. 왼쪽 가슴 통증은 심장 질환, 폐 질환, 늑골 골절, 근육통, 신경통 등으로 인해 발생할 수 있습니다. 따라서 왼쪽 어깨 통증과 두통, 가슴 통증, 몸살 증상이 나타난다면 병원에서 진료를 받아보는 것이 좋습니다. 병원에서는 증상에 대한 자세한 문진과 진찰, 검사 등을 통해 원인을 진단하고 적절한 치료를 받을 수 있습니다.'}]"
      ]
     },
     "execution_count": 11,
     "metadata": {},
     "output_type": "execute_result"
    }
   ],
   "source": [
    "data"
   ]
  },
  {
   "cell_type": "code",
   "execution_count": 14,
   "metadata": {},
   "outputs": [
    {
     "data": {
      "text/plain": [
       "'왼쪽어깨통증과두통과가슴통증'"
      ]
     },
     "execution_count": 14,
     "metadata": {},
     "output_type": "execute_result"
    }
   ],
   "source": [
    "before_ = data[1]['Title']\n",
    "before_"
   ]
  },
  {
   "cell_type": "code",
   "execution_count": 15,
   "metadata": {},
   "outputs": [
    {
     "data": {
      "text/plain": [
       "'왼쪽 어깨통증과 두통과 가슴 통증'"
      ]
     },
     "execution_count": 15,
     "metadata": {},
     "output_type": "execute_result"
    }
   ],
   "source": [
    "after_ = spacing(before_)\n",
    "after_"
   ]
  },
  {
   "cell_type": "markdown",
   "metadata": {},
   "source": [
    "### Py-Hanspell (맞춤법 검사기 패키지)"
   ]
  },
  {
   "cell_type": "code",
   "execution_count": 16,
   "metadata": {},
   "outputs": [
    {
     "name": "stdout",
     "output_type": "stream",
     "text": [
      "Collecting git+https://github.com/ssut/py-hanspell.git\n",
      "  Cloning https://github.com/ssut/py-hanspell.git to /private/var/folders/xt/nrdqgvqd1jv0kcb4nmwtdsxm0000gn/T/pip-req-build-82fmlcr6\n",
      "  Running command git clone --filter=blob:none --quiet https://github.com/ssut/py-hanspell.git /private/var/folders/xt/nrdqgvqd1jv0kcb4nmwtdsxm0000gn/T/pip-req-build-82fmlcr6\n",
      "  Resolved https://github.com/ssut/py-hanspell.git to commit fdc6ca50c19f1c85971437a072d89d4e5ce024b8\n",
      "  Preparing metadata (setup.py) ... \u001b[?25ldone\n",
      "\u001b[?25hRequirement already satisfied: requests in /Users/sseungpp/dev/.venv/lib/python3.11/site-packages (from py-hanspell==1.1) (2.31.0)\n",
      "Requirement already satisfied: charset-normalizer<4,>=2 in /Users/sseungpp/dev/.venv/lib/python3.11/site-packages (from requests->py-hanspell==1.1) (3.3.2)\n",
      "Requirement already satisfied: idna<4,>=2.5 in /Users/sseungpp/dev/.venv/lib/python3.11/site-packages (from requests->py-hanspell==1.1) (3.6)\n",
      "Requirement already satisfied: urllib3<3,>=1.21.1 in /Users/sseungpp/dev/.venv/lib/python3.11/site-packages (from requests->py-hanspell==1.1) (2.2.0)\n",
      "Requirement already satisfied: certifi>=2017.4.17 in /Users/sseungpp/dev/.venv/lib/python3.11/site-packages (from requests->py-hanspell==1.1) (2024.2.2)\n",
      "Building wheels for collected packages: py-hanspell\n",
      "  Building wheel for py-hanspell (setup.py) ... \u001b[?25ldone\n",
      "\u001b[?25h  Created wheel for py-hanspell: filename=py_hanspell-1.1-py3-none-any.whl size=4809 sha256=f5af6a895190ff3f6d8baaf42a02a8fa92fe4cece422b149da0ae5b2f2ed3e01\n",
      "  Stored in directory: /private/var/folders/xt/nrdqgvqd1jv0kcb4nmwtdsxm0000gn/T/pip-ephem-wheel-cache-ji9qf45u/wheels/18/0f/39/d0e3972de3368ba3ab62817cd7b17a74123414afd774ce604b\n",
      "Successfully built py-hanspell\n",
      "Installing collected packages: py-hanspell\n",
      "Successfully installed py-hanspell-1.1\n",
      "Note: you may need to restart the kernel to use updated packages.\n"
     ]
    }
   ],
   "source": [
    "# pip install git+https://github.com/ssut/py-hanspell.git\n"
   ]
  },
  {
   "cell_type": "markdown",
   "metadata": {},
   "source": [
    "### Soynlp를 이용한 반복되는 문자 정제"
   ]
  },
  {
   "cell_type": "code",
   "execution_count": 32,
   "metadata": {},
   "outputs": [],
   "source": [
    "from soynlp.normalizer import *"
   ]
  },
  {
   "cell_type": "code",
   "execution_count": 35,
   "metadata": {},
   "outputs": [
    {
     "name": "stdout",
     "output_type": "stream",
     "text": [
      "아ㅋㅋ영화존잼쓰ㅠㅠ\n",
      "아ㅋㅋ영화존잼쓰ㅠㅠ\n",
      "아ㅋㅋ영화존잼쓰ㅠㅠ\n",
      "아ㅋㅋ영화존잼쓰ㅠㅠ\n"
     ]
    }
   ],
   "source": [
    "print(emoticon_normalize('앜ㅋㅋㅋㅋ이영화존잼쓰ㅠㅠㅠㅠㅠ', num_repeats=2))\n",
    "print(emoticon_normalize('앜ㅋㅋㅋㅋㅋㅋㅋㅋㅋ이영화존잼쓰ㅠㅠㅠㅠ', num_repeats=2))\n",
    "print(emoticon_normalize('앜ㅋㅋㅋㅋㅋㅋㅋㅋㅋㅋㅋㅋ이영화존잼쓰ㅠㅠㅠㅠㅠㅠ', num_repeats=2))\n",
    "print(emoticon_normalize('앜ㅋㅋㅋㅋㅋㅋㅋㅋㅋㅋㅋㅋㅋㅋㅋㅋㅋ이영화존잼쓰ㅠㅠㅠㅠㅠㅠㅠㅠ', num_repeats=2))\n"
   ]
  },
  {
   "cell_type": "markdown",
   "metadata": {},
   "source": [
    "### 특수문자 제거 전처리"
   ]
  },
  {
   "cell_type": "code",
   "execution_count": 47,
   "metadata": {},
   "outputs": [],
   "source": [
    "special_ = \"- 상담내용 : 게보린만 먹음 설사를 합니다..  처음에는  게보린 부작용인줄 모르고낫에 먹은 음식떼문에 배탈이 난줄만 알았습니다.  몇개월전  인터넷에 타이레놀 부작용 때문에 설사 냄새 등등 으로 니콜관련기사(다른나라)를 보고  이게 약부작용 인줄 알았습니다...  다른진통제는 먹어도 효과는 없고 전 게보린은 효과는 직빵 (치통) 입니다.  게보린  만드는 제약회사에는 병원 진단서가 없다고  확인 안해줌  식약청도 마찬가지  게보린 먹음 진짜  심화게 발열  , 설사  가려움  미치고 환장 합니다.게보린은 먹어야 되는데  부작용이 너무 심합니다  어떠게 해야되나여..제약회사에는 병원비는 준다고함  의사 진단서만 있음 ㅋㅋㅋ\""
   ]
  },
  {
   "cell_type": "code",
   "execution_count": 55,
   "metadata": {},
   "outputs": [
    {
     "name": "stdout",
     "output_type": "stream",
     "text": [
      "특수 문자 제거 후 텍스트:  상담내용  게보린만 먹음 설사를 합니다..  처음에는  게보린 부작용인줄 모르고낫에 먹은 음식떼문에 배탈이 난줄만 알았습니다.  몇개월전  인터넷에 타이레놀 부작용 때문에 설사 냄새 등등 으로 니콜관련기사다른나라를 보고  이게 약부작용 인줄 알았습니다...  다른진통제는 먹어도 효과는 없고 전 게보린은 효과는 직빵 치통 입니다.  게보린  만드는 제약회사에는 병원 진단서가 없다고  확인 안해줌  식약청도 마찬가지  게보린 먹음 진짜  심화게 발열   설사  가려움  미치고 환장 합니다.게보린은 먹어야 되는데  부작용이 너무 심합니다  어떠게 해야되나여..제약회사에는 병원비는 준다고함  의사 진단서만 있음 ㅋㅋㅋ\n"
     ]
    }
   ],
   "source": [
    "import re\n",
    "\n",
    "def remove_special_characters(text):\n",
    "    # 특수 문자를 제거할 정규 표현식 패턴 (마침표는 제외)\n",
    "    pattern = r'[^\\w\\s가-힣.]'  # 알파벳, 숫자, 한글, 마침표, 공백을 제외한 모든 문자\n",
    "    \n",
    "    # 정규 표현식을 사용하여 특수 문자를 제거하고 반환\n",
    "    return re.sub(pattern, '', text)\n",
    "\n",
    "# 특수 문자를 제거할 텍스트\n",
    "text = \"- 상담내용 : 게보린만 먹음 설사를 합니다..  처음에는  게보린 부작용인줄 모르고낫에 먹은 음식떼문에 배탈이 난줄만 알았습니다.  몇개월전  인터넷에 타이레놀 부작용 때문에 설사 냄새 등등 으로 니콜관련기사(다른나라)를 보고  이게 약부작용 인줄 알았습니다...  다른진통제는 먹어도 효과는 없고 전 게보린은 효과는 직빵 (치통) 입니다.  게보린  만드는 제약회사에는 병원 진단서가 없다고  확인 안해줌  식약청도 마찬가지  게보린 먹음 진짜  심화게 발열  , 설사  가려움  미치고 환장 합니다.게보린은 먹어야 되는데  부작용이 너무 심합니다  어떠게 해야되나여..제약회사에는 병원비는 준다고함  의사 진단서만 있음 ㅋㅋㅋ\"\n",
    "\n",
    "# 특수 문자 제거 전처리 적용\n",
    "cleaned_text = remove_special_characters(text)\n",
    "\n",
    "# 결과 출력\n",
    "print(\"특수 문자 제거 후 텍스트:\", cleaned_text)\n"
   ]
  },
  {
   "cell_type": "code",
   "execution_count": null,
   "metadata": {},
   "outputs": [],
   "source": []
  }
 ],
 "metadata": {
  "kernelspec": {
   "display_name": ".venv",
   "language": "python",
   "name": "python3"
  },
  "language_info": {
   "codemirror_mode": {
    "name": "ipython",
    "version": 3
   },
   "file_extension": ".py",
   "mimetype": "text/x-python",
   "name": "python",
   "nbconvert_exporter": "python",
   "pygments_lexer": "ipython3",
   "version": "3.11.7"
  }
 },
 "nbformat": 4,
 "nbformat_minor": 2
}
